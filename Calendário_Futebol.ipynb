{
  "cells": [
    {
      "cell_type": "markdown",
      "metadata": {
        "id": "view-in-github",
        "colab_type": "text"
      },
      "source": [
        "<a href=\"https://colab.research.google.com/github/fabianobio/Data_science/blob/main/Calend%C3%A1rio_Futebol.ipynb\" target=\"_parent\"><img src=\"https://colab.research.google.com/assets/colab-badge.svg\" alt=\"Open In Colab\"/></a>"
      ]
    },
    {
      "cell_type": "markdown",
      "metadata": {
        "id": "LPftcTqaYDN7"
      },
      "source": [
        "# Instalando as Bibliotecas e as Dependências"
      ]
    },
    {
      "cell_type": "code",
      "execution_count": null,
      "metadata": {
        "id": "kOfLck7MUyMU"
      },
      "outputs": [],
      "source": [
        "# Instalando o Selenium\n",
        "!pip install selenium\n",
        "\n",
        "# Atualizando o Ubuntu para executar corretamento o apt-install\n",
        "!apt-get update\n",
        "\n",
        "# Instalando o ChromeDrive e Trazendo ele para a Pasta Local\n",
        "!apt install chromium-chromedriver\n",
        "\n",
        "!cp /usr/lib/chromium-browser/chromedriver /usr/bin\n",
        "import sys\n",
        "sys.path.insert(0,'/usr/lib/chromium-browser/chromedriver')\n"
      ]
    },
    {
      "cell_type": "markdown",
      "metadata": {
        "id": "SxNjCaz_ZDBZ"
      },
      "source": [
        "# Configuração do Web-Driver"
      ]
    },
    {
      "cell_type": "code",
      "source": [
        "from google.colab import drive\n",
        "drive.mount('/content/drive')"
      ],
      "metadata": {
        "id": "6-g_iwV0nrJx",
        "colab": {
          "base_uri": "https://localhost:8080/"
        },
        "outputId": "bcd2fc3c-af6b-4719-95a5-99e56f7b2583"
      },
      "execution_count": null,
      "outputs": [
        {
          "output_type": "stream",
          "name": "stdout",
          "text": [
            "Mounted at /content/drive\n"
          ]
        }
      ]
    },
    {
      "cell_type": "code",
      "execution_count": null,
      "metadata": {
        "id": "OY4Ek8bfZGqx"
      },
      "outputs": [],
      "source": [
        "# Utilizando o WebDriver do Selenium\n",
        "from selenium import webdriver\n",
        "\n",
        "# Instanciando o Objeto ChromeOptions\n",
        "options = webdriver.ChromeOptions()\n",
        "\n",
        "# Passando algumas opções para esse ChromeOptions\n",
        "options.add_argument('--headless')\n",
        "options.add_argument('--no-sandbox')\n",
        "options.add_argument('--disable-dev-shm-usage')\n",
        "\n",
        "# Criação do WebDriver do Chrome\n",
        "wd_Chrome = webdriver.Chrome('chromedriver',options=options)\n",
        "wd_Chrome.maximize_window()"
      ]
    },
    {
      "cell_type": "markdown",
      "metadata": {
        "id": "pi0oq8wsZu1o"
      },
      "source": [
        "# Importando as Bibliotecas"
      ]
    },
    {
      "cell_type": "code",
      "execution_count": null,
      "metadata": {
        "id": "vDKoCo8cVelD"
      },
      "outputs": [],
      "source": [
        "import pandas as pd\n",
        "import time\n",
        "from tqdm import tqdm\n",
        "from selenium.webdriver.common.by import By"
      ]
    },
    {
      "cell_type": "markdown",
      "metadata": {
        "id": "FlNkojcdZybT"
      },
      "source": [
        "# Iniciando a Raspagem de Dados"
      ]
    },
    {
      "cell_type": "markdown",
      "source": [
        "# Campeonato Brasileiro Série A - 2022 - Resultados (Jogos que já aconteceram)"
      ],
      "metadata": {
        "id": "buhve9q3BIie"
      }
    },
    {
      "cell_type": "code",
      "execution_count": null,
      "metadata": {
        "id": "eX6re9bjViBI"
      },
      "outputs": [],
      "source": [
        "# Com o WebDrive a gente consegue a pedir a página (URL)\n",
        "wd_Chrome.get(\"https://www.flashscore.com.br/futebol/brasil/serie-b/resultados/\")\n",
        "time.sleep(2)\n",
        "\n",
        "# Clicando no Botão \"Mostrar mais jogos\"\n",
        "botao_mais = wd_Chrome.find_element(By.XPATH, '//*[@id=\"live-table\"]/div[1]/div/div/a')\n",
        "\n",
        "while True:\n",
        "  try:\n",
        "    botao_mais = wd_Chrome.find_element(By.XPATH, '//*[@id=\"live-table\"]/div[1]/div/div/a')\n",
        "    wd_Chrome.execute_script('arguments[0].click();', botao_mais)\n",
        "    time.sleep(5)\n",
        "  except:\n",
        "    break"
      ]
    },
    {
      "cell_type": "code",
      "execution_count": null,
      "metadata": {
        "id": "wL3Nnue6Vt5T"
      },
      "outputs": [],
      "source": [
        "# Pegando o ID dos Jogos\n",
        "id_jogos = []\n",
        "jogos = wd_Chrome.find_elements(By.CSS_SELECTOR,'div.event__match--static')\n",
        "\n",
        "for i in jogos:\n",
        "    id_jogos.append(i.get_attribute(\"id\"))\n",
        "\n",
        "# Exemplo de ID de um jogo: 'g_1_Gb7buXVt'    \n",
        "id_jogos = [i[4:] for i in id_jogos]\n",
        "\n",
        "jogo = {'Date':[],'Time':[],'Country':[],'League':[],'Home':[],'Away':[]}"
      ]
    },
    {
      "cell_type": "code",
      "execution_count": null,
      "metadata": {
        "id": "pfPc-OYBak9y",
        "colab": {
          "base_uri": "https://localhost:8080/"
        },
        "outputId": "7fa305fa-23b9-4d52-d200-c12ac4b612bb"
      },
      "outputs": [
        {
          "output_type": "stream",
          "name": "stderr",
          "text": [
            "  0%|          | 1/380 [00:02<13:48,  2.19s/it]"
          ]
        },
        {
          "output_type": "stream",
          "name": "stdout",
          "text": [
            "06.11.2022 21:30 BRASIL SÉRIE B - RODADA 38 CRB Bahia\n"
          ]
        },
        {
          "output_type": "stream",
          "name": "stderr",
          "text": [
            "\r  1%|          | 2/380 [00:04<14:43,  2.34s/it]"
          ]
        },
        {
          "output_type": "stream",
          "name": "stdout",
          "text": [
            "06.11.2022 21:30 BRASIL SÉRIE B - RODADA 38 Cruzeiro CSA\n"
          ]
        },
        {
          "output_type": "stream",
          "name": "stderr",
          "text": [
            "\r  1%|          | 3/380 [00:06<13:16,  2.11s/it]"
          ]
        },
        {
          "output_type": "stream",
          "name": "stdout",
          "text": [
            "06.11.2022 21:30 BRASIL SÉRIE B - RODADA 38 Ituano Vasco\n"
          ]
        },
        {
          "output_type": "stream",
          "name": "stderr",
          "text": [
            "\r  1%|          | 4/380 [00:08<13:53,  2.22s/it]"
          ]
        },
        {
          "output_type": "stream",
          "name": "stdout",
          "text": [
            "06.11.2022 21:30 BRASIL SÉRIE B - RODADA 38 Operário Novorizontino\n"
          ]
        },
        {
          "output_type": "stream",
          "name": "stderr",
          "text": [
            "\r  1%|▏         | 5/380 [00:10<13:06,  2.10s/it]"
          ]
        },
        {
          "output_type": "stream",
          "name": "stdout",
          "text": [
            "06.11.2022 21:30 BRASIL SÉRIE B - RODADA 38 Vila Nova Sport\n"
          ]
        },
        {
          "output_type": "stream",
          "name": "stderr",
          "text": [
            "\r  2%|▏         | 6/380 [00:12<11:59,  1.92s/it]"
          ]
        },
        {
          "output_type": "stream",
          "name": "stdout",
          "text": [
            "06.11.2022 19:00 BRASIL SÉRIE B - RODADA 38 Guarani Chapecoense\n"
          ]
        },
        {
          "output_type": "stream",
          "name": "stderr",
          "text": [
            "\r  2%|▏         | 7/380 [00:14<12:09,  1.96s/it]"
          ]
        },
        {
          "output_type": "stream",
          "name": "stdout",
          "text": [
            "05.11.2022 21:00 BRASIL SÉRIE B - RODADA 38 Sampaio Corrêa Londrina\n"
          ]
        },
        {
          "output_type": "stream",
          "name": "stderr",
          "text": [
            "\r  2%|▏         | 8/380 [00:16<12:13,  1.97s/it]"
          ]
        },
        {
          "output_type": "stream",
          "name": "stdout",
          "text": [
            "05.11.2022 19:00 BRASIL SÉRIE B - RODADA 38 Criciúma Tombense\n"
          ]
        },
        {
          "output_type": "stream",
          "name": "stderr",
          "text": [
            "\r  2%|▏         | 9/380 [00:18<11:35,  1.87s/it]"
          ]
        },
        {
          "output_type": "stream",
          "name": "stdout",
          "text": [
            "05.11.2022 00:30 BRASIL SÉRIE B - RODADA 38 Náutico Ponte Preta\n"
          ]
        },
        {
          "output_type": "stream",
          "name": "stderr",
          "text": [
            "\r  3%|▎         | 10/380 [00:20<11:51,  1.92s/it]"
          ]
        },
        {
          "output_type": "stream",
          "name": "stdout",
          "text": [
            "03.11.2022 23:00 BRASIL SÉRIE B - RODADA 38 Grêmio Brusque\n"
          ]
        },
        {
          "output_type": "stream",
          "name": "stderr",
          "text": [
            "\r  3%|▎         | 11/380 [00:22<11:55,  1.94s/it]"
          ]
        },
        {
          "output_type": "stream",
          "name": "stdout",
          "text": [
            "29.10.2022 22:00 BRASIL SÉRIE B - RODADA 37 Chapecoense Náutico\n"
          ]
        },
        {
          "output_type": "stream",
          "name": "stderr",
          "text": [
            "\r  3%|▎         | 12/380 [00:23<11:46,  1.92s/it]"
          ]
        },
        {
          "output_type": "stream",
          "name": "stdout",
          "text": [
            "29.10.2022 00:30 BRASIL SÉRIE B - RODADA 37 Ponte Preta Criciúma\n"
          ]
        },
        {
          "output_type": "stream",
          "name": "stderr",
          "text": [
            "\r  3%|▎         | 13/380 [00:25<11:29,  1.88s/it]"
          ]
        },
        {
          "output_type": "stream",
          "name": "stdout",
          "text": [
            "28.10.2022 22:00 BRASIL SÉRIE B - RODADA 37 Bahia Guarani\n"
          ]
        },
        {
          "output_type": "stream",
          "name": "stderr",
          "text": [
            "\r  4%|▎         | 14/380 [00:27<11:49,  1.94s/it]"
          ]
        },
        {
          "output_type": "stream",
          "name": "stdout",
          "text": [
            "28.10.2022 22:00 BRASIL SÉRIE B - RODADA 37 Londrina Ituano\n"
          ]
        },
        {
          "output_type": "stream",
          "name": "stderr",
          "text": [
            "\r  4%|▍         | 15/380 [00:29<11:44,  1.93s/it]"
          ]
        },
        {
          "output_type": "stream",
          "name": "stdout",
          "text": [
            "28.10.2022 22:00 BRASIL SÉRIE B - RODADA 37 Sport Operário\n"
          ]
        },
        {
          "output_type": "stream",
          "name": "stderr",
          "text": [
            "\r  4%|▍         | 16/380 [00:31<11:22,  1.88s/it]"
          ]
        },
        {
          "output_type": "stream",
          "name": "stdout",
          "text": [
            "28.10.2022 22:00 BRASIL SÉRIE B - RODADA 37 Tombense Grêmio\n"
          ]
        },
        {
          "output_type": "stream",
          "name": "stderr",
          "text": [
            "\r  4%|▍         | 17/380 [00:33<11:28,  1.90s/it]"
          ]
        },
        {
          "output_type": "stream",
          "name": "stdout",
          "text": [
            "28.10.2022 00:45 BRASIL SÉRIE B - RODADA 37 Vasco Sampaio Corrêa\n"
          ]
        },
        {
          "output_type": "stream",
          "name": "stderr",
          "text": [
            "\r  5%|▍         | 18/380 [00:35<11:32,  1.91s/it]"
          ]
        },
        {
          "output_type": "stream",
          "name": "stdout",
          "text": [
            "27.10.2022 22:00 BRASIL SÉRIE B - RODADA 37 Novorizontino Cruzeiro\n"
          ]
        },
        {
          "output_type": "stream",
          "name": "stderr",
          "text": [
            "\r  5%|▌         | 19/380 [00:37<12:26,  2.07s/it]"
          ]
        },
        {
          "output_type": "stream",
          "name": "stdout",
          "text": [
            "26.10.2022 00:30 BRASIL SÉRIE B - RODADA 37 CSA Vila Nova\n"
          ]
        },
        {
          "output_type": "stream",
          "name": "stderr",
          "text": [
            "\r  5%|▌         | 20/380 [00:39<12:26,  2.07s/it]"
          ]
        },
        {
          "output_type": "stream",
          "name": "stdout",
          "text": [
            "25.10.2022 22:00 BRASIL SÉRIE B - RODADA 37 Brusque CRB\n"
          ]
        },
        {
          "output_type": "stream",
          "name": "stderr",
          "text": [
            "\r  6%|▌         | 21/380 [00:41<12:12,  2.04s/it]"
          ]
        },
        {
          "output_type": "stream",
          "name": "stdout",
          "text": [
            "23.10.2022 19:00 BRASIL SÉRIE B - RODADA 36 Náutico Grêmio\n"
          ]
        },
        {
          "output_type": "stream",
          "name": "stderr",
          "text": [
            "\r  6%|▌         | 22/380 [00:43<11:48,  1.98s/it]"
          ]
        },
        {
          "output_type": "stream",
          "name": "stdout",
          "text": [
            "22.10.2022 19:30 BRASIL SÉRIE B - RODADA 36 Bahia Vila Nova\n"
          ]
        },
        {
          "output_type": "stream",
          "name": "stderr",
          "text": [
            "\r  6%|▌         | 23/380 [00:45<11:04,  1.86s/it]"
          ]
        },
        {
          "output_type": "stream",
          "name": "stdout",
          "text": [
            "22.10.2022 19:30 BRASIL SÉRIE B - RODADA 36 Ituano Sampaio Corrêa\n"
          ]
        },
        {
          "output_type": "stream",
          "name": "stderr",
          "text": [
            "\r  6%|▋         | 24/380 [00:47<11:15,  1.90s/it]"
          ]
        },
        {
          "output_type": "stream",
          "name": "stdout",
          "text": [
            "22.10.2022 19:30 BRASIL SÉRIE B - RODADA 36 Londrina Sport\n"
          ]
        },
        {
          "output_type": "stream",
          "name": "stderr",
          "text": [
            "\r  7%|▋         | 25/380 [00:49<11:33,  1.95s/it]"
          ]
        },
        {
          "output_type": "stream",
          "name": "stdout",
          "text": [
            "22.10.2022 19:30 BRASIL SÉRIE B - RODADA 36 Vasco Criciúma\n"
          ]
        },
        {
          "output_type": "stream",
          "name": "stderr",
          "text": [
            "\r  7%|▋         | 26/380 [00:51<11:14,  1.91s/it]"
          ]
        },
        {
          "output_type": "stream",
          "name": "stdout",
          "text": [
            "22.10.2022 00:30 BRASIL SÉRIE B - RODADA 36 CRB Operário\n"
          ]
        },
        {
          "output_type": "stream",
          "name": "stderr",
          "text": [
            "\r  7%|▋         | 27/380 [00:53<11:39,  1.98s/it]"
          ]
        },
        {
          "output_type": "stream",
          "name": "stdout",
          "text": [
            "21.10.2022 22:15 BRASIL SÉRIE B - RODADA 36 Chapecoense Tombense\n"
          ]
        },
        {
          "output_type": "stream",
          "name": "stderr",
          "text": [
            "\r  7%|▋         | 28/380 [00:55<11:50,  2.02s/it]"
          ]
        },
        {
          "output_type": "stream",
          "name": "stdout",
          "text": [
            "21.10.2022 00:30 BRASIL SÉRIE B - RODADA 36 Ponte Preta CSA\n"
          ]
        },
        {
          "output_type": "stream",
          "name": "stderr",
          "text": [
            "\r  8%|▊         | 29/380 [00:57<12:14,  2.09s/it]"
          ]
        },
        {
          "output_type": "stream",
          "name": "stdout",
          "text": [
            "19.10.2022 00:30 BRASIL SÉRIE B - RODADA 36 Cruzeiro Guarani\n"
          ]
        },
        {
          "output_type": "stream",
          "name": "stderr",
          "text": [
            "\r  8%|▊         | 30/380 [00:59<12:02,  2.06s/it]"
          ]
        },
        {
          "output_type": "stream",
          "name": "stdout",
          "text": [
            "18.10.2022 22:00 BRASIL SÉRIE B - RODADA 36 Brusque Novorizontino\n"
          ]
        },
        {
          "output_type": "stream",
          "name": "stderr",
          "text": [
            "\r  8%|▊         | 31/380 [01:01<11:59,  2.06s/it]"
          ]
        },
        {
          "output_type": "stream",
          "name": "stdout",
          "text": [
            "16.10.2022 19:00 BRASIL SÉRIE B - RODADA 35 Grêmio Bahia\n"
          ]
        },
        {
          "output_type": "stream",
          "name": "stderr",
          "text": [
            "\r  8%|▊         | 32/380 [01:03<10:49,  1.87s/it]"
          ]
        },
        {
          "output_type": "stream",
          "name": "stdout",
          "text": [
            "16.10.2022 19:00 BRASIL SÉRIE B - RODADA 35 Sport Vasco\n"
          ]
        },
        {
          "output_type": "stream",
          "name": "stderr",
          "text": [
            "\r  9%|▊         | 33/380 [01:05<11:08,  1.93s/it]"
          ]
        },
        {
          "output_type": "stream",
          "name": "stdout",
          "text": [
            "15.10.2022 22:00 BRASIL SÉRIE B - RODADA 35 Criciúma Ituano\n"
          ]
        },
        {
          "output_type": "stream",
          "name": "stderr",
          "text": [
            "\r  9%|▉         | 34/380 [01:14<24:02,  4.17s/it]"
          ]
        },
        {
          "output_type": "stream",
          "name": "stdout",
          "text": [
            "15.10.2022 19:30 BRASIL SÉRIE B - RODADA 35 Tombense Ponte Preta\n"
          ]
        },
        {
          "output_type": "stream",
          "name": "stderr",
          "text": [
            "\r  9%|▉         | 35/380 [01:16<20:51,  3.63s/it]"
          ]
        },
        {
          "output_type": "stream",
          "name": "stdout",
          "text": [
            "15.10.2022 00:30 BRASIL SÉRIE B - RODADA 35 Novorizontino Náutico\n"
          ]
        },
        {
          "output_type": "stream",
          "name": "stderr",
          "text": [
            "\r  9%|▉         | 36/380 [01:18<17:54,  3.12s/it]"
          ]
        },
        {
          "output_type": "stream",
          "name": "stdout",
          "text": [
            "14.10.2022 23:30 BRASIL SÉRIE B - RODADA 35 Vila Nova Cruzeiro\n"
          ]
        },
        {
          "output_type": "stream",
          "name": "stderr",
          "text": [
            "\r 10%|▉         | 37/380 [01:21<16:16,  2.85s/it]"
          ]
        },
        {
          "output_type": "stream",
          "name": "stdout",
          "text": [
            "14.10.2022 22:00 BRASIL SÉRIE B - RODADA 35 CSA Londrina\n"
          ]
        },
        {
          "output_type": "stream",
          "name": "stderr",
          "text": [
            "\r 10%|█         | 38/380 [01:23<14:56,  2.62s/it]"
          ]
        },
        {
          "output_type": "stream",
          "name": "stdout",
          "text": [
            "14.10.2022 00:30 BRASIL SÉRIE B - RODADA 35 Operário Brusque\n"
          ]
        },
        {
          "output_type": "stream",
          "name": "stderr",
          "text": [
            "\r 10%|█         | 39/380 [01:25<13:38,  2.40s/it]"
          ]
        },
        {
          "output_type": "stream",
          "name": "stdout",
          "text": [
            "12.10.2022 00:30 BRASIL SÉRIE B - RODADA 35 Sampaio Corrêa Chapecoense\n"
          ]
        },
        {
          "output_type": "stream",
          "name": "stderr",
          "text": [
            "\r 11%|█         | 40/380 [01:26<12:41,  2.24s/it]"
          ]
        },
        {
          "output_type": "stream",
          "name": "stdout",
          "text": [
            "11.10.2022 22:00 BRASIL SÉRIE B - RODADA 35 Guarani CRB\n"
          ]
        },
        {
          "output_type": "stream",
          "name": "stderr",
          "text": [
            "\r 11%|█         | 41/380 [01:28<12:16,  2.17s/it]"
          ]
        },
        {
          "output_type": "stream",
          "name": "stdout",
          "text": [
            "09.10.2022 19:00 BRASIL SÉRIE B - RODADA 34 Sport Cruzeiro\n"
          ]
        },
        {
          "output_type": "stream",
          "name": "stderr",
          "text": [
            "\r 11%|█         | 42/380 [01:30<11:55,  2.12s/it]"
          ]
        },
        {
          "output_type": "stream",
          "name": "stdout",
          "text": [
            "08.10.2022 22:00 BRASIL SÉRIE B - RODADA 34 Ponte Preta Vila Nova\n"
          ]
        },
        {
          "output_type": "stream",
          "name": "stderr",
          "text": [
            "\r 11%|█▏        | 43/380 [01:32<11:41,  2.08s/it]"
          ]
        },
        {
          "output_type": "stream",
          "name": "stdout",
          "text": [
            "08.10.2022 21:30 BRASIL SÉRIE B - RODADA 34 Ituano Guarani\n"
          ]
        },
        {
          "output_type": "stream",
          "name": "stderr",
          "text": [
            "\r 12%|█▏        | 44/380 [01:34<11:03,  1.98s/it]"
          ]
        },
        {
          "output_type": "stream",
          "name": "stdout",
          "text": [
            "08.10.2022 21:30 BRASIL SÉRIE B - RODADA 34 Tombense CRB\n"
          ]
        },
        {
          "output_type": "stream",
          "name": "stderr",
          "text": [
            "\r 12%|█▏        | 45/380 [01:36<10:18,  1.85s/it]"
          ]
        },
        {
          "output_type": "stream",
          "name": "stdout",
          "text": [
            "08.10.2022 21:30 BRASIL SÉRIE B - RODADA 34 Vasco Novorizontino\n"
          ]
        },
        {
          "output_type": "stream",
          "name": "stderr",
          "text": [
            "\r 12%|█▏        | 46/380 [01:37<10:08,  1.82s/it]"
          ]
        },
        {
          "output_type": "stream",
          "name": "stdout",
          "text": [
            "08.10.2022 19:30 BRASIL SÉRIE B - RODADA 34 Londrina Grêmio\n"
          ]
        },
        {
          "output_type": "stream",
          "name": "stderr",
          "text": [
            "\r 12%|█▏        | 47/380 [01:39<10:16,  1.85s/it]"
          ]
        },
        {
          "output_type": "stream",
          "name": "stdout",
          "text": [
            "08.10.2022 19:00 BRASIL SÉRIE B - RODADA 34 Bahia Brusque\n"
          ]
        },
        {
          "output_type": "stream",
          "name": "stderr",
          "text": [
            "\r 13%|█▎        | 48/380 [01:41<10:33,  1.91s/it]"
          ]
        },
        {
          "output_type": "stream",
          "name": "stdout",
          "text": [
            "08.10.2022 14:00 BRASIL SÉRIE B - RODADA 34 Chapecoense Operário\n"
          ]
        },
        {
          "output_type": "stream",
          "name": "stderr",
          "text": [
            "\r 13%|█▎        | 49/380 [01:44<10:59,  1.99s/it]"
          ]
        },
        {
          "output_type": "stream",
          "name": "stdout",
          "text": [
            "08.10.2022 00:30 BRASIL SÉRIE B - RODADA 34 CSA Sampaio Corrêa\n"
          ]
        },
        {
          "output_type": "stream",
          "name": "stderr",
          "text": [
            "\r 13%|█▎        | 50/380 [01:46<11:10,  2.03s/it]"
          ]
        },
        {
          "output_type": "stream",
          "name": "stdout",
          "text": [
            "07.10.2022 22:00 BRASIL SÉRIE B - RODADA 34 Criciúma Náutico\n"
          ]
        },
        {
          "output_type": "stream",
          "name": "stderr",
          "text": [
            "\r 13%|█▎        | 51/380 [01:47<10:15,  1.87s/it]"
          ]
        },
        {
          "output_type": "stream",
          "name": "stdout",
          "text": [
            "06.10.2022 00:30 BRASIL SÉRIE B - RODADA 33 Cruzeiro Ituano\n"
          ]
        },
        {
          "output_type": "stream",
          "name": "stderr",
          "text": [
            "\r 14%|█▎        | 52/380 [01:50<11:24,  2.09s/it]"
          ]
        },
        {
          "output_type": "stream",
          "name": "stdout",
          "text": [
            "05.10.2022 00:30 BRASIL SÉRIE B - RODADA 33 Náutico Tombense\n"
          ]
        },
        {
          "output_type": "stream",
          "name": "stderr",
          "text": [
            "\r 14%|█▍        | 53/380 [01:53<12:44,  2.34s/it]"
          ]
        },
        {
          "output_type": "stream",
          "name": "stdout",
          "text": [
            "05.10.2022 00:30 BRASIL SÉRIE B - RODADA 33 Novorizontino Bahia\n"
          ]
        },
        {
          "output_type": "stream",
          "name": "stderr",
          "text": [
            "\r 14%|█▍        | 54/380 [01:56<13:48,  2.54s/it]"
          ]
        },
        {
          "output_type": "stream",
          "name": "stdout",
          "text": [
            "04.10.2022 22:00 BRASIL SÉRIE B - RODADA 33 Brusque Sport\n"
          ]
        },
        {
          "output_type": "stream",
          "name": "stderr",
          "text": [
            "\r 14%|█▍        | 55/380 [01:59<14:16,  2.63s/it]"
          ]
        },
        {
          "output_type": "stream",
          "name": "stdout",
          "text": [
            "04.10.2022 22:00 BRASIL SÉRIE B - RODADA 33 CRB Chapecoense\n"
          ]
        },
        {
          "output_type": "stream",
          "name": "stderr",
          "text": [
            "\r 15%|█▍        | 56/380 [02:02<14:42,  2.72s/it]"
          ]
        },
        {
          "output_type": "stream",
          "name": "stdout",
          "text": [
            "04.10.2022 22:00 BRASIL SÉRIE B - RODADA 33 Grêmio CSA\n"
          ]
        },
        {
          "output_type": "stream",
          "name": "stderr",
          "text": [
            "\r 15%|█▌        | 57/380 [02:04<13:56,  2.59s/it]"
          ]
        },
        {
          "output_type": "stream",
          "name": "stdout",
          "text": [
            "04.10.2022 22:00 BRASIL SÉRIE B - RODADA 33 Operário Vasco\n"
          ]
        },
        {
          "output_type": "stream",
          "name": "stderr",
          "text": [
            "\r 15%|█▌        | 58/380 [02:06<13:07,  2.44s/it]"
          ]
        },
        {
          "output_type": "stream",
          "name": "stdout",
          "text": [
            "04.10.2022 22:00 BRASIL SÉRIE B - RODADA 33 Vila Nova Criciúma\n"
          ]
        },
        {
          "output_type": "stream",
          "name": "stderr",
          "text": [
            "\r 16%|█▌        | 59/380 [02:07<11:40,  2.18s/it]"
          ]
        },
        {
          "output_type": "stream",
          "name": "stdout",
          "text": [
            "03.10.2022 23:00 BRASIL SÉRIE B - RODADA 33 Guarani Londrina\n"
          ]
        },
        {
          "output_type": "stream",
          "name": "stderr",
          "text": [
            "\r 16%|█▌        | 60/380 [02:09<10:37,  1.99s/it]"
          ]
        },
        {
          "output_type": "stream",
          "name": "stdout",
          "text": [
            "03.10.2022 23:00 BRASIL SÉRIE B - RODADA 33 Sampaio Corrêa Ponte Preta\n"
          ]
        },
        {
          "output_type": "stream",
          "name": "stderr",
          "text": [
            "\r 16%|█▌        | 61/380 [02:11<11:06,  2.09s/it]"
          ]
        },
        {
          "output_type": "stream",
          "name": "stdout",
          "text": [
            "01.10.2022 21:30 BRASIL SÉRIE B - RODADA 32 Ituano CRB\n"
          ]
        },
        {
          "output_type": "stream",
          "name": "stderr",
          "text": [
            "\r 16%|█▋        | 62/380 [02:13<11:01,  2.08s/it]"
          ]
        },
        {
          "output_type": "stream",
          "name": "stdout",
          "text": [
            "01.10.2022 14:00 BRASIL SÉRIE B - RODADA 32 Brusque Criciúma\n"
          ]
        },
        {
          "output_type": "stream",
          "name": "stderr",
          "text": [
            "\r 17%|█▋        | 63/380 [02:15<10:59,  2.08s/it]"
          ]
        },
        {
          "output_type": "stream",
          "name": "stdout",
          "text": [
            "01.10.2022 00:30 BRASIL SÉRIE B - RODADA 32 Chapecoense Bahia\n"
          ]
        },
        {
          "output_type": "stream",
          "name": "stderr",
          "text": [
            "\r 17%|█▋        | 64/380 [02:17<10:18,  1.96s/it]"
          ]
        },
        {
          "output_type": "stream",
          "name": "stdout",
          "text": [
            "30.09.2022 22:00 BRASIL SÉRIE B - RODADA 32 CSA Guarani\n"
          ]
        },
        {
          "output_type": "stream",
          "name": "stderr",
          "text": [
            "\r 17%|█▋        | 65/380 [02:19<10:46,  2.05s/it]"
          ]
        },
        {
          "output_type": "stream",
          "name": "stdout",
          "text": [
            "30.09.2022 22:00 BRASIL SÉRIE B - RODADA 32 Operário Vila Nova\n"
          ]
        },
        {
          "output_type": "stream",
          "name": "stderr",
          "text": [
            "\r 17%|█▋        | 66/380 [02:21<10:42,  2.05s/it]"
          ]
        },
        {
          "output_type": "stream",
          "name": "stdout",
          "text": [
            "30.09.2022 22:00 BRASIL SÉRIE B - RODADA 32 Sampaio Corrêa Grêmio\n"
          ]
        },
        {
          "output_type": "stream",
          "name": "stderr",
          "text": [
            "\r 18%|█▊        | 67/380 [02:23<09:55,  1.90s/it]"
          ]
        },
        {
          "output_type": "stream",
          "name": "stdout",
          "text": [
            "30.09.2022 00:30 BRASIL SÉRIE B - RODADA 32 Vasco Londrina\n"
          ]
        },
        {
          "output_type": "stream",
          "name": "stderr",
          "text": [
            "\r 18%|█▊        | 68/380 [02:25<10:18,  1.98s/it]"
          ]
        },
        {
          "output_type": "stream",
          "name": "stdout",
          "text": [
            "29.09.2022 22:00 BRASIL SÉRIE B - RODADA 32 Tombense Novorizontino\n"
          ]
        },
        {
          "output_type": "stream",
          "name": "stderr",
          "text": [
            "\r 18%|█▊        | 69/380 [02:27<10:25,  2.01s/it]"
          ]
        },
        {
          "output_type": "stream",
          "name": "stdout",
          "text": [
            "29.09.2022 00:45 BRASIL SÉRIE B - RODADA 32 Sport Náutico\n"
          ]
        },
        {
          "output_type": "stream",
          "name": "stderr",
          "text": [
            "\r 18%|█▊        | 70/380 [02:29<10:20,  2.00s/it]"
          ]
        },
        {
          "output_type": "stream",
          "name": "stdout",
          "text": [
            "28.09.2022 22:00 BRASIL SÉRIE B - RODADA 32 Ponte Preta Cruzeiro\n"
          ]
        },
        {
          "output_type": "stream",
          "name": "stderr",
          "text": [
            "\r 19%|█▊        | 71/380 [02:31<10:37,  2.06s/it]"
          ]
        },
        {
          "output_type": "stream",
          "name": "stdout",
          "text": [
            "26.09.2022 23:00 BRASIL SÉRIE B - RODADA 31 CSA Tombense\n"
          ]
        },
        {
          "output_type": "stream",
          "name": "stderr",
          "text": [
            "\r 19%|█▉        | 72/380 [02:33<10:13,  1.99s/it]"
          ]
        },
        {
          "output_type": "stream",
          "name": "stdout",
          "text": [
            "25.09.2022 21:30 BRASIL SÉRIE B - RODADA 31 Criciúma Chapecoense\n"
          ]
        },
        {
          "output_type": "stream",
          "name": "stderr",
          "text": [
            "\r 19%|█▉        | 73/380 [02:35<10:09,  1.98s/it]"
          ]
        },
        {
          "output_type": "stream",
          "name": "stdout",
          "text": [
            "24.09.2022 21:15 BRASIL SÉRIE B - RODADA 31 Bahia Operário\n"
          ]
        },
        {
          "output_type": "stream",
          "name": "stderr",
          "text": [
            "\r 19%|█▉        | 74/380 [02:37<10:00,  1.96s/it]"
          ]
        },
        {
          "output_type": "stream",
          "name": "stdout",
          "text": [
            "24.09.2022 14:00 BRASIL SÉRIE B - RODADA 31 Ituano Brusque\n"
          ]
        },
        {
          "output_type": "stream",
          "name": "stderr",
          "text": [
            "\r 20%|█▉        | 75/380 [02:39<09:16,  1.83s/it]"
          ]
        },
        {
          "output_type": "stream",
          "name": "stdout",
          "text": [
            "24.09.2022 00:30 BRASIL SÉRIE B - RODADA 31 Londrina Ponte Preta\n"
          ]
        },
        {
          "output_type": "stream",
          "name": "stderr",
          "text": [
            "\r 20%|██        | 76/380 [02:40<08:57,  1.77s/it]"
          ]
        },
        {
          "output_type": "stream",
          "name": "stdout",
          "text": [
            "23.09.2022 22:00 BRASIL SÉRIE B - RODADA 31 Náutico Sampaio Corrêa\n"
          ]
        },
        {
          "output_type": "stream",
          "name": "stderr",
          "text": [
            "\r 20%|██        | 77/380 [02:42<09:30,  1.88s/it]"
          ]
        },
        {
          "output_type": "stream",
          "name": "stdout",
          "text": [
            "23.09.2022 00:30 BRASIL SÉRIE B - RODADA 31 Vila Nova CRB\n"
          ]
        },
        {
          "output_type": "stream",
          "name": "stderr",
          "text": [
            "\r 21%|██        | 78/380 [02:44<08:42,  1.73s/it]"
          ]
        },
        {
          "output_type": "stream",
          "name": "stdout",
          "text": [
            "22.09.2022 00:00 BRASIL SÉRIE B - RODADA 31 Cruzeiro Vasco\n"
          ]
        },
        {
          "output_type": "stream",
          "name": "stderr",
          "text": [
            "\r 21%|██        | 79/380 [02:46<09:02,  1.80s/it]"
          ]
        },
        {
          "output_type": "stream",
          "name": "stdout",
          "text": [
            "21.09.2022 00:30 BRASIL SÉRIE B - RODADA 31 Guarani Novorizontino\n"
          ]
        },
        {
          "output_type": "stream",
          "name": "stderr",
          "text": [
            "\r 21%|██        | 80/380 [02:48<09:37,  1.92s/it]"
          ]
        },
        {
          "output_type": "stream",
          "name": "stdout",
          "text": [
            "20.09.2022 22:00 BRASIL SÉRIE B - RODADA 31 Grêmio Sport\n"
          ]
        },
        {
          "output_type": "stream",
          "name": "stderr",
          "text": [
            "\r 21%|██▏       | 81/380 [02:50<09:59,  2.01s/it]"
          ]
        },
        {
          "output_type": "stream",
          "name": "stdout",
          "text": [
            "17.09.2022 23:30 BRASIL SÉRIE B - RODADA 30 CRB Cruzeiro\n"
          ]
        },
        {
          "output_type": "stream",
          "name": "stderr",
          "text": [
            "\r 22%|██▏       | 82/380 [02:52<10:08,  2.04s/it]"
          ]
        },
        {
          "output_type": "stream",
          "name": "stdout",
          "text": [
            "17.09.2022 22:00 BRASIL SÉRIE B - RODADA 30 Sampaio Corrêa Criciúma\n"
          ]
        },
        {
          "output_type": "stream",
          "name": "stderr",
          "text": [
            "\r 22%|██▏       | 83/380 [02:54<09:58,  2.02s/it]"
          ]
        },
        {
          "output_type": "stream",
          "name": "stdout",
          "text": [
            "17.09.2022 19:30 BRASIL SÉRIE B - RODADA 30 Brusque Vila Nova\n"
          ]
        },
        {
          "output_type": "stream",
          "name": "stderr",
          "text": [
            "\r 22%|██▏       | 84/380 [02:56<10:04,  2.04s/it]"
          ]
        },
        {
          "output_type": "stream",
          "name": "stdout",
          "text": [
            "17.09.2022 14:00 BRASIL SÉRIE B - RODADA 30 Chapecoense CSA\n"
          ]
        },
        {
          "output_type": "stream",
          "name": "stderr",
          "text": [
            "\r 22%|██▏       | 85/380 [02:59<10:15,  2.09s/it]"
          ]
        },
        {
          "output_type": "stream",
          "name": "stdout",
          "text": [
            "17.09.2022 00:30 BRASIL SÉRIE B - RODADA 30 Novorizontino Grêmio\n"
          ]
        },
        {
          "output_type": "stream",
          "name": "stderr",
          "text": [
            "\r 23%|██▎       | 86/380 [03:01<10:15,  2.09s/it]"
          ]
        },
        {
          "output_type": "stream",
          "name": "stdout",
          "text": [
            "17.09.2022 00:30 BRASIL SÉRIE B - RODADA 30 Tombense Londrina\n"
          ]
        },
        {
          "output_type": "stream",
          "name": "stderr",
          "text": [
            "\r 23%|██▎       | 87/380 [03:03<10:29,  2.15s/it]"
          ]
        },
        {
          "output_type": "stream",
          "name": "stdout",
          "text": [
            "16.09.2022 22:00 BRASIL SÉRIE B - RODADA 30 Vasco Náutico\n"
          ]
        },
        {
          "output_type": "stream",
          "name": "stderr",
          "text": [
            "\r 23%|██▎       | 88/380 [03:05<09:57,  2.05s/it]"
          ]
        },
        {
          "output_type": "stream",
          "name": "stdout",
          "text": [
            "14.09.2022 00:30 BRASIL SÉRIE B - RODADA 30 Ponte Preta Ituano\n"
          ]
        },
        {
          "output_type": "stream",
          "name": "stderr",
          "text": [
            "\r 23%|██▎       | 89/380 [03:07<10:01,  2.07s/it]"
          ]
        },
        {
          "output_type": "stream",
          "name": "stdout",
          "text": [
            "13.09.2022 22:00 BRASIL SÉRIE B - RODADA 30 Operário Guarani\n"
          ]
        },
        {
          "output_type": "stream",
          "name": "stderr",
          "text": [
            "\r 24%|██▎       | 90/380 [03:08<09:20,  1.93s/it]"
          ]
        },
        {
          "output_type": "stream",
          "name": "stdout",
          "text": [
            "12.09.2022 23:00 BRASIL SÉRIE B - RODADA 30 Sport Bahia\n"
          ]
        },
        {
          "output_type": "stream",
          "name": "stderr",
          "text": [
            "\r 24%|██▍       | 91/380 [03:11<09:29,  1.97s/it]"
          ]
        },
        {
          "output_type": "stream",
          "name": "stdout",
          "text": [
            "11.09.2022 19:00 BRASIL SÉRIE B - RODADA 29 Grêmio Vasco\n"
          ]
        },
        {
          "output_type": "stream",
          "name": "stderr",
          "text": [
            "\r 24%|██▍       | 92/380 [03:13<09:34,  2.00s/it]"
          ]
        },
        {
          "output_type": "stream",
          "name": "stdout",
          "text": [
            "10.09.2022 21:30 BRASIL SÉRIE B - RODADA 29 Londrina Chapecoense\n"
          ]
        },
        {
          "output_type": "stream",
          "name": "stderr",
          "text": [
            "\r 24%|██▍       | 93/380 [03:15<09:29,  1.98s/it]"
          ]
        },
        {
          "output_type": "stream",
          "name": "stdout",
          "text": [
            "10.09.2022 19:00 BRASIL SÉRIE B - RODADA 29 CSA CRB\n"
          ]
        },
        {
          "output_type": "stream",
          "name": "stderr",
          "text": [
            "\r 25%|██▍       | 94/380 [03:16<09:16,  1.95s/it]"
          ]
        },
        {
          "output_type": "stream",
          "name": "stdout",
          "text": [
            "10.09.2022 14:00 BRASIL SÉRIE B - RODADA 29 Ituano Tombense\n"
          ]
        },
        {
          "output_type": "stream",
          "name": "stderr",
          "text": [
            "\r 25%|██▌       | 95/380 [03:19<09:31,  2.01s/it]"
          ]
        },
        {
          "output_type": "stream",
          "name": "stdout",
          "text": [
            "10.09.2022 00:30 BRASIL SÉRIE B - RODADA 29 Náutico Brusque\n"
          ]
        },
        {
          "output_type": "stream",
          "name": "stderr",
          "text": [
            "\r 25%|██▌       | 96/380 [03:21<09:41,  2.05s/it]"
          ]
        },
        {
          "output_type": "stream",
          "name": "stdout",
          "text": [
            "09.09.2022 00:30 BRASIL SÉRIE B - RODADA 29 Cruzeiro Operário\n"
          ]
        },
        {
          "output_type": "stream",
          "name": "stderr",
          "text": [
            "\r 26%|██▌       | 97/380 [03:22<09:16,  1.97s/it]"
          ]
        },
        {
          "output_type": "stream",
          "name": "stdout",
          "text": [
            "08.09.2022 22:00 BRASIL SÉRIE B - RODADA 29 Criciúma Bahia\n"
          ]
        },
        {
          "output_type": "stream",
          "name": "stderr",
          "text": [
            "\r 26%|██▌       | 98/380 [03:24<09:10,  1.95s/it]"
          ]
        },
        {
          "output_type": "stream",
          "name": "stdout",
          "text": [
            "08.09.2022 00:30 BRASIL SÉRIE B - RODADA 29 Sampaio Corrêa Novorizontino\n"
          ]
        },
        {
          "output_type": "stream",
          "name": "stderr",
          "text": [
            "\r 26%|██▌       | 99/380 [03:26<09:13,  1.97s/it]"
          ]
        },
        {
          "output_type": "stream",
          "name": "stdout",
          "text": [
            "07.09.2022 22:00 BRASIL SÉRIE B - RODADA 29 Ponte Preta Sport\n"
          ]
        },
        {
          "output_type": "stream",
          "name": "stderr",
          "text": [
            "\r 26%|██▋       | 100/380 [03:28<08:46,  1.88s/it]"
          ]
        },
        {
          "output_type": "stream",
          "name": "stdout",
          "text": [
            "07.09.2022 00:30 BRASIL SÉRIE B - RODADA 29 Vila Nova Guarani\n"
          ]
        },
        {
          "output_type": "stream",
          "name": "stderr",
          "text": [
            "\r 27%|██▋       | 101/380 [03:30<09:19,  2.00s/it]"
          ]
        },
        {
          "output_type": "stream",
          "name": "stdout",
          "text": [
            "04.09.2022 19:00 BRASIL SÉRIE B - RODADA 28 Cruzeiro Criciúma\n"
          ]
        },
        {
          "output_type": "stream",
          "name": "stderr",
          "text": [
            "\r 27%|██▋       | 102/380 [03:32<09:08,  1.97s/it]"
          ]
        },
        {
          "output_type": "stream",
          "name": "stdout",
          "text": [
            "03.09.2022 23:30 BRASIL SÉRIE B - RODADA 28 Operário Londrina\n"
          ]
        },
        {
          "output_type": "stream",
          "name": "stderr",
          "text": [
            "\r 27%|██▋       | 103/380 [03:34<09:24,  2.04s/it]"
          ]
        },
        {
          "output_type": "stream",
          "name": "stdout",
          "text": [
            "03.09.2022 22:00 BRASIL SÉRIE B - RODADA 28 Bahia Tombense\n"
          ]
        },
        {
          "output_type": "stream",
          "name": "stderr",
          "text": [
            "\r 27%|██▋       | 104/380 [03:37<09:28,  2.06s/it]"
          ]
        },
        {
          "output_type": "stream",
          "name": "stdout",
          "text": [
            "03.09.2022 22:00 BRASIL SÉRIE B - RODADA 28 Chapecoense Ponte Preta\n"
          ]
        },
        {
          "output_type": "stream",
          "name": "stderr",
          "text": [
            "\r 28%|██▊       | 105/380 [03:39<09:37,  2.10s/it]"
          ]
        },
        {
          "output_type": "stream",
          "name": "stdout",
          "text": [
            "03.09.2022 20:00 BRASIL SÉRIE B - RODADA 28 CRB Sport\n"
          ]
        },
        {
          "output_type": "stream",
          "name": "stderr",
          "text": [
            "\r 28%|██▊       | 106/380 [03:41<09:43,  2.13s/it]"
          ]
        },
        {
          "output_type": "stream",
          "name": "stdout",
          "text": [
            "03.09.2022 19:30 BRASIL SÉRIE B - RODADA 28 Brusque Vasco\n"
          ]
        },
        {
          "output_type": "stream",
          "name": "stderr",
          "text": [
            "\r 28%|██▊       | 107/380 [03:43<09:34,  2.10s/it]"
          ]
        },
        {
          "output_type": "stream",
          "name": "stdout",
          "text": [
            "03.09.2022 19:30 BRASIL SÉRIE B - RODADA 28 Guarani Sampaio Corrêa\n"
          ]
        },
        {
          "output_type": "stream",
          "name": "stderr",
          "text": [
            "\r 28%|██▊       | 108/380 [03:45<09:33,  2.11s/it]"
          ]
        },
        {
          "output_type": "stream",
          "name": "stdout",
          "text": [
            "03.09.2022 14:00 BRASIL SÉRIE B - RODADA 28 Novorizontino CSA\n"
          ]
        },
        {
          "output_type": "stream",
          "name": "stderr",
          "text": [
            "\r 29%|██▊       | 109/380 [03:47<09:19,  2.06s/it]"
          ]
        },
        {
          "output_type": "stream",
          "name": "stdout",
          "text": [
            "03.09.2022 00:30 BRASIL SÉRIE B - RODADA 28 Grêmio Vila Nova\n"
          ]
        },
        {
          "output_type": "stream",
          "name": "stderr",
          "text": [
            "\r 29%|██▉       | 110/380 [03:49<09:02,  2.01s/it]"
          ]
        },
        {
          "output_type": "stream",
          "name": "stdout",
          "text": [
            "02.09.2022 22:00 BRASIL SÉRIE B - RODADA 28 Náutico Ituano\n"
          ]
        },
        {
          "output_type": "stream",
          "name": "stderr",
          "text": [
            "\r 29%|██▉       | 111/380 [03:51<08:49,  1.97s/it]"
          ]
        },
        {
          "output_type": "stream",
          "name": "stdout",
          "text": [
            "01.09.2022 00:30 BRASIL SÉRIE B - RODADA 27 Ponte Preta Bahia\n"
          ]
        },
        {
          "output_type": "stream",
          "name": "stderr",
          "text": [
            "\r 29%|██▉       | 112/380 [03:53<08:56,  2.00s/it]"
          ]
        },
        {
          "output_type": "stream",
          "name": "stdout",
          "text": [
            "31.08.2022 22:00 BRASIL SÉRIE B - RODADA 27 Vasco Guarani\n"
          ]
        },
        {
          "output_type": "stream",
          "name": "stderr",
          "text": [
            "\r 30%|██▉       | 113/380 [03:55<09:14,  2.08s/it]"
          ]
        },
        {
          "output_type": "stream",
          "name": "stdout",
          "text": [
            "31.08.2022 00:30 BRASIL SÉRIE B - RODADA 27 Criciúma Grêmio\n"
          ]
        },
        {
          "output_type": "stream",
          "name": "stderr",
          "text": [
            "\r 30%|███       | 114/380 [03:57<09:08,  2.06s/it]"
          ]
        },
        {
          "output_type": "stream",
          "name": "stdout",
          "text": [
            "31.08.2022 00:30 BRASIL SÉRIE B - RODADA 27 CSA Náutico\n"
          ]
        },
        {
          "output_type": "stream",
          "name": "stderr",
          "text": [
            "\r 30%|███       | 115/380 [03:59<09:11,  2.08s/it]"
          ]
        },
        {
          "output_type": "stream",
          "name": "stdout",
          "text": [
            "31.08.2022 00:30 BRASIL SÉRIE B - RODADA 27 Tombense Brusque\n"
          ]
        },
        {
          "output_type": "stream",
          "name": "stderr",
          "text": [
            "\r 31%|███       | 116/380 [04:01<09:06,  2.07s/it]"
          ]
        },
        {
          "output_type": "stream",
          "name": "stdout",
          "text": [
            "30.08.2022 23:30 BRASIL SÉRIE B - RODADA 27 Ituano Operário\n"
          ]
        },
        {
          "output_type": "stream",
          "name": "stderr",
          "text": [
            "\r 31%|███       | 117/380 [04:04<09:10,  2.09s/it]"
          ]
        },
        {
          "output_type": "stream",
          "name": "stdout",
          "text": [
            "30.08.2022 23:30 BRASIL SÉRIE B - RODADA 27 Sport Novorizontino\n"
          ]
        },
        {
          "output_type": "stream",
          "name": "stderr",
          "text": [
            "\r 31%|███       | 118/380 [04:05<08:50,  2.03s/it]"
          ]
        },
        {
          "output_type": "stream",
          "name": "stdout",
          "text": [
            "30.08.2022 22:00 BRASIL SÉRIE B - RODADA 27 Londrina CRB\n"
          ]
        },
        {
          "output_type": "stream",
          "name": "stderr",
          "text": [
            "\r 31%|███▏      | 119/380 [04:07<08:47,  2.02s/it]"
          ]
        },
        {
          "output_type": "stream",
          "name": "stdout",
          "text": [
            "30.08.2022 22:00 BRASIL SÉRIE B - RODADA 27 Sampaio Corrêa Cruzeiro\n"
          ]
        },
        {
          "output_type": "stream",
          "name": "stderr",
          "text": [
            "\r 32%|███▏      | 120/380 [04:10<08:56,  2.06s/it]"
          ]
        },
        {
          "output_type": "stream",
          "name": "stdout",
          "text": [
            "29.08.2022 23:00 BRASIL SÉRIE B - RODADA 27 Chapecoense Vila Nova\n"
          ]
        },
        {
          "output_type": "stream",
          "name": "stderr",
          "text": [
            "\r 32%|███▏      | 121/380 [04:12<08:57,  2.08s/it]"
          ]
        },
        {
          "output_type": "stream",
          "name": "stdout",
          "text": [
            "28.08.2022 19:00 BRASIL SÉRIE B - RODADA 26 Bahia Vasco\n"
          ]
        },
        {
          "output_type": "stream",
          "name": "stderr",
          "text": [
            "\r 32%|███▏      | 122/380 [04:14<08:42,  2.03s/it]"
          ]
        },
        {
          "output_type": "stream",
          "name": "stdout",
          "text": [
            "27.08.2022 21:30 BRASIL SÉRIE B - RODADA 26 Operário CSA\n"
          ]
        },
        {
          "output_type": "stream",
          "name": "stderr",
          "text": [
            "\r 32%|███▏      | 123/380 [04:16<08:33,  2.00s/it]"
          ]
        },
        {
          "output_type": "stream",
          "name": "stdout",
          "text": [
            "27.08.2022 19:00 BRASIL SÉRIE B - RODADA 26 CRB Criciúma\n"
          ]
        },
        {
          "output_type": "stream",
          "name": "stderr",
          "text": [
            "\r 33%|███▎      | 124/380 [04:18<08:30,  1.99s/it]"
          ]
        },
        {
          "output_type": "stream",
          "name": "stdout",
          "text": [
            "27.08.2022 14:00 BRASIL SÉRIE B - RODADA 26 Guarani Tombense\n"
          ]
        },
        {
          "output_type": "stream",
          "name": "stderr",
          "text": [
            "\r 33%|███▎      | 125/380 [04:20<08:38,  2.03s/it]"
          ]
        },
        {
          "output_type": "stream",
          "name": "stdout",
          "text": [
            "27.08.2022 00:30 BRASIL SÉRIE B - RODADA 26 Cruzeiro Náutico\n"
          ]
        },
        {
          "output_type": "stream",
          "name": "stderr",
          "text": [
            "\r 33%|███▎      | 126/380 [04:22<08:26,  1.99s/it]"
          ]
        },
        {
          "output_type": "stream",
          "name": "stdout",
          "text": [
            "26.08.2022 22:00 BRASIL SÉRIE B - RODADA 26 Brusque Londrina\n"
          ]
        },
        {
          "output_type": "stream",
          "name": "stderr",
          "text": [
            "\r 33%|███▎      | 127/380 [04:23<08:19,  1.97s/it]"
          ]
        },
        {
          "output_type": "stream",
          "name": "stdout",
          "text": [
            "26.08.2022 22:00 BRASIL SÉRIE B - RODADA 26 Grêmio Ituano\n"
          ]
        },
        {
          "output_type": "stream",
          "name": "stderr",
          "text": [
            "\r 34%|███▎      | 128/380 [04:25<08:18,  1.98s/it]"
          ]
        },
        {
          "output_type": "stream",
          "name": "stdout",
          "text": [
            "26.08.2022 00:30 BRASIL SÉRIE B - RODADA 26 Novorizontino Ponte Preta\n"
          ]
        },
        {
          "output_type": "stream",
          "name": "stderr",
          "text": [
            "\r 34%|███▍      | 129/380 [04:27<08:10,  1.96s/it]"
          ]
        },
        {
          "output_type": "stream",
          "name": "stdout",
          "text": [
            "25.08.2022 22:00 BRASIL SÉRIE B - RODADA 26 Vila Nova Sampaio Corrêa\n"
          ]
        },
        {
          "output_type": "stream",
          "name": "stderr",
          "text": [
            "\r 34%|███▍      | 130/380 [04:29<08:20,  2.00s/it]"
          ]
        },
        {
          "output_type": "stream",
          "name": "stdout",
          "text": [
            "24.08.2022 00:30 BRASIL SÉRIE B - RODADA 26 Sport Chapecoense\n"
          ]
        },
        {
          "output_type": "stream",
          "name": "stderr",
          "text": [
            "\r 34%|███▍      | 131/380 [04:32<08:45,  2.11s/it]"
          ]
        },
        {
          "output_type": "stream",
          "name": "stdout",
          "text": [
            "21.08.2022 19:00 BRASIL SÉRIE B - RODADA 25 Grêmio Cruzeiro\n"
          ]
        },
        {
          "output_type": "stream",
          "name": "stderr",
          "text": [
            "\r 35%|███▍      | 132/380 [04:34<08:43,  2.11s/it]"
          ]
        },
        {
          "output_type": "stream",
          "name": "stdout",
          "text": [
            "20.08.2022 22:00 BRASIL SÉRIE B - RODADA 25 Sampaio Corrêa CRB\n"
          ]
        },
        {
          "output_type": "stream",
          "name": "stderr",
          "text": [
            "\r 35%|███▌      | 133/380 [04:36<08:03,  1.96s/it]"
          ]
        },
        {
          "output_type": "stream",
          "name": "stdout",
          "text": [
            "20.08.2022 19:30 BRASIL SÉRIE B - RODADA 25 Chapecoense Brusque\n"
          ]
        },
        {
          "output_type": "stream",
          "name": "stderr",
          "text": [
            "\r 35%|███▌      | 134/380 [04:38<08:16,  2.02s/it]"
          ]
        },
        {
          "output_type": "stream",
          "name": "stdout",
          "text": [
            "20.08.2022 14:00 BRASIL SÉRIE B - RODADA 25 Ponte Preta Guarani\n"
          ]
        },
        {
          "output_type": "stream",
          "name": "stderr",
          "text": [
            "\r 36%|███▌      | 135/380 [04:39<07:45,  1.90s/it]"
          ]
        },
        {
          "output_type": "stream",
          "name": "stdout",
          "text": [
            "20.08.2022 00:30 BRASIL SÉRIE B - RODADA 25 Náutico Vila Nova\n"
          ]
        },
        {
          "output_type": "stream",
          "name": "stderr",
          "text": [
            "\r 36%|███▌      | 136/380 [04:41<07:39,  1.88s/it]"
          ]
        },
        {
          "output_type": "stream",
          "name": "stdout",
          "text": [
            "19.08.2022 22:00 BRASIL SÉRIE B - RODADA 25 Ituano Novorizontino\n"
          ]
        },
        {
          "output_type": "stream",
          "name": "stderr",
          "text": [
            "\r 36%|███▌      | 137/380 [04:43<07:04,  1.74s/it]"
          ]
        },
        {
          "output_type": "stream",
          "name": "stdout",
          "text": [
            "19.08.2022 00:30 BRASIL SÉRIE B - RODADA 25 Tombense Sport\n"
          ]
        },
        {
          "output_type": "stream",
          "name": "stderr",
          "text": [
            "\r 36%|███▋      | 138/380 [04:45<07:22,  1.83s/it]"
          ]
        },
        {
          "output_type": "stream",
          "name": "stdout",
          "text": [
            "18.08.2022 23:00 BRASIL SÉRIE B - RODADA 25 CSA Vasco\n"
          ]
        },
        {
          "output_type": "stream",
          "name": "stderr",
          "text": [
            "\r 37%|███▋      | 139/380 [04:46<07:24,  1.85s/it]"
          ]
        },
        {
          "output_type": "stream",
          "name": "stdout",
          "text": [
            "17.08.2022 22:00 BRASIL SÉRIE B - RODADA 25 Criciúma Operário\n"
          ]
        },
        {
          "output_type": "stream",
          "name": "stderr",
          "text": [
            "\r 37%|███▋      | 140/380 [04:48<07:24,  1.85s/it]"
          ]
        },
        {
          "output_type": "stream",
          "name": "stdout",
          "text": [
            "16.08.2022 23:30 BRASIL SÉRIE B - RODADA 25 Londrina Bahia\n"
          ]
        },
        {
          "output_type": "stream",
          "name": "stderr",
          "text": [
            "\r 37%|███▋      | 141/380 [04:50<07:41,  1.93s/it]"
          ]
        },
        {
          "output_type": "stream",
          "name": "stdout",
          "text": [
            "14.08.2022 14:00 BRASIL SÉRIE B - RODADA 24 Novorizontino Criciúma\n"
          ]
        },
        {
          "output_type": "stream",
          "name": "stderr",
          "text": [
            "\r 37%|███▋      | 142/380 [04:53<08:08,  2.05s/it]"
          ]
        },
        {
          "output_type": "stream",
          "name": "stdout",
          "text": [
            "13.08.2022 23:30 BRASIL SÉRIE B - RODADA 24 CRB Grêmio\n"
          ]
        },
        {
          "output_type": "stream",
          "name": "stderr",
          "text": [
            "\r 38%|███▊      | 143/380 [04:55<08:13,  2.08s/it]"
          ]
        },
        {
          "output_type": "stream",
          "name": "stdout",
          "text": [
            "13.08.2022 21:30 BRASIL SÉRIE B - RODADA 24 Guarani Náutico\n"
          ]
        },
        {
          "output_type": "stream",
          "name": "stderr",
          "text": [
            "\r 38%|███▊      | 144/380 [04:57<08:14,  2.10s/it]"
          ]
        },
        {
          "output_type": "stream",
          "name": "stdout",
          "text": [
            "13.08.2022 19:30 BRASIL SÉRIE B - RODADA 24 Cruzeiro Chapecoense\n"
          ]
        },
        {
          "output_type": "stream",
          "name": "stderr",
          "text": [
            "\r 38%|███▊      | 145/380 [04:59<07:28,  1.91s/it]"
          ]
        },
        {
          "output_type": "stream",
          "name": "stdout",
          "text": [
            "13.08.2022 19:00 BRASIL SÉRIE B - RODADA 24 Sport CSA\n"
          ]
        },
        {
          "output_type": "stream",
          "name": "stderr",
          "text": [
            "\r 38%|███▊      | 146/380 [05:01<07:42,  1.97s/it]"
          ]
        },
        {
          "output_type": "stream",
          "name": "stdout",
          "text": [
            "13.08.2022 14:00 BRASIL SÉRIE B - RODADA 24 Operário Sampaio Corrêa\n"
          ]
        },
        {
          "output_type": "stream",
          "name": "stderr",
          "text": [
            "\r 39%|███▊      | 147/380 [05:03<07:28,  1.92s/it]"
          ]
        },
        {
          "output_type": "stream",
          "name": "stdout",
          "text": [
            "13.08.2022 14:00 BRASIL SÉRIE B - RODADA 24 Vasco Tombense\n"
          ]
        },
        {
          "output_type": "stream",
          "name": "stderr",
          "text": [
            "\r 39%|███▉      | 148/380 [05:05<07:35,  1.96s/it]"
          ]
        },
        {
          "output_type": "stream",
          "name": "stdout",
          "text": [
            "13.08.2022 00:30 BRASIL SÉRIE B - RODADA 24 Bahia Ituano\n"
          ]
        },
        {
          "output_type": "stream",
          "name": "stderr",
          "text": [
            "\r 39%|███▉      | 149/380 [05:06<07:25,  1.93s/it]"
          ]
        },
        {
          "output_type": "stream",
          "name": "stdout",
          "text": [
            "13.08.2022 00:30 BRASIL SÉRIE B - RODADA 24 Brusque Ponte Preta\n"
          ]
        },
        {
          "output_type": "stream",
          "name": "stderr",
          "text": [
            "\r 39%|███▉      | 150/380 [05:08<07:23,  1.93s/it]"
          ]
        },
        {
          "output_type": "stream",
          "name": "stdout",
          "text": [
            "12.08.2022 22:00 BRASIL SÉRIE B - RODADA 24 Vila Nova Londrina\n"
          ]
        },
        {
          "output_type": "stream",
          "name": "stderr",
          "text": [
            "\r 40%|███▉      | 151/380 [05:10<07:24,  1.94s/it]"
          ]
        },
        {
          "output_type": "stream",
          "name": "stdout",
          "text": [
            "11.08.2022 00:30 BRASIL SÉRIE B - RODADA 23 Criciúma Guarani\n"
          ]
        },
        {
          "output_type": "stream",
          "name": "stderr",
          "text": [
            "\r 40%|████      | 152/380 [05:13<07:59,  2.10s/it]"
          ]
        },
        {
          "output_type": "stream",
          "name": "stdout",
          "text": [
            "10.08.2022 22:00 BRASIL SÉRIE B - RODADA 23 Chapecoense Novorizontino\n"
          ]
        },
        {
          "output_type": "stream",
          "name": "stderr",
          "text": [
            "\r 40%|████      | 153/380 [05:15<08:00,  2.11s/it]"
          ]
        },
        {
          "output_type": "stream",
          "name": "stdout",
          "text": [
            "10.08.2022 22:00 BRASIL SÉRIE B - RODADA 23 Náutico CRB\n"
          ]
        },
        {
          "output_type": "stream",
          "name": "stderr",
          "text": [
            "\r 41%|████      | 154/380 [05:17<08:25,  2.24s/it]"
          ]
        },
        {
          "output_type": "stream",
          "name": "stdout",
          "text": [
            "10.08.2022 00:30 BRASIL SÉRIE B - RODADA 23 Sampaio Corrêa Bahia\n"
          ]
        },
        {
          "output_type": "stream",
          "name": "stderr",
          "text": [
            "\r 41%|████      | 155/380 [05:19<07:53,  2.10s/it]"
          ]
        },
        {
          "output_type": "stream",
          "name": "stdout",
          "text": [
            "10.08.2022 00:30 BRASIL SÉRIE B - RODADA 23 Tombense Vila Nova\n"
          ]
        },
        {
          "output_type": "stream",
          "name": "stderr",
          "text": [
            "\r 41%|████      | 156/380 [05:21<08:01,  2.15s/it]"
          ]
        },
        {
          "output_type": "stream",
          "name": "stdout",
          "text": [
            "10.08.2022 00:00 BRASIL SÉRIE B - RODADA 23 Londrina Cruzeiro\n"
          ]
        },
        {
          "output_type": "stream",
          "name": "stderr",
          "text": [
            "\r 41%|████▏     | 157/380 [05:24<07:58,  2.15s/it]"
          ]
        },
        {
          "output_type": "stream",
          "name": "stdout",
          "text": [
            "09.08.2022 23:30 BRASIL SÉRIE B - RODADA 23 CSA Brusque\n"
          ]
        },
        {
          "output_type": "stream",
          "name": "stderr",
          "text": [
            "\r 42%|████▏     | 158/380 [05:26<07:54,  2.14s/it]"
          ]
        },
        {
          "output_type": "stream",
          "name": "stdout",
          "text": [
            "09.08.2022 23:30 BRASIL SÉRIE B - RODADA 23 Ponte Preta Vasco\n"
          ]
        },
        {
          "output_type": "stream",
          "name": "stderr",
          "text": [
            "\r 42%|████▏     | 159/380 [05:28<07:56,  2.16s/it]"
          ]
        },
        {
          "output_type": "stream",
          "name": "stdout",
          "text": [
            "09.08.2022 22:00 BRASIL SÉRIE B - RODADA 23 Grêmio Operário\n"
          ]
        },
        {
          "output_type": "stream",
          "name": "stderr",
          "text": [
            "\r 42%|████▏     | 160/380 [05:30<07:16,  1.99s/it]"
          ]
        },
        {
          "output_type": "stream",
          "name": "stdout",
          "text": [
            "09.08.2022 22:00 BRASIL SÉRIE B - RODADA 23 Ituano Sport\n"
          ]
        },
        {
          "output_type": "stream",
          "name": "stderr",
          "text": [
            "\r 42%|████▏     | 161/380 [05:31<06:46,  1.86s/it]"
          ]
        },
        {
          "output_type": "stream",
          "name": "stdout",
          "text": [
            "06.08.2022 22:00 BRASIL SÉRIE B - RODADA 22 Cruzeiro Tombense\n"
          ]
        },
        {
          "output_type": "stream",
          "name": "stderr",
          "text": [
            "\r 43%|████▎     | 162/380 [05:33<07:04,  1.95s/it]"
          ]
        },
        {
          "output_type": "stream",
          "name": "stdout",
          "text": [
            "06.08.2022 22:00 BRASIL SÉRIE B - RODADA 22 Novorizontino Londrina\n"
          ]
        },
        {
          "output_type": "stream",
          "name": "stderr",
          "text": [
            "\r 43%|████▎     | 163/380 [05:35<07:15,  2.01s/it]"
          ]
        },
        {
          "output_type": "stream",
          "name": "stdout",
          "text": [
            "06.08.2022 19:30 BRASIL SÉRIE B - RODADA 22 Bahia CSA\n"
          ]
        },
        {
          "output_type": "stream",
          "name": "stderr",
          "text": [
            "\r 43%|████▎     | 164/380 [05:37<07:07,  1.98s/it]"
          ]
        },
        {
          "output_type": "stream",
          "name": "stdout",
          "text": [
            "06.08.2022 00:30 BRASIL SÉRIE B - RODADA 22 Guarani Grêmio\n"
          ]
        },
        {
          "output_type": "stream",
          "name": "stderr",
          "text": [
            "\r 43%|████▎     | 165/380 [05:39<07:13,  2.01s/it]"
          ]
        },
        {
          "output_type": "stream",
          "name": "stdout",
          "text": [
            "05.08.2022 22:00 BRASIL SÉRIE B - RODADA 22 Operário Náutico\n"
          ]
        },
        {
          "output_type": "stream",
          "name": "stderr",
          "text": [
            "\r 44%|████▎     | 166/380 [05:42<07:18,  2.05s/it]"
          ]
        },
        {
          "output_type": "stream",
          "name": "stdout",
          "text": [
            "05.08.2022 22:00 BRASIL SÉRIE B - RODADA 22 Vila Nova Ituano\n"
          ]
        },
        {
          "output_type": "stream",
          "name": "stderr",
          "text": [
            "\r 44%|████▍     | 167/380 [05:44<07:24,  2.09s/it]"
          ]
        },
        {
          "output_type": "stream",
          "name": "stdout",
          "text": [
            "05.08.2022 00:30 BRASIL SÉRIE B - RODADA 22 CRB Ponte Preta\n"
          ]
        },
        {
          "output_type": "stream",
          "name": "stderr",
          "text": [
            "\r 44%|████▍     | 168/380 [05:45<07:01,  1.99s/it]"
          ]
        },
        {
          "output_type": "stream",
          "name": "stdout",
          "text": [
            "04.08.2022 22:00 BRASIL SÉRIE B - RODADA 22 Brusque Sampaio Corrêa\n"
          ]
        },
        {
          "output_type": "stream",
          "name": "stderr",
          "text": [
            "\r 44%|████▍     | 169/380 [05:47<06:42,  1.91s/it]"
          ]
        },
        {
          "output_type": "stream",
          "name": "stdout",
          "text": [
            "03.08.2022 00:30 BRASIL SÉRIE B - RODADA 22 Sport Criciúma\n"
          ]
        },
        {
          "output_type": "stream",
          "name": "stderr",
          "text": [
            "\r 45%|████▍     | 170/380 [05:49<06:41,  1.91s/it]"
          ]
        },
        {
          "output_type": "stream",
          "name": "stdout",
          "text": [
            "31.07.2022 19:00 BRASIL SÉRIE B - RODADA 22 Vasco Chapecoense\n"
          ]
        },
        {
          "output_type": "stream",
          "name": "stderr",
          "text": [
            "\r 45%|████▌     | 171/380 [05:51<06:51,  1.97s/it]"
          ]
        },
        {
          "output_type": "stream",
          "name": "stdout",
          "text": [
            "30.07.2022 23:30 BRASIL SÉRIE B - RODADA 21 CSA Ituano\n"
          ]
        },
        {
          "output_type": "stream",
          "name": "stderr",
          "text": [
            "\r 45%|████▌     | 172/380 [05:53<06:51,  1.98s/it]"
          ]
        },
        {
          "output_type": "stream",
          "name": "stdout",
          "text": [
            "30.07.2022 22:00 BRASIL SÉRIE B - RODADA 21 Ponte Preta Operário\n"
          ]
        },
        {
          "output_type": "stream",
          "name": "stderr",
          "text": [
            "\r 46%|████▌     | 173/380 [05:55<07:05,  2.06s/it]"
          ]
        },
        {
          "output_type": "stream",
          "name": "stdout",
          "text": [
            "30.07.2022 21:30 BRASIL SÉRIE B - RODADA 21 Novorizontino Vila Nova\n"
          ]
        },
        {
          "output_type": "stream",
          "name": "stderr",
          "text": [
            "\r 46%|████▌     | 174/380 [05:58<07:09,  2.08s/it]"
          ]
        },
        {
          "output_type": "stream",
          "name": "stdout",
          "text": [
            "30.07.2022 19:00 BRASIL SÉRIE B - RODADA 21 Londrina Criciúma\n"
          ]
        },
        {
          "output_type": "stream",
          "name": "stderr",
          "text": [
            "\r 46%|████▌     | 175/380 [06:00<07:21,  2.15s/it]"
          ]
        },
        {
          "output_type": "stream",
          "name": "stdout",
          "text": [
            "30.07.2022 14:00 BRASIL SÉRIE B - RODADA 21 Brusque Cruzeiro\n"
          ]
        },
        {
          "output_type": "stream",
          "name": "stderr",
          "text": [
            "\r 46%|████▋     | 176/380 [06:01<06:41,  1.97s/it]"
          ]
        },
        {
          "output_type": "stream",
          "name": "stdout",
          "text": [
            "30.07.2022 00:30 BRASIL SÉRIE B - RODADA 21 Tombense Sampaio Corrêa\n"
          ]
        },
        {
          "output_type": "stream",
          "name": "stderr",
          "text": [
            "\r 47%|████▋     | 177/380 [06:05<07:47,  2.30s/it]"
          ]
        },
        {
          "output_type": "stream",
          "name": "stdout",
          "text": [
            "29.07.2022 22:00 BRASIL SÉRIE B - RODADA 21 Bahia Náutico\n"
          ]
        },
        {
          "output_type": "stream",
          "name": "stderr",
          "text": [
            "\r 47%|████▋     | 178/380 [06:07<07:47,  2.31s/it]"
          ]
        },
        {
          "output_type": "stream",
          "name": "stdout",
          "text": [
            "29.07.2022 00:30 BRASIL SÉRIE B - RODADA 21 Sport Guarani\n"
          ]
        },
        {
          "output_type": "stream",
          "name": "stderr",
          "text": [
            "\r 47%|████▋     | 179/380 [06:10<08:04,  2.41s/it]"
          ]
        },
        {
          "output_type": "stream",
          "name": "stdout",
          "text": [
            "28.07.2022 22:00 BRASIL SÉRIE B - RODADA 21 Vasco CRB\n"
          ]
        },
        {
          "output_type": "stream",
          "name": "stderr",
          "text": [
            "\r 47%|████▋     | 180/380 [06:12<07:59,  2.40s/it]"
          ]
        },
        {
          "output_type": "stream",
          "name": "stdout",
          "text": [
            "26.07.2022 21:30 BRASIL SÉRIE B - RODADA 21 Chapecoense Grêmio\n"
          ]
        },
        {
          "output_type": "stream",
          "name": "stderr",
          "text": [
            "\r 48%|████▊     | 181/380 [06:15<08:26,  2.54s/it]"
          ]
        },
        {
          "output_type": "stream",
          "name": "stdout",
          "text": [
            "25.07.2022 22:00 BRASIL SÉRIE B - RODADA 20 Criciúma CSA\n"
          ]
        },
        {
          "output_type": "stream",
          "name": "stderr",
          "text": [
            "\r 48%|████▊     | 182/380 [06:17<07:51,  2.38s/it]"
          ]
        },
        {
          "output_type": "stream",
          "name": "stdout",
          "text": [
            "25.07.2022 22:00 BRASIL SÉRIE B - RODADA 20 Operário Tombense\n"
          ]
        },
        {
          "output_type": "stream",
          "name": "stderr",
          "text": [
            "\r 48%|████▊     | 183/380 [06:19<07:51,  2.39s/it]"
          ]
        },
        {
          "output_type": "stream",
          "name": "stdout",
          "text": [
            "24.07.2022 14:00 BRASIL SÉRIE B - RODADA 20 Guarani Brusque\n"
          ]
        },
        {
          "output_type": "stream",
          "name": "stderr",
          "text": [
            "\r 48%|████▊     | 184/380 [06:21<07:17,  2.23s/it]"
          ]
        },
        {
          "output_type": "stream",
          "name": "stdout",
          "text": [
            "23.07.2022 23:30 BRASIL SÉRIE B - RODADA 20 CRB Novorizontino\n"
          ]
        },
        {
          "output_type": "stream",
          "name": "stderr",
          "text": [
            "\r 49%|████▊     | 185/380 [06:23<06:58,  2.14s/it]"
          ]
        },
        {
          "output_type": "stream",
          "name": "stdout",
          "text": [
            "23.07.2022 22:00 BRASIL SÉRIE B - RODADA 20 Ituano Chapecoense\n"
          ]
        },
        {
          "output_type": "stream",
          "name": "stderr",
          "text": [
            "\r 49%|████▉     | 186/380 [06:25<06:47,  2.10s/it]"
          ]
        },
        {
          "output_type": "stream",
          "name": "stdout",
          "text": [
            "23.07.2022 21:30 BRASIL SÉRIE B - RODADA 20 Náutico Londrina\n"
          ]
        },
        {
          "output_type": "stream",
          "name": "stderr",
          "text": [
            "\r 49%|████▉     | 187/380 [06:27<06:46,  2.11s/it]"
          ]
        },
        {
          "output_type": "stream",
          "name": "stdout",
          "text": [
            "23.07.2022 19:30 BRASIL SÉRIE B - RODADA 20 Grêmio Ponte Preta\n"
          ]
        },
        {
          "output_type": "stream",
          "name": "stderr",
          "text": [
            "\r 49%|████▉     | 188/380 [06:29<06:30,  2.03s/it]"
          ]
        },
        {
          "output_type": "stream",
          "name": "stdout",
          "text": [
            "23.07.2022 19:30 BRASIL SÉRIE B - RODADA 20 Vila Nova Vasco\n"
          ]
        },
        {
          "output_type": "stream",
          "name": "stderr",
          "text": [
            "\r 50%|████▉     | 189/380 [06:31<06:24,  2.01s/it]"
          ]
        },
        {
          "output_type": "stream",
          "name": "stdout",
          "text": [
            "23.07.2022 19:00 BRASIL SÉRIE B - RODADA 20 Cruzeiro Bahia\n"
          ]
        },
        {
          "output_type": "stream",
          "name": "stderr",
          "text": [
            "\r 50%|█████     | 190/380 [06:33<06:06,  1.93s/it]"
          ]
        },
        {
          "output_type": "stream",
          "name": "stdout",
          "text": [
            "23.07.2022 00:30 BRASIL SÉRIE B - RODADA 20 Sampaio Corrêa Sport\n"
          ]
        },
        {
          "output_type": "stream",
          "name": "stderr",
          "text": [
            "\r 50%|█████     | 191/380 [06:35<06:02,  1.92s/it]"
          ]
        },
        {
          "output_type": "stream",
          "name": "stdout",
          "text": [
            "21.07.2022 00:30 BRASIL SÉRIE B - RODADA 19 Novorizontino Operário\n"
          ]
        },
        {
          "output_type": "stream",
          "name": "stderr",
          "text": [
            "\r 51%|█████     | 192/380 [06:37<06:04,  1.94s/it]"
          ]
        },
        {
          "output_type": "stream",
          "name": "stdout",
          "text": [
            "20.07.2022 22:00 BRASIL SÉRIE B - RODADA 19 Chapecoense Guarani\n"
          ]
        },
        {
          "output_type": "stream",
          "name": "stderr",
          "text": [
            "\r 51%|█████     | 193/380 [06:38<05:52,  1.89s/it]"
          ]
        },
        {
          "output_type": "stream",
          "name": "stdout",
          "text": [
            "20.07.2022 22:00 BRASIL SÉRIE B - RODADA 19 CSA Cruzeiro\n"
          ]
        },
        {
          "output_type": "stream",
          "name": "stderr",
          "text": [
            "\r 51%|█████     | 194/380 [06:40<05:51,  1.89s/it]"
          ]
        },
        {
          "output_type": "stream",
          "name": "stdout",
          "text": [
            "20.07.2022 22:00 BRASIL SÉRIE B - RODADA 19 Ponte Preta Náutico\n"
          ]
        },
        {
          "output_type": "stream",
          "name": "stderr",
          "text": [
            "\r 51%|█████▏    | 195/380 [06:42<06:05,  1.97s/it]"
          ]
        },
        {
          "output_type": "stream",
          "name": "stdout",
          "text": [
            "20.07.2022 00:30 BRASIL SÉRIE B - RODADA 19 Vasco Ituano\n"
          ]
        },
        {
          "output_type": "stream",
          "name": "stderr",
          "text": [
            "\r 52%|█████▏    | 196/380 [06:45<06:18,  2.05s/it]"
          ]
        },
        {
          "output_type": "stream",
          "name": "stdout",
          "text": [
            "19.07.2022 22:00 BRASIL SÉRIE B - RODADA 19 Bahia CRB\n"
          ]
        },
        {
          "output_type": "stream",
          "name": "stderr",
          "text": [
            "\r 52%|█████▏    | 197/380 [06:47<06:12,  2.04s/it]"
          ]
        },
        {
          "output_type": "stream",
          "name": "stdout",
          "text": [
            "19.07.2022 22:00 BRASIL SÉRIE B - RODADA 19 Brusque Grêmio\n"
          ]
        },
        {
          "output_type": "stream",
          "name": "stderr",
          "text": [
            "\r 52%|█████▏    | 198/380 [06:49<06:18,  2.08s/it]"
          ]
        },
        {
          "output_type": "stream",
          "name": "stdout",
          "text": [
            "19.07.2022 22:00 BRASIL SÉRIE B - RODADA 19 Londrina Sampaio Corrêa\n"
          ]
        },
        {
          "output_type": "stream",
          "name": "stderr",
          "text": [
            "\r 52%|█████▏    | 199/380 [06:50<05:52,  1.95s/it]"
          ]
        },
        {
          "output_type": "stream",
          "name": "stdout",
          "text": [
            "19.07.2022 22:00 BRASIL SÉRIE B - RODADA 19 Tombense Criciúma\n"
          ]
        },
        {
          "output_type": "stream",
          "name": "stderr",
          "text": [
            "\r 53%|█████▎    | 200/380 [06:52<05:34,  1.86s/it]"
          ]
        },
        {
          "output_type": "stream",
          "name": "stdout",
          "text": [
            "18.07.2022 23:00 BRASIL SÉRIE B - RODADA 19 Sport Vila Nova\n"
          ]
        },
        {
          "output_type": "stream",
          "name": "stderr",
          "text": [
            "\r 53%|█████▎    | 201/380 [06:54<05:41,  1.91s/it]"
          ]
        },
        {
          "output_type": "stream",
          "name": "stdout",
          "text": [
            "17.07.2022 19:00 BRASIL SÉRIE B - RODADA 18 Cruzeiro Novorizontino\n"
          ]
        },
        {
          "output_type": "stream",
          "name": "stderr",
          "text": [
            "\r 53%|█████▎    | 202/380 [06:56<05:48,  1.96s/it]"
          ]
        },
        {
          "output_type": "stream",
          "name": "stdout",
          "text": [
            "17.07.2022 19:00 BRASIL SÉRIE B - RODADA 18 Náutico Chapecoense\n"
          ]
        },
        {
          "output_type": "stream",
          "name": "stderr",
          "text": [
            "\r 53%|█████▎    | 203/380 [06:58<05:49,  1.97s/it]"
          ]
        },
        {
          "output_type": "stream",
          "name": "stdout",
          "text": [
            "16.07.2022 21:30 BRASIL SÉRIE B - RODADA 18 Guarani Bahia\n"
          ]
        },
        {
          "output_type": "stream",
          "name": "stderr",
          "text": [
            "\r 54%|█████▎    | 204/380 [07:00<05:25,  1.85s/it]"
          ]
        },
        {
          "output_type": "stream",
          "name": "stdout",
          "text": [
            "16.07.2022 19:30 BRASIL SÉRIE B - RODADA 18 Grêmio Tombense\n"
          ]
        },
        {
          "output_type": "stream",
          "name": "stderr",
          "text": [
            "\r 54%|█████▍    | 205/380 [07:02<05:33,  1.91s/it]"
          ]
        },
        {
          "output_type": "stream",
          "name": "stdout",
          "text": [
            "16.07.2022 19:30 BRASIL SÉRIE B - RODADA 18 Sampaio Corrêa Vasco\n"
          ]
        },
        {
          "output_type": "stream",
          "name": "stderr",
          "text": [
            "\r 54%|█████▍    | 206/380 [07:04<05:46,  1.99s/it]"
          ]
        },
        {
          "output_type": "stream",
          "name": "stdout",
          "text": [
            "16.07.2022 19:00 BRASIL SÉRIE B - RODADA 18 CRB Brusque\n"
          ]
        },
        {
          "output_type": "stream",
          "name": "stderr",
          "text": [
            "\r 54%|█████▍    | 207/380 [07:06<05:43,  1.98s/it]"
          ]
        },
        {
          "output_type": "stream",
          "name": "stdout",
          "text": [
            "16.07.2022 14:00 BRASIL SÉRIE B - RODADA 18 Ituano Londrina\n"
          ]
        },
        {
          "output_type": "stream",
          "name": "stderr",
          "text": [
            "\r 55%|█████▍    | 208/380 [07:08<05:45,  2.01s/it]"
          ]
        },
        {
          "output_type": "stream",
          "name": "stdout",
          "text": [
            "16.07.2022 00:30 BRASIL SÉRIE B - RODADA 18 Vila Nova CSA\n"
          ]
        },
        {
          "output_type": "stream",
          "name": "stderr",
          "text": [
            "\r 55%|█████▌    | 209/380 [07:10<05:52,  2.06s/it]"
          ]
        },
        {
          "output_type": "stream",
          "name": "stdout",
          "text": [
            "15.07.2022 22:00 BRASIL SÉRIE B - RODADA 18 Criciúma Ponte Preta\n"
          ]
        },
        {
          "output_type": "stream",
          "name": "stderr",
          "text": [
            "\r 55%|█████▌    | 210/380 [07:12<05:40,  2.00s/it]"
          ]
        },
        {
          "output_type": "stream",
          "name": "stdout",
          "text": [
            "14.07.2022 21:30 BRASIL SÉRIE B - RODADA 18 Operário Sport\n"
          ]
        },
        {
          "output_type": "stream",
          "name": "stderr",
          "text": [
            "\r 56%|█████▌    | 211/380 [07:14<05:42,  2.03s/it]"
          ]
        },
        {
          "output_type": "stream",
          "name": "stdout",
          "text": [
            "09.07.2022 21:30 BRASIL SÉRIE B - RODADA 17 Sampaio Corrêa Ituano\n"
          ]
        },
        {
          "output_type": "stream",
          "name": "stderr",
          "text": [
            "\r 56%|█████▌    | 212/380 [07:16<05:36,  2.00s/it]"
          ]
        },
        {
          "output_type": "stream",
          "name": "stdout",
          "text": [
            "09.07.2022 19:30 BRASIL SÉRIE B - RODADA 17 Criciúma Vasco\n"
          ]
        },
        {
          "output_type": "stream",
          "name": "stderr",
          "text": [
            "\r 56%|█████▌    | 213/380 [07:18<05:19,  1.91s/it]"
          ]
        },
        {
          "output_type": "stream",
          "name": "stdout",
          "text": [
            "09.07.2022 19:30 BRASIL SÉRIE B - RODADA 17 Tombense Chapecoense\n"
          ]
        },
        {
          "output_type": "stream",
          "name": "stderr",
          "text": [
            "\r 56%|█████▋    | 214/380 [07:19<04:58,  1.80s/it]"
          ]
        },
        {
          "output_type": "stream",
          "name": "stdout",
          "text": [
            "09.07.2022 19:00 BRASIL SÉRIE B - RODADA 17 Sport Londrina\n"
          ]
        },
        {
          "output_type": "stream",
          "name": "stderr",
          "text": [
            "\r 57%|█████▋    | 215/380 [07:21<04:38,  1.69s/it]"
          ]
        },
        {
          "output_type": "stream",
          "name": "stdout",
          "text": [
            "09.07.2022 14:00 BRASIL SÉRIE B - RODADA 17 Guarani Cruzeiro\n"
          ]
        },
        {
          "output_type": "stream",
          "name": "stderr",
          "text": [
            "\r 57%|█████▋    | 216/380 [07:23<04:45,  1.74s/it]"
          ]
        },
        {
          "output_type": "stream",
          "name": "stdout",
          "text": [
            "09.07.2022 00:30 BRASIL SÉRIE B - RODADA 17 Grêmio Náutico\n"
          ]
        },
        {
          "output_type": "stream",
          "name": "stderr",
          "text": [
            "\r 57%|█████▋    | 217/380 [07:24<04:49,  1.78s/it]"
          ]
        },
        {
          "output_type": "stream",
          "name": "stdout",
          "text": [
            "08.07.2022 22:00 BRASIL SÉRIE B - RODADA 17 Vila Nova Bahia\n"
          ]
        },
        {
          "output_type": "stream",
          "name": "stderr",
          "text": [
            "\r 57%|█████▋    | 218/380 [07:27<05:10,  1.92s/it]"
          ]
        },
        {
          "output_type": "stream",
          "name": "stdout",
          "text": [
            "07.07.2022 22:00 BRASIL SÉRIE B - RODADA 17 CSA Ponte Preta\n"
          ]
        },
        {
          "output_type": "stream",
          "name": "stderr",
          "text": [
            "\r 58%|█████▊    | 219/380 [07:29<05:14,  1.96s/it]"
          ]
        },
        {
          "output_type": "stream",
          "name": "stdout",
          "text": [
            "07.07.2022 00:30 BRASIL SÉRIE B - RODADA 17 Novorizontino Brusque\n"
          ]
        },
        {
          "output_type": "stream",
          "name": "stderr",
          "text": [
            "\r 58%|█████▊    | 220/380 [07:31<05:12,  1.95s/it]"
          ]
        },
        {
          "output_type": "stream",
          "name": "stdout",
          "text": [
            "06.07.2022 00:30 BRASIL SÉRIE B - RODADA 17 Operário CRB\n"
          ]
        },
        {
          "output_type": "stream",
          "name": "stderr",
          "text": [
            "\r 58%|█████▊    | 221/380 [07:33<05:16,  1.99s/it]"
          ]
        },
        {
          "output_type": "stream",
          "name": "stdout",
          "text": [
            "05.07.2022 22:00 BRASIL SÉRIE B - RODADA 10 Chapecoense Londrina\n"
          ]
        },
        {
          "output_type": "stream",
          "name": "stderr",
          "text": [
            "\r 58%|█████▊    | 222/380 [07:35<05:21,  2.04s/it]"
          ]
        },
        {
          "output_type": "stream",
          "name": "stdout",
          "text": [
            "05.07.2022 22:00 BRASIL SÉRIE B - RODADA 14 Ituano Cruzeiro\n"
          ]
        },
        {
          "output_type": "stream",
          "name": "stderr",
          "text": [
            "\r 59%|█████▊    | 223/380 [07:37<05:19,  2.04s/it]"
          ]
        },
        {
          "output_type": "stream",
          "name": "stdout",
          "text": [
            "03.07.2022 19:00 BRASIL SÉRIE B - RODADA 16 Bahia Grêmio\n"
          ]
        },
        {
          "output_type": "stream",
          "name": "stderr",
          "text": [
            "\r 59%|█████▉    | 224/380 [07:39<04:54,  1.89s/it]"
          ]
        },
        {
          "output_type": "stream",
          "name": "stdout",
          "text": [
            "03.07.2022 19:00 BRASIL SÉRIE B - RODADA 16 Vasco Sport\n"
          ]
        },
        {
          "output_type": "stream",
          "name": "stderr",
          "text": [
            "\r 59%|█████▉    | 225/380 [07:40<04:30,  1.75s/it]"
          ]
        },
        {
          "output_type": "stream",
          "name": "stdout",
          "text": [
            "03.07.2022 14:00 BRASIL SÉRIE B - RODADA 16 Ponte Preta Tombense\n"
          ]
        },
        {
          "output_type": "stream",
          "name": "stderr",
          "text": [
            "\r 59%|█████▉    | 226/380 [07:42<04:33,  1.77s/it]"
          ]
        },
        {
          "output_type": "stream",
          "name": "stdout",
          "text": [
            "02.07.2022 23:30 BRASIL SÉRIE B - RODADA 16 CRB Guarani\n"
          ]
        },
        {
          "output_type": "stream",
          "name": "stderr",
          "text": [
            "\r 60%|█████▉    | 227/380 [07:43<04:28,  1.76s/it]"
          ]
        },
        {
          "output_type": "stream",
          "name": "stdout",
          "text": [
            "02.07.2022 21:30 BRASIL SÉRIE B - RODADA 16 Náutico Novorizontino\n"
          ]
        },
        {
          "output_type": "stream",
          "name": "stderr",
          "text": [
            "\r 60%|██████    | 228/380 [07:45<04:28,  1.77s/it]"
          ]
        },
        {
          "output_type": "stream",
          "name": "stdout",
          "text": [
            "02.07.2022 19:00 BRASIL SÉRIE B - RODADA 16 Ituano Criciúma\n"
          ]
        },
        {
          "output_type": "stream",
          "name": "stderr",
          "text": [
            "\r 60%|██████    | 229/380 [07:47<04:26,  1.77s/it]"
          ]
        },
        {
          "output_type": "stream",
          "name": "stdout",
          "text": [
            "02.07.2022 14:00 BRASIL SÉRIE B - RODADA 16 Londrina CSA\n"
          ]
        },
        {
          "output_type": "stream",
          "name": "stderr",
          "text": [
            "\r 61%|██████    | 230/380 [07:49<04:31,  1.81s/it]"
          ]
        },
        {
          "output_type": "stream",
          "name": "stdout",
          "text": [
            "02.07.2022 00:30 BRASIL SÉRIE B - RODADA 16 Brusque Operário\n"
          ]
        },
        {
          "output_type": "stream",
          "name": "stderr",
          "text": [
            "\r 61%|██████    | 231/380 [07:51<04:34,  1.84s/it]"
          ]
        },
        {
          "output_type": "stream",
          "name": "stdout",
          "text": [
            "02.07.2022 00:30 BRASIL SÉRIE B - RODADA 16 Cruzeiro Vila Nova\n"
          ]
        },
        {
          "output_type": "stream",
          "name": "stderr",
          "text": [
            "\r 61%|██████    | 232/380 [07:53<04:42,  1.91s/it]"
          ]
        },
        {
          "output_type": "stream",
          "name": "stdout",
          "text": [
            "01.07.2022 22:00 BRASIL SÉRIE B - RODADA 16 Chapecoense Sampaio Corrêa\n"
          ]
        },
        {
          "output_type": "stream",
          "name": "stderr",
          "text": [
            "\r 61%|██████▏   | 233/380 [07:54<04:20,  1.78s/it]"
          ]
        },
        {
          "output_type": "stream",
          "name": "stdout",
          "text": [
            "30.06.2022 00:30 BRASIL SÉRIE B - RODADA 15 CRB Tombense\n"
          ]
        },
        {
          "output_type": "stream",
          "name": "stderr",
          "text": [
            "\r 62%|██████▏   | 234/380 [07:56<04:23,  1.81s/it]"
          ]
        },
        {
          "output_type": "stream",
          "name": "stdout",
          "text": [
            "30.06.2022 00:30 BRASIL SÉRIE B - RODADA 15 Novorizontino Vasco\n"
          ]
        },
        {
          "output_type": "stream",
          "name": "stderr",
          "text": [
            "\r 62%|██████▏   | 235/380 [07:58<04:37,  1.91s/it]"
          ]
        },
        {
          "output_type": "stream",
          "name": "stdout",
          "text": [
            "29.06.2022 22:00 BRASIL SÉRIE B - RODADA 15 Náutico Criciúma\n"
          ]
        },
        {
          "output_type": "stream",
          "name": "stderr",
          "text": [
            "\r 62%|██████▏   | 236/380 [08:00<04:28,  1.86s/it]"
          ]
        },
        {
          "output_type": "stream",
          "name": "stdout",
          "text": [
            "29.06.2022 00:30 BRASIL SÉRIE B - RODADA 15 Cruzeiro Sport\n"
          ]
        },
        {
          "output_type": "stream",
          "name": "stderr",
          "text": [
            "\r 62%|██████▏   | 237/380 [08:02<04:36,  1.94s/it]"
          ]
        },
        {
          "output_type": "stream",
          "name": "stdout",
          "text": [
            "29.06.2022 00:30 BRASIL SÉRIE B - RODADA 15 Guarani Ituano\n"
          ]
        },
        {
          "output_type": "stream",
          "name": "stderr",
          "text": [
            "\r 63%|██████▎   | 238/380 [08:04<04:36,  1.95s/it]"
          ]
        },
        {
          "output_type": "stream",
          "name": "stdout",
          "text": [
            "29.06.2022 00:30 BRASIL SÉRIE B - RODADA 15 Vila Nova Ponte Preta\n"
          ]
        },
        {
          "output_type": "stream",
          "name": "stderr",
          "text": [
            "\r 63%|██████▎   | 239/380 [08:06<04:16,  1.82s/it]"
          ]
        },
        {
          "output_type": "stream",
          "name": "stdout",
          "text": [
            "28.06.2022 22:00 BRASIL SÉRIE B - RODADA 15 Brusque Bahia\n"
          ]
        },
        {
          "output_type": "stream",
          "name": "stderr",
          "text": [
            "\r 63%|██████▎   | 240/380 [08:08<04:17,  1.84s/it]"
          ]
        },
        {
          "output_type": "stream",
          "name": "stdout",
          "text": [
            "28.06.2022 22:00 BRASIL SÉRIE B - RODADA 15 Grêmio Londrina\n"
          ]
        },
        {
          "output_type": "stream",
          "name": "stderr",
          "text": [
            "\r 63%|██████▎   | 241/380 [08:10<04:21,  1.88s/it]"
          ]
        },
        {
          "output_type": "stream",
          "name": "stdout",
          "text": [
            "27.06.2022 23:00 BRASIL SÉRIE B - RODADA 15 Operário Chapecoense\n"
          ]
        },
        {
          "output_type": "stream",
          "name": "stderr",
          "text": [
            "\r 64%|██████▎   | 242/380 [08:11<04:16,  1.86s/it]"
          ]
        },
        {
          "output_type": "stream",
          "name": "stdout",
          "text": [
            "27.06.2022 23:00 BRASIL SÉRIE B - RODADA 15 Sampaio Corrêa CSA\n"
          ]
        },
        {
          "output_type": "stream",
          "name": "stderr",
          "text": [
            "\r 64%|██████▍   | 243/380 [08:13<04:14,  1.86s/it]"
          ]
        },
        {
          "output_type": "stream",
          "name": "stdout",
          "text": [
            "26.06.2022 14:00 BRASIL SÉRIE B - RODADA 14 Tombense Náutico\n"
          ]
        },
        {
          "output_type": "stream",
          "name": "stderr",
          "text": [
            "\r 64%|██████▍   | 244/380 [08:15<04:05,  1.80s/it]"
          ]
        },
        {
          "output_type": "stream",
          "name": "stdout",
          "text": [
            "25.06.2022 21:30 BRASIL SÉRIE B - RODADA 14 Sport Brusque\n"
          ]
        },
        {
          "output_type": "stream",
          "name": "stderr",
          "text": [
            "\r 64%|██████▍   | 245/380 [08:17<04:06,  1.83s/it]"
          ]
        },
        {
          "output_type": "stream",
          "name": "stdout",
          "text": [
            "25.06.2022 19:00 BRASIL SÉRIE B - RODADA 14 Bahia Novorizontino\n"
          ]
        },
        {
          "output_type": "stream",
          "name": "stderr",
          "text": [
            "\r 65%|██████▍   | 246/380 [08:19<04:19,  1.94s/it]"
          ]
        },
        {
          "output_type": "stream",
          "name": "stdout",
          "text": [
            "25.06.2022 14:00 BRASIL SÉRIE B - RODADA 14 Criciúma Vila Nova\n"
          ]
        },
        {
          "output_type": "stream",
          "name": "stderr",
          "text": [
            "\r 65%|██████▌   | 247/380 [08:21<04:20,  1.96s/it]"
          ]
        },
        {
          "output_type": "stream",
          "name": "stdout",
          "text": [
            "24.06.2022 22:00 BRASIL SÉRIE B - RODADA 14 Londrina Guarani\n"
          ]
        },
        {
          "output_type": "stream",
          "name": "stderr",
          "text": [
            "\r 65%|██████▌   | 248/380 [08:23<04:11,  1.91s/it]"
          ]
        },
        {
          "output_type": "stream",
          "name": "stdout",
          "text": [
            "24.06.2022 22:00 BRASIL SÉRIE B - RODADA 14 Vasco Operário\n"
          ]
        },
        {
          "output_type": "stream",
          "name": "stderr",
          "text": [
            "\r 66%|██████▌   | 249/380 [08:25<04:11,  1.92s/it]"
          ]
        },
        {
          "output_type": "stream",
          "name": "stdout",
          "text": [
            "24.06.2022 00:30 BRASIL SÉRIE B - RODADA 14 CSA Grêmio\n"
          ]
        },
        {
          "output_type": "stream",
          "name": "stderr",
          "text": [
            "\r 66%|██████▌   | 250/380 [08:27<04:08,  1.91s/it]"
          ]
        },
        {
          "output_type": "stream",
          "name": "stdout",
          "text": [
            "24.06.2022 00:30 BRASIL SÉRIE B - RODADA 14 Ponte Preta Sampaio Corrêa\n"
          ]
        },
        {
          "output_type": "stream",
          "name": "stderr",
          "text": [
            "\r 66%|██████▌   | 251/380 [08:29<04:12,  1.96s/it]"
          ]
        },
        {
          "output_type": "stream",
          "name": "stdout",
          "text": [
            "21.06.2022 22:00 BRASIL SÉRIE B - RODADA 14 Chapecoense CRB\n"
          ]
        },
        {
          "output_type": "stream",
          "name": "stderr",
          "text": [
            "\r 66%|██████▋   | 252/380 [08:31<04:14,  1.99s/it]"
          ]
        },
        {
          "output_type": "stream",
          "name": "stdout",
          "text": [
            "19.06.2022 14:00 BRASIL SÉRIE B - RODADA 13 Guarani CSA\n"
          ]
        },
        {
          "output_type": "stream",
          "name": "stderr",
          "text": [
            "\r 67%|██████▋   | 253/380 [08:33<04:08,  1.95s/it]"
          ]
        },
        {
          "output_type": "stream",
          "name": "stdout",
          "text": [
            "18.06.2022 21:30 BRASIL SÉRIE B - RODADA 13 Náutico Sport\n"
          ]
        },
        {
          "output_type": "stream",
          "name": "stderr",
          "text": [
            "\r 67%|██████▋   | 254/380 [08:35<04:06,  1.96s/it]"
          ]
        },
        {
          "output_type": "stream",
          "name": "stdout",
          "text": [
            "18.06.2022 19:00 BRASIL SÉRIE B - RODADA 13 Londrina Vasco\n"
          ]
        },
        {
          "output_type": "stream",
          "name": "stderr",
          "text": [
            "\r 67%|██████▋   | 255/380 [08:36<03:57,  1.90s/it]"
          ]
        },
        {
          "output_type": "stream",
          "name": "stdout",
          "text": [
            "18.06.2022 19:00 BRASIL SÉRIE B - RODADA 13 Novorizontino Tombense\n"
          ]
        },
        {
          "output_type": "stream",
          "name": "stderr",
          "text": [
            "\r 67%|██████▋   | 256/380 [08:39<04:06,  1.99s/it]"
          ]
        },
        {
          "output_type": "stream",
          "name": "stdout",
          "text": [
            "18.06.2022 14:00 BRASIL SÉRIE B - RODADA 13 Grêmio Sampaio Corrêa\n"
          ]
        },
        {
          "output_type": "stream",
          "name": "stderr",
          "text": [
            "\r 68%|██████▊   | 257/380 [08:41<04:02,  1.97s/it]"
          ]
        },
        {
          "output_type": "stream",
          "name": "stdout",
          "text": [
            "18.06.2022 00:30 BRASIL SÉRIE B - RODADA 13 CRB Ituano\n"
          ]
        },
        {
          "output_type": "stream",
          "name": "stderr",
          "text": [
            "\r 68%|██████▊   | 258/380 [08:42<03:55,  1.93s/it]"
          ]
        },
        {
          "output_type": "stream",
          "name": "stdout",
          "text": [
            "17.06.2022 22:00 BRASIL SÉRIE B - RODADA 13 Criciúma Brusque\n"
          ]
        },
        {
          "output_type": "stream",
          "name": "stderr",
          "text": [
            "\r 68%|██████▊   | 259/380 [08:45<04:02,  2.00s/it]"
          ]
        },
        {
          "output_type": "stream",
          "name": "stdout",
          "text": [
            "16.06.2022 23:00 BRASIL SÉRIE B - RODADA 13 Vila Nova Operário\n"
          ]
        },
        {
          "output_type": "stream",
          "name": "stderr",
          "text": [
            "\r 68%|██████▊   | 260/380 [08:47<04:00,  2.01s/it]"
          ]
        },
        {
          "output_type": "stream",
          "name": "stdout",
          "text": [
            "16.06.2022 19:00 BRASIL SÉRIE B - RODADA 13 Cruzeiro Ponte Preta\n"
          ]
        },
        {
          "output_type": "stream",
          "name": "stderr",
          "text": [
            "\r 69%|██████▊   | 261/380 [08:49<03:59,  2.01s/it]"
          ]
        },
        {
          "output_type": "stream",
          "name": "stdout",
          "text": [
            "14.06.2022 22:00 BRASIL SÉRIE B - RODADA 13 Bahia Chapecoense\n"
          ]
        },
        {
          "output_type": "stream",
          "name": "stderr",
          "text": [
            "\r 69%|██████▉   | 262/380 [08:51<04:04,  2.08s/it]"
          ]
        },
        {
          "output_type": "stream",
          "name": "stdout",
          "text": [
            "13.06.2022 23:00 BRASIL SÉRIE B - RODADA 12 Sport Grêmio\n"
          ]
        },
        {
          "output_type": "stream",
          "name": "stderr",
          "text": [
            "\r 69%|██████▉   | 263/380 [08:53<03:53,  2.00s/it]"
          ]
        },
        {
          "output_type": "stream",
          "name": "stdout",
          "text": [
            "12.06.2022 22:00 BRASIL SÉRIE B - RODADA 12 Tombense CSA\n"
          ]
        },
        {
          "output_type": "stream",
          "name": "stderr",
          "text": [
            "\r 69%|██████▉   | 264/380 [08:55<03:54,  2.02s/it]"
          ]
        },
        {
          "output_type": "stream",
          "name": "stdout",
          "text": [
            "12.06.2022 19:00 BRASIL SÉRIE B - RODADA 12 Vasco Cruzeiro\n"
          ]
        },
        {
          "output_type": "stream",
          "name": "stderr",
          "text": [
            "\r 70%|██████▉   | 265/380 [08:57<03:57,  2.07s/it]"
          ]
        },
        {
          "output_type": "stream",
          "name": "stdout",
          "text": [
            "12.06.2022 14:00 BRASIL SÉRIE B - RODADA 12 Novorizontino Guarani\n"
          ]
        },
        {
          "output_type": "stream",
          "name": "stderr",
          "text": [
            "\r 70%|███████   | 266/380 [08:59<03:52,  2.04s/it]"
          ]
        },
        {
          "output_type": "stream",
          "name": "stdout",
          "text": [
            "11.06.2022 21:30 BRASIL SÉRIE B - RODADA 12 Operário Bahia\n"
          ]
        },
        {
          "output_type": "stream",
          "name": "stderr",
          "text": [
            "\r 70%|███████   | 267/380 [09:01<03:48,  2.02s/it]"
          ]
        },
        {
          "output_type": "stream",
          "name": "stdout",
          "text": [
            "11.06.2022 19:30 BRASIL SÉRIE B - RODADA 12 CRB Vila Nova\n"
          ]
        },
        {
          "output_type": "stream",
          "name": "stderr",
          "text": [
            "\r 71%|███████   | 268/380 [09:03<03:38,  1.95s/it]"
          ]
        },
        {
          "output_type": "stream",
          "name": "stdout",
          "text": [
            "11.06.2022 19:30 BRASIL SÉRIE B - RODADA 12 Ponte Preta Londrina\n"
          ]
        },
        {
          "output_type": "stream",
          "name": "stderr",
          "text": [
            "\r 71%|███████   | 269/380 [09:05<03:36,  1.95s/it]"
          ]
        },
        {
          "output_type": "stream",
          "name": "stdout",
          "text": [
            "11.06.2022 14:00 BRASIL SÉRIE B - RODADA 12 Brusque Ituano\n"
          ]
        },
        {
          "output_type": "stream",
          "name": "stderr",
          "text": [
            "\r 71%|███████   | 270/380 [09:07<03:37,  1.98s/it]"
          ]
        },
        {
          "output_type": "stream",
          "name": "stdout",
          "text": [
            "11.06.2022 00:30 BRASIL SÉRIE B - RODADA 12 Chapecoense Criciúma\n"
          ]
        },
        {
          "output_type": "stream",
          "name": "stderr",
          "text": [
            "\r 71%|███████▏  | 271/380 [09:09<03:42,  2.04s/it]"
          ]
        },
        {
          "output_type": "stream",
          "name": "stdout",
          "text": [
            "10.06.2022 22:00 BRASIL SÉRIE B - RODADA 12 Sampaio Corrêa Náutico\n"
          ]
        },
        {
          "output_type": "stream",
          "name": "stderr",
          "text": [
            "\r 72%|███████▏  | 272/380 [09:11<03:27,  1.93s/it]"
          ]
        },
        {
          "output_type": "stream",
          "name": "stdout",
          "text": [
            "09.06.2022 00:30 BRASIL SÉRIE B - RODADA 11 Bahia Sport\n"
          ]
        },
        {
          "output_type": "stream",
          "name": "stderr",
          "text": [
            "\r 72%|███████▏  | 273/380 [09:13<03:30,  1.97s/it]"
          ]
        },
        {
          "output_type": "stream",
          "name": "stdout",
          "text": [
            "08.06.2022 22:00 BRASIL SÉRIE B - RODADA 11 Cruzeiro CRB\n"
          ]
        },
        {
          "output_type": "stream",
          "name": "stderr",
          "text": [
            "\r 72%|███████▏  | 274/380 [09:15<03:35,  2.03s/it]"
          ]
        },
        {
          "output_type": "stream",
          "name": "stdout",
          "text": [
            "08.06.2022 00:30 BRASIL SÉRIE B - RODADA 11 CSA Chapecoense\n"
          ]
        },
        {
          "output_type": "stream",
          "name": "stderr",
          "text": [
            "\r 72%|███████▏  | 275/380 [09:17<03:38,  2.08s/it]"
          ]
        },
        {
          "output_type": "stream",
          "name": "stdout",
          "text": [
            "08.06.2022 00:30 BRASIL SÉRIE B - RODADA 11 Grêmio Novorizontino\n"
          ]
        },
        {
          "output_type": "stream",
          "name": "stderr",
          "text": [
            "\r 73%|███████▎  | 276/380 [09:19<03:31,  2.03s/it]"
          ]
        },
        {
          "output_type": "stream",
          "name": "stdout",
          "text": [
            "07.06.2022 23:30 BRASIL SÉRIE B - RODADA 11 Criciúma Sampaio Corrêa\n"
          ]
        },
        {
          "output_type": "stream",
          "name": "stderr",
          "text": [
            "\r 73%|███████▎  | 277/380 [09:21<03:26,  2.01s/it]"
          ]
        },
        {
          "output_type": "stream",
          "name": "stdout",
          "text": [
            "07.06.2022 23:30 BRASIL SÉRIE B - RODADA 11 Ituano Ponte Preta\n"
          ]
        },
        {
          "output_type": "stream",
          "name": "stderr",
          "text": [
            "\r 73%|███████▎  | 278/380 [09:23<03:21,  1.98s/it]"
          ]
        },
        {
          "output_type": "stream",
          "name": "stdout",
          "text": [
            "07.06.2022 22:00 BRASIL SÉRIE B - RODADA 11 Londrina Tombense\n"
          ]
        },
        {
          "output_type": "stream",
          "name": "stderr",
          "text": [
            "\r 73%|███████▎  | 279/380 [09:25<03:22,  2.01s/it]"
          ]
        },
        {
          "output_type": "stream",
          "name": "stdout",
          "text": [
            "07.06.2022 22:00 BRASIL SÉRIE B - RODADA 11 Náutico Vasco\n"
          ]
        },
        {
          "output_type": "stream",
          "name": "stderr",
          "text": [
            "\r 74%|███████▎  | 280/380 [09:27<03:23,  2.03s/it]"
          ]
        },
        {
          "output_type": "stream",
          "name": "stdout",
          "text": [
            "07.06.2022 22:00 BRASIL SÉRIE B - RODADA 11 Vila Nova Brusque\n"
          ]
        },
        {
          "output_type": "stream",
          "name": "stderr",
          "text": [
            "\r 74%|███████▍  | 281/380 [09:29<03:17,  1.99s/it]"
          ]
        },
        {
          "output_type": "stream",
          "name": "stdout",
          "text": [
            "06.06.2022 23:00 BRASIL SÉRIE B - RODADA 11 Guarani Operário\n"
          ]
        },
        {
          "output_type": "stream",
          "name": "stderr",
          "text": [
            "\r 74%|███████▍  | 282/380 [09:31<03:11,  1.95s/it]"
          ]
        },
        {
          "output_type": "stream",
          "name": "stdout",
          "text": [
            "04.06.2022 22:00 BRASIL SÉRIE B - RODADA 10 Brusque Náutico\n"
          ]
        },
        {
          "output_type": "stream",
          "name": "stderr",
          "text": [
            "\r 74%|███████▍  | 283/380 [09:32<03:06,  1.92s/it]"
          ]
        },
        {
          "output_type": "stream",
          "name": "stdout",
          "text": [
            "04.06.2022 22:00 BRASIL SÉRIE B - RODADA 10 Tombense Ituano\n"
          ]
        },
        {
          "output_type": "stream",
          "name": "stderr",
          "text": [
            "\r 75%|███████▍  | 284/380 [09:34<03:03,  1.92s/it]"
          ]
        },
        {
          "output_type": "stream",
          "name": "stdout",
          "text": [
            "04.06.2022 19:30 BRASIL SÉRIE B - RODADA 10 Bahia Criciúma\n"
          ]
        },
        {
          "output_type": "stream",
          "name": "stderr",
          "text": [
            "\r 75%|███████▌  | 285/380 [09:36<03:06,  1.97s/it]"
          ]
        },
        {
          "output_type": "stream",
          "name": "stdout",
          "text": [
            "04.06.2022 19:30 BRASIL SÉRIE B - RODADA 10 Novorizontino Sampaio Corrêa\n"
          ]
        },
        {
          "output_type": "stream",
          "name": "stderr",
          "text": [
            "\r 75%|███████▌  | 286/380 [09:39<03:07,  1.99s/it]"
          ]
        },
        {
          "output_type": "stream",
          "name": "stdout",
          "text": [
            "04.06.2022 00:30 BRASIL SÉRIE B - RODADA 10 Operário Cruzeiro\n"
          ]
        },
        {
          "output_type": "stream",
          "name": "stderr",
          "text": [
            "\r 76%|███████▌  | 287/380 [09:41<03:08,  2.03s/it]"
          ]
        },
        {
          "output_type": "stream",
          "name": "stdout",
          "text": [
            "03.06.2022 00:30 BRASIL SÉRIE B - RODADA 10 Guarani Vila Nova\n"
          ]
        },
        {
          "output_type": "stream",
          "name": "stderr",
          "text": [
            "\r 76%|███████▌  | 288/380 [09:43<03:04,  2.01s/it]"
          ]
        },
        {
          "output_type": "stream",
          "name": "stdout",
          "text": [
            "03.06.2022 00:30 BRASIL SÉRIE B - RODADA 10 Sport Ponte Preta\n"
          ]
        },
        {
          "output_type": "stream",
          "name": "stderr",
          "text": [
            "\r 76%|███████▌  | 289/380 [09:45<03:05,  2.03s/it]"
          ]
        },
        {
          "output_type": "stream",
          "name": "stdout",
          "text": [
            "02.06.2022 23:00 BRASIL SÉRIE B - RODADA 10 Vasco Grêmio\n"
          ]
        },
        {
          "output_type": "stream",
          "name": "stderr",
          "text": [
            "\r 76%|███████▋  | 290/380 [09:47<03:00,  2.00s/it]"
          ]
        },
        {
          "output_type": "stream",
          "name": "stdout",
          "text": [
            "02.06.2022 00:30 BRASIL SÉRIE B - RODADA 10 CRB CSA\n"
          ]
        },
        {
          "output_type": "stream",
          "name": "stderr",
          "text": [
            "\r 77%|███████▋  | 291/380 [09:49<02:55,  1.97s/it]"
          ]
        },
        {
          "output_type": "stream",
          "name": "stdout",
          "text": [
            "29.05.2022 19:00 BRASIL SÉRIE B - RODADA 9 Vila Nova Grêmio\n"
          ]
        },
        {
          "output_type": "stream",
          "name": "stderr",
          "text": [
            "\r 77%|███████▋  | 292/380 [09:51<02:59,  2.04s/it]"
          ]
        },
        {
          "output_type": "stream",
          "name": "stdout",
          "text": [
            "28.05.2022 22:00 BRASIL SÉRIE B - RODADA 9 Sampaio Corrêa Guarani\n"
          ]
        },
        {
          "output_type": "stream",
          "name": "stderr",
          "text": [
            "\r 77%|███████▋  | 293/380 [09:53<02:58,  2.05s/it]"
          ]
        },
        {
          "output_type": "stream",
          "name": "stdout",
          "text": [
            "28.05.2022 19:30 BRASIL SÉRIE B - RODADA 9 CSA Novorizontino\n"
          ]
        },
        {
          "output_type": "stream",
          "name": "stderr",
          "text": [
            "\r 77%|███████▋  | 294/380 [09:55<03:00,  2.10s/it]"
          ]
        },
        {
          "output_type": "stream",
          "name": "stdout",
          "text": [
            "28.05.2022 00:30 BRASIL SÉRIE B - RODADA 9 Criciúma Cruzeiro\n"
          ]
        },
        {
          "output_type": "stream",
          "name": "stderr",
          "text": [
            "\r 78%|███████▊  | 295/380 [09:57<02:57,  2.09s/it]"
          ]
        },
        {
          "output_type": "stream",
          "name": "stdout",
          "text": [
            "27.05.2022 22:00 BRASIL SÉRIE B - RODADA 9 Tombense Bahia\n"
          ]
        },
        {
          "output_type": "stream",
          "name": "stderr",
          "text": [
            "\r 78%|███████▊  | 296/380 [09:59<02:53,  2.07s/it]"
          ]
        },
        {
          "output_type": "stream",
          "name": "stdout",
          "text": [
            "27.05.2022 00:30 BRASIL SÉRIE B - RODADA 9 Ituano Náutico\n"
          ]
        },
        {
          "output_type": "stream",
          "name": "stderr",
          "text": [
            "\r 78%|███████▊  | 297/380 [10:01<02:45,  1.99s/it]"
          ]
        },
        {
          "output_type": "stream",
          "name": "stdout",
          "text": [
            "26.05.2022 22:00 BRASIL SÉRIE B - RODADA 9 Vasco Brusque\n"
          ]
        },
        {
          "output_type": "stream",
          "name": "stderr",
          "text": [
            "\r 78%|███████▊  | 298/380 [10:03<02:40,  1.96s/it]"
          ]
        },
        {
          "output_type": "stream",
          "name": "stdout",
          "text": [
            "25.05.2022 22:00 BRASIL SÉRIE B - RODADA 9 Londrina Operário\n"
          ]
        },
        {
          "output_type": "stream",
          "name": "stderr",
          "text": [
            "\r 79%|███████▊  | 299/380 [10:05<02:38,  1.95s/it]"
          ]
        },
        {
          "output_type": "stream",
          "name": "stdout",
          "text": [
            "25.05.2022 00:30 BRASIL SÉRIE B - RODADA 9 Ponte Preta Chapecoense\n"
          ]
        },
        {
          "output_type": "stream",
          "name": "stderr",
          "text": [
            "\r 79%|███████▉  | 300/380 [10:06<02:31,  1.89s/it]"
          ]
        },
        {
          "output_type": "stream",
          "name": "stdout",
          "text": [
            "24.05.2022 22:00 BRASIL SÉRIE B - RODADA 9 Sport CRB\n"
          ]
        },
        {
          "output_type": "stream",
          "name": "stderr",
          "text": [
            "\r 79%|███████▉  | 301/380 [10:08<02:21,  1.80s/it]"
          ]
        },
        {
          "output_type": "stream",
          "name": "stdout",
          "text": [
            "22.05.2022 14:00 BRASIL SÉRIE B - RODADA 8 Cruzeiro Sampaio Corrêa\n"
          ]
        },
        {
          "output_type": "stream",
          "name": "stderr",
          "text": [
            "\r 79%|███████▉  | 302/380 [10:10<02:31,  1.94s/it]"
          ]
        },
        {
          "output_type": "stream",
          "name": "stdout",
          "text": [
            "21.05.2022 14:00 BRASIL SÉRIE B - RODADA 8 Operário Ituano\n"
          ]
        },
        {
          "output_type": "stream",
          "name": "stderr",
          "text": [
            "\r 80%|███████▉  | 303/380 [10:12<02:27,  1.92s/it]"
          ]
        },
        {
          "output_type": "stream",
          "name": "stdout",
          "text": [
            "21.05.2022 00:30 BRASIL SÉRIE B - RODADA 8 Bahia Ponte Preta\n"
          ]
        },
        {
          "output_type": "stream",
          "name": "stderr",
          "text": [
            "\r 80%|████████  | 304/380 [10:14<02:25,  1.91s/it]"
          ]
        },
        {
          "output_type": "stream",
          "name": "stdout",
          "text": [
            "20.05.2022 22:00 BRASIL SÉRIE B - RODADA 8 Brusque Tombense\n"
          ]
        },
        {
          "output_type": "stream",
          "name": "stderr",
          "text": [
            "\r 80%|████████  | 305/380 [10:16<02:23,  1.91s/it]"
          ]
        },
        {
          "output_type": "stream",
          "name": "stdout",
          "text": [
            "20.05.2022 00:30 BRASIL SÉRIE B - RODADA 8 Guarani Vasco\n"
          ]
        },
        {
          "output_type": "stream",
          "name": "stderr",
          "text": [
            "\r 81%|████████  | 306/380 [10:18<02:20,  1.90s/it]"
          ]
        },
        {
          "output_type": "stream",
          "name": "stdout",
          "text": [
            "20.05.2022 00:30 BRASIL SÉRIE B - RODADA 8 Náutico CSA\n"
          ]
        },
        {
          "output_type": "stream",
          "name": "stderr",
          "text": [
            "\r 81%|████████  | 307/380 [10:21<02:36,  2.14s/it]"
          ]
        },
        {
          "output_type": "stream",
          "name": "stdout",
          "text": [
            "19.05.2022 22:00 BRASIL SÉRIE B - RODADA 8 Grêmio Criciúma\n"
          ]
        },
        {
          "output_type": "stream",
          "name": "stderr",
          "text": [
            "\r 81%|████████  | 308/380 [10:23<02:39,  2.22s/it]"
          ]
        },
        {
          "output_type": "stream",
          "name": "stdout",
          "text": [
            "19.05.2022 22:00 BRASIL SÉRIE B - RODADA 8 Vila Nova Chapecoense\n"
          ]
        },
        {
          "output_type": "stream",
          "name": "stderr",
          "text": [
            "\r 81%|████████▏ | 309/380 [10:26<02:54,  2.45s/it]"
          ]
        },
        {
          "output_type": "stream",
          "name": "stdout",
          "text": [
            "19.05.2022 00:30 BRASIL SÉRIE B - RODADA 8 CRB Londrina\n"
          ]
        },
        {
          "output_type": "stream",
          "name": "stderr",
          "text": [
            "\r 82%|████████▏ | 310/380 [10:29<02:56,  2.52s/it]"
          ]
        },
        {
          "output_type": "stream",
          "name": "stdout",
          "text": [
            "18.05.2022 00:30 BRASIL SÉRIE B - RODADA 8 Novorizontino Sport\n"
          ]
        },
        {
          "output_type": "stream",
          "name": "stderr",
          "text": [
            "\r 82%|████████▏ | 311/380 [10:32<03:05,  2.69s/it]"
          ]
        },
        {
          "output_type": "stream",
          "name": "stdout",
          "text": [
            "16.05.2022 23:00 BRASIL SÉRIE B - RODADA 7 Ituano Grêmio\n"
          ]
        },
        {
          "output_type": "stream",
          "name": "stderr",
          "text": [
            "\r 82%|████████▏ | 312/380 [10:34<03:00,  2.65s/it]"
          ]
        },
        {
          "output_type": "stream",
          "name": "stdout",
          "text": [
            "15.05.2022 19:00 BRASIL SÉRIE B - RODADA 7 Náutico Cruzeiro\n"
          ]
        },
        {
          "output_type": "stream",
          "name": "stderr",
          "text": [
            "\r 82%|████████▏ | 313/380 [10:36<02:44,  2.46s/it]"
          ]
        },
        {
          "output_type": "stream",
          "name": "stdout",
          "text": [
            "15.05.2022 19:00 BRASIL SÉRIE B - RODADA 7 Vasco Bahia\n"
          ]
        },
        {
          "output_type": "stream",
          "name": "stderr",
          "text": [
            "\r 83%|████████▎ | 314/380 [10:38<02:34,  2.35s/it]"
          ]
        },
        {
          "output_type": "stream",
          "name": "stdout",
          "text": [
            "14.05.2022 23:30 BRASIL SÉRIE B - RODADA 7 CSA Operário\n"
          ]
        },
        {
          "output_type": "stream",
          "name": "stderr",
          "text": [
            "\r 83%|████████▎ | 315/380 [10:40<02:26,  2.26s/it]"
          ]
        },
        {
          "output_type": "stream",
          "name": "stdout",
          "text": [
            "14.05.2022 21:30 BRASIL SÉRIE B - RODADA 7 Sampaio Corrêa Vila Nova\n"
          ]
        },
        {
          "output_type": "stream",
          "name": "stderr",
          "text": [
            "\r 83%|████████▎ | 316/380 [10:42<02:18,  2.16s/it]"
          ]
        },
        {
          "output_type": "stream",
          "name": "stdout",
          "text": [
            "14.05.2022 19:00 BRASIL SÉRIE B - RODADA 7 Tombense Guarani\n"
          ]
        },
        {
          "output_type": "stream",
          "name": "stderr",
          "text": [
            "\r 83%|████████▎ | 317/380 [10:44<02:08,  2.03s/it]"
          ]
        },
        {
          "output_type": "stream",
          "name": "stdout",
          "text": [
            "14.05.2022 14:00 BRASIL SÉRIE B - RODADA 7 Criciúma CRB\n"
          ]
        },
        {
          "output_type": "stream",
          "name": "stderr",
          "text": [
            "\r 84%|████████▎ | 318/380 [10:46<02:09,  2.08s/it]"
          ]
        },
        {
          "output_type": "stream",
          "name": "stdout",
          "text": [
            "14.05.2022 14:00 BRASIL SÉRIE B - RODADA 7 Londrina Brusque\n"
          ]
        },
        {
          "output_type": "stream",
          "name": "stderr",
          "text": [
            "\r 84%|████████▍ | 319/380 [10:48<02:05,  2.06s/it]"
          ]
        },
        {
          "output_type": "stream",
          "name": "stdout",
          "text": [
            "14.05.2022 00:30 BRASIL SÉRIE B - RODADA 7 Chapecoense Sport\n"
          ]
        },
        {
          "output_type": "stream",
          "name": "stderr",
          "text": [
            "\r 84%|████████▍ | 320/380 [10:50<02:02,  2.04s/it]"
          ]
        },
        {
          "output_type": "stream",
          "name": "stdout",
          "text": [
            "13.05.2022 22:00 BRASIL SÉRIE B - RODADA 7 Ponte Preta Novorizontino\n"
          ]
        },
        {
          "output_type": "stream",
          "name": "stderr",
          "text": [
            "\r 84%|████████▍ | 321/380 [10:52<01:52,  1.91s/it]"
          ]
        },
        {
          "output_type": "stream",
          "name": "stdout",
          "text": [
            "09.05.2022 23:00 BRASIL SÉRIE B - RODADA 6 CRB Sampaio Corrêa\n"
          ]
        },
        {
          "output_type": "stream",
          "name": "stderr",
          "text": [
            "\r 85%|████████▍ | 322/380 [10:54<01:54,  1.98s/it]"
          ]
        },
        {
          "output_type": "stream",
          "name": "stdout",
          "text": [
            "08.05.2022 19:00 BRASIL SÉRIE B - RODADA 6 Cruzeiro Grêmio\n"
          ]
        },
        {
          "output_type": "stream",
          "name": "stderr",
          "text": [
            "\r 85%|████████▌ | 323/380 [10:56<01:52,  1.97s/it]"
          ]
        },
        {
          "output_type": "stream",
          "name": "stdout",
          "text": [
            "08.05.2022 19:00 BRASIL SÉRIE B - RODADA 6 Guarani Ponte Preta\n"
          ]
        },
        {
          "output_type": "stream",
          "name": "stderr",
          "text": [
            "\r 85%|████████▌ | 324/380 [10:58<01:52,  2.01s/it]"
          ]
        },
        {
          "output_type": "stream",
          "name": "stdout",
          "text": [
            "07.05.2022 22:00 BRASIL SÉRIE B - RODADA 6 Novorizontino Ituano\n"
          ]
        },
        {
          "output_type": "stream",
          "name": "stderr",
          "text": [
            "\r 86%|████████▌ | 325/380 [11:00<01:49,  1.99s/it]"
          ]
        },
        {
          "output_type": "stream",
          "name": "stdout",
          "text": [
            "07.05.2022 22:00 BRASIL SÉRIE B - RODADA 6 Vasco CSA\n"
          ]
        },
        {
          "output_type": "stream",
          "name": "stderr",
          "text": [
            "\r 86%|████████▌ | 326/380 [11:02<01:46,  1.97s/it]"
          ]
        },
        {
          "output_type": "stream",
          "name": "stdout",
          "text": [
            "07.05.2022 19:30 BRASIL SÉRIE B - RODADA 6 Operário Criciúma\n"
          ]
        },
        {
          "output_type": "stream",
          "name": "stderr",
          "text": [
            "\r 86%|████████▌ | 327/380 [11:04<01:37,  1.85s/it]"
          ]
        },
        {
          "output_type": "stream",
          "name": "stdout",
          "text": [
            "07.05.2022 00:30 BRASIL SÉRIE B - RODADA 6 Sport Tombense\n"
          ]
        },
        {
          "output_type": "stream",
          "name": "stderr",
          "text": [
            "\r 86%|████████▋ | 328/380 [11:05<01:36,  1.85s/it]"
          ]
        },
        {
          "output_type": "stream",
          "name": "stdout",
          "text": [
            "06.05.2022 22:00 BRASIL SÉRIE B - RODADA 6 Vila Nova Náutico\n"
          ]
        },
        {
          "output_type": "stream",
          "name": "stderr",
          "text": [
            "\r 87%|████████▋ | 329/380 [11:07<01:37,  1.91s/it]"
          ]
        },
        {
          "output_type": "stream",
          "name": "stdout",
          "text": [
            "06.05.2022 00:30 BRASIL SÉRIE B - RODADA 6 Brusque Chapecoense\n"
          ]
        },
        {
          "output_type": "stream",
          "name": "stderr",
          "text": [
            "\r 87%|████████▋ | 330/380 [11:09<01:35,  1.91s/it]"
          ]
        },
        {
          "output_type": "stream",
          "name": "stdout",
          "text": [
            "05.05.2022 00:00 BRASIL SÉRIE B - RODADA 1 CSA Criciúma\n"
          ]
        },
        {
          "output_type": "stream",
          "name": "stderr",
          "text": [
            "\r 87%|████████▋ | 331/380 [11:11<01:34,  1.92s/it]"
          ]
        },
        {
          "output_type": "stream",
          "name": "stdout",
          "text": [
            "04.05.2022 22:00 BRASIL SÉRIE B - RODADA 1 Novorizontino CRB\n"
          ]
        },
        {
          "output_type": "stream",
          "name": "stderr",
          "text": [
            "\r 87%|████████▋ | 332/380 [11:13<01:32,  1.93s/it]"
          ]
        },
        {
          "output_type": "stream",
          "name": "stdout",
          "text": [
            "04.05.2022 00:30 BRASIL SÉRIE B - RODADA 5 Náutico Guarani\n"
          ]
        },
        {
          "output_type": "stream",
          "name": "stderr",
          "text": [
            "\r 88%|████████▊ | 333/380 [11:15<01:32,  1.96s/it]"
          ]
        },
        {
          "output_type": "stream",
          "name": "stdout",
          "text": [
            "03.05.2022 22:00 BRASIL SÉRIE B - RODADA 6 Bahia Londrina\n"
          ]
        },
        {
          "output_type": "stream",
          "name": "stderr",
          "text": [
            "\r 88%|████████▊ | 334/380 [11:17<01:31,  2.00s/it]"
          ]
        },
        {
          "output_type": "stream",
          "name": "stdout",
          "text": [
            "01.05.2022 21:00 BRASIL SÉRIE B - RODADA 5 Tombense Vasco\n"
          ]
        },
        {
          "output_type": "stream",
          "name": "stderr",
          "text": [
            "\r 88%|████████▊ | 335/380 [11:20<01:31,  2.04s/it]"
          ]
        },
        {
          "output_type": "stream",
          "name": "stdout",
          "text": [
            "01.05.2022 14:00 BRASIL SÉRIE B - RODADA 5 Criciúma Novorizontino\n"
          ]
        },
        {
          "output_type": "stream",
          "name": "stderr",
          "text": [
            "\r 88%|████████▊ | 336/380 [11:21<01:28,  2.01s/it]"
          ]
        },
        {
          "output_type": "stream",
          "name": "stdout",
          "text": [
            "30.04.2022 23:30 BRASIL SÉRIE B - RODADA 5 Ponte Preta Brusque\n"
          ]
        },
        {
          "output_type": "stream",
          "name": "stderr",
          "text": [
            "\r 89%|████████▊ | 337/380 [11:24<01:26,  2.02s/it]"
          ]
        },
        {
          "output_type": "stream",
          "name": "stdout",
          "text": [
            "30.04.2022 22:00 BRASIL SÉRIE B - RODADA 5 Chapecoense Cruzeiro\n"
          ]
        },
        {
          "output_type": "stream",
          "name": "stderr",
          "text": [
            "\r 89%|████████▉ | 338/380 [11:25<01:23,  1.99s/it]"
          ]
        },
        {
          "output_type": "stream",
          "name": "stdout",
          "text": [
            "30.04.2022 19:30 BRASIL SÉRIE B - RODADA 5 Grêmio CRB\n"
          ]
        },
        {
          "output_type": "stream",
          "name": "stderr",
          "text": [
            "\r 89%|████████▉ | 339/380 [11:28<01:23,  2.04s/it]"
          ]
        },
        {
          "output_type": "stream",
          "name": "stdout",
          "text": [
            "30.04.2022 19:30 BRASIL SÉRIE B - RODADA 5 Sampaio Corrêa Operário\n"
          ]
        },
        {
          "output_type": "stream",
          "name": "stderr",
          "text": [
            "\r 89%|████████▉ | 340/380 [11:30<01:24,  2.11s/it]"
          ]
        },
        {
          "output_type": "stream",
          "name": "stdout",
          "text": [
            "30.04.2022 19:00 BRASIL SÉRIE B - RODADA 5 CSA Sport\n"
          ]
        },
        {
          "output_type": "stream",
          "name": "stderr",
          "text": [
            "\r 90%|████████▉ | 341/380 [11:32<01:24,  2.18s/it]"
          ]
        },
        {
          "output_type": "stream",
          "name": "stdout",
          "text": [
            "30.04.2022 00:30 BRASIL SÉRIE B - RODADA 5 Ituano Bahia\n"
          ]
        },
        {
          "output_type": "stream",
          "name": "stderr",
          "text": [
            "\r 90%|█████████ | 342/380 [11:34<01:22,  2.16s/it]"
          ]
        },
        {
          "output_type": "stream",
          "name": "stdout",
          "text": [
            "29.04.2022 22:00 BRASIL SÉRIE B - RODADA 5 Londrina Vila Nova\n"
          ]
        },
        {
          "output_type": "stream",
          "name": "stderr",
          "text": [
            "\r 90%|█████████ | 343/380 [11:36<01:19,  2.16s/it]"
          ]
        },
        {
          "output_type": "stream",
          "name": "stdout",
          "text": [
            "28.04.2022 00:30 BRASIL SÉRIE B - RODADA 4 Vasco Ponte Preta\n"
          ]
        },
        {
          "output_type": "stream",
          "name": "stderr",
          "text": [
            "\r 91%|█████████ | 344/380 [11:39<01:16,  2.13s/it]"
          ]
        },
        {
          "output_type": "stream",
          "name": "stdout",
          "text": [
            "28.04.2022 00:00 BRASIL SÉRIE B - RODADA 4 Guarani Criciúma\n"
          ]
        },
        {
          "output_type": "stream",
          "name": "stderr",
          "text": [
            "\r 91%|█████████ | 345/380 [11:40<01:11,  2.06s/it]"
          ]
        },
        {
          "output_type": "stream",
          "name": "stdout",
          "text": [
            "27.04.2022 22:00 BRASIL SÉRIE B - RODADA 4 CRB Náutico\n"
          ]
        },
        {
          "output_type": "stream",
          "name": "stderr",
          "text": [
            "\r 91%|█████████ | 346/380 [11:42<01:07,  2.00s/it]"
          ]
        },
        {
          "output_type": "stream",
          "name": "stdout",
          "text": [
            "27.04.2022 22:00 BRASIL SÉRIE B - RODADA 4 Operário Grêmio\n"
          ]
        },
        {
          "output_type": "stream",
          "name": "stderr",
          "text": [
            "\r 91%|█████████▏| 347/380 [11:44<01:05,  2.00s/it]"
          ]
        },
        {
          "output_type": "stream",
          "name": "stdout",
          "text": [
            "27.04.2022 00:30 BRASIL SÉRIE B - RODADA 4 Bahia Sampaio Corrêa\n"
          ]
        },
        {
          "output_type": "stream",
          "name": "stderr",
          "text": [
            "\r 92%|█████████▏| 348/380 [11:46<01:05,  2.04s/it]"
          ]
        },
        {
          "output_type": "stream",
          "name": "stdout",
          "text": [
            "27.04.2022 00:30 BRASIL SÉRIE B - RODADA 4 Cruzeiro Londrina\n"
          ]
        },
        {
          "output_type": "stream",
          "name": "stderr",
          "text": [
            "\r 92%|█████████▏| 349/380 [11:49<01:04,  2.08s/it]"
          ]
        },
        {
          "output_type": "stream",
          "name": "stdout",
          "text": [
            "26.04.2022 23:30 BRASIL SÉRIE B - RODADA 4 Brusque CSA\n"
          ]
        },
        {
          "output_type": "stream",
          "name": "stderr",
          "text": [
            "\r 92%|█████████▏| 350/380 [11:51<01:02,  2.08s/it]"
          ]
        },
        {
          "output_type": "stream",
          "name": "stdout",
          "text": [
            "26.04.2022 23:30 BRASIL SÉRIE B - RODADA 4 Vila Nova Tombense\n"
          ]
        },
        {
          "output_type": "stream",
          "name": "stderr",
          "text": [
            "\r 92%|█████████▏| 351/380 [11:53<00:59,  2.04s/it]"
          ]
        },
        {
          "output_type": "stream",
          "name": "stdout",
          "text": [
            "26.04.2022 22:00 BRASIL SÉRIE B - RODADA 4 Novorizontino Chapecoense\n"
          ]
        },
        {
          "output_type": "stream",
          "name": "stderr",
          "text": [
            "\r 93%|█████████▎| 352/380 [11:55<00:56,  2.02s/it]"
          ]
        },
        {
          "output_type": "stream",
          "name": "stdout",
          "text": [
            "26.04.2022 22:00 BRASIL SÉRIE B - RODADA 4 Sport Ituano\n"
          ]
        },
        {
          "output_type": "stream",
          "name": "stderr",
          "text": [
            "\r 93%|█████████▎| 353/380 [11:57<00:56,  2.08s/it]"
          ]
        },
        {
          "output_type": "stream",
          "name": "stdout",
          "text": [
            "24.04.2022 19:00 BRASIL SÉRIE B - RODADA 3 Náutico Operário\n"
          ]
        },
        {
          "output_type": "stream",
          "name": "stderr",
          "text": [
            "\r 93%|█████████▎| 354/380 [11:59<00:54,  2.12s/it]"
          ]
        },
        {
          "output_type": "stream",
          "name": "stdout",
          "text": [
            "23.04.2022 22:00 BRASIL SÉRIE B - RODADA 3 Ituano Vila Nova\n"
          ]
        },
        {
          "output_type": "stream",
          "name": "stderr",
          "text": [
            "\r 93%|█████████▎| 355/380 [12:01<00:52,  2.09s/it]"
          ]
        },
        {
          "output_type": "stream",
          "name": "stdout",
          "text": [
            "23.04.2022 22:00 BRASIL SÉRIE B - RODADA 3 Tombense Cruzeiro\n"
          ]
        },
        {
          "output_type": "stream",
          "name": "stderr",
          "text": [
            "\r 94%|█████████▎| 356/380 [12:03<00:50,  2.10s/it]"
          ]
        },
        {
          "output_type": "stream",
          "name": "stdout",
          "text": [
            "23.04.2022 21:30 BRASIL SÉRIE B - RODADA 3 Sampaio Corrêa Brusque\n"
          ]
        },
        {
          "output_type": "stream",
          "name": "stderr",
          "text": [
            "\r 94%|█████████▍| 357/380 [12:05<00:45,  1.98s/it]"
          ]
        },
        {
          "output_type": "stream",
          "name": "stdout",
          "text": [
            "23.04.2022 19:00 BRASIL SÉRIE B - RODADA 3 Ponte Preta CRB\n"
          ]
        },
        {
          "output_type": "stream",
          "name": "stderr",
          "text": [
            "\r 94%|█████████▍| 358/380 [12:07<00:44,  2.01s/it]"
          ]
        },
        {
          "output_type": "stream",
          "name": "stdout",
          "text": [
            "23.04.2022 14:00 BRASIL SÉRIE B - RODADA 3 Criciúma Sport\n"
          ]
        },
        {
          "output_type": "stream",
          "name": "stderr",
          "text": [
            "\r 94%|█████████▍| 359/380 [12:09<00:42,  2.00s/it]"
          ]
        },
        {
          "output_type": "stream",
          "name": "stdout",
          "text": [
            "23.04.2022 00:30 BRASIL SÉRIE B - RODADA 3 Chapecoense Vasco\n"
          ]
        },
        {
          "output_type": "stream",
          "name": "stderr",
          "text": [
            "\r 95%|█████████▍| 360/380 [12:11<00:39,  1.98s/it]"
          ]
        },
        {
          "output_type": "stream",
          "name": "stdout",
          "text": [
            "22.04.2022 22:00 BRASIL SÉRIE B - RODADA 3 CSA Bahia\n"
          ]
        },
        {
          "output_type": "stream",
          "name": "stderr",
          "text": [
            "\r 95%|█████████▌| 361/380 [12:13<00:38,  2.02s/it]"
          ]
        },
        {
          "output_type": "stream",
          "name": "stdout",
          "text": [
            "21.04.2022 22:00 BRASIL SÉRIE B - RODADA 3 Londrina Novorizontino\n"
          ]
        },
        {
          "output_type": "stream",
          "name": "stderr",
          "text": [
            "\r 95%|█████████▌| 362/380 [12:15<00:36,  2.04s/it]"
          ]
        },
        {
          "output_type": "stream",
          "name": "stdout",
          "text": [
            "21.04.2022 19:30 BRASIL SÉRIE B - RODADA 3 Grêmio Guarani\n"
          ]
        },
        {
          "output_type": "stream",
          "name": "stderr",
          "text": [
            "\r 96%|█████████▌| 363/380 [12:17<00:32,  1.90s/it]"
          ]
        },
        {
          "output_type": "stream",
          "name": "stdout",
          "text": [
            "16.04.2022 22:00 BRASIL SÉRIE B - RODADA 2 CRB Vasco\n"
          ]
        },
        {
          "output_type": "stream",
          "name": "stderr",
          "text": [
            "\r 96%|█████████▌| 364/380 [12:18<00:29,  1.87s/it]"
          ]
        },
        {
          "output_type": "stream",
          "name": "stdout",
          "text": [
            "16.04.2022 21:30 BRASIL SÉRIE B - RODADA 2 Guarani Sport\n"
          ]
        },
        {
          "output_type": "stream",
          "name": "stderr",
          "text": [
            "\r 96%|█████████▌| 365/380 [12:20<00:28,  1.90s/it]"
          ]
        },
        {
          "output_type": "stream",
          "name": "stdout",
          "text": [
            "16.04.2022 19:30 BRASIL SÉRIE B - RODADA 2 Sampaio Corrêa Tombense\n"
          ]
        },
        {
          "output_type": "stream",
          "name": "stderr",
          "text": [
            "\r 96%|█████████▋| 366/380 [12:22<00:25,  1.84s/it]"
          ]
        },
        {
          "output_type": "stream",
          "name": "stdout",
          "text": [
            "16.04.2022 19:00 BRASIL SÉRIE B - RODADA 2 Ituano CSA\n"
          ]
        },
        {
          "output_type": "stream",
          "name": "stderr",
          "text": [
            "\r 97%|█████████▋| 367/380 [12:24<00:24,  1.92s/it]"
          ]
        },
        {
          "output_type": "stream",
          "name": "stdout",
          "text": [
            "16.04.2022 14:00 BRASIL SÉRIE B - RODADA 2 Operário Ponte Preta\n"
          ]
        },
        {
          "output_type": "stream",
          "name": "stderr",
          "text": [
            "\r 97%|█████████▋| 368/380 [12:27<00:24,  2.07s/it]"
          ]
        },
        {
          "output_type": "stream",
          "name": "stdout",
          "text": [
            "16.04.2022 00:30 BRASIL SÉRIE B - RODADA 2 Náutico Bahia\n"
          ]
        },
        {
          "output_type": "stream",
          "name": "stderr",
          "text": [
            "\r 97%|█████████▋| 369/380 [12:28<00:21,  1.98s/it]"
          ]
        },
        {
          "output_type": "stream",
          "name": "stdout",
          "text": [
            "15.04.2022 22:00 BRASIL SÉRIE B - RODADA 2 Grêmio Chapecoense\n"
          ]
        },
        {
          "output_type": "stream",
          "name": "stderr",
          "text": [
            "\r 97%|█████████▋| 370/380 [12:31<00:20,  2.03s/it]"
          ]
        },
        {
          "output_type": "stream",
          "name": "stdout",
          "text": [
            "14.04.2022 23:00 BRASIL SÉRIE B - RODADA 2 Criciúma Londrina\n"
          ]
        },
        {
          "output_type": "stream",
          "name": "stderr",
          "text": [
            "\r 98%|█████████▊| 371/380 [12:32<00:18,  2.00s/it]"
          ]
        },
        {
          "output_type": "stream",
          "name": "stdout",
          "text": [
            "13.04.2022 00:30 BRASIL SÉRIE B - RODADA 2 Cruzeiro Brusque\n"
          ]
        },
        {
          "output_type": "stream",
          "name": "stderr",
          "text": [
            "\r 98%|█████████▊| 372/380 [12:35<00:16,  2.07s/it]"
          ]
        },
        {
          "output_type": "stream",
          "name": "stdout",
          "text": [
            "12.04.2022 22:00 BRASIL SÉRIE B - RODADA 2 Vila Nova Novorizontino\n"
          ]
        },
        {
          "output_type": "stream",
          "name": "stderr",
          "text": [
            "\r 98%|█████████▊| 373/380 [12:37<00:14,  2.01s/it]"
          ]
        },
        {
          "output_type": "stream",
          "name": "stdout",
          "text": [
            "10.04.2022 14:00 BRASIL SÉRIE B - RODADA 1 Londrina Náutico\n"
          ]
        },
        {
          "output_type": "stream",
          "name": "stderr",
          "text": [
            "\r 98%|█████████▊| 374/380 [12:38<00:11,  1.94s/it]"
          ]
        },
        {
          "output_type": "stream",
          "name": "stdout",
          "text": [
            "10.04.2022 00:00 BRASIL SÉRIE B - RODADA 1 Tombense Operário\n"
          ]
        },
        {
          "output_type": "stream",
          "name": "stderr",
          "text": [
            "\r 99%|█████████▊| 375/380 [12:40<00:09,  1.93s/it]"
          ]
        },
        {
          "output_type": "stream",
          "name": "stdout",
          "text": [
            "09.04.2022 21:30 BRASIL SÉRIE B - RODADA 1 Sport Sampaio Corrêa\n"
          ]
        },
        {
          "output_type": "stream",
          "name": "stderr",
          "text": [
            "\r 99%|█████████▉| 376/380 [12:42<00:07,  1.94s/it]"
          ]
        },
        {
          "output_type": "stream",
          "name": "stdout",
          "text": [
            "09.04.2022 19:30 BRASIL SÉRIE B - RODADA 1 Ponte Preta Grêmio\n"
          ]
        },
        {
          "output_type": "stream",
          "name": "stderr",
          "text": [
            "\r 99%|█████████▉| 377/380 [12:44<00:05,  1.96s/it]"
          ]
        },
        {
          "output_type": "stream",
          "name": "stdout",
          "text": [
            "09.04.2022 19:00 BRASIL SÉRIE B - RODADA 1 Chapecoense Ituano\n"
          ]
        },
        {
          "output_type": "stream",
          "name": "stderr",
          "text": [
            "\r 99%|█████████▉| 378/380 [12:46<00:04,  2.04s/it]"
          ]
        },
        {
          "output_type": "stream",
          "name": "stdout",
          "text": [
            "09.04.2022 00:30 BRASIL SÉRIE B - RODADA 1 Bahia Cruzeiro\n"
          ]
        },
        {
          "output_type": "stream",
          "name": "stderr",
          "text": [
            "\r100%|█████████▉| 379/380 [12:48<00:02,  2.03s/it]"
          ]
        },
        {
          "output_type": "stream",
          "name": "stdout",
          "text": [
            "08.04.2022 22:00 BRASIL SÉRIE B - RODADA 1 Brusque Guarani\n"
          ]
        },
        {
          "output_type": "stream",
          "name": "stderr",
          "text": [
            "100%|██████████| 380/380 [12:51<00:00,  2.03s/it]"
          ]
        },
        {
          "output_type": "stream",
          "name": "stdout",
          "text": [
            "08.04.2022 22:00 BRASIL SÉRIE B - RODADA 1 Vasco Vila Nova\n"
          ]
        },
        {
          "output_type": "stream",
          "name": "stderr",
          "text": [
            "\n"
          ]
        }
      ],
      "source": [
        "for link in tqdm(id_jogos, total=len(id_jogos)):\n",
        "    wd_Chrome.get(f'https://www.flashscore.com.br/jogo/{link}/#/resumo-de-jogo')\n",
        "    \n",
        "    # Pegando as Informacoes Básicas do Jogo\n",
        "    try:\n",
        "        Date = wd_Chrome.find_element(By.CSS_SELECTOR,'#detail > div.duelParticipant > div.duelParticipant__startTime > div').text.split(' ')[0]\n",
        "        Time = wd_Chrome.find_element(By.CSS_SELECTOR,'#detail > div.duelParticipant > div.duelParticipant__startTime > div').text.split(' ')[1]\n",
        "        Country = wd_Chrome.find_element(By.CSS_SELECTOR,'span.tournamentHeader__country').text.split(':')[0]\n",
        "        League = wd_Chrome.find_element(By.CSS_SELECTOR,'span.tournamentHeader__country')\n",
        "        League = League.find_element(By.CSS_SELECTOR,'a').text\n",
        "        Home = wd_Chrome.find_element(By.CSS_SELECTOR,'div.duelParticipant__home')\n",
        "        Home = Home.find_element(By.CSS_SELECTOR,'div.participant__participantName').text\n",
        "        Away = wd_Chrome.find_element(By.CSS_SELECTOR,'div.duelParticipant__away')\n",
        "        Away = Away.find_element(By.CSS_SELECTOR,'div.participant__participantName').text          \n",
        "\n",
        "    except:\n",
        "        pass\n",
        "\n",
        "    print(Date,Time,Country,League,Home,Away) \n",
        "\n",
        "    jogo['Date'].append(Date)\n",
        "    jogo['Time'].append(Time)\n",
        "    jogo['Country'].append(Country)\n",
        "    jogo['League'].append(League)\n",
        "    jogo['Home'].append(Home)\n",
        "    jogo['Away'].append(Away)"
      ]
    },
    {
      "cell_type": "code",
      "execution_count": null,
      "metadata": {
        "id": "gCvR74k9aiC9",
        "colab": {
          "base_uri": "https://localhost:8080/",
          "height": 424
        },
        "outputId": "3b4acf89-cfe7-412d-f9d8-af3ae0555d98"
      },
      "outputs": [
        {
          "output_type": "execute_result",
          "data": {
            "text/plain": [
              "           Date   Time Country               League         Home  \\\n",
              "0    06.11.2022  21:30  BRASIL  SÉRIE B - RODADA 38          CRB   \n",
              "1    06.11.2022  21:30  BRASIL  SÉRIE B - RODADA 38     Cruzeiro   \n",
              "2    06.11.2022  21:30  BRASIL  SÉRIE B - RODADA 38       Ituano   \n",
              "3    06.11.2022  21:30  BRASIL  SÉRIE B - RODADA 38     Operário   \n",
              "4    06.11.2022  21:30  BRASIL  SÉRIE B - RODADA 38    Vila Nova   \n",
              "..          ...    ...     ...                  ...          ...   \n",
              "375  09.04.2022  19:30  BRASIL   SÉRIE B - RODADA 1  Ponte Preta   \n",
              "376  09.04.2022  19:00  BRASIL   SÉRIE B - RODADA 1  Chapecoense   \n",
              "377  09.04.2022  00:30  BRASIL   SÉRIE B - RODADA 1        Bahia   \n",
              "378  08.04.2022  22:00  BRASIL   SÉRIE B - RODADA 1      Brusque   \n",
              "379  08.04.2022  22:00  BRASIL   SÉRIE B - RODADA 1        Vasco   \n",
              "\n",
              "              Away  \n",
              "0            Bahia  \n",
              "1              CSA  \n",
              "2            Vasco  \n",
              "3    Novorizontino  \n",
              "4            Sport  \n",
              "..             ...  \n",
              "375         Grêmio  \n",
              "376         Ituano  \n",
              "377       Cruzeiro  \n",
              "378        Guarani  \n",
              "379      Vila Nova  \n",
              "\n",
              "[380 rows x 6 columns]"
            ],
            "text/html": [
              "\n",
              "  <div id=\"df-4a78f51f-e5e6-4ebb-8ee0-8c813e936019\">\n",
              "    <div class=\"colab-df-container\">\n",
              "      <div>\n",
              "<style scoped>\n",
              "    .dataframe tbody tr th:only-of-type {\n",
              "        vertical-align: middle;\n",
              "    }\n",
              "\n",
              "    .dataframe tbody tr th {\n",
              "        vertical-align: top;\n",
              "    }\n",
              "\n",
              "    .dataframe thead th {\n",
              "        text-align: right;\n",
              "    }\n",
              "</style>\n",
              "<table border=\"1\" class=\"dataframe\">\n",
              "  <thead>\n",
              "    <tr style=\"text-align: right;\">\n",
              "      <th></th>\n",
              "      <th>Date</th>\n",
              "      <th>Time</th>\n",
              "      <th>Country</th>\n",
              "      <th>League</th>\n",
              "      <th>Home</th>\n",
              "      <th>Away</th>\n",
              "    </tr>\n",
              "  </thead>\n",
              "  <tbody>\n",
              "    <tr>\n",
              "      <th>0</th>\n",
              "      <td>06.11.2022</td>\n",
              "      <td>21:30</td>\n",
              "      <td>BRASIL</td>\n",
              "      <td>SÉRIE B - RODADA 38</td>\n",
              "      <td>CRB</td>\n",
              "      <td>Bahia</td>\n",
              "    </tr>\n",
              "    <tr>\n",
              "      <th>1</th>\n",
              "      <td>06.11.2022</td>\n",
              "      <td>21:30</td>\n",
              "      <td>BRASIL</td>\n",
              "      <td>SÉRIE B - RODADA 38</td>\n",
              "      <td>Cruzeiro</td>\n",
              "      <td>CSA</td>\n",
              "    </tr>\n",
              "    <tr>\n",
              "      <th>2</th>\n",
              "      <td>06.11.2022</td>\n",
              "      <td>21:30</td>\n",
              "      <td>BRASIL</td>\n",
              "      <td>SÉRIE B - RODADA 38</td>\n",
              "      <td>Ituano</td>\n",
              "      <td>Vasco</td>\n",
              "    </tr>\n",
              "    <tr>\n",
              "      <th>3</th>\n",
              "      <td>06.11.2022</td>\n",
              "      <td>21:30</td>\n",
              "      <td>BRASIL</td>\n",
              "      <td>SÉRIE B - RODADA 38</td>\n",
              "      <td>Operário</td>\n",
              "      <td>Novorizontino</td>\n",
              "    </tr>\n",
              "    <tr>\n",
              "      <th>4</th>\n",
              "      <td>06.11.2022</td>\n",
              "      <td>21:30</td>\n",
              "      <td>BRASIL</td>\n",
              "      <td>SÉRIE B - RODADA 38</td>\n",
              "      <td>Vila Nova</td>\n",
              "      <td>Sport</td>\n",
              "    </tr>\n",
              "    <tr>\n",
              "      <th>...</th>\n",
              "      <td>...</td>\n",
              "      <td>...</td>\n",
              "      <td>...</td>\n",
              "      <td>...</td>\n",
              "      <td>...</td>\n",
              "      <td>...</td>\n",
              "    </tr>\n",
              "    <tr>\n",
              "      <th>375</th>\n",
              "      <td>09.04.2022</td>\n",
              "      <td>19:30</td>\n",
              "      <td>BRASIL</td>\n",
              "      <td>SÉRIE B - RODADA 1</td>\n",
              "      <td>Ponte Preta</td>\n",
              "      <td>Grêmio</td>\n",
              "    </tr>\n",
              "    <tr>\n",
              "      <th>376</th>\n",
              "      <td>09.04.2022</td>\n",
              "      <td>19:00</td>\n",
              "      <td>BRASIL</td>\n",
              "      <td>SÉRIE B - RODADA 1</td>\n",
              "      <td>Chapecoense</td>\n",
              "      <td>Ituano</td>\n",
              "    </tr>\n",
              "    <tr>\n",
              "      <th>377</th>\n",
              "      <td>09.04.2022</td>\n",
              "      <td>00:30</td>\n",
              "      <td>BRASIL</td>\n",
              "      <td>SÉRIE B - RODADA 1</td>\n",
              "      <td>Bahia</td>\n",
              "      <td>Cruzeiro</td>\n",
              "    </tr>\n",
              "    <tr>\n",
              "      <th>378</th>\n",
              "      <td>08.04.2022</td>\n",
              "      <td>22:00</td>\n",
              "      <td>BRASIL</td>\n",
              "      <td>SÉRIE B - RODADA 1</td>\n",
              "      <td>Brusque</td>\n",
              "      <td>Guarani</td>\n",
              "    </tr>\n",
              "    <tr>\n",
              "      <th>379</th>\n",
              "      <td>08.04.2022</td>\n",
              "      <td>22:00</td>\n",
              "      <td>BRASIL</td>\n",
              "      <td>SÉRIE B - RODADA 1</td>\n",
              "      <td>Vasco</td>\n",
              "      <td>Vila Nova</td>\n",
              "    </tr>\n",
              "  </tbody>\n",
              "</table>\n",
              "<p>380 rows × 6 columns</p>\n",
              "</div>\n",
              "      <button class=\"colab-df-convert\" onclick=\"convertToInteractive('df-4a78f51f-e5e6-4ebb-8ee0-8c813e936019')\"\n",
              "              title=\"Convert this dataframe to an interactive table.\"\n",
              "              style=\"display:none;\">\n",
              "        \n",
              "  <svg xmlns=\"http://www.w3.org/2000/svg\" height=\"24px\"viewBox=\"0 0 24 24\"\n",
              "       width=\"24px\">\n",
              "    <path d=\"M0 0h24v24H0V0z\" fill=\"none\"/>\n",
              "    <path d=\"M18.56 5.44l.94 2.06.94-2.06 2.06-.94-2.06-.94-.94-2.06-.94 2.06-2.06.94zm-11 1L8.5 8.5l.94-2.06 2.06-.94-2.06-.94L8.5 2.5l-.94 2.06-2.06.94zm10 10l.94 2.06.94-2.06 2.06-.94-2.06-.94-.94-2.06-.94 2.06-2.06.94z\"/><path d=\"M17.41 7.96l-1.37-1.37c-.4-.4-.92-.59-1.43-.59-.52 0-1.04.2-1.43.59L10.3 9.45l-7.72 7.72c-.78.78-.78 2.05 0 2.83L4 21.41c.39.39.9.59 1.41.59.51 0 1.02-.2 1.41-.59l7.78-7.78 2.81-2.81c.8-.78.8-2.07 0-2.86zM5.41 20L4 18.59l7.72-7.72 1.47 1.35L5.41 20z\"/>\n",
              "  </svg>\n",
              "      </button>\n",
              "      \n",
              "  <style>\n",
              "    .colab-df-container {\n",
              "      display:flex;\n",
              "      flex-wrap:wrap;\n",
              "      gap: 12px;\n",
              "    }\n",
              "\n",
              "    .colab-df-convert {\n",
              "      background-color: #E8F0FE;\n",
              "      border: none;\n",
              "      border-radius: 50%;\n",
              "      cursor: pointer;\n",
              "      display: none;\n",
              "      fill: #1967D2;\n",
              "      height: 32px;\n",
              "      padding: 0 0 0 0;\n",
              "      width: 32px;\n",
              "    }\n",
              "\n",
              "    .colab-df-convert:hover {\n",
              "      background-color: #E2EBFA;\n",
              "      box-shadow: 0px 1px 2px rgba(60, 64, 67, 0.3), 0px 1px 3px 1px rgba(60, 64, 67, 0.15);\n",
              "      fill: #174EA6;\n",
              "    }\n",
              "\n",
              "    [theme=dark] .colab-df-convert {\n",
              "      background-color: #3B4455;\n",
              "      fill: #D2E3FC;\n",
              "    }\n",
              "\n",
              "    [theme=dark] .colab-df-convert:hover {\n",
              "      background-color: #434B5C;\n",
              "      box-shadow: 0px 1px 3px 1px rgba(0, 0, 0, 0.15);\n",
              "      filter: drop-shadow(0px 1px 2px rgba(0, 0, 0, 0.3));\n",
              "      fill: #FFFFFF;\n",
              "    }\n",
              "  </style>\n",
              "\n",
              "      <script>\n",
              "        const buttonEl =\n",
              "          document.querySelector('#df-4a78f51f-e5e6-4ebb-8ee0-8c813e936019 button.colab-df-convert');\n",
              "        buttonEl.style.display =\n",
              "          google.colab.kernel.accessAllowed ? 'block' : 'none';\n",
              "\n",
              "        async function convertToInteractive(key) {\n",
              "          const element = document.querySelector('#df-4a78f51f-e5e6-4ebb-8ee0-8c813e936019');\n",
              "          const dataTable =\n",
              "            await google.colab.kernel.invokeFunction('convertToInteractive',\n",
              "                                                     [key], {});\n",
              "          if (!dataTable) return;\n",
              "\n",
              "          const docLinkHtml = 'Like what you see? Visit the ' +\n",
              "            '<a target=\"_blank\" href=https://colab.research.google.com/notebooks/data_table.ipynb>data table notebook</a>'\n",
              "            + ' to learn more about interactive tables.';\n",
              "          element.innerHTML = '';\n",
              "          dataTable['output_type'] = 'display_data';\n",
              "          await google.colab.output.renderOutput(dataTable, element);\n",
              "          const docLink = document.createElement('div');\n",
              "          docLink.innerHTML = docLinkHtml;\n",
              "          element.appendChild(docLink);\n",
              "        }\n",
              "      </script>\n",
              "    </div>\n",
              "  </div>\n",
              "  "
            ]
          },
          "metadata": {},
          "execution_count": 8
        }
      ],
      "source": [
        "# Transformando a tabela \"jogo\" em um DataFrame do Pandas\n",
        "df = pd.DataFrame(jogo)\n",
        "df"
      ]
    },
    {
      "cell_type": "code",
      "execution_count": null,
      "metadata": {
        "id": "RMxg0e62rlQv"
      },
      "outputs": [],
      "source": [
        "# Transformando o DataFrame em um arquivo Excel\n",
        "df.to_excel(\"campeonato_brasileiro_serie_b_2022.xlsx\")"
      ]
    },
    {
      "cell_type": "markdown",
      "source": [
        "# Campeonato Brasileiro Série A - 2022 - Calendário (Jogos que ainda não aconteceram)"
      ],
      "metadata": {
        "id": "KWSUjnDKA6vO"
      }
    },
    {
      "cell_type": "code",
      "source": [
        "# Com o WebDrive a gente consegue a pedir a página (URL)\n",
        "wd_Chrome.get(\"https://www.flashscore.com.br/futebol/brasil/serie-a/calendario/\")"
      ],
      "metadata": {
        "id": "6vFyVS7_AqN5"
      },
      "execution_count": null,
      "outputs": []
    },
    {
      "cell_type": "code",
      "source": [
        "# Pegando o ID dos Jogos\n",
        "id_jogos = []\n",
        "jogos = wd_Chrome.find_elements(By.CSS_SELECTOR,'div.event__match--static')\n",
        "\n",
        "for i in jogos:\n",
        "    id_jogos.append(i.get_attribute(\"id\"))\n",
        "\n",
        "# Exemplo de ID de um jogo: 'g_1_Gb7buXVt'    \n",
        "id_jogos = [i[4:] for i in id_jogos]\n",
        "\n",
        "jogo = {'Date':[],'Time':[],'Country':[],'League':[],'Home':[],'Away':[]}"
      ],
      "metadata": {
        "id": "8AFWB5pTA5UR"
      },
      "execution_count": null,
      "outputs": []
    },
    {
      "cell_type": "code",
      "source": [
        "for link in tqdm(id_jogos, total=len(id_jogos)):\n",
        "    wd_Chrome.get(f'https://www.flashscore.com.br/jogo/{link}/#/resumo-de-jogo')\n",
        "    \n",
        "    # Pegando as Informacoes Básicas do Jogo\n",
        "    try:\n",
        "        Date = wd_Chrome.find_element(By.CSS_SELECTOR,'div.duelParticipant__startTime').text.split(' ')[0]\n",
        "        Time = wd_Chrome.find_element(By.CSS_SELECTOR,'div.duelParticipant__startTime').text.split(' ')[1]\n",
        "        Country = wd_Chrome.find_element(By.CSS_SELECTOR,'span.tournamentHeader__country').text.split(':')[0]\n",
        "        League = wd_Chrome.find_element(By.CSS_SELECTOR,'span.tournamentHeader__country')\n",
        "        League = League.find_element(By.CSS_SELECTOR,'a').text\n",
        "        Home = wd_Chrome.find_element(By.CSS_SELECTOR,'div.duelParticipant__home')\n",
        "        Home = Home.find_element(By.CSS_SELECTOR,'div.participant__participantName').text\n",
        "        Away = wd_Chrome.find_element(By.CSS_SELECTOR,'div.duelParticipant__away')\n",
        "        Away = Away.find_element(By.CSS_SELECTOR,'div.participant__participantName').text          \n",
        "\n",
        "    except:\n",
        "        pass\n",
        "\n",
        "    print(Date,Time,Country,League,Home,Away) \n",
        "\n",
        "    jogo['Date'].append(Date)\n",
        "    jogo['Time'].append(Time)\n",
        "    jogo['Country'].append(Country)\n",
        "    jogo['League'].append(League)\n",
        "    jogo['Home'].append(Home)\n",
        "    jogo['Away'].append(Away)"
      ],
      "metadata": {
        "id": "jZ8ecBMgBSg_",
        "colab": {
          "base_uri": "https://localhost:8080/"
        },
        "outputId": "ae3e97ba-364a-4c02-8c5a-21de5b7fa9c3"
      },
      "execution_count": null,
      "outputs": [
        {
          "output_type": "stream",
          "name": "stderr",
          "text": [
            "  3%|▎         | 1/30 [00:01<00:36,  1.25s/it]"
          ]
        },
        {
          "output_type": "stream",
          "name": "stdout",
          "text": [
            "05.11.2022 19:30 BRASIL SÉRIE A - RODADA 36 Fluminense São Paulo\n"
          ]
        },
        {
          "output_type": "stream",
          "name": "stderr",
          "text": [
            "\r  7%|▋         | 2/30 [00:02<00:34,  1.24s/it]"
          ]
        },
        {
          "output_type": "stream",
          "name": "stdout",
          "text": [
            "05.11.2022 19:30 BRASIL SÉRIE A - RODADA 36 Santos Avaí\n"
          ]
        },
        {
          "output_type": "stream",
          "name": "stderr",
          "text": [
            "\r 10%|█         | 3/30 [00:03<00:35,  1.33s/it]"
          ]
        },
        {
          "output_type": "stream",
          "name": "stdout",
          "text": [
            "05.11.2022 22:00 BRASIL SÉRIE A - RODADA 36 Goiás Juventude\n"
          ]
        },
        {
          "output_type": "stream",
          "name": "stderr",
          "text": [
            "\r 13%|█▎        | 4/30 [00:05<00:34,  1.32s/it]"
          ]
        },
        {
          "output_type": "stream",
          "name": "stdout",
          "text": [
            "05.11.2022 22:00 BRASIL SÉRIE A - RODADA 36 Red Bull Bragantino América-MG\n"
          ]
        },
        {
          "output_type": "stream",
          "name": "stderr",
          "text": [
            "\r 17%|█▋        | 5/30 [00:06<00:31,  1.27s/it]"
          ]
        },
        {
          "output_type": "stream",
          "name": "stdout",
          "text": [
            "05.11.2022 23:30 BRASIL SÉRIE A - RODADA 36 Corinthians Ceará\n"
          ]
        },
        {
          "output_type": "stream",
          "name": "stderr",
          "text": [
            "\r 20%|██        | 6/30 [00:07<00:28,  1.17s/it]"
          ]
        },
        {
          "output_type": "stream",
          "name": "stdout",
          "text": [
            "06.11.2022 00:00 BRASIL SÉRIE A - RODADA 36 Internacional Athletico-PR\n"
          ]
        },
        {
          "output_type": "stream",
          "name": "stderr",
          "text": [
            "\r 23%|██▎       | 7/30 [00:08<00:27,  1.20s/it]"
          ]
        },
        {
          "output_type": "stream",
          "name": "stdout",
          "text": [
            "06.11.2022 19:00 BRASIL SÉRIE A - RODADA 36 Coritiba Flamengo\n"
          ]
        },
        {
          "output_type": "stream",
          "name": "stderr",
          "text": [
            "\r 27%|██▋       | 8/30 [00:09<00:26,  1.20s/it]"
          ]
        },
        {
          "output_type": "stream",
          "name": "stdout",
          "text": [
            "06.11.2022 19:00 BRASIL SÉRIE A - RODADA 36 Fortaleza Atlético-GO\n"
          ]
        },
        {
          "output_type": "stream",
          "name": "stderr",
          "text": [
            "\r 30%|███       | 9/30 [00:10<00:23,  1.12s/it]"
          ]
        },
        {
          "output_type": "stream",
          "name": "stdout",
          "text": [
            "06.11.2022 21:30 BRASIL SÉRIE A - RODADA 36 Cuiabá Palmeiras\n"
          ]
        },
        {
          "output_type": "stream",
          "name": "stderr",
          "text": [
            "\r 33%|███▎      | 10/30 [00:11<00:22,  1.11s/it]"
          ]
        },
        {
          "output_type": "stream",
          "name": "stdout",
          "text": [
            "07.11.2022 23:00 BRASIL SÉRIE A - RODADA 36 Atlético-MG Botafogo\n"
          ]
        },
        {
          "output_type": "stream",
          "name": "stderr",
          "text": [
            "\r 37%|███▋      | 11/30 [00:13<00:22,  1.16s/it]"
          ]
        },
        {
          "output_type": "stream",
          "name": "stdout",
          "text": [
            "09.11.2022 00:30 BRASIL SÉRIE A - RODADA 37 São Paulo Internacional\n"
          ]
        },
        {
          "output_type": "stream",
          "name": "stderr",
          "text": [
            "\r 40%|████      | 12/30 [00:14<00:21,  1.18s/it]"
          ]
        },
        {
          "output_type": "stream",
          "name": "stdout",
          "text": [
            "09.11.2022 22:00 BRASIL SÉRIE A - RODADA 37 Avaí Ceará\n"
          ]
        },
        {
          "output_type": "stream",
          "name": "stderr",
          "text": [
            "\r 43%|████▎     | 13/30 [00:15<00:20,  1.21s/it]"
          ]
        },
        {
          "output_type": "stream",
          "name": "stdout",
          "text": [
            "09.11.2022 22:00 BRASIL SÉRIE A - RODADA 37 Coritiba Corinthians\n"
          ]
        },
        {
          "output_type": "stream",
          "name": "stderr",
          "text": [
            "\r 47%|████▋     | 14/30 [00:16<00:19,  1.25s/it]"
          ]
        },
        {
          "output_type": "stream",
          "name": "stdout",
          "text": [
            "09.11.2022 22:00 BRASIL SÉRIE A - RODADA 37 Fluminense Goiás\n"
          ]
        },
        {
          "output_type": "stream",
          "name": "stderr",
          "text": [
            "\r 50%|█████     | 15/30 [00:18<00:18,  1.22s/it]"
          ]
        },
        {
          "output_type": "stream",
          "name": "stdout",
          "text": [
            "09.11.2022 23:30 BRASIL SÉRIE A - RODADA 37 Atlético-GO Athletico-PR\n"
          ]
        },
        {
          "output_type": "stream",
          "name": "stderr",
          "text": [
            "\r 53%|█████▎    | 16/30 [00:19<00:17,  1.26s/it]"
          ]
        },
        {
          "output_type": "stream",
          "name": "stdout",
          "text": [
            "09.11.2022 23:30 BRASIL SÉRIE A - RODADA 37 Fortaleza Red Bull Bragantino\n"
          ]
        },
        {
          "output_type": "stream",
          "name": "stderr",
          "text": [
            "\r 57%|█████▋    | 17/30 [00:20<00:15,  1.23s/it]"
          ]
        },
        {
          "output_type": "stream",
          "name": "stdout",
          "text": [
            "10.11.2022 00:30 BRASIL SÉRIE A - RODADA 37 Juventude Flamengo\n"
          ]
        },
        {
          "output_type": "stream",
          "name": "stderr",
          "text": [
            "\r 60%|██████    | 18/30 [00:21<00:14,  1.21s/it]"
          ]
        },
        {
          "output_type": "stream",
          "name": "stdout",
          "text": [
            "10.11.2022 00:30 BRASIL SÉRIE A - RODADA 37 Palmeiras América-MG\n"
          ]
        },
        {
          "output_type": "stream",
          "name": "stderr",
          "text": [
            "\r 63%|██████▎   | 19/30 [00:22<00:13,  1.19s/it]"
          ]
        },
        {
          "output_type": "stream",
          "name": "stdout",
          "text": [
            "10.11.2022 23:00 BRASIL SÉRIE A - RODADA 37 Atlético-MG Cuiabá\n"
          ]
        },
        {
          "output_type": "stream",
          "name": "stderr",
          "text": [
            "\r 67%|██████▋   | 20/30 [00:25<00:16,  1.61s/it]"
          ]
        },
        {
          "output_type": "stream",
          "name": "stdout",
          "text": [
            "10.11.2022 23:00 BRASIL SÉRIE A - RODADA 37 Botafogo Santos\n"
          ]
        },
        {
          "output_type": "stream",
          "name": "stderr",
          "text": [
            "\r 70%|███████   | 21/30 [00:26<00:13,  1.49s/it]"
          ]
        },
        {
          "output_type": "stream",
          "name": "stdout",
          "text": [
            "13.11.2022 19:00 BRASIL SÉRIE A - RODADA 38 América-MG Atlético-GO\n"
          ]
        },
        {
          "output_type": "stream",
          "name": "stderr",
          "text": [
            "\r 73%|███████▎  | 22/30 [00:27<00:10,  1.34s/it]"
          ]
        },
        {
          "output_type": "stream",
          "name": "stdout",
          "text": [
            "13.11.2022 19:00 BRASIL SÉRIE A - RODADA 38 Athletico-PR Botafogo\n"
          ]
        },
        {
          "output_type": "stream",
          "name": "stderr",
          "text": [
            "\r 77%|███████▋  | 23/30 [00:28<00:08,  1.28s/it]"
          ]
        },
        {
          "output_type": "stream",
          "name": "stdout",
          "text": [
            "13.11.2022 19:00 BRASIL SÉRIE A - RODADA 38 Ceará Juventude\n"
          ]
        },
        {
          "output_type": "stream",
          "name": "stderr",
          "text": [
            "\r 80%|████████  | 24/30 [00:30<00:07,  1.27s/it]"
          ]
        },
        {
          "output_type": "stream",
          "name": "stdout",
          "text": [
            "13.11.2022 19:00 BRASIL SÉRIE A - RODADA 38 Corinthians Atlético-MG\n"
          ]
        },
        {
          "output_type": "stream",
          "name": "stderr",
          "text": [
            "\r 83%|████████▎ | 25/30 [00:31<00:06,  1.26s/it]"
          ]
        },
        {
          "output_type": "stream",
          "name": "stdout",
          "text": [
            "13.11.2022 19:00 BRASIL SÉRIE A - RODADA 38 Cuiabá Coritiba\n"
          ]
        },
        {
          "output_type": "stream",
          "name": "stderr",
          "text": [
            "\r 87%|████████▋ | 26/30 [00:32<00:04,  1.24s/it]"
          ]
        },
        {
          "output_type": "stream",
          "name": "stdout",
          "text": [
            "13.11.2022 19:00 BRASIL SÉRIE A - RODADA 38 Flamengo Avaí\n"
          ]
        },
        {
          "output_type": "stream",
          "name": "stderr",
          "text": [
            "\r 90%|█████████ | 27/30 [00:33<00:03,  1.20s/it]"
          ]
        },
        {
          "output_type": "stream",
          "name": "stdout",
          "text": [
            "13.11.2022 19:00 BRASIL SÉRIE A - RODADA 38 Goiás São Paulo\n"
          ]
        },
        {
          "output_type": "stream",
          "name": "stderr",
          "text": [
            "\r 93%|█████████▎| 28/30 [00:34<00:02,  1.16s/it]"
          ]
        },
        {
          "output_type": "stream",
          "name": "stdout",
          "text": [
            "13.11.2022 19:00 BRASIL SÉRIE A - RODADA 38 Internacional Palmeiras\n"
          ]
        },
        {
          "output_type": "stream",
          "name": "stderr",
          "text": [
            "\r 97%|█████████▋| 29/30 [00:36<00:01,  1.23s/it]"
          ]
        },
        {
          "output_type": "stream",
          "name": "stdout",
          "text": [
            "13.11.2022 19:00 BRASIL SÉRIE A - RODADA 38 Red Bull Bragantino Fluminense\n"
          ]
        },
        {
          "output_type": "stream",
          "name": "stderr",
          "text": [
            "100%|██████████| 30/30 [00:37<00:00,  1.24s/it]"
          ]
        },
        {
          "output_type": "stream",
          "name": "stdout",
          "text": [
            "13.11.2022 19:00 BRASIL SÉRIE A - RODADA 38 Santos Fortaleza\n"
          ]
        },
        {
          "output_type": "stream",
          "name": "stderr",
          "text": [
            "\n"
          ]
        }
      ]
    },
    {
      "cell_type": "code",
      "source": [
        "df = pd.DataFrame(jogo)\n",
        "df"
      ],
      "metadata": {
        "id": "lqqUDjSsBTg_",
        "colab": {
          "base_uri": "https://localhost:8080/",
          "height": 990
        },
        "outputId": "f399b2af-f5b9-4a96-8e2f-131b0f49a0fa"
      },
      "execution_count": null,
      "outputs": [
        {
          "output_type": "execute_result",
          "data": {
            "text/plain": [
              "          Date   Time Country               League                 Home  \\\n",
              "0   05.11.2022  19:30  BRASIL  SÉRIE A - RODADA 36           Fluminense   \n",
              "1   05.11.2022  19:30  BRASIL  SÉRIE A - RODADA 36               Santos   \n",
              "2   05.11.2022  22:00  BRASIL  SÉRIE A - RODADA 36                Goiás   \n",
              "3   05.11.2022  22:00  BRASIL  SÉRIE A - RODADA 36  Red Bull Bragantino   \n",
              "4   05.11.2022  23:30  BRASIL  SÉRIE A - RODADA 36          Corinthians   \n",
              "5   06.11.2022  00:00  BRASIL  SÉRIE A - RODADA 36        Internacional   \n",
              "6   06.11.2022  19:00  BRASIL  SÉRIE A - RODADA 36             Coritiba   \n",
              "7   06.11.2022  19:00  BRASIL  SÉRIE A - RODADA 36            Fortaleza   \n",
              "8   06.11.2022  21:30  BRASIL  SÉRIE A - RODADA 36               Cuiabá   \n",
              "9   07.11.2022  23:00  BRASIL  SÉRIE A - RODADA 36          Atlético-MG   \n",
              "10  09.11.2022  00:30  BRASIL  SÉRIE A - RODADA 37            São Paulo   \n",
              "11  09.11.2022  22:00  BRASIL  SÉRIE A - RODADA 37                 Avaí   \n",
              "12  09.11.2022  22:00  BRASIL  SÉRIE A - RODADA 37             Coritiba   \n",
              "13  09.11.2022  22:00  BRASIL  SÉRIE A - RODADA 37           Fluminense   \n",
              "14  09.11.2022  23:30  BRASIL  SÉRIE A - RODADA 37          Atlético-GO   \n",
              "15  09.11.2022  23:30  BRASIL  SÉRIE A - RODADA 37            Fortaleza   \n",
              "16  10.11.2022  00:30  BRASIL  SÉRIE A - RODADA 37            Juventude   \n",
              "17  10.11.2022  00:30  BRASIL  SÉRIE A - RODADA 37            Palmeiras   \n",
              "18  10.11.2022  23:00  BRASIL  SÉRIE A - RODADA 37          Atlético-MG   \n",
              "19  10.11.2022  23:00  BRASIL  SÉRIE A - RODADA 37             Botafogo   \n",
              "20  13.11.2022  19:00  BRASIL  SÉRIE A - RODADA 38           América-MG   \n",
              "21  13.11.2022  19:00  BRASIL  SÉRIE A - RODADA 38         Athletico-PR   \n",
              "22  13.11.2022  19:00  BRASIL  SÉRIE A - RODADA 38                Ceará   \n",
              "23  13.11.2022  19:00  BRASIL  SÉRIE A - RODADA 38          Corinthians   \n",
              "24  13.11.2022  19:00  BRASIL  SÉRIE A - RODADA 38               Cuiabá   \n",
              "25  13.11.2022  19:00  BRASIL  SÉRIE A - RODADA 38             Flamengo   \n",
              "26  13.11.2022  19:00  BRASIL  SÉRIE A - RODADA 38                Goiás   \n",
              "27  13.11.2022  19:00  BRASIL  SÉRIE A - RODADA 38        Internacional   \n",
              "28  13.11.2022  19:00  BRASIL  SÉRIE A - RODADA 38  Red Bull Bragantino   \n",
              "29  13.11.2022  19:00  BRASIL  SÉRIE A - RODADA 38               Santos   \n",
              "\n",
              "                   Away  \n",
              "0             São Paulo  \n",
              "1                  Avaí  \n",
              "2             Juventude  \n",
              "3            América-MG  \n",
              "4                 Ceará  \n",
              "5          Athletico-PR  \n",
              "6              Flamengo  \n",
              "7           Atlético-GO  \n",
              "8             Palmeiras  \n",
              "9              Botafogo  \n",
              "10        Internacional  \n",
              "11                Ceará  \n",
              "12          Corinthians  \n",
              "13                Goiás  \n",
              "14         Athletico-PR  \n",
              "15  Red Bull Bragantino  \n",
              "16             Flamengo  \n",
              "17           América-MG  \n",
              "18               Cuiabá  \n",
              "19               Santos  \n",
              "20          Atlético-GO  \n",
              "21             Botafogo  \n",
              "22            Juventude  \n",
              "23          Atlético-MG  \n",
              "24             Coritiba  \n",
              "25                 Avaí  \n",
              "26            São Paulo  \n",
              "27            Palmeiras  \n",
              "28           Fluminense  \n",
              "29            Fortaleza  "
            ],
            "text/html": [
              "\n",
              "  <div id=\"df-808995f8-c1b2-4e67-9cec-01a17b68a78b\">\n",
              "    <div class=\"colab-df-container\">\n",
              "      <div>\n",
              "<style scoped>\n",
              "    .dataframe tbody tr th:only-of-type {\n",
              "        vertical-align: middle;\n",
              "    }\n",
              "\n",
              "    .dataframe tbody tr th {\n",
              "        vertical-align: top;\n",
              "    }\n",
              "\n",
              "    .dataframe thead th {\n",
              "        text-align: right;\n",
              "    }\n",
              "</style>\n",
              "<table border=\"1\" class=\"dataframe\">\n",
              "  <thead>\n",
              "    <tr style=\"text-align: right;\">\n",
              "      <th></th>\n",
              "      <th>Date</th>\n",
              "      <th>Time</th>\n",
              "      <th>Country</th>\n",
              "      <th>League</th>\n",
              "      <th>Home</th>\n",
              "      <th>Away</th>\n",
              "    </tr>\n",
              "  </thead>\n",
              "  <tbody>\n",
              "    <tr>\n",
              "      <th>0</th>\n",
              "      <td>05.11.2022</td>\n",
              "      <td>19:30</td>\n",
              "      <td>BRASIL</td>\n",
              "      <td>SÉRIE A - RODADA 36</td>\n",
              "      <td>Fluminense</td>\n",
              "      <td>São Paulo</td>\n",
              "    </tr>\n",
              "    <tr>\n",
              "      <th>1</th>\n",
              "      <td>05.11.2022</td>\n",
              "      <td>19:30</td>\n",
              "      <td>BRASIL</td>\n",
              "      <td>SÉRIE A - RODADA 36</td>\n",
              "      <td>Santos</td>\n",
              "      <td>Avaí</td>\n",
              "    </tr>\n",
              "    <tr>\n",
              "      <th>2</th>\n",
              "      <td>05.11.2022</td>\n",
              "      <td>22:00</td>\n",
              "      <td>BRASIL</td>\n",
              "      <td>SÉRIE A - RODADA 36</td>\n",
              "      <td>Goiás</td>\n",
              "      <td>Juventude</td>\n",
              "    </tr>\n",
              "    <tr>\n",
              "      <th>3</th>\n",
              "      <td>05.11.2022</td>\n",
              "      <td>22:00</td>\n",
              "      <td>BRASIL</td>\n",
              "      <td>SÉRIE A - RODADA 36</td>\n",
              "      <td>Red Bull Bragantino</td>\n",
              "      <td>América-MG</td>\n",
              "    </tr>\n",
              "    <tr>\n",
              "      <th>4</th>\n",
              "      <td>05.11.2022</td>\n",
              "      <td>23:30</td>\n",
              "      <td>BRASIL</td>\n",
              "      <td>SÉRIE A - RODADA 36</td>\n",
              "      <td>Corinthians</td>\n",
              "      <td>Ceará</td>\n",
              "    </tr>\n",
              "    <tr>\n",
              "      <th>5</th>\n",
              "      <td>06.11.2022</td>\n",
              "      <td>00:00</td>\n",
              "      <td>BRASIL</td>\n",
              "      <td>SÉRIE A - RODADA 36</td>\n",
              "      <td>Internacional</td>\n",
              "      <td>Athletico-PR</td>\n",
              "    </tr>\n",
              "    <tr>\n",
              "      <th>6</th>\n",
              "      <td>06.11.2022</td>\n",
              "      <td>19:00</td>\n",
              "      <td>BRASIL</td>\n",
              "      <td>SÉRIE A - RODADA 36</td>\n",
              "      <td>Coritiba</td>\n",
              "      <td>Flamengo</td>\n",
              "    </tr>\n",
              "    <tr>\n",
              "      <th>7</th>\n",
              "      <td>06.11.2022</td>\n",
              "      <td>19:00</td>\n",
              "      <td>BRASIL</td>\n",
              "      <td>SÉRIE A - RODADA 36</td>\n",
              "      <td>Fortaleza</td>\n",
              "      <td>Atlético-GO</td>\n",
              "    </tr>\n",
              "    <tr>\n",
              "      <th>8</th>\n",
              "      <td>06.11.2022</td>\n",
              "      <td>21:30</td>\n",
              "      <td>BRASIL</td>\n",
              "      <td>SÉRIE A - RODADA 36</td>\n",
              "      <td>Cuiabá</td>\n",
              "      <td>Palmeiras</td>\n",
              "    </tr>\n",
              "    <tr>\n",
              "      <th>9</th>\n",
              "      <td>07.11.2022</td>\n",
              "      <td>23:00</td>\n",
              "      <td>BRASIL</td>\n",
              "      <td>SÉRIE A - RODADA 36</td>\n",
              "      <td>Atlético-MG</td>\n",
              "      <td>Botafogo</td>\n",
              "    </tr>\n",
              "    <tr>\n",
              "      <th>10</th>\n",
              "      <td>09.11.2022</td>\n",
              "      <td>00:30</td>\n",
              "      <td>BRASIL</td>\n",
              "      <td>SÉRIE A - RODADA 37</td>\n",
              "      <td>São Paulo</td>\n",
              "      <td>Internacional</td>\n",
              "    </tr>\n",
              "    <tr>\n",
              "      <th>11</th>\n",
              "      <td>09.11.2022</td>\n",
              "      <td>22:00</td>\n",
              "      <td>BRASIL</td>\n",
              "      <td>SÉRIE A - RODADA 37</td>\n",
              "      <td>Avaí</td>\n",
              "      <td>Ceará</td>\n",
              "    </tr>\n",
              "    <tr>\n",
              "      <th>12</th>\n",
              "      <td>09.11.2022</td>\n",
              "      <td>22:00</td>\n",
              "      <td>BRASIL</td>\n",
              "      <td>SÉRIE A - RODADA 37</td>\n",
              "      <td>Coritiba</td>\n",
              "      <td>Corinthians</td>\n",
              "    </tr>\n",
              "    <tr>\n",
              "      <th>13</th>\n",
              "      <td>09.11.2022</td>\n",
              "      <td>22:00</td>\n",
              "      <td>BRASIL</td>\n",
              "      <td>SÉRIE A - RODADA 37</td>\n",
              "      <td>Fluminense</td>\n",
              "      <td>Goiás</td>\n",
              "    </tr>\n",
              "    <tr>\n",
              "      <th>14</th>\n",
              "      <td>09.11.2022</td>\n",
              "      <td>23:30</td>\n",
              "      <td>BRASIL</td>\n",
              "      <td>SÉRIE A - RODADA 37</td>\n",
              "      <td>Atlético-GO</td>\n",
              "      <td>Athletico-PR</td>\n",
              "    </tr>\n",
              "    <tr>\n",
              "      <th>15</th>\n",
              "      <td>09.11.2022</td>\n",
              "      <td>23:30</td>\n",
              "      <td>BRASIL</td>\n",
              "      <td>SÉRIE A - RODADA 37</td>\n",
              "      <td>Fortaleza</td>\n",
              "      <td>Red Bull Bragantino</td>\n",
              "    </tr>\n",
              "    <tr>\n",
              "      <th>16</th>\n",
              "      <td>10.11.2022</td>\n",
              "      <td>00:30</td>\n",
              "      <td>BRASIL</td>\n",
              "      <td>SÉRIE A - RODADA 37</td>\n",
              "      <td>Juventude</td>\n",
              "      <td>Flamengo</td>\n",
              "    </tr>\n",
              "    <tr>\n",
              "      <th>17</th>\n",
              "      <td>10.11.2022</td>\n",
              "      <td>00:30</td>\n",
              "      <td>BRASIL</td>\n",
              "      <td>SÉRIE A - RODADA 37</td>\n",
              "      <td>Palmeiras</td>\n",
              "      <td>América-MG</td>\n",
              "    </tr>\n",
              "    <tr>\n",
              "      <th>18</th>\n",
              "      <td>10.11.2022</td>\n",
              "      <td>23:00</td>\n",
              "      <td>BRASIL</td>\n",
              "      <td>SÉRIE A - RODADA 37</td>\n",
              "      <td>Atlético-MG</td>\n",
              "      <td>Cuiabá</td>\n",
              "    </tr>\n",
              "    <tr>\n",
              "      <th>19</th>\n",
              "      <td>10.11.2022</td>\n",
              "      <td>23:00</td>\n",
              "      <td>BRASIL</td>\n",
              "      <td>SÉRIE A - RODADA 37</td>\n",
              "      <td>Botafogo</td>\n",
              "      <td>Santos</td>\n",
              "    </tr>\n",
              "    <tr>\n",
              "      <th>20</th>\n",
              "      <td>13.11.2022</td>\n",
              "      <td>19:00</td>\n",
              "      <td>BRASIL</td>\n",
              "      <td>SÉRIE A - RODADA 38</td>\n",
              "      <td>América-MG</td>\n",
              "      <td>Atlético-GO</td>\n",
              "    </tr>\n",
              "    <tr>\n",
              "      <th>21</th>\n",
              "      <td>13.11.2022</td>\n",
              "      <td>19:00</td>\n",
              "      <td>BRASIL</td>\n",
              "      <td>SÉRIE A - RODADA 38</td>\n",
              "      <td>Athletico-PR</td>\n",
              "      <td>Botafogo</td>\n",
              "    </tr>\n",
              "    <tr>\n",
              "      <th>22</th>\n",
              "      <td>13.11.2022</td>\n",
              "      <td>19:00</td>\n",
              "      <td>BRASIL</td>\n",
              "      <td>SÉRIE A - RODADA 38</td>\n",
              "      <td>Ceará</td>\n",
              "      <td>Juventude</td>\n",
              "    </tr>\n",
              "    <tr>\n",
              "      <th>23</th>\n",
              "      <td>13.11.2022</td>\n",
              "      <td>19:00</td>\n",
              "      <td>BRASIL</td>\n",
              "      <td>SÉRIE A - RODADA 38</td>\n",
              "      <td>Corinthians</td>\n",
              "      <td>Atlético-MG</td>\n",
              "    </tr>\n",
              "    <tr>\n",
              "      <th>24</th>\n",
              "      <td>13.11.2022</td>\n",
              "      <td>19:00</td>\n",
              "      <td>BRASIL</td>\n",
              "      <td>SÉRIE A - RODADA 38</td>\n",
              "      <td>Cuiabá</td>\n",
              "      <td>Coritiba</td>\n",
              "    </tr>\n",
              "    <tr>\n",
              "      <th>25</th>\n",
              "      <td>13.11.2022</td>\n",
              "      <td>19:00</td>\n",
              "      <td>BRASIL</td>\n",
              "      <td>SÉRIE A - RODADA 38</td>\n",
              "      <td>Flamengo</td>\n",
              "      <td>Avaí</td>\n",
              "    </tr>\n",
              "    <tr>\n",
              "      <th>26</th>\n",
              "      <td>13.11.2022</td>\n",
              "      <td>19:00</td>\n",
              "      <td>BRASIL</td>\n",
              "      <td>SÉRIE A - RODADA 38</td>\n",
              "      <td>Goiás</td>\n",
              "      <td>São Paulo</td>\n",
              "    </tr>\n",
              "    <tr>\n",
              "      <th>27</th>\n",
              "      <td>13.11.2022</td>\n",
              "      <td>19:00</td>\n",
              "      <td>BRASIL</td>\n",
              "      <td>SÉRIE A - RODADA 38</td>\n",
              "      <td>Internacional</td>\n",
              "      <td>Palmeiras</td>\n",
              "    </tr>\n",
              "    <tr>\n",
              "      <th>28</th>\n",
              "      <td>13.11.2022</td>\n",
              "      <td>19:00</td>\n",
              "      <td>BRASIL</td>\n",
              "      <td>SÉRIE A - RODADA 38</td>\n",
              "      <td>Red Bull Bragantino</td>\n",
              "      <td>Fluminense</td>\n",
              "    </tr>\n",
              "    <tr>\n",
              "      <th>29</th>\n",
              "      <td>13.11.2022</td>\n",
              "      <td>19:00</td>\n",
              "      <td>BRASIL</td>\n",
              "      <td>SÉRIE A - RODADA 38</td>\n",
              "      <td>Santos</td>\n",
              "      <td>Fortaleza</td>\n",
              "    </tr>\n",
              "  </tbody>\n",
              "</table>\n",
              "</div>\n",
              "      <button class=\"colab-df-convert\" onclick=\"convertToInteractive('df-808995f8-c1b2-4e67-9cec-01a17b68a78b')\"\n",
              "              title=\"Convert this dataframe to an interactive table.\"\n",
              "              style=\"display:none;\">\n",
              "        \n",
              "  <svg xmlns=\"http://www.w3.org/2000/svg\" height=\"24px\"viewBox=\"0 0 24 24\"\n",
              "       width=\"24px\">\n",
              "    <path d=\"M0 0h24v24H0V0z\" fill=\"none\"/>\n",
              "    <path d=\"M18.56 5.44l.94 2.06.94-2.06 2.06-.94-2.06-.94-.94-2.06-.94 2.06-2.06.94zm-11 1L8.5 8.5l.94-2.06 2.06-.94-2.06-.94L8.5 2.5l-.94 2.06-2.06.94zm10 10l.94 2.06.94-2.06 2.06-.94-2.06-.94-.94-2.06-.94 2.06-2.06.94z\"/><path d=\"M17.41 7.96l-1.37-1.37c-.4-.4-.92-.59-1.43-.59-.52 0-1.04.2-1.43.59L10.3 9.45l-7.72 7.72c-.78.78-.78 2.05 0 2.83L4 21.41c.39.39.9.59 1.41.59.51 0 1.02-.2 1.41-.59l7.78-7.78 2.81-2.81c.8-.78.8-2.07 0-2.86zM5.41 20L4 18.59l7.72-7.72 1.47 1.35L5.41 20z\"/>\n",
              "  </svg>\n",
              "      </button>\n",
              "      \n",
              "  <style>\n",
              "    .colab-df-container {\n",
              "      display:flex;\n",
              "      flex-wrap:wrap;\n",
              "      gap: 12px;\n",
              "    }\n",
              "\n",
              "    .colab-df-convert {\n",
              "      background-color: #E8F0FE;\n",
              "      border: none;\n",
              "      border-radius: 50%;\n",
              "      cursor: pointer;\n",
              "      display: none;\n",
              "      fill: #1967D2;\n",
              "      height: 32px;\n",
              "      padding: 0 0 0 0;\n",
              "      width: 32px;\n",
              "    }\n",
              "\n",
              "    .colab-df-convert:hover {\n",
              "      background-color: #E2EBFA;\n",
              "      box-shadow: 0px 1px 2px rgba(60, 64, 67, 0.3), 0px 1px 3px 1px rgba(60, 64, 67, 0.15);\n",
              "      fill: #174EA6;\n",
              "    }\n",
              "\n",
              "    [theme=dark] .colab-df-convert {\n",
              "      background-color: #3B4455;\n",
              "      fill: #D2E3FC;\n",
              "    }\n",
              "\n",
              "    [theme=dark] .colab-df-convert:hover {\n",
              "      background-color: #434B5C;\n",
              "      box-shadow: 0px 1px 3px 1px rgba(0, 0, 0, 0.15);\n",
              "      filter: drop-shadow(0px 1px 2px rgba(0, 0, 0, 0.3));\n",
              "      fill: #FFFFFF;\n",
              "    }\n",
              "  </style>\n",
              "\n",
              "      <script>\n",
              "        const buttonEl =\n",
              "          document.querySelector('#df-808995f8-c1b2-4e67-9cec-01a17b68a78b button.colab-df-convert');\n",
              "        buttonEl.style.display =\n",
              "          google.colab.kernel.accessAllowed ? 'block' : 'none';\n",
              "\n",
              "        async function convertToInteractive(key) {\n",
              "          const element = document.querySelector('#df-808995f8-c1b2-4e67-9cec-01a17b68a78b');\n",
              "          const dataTable =\n",
              "            await google.colab.kernel.invokeFunction('convertToInteractive',\n",
              "                                                     [key], {});\n",
              "          if (!dataTable) return;\n",
              "\n",
              "          const docLinkHtml = 'Like what you see? Visit the ' +\n",
              "            '<a target=\"_blank\" href=https://colab.research.google.com/notebooks/data_table.ipynb>data table notebook</a>'\n",
              "            + ' to learn more about interactive tables.';\n",
              "          element.innerHTML = '';\n",
              "          dataTable['output_type'] = 'display_data';\n",
              "          await google.colab.output.renderOutput(dataTable, element);\n",
              "          const docLink = document.createElement('div');\n",
              "          docLink.innerHTML = docLinkHtml;\n",
              "          element.appendChild(docLink);\n",
              "        }\n",
              "      </script>\n",
              "    </div>\n",
              "  </div>\n",
              "  "
            ]
          },
          "metadata": {},
          "execution_count": 13
        }
      ]
    },
    {
      "cell_type": "code",
      "source": [
        "df.to_excel('campeonato_brasileiro_serie_a_calendario_2022.xlsx')"
      ],
      "metadata": {
        "id": "_IgQAwM0BVS_"
      },
      "execution_count": null,
      "outputs": []
    },
    {
      "cell_type": "markdown",
      "source": [
        "# Copa do Brasil 2022 - Resultados (Jogos que já aconteceram)"
      ],
      "metadata": {
        "id": "T7lQz4mpgSMl"
      }
    },
    {
      "cell_type": "code",
      "source": [
        "# Com o WebDrive a gente consegue a pedir a página (URL)\n",
        "wd_Chrome.get(\"https://www.flashscore.com.br/futebol/brasil/copa-do-brasil/resultados/\")\n",
        "\n",
        "while True:\n",
        "  try:\n",
        "    botao_mais = wd_Chrome.find_element(By.XPATH, '//*[@id=\"live-table\"]/div[1]/div/div/a')\n",
        "    wd_Chrome.execute_script('arguments[0].click();', botao_mais)\n",
        "    time.sleep(5)\n",
        "  except:\n",
        "    break"
      ],
      "metadata": {
        "id": "cP3bA2zggezi"
      },
      "execution_count": null,
      "outputs": []
    },
    {
      "cell_type": "code",
      "source": [
        "# Pegando o ID dos Jogos\n",
        "id_jogos = []\n",
        "jogos = wd_Chrome.find_elements(By.CSS_SELECTOR,'div.event__match--static')\n",
        "\n",
        "for i in jogos:\n",
        "    id_jogos.append(i.get_attribute(\"id\"))\n",
        "\n",
        "# Exemplo de ID de um jogo: 'g_1_Gb7buXVt'    \n",
        "id_jogos = [i[4:] for i in id_jogos]\n",
        "\n",
        "jogo = {'Date':[],'Time':[],'Country':[],'League':[],'Home':[],'Away':[]}"
      ],
      "metadata": {
        "id": "3XuqZtvVginT"
      },
      "execution_count": null,
      "outputs": []
    },
    {
      "cell_type": "code",
      "source": [
        "for link in tqdm(id_jogos, total=len(id_jogos)):\n",
        "    wd_Chrome.get(f'https://www.flashscore.com.br/jogo/{link}/#/resumo-de-jogo')\n",
        "    \n",
        "    # Pegando as Informacoes Básicas do Jogo\n",
        "    try:\n",
        "        Date = wd_Chrome.find_element(By.CSS_SELECTOR,'div.duelParticipant__startTime').text.split(' ')[0]\n",
        "        Time = wd_Chrome.find_element(By.CSS_SELECTOR,'div.duelParticipant__startTime').text.split(' ')[1]\n",
        "        Country = wd_Chrome.find_element(By.CSS_SELECTOR,'span.tournamentHeader__country').text.split(':')[0]\n",
        "        League = wd_Chrome.find_element(By.CSS_SELECTOR,'span.tournamentHeader__country')\n",
        "        League = League.find_element(By.CSS_SELECTOR,'a').text\n",
        "        Home = wd_Chrome.find_element(By.CSS_SELECTOR,'div.duelParticipant__home')\n",
        "        Home = Home.find_element(By.CSS_SELECTOR,'div.participant__participantName').text\n",
        "        Away = wd_Chrome.find_element(By.CSS_SELECTOR,'div.duelParticipant__away')\n",
        "        Away = Away.find_element(By.CSS_SELECTOR,'div.participant__participantName').text          \n",
        "\n",
        "    except:\n",
        "        pass\n",
        "\n",
        "    print(Date,Time,Country,League,Home,Away) \n",
        "\n",
        "    jogo['Date'].append(Date)\n",
        "    jogo['Time'].append(Time)\n",
        "    jogo['Country'].append(Country)\n",
        "    jogo['League'].append(League)\n",
        "    jogo['Home'].append(Home)\n",
        "    jogo['Away'].append(Away)"
      ],
      "metadata": {
        "id": "XthOe99bgkjE",
        "colab": {
          "base_uri": "https://localhost:8080/"
        },
        "outputId": "9c4c6a31-e8c4-465c-9b45-b63c9589a15f"
      },
      "execution_count": null,
      "outputs": [
        {
          "output_type": "stream",
          "name": "stderr",
          "text": [
            "  1%|          | 1/122 [00:01<02:55,  1.45s/it]"
          ]
        },
        {
          "output_type": "stream",
          "name": "stdout",
          "text": [
            "20.10.2022 00:45 BRASIL COPA DO BRASIL - FINAL Flamengo Corinthians\n"
          ]
        },
        {
          "output_type": "stream",
          "name": "stderr",
          "text": [
            "\r  2%|▏         | 2/122 [00:02<02:36,  1.31s/it]"
          ]
        },
        {
          "output_type": "stream",
          "name": "stdout",
          "text": [
            "13.10.2022 00:45 BRASIL COPA DO BRASIL - FINAL Corinthians Flamengo\n"
          ]
        },
        {
          "output_type": "stream",
          "name": "stderr",
          "text": [
            "\r  2%|▏         | 3/122 [00:03<02:32,  1.28s/it]"
          ]
        },
        {
          "output_type": "stream",
          "name": "stdout",
          "text": [
            "15.09.2022 23:00 BRASIL COPA DO BRASIL - SEMIFINAIS Corinthians Fluminense\n"
          ]
        },
        {
          "output_type": "stream",
          "name": "stderr",
          "text": [
            "\r  3%|▎         | 4/122 [00:05<02:31,  1.28s/it]"
          ]
        },
        {
          "output_type": "stream",
          "name": "stdout",
          "text": [
            "15.09.2022 00:45 BRASIL COPA DO BRASIL - SEMIFINAIS Flamengo São Paulo\n"
          ]
        },
        {
          "output_type": "stream",
          "name": "stderr",
          "text": [
            "\r  4%|▍         | 5/122 [00:07<02:54,  1.50s/it]"
          ]
        },
        {
          "output_type": "stream",
          "name": "stdout",
          "text": [
            "25.08.2022 00:30 BRASIL COPA DO BRASIL - SEMIFINAIS São Paulo Flamengo\n"
          ]
        },
        {
          "output_type": "stream",
          "name": "stderr",
          "text": [
            "\r  5%|▍         | 6/122 [00:08<02:43,  1.41s/it]"
          ]
        },
        {
          "output_type": "stream",
          "name": "stdout",
          "text": [
            "24.08.2022 22:30 BRASIL COPA DO BRASIL - SEMIFINAIS Fluminense Corinthians\n"
          ]
        },
        {
          "output_type": "stream",
          "name": "stderr",
          "text": [
            "\r  6%|▌         | 7/122 [00:10<02:57,  1.54s/it]"
          ]
        },
        {
          "output_type": "stream",
          "name": "stdout",
          "text": [
            "19.08.2022 00:00 BRASIL COPA DO BRASIL - QUARTAS DE FINAL América-MG São Paulo\n"
          ]
        },
        {
          "output_type": "stream",
          "name": "stderr",
          "text": [
            "\r  7%|▋         | 8/122 [00:11<03:07,  1.65s/it]"
          ]
        },
        {
          "output_type": "stream",
          "name": "stdout",
          "text": [
            "18.08.2022 00:30 BRASIL COPA DO BRASIL - QUARTAS DE FINAL Athletico-PR Flamengo\n"
          ]
        },
        {
          "output_type": "stream",
          "name": "stderr",
          "text": [
            "\r  7%|▋         | 9/122 [00:13<03:02,  1.62s/it]"
          ]
        },
        {
          "output_type": "stream",
          "name": "stdout",
          "text": [
            "18.08.2022 00:30 BRASIL COPA DO BRASIL - QUARTAS DE FINAL Corinthians Atlético-GO\n"
          ]
        },
        {
          "output_type": "stream",
          "name": "stderr",
          "text": [
            "\r  8%|▊         | 10/122 [00:14<02:48,  1.50s/it]"
          ]
        },
        {
          "output_type": "stream",
          "name": "stdout",
          "text": [
            "17.08.2022 23:00 BRASIL COPA DO BRASIL - QUARTAS DE FINAL Fluminense Fortaleza\n"
          ]
        },
        {
          "output_type": "stream",
          "name": "stderr",
          "text": [
            "\r  9%|▉         | 11/122 [00:16<02:53,  1.56s/it]"
          ]
        },
        {
          "output_type": "stream",
          "name": "stdout",
          "text": [
            "28.07.2022 23:30 BRASIL COPA DO BRASIL - QUARTAS DE FINAL Fortaleza Fluminense\n"
          ]
        },
        {
          "output_type": "stream",
          "name": "stderr",
          "text": [
            "\r 10%|▉         | 12/122 [00:18<02:54,  1.58s/it]"
          ]
        },
        {
          "output_type": "stream",
          "name": "stdout",
          "text": [
            "28.07.2022 23:00 BRASIL COPA DO BRASIL - QUARTAS DE FINAL São Paulo América-MG\n"
          ]
        },
        {
          "output_type": "stream",
          "name": "stderr",
          "text": [
            "\r 11%|█         | 13/122 [00:19<02:59,  1.65s/it]"
          ]
        },
        {
          "output_type": "stream",
          "name": "stdout",
          "text": [
            "28.07.2022 00:30 BRASIL COPA DO BRASIL - QUARTAS DE FINAL Atlético-GO Corinthians\n"
          ]
        },
        {
          "output_type": "stream",
          "name": "stderr",
          "text": [
            "\r 11%|█▏        | 14/122 [00:21<02:47,  1.55s/it]"
          ]
        },
        {
          "output_type": "stream",
          "name": "stdout",
          "text": [
            "28.07.2022 00:30 BRASIL COPA DO BRASIL - QUARTAS DE FINAL Flamengo Athletico-PR\n"
          ]
        },
        {
          "output_type": "stream",
          "name": "stderr",
          "text": [
            "\r 12%|█▏        | 15/122 [00:22<02:51,  1.60s/it]"
          ]
        },
        {
          "output_type": "stream",
          "name": "stdout",
          "text": [
            "15.07.2022 00:00 BRASIL COPA DO BRASIL - OITAVAS DE FINAL Botafogo América-MG\n"
          ]
        },
        {
          "output_type": "stream",
          "name": "stderr",
          "text": [
            "\r 13%|█▎        | 16/122 [00:24<02:38,  1.50s/it]"
          ]
        },
        {
          "output_type": "stream",
          "name": "stdout",
          "text": [
            "14.07.2022 23:00 BRASIL COPA DO BRASIL - OITAVAS DE FINAL Palmeiras São Paulo\n"
          ]
        },
        {
          "output_type": "stream",
          "name": "stderr",
          "text": [
            "\r 14%|█▍        | 17/122 [00:25<02:35,  1.48s/it]"
          ]
        },
        {
          "output_type": "stream",
          "name": "stdout",
          "text": [
            "14.07.2022 00:30 BRASIL COPA DO BRASIL - OITAVAS DE FINAL Flamengo Atlético-MG\n"
          ]
        },
        {
          "output_type": "stream",
          "name": "stderr",
          "text": [
            "\r 15%|█▍        | 18/122 [00:27<02:46,  1.60s/it]"
          ]
        },
        {
          "output_type": "stream",
          "name": "stdout",
          "text": [
            "14.07.2022 00:30 BRASIL COPA DO BRASIL - OITAVAS DE FINAL Santos Corinthians\n"
          ]
        },
        {
          "output_type": "stream",
          "name": "stderr",
          "text": [
            "\r 16%|█▌        | 19/122 [00:28<02:32,  1.48s/it]"
          ]
        },
        {
          "output_type": "stream",
          "name": "stdout",
          "text": [
            "13.07.2022 23:00 BRASIL COPA DO BRASIL - OITAVAS DE FINAL Ceará Fortaleza\n"
          ]
        },
        {
          "output_type": "stream",
          "name": "stderr",
          "text": [
            "\r 16%|█▋        | 20/122 [00:30<02:40,  1.57s/it]"
          ]
        },
        {
          "output_type": "stream",
          "name": "stdout",
          "text": [
            "13.07.2022 22:00 BRASIL COPA DO BRASIL - OITAVAS DE FINAL Goiás Atlético-GO\n"
          ]
        },
        {
          "output_type": "stream",
          "name": "stderr",
          "text": [
            "\r 17%|█▋        | 21/122 [00:32<02:47,  1.66s/it]"
          ]
        },
        {
          "output_type": "stream",
          "name": "stdout",
          "text": [
            "13.07.2022 00:00 BRASIL COPA DO BRASIL - OITAVAS DE FINAL Cruzeiro Fluminense\n"
          ]
        },
        {
          "output_type": "stream",
          "name": "stderr",
          "text": [
            "\r 18%|█▊        | 22/122 [00:34<02:52,  1.72s/it]"
          ]
        },
        {
          "output_type": "stream",
          "name": "stdout",
          "text": [
            "12.07.2022 23:30 BRASIL COPA DO BRASIL - OITAVAS DE FINAL Athletico-PR Bahia\n"
          ]
        },
        {
          "output_type": "stream",
          "name": "stderr",
          "text": [
            "\r 19%|█▉        | 23/122 [00:35<02:48,  1.70s/it]"
          ]
        },
        {
          "output_type": "stream",
          "name": "stdout",
          "text": [
            "30.06.2022 22:00 BRASIL COPA DO BRASIL - OITAVAS DE FINAL América-MG Botafogo\n"
          ]
        },
        {
          "output_type": "stream",
          "name": "stderr",
          "text": [
            "\r 20%|█▉        | 24/122 [00:37<02:48,  1.72s/it]"
          ]
        },
        {
          "output_type": "stream",
          "name": "stdout",
          "text": [
            "23.06.2022 23:00 BRASIL COPA DO BRASIL - OITAVAS DE FINAL São Paulo Palmeiras\n"
          ]
        },
        {
          "output_type": "stream",
          "name": "stderr",
          "text": [
            "\r 20%|██        | 25/122 [00:38<02:33,  1.58s/it]"
          ]
        },
        {
          "output_type": "stream",
          "name": "stdout",
          "text": [
            "23.06.2022 22:00 BRASIL COPA DO BRASIL - OITAVAS DE FINAL Fluminense Cruzeiro\n"
          ]
        },
        {
          "output_type": "stream",
          "name": "stderr",
          "text": [
            "\r 21%|██▏       | 26/122 [00:40<02:19,  1.46s/it]"
          ]
        },
        {
          "output_type": "stream",
          "name": "stdout",
          "text": [
            "23.06.2022 00:30 BRASIL COPA DO BRASIL - OITAVAS DE FINAL Atlético-MG Flamengo\n"
          ]
        },
        {
          "output_type": "stream",
          "name": "stderr",
          "text": [
            "\r 22%|██▏       | 27/122 [00:41<02:12,  1.39s/it]"
          ]
        },
        {
          "output_type": "stream",
          "name": "stdout",
          "text": [
            "23.06.2022 00:30 BRASIL COPA DO BRASIL - OITAVAS DE FINAL Corinthians Santos\n"
          ]
        },
        {
          "output_type": "stream",
          "name": "stderr",
          "text": [
            "\r 23%|██▎       | 28/122 [00:42<02:02,  1.30s/it]"
          ]
        },
        {
          "output_type": "stream",
          "name": "stdout",
          "text": [
            "22.06.2022 23:00 BRASIL COPA DO BRASIL - OITAVAS DE FINAL Fortaleza Ceará\n"
          ]
        },
        {
          "output_type": "stream",
          "name": "stderr",
          "text": [
            "\r 24%|██▍       | 29/122 [00:44<02:17,  1.48s/it]"
          ]
        },
        {
          "output_type": "stream",
          "name": "stdout",
          "text": [
            "22.06.2022 22:30 BRASIL COPA DO BRASIL - OITAVAS DE FINAL Bahia Athletico-PR\n"
          ]
        },
        {
          "output_type": "stream",
          "name": "stderr",
          "text": [
            "\r 25%|██▍       | 30/122 [00:46<02:24,  1.58s/it]"
          ]
        },
        {
          "output_type": "stream",
          "name": "stdout",
          "text": [
            "22.06.2022 22:00 BRASIL COPA DO BRASIL - OITAVAS DE FINAL Atlético-GO Goiás\n"
          ]
        },
        {
          "output_type": "stream",
          "name": "stderr",
          "text": [
            "\r 25%|██▌       | 31/122 [00:47<02:11,  1.45s/it]"
          ]
        },
        {
          "output_type": "stream",
          "name": "stdout",
          "text": [
            "01.06.2022 00:30 BRASIL COPA DO BRASIL - 16 AVOS DE FINAL Red Bull Bragantino Goiás\n"
          ]
        },
        {
          "output_type": "stream",
          "name": "stderr",
          "text": [
            "\r 26%|██▌       | 32/122 [00:48<02:01,  1.35s/it]"
          ]
        },
        {
          "output_type": "stream",
          "name": "stdout",
          "text": [
            "22.05.2022 22:00 BRASIL COPA DO BRASIL - 16 AVOS DE FINAL Brasiliense Atlético-MG\n"
          ]
        },
        {
          "output_type": "stream",
          "name": "stderr",
          "text": [
            "\r 27%|██▋       | 33/122 [00:50<02:09,  1.46s/it]"
          ]
        },
        {
          "output_type": "stream",
          "name": "stdout",
          "text": [
            "13.05.2022 00:30 BRASIL COPA DO BRASIL - 16 AVOS DE FINAL Botafogo Ceilândia\n"
          ]
        },
        {
          "output_type": "stream",
          "name": "stderr",
          "text": [
            "\r 28%|██▊       | 34/122 [00:51<02:18,  1.57s/it]"
          ]
        },
        {
          "output_type": "stream",
          "name": "stdout",
          "text": [
            "13.05.2022 00:30 BRASIL COPA DO BRASIL - 16 AVOS DE FINAL Santos Coritiba\n"
          ]
        },
        {
          "output_type": "stream",
          "name": "stderr",
          "text": [
            "\r 29%|██▊       | 35/122 [00:53<02:22,  1.64s/it]"
          ]
        },
        {
          "output_type": "stream",
          "name": "stdout",
          "text": [
            "12.05.2022 22:30 BRASIL COPA DO BRASIL - 16 AVOS DE FINAL Cruzeiro Remo\n"
          ]
        },
        {
          "output_type": "stream",
          "name": "stderr",
          "text": [
            "\r 30%|██▉       | 36/122 [00:55<02:23,  1.66s/it]"
          ]
        },
        {
          "output_type": "stream",
          "name": "stdout",
          "text": [
            "12.05.2022 22:30 BRASIL COPA DO BRASIL - 16 AVOS DE FINAL São Paulo Juventude\n"
          ]
        },
        {
          "output_type": "stream",
          "name": "stderr",
          "text": [
            "\r 30%|███       | 37/122 [00:57<02:26,  1.72s/it]"
          ]
        },
        {
          "output_type": "stream",
          "name": "stdout",
          "text": [
            "12.05.2022 22:00 BRASIL COPA DO BRASIL - 16 AVOS DE FINAL Vitória Fortaleza\n"
          ]
        },
        {
          "output_type": "stream",
          "name": "stderr",
          "text": [
            "\r 31%|███       | 38/122 [00:59<02:24,  1.72s/it]"
          ]
        },
        {
          "output_type": "stream",
          "name": "stdout",
          "text": [
            "12.05.2022 01:00 BRASIL COPA DO BRASIL - 16 AVOS DE FINAL Cuiabá Atlético-GO\n"
          ]
        },
        {
          "output_type": "stream",
          "name": "stderr",
          "text": [
            "\r 32%|███▏      | 39/122 [01:00<02:20,  1.69s/it]"
          ]
        },
        {
          "output_type": "stream",
          "name": "stdout",
          "text": [
            "12.05.2022 00:30 BRASIL COPA DO BRASIL - 16 AVOS DE FINAL Corinthians Portuguesa-RJ\n"
          ]
        },
        {
          "output_type": "stream",
          "name": "stderr",
          "text": [
            "\r 33%|███▎      | 40/122 [01:02<02:17,  1.67s/it]"
          ]
        },
        {
          "output_type": "stream",
          "name": "stdout",
          "text": [
            "12.05.2022 00:30 BRASIL COPA DO BRASIL - 16 AVOS DE FINAL Vila Nova Fluminense\n"
          ]
        },
        {
          "output_type": "stream",
          "name": "stderr",
          "text": [
            "\r 34%|███▎      | 41/122 [01:03<02:04,  1.54s/it]"
          ]
        },
        {
          "output_type": "stream",
          "name": "stdout",
          "text": [
            "11.05.2022 22:30 BRASIL COPA DO BRASIL - 16 AVOS DE FINAL Flamengo AE Altos\n"
          ]
        },
        {
          "output_type": "stream",
          "name": "stderr",
          "text": [
            "\r 34%|███▍      | 42/122 [01:05<02:10,  1.63s/it]"
          ]
        },
        {
          "output_type": "stream",
          "name": "stdout",
          "text": [
            "11.05.2022 22:00 BRASIL COPA DO BRASIL - 16 AVOS DE FINAL Ceará Tombense\n"
          ]
        },
        {
          "output_type": "stream",
          "name": "stderr",
          "text": [
            "\r 35%|███▌      | 43/122 [01:07<02:09,  1.64s/it]"
          ]
        },
        {
          "output_type": "stream",
          "name": "stdout",
          "text": [
            "11.05.2022 22:00 BRASIL COPA DO BRASIL - 16 AVOS DE FINAL Juazeirense Palmeiras\n"
          ]
        },
        {
          "output_type": "stream",
          "name": "stderr",
          "text": [
            "\r 36%|███▌      | 44/122 [01:08<02:09,  1.66s/it]"
          ]
        },
        {
          "output_type": "stream",
          "name": "stdout",
          "text": [
            "11.05.2022 00:30 BRASIL COPA DO BRASIL - 16 AVOS DE FINAL Athletico-PR Tocantinópolis\n"
          ]
        },
        {
          "output_type": "stream",
          "name": "stderr",
          "text": [
            "\r 37%|███▋      | 45/122 [01:10<02:00,  1.57s/it]"
          ]
        },
        {
          "output_type": "stream",
          "name": "stdout",
          "text": [
            "10.05.2022 23:30 BRASIL COPA DO BRASIL - 16 AVOS DE FINAL Azuriz Bahia\n"
          ]
        },
        {
          "output_type": "stream",
          "name": "stderr",
          "text": [
            "\r 38%|███▊      | 46/122 [01:11<02:00,  1.59s/it]"
          ]
        },
        {
          "output_type": "stream",
          "name": "stdout",
          "text": [
            "10.05.2022 22:00 BRASIL COPA DO BRASIL - 16 AVOS DE FINAL América-MG CSA\n"
          ]
        },
        {
          "output_type": "stream",
          "name": "stderr",
          "text": [
            "\r 39%|███▊      | 47/122 [01:12<01:50,  1.48s/it]"
          ]
        },
        {
          "output_type": "stream",
          "name": "stdout",
          "text": [
            "01.05.2022 21:00 BRASIL COPA DO BRASIL - 16 AVOS DE FINAL AE Altos Flamengo\n"
          ]
        },
        {
          "output_type": "stream",
          "name": "stderr",
          "text": [
            "\r 39%|███▉      | 48/122 [01:14<01:51,  1.51s/it]"
          ]
        },
        {
          "output_type": "stream",
          "name": "stdout",
          "text": [
            "01.05.2022 00:00 BRASIL COPA DO BRASIL - 16 AVOS DE FINAL Palmeiras Juazeirense\n"
          ]
        },
        {
          "output_type": "stream",
          "name": "stderr",
          "text": [
            "\r 40%|████      | 49/122 [01:17<02:28,  2.03s/it]"
          ]
        },
        {
          "output_type": "stream",
          "name": "stdout",
          "text": [
            "22.04.2022 00:30 BRASIL COPA DO BRASIL - 16 AVOS DE FINAL Atlético-GO Cuiabá\n"
          ]
        },
        {
          "output_type": "stream",
          "name": "stderr",
          "text": [
            "\r 41%|████      | 50/122 [01:19<02:20,  1.95s/it]"
          ]
        },
        {
          "output_type": "stream",
          "name": "stdout",
          "text": [
            "21.04.2022 00:30 BRASIL COPA DO BRASIL - 16 AVOS DE FINAL Ceilândia Botafogo\n"
          ]
        },
        {
          "output_type": "stream",
          "name": "stderr",
          "text": [
            "\r 42%|████▏     | 51/122 [01:20<02:01,  1.71s/it]"
          ]
        },
        {
          "output_type": "stream",
          "name": "stdout",
          "text": [
            "21.04.2022 00:30 BRASIL COPA DO BRASIL - 16 AVOS DE FINAL Portuguesa-RJ Corinthians\n"
          ]
        },
        {
          "output_type": "stream",
          "name": "stderr",
          "text": [
            "\r 43%|████▎     | 52/122 [01:22<02:00,  1.72s/it]"
          ]
        },
        {
          "output_type": "stream",
          "name": "stdout",
          "text": [
            "21.04.2022 00:30 BRASIL COPA DO BRASIL - 16 AVOS DE FINAL Tombense Ceará\n"
          ]
        },
        {
          "output_type": "stream",
          "name": "stderr",
          "text": [
            "\r 43%|████▎     | 53/122 [01:24<01:56,  1.69s/it]"
          ]
        },
        {
          "output_type": "stream",
          "name": "stdout",
          "text": [
            "20.04.2022 22:30 BRASIL COPA DO BRASIL - 16 AVOS DE FINAL Coritiba Santos\n"
          ]
        },
        {
          "output_type": "stream",
          "name": "stderr",
          "text": [
            "\r 44%|████▍     | 54/122 [01:25<01:55,  1.69s/it]"
          ]
        },
        {
          "output_type": "stream",
          "name": "stdout",
          "text": [
            "20.04.2022 22:30 BRASIL COPA DO BRASIL - 16 AVOS DE FINAL Juventude São Paulo\n"
          ]
        },
        {
          "output_type": "stream",
          "name": "stderr",
          "text": [
            "\r 45%|████▌     | 55/122 [01:27<01:58,  1.76s/it]"
          ]
        },
        {
          "output_type": "stream",
          "name": "stdout",
          "text": [
            "20.04.2022 22:00 BRASIL COPA DO BRASIL - 16 AVOS DE FINAL Atlético-MG Brasiliense\n"
          ]
        },
        {
          "output_type": "stream",
          "name": "stderr",
          "text": [
            "\r 46%|████▌     | 56/122 [01:29<01:55,  1.75s/it]"
          ]
        },
        {
          "output_type": "stream",
          "name": "stdout",
          "text": [
            "20.04.2022 22:00 BRASIL COPA DO BRASIL - 16 AVOS DE FINAL Fortaleza Vitória\n"
          ]
        },
        {
          "output_type": "stream",
          "name": "stderr",
          "text": [
            "\r 47%|████▋     | 57/122 [01:30<01:50,  1.71s/it]"
          ]
        },
        {
          "output_type": "stream",
          "name": "stdout",
          "text": [
            "20.04.2022 22:00 BRASIL COPA DO BRASIL - 16 AVOS DE FINAL Goiás Red Bull Bragantino\n"
          ]
        },
        {
          "output_type": "stream",
          "name": "stderr",
          "text": [
            "\r 48%|████▊     | 58/122 [01:32<01:47,  1.68s/it]"
          ]
        },
        {
          "output_type": "stream",
          "name": "stdout",
          "text": [
            "20.04.2022 22:00 BRASIL COPA DO BRASIL - 16 AVOS DE FINAL Tocantinópolis Athletico-PR\n"
          ]
        },
        {
          "output_type": "stream",
          "name": "stderr",
          "text": [
            "\r 48%|████▊     | 59/122 [01:34<01:50,  1.76s/it]"
          ]
        },
        {
          "output_type": "stream",
          "name": "stdout",
          "text": [
            "20.04.2022 00:30 BRASIL COPA DO BRASIL - 16 AVOS DE FINAL Fluminense Vila Nova\n"
          ]
        },
        {
          "output_type": "stream",
          "name": "stderr",
          "text": [
            "\r 49%|████▉     | 60/122 [01:35<01:40,  1.62s/it]"
          ]
        },
        {
          "output_type": "stream",
          "name": "stdout",
          "text": [
            "20.04.2022 00:30 BRASIL COPA DO BRASIL - 16 AVOS DE FINAL Remo Cruzeiro\n"
          ]
        },
        {
          "output_type": "stream",
          "name": "stderr",
          "text": [
            "\r 50%|█████     | 61/122 [01:37<01:39,  1.63s/it]"
          ]
        },
        {
          "output_type": "stream",
          "name": "stdout",
          "text": [
            "19.04.2022 22:30 BRASIL COPA DO BRASIL - 16 AVOS DE FINAL Bahia Azuriz\n"
          ]
        },
        {
          "output_type": "stream",
          "name": "stderr",
          "text": [
            "\r 51%|█████     | 62/122 [01:39<01:38,  1.64s/it]"
          ]
        },
        {
          "output_type": "stream",
          "name": "stdout",
          "text": [
            "19.04.2022 22:00 BRASIL COPA DO BRASIL - 16 AVOS DE FINAL CSA América-MG\n"
          ]
        },
        {
          "output_type": "stream",
          "name": "stderr",
          "text": [
            "\r 52%|█████▏    | 63/122 [01:40<01:33,  1.58s/it]"
          ]
        },
        {
          "output_type": "stream",
          "name": "stdout",
          "text": [
            "24.03.2022 00:30 BRASIL COPA DO BRASIL - 32 AVOS DE FINAL Vitória GE Glória\n"
          ]
        },
        {
          "output_type": "stream",
          "name": "stderr",
          "text": [
            "\r 52%|█████▏    | 64/122 [01:42<01:34,  1.64s/it]"
          ]
        },
        {
          "output_type": "stream",
          "name": "stdout",
          "text": [
            "18.03.2022 00:30 BRASIL COPA DO BRASIL - 32 AVOS DE FINAL Goiás Criciúma\n"
          ]
        },
        {
          "output_type": "stream",
          "name": "stderr",
          "text": [
            "\r 53%|█████▎    | 65/122 [01:44<01:35,  1.68s/it]"
          ]
        },
        {
          "output_type": "stream",
          "name": "stdout",
          "text": [
            "17.03.2022 22:00 BRASIL COPA DO BRASIL - 32 AVOS DE FINAL Real Noroeste Juventude\n"
          ]
        },
        {
          "output_type": "stream",
          "name": "stderr",
          "text": [
            "\r 54%|█████▍    | 66/122 [01:45<01:30,  1.62s/it]"
          ]
        },
        {
          "output_type": "stream",
          "name": "stdout",
          "text": [
            "17.03.2022 00:30 BRASIL COPA DO BRASIL - 32 AVOS DE FINAL CSA Paysandu\n"
          ]
        },
        {
          "output_type": "stream",
          "name": "stderr",
          "text": [
            "\r 55%|█████▍    | 67/122 [01:47<01:28,  1.61s/it]"
          ]
        },
        {
          "output_type": "stream",
          "name": "stdout",
          "text": [
            "17.03.2022 00:30 BRASIL COPA DO BRASIL - 32 AVOS DE FINAL São Paulo Manaus\n"
          ]
        },
        {
          "output_type": "stream",
          "name": "stderr",
          "text": [
            "\r 56%|█████▌    | 68/122 [01:48<01:26,  1.60s/it]"
          ]
        },
        {
          "output_type": "stream",
          "name": "stdout",
          "text": [
            "16.03.2022 23:30 BRASIL COPA DO BRASIL - 32 AVOS DE FINAL Globo Brasiliense\n"
          ]
        },
        {
          "output_type": "stream",
          "name": "stderr",
          "text": [
            "\r 57%|█████▋    | 69/122 [01:50<01:29,  1.70s/it]"
          ]
        },
        {
          "output_type": "stream",
          "name": "stdout",
          "text": [
            "16.03.2022 23:30 BRASIL COPA DO BRASIL - 32 AVOS DE FINAL Tocantinópolis Cascavel\n"
          ]
        },
        {
          "output_type": "stream",
          "name": "stderr",
          "text": [
            "\r 57%|█████▋    | 70/122 [01:52<01:31,  1.75s/it]"
          ]
        },
        {
          "output_type": "stream",
          "name": "stdout",
          "text": [
            "16.03.2022 23:30 BRASIL COPA DO BRASIL - 32 AVOS DE FINAL Tuntum Cruzeiro\n"
          ]
        },
        {
          "output_type": "stream",
          "name": "stderr",
          "text": [
            "\r 58%|█████▊    | 71/122 [01:54<01:27,  1.72s/it]"
          ]
        },
        {
          "output_type": "stream",
          "name": "stdout",
          "text": [
            "16.03.2022 22:00 BRASIL COPA DO BRASIL - 32 AVOS DE FINAL Moto Club Tombense\n"
          ]
        },
        {
          "output_type": "stream",
          "name": "stderr",
          "text": [
            "\r 59%|█████▉    | 72/122 [01:55<01:25,  1.72s/it]"
          ]
        },
        {
          "output_type": "stream",
          "name": "stdout",
          "text": [
            "16.03.2022 19:00 BRASIL COPA DO BRASIL - 32 AVOS DE FINAL ABC AE Altos\n"
          ]
        },
        {
          "output_type": "stream",
          "name": "stderr",
          "text": [
            "\r 60%|█████▉    | 73/122 [01:57<01:22,  1.69s/it]"
          ]
        },
        {
          "output_type": "stream",
          "name": "stdout",
          "text": [
            "16.03.2022 00:30 BRASIL COPA DO BRASIL - 32 AVOS DE FINAL Ceará Tuna Luso\n"
          ]
        },
        {
          "output_type": "stream",
          "name": "stderr",
          "text": [
            "\r 61%|██████    | 74/122 [01:59<01:23,  1.75s/it]"
          ]
        },
        {
          "output_type": "stream",
          "name": "stdout",
          "text": [
            "16.03.2022 00:30 BRASIL COPA DO BRASIL - 32 AVOS DE FINAL Guarani Vila Nova\n"
          ]
        },
        {
          "output_type": "stream",
          "name": "stderr",
          "text": [
            "\r 61%|██████▏   | 75/122 [02:01<01:21,  1.73s/it]"
          ]
        },
        {
          "output_type": "stream",
          "name": "stdout",
          "text": [
            "15.03.2022 22:00 BRASIL COPA DO BRASIL - 32 AVOS DE FINAL Atlético-GO Nova Venecia\n"
          ]
        },
        {
          "output_type": "stream",
          "name": "stderr",
          "text": [
            "\r 62%|██████▏   | 76/122 [02:02<01:18,  1.72s/it]"
          ]
        },
        {
          "output_type": "stream",
          "name": "stdout",
          "text": [
            "15.03.2022 19:00 BRASIL COPA DO BRASIL - 32 AVOS DE FINAL Portuguesa-RJ Sampaio Corrêa\n"
          ]
        },
        {
          "output_type": "stream",
          "name": "stderr",
          "text": [
            "\r 63%|██████▎   | 77/122 [02:04<01:15,  1.67s/it]"
          ]
        },
        {
          "output_type": "stream",
          "name": "stdout",
          "text": [
            "11.03.2022 00:30 BRASIL COPA DO BRASIL - 32 AVOS DE FINAL Avaí Ceilândia\n"
          ]
        },
        {
          "output_type": "stream",
          "name": "stderr",
          "text": [
            "\r 64%|██████▍   | 78/122 [02:06<01:13,  1.67s/it]"
          ]
        },
        {
          "output_type": "stream",
          "name": "stdout",
          "text": [
            "11.03.2022 00:30 BRASIL COPA DO BRASIL - 32 AVOS DE FINAL Pouso Alegre Coritiba\n"
          ]
        },
        {
          "output_type": "stream",
          "name": "stderr",
          "text": [
            "\r 65%|██████▍   | 79/122 [02:07<01:04,  1.50s/it]"
          ]
        },
        {
          "output_type": "stream",
          "name": "stdout",
          "text": [
            "10.03.2022 00:30 BRASIL COPA DO BRASIL - 32 AVOS DE FINAL Juazeirense Vasco\n"
          ]
        },
        {
          "output_type": "stream",
          "name": "stderr",
          "text": [
            "\r 66%|██████▌   | 80/122 [02:09<01:12,  1.72s/it]"
          ]
        },
        {
          "output_type": "stream",
          "name": "stdout",
          "text": [
            "09.03.2022 22:00 BRASIL COPA DO BRASIL - 32 AVOS DE FINAL Azuriz Mirassol\n"
          ]
        },
        {
          "output_type": "stream",
          "name": "stderr",
          "text": [
            "\r 66%|██████▋   | 81/122 [02:11<01:19,  1.95s/it]"
          ]
        },
        {
          "output_type": "stream",
          "name": "stdout",
          "text": [
            "09.03.2022 00:30 BRASIL COPA DO BRASIL - 32 AVOS DE FINAL Figueirense Cuiabá\n"
          ]
        },
        {
          "output_type": "stream",
          "name": "stderr",
          "text": [
            "\r 67%|██████▋   | 82/122 [02:14<01:22,  2.07s/it]"
          ]
        },
        {
          "output_type": "stream",
          "name": "stdout",
          "text": [
            "09.03.2022 00:30 BRASIL COPA DO BRASIL - 32 AVOS DE FINAL Fluminense-PI Santos\n"
          ]
        },
        {
          "output_type": "stream",
          "name": "stderr",
          "text": [
            "\r 68%|██████▊   | 83/122 [02:16<01:25,  2.19s/it]"
          ]
        },
        {
          "output_type": "stream",
          "name": "stdout",
          "text": [
            "04.03.2022 00:30 BRASIL COPA DO BRASIL - 64 AVOS DE FINAL Globo Internacional\n"
          ]
        },
        {
          "output_type": "stream",
          "name": "stderr",
          "text": [
            "\r 69%|██████▉   | 84/122 [02:19<01:30,  2.38s/it]"
          ]
        },
        {
          "output_type": "stream",
          "name": "stdout",
          "text": [
            "03.03.2022 23:30 BRASIL COPA DO BRASIL - 64 AVOS DE FINAL Castanhal Vitória\n"
          ]
        },
        {
          "output_type": "stream",
          "name": "stderr",
          "text": [
            "\r 70%|██████▉   | 85/122 [02:22<01:31,  2.46s/it]"
          ]
        },
        {
          "output_type": "stream",
          "name": "stdout",
          "text": [
            "03.03.2022 22:00 BRASIL COPA DO BRASIL - 64 AVOS DE FINAL União Rondonópolis Atlético-GO\n"
          ]
        },
        {
          "output_type": "stream",
          "name": "stderr",
          "text": [
            "\r 70%|███████   | 86/122 [02:24<01:29,  2.48s/it]"
          ]
        },
        {
          "output_type": "stream",
          "name": "stdout",
          "text": [
            "03.03.2022 18:30 BRASIL COPA DO BRASIL - 64 AVOS DE FINAL Nova Venecia Ferroviário\n"
          ]
        },
        {
          "output_type": "stream",
          "name": "stderr",
          "text": [
            "\r 71%|███████▏  | 87/122 [02:27<01:25,  2.45s/it]"
          ]
        },
        {
          "output_type": "stream",
          "name": "stdout",
          "text": [
            "03.03.2022 00:30 BRASIL COPA DO BRASIL - 64 AVOS DE FINAL Ferroviária Vasco\n"
          ]
        },
        {
          "output_type": "stream",
          "name": "stderr",
          "text": [
            "\r 72%|███████▏  | 88/122 [02:29<01:25,  2.50s/it]"
          ]
        },
        {
          "output_type": "stream",
          "name": "stdout",
          "text": [
            "03.03.2022 00:30 BRASIL COPA DO BRASIL - 64 AVOS DE FINAL Portuguesa-RJ CRB\n"
          ]
        },
        {
          "output_type": "stream",
          "name": "stderr",
          "text": [
            "\r 73%|███████▎  | 89/122 [02:31<01:18,  2.39s/it]"
          ]
        },
        {
          "output_type": "stream",
          "name": "stdout",
          "text": [
            "03.03.2022 00:00 BRASIL COPA DO BRASIL - 64 AVOS DE FINAL Costa Rica ABC\n"
          ]
        },
        {
          "output_type": "stream",
          "name": "stderr",
          "text": [
            "\r 74%|███████▍  | 90/122 [02:34<01:17,  2.42s/it]"
          ]
        },
        {
          "output_type": "stream",
          "name": "stdout",
          "text": [
            "02.03.2022 23:30 BRASIL COPA DO BRASIL - 64 AVOS DE FINAL Grêmio Anápolis Juazeirense\n"
          ]
        },
        {
          "output_type": "stream",
          "name": "stderr",
          "text": [
            "\r 75%|███████▍  | 91/122 [02:36<01:13,  2.36s/it]"
          ]
        },
        {
          "output_type": "stream",
          "name": "stdout",
          "text": [
            "02.03.2022 23:30 BRASIL COPA DO BRASIL - 64 AVOS DE FINAL Trem Paysandu\n"
          ]
        },
        {
          "output_type": "stream",
          "name": "stderr",
          "text": [
            "\r 75%|███████▌  | 92/122 [02:38<01:11,  2.37s/it]"
          ]
        },
        {
          "output_type": "stream",
          "name": "stdout",
          "text": [
            "02.03.2022 23:00 BRASIL COPA DO BRASIL - 64 AVOS DE FINAL Rio Branco Vila Nova\n"
          ]
        },
        {
          "output_type": "stream",
          "name": "stderr",
          "text": [
            "\r 76%|███████▌  | 93/122 [02:40<01:01,  2.11s/it]"
          ]
        },
        {
          "output_type": "stream",
          "name": "stdout",
          "text": [
            "02.03.2022 22:00 BRASIL COPA DO BRASIL - 64 AVOS DE FINAL AE Altos Sport\n"
          ]
        },
        {
          "output_type": "stream",
          "name": "stderr",
          "text": [
            "\r 77%|███████▋  | 94/122 [02:42<00:54,  1.96s/it]"
          ]
        },
        {
          "output_type": "stream",
          "name": "stdout",
          "text": [
            "02.03.2022 22:00 BRASIL COPA DO BRASIL - 64 AVOS DE FINAL Real Noroeste Operário\n"
          ]
        },
        {
          "output_type": "stream",
          "name": "stderr",
          "text": [
            "\r 78%|███████▊  | 95/122 [02:43<00:48,  1.81s/it]"
          ]
        },
        {
          "output_type": "stream",
          "name": "stdout",
          "text": [
            "02.03.2022 22:00 BRASIL COPA DO BRASIL - 64 AVOS DE FINAL São Raimundo-RR Ceará\n"
          ]
        },
        {
          "output_type": "stream",
          "name": "stderr",
          "text": [
            "\r 79%|███████▊  | 96/122 [02:45<00:46,  1.77s/it]"
          ]
        },
        {
          "output_type": "stream",
          "name": "stdout",
          "text": [
            "02.03.2022 19:30 BRASIL COPA DO BRASIL - 64 AVOS DE FINAL Operário-VG Sampaio Corrêa\n"
          ]
        },
        {
          "output_type": "stream",
          "name": "stderr",
          "text": [
            "\r 80%|███████▉  | 97/122 [02:46<00:43,  1.72s/it]"
          ]
        },
        {
          "output_type": "stream",
          "name": "stdout",
          "text": [
            "02.03.2022 19:30 BRASIL COPA DO BRASIL - 64 AVOS DE FINAL Porto Velho Juventude\n"
          ]
        },
        {
          "output_type": "stream",
          "name": "stderr",
          "text": [
            "\r 80%|████████  | 98/122 [02:48<00:40,  1.68s/it]"
          ]
        },
        {
          "output_type": "stream",
          "name": "stdout",
          "text": [
            "02.03.2022 18:30 BRASIL COPA DO BRASIL - 64 AVOS DE FINAL Ceilândia Londrina\n"
          ]
        },
        {
          "output_type": "stream",
          "name": "stderr",
          "text": [
            "\r 81%|████████  | 99/122 [02:49<00:37,  1.65s/it]"
          ]
        },
        {
          "output_type": "stream",
          "name": "stdout",
          "text": [
            "02.03.2022 18:30 BRASIL COPA DO BRASIL - 64 AVOS DE FINAL Tuna Luso Novorizontino\n"
          ]
        },
        {
          "output_type": "stream",
          "name": "stderr",
          "text": [
            "\r 82%|████████▏ | 100/122 [02:51<00:37,  1.69s/it]"
          ]
        },
        {
          "output_type": "stream",
          "name": "stdout",
          "text": [
            "02.03.2022 00:30 BRASIL COPA DO BRASIL - 64 AVOS DE FINAL Mirassol Grêmio\n"
          ]
        },
        {
          "output_type": "stream",
          "name": "stderr",
          "text": [
            "\r 83%|████████▎ | 101/122 [02:53<00:35,  1.68s/it]"
          ]
        },
        {
          "output_type": "stream",
          "name": "stdout",
          "text": [
            "02.03.2022 00:30 BRASIL COPA DO BRASIL - 64 AVOS DE FINAL Sousa Goiás\n"
          ]
        },
        {
          "output_type": "stream",
          "name": "stderr",
          "text": [
            "\r 84%|████████▎ | 102/122 [02:55<00:33,  1.66s/it]"
          ]
        },
        {
          "output_type": "stream",
          "name": "stdout",
          "text": [
            "01.03.2022 22:00 BRASIL COPA DO BRASIL - 64 AVOS DE FINAL Moto Club Chapecoense\n"
          ]
        },
        {
          "output_type": "stream",
          "name": "stderr",
          "text": [
            "\r 84%|████████▍ | 103/122 [02:56<00:31,  1.63s/it]"
          ]
        },
        {
          "output_type": "stream",
          "name": "stdout",
          "text": [
            "01.03.2022 22:00 BRASIL COPA DO BRASIL - 64 AVOS DE FINAL Pouso Alegre Paraná\n"
          ]
        },
        {
          "output_type": "stream",
          "name": "stderr",
          "text": [
            "\r 85%|████████▌ | 104/122 [02:58<00:29,  1.63s/it]"
          ]
        },
        {
          "output_type": "stream",
          "name": "stdout",
          "text": [
            "01.03.2022 19:00 BRASIL COPA DO BRASIL - 64 AVOS DE FINAL Maricá Guarani\n"
          ]
        },
        {
          "output_type": "stream",
          "name": "stderr",
          "text": [
            "\r 86%|████████▌ | 105/122 [03:00<00:28,  1.67s/it]"
          ]
        },
        {
          "output_type": "stream",
          "name": "stdout",
          "text": [
            "01.03.2022 18:30 BRASIL COPA DO BRASIL - 64 AVOS DE FINAL Icasa-CE Tombense\n"
          ]
        },
        {
          "output_type": "stream",
          "name": "stderr",
          "text": [
            "\r 87%|████████▋ | 106/122 [03:01<00:26,  1.65s/it]"
          ]
        },
        {
          "output_type": "stream",
          "name": "stdout",
          "text": [
            "25.02.2022 00:30 BRASIL COPA DO BRASIL - 64 AVOS DE FINAL Campinense São Paulo\n"
          ]
        },
        {
          "output_type": "stream",
          "name": "stderr",
          "text": [
            "\r 88%|████████▊ | 107/122 [03:03<00:24,  1.63s/it]"
          ]
        },
        {
          "output_type": "stream",
          "name": "stdout",
          "text": [
            "24.02.2022 22:00 BRASIL COPA DO BRASIL - 64 AVOS DE FINAL Bahia de Feira Coritiba\n"
          ]
        },
        {
          "output_type": "stream",
          "name": "stderr",
          "text": [
            "\r 89%|████████▊ | 108/122 [03:04<00:22,  1.62s/it]"
          ]
        },
        {
          "output_type": "stream",
          "name": "stdout",
          "text": [
            "24.02.2022 19:30 BRASIL COPA DO BRASIL - 64 AVOS DE FINAL São Raimundo-AM Manaus\n"
          ]
        },
        {
          "output_type": "stream",
          "name": "stderr",
          "text": [
            "\r 89%|████████▉ | 109/122 [03:06<00:21,  1.68s/it]"
          ]
        },
        {
          "output_type": "stream",
          "name": "stdout",
          "text": [
            "24.02.2022 18:30 BRASIL COPA DO BRASIL - 64 AVOS DE FINAL Fluminense-PI Oeste\n"
          ]
        },
        {
          "output_type": "stream",
          "name": "stderr",
          "text": [
            "\r 90%|█████████ | 110/122 [03:08<00:20,  1.69s/it]"
          ]
        },
        {
          "output_type": "stream",
          "name": "stdout",
          "text": [
            "24.02.2022 18:30 BRASIL COPA DO BRASIL - 64 AVOS DE FINAL Nova Iguaçu Criciúma\n"
          ]
        },
        {
          "output_type": "stream",
          "name": "stderr",
          "text": [
            "\r 91%|█████████ | 111/122 [03:09<00:18,  1.67s/it]"
          ]
        },
        {
          "output_type": "stream",
          "name": "stdout",
          "text": [
            "24.02.2022 01:00 BRASIL COPA DO BRASIL - 64 AVOS DE FINAL Humaita Brasiliense\n"
          ]
        },
        {
          "output_type": "stream",
          "name": "stderr",
          "text": [
            "\r 92%|█████████▏| 112/122 [03:11<00:16,  1.65s/it]"
          ]
        },
        {
          "output_type": "stream",
          "name": "stdout",
          "text": [
            "24.02.2022 00:30 BRASIL COPA DO BRASIL - 64 AVOS DE FINAL Atlético de Alagoinhas CSA\n"
          ]
        },
        {
          "output_type": "stream",
          "name": "stderr",
          "text": [
            "\r 93%|█████████▎| 113/122 [03:13<00:15,  1.71s/it]"
          ]
        },
        {
          "output_type": "stream",
          "name": "stdout",
          "text": [
            "24.02.2022 00:30 BRASIL COPA DO BRASIL - 64 AVOS DE FINAL Sergipe Cruzeiro\n"
          ]
        },
        {
          "output_type": "stream",
          "name": "stderr",
          "text": [
            "\r 93%|█████████▎| 114/122 [03:15<00:13,  1.68s/it]"
          ]
        },
        {
          "output_type": "stream",
          "name": "stdout",
          "text": [
            "23.02.2022 23:30 BRASIL COPA DO BRASIL - 64 AVOS DE FINAL Tocantinópolis Náutico\n"
          ]
        },
        {
          "output_type": "stream",
          "name": "stderr",
          "text": [
            "\r 94%|█████████▍| 115/122 [03:16<00:11,  1.65s/it]"
          ]
        },
        {
          "output_type": "stream",
          "name": "stdout",
          "text": [
            "23.02.2022 23:00 BRASIL COPA DO BRASIL - 64 AVOS DE FINAL GE Glória Brasil de Pelotas\n"
          ]
        },
        {
          "output_type": "stream",
          "name": "stderr",
          "text": [
            "\r 95%|█████████▌| 116/122 [03:17<00:09,  1.57s/it]"
          ]
        },
        {
          "output_type": "stream",
          "name": "stdout",
          "text": [
            "23.02.2022 22:00 BRASIL COPA DO BRASIL - 64 AVOS DE FINAL ASA Cuiabá\n"
          ]
        },
        {
          "output_type": "stream",
          "name": "stderr",
          "text": [
            "\r 96%|█████████▌| 117/122 [03:20<00:09,  1.99s/it]"
          ]
        },
        {
          "output_type": "stream",
          "name": "stdout",
          "text": [
            "23.02.2022 22:00 BRASIL COPA DO BRASIL - 64 AVOS DE FINAL Azuriz Botafogo-SP\n"
          ]
        },
        {
          "output_type": "stream",
          "name": "stderr",
          "text": [
            "\r 97%|█████████▋| 118/122 [03:22<00:07,  1.77s/it]"
          ]
        },
        {
          "output_type": "stream",
          "name": "stdout",
          "text": [
            "23.02.2022 22:00 BRASIL COPA DO BRASIL - 64 AVOS DE FINAL Salgueiro Santos\n"
          ]
        },
        {
          "output_type": "stream",
          "name": "stderr",
          "text": [
            "\r 98%|█████████▊| 119/122 [03:23<00:05,  1.71s/it]"
          ]
        },
        {
          "output_type": "stream",
          "name": "stdout",
          "text": [
            "23.02.2022 18:30 BRASIL COPA DO BRASIL - 64 AVOS DE FINAL Tuntum Volta Redonda\n"
          ]
        },
        {
          "output_type": "stream",
          "name": "stderr",
          "text": [
            "\r 98%|█████████▊| 120/122 [03:25<00:03,  1.72s/it]"
          ]
        },
        {
          "output_type": "stream",
          "name": "stdout",
          "text": [
            "23.02.2022 00:30 BRASIL COPA DO BRASIL - 64 AVOS DE FINAL Cascavel Ponte Preta\n"
          ]
        },
        {
          "output_type": "stream",
          "name": "stderr",
          "text": [
            "\r 99%|█████████▉| 121/122 [03:27<00:01,  1.73s/it]"
          ]
        },
        {
          "output_type": "stream",
          "name": "stdout",
          "text": [
            "22.02.2022 22:00 BRASIL COPA DO BRASIL - 64 AVOS DE FINAL URT Avaí\n"
          ]
        },
        {
          "output_type": "stream",
          "name": "stderr",
          "text": [
            "100%|██████████| 122/122 [03:28<00:00,  1.71s/it]"
          ]
        },
        {
          "output_type": "stream",
          "name": "stdout",
          "text": [
            "22.02.2022 19:30 BRASIL COPA DO BRASIL - 64 AVOS DE FINAL Lagarto Figueirense\n"
          ]
        },
        {
          "output_type": "stream",
          "name": "stderr",
          "text": [
            "\n"
          ]
        }
      ]
    },
    {
      "cell_type": "code",
      "source": [
        "df = pd.DataFrame(jogo)\n",
        "df"
      ],
      "metadata": {
        "id": "PYe1nMX-gom3",
        "colab": {
          "base_uri": "https://localhost:8080/",
          "height": 424
        },
        "outputId": "4fb1aedb-7104-41df-b2b7-a0ef8d405a7b"
      },
      "execution_count": null,
      "outputs": [
        {
          "output_type": "execute_result",
          "data": {
            "text/plain": [
              "           Date   Time Country                             League  \\\n",
              "0    20.10.2022  00:45  BRASIL             COPA DO BRASIL - FINAL   \n",
              "1    13.10.2022  00:45  BRASIL             COPA DO BRASIL - FINAL   \n",
              "2    15.09.2022  23:00  BRASIL        COPA DO BRASIL - SEMIFINAIS   \n",
              "3    15.09.2022  00:45  BRASIL        COPA DO BRASIL - SEMIFINAIS   \n",
              "4    25.08.2022  00:30  BRASIL        COPA DO BRASIL - SEMIFINAIS   \n",
              "..          ...    ...     ...                                ...   \n",
              "117  23.02.2022  22:00  BRASIL  COPA DO BRASIL - 64 AVOS DE FINAL   \n",
              "118  23.02.2022  18:30  BRASIL  COPA DO BRASIL - 64 AVOS DE FINAL   \n",
              "119  23.02.2022  00:30  BRASIL  COPA DO BRASIL - 64 AVOS DE FINAL   \n",
              "120  22.02.2022  22:00  BRASIL  COPA DO BRASIL - 64 AVOS DE FINAL   \n",
              "121  22.02.2022  19:30  BRASIL  COPA DO BRASIL - 64 AVOS DE FINAL   \n",
              "\n",
              "            Home           Away  \n",
              "0       Flamengo    Corinthians  \n",
              "1    Corinthians       Flamengo  \n",
              "2    Corinthians     Fluminense  \n",
              "3       Flamengo      São Paulo  \n",
              "4      São Paulo       Flamengo  \n",
              "..           ...            ...  \n",
              "117    Salgueiro         Santos  \n",
              "118       Tuntum  Volta Redonda  \n",
              "119     Cascavel    Ponte Preta  \n",
              "120          URT           Avaí  \n",
              "121      Lagarto    Figueirense  \n",
              "\n",
              "[122 rows x 6 columns]"
            ],
            "text/html": [
              "\n",
              "  <div id=\"df-253f9b1a-f599-4acc-abe2-e7f8ed73fcdb\">\n",
              "    <div class=\"colab-df-container\">\n",
              "      <div>\n",
              "<style scoped>\n",
              "    .dataframe tbody tr th:only-of-type {\n",
              "        vertical-align: middle;\n",
              "    }\n",
              "\n",
              "    .dataframe tbody tr th {\n",
              "        vertical-align: top;\n",
              "    }\n",
              "\n",
              "    .dataframe thead th {\n",
              "        text-align: right;\n",
              "    }\n",
              "</style>\n",
              "<table border=\"1\" class=\"dataframe\">\n",
              "  <thead>\n",
              "    <tr style=\"text-align: right;\">\n",
              "      <th></th>\n",
              "      <th>Date</th>\n",
              "      <th>Time</th>\n",
              "      <th>Country</th>\n",
              "      <th>League</th>\n",
              "      <th>Home</th>\n",
              "      <th>Away</th>\n",
              "    </tr>\n",
              "  </thead>\n",
              "  <tbody>\n",
              "    <tr>\n",
              "      <th>0</th>\n",
              "      <td>20.10.2022</td>\n",
              "      <td>00:45</td>\n",
              "      <td>BRASIL</td>\n",
              "      <td>COPA DO BRASIL - FINAL</td>\n",
              "      <td>Flamengo</td>\n",
              "      <td>Corinthians</td>\n",
              "    </tr>\n",
              "    <tr>\n",
              "      <th>1</th>\n",
              "      <td>13.10.2022</td>\n",
              "      <td>00:45</td>\n",
              "      <td>BRASIL</td>\n",
              "      <td>COPA DO BRASIL - FINAL</td>\n",
              "      <td>Corinthians</td>\n",
              "      <td>Flamengo</td>\n",
              "    </tr>\n",
              "    <tr>\n",
              "      <th>2</th>\n",
              "      <td>15.09.2022</td>\n",
              "      <td>23:00</td>\n",
              "      <td>BRASIL</td>\n",
              "      <td>COPA DO BRASIL - SEMIFINAIS</td>\n",
              "      <td>Corinthians</td>\n",
              "      <td>Fluminense</td>\n",
              "    </tr>\n",
              "    <tr>\n",
              "      <th>3</th>\n",
              "      <td>15.09.2022</td>\n",
              "      <td>00:45</td>\n",
              "      <td>BRASIL</td>\n",
              "      <td>COPA DO BRASIL - SEMIFINAIS</td>\n",
              "      <td>Flamengo</td>\n",
              "      <td>São Paulo</td>\n",
              "    </tr>\n",
              "    <tr>\n",
              "      <th>4</th>\n",
              "      <td>25.08.2022</td>\n",
              "      <td>00:30</td>\n",
              "      <td>BRASIL</td>\n",
              "      <td>COPA DO BRASIL - SEMIFINAIS</td>\n",
              "      <td>São Paulo</td>\n",
              "      <td>Flamengo</td>\n",
              "    </tr>\n",
              "    <tr>\n",
              "      <th>...</th>\n",
              "      <td>...</td>\n",
              "      <td>...</td>\n",
              "      <td>...</td>\n",
              "      <td>...</td>\n",
              "      <td>...</td>\n",
              "      <td>...</td>\n",
              "    </tr>\n",
              "    <tr>\n",
              "      <th>117</th>\n",
              "      <td>23.02.2022</td>\n",
              "      <td>22:00</td>\n",
              "      <td>BRASIL</td>\n",
              "      <td>COPA DO BRASIL - 64 AVOS DE FINAL</td>\n",
              "      <td>Salgueiro</td>\n",
              "      <td>Santos</td>\n",
              "    </tr>\n",
              "    <tr>\n",
              "      <th>118</th>\n",
              "      <td>23.02.2022</td>\n",
              "      <td>18:30</td>\n",
              "      <td>BRASIL</td>\n",
              "      <td>COPA DO BRASIL - 64 AVOS DE FINAL</td>\n",
              "      <td>Tuntum</td>\n",
              "      <td>Volta Redonda</td>\n",
              "    </tr>\n",
              "    <tr>\n",
              "      <th>119</th>\n",
              "      <td>23.02.2022</td>\n",
              "      <td>00:30</td>\n",
              "      <td>BRASIL</td>\n",
              "      <td>COPA DO BRASIL - 64 AVOS DE FINAL</td>\n",
              "      <td>Cascavel</td>\n",
              "      <td>Ponte Preta</td>\n",
              "    </tr>\n",
              "    <tr>\n",
              "      <th>120</th>\n",
              "      <td>22.02.2022</td>\n",
              "      <td>22:00</td>\n",
              "      <td>BRASIL</td>\n",
              "      <td>COPA DO BRASIL - 64 AVOS DE FINAL</td>\n",
              "      <td>URT</td>\n",
              "      <td>Avaí</td>\n",
              "    </tr>\n",
              "    <tr>\n",
              "      <th>121</th>\n",
              "      <td>22.02.2022</td>\n",
              "      <td>19:30</td>\n",
              "      <td>BRASIL</td>\n",
              "      <td>COPA DO BRASIL - 64 AVOS DE FINAL</td>\n",
              "      <td>Lagarto</td>\n",
              "      <td>Figueirense</td>\n",
              "    </tr>\n",
              "  </tbody>\n",
              "</table>\n",
              "<p>122 rows × 6 columns</p>\n",
              "</div>\n",
              "      <button class=\"colab-df-convert\" onclick=\"convertToInteractive('df-253f9b1a-f599-4acc-abe2-e7f8ed73fcdb')\"\n",
              "              title=\"Convert this dataframe to an interactive table.\"\n",
              "              style=\"display:none;\">\n",
              "        \n",
              "  <svg xmlns=\"http://www.w3.org/2000/svg\" height=\"24px\"viewBox=\"0 0 24 24\"\n",
              "       width=\"24px\">\n",
              "    <path d=\"M0 0h24v24H0V0z\" fill=\"none\"/>\n",
              "    <path d=\"M18.56 5.44l.94 2.06.94-2.06 2.06-.94-2.06-.94-.94-2.06-.94 2.06-2.06.94zm-11 1L8.5 8.5l.94-2.06 2.06-.94-2.06-.94L8.5 2.5l-.94 2.06-2.06.94zm10 10l.94 2.06.94-2.06 2.06-.94-2.06-.94-.94-2.06-.94 2.06-2.06.94z\"/><path d=\"M17.41 7.96l-1.37-1.37c-.4-.4-.92-.59-1.43-.59-.52 0-1.04.2-1.43.59L10.3 9.45l-7.72 7.72c-.78.78-.78 2.05 0 2.83L4 21.41c.39.39.9.59 1.41.59.51 0 1.02-.2 1.41-.59l7.78-7.78 2.81-2.81c.8-.78.8-2.07 0-2.86zM5.41 20L4 18.59l7.72-7.72 1.47 1.35L5.41 20z\"/>\n",
              "  </svg>\n",
              "      </button>\n",
              "      \n",
              "  <style>\n",
              "    .colab-df-container {\n",
              "      display:flex;\n",
              "      flex-wrap:wrap;\n",
              "      gap: 12px;\n",
              "    }\n",
              "\n",
              "    .colab-df-convert {\n",
              "      background-color: #E8F0FE;\n",
              "      border: none;\n",
              "      border-radius: 50%;\n",
              "      cursor: pointer;\n",
              "      display: none;\n",
              "      fill: #1967D2;\n",
              "      height: 32px;\n",
              "      padding: 0 0 0 0;\n",
              "      width: 32px;\n",
              "    }\n",
              "\n",
              "    .colab-df-convert:hover {\n",
              "      background-color: #E2EBFA;\n",
              "      box-shadow: 0px 1px 2px rgba(60, 64, 67, 0.3), 0px 1px 3px 1px rgba(60, 64, 67, 0.15);\n",
              "      fill: #174EA6;\n",
              "    }\n",
              "\n",
              "    [theme=dark] .colab-df-convert {\n",
              "      background-color: #3B4455;\n",
              "      fill: #D2E3FC;\n",
              "    }\n",
              "\n",
              "    [theme=dark] .colab-df-convert:hover {\n",
              "      background-color: #434B5C;\n",
              "      box-shadow: 0px 1px 3px 1px rgba(0, 0, 0, 0.15);\n",
              "      filter: drop-shadow(0px 1px 2px rgba(0, 0, 0, 0.3));\n",
              "      fill: #FFFFFF;\n",
              "    }\n",
              "  </style>\n",
              "\n",
              "      <script>\n",
              "        const buttonEl =\n",
              "          document.querySelector('#df-253f9b1a-f599-4acc-abe2-e7f8ed73fcdb button.colab-df-convert');\n",
              "        buttonEl.style.display =\n",
              "          google.colab.kernel.accessAllowed ? 'block' : 'none';\n",
              "\n",
              "        async function convertToInteractive(key) {\n",
              "          const element = document.querySelector('#df-253f9b1a-f599-4acc-abe2-e7f8ed73fcdb');\n",
              "          const dataTable =\n",
              "            await google.colab.kernel.invokeFunction('convertToInteractive',\n",
              "                                                     [key], {});\n",
              "          if (!dataTable) return;\n",
              "\n",
              "          const docLinkHtml = 'Like what you see? Visit the ' +\n",
              "            '<a target=\"_blank\" href=https://colab.research.google.com/notebooks/data_table.ipynb>data table notebook</a>'\n",
              "            + ' to learn more about interactive tables.';\n",
              "          element.innerHTML = '';\n",
              "          dataTable['output_type'] = 'display_data';\n",
              "          await google.colab.output.renderOutput(dataTable, element);\n",
              "          const docLink = document.createElement('div');\n",
              "          docLink.innerHTML = docLinkHtml;\n",
              "          element.appendChild(docLink);\n",
              "        }\n",
              "      </script>\n",
              "    </div>\n",
              "  </div>\n",
              "  "
            ]
          },
          "metadata": {},
          "execution_count": 18
        }
      ]
    },
    {
      "cell_type": "code",
      "source": [
        "df.to_excel('copa_do_brasil_resultados_2022.xlsx')"
      ],
      "metadata": {
        "id": "KXZ8IUpEgqZE"
      },
      "execution_count": null,
      "outputs": []
    },
    {
      "cell_type": "markdown",
      "source": [
        "# Libertadores 2022 - Resultados (Jogos que já aconteceram)"
      ],
      "metadata": {
        "id": "CHD6Fvez_BY-"
      }
    },
    {
      "cell_type": "code",
      "source": [
        "# Com o WebDrive a gente consegue a pedir a página (URL)\n",
        "wd_Chrome.get(\"https://www.flashscore.com.br/futebol/america-do-sul/copa-libertadores/resultados/\")\n",
        "\n",
        "while True:\n",
        "  try:\n",
        "    botao_mais = wd_Chrome.find_element(By.XPATH, '//*[@id=\"live-table\"]/div[1]/div/div/a')\n",
        "    wd_Chrome.execute_script('arguments[0].click();', botao_mais)\n",
        "    time.sleep(5)\n",
        "  except:\n",
        "    break"
      ],
      "metadata": {
        "id": "3DYi5hgt_HZs"
      },
      "execution_count": null,
      "outputs": []
    },
    {
      "cell_type": "code",
      "source": [
        "# Pegando o ID dos Jogos\n",
        "id_jogos = []\n",
        "jogos = wd_Chrome.find_elements(By.CSS_SELECTOR,'div.event__match--static')\n",
        "\n",
        "for i in jogos:\n",
        "    id_jogos.append(i.get_attribute(\"id\"))\n",
        "\n",
        "# Exemplo de ID de um jogo: 'g_1_Gb7buXVt'    \n",
        "id_jogos = [i[4:] for i in id_jogos]\n",
        "\n",
        "jogo = {'Date':[],'Time':[],'Country':[],'League':[],'Home':[],'Away':[]}"
      ],
      "metadata": {
        "id": "dxTftZpy_Kys"
      },
      "execution_count": null,
      "outputs": []
    },
    {
      "cell_type": "code",
      "source": [
        "for link in tqdm(id_jogos, total=len(id_jogos)):\n",
        "    wd_Chrome.get(f'https://www.flashscore.com.br/jogo/{link}/#/resumo-de-jogo')\n",
        "    \n",
        "    # Pegando as Informacoes Básicas do Jogo\n",
        "    try:\n",
        "        Date = wd_Chrome.find_element(By.CSS_SELECTOR,'div.duelParticipant__startTime').text.split(' ')[0]\n",
        "        Time = wd_Chrome.find_element(By.CSS_SELECTOR,'div.duelParticipant__startTime').text.split(' ')[1]\n",
        "        Country = wd_Chrome.find_element(By.CSS_SELECTOR,'span.tournamentHeader__country').text.split(':')[0]\n",
        "        League = wd_Chrome.find_element(By.CSS_SELECTOR,'span.tournamentHeader__country')\n",
        "        League = League.find_element(By.CSS_SELECTOR,'a').text\n",
        "        Home = wd_Chrome.find_element(By.CSS_SELECTOR,'div.duelParticipant__home')\n",
        "        Home = Home.find_element(By.CSS_SELECTOR,'div.participant__participantName').text\n",
        "        Away = wd_Chrome.find_element(By.CSS_SELECTOR,'div.duelParticipant__away')\n",
        "        Away = Away.find_element(By.CSS_SELECTOR,'div.participant__participantName').text          \n",
        "\n",
        "    except:\n",
        "        pass\n",
        "\n",
        "    print(Date,Time,Country,League,Home,Away) \n",
        "\n",
        "    jogo['Date'].append(Date)\n",
        "    jogo['Time'].append(Time)\n",
        "    jogo['Country'].append(Country)\n",
        "    jogo['League'].append(League)\n",
        "    jogo['Home'].append(Home)\n",
        "    jogo['Away'].append(Away)"
      ],
      "metadata": {
        "colab": {
          "base_uri": "https://localhost:8080/"
        },
        "id": "ExHrYGEa_Mo0",
        "outputId": "aab14ba5-6488-4d47-c896-2b92b66e35af"
      },
      "execution_count": null,
      "outputs": [
        {
          "output_type": "stream",
          "name": "stderr",
          "text": [
            "  1%|          | 1/155 [00:01<04:10,  1.63s/it]"
          ]
        },
        {
          "output_type": "stream",
          "name": "stdout",
          "text": [
            "29.10.2022 20:00 AMÉRICA DO SUL COPA LIBERTADORES - PLAYOFFS - FINAL Flamengo (Bra) Athletico-PR (Bra)\n"
          ]
        },
        {
          "output_type": "stream",
          "name": "stderr",
          "text": [
            "\r  1%|▏         | 2/155 [00:02<03:37,  1.42s/it]"
          ]
        },
        {
          "output_type": "stream",
          "name": "stdout",
          "text": [
            "08.09.2022 00:30 AMÉRICA DO SUL COPA LIBERTADORES - PLAYOFFS - SEMIFINAIS Flamengo (Bra) Vélez Sarsfield (Arg)\n"
          ]
        },
        {
          "output_type": "stream",
          "name": "stderr",
          "text": [
            "\r  2%|▏         | 3/155 [00:04<03:35,  1.42s/it]"
          ]
        },
        {
          "output_type": "stream",
          "name": "stdout",
          "text": [
            "07.09.2022 00:30 AMÉRICA DO SUL COPA LIBERTADORES - PLAYOFFS - SEMIFINAIS Palmeiras (Bra) Athletico-PR (Bra)\n"
          ]
        },
        {
          "output_type": "stream",
          "name": "stderr",
          "text": [
            "\r  3%|▎         | 4/155 [00:06<03:59,  1.59s/it]"
          ]
        },
        {
          "output_type": "stream",
          "name": "stdout",
          "text": [
            "01.09.2022 00:30 AMÉRICA DO SUL COPA LIBERTADORES - PLAYOFFS - SEMIFINAIS Vélez Sarsfield (Arg) Flamengo (Bra)\n"
          ]
        },
        {
          "output_type": "stream",
          "name": "stderr",
          "text": [
            "\r  3%|▎         | 5/155 [00:07<03:42,  1.48s/it]"
          ]
        },
        {
          "output_type": "stream",
          "name": "stdout",
          "text": [
            "31.08.2022 00:30 AMÉRICA DO SUL COPA LIBERTADORES - PLAYOFFS - SEMIFINAIS Athletico-PR (Bra) Palmeiras (Bra)\n"
          ]
        },
        {
          "output_type": "stream",
          "name": "stderr",
          "text": [
            "\r  4%|▍         | 6/155 [00:09<04:05,  1.65s/it]"
          ]
        },
        {
          "output_type": "stream",
          "name": "stdout",
          "text": [
            "12.08.2022 00:30 AMÉRICA DO SUL COPA LIBERTADORES - PLAYOFFS - QUARTAS DE FINAL Estudiantes (Arg) Athletico-PR (Bra)\n"
          ]
        },
        {
          "output_type": "stream",
          "name": "stderr",
          "text": [
            "\r  5%|▍         | 7/155 [00:10<03:46,  1.53s/it]"
          ]
        },
        {
          "output_type": "stream",
          "name": "stdout",
          "text": [
            "11.08.2022 00:30 AMÉRICA DO SUL COPA LIBERTADORES - PLAYOFFS - QUARTAS DE FINAL Palmeiras (Bra) Atlético-MG (Bra)\n"
          ]
        },
        {
          "output_type": "stream",
          "name": "stderr",
          "text": [
            "\r  5%|▌         | 8/155 [00:12<04:04,  1.66s/it]"
          ]
        },
        {
          "output_type": "stream",
          "name": "stdout",
          "text": [
            "11.08.2022 00:30 AMÉRICA DO SUL COPA LIBERTADORES - PLAYOFFS - QUARTAS DE FINAL Talleres Córdoba (Arg) Vélez Sarsfield (Arg)\n"
          ]
        },
        {
          "output_type": "stream",
          "name": "stderr",
          "text": [
            "\r  6%|▌         | 9/155 [00:14<04:19,  1.77s/it]"
          ]
        },
        {
          "output_type": "stream",
          "name": "stdout",
          "text": [
            "10.08.2022 00:30 AMÉRICA DO SUL COPA LIBERTADORES - PLAYOFFS - QUARTAS DE FINAL Flamengo (Bra) Corinthians (Bra)\n"
          ]
        },
        {
          "output_type": "stream",
          "name": "stderr",
          "text": [
            "\r  6%|▋         | 10/155 [00:16<04:24,  1.83s/it]"
          ]
        },
        {
          "output_type": "stream",
          "name": "stdout",
          "text": [
            "05.08.2022 00:30 AMÉRICA DO SUL COPA LIBERTADORES - PLAYOFFS - QUARTAS DE FINAL Athletico-PR (Bra) Estudiantes (Arg)\n"
          ]
        },
        {
          "output_type": "stream",
          "name": "stderr",
          "text": [
            "\r  7%|▋         | 11/155 [00:17<04:01,  1.68s/it]"
          ]
        },
        {
          "output_type": "stream",
          "name": "stdout",
          "text": [
            "04.08.2022 00:30 AMÉRICA DO SUL COPA LIBERTADORES - PLAYOFFS - QUARTAS DE FINAL Atlético-MG (Bra) Palmeiras (Bra)\n"
          ]
        },
        {
          "output_type": "stream",
          "name": "stderr",
          "text": [
            "\r  8%|▊         | 12/155 [00:19<03:38,  1.53s/it]"
          ]
        },
        {
          "output_type": "stream",
          "name": "stdout",
          "text": [
            "04.08.2022 00:30 AMÉRICA DO SUL COPA LIBERTADORES - PLAYOFFS - QUARTAS DE FINAL Vélez Sarsfield (Arg) Talleres Córdoba (Arg)\n"
          ]
        },
        {
          "output_type": "stream",
          "name": "stderr",
          "text": [
            "\r  8%|▊         | 13/155 [00:20<03:38,  1.54s/it]"
          ]
        },
        {
          "output_type": "stream",
          "name": "stdout",
          "text": [
            "03.08.2022 00:30 AMÉRICA DO SUL COPA LIBERTADORES - PLAYOFFS - QUARTAS DE FINAL Corinthians (Bra) Flamengo (Bra)\n"
          ]
        },
        {
          "output_type": "stream",
          "name": "stderr",
          "text": [
            "\r  9%|▉         | 14/155 [00:22<03:49,  1.63s/it]"
          ]
        },
        {
          "output_type": "stream",
          "name": "stdout",
          "text": [
            "08.07.2022 00:30 AMÉRICA DO SUL COPA LIBERTADORES - PLAYOFFS - OITAVAS DE FINAL Estudiantes (Arg) Fortaleza (Bra)\n"
          ]
        },
        {
          "output_type": "stream",
          "name": "stderr",
          "text": [
            "\r 10%|▉         | 15/155 [00:24<03:52,  1.66s/it]"
          ]
        },
        {
          "output_type": "stream",
          "name": "stdout",
          "text": [
            "07.07.2022 00:30 AMÉRICA DO SUL COPA LIBERTADORES - PLAYOFFS - OITAVAS DE FINAL Flamengo (Bra) Tolima (Col)\n"
          ]
        },
        {
          "output_type": "stream",
          "name": "stderr",
          "text": [
            "\r 10%|█         | 16/155 [00:25<03:37,  1.57s/it]"
          ]
        },
        {
          "output_type": "stream",
          "name": "stdout",
          "text": [
            "07.07.2022 00:30 AMÉRICA DO SUL COPA LIBERTADORES - PLAYOFFS - OITAVAS DE FINAL River Plate (Arg) Vélez Sarsfield (Arg)\n"
          ]
        },
        {
          "output_type": "stream",
          "name": "stderr",
          "text": [
            "\r 11%|█         | 17/155 [00:27<03:53,  1.69s/it]"
          ]
        },
        {
          "output_type": "stream",
          "name": "stdout",
          "text": [
            "06.07.2022 22:15 AMÉRICA DO SUL COPA LIBERTADORES - PLAYOFFS - OITAVAS DE FINAL Colón (Arg) Talleres Córdoba (Arg)\n"
          ]
        },
        {
          "output_type": "stream",
          "name": "stderr",
          "text": [
            "\r 12%|█▏        | 18/155 [00:29<04:00,  1.76s/it]"
          ]
        },
        {
          "output_type": "stream",
          "name": "stdout",
          "text": [
            "06.07.2022 22:15 AMÉRICA DO SUL COPA LIBERTADORES - PLAYOFFS - OITAVAS DE FINAL Palmeiras (Bra) Cerro Porteno (Par)\n"
          ]
        },
        {
          "output_type": "stream",
          "name": "stderr",
          "text": [
            "\r 12%|█▏        | 19/155 [00:31<03:52,  1.71s/it]"
          ]
        },
        {
          "output_type": "stream",
          "name": "stdout",
          "text": [
            "06.07.2022 00:30 AMÉRICA DO SUL COPA LIBERTADORES - PLAYOFFS - OITAVAS DE FINAL Boca Juniors (Arg) Corinthians (Bra)\n"
          ]
        },
        {
          "output_type": "stream",
          "name": "stderr",
          "text": [
            "\r 13%|█▎        | 20/155 [00:32<03:34,  1.59s/it]"
          ]
        },
        {
          "output_type": "stream",
          "name": "stdout",
          "text": [
            "06.07.2022 00:30 AMÉRICA DO SUL COPA LIBERTADORES - PLAYOFFS - OITAVAS DE FINAL Libertad (Par) Athletico-PR (Bra)\n"
          ]
        },
        {
          "output_type": "stream",
          "name": "stderr",
          "text": [
            "\r 14%|█▎        | 21/155 [00:34<03:44,  1.67s/it]"
          ]
        },
        {
          "output_type": "stream",
          "name": "stdout",
          "text": [
            "05.07.2022 22:15 AMÉRICA DO SUL COPA LIBERTADORES - PLAYOFFS - OITAVAS DE FINAL Atlético-MG (Bra) Emelec (Ecu)\n"
          ]
        },
        {
          "output_type": "stream",
          "name": "stderr",
          "text": [
            "\r 14%|█▍        | 22/155 [00:35<03:29,  1.58s/it]"
          ]
        },
        {
          "output_type": "stream",
          "name": "stdout",
          "text": [
            "01.07.2022 00:30 AMÉRICA DO SUL COPA LIBERTADORES - PLAYOFFS - OITAVAS DE FINAL Fortaleza (Bra) Estudiantes (Arg)\n"
          ]
        },
        {
          "output_type": "stream",
          "name": "stderr",
          "text": [
            "\r 15%|█▍        | 23/155 [00:37<03:51,  1.76s/it]"
          ]
        },
        {
          "output_type": "stream",
          "name": "stdout",
          "text": [
            "30.06.2022 00:30 AMÉRICA DO SUL COPA LIBERTADORES - PLAYOFFS - OITAVAS DE FINAL Tolima (Col) Flamengo (Bra)\n"
          ]
        },
        {
          "output_type": "stream",
          "name": "stderr",
          "text": [
            "\r 15%|█▌        | 24/155 [00:39<03:51,  1.77s/it]"
          ]
        },
        {
          "output_type": "stream",
          "name": "stdout",
          "text": [
            "30.06.2022 00:30 AMÉRICA DO SUL COPA LIBERTADORES - PLAYOFFS - OITAVAS DE FINAL Vélez Sarsfield (Arg) River Plate (Arg)\n"
          ]
        },
        {
          "output_type": "stream",
          "name": "stderr",
          "text": [
            "\r 16%|█▌        | 25/155 [00:42<04:15,  1.96s/it]"
          ]
        },
        {
          "output_type": "stream",
          "name": "stdout",
          "text": [
            "29.06.2022 22:15 AMÉRICA DO SUL COPA LIBERTADORES - PLAYOFFS - OITAVAS DE FINAL Cerro Porteno (Par) Palmeiras (Bra)\n"
          ]
        },
        {
          "output_type": "stream",
          "name": "stderr",
          "text": [
            "\r 17%|█▋        | 26/155 [00:44<04:12,  1.96s/it]"
          ]
        },
        {
          "output_type": "stream",
          "name": "stdout",
          "text": [
            "29.06.2022 22:15 AMÉRICA DO SUL COPA LIBERTADORES - PLAYOFFS - OITAVAS DE FINAL Talleres Córdoba (Arg) Colón (Arg)\n"
          ]
        },
        {
          "output_type": "stream",
          "name": "stderr",
          "text": [
            "\r 17%|█▋        | 27/155 [00:45<04:09,  1.95s/it]"
          ]
        },
        {
          "output_type": "stream",
          "name": "stdout",
          "text": [
            "29.06.2022 00:30 AMÉRICA DO SUL COPA LIBERTADORES - PLAYOFFS - OITAVAS DE FINAL Athletico-PR (Bra) Libertad (Par)\n"
          ]
        },
        {
          "output_type": "stream",
          "name": "stderr",
          "text": [
            "\r 18%|█▊        | 28/155 [00:47<04:08,  1.96s/it]"
          ]
        },
        {
          "output_type": "stream",
          "name": "stdout",
          "text": [
            "29.06.2022 00:30 AMÉRICA DO SUL COPA LIBERTADORES - PLAYOFFS - OITAVAS DE FINAL Corinthians (Bra) Boca Juniors (Arg)\n"
          ]
        },
        {
          "output_type": "stream",
          "name": "stderr",
          "text": [
            "\r 19%|█▊        | 29/155 [00:49<03:53,  1.85s/it]"
          ]
        },
        {
          "output_type": "stream",
          "name": "stdout",
          "text": [
            "28.06.2022 22:15 AMÉRICA DO SUL COPA LIBERTADORES - PLAYOFFS - OITAVAS DE FINAL Emelec (Ecu) Atlético-MG (Bra)\n"
          ]
        },
        {
          "output_type": "stream",
          "name": "stderr",
          "text": [
            "\r 19%|█▉        | 30/155 [00:51<03:46,  1.81s/it]"
          ]
        },
        {
          "output_type": "stream",
          "name": "stdout",
          "text": [
            "27.05.2022 00:00 AMÉRICA DO SUL COPA LIBERTADORES - FASE DE GRUPOS - RODADA 6 Boca Juniors (Arg) Dep. Cali (Col)\n"
          ]
        },
        {
          "output_type": "stream",
          "name": "stderr",
          "text": [
            "\r 20%|██        | 31/155 [00:52<03:25,  1.66s/it]"
          ]
        },
        {
          "output_type": "stream",
          "name": "stdout",
          "text": [
            "27.05.2022 00:00 AMÉRICA DO SUL COPA LIBERTADORES - FASE DE GRUPOS - RODADA 6 Corinthians (Bra) Always Ready (Bol)\n"
          ]
        },
        {
          "output_type": "stream",
          "name": "stderr",
          "text": [
            "\r 21%|██        | 32/155 [00:54<03:28,  1.70s/it]"
          ]
        },
        {
          "output_type": "stream",
          "name": "stdout",
          "text": [
            "26.05.2022 22:00 AMÉRICA DO SUL COPA LIBERTADORES - FASE DE GRUPOS - RODADA 6 Athletico-PR (Bra) Caracas (Ven)\n"
          ]
        },
        {
          "output_type": "stream",
          "name": "stderr",
          "text": [
            "\r 21%|██▏       | 33/155 [00:56<03:42,  1.82s/it]"
          ]
        },
        {
          "output_type": "stream",
          "name": "stdout",
          "text": [
            "26.05.2022 22:00 AMÉRICA DO SUL COPA LIBERTADORES - FASE DE GRUPOS - RODADA 6 Libertad (Par) The Strongest (Bol)\n"
          ]
        },
        {
          "output_type": "stream",
          "name": "stderr",
          "text": [
            "\r 22%|██▏       | 34/155 [00:58<03:39,  1.82s/it]"
          ]
        },
        {
          "output_type": "stream",
          "name": "stdout",
          "text": [
            "26.05.2022 00:00 AMÉRICA DO SUL COPA LIBERTADORES - FASE DE GRUPOS - RODADA 6 Atlético-MG (Bra) Tolima (Col)\n"
          ]
        },
        {
          "output_type": "stream",
          "name": "stderr",
          "text": [
            "\r 23%|██▎       | 35/155 [00:59<03:35,  1.80s/it]"
          ]
        },
        {
          "output_type": "stream",
          "name": "stdout",
          "text": [
            "26.05.2022 00:00 AMÉRICA DO SUL COPA LIBERTADORES - FASE DE GRUPOS - RODADA 6 Cerro Porteno (Par) Olimpia Asuncion (Par)\n"
          ]
        },
        {
          "output_type": "stream",
          "name": "stderr",
          "text": [
            "\r 23%|██▎       | 36/155 [01:01<03:39,  1.84s/it]"
          ]
        },
        {
          "output_type": "stream",
          "name": "stdout",
          "text": [
            "26.05.2022 00:00 AMÉRICA DO SUL COPA LIBERTADORES - FASE DE GRUPOS - RODADA 6 Ind. del Valle (Ecu) América-MG (Bra)\n"
          ]
        },
        {
          "output_type": "stream",
          "name": "stderr",
          "text": [
            "\r 24%|██▍       | 37/155 [01:03<03:45,  1.91s/it]"
          ]
        },
        {
          "output_type": "stream",
          "name": "stdout",
          "text": [
            "26.05.2022 00:00 AMÉRICA DO SUL COPA LIBERTADORES - FASE DE GRUPOS - RODADA 6 Penarol (Uru) Colón (Arg)\n"
          ]
        },
        {
          "output_type": "stream",
          "name": "stderr",
          "text": [
            "\r 25%|██▍       | 38/155 [01:05<03:45,  1.93s/it]"
          ]
        },
        {
          "output_type": "stream",
          "name": "stdout",
          "text": [
            "25.05.2022 22:00 AMÉRICA DO SUL COPA LIBERTADORES - FASE DE GRUPOS - RODADA 6 Colo Colo (Chi) Fortaleza (Bra)\n"
          ]
        },
        {
          "output_type": "stream",
          "name": "stderr",
          "text": [
            "\r 25%|██▌       | 39/155 [01:07<03:17,  1.70s/it]"
          ]
        },
        {
          "output_type": "stream",
          "name": "stdout",
          "text": [
            "25.05.2022 22:00 AMÉRICA DO SUL COPA LIBERTADORES - FASE DE GRUPOS - RODADA 6 River Plate (Arg) A. Lima (Per)\n"
          ]
        },
        {
          "output_type": "stream",
          "name": "stderr",
          "text": [
            "\r 26%|██▌       | 40/155 [01:08<03:19,  1.73s/it]"
          ]
        },
        {
          "output_type": "stream",
          "name": "stdout",
          "text": [
            "25.05.2022 00:30 AMÉRICA DO SUL COPA LIBERTADORES - FASE DE GRUPOS - RODADA 6 Emelec (Ecu) Independiente Petrolero (Bol)\n"
          ]
        },
        {
          "output_type": "stream",
          "name": "stderr",
          "text": [
            "\r 26%|██▋       | 41/155 [01:10<03:07,  1.65s/it]"
          ]
        },
        {
          "output_type": "stream",
          "name": "stdout",
          "text": [
            "25.05.2022 00:30 AMÉRICA DO SUL COPA LIBERTADORES - FASE DE GRUPOS - RODADA 6 Flamengo (Bra) Sporting Cristal (Per)\n"
          ]
        },
        {
          "output_type": "stream",
          "name": "stderr",
          "text": [
            "\r 27%|██▋       | 42/155 [01:12<03:22,  1.79s/it]"
          ]
        },
        {
          "output_type": "stream",
          "name": "stdout",
          "text": [
            "25.05.2022 00:30 AMÉRICA DO SUL COPA LIBERTADORES - FASE DE GRUPOS - RODADA 6 Palmeiras (Bra) Dep. Tachira (Ven)\n"
          ]
        },
        {
          "output_type": "stream",
          "name": "stderr",
          "text": [
            "\r 28%|██▊       | 43/155 [01:14<03:25,  1.84s/it]"
          ]
        },
        {
          "output_type": "stream",
          "name": "stdout",
          "text": [
            "25.05.2022 00:30 AMÉRICA DO SUL COPA LIBERTADORES - FASE DE GRUPOS - RODADA 6 U. Católica (Chi) Talleres Córdoba (Arg)\n"
          ]
        },
        {
          "output_type": "stream",
          "name": "stderr",
          "text": [
            "\r 28%|██▊       | 44/155 [01:16<03:19,  1.79s/it]"
          ]
        },
        {
          "output_type": "stream",
          "name": "stdout",
          "text": [
            "24.05.2022 22:15 AMÉRICA DO SUL COPA LIBERTADORES - FASE DE GRUPOS - RODADA 6 Nacional (Uru) Red Bull Bragantino (Bra)\n"
          ]
        },
        {
          "output_type": "stream",
          "name": "stderr",
          "text": [
            "\r 29%|██▉       | 45/155 [01:18<03:25,  1.86s/it]"
          ]
        },
        {
          "output_type": "stream",
          "name": "stdout",
          "text": [
            "24.05.2022 22:15 AMÉRICA DO SUL COPA LIBERTADORES - FASE DE GRUPOS - RODADA 6 Vélez Sarsfield (Arg) Estudiantes (Arg)\n"
          ]
        },
        {
          "output_type": "stream",
          "name": "stderr",
          "text": [
            "\r 30%|██▉       | 46/155 [01:20<03:22,  1.86s/it]"
          ]
        },
        {
          "output_type": "stream",
          "name": "stdout",
          "text": [
            "20.05.2022 02:00 AMÉRICA DO SUL COPA LIBERTADORES - FASE DE GRUPOS - RODADA 5 Dep. Cali (Col) Always Ready (Bol)\n"
          ]
        },
        {
          "output_type": "stream",
          "name": "stderr",
          "text": [
            "\r 30%|███       | 47/155 [01:22<03:29,  1.94s/it]"
          ]
        },
        {
          "output_type": "stream",
          "name": "stdout",
          "text": [
            "20.05.2022 00:00 AMÉRICA DO SUL COPA LIBERTADORES - FASE DE GRUPOS - RODADA 5 River Plate (Arg) Colo Colo (Chi)\n"
          ]
        },
        {
          "output_type": "stream",
          "name": "stderr",
          "text": [
            "\r 31%|███       | 48/155 [01:24<03:31,  1.98s/it]"
          ]
        },
        {
          "output_type": "stream",
          "name": "stdout",
          "text": [
            "19.05.2022 22:00 AMÉRICA DO SUL COPA LIBERTADORES - FASE DE GRUPOS - RODADA 5 Atlético-MG (Bra) Ind. del Valle (Ecu)\n"
          ]
        },
        {
          "output_type": "stream",
          "name": "stderr",
          "text": [
            "\r 32%|███▏      | 49/155 [01:26<03:31,  2.00s/it]"
          ]
        },
        {
          "output_type": "stream",
          "name": "stdout",
          "text": [
            "19.05.2022 02:00 AMÉRICA DO SUL COPA LIBERTADORES - FASE DE GRUPOS - RODADA 5 A. Lima (Per) Fortaleza (Bra)\n"
          ]
        },
        {
          "output_type": "stream",
          "name": "stderr",
          "text": [
            "\r 32%|███▏      | 50/155 [01:28<03:24,  1.95s/it]"
          ]
        },
        {
          "output_type": "stream",
          "name": "stdout",
          "text": [
            "19.05.2022 00:00 AMÉRICA DO SUL COPA LIBERTADORES - FASE DE GRUPOS - RODADA 5 Colón (Arg) Olimpia Asuncion (Par)\n"
          ]
        },
        {
          "output_type": "stream",
          "name": "stderr",
          "text": [
            "\r 33%|███▎      | 51/155 [01:30<03:21,  1.94s/it]"
          ]
        },
        {
          "output_type": "stream",
          "name": "stdout",
          "text": [
            "19.05.2022 00:00 AMÉRICA DO SUL COPA LIBERTADORES - FASE DE GRUPOS - RODADA 5 Dep. Tachira (Ven) Independiente Petrolero (Bol)\n"
          ]
        },
        {
          "output_type": "stream",
          "name": "stderr",
          "text": [
            "\r 34%|███▎      | 52/155 [01:32<03:26,  2.01s/it]"
          ]
        },
        {
          "output_type": "stream",
          "name": "stdout",
          "text": [
            "19.05.2022 00:00 AMÉRICA DO SUL COPA LIBERTADORES - FASE DE GRUPOS - RODADA 5 Tolima (Col) América-MG (Bra)\n"
          ]
        },
        {
          "output_type": "stream",
          "name": "stderr",
          "text": [
            "\r 34%|███▍      | 53/155 [01:33<03:18,  1.94s/it]"
          ]
        },
        {
          "output_type": "stream",
          "name": "stdout",
          "text": [
            "18.05.2022 22:00 AMÉRICA DO SUL COPA LIBERTADORES - FASE DE GRUPOS - RODADA 5 Athletico-PR (Bra) Libertad (Par)\n"
          ]
        },
        {
          "output_type": "stream",
          "name": "stderr",
          "text": [
            "\r 35%|███▍      | 54/155 [01:35<03:11,  1.89s/it]"
          ]
        },
        {
          "output_type": "stream",
          "name": "stdout",
          "text": [
            "18.05.2022 22:00 AMÉRICA DO SUL COPA LIBERTADORES - FASE DE GRUPOS - RODADA 5 Nacional (Uru) Vélez Sarsfield (Arg)\n"
          ]
        },
        {
          "output_type": "stream",
          "name": "stderr",
          "text": [
            "\r 35%|███▌      | 55/155 [01:37<03:14,  1.95s/it]"
          ]
        },
        {
          "output_type": "stream",
          "name": "stdout",
          "text": [
            "18.05.2022 22:00 AMÉRICA DO SUL COPA LIBERTADORES - FASE DE GRUPOS - RODADA 5 Palmeiras (Bra) Emelec (Ecu)\n"
          ]
        },
        {
          "output_type": "stream",
          "name": "stderr",
          "text": [
            "\r 36%|███▌      | 56/155 [01:39<03:13,  1.96s/it]"
          ]
        },
        {
          "output_type": "stream",
          "name": "stdout",
          "text": [
            "18.05.2022 00:30 AMÉRICA DO SUL COPA LIBERTADORES - FASE DE GRUPOS - RODADA 5 Boca Juniors (Arg) Corinthians (Bra)\n"
          ]
        },
        {
          "output_type": "stream",
          "name": "stderr",
          "text": [
            "\r 37%|███▋      | 57/155 [01:41<03:06,  1.90s/it]"
          ]
        },
        {
          "output_type": "stream",
          "name": "stdout",
          "text": [
            "18.05.2022 00:30 AMÉRICA DO SUL COPA LIBERTADORES - FASE DE GRUPOS - RODADA 5 Flamengo (Bra) U. Católica (Chi)\n"
          ]
        },
        {
          "output_type": "stream",
          "name": "stderr",
          "text": [
            "\r 37%|███▋      | 58/155 [01:43<03:08,  1.95s/it]"
          ]
        },
        {
          "output_type": "stream",
          "name": "stdout",
          "text": [
            "18.05.2022 00:30 AMÉRICA DO SUL COPA LIBERTADORES - FASE DE GRUPOS - RODADA 5 Sporting Cristal (Per) Talleres Córdoba (Arg)\n"
          ]
        },
        {
          "output_type": "stream",
          "name": "stderr",
          "text": [
            "\r 38%|███▊      | 59/155 [01:45<03:04,  1.92s/it]"
          ]
        },
        {
          "output_type": "stream",
          "name": "stdout",
          "text": [
            "17.05.2022 22:15 AMÉRICA DO SUL COPA LIBERTADORES - FASE DE GRUPOS - RODADA 5 Caracas (Ven) The Strongest (Bol)\n"
          ]
        },
        {
          "output_type": "stream",
          "name": "stderr",
          "text": [
            "\r 39%|███▊      | 60/155 [01:47<02:55,  1.84s/it]"
          ]
        },
        {
          "output_type": "stream",
          "name": "stdout",
          "text": [
            "17.05.2022 22:15 AMÉRICA DO SUL COPA LIBERTADORES - FASE DE GRUPOS - RODADA 5 Penarol (Uru) Cerro Porteno (Par)\n"
          ]
        },
        {
          "output_type": "stream",
          "name": "stderr",
          "text": [
            "\r 39%|███▉      | 61/155 [01:48<02:38,  1.69s/it]"
          ]
        },
        {
          "output_type": "stream",
          "name": "stdout",
          "text": [
            "17.05.2022 22:15 AMÉRICA DO SUL COPA LIBERTADORES - FASE DE GRUPOS - RODADA 5 Red Bull Bragantino (Bra) Estudiantes (Arg)\n"
          ]
        },
        {
          "output_type": "stream",
          "name": "stderr",
          "text": [
            "\r 40%|████      | 62/155 [01:50<02:40,  1.72s/it]"
          ]
        },
        {
          "output_type": "stream",
          "name": "stdout",
          "text": [
            "06.05.2022 02:00 AMÉRICA DO SUL COPA LIBERTADORES - FASE DE GRUPOS - RODADA 4 A. Lima (Per) Colo Colo (Chi)\n"
          ]
        },
        {
          "output_type": "stream",
          "name": "stderr",
          "text": [
            "\r 41%|████      | 63/155 [01:52<03:05,  2.01s/it]"
          ]
        },
        {
          "output_type": "stream",
          "name": "stdout",
          "text": [
            "06.05.2022 00:00 AMÉRICA DO SUL COPA LIBERTADORES - FASE DE GRUPOS - RODADA 4 Red Bull Bragantino (Bra) Vélez Sarsfield (Arg)\n"
          ]
        },
        {
          "output_type": "stream",
          "name": "stderr",
          "text": [
            "\r 41%|████▏     | 64/155 [01:55<03:22,  2.22s/it]"
          ]
        },
        {
          "output_type": "stream",
          "name": "stdout",
          "text": [
            "05.05.2022 22:00 AMÉRICA DO SUL COPA LIBERTADORES - FASE DE GRUPOS - RODADA 4 Fortaleza (Bra) River Plate (Arg)\n"
          ]
        },
        {
          "output_type": "stream",
          "name": "stderr",
          "text": [
            "\r 42%|████▏     | 65/155 [01:58<03:44,  2.50s/it]"
          ]
        },
        {
          "output_type": "stream",
          "name": "stdout",
          "text": [
            "05.05.2022 02:00 AMÉRICA DO SUL COPA LIBERTADORES - FASE DE GRUPOS - RODADA 4 Sporting Cristal (Per) U. Católica (Chi)\n"
          ]
        },
        {
          "output_type": "stream",
          "name": "stderr",
          "text": [
            "\r 43%|████▎     | 66/155 [02:01<03:44,  2.52s/it]"
          ]
        },
        {
          "output_type": "stream",
          "name": "stdout",
          "text": [
            "05.05.2022 02:00 AMÉRICA DO SUL COPA LIBERTADORES - FASE DE GRUPOS - RODADA 4 Tolima (Col) Ind. del Valle (Ecu)\n"
          ]
        },
        {
          "output_type": "stream",
          "name": "stderr",
          "text": [
            "\r 43%|████▎     | 67/155 [02:04<03:47,  2.59s/it]"
          ]
        },
        {
          "output_type": "stream",
          "name": "stdout",
          "text": [
            "05.05.2022 00:00 AMÉRICA DO SUL COPA LIBERTADORES - FASE DE GRUPOS - RODADA 4 Always Ready (Bol) Boca Juniors (Arg)\n"
          ]
        },
        {
          "output_type": "stream",
          "name": "stderr",
          "text": [
            "\r 44%|████▍     | 68/155 [02:07<03:59,  2.75s/it]"
          ]
        },
        {
          "output_type": "stream",
          "name": "stdout",
          "text": [
            "05.05.2022 00:00 AMÉRICA DO SUL COPA LIBERTADORES - FASE DE GRUPOS - RODADA 4 Dep. Cali (Col) Corinthians (Bra)\n"
          ]
        },
        {
          "output_type": "stream",
          "name": "stderr",
          "text": [
            "\r 45%|████▍     | 69/155 [02:10<03:59,  2.79s/it]"
          ]
        },
        {
          "output_type": "stream",
          "name": "stdout",
          "text": [
            "05.05.2022 00:00 AMÉRICA DO SUL COPA LIBERTADORES - FASE DE GRUPOS - RODADA 4 Olimpia Asuncion (Par) Penarol (Uru)\n"
          ]
        },
        {
          "output_type": "stream",
          "name": "stderr",
          "text": [
            "\r 45%|████▌     | 70/155 [02:12<03:54,  2.76s/it]"
          ]
        },
        {
          "output_type": "stream",
          "name": "stdout",
          "text": [
            "04.05.2022 22:00 AMÉRICA DO SUL COPA LIBERTADORES - FASE DE GRUPOS - RODADA 4 Colón (Arg) Cerro Porteno (Par)\n"
          ]
        },
        {
          "output_type": "stream",
          "name": "stderr",
          "text": [
            "\r 46%|████▌     | 71/155 [02:15<03:59,  2.85s/it]"
          ]
        },
        {
          "output_type": "stream",
          "name": "stdout",
          "text": [
            "04.05.2022 22:00 AMÉRICA DO SUL COPA LIBERTADORES - FASE DE GRUPOS - RODADA 4 Talleres Córdoba (Arg) Flamengo (Bra)\n"
          ]
        },
        {
          "output_type": "stream",
          "name": "stderr",
          "text": [
            "\r 46%|████▋     | 72/155 [02:18<03:54,  2.82s/it]"
          ]
        },
        {
          "output_type": "stream",
          "name": "stdout",
          "text": [
            "04.05.2022 00:30 AMÉRICA DO SUL COPA LIBERTADORES - FASE DE GRUPOS - RODADA 4 América-MG (Bra) Atlético-MG (Bra)\n"
          ]
        },
        {
          "output_type": "stream",
          "name": "stderr",
          "text": [
            "\r 47%|████▋     | 73/155 [02:20<03:28,  2.54s/it]"
          ]
        },
        {
          "output_type": "stream",
          "name": "stdout",
          "text": [
            "04.05.2022 00:30 AMÉRICA DO SUL COPA LIBERTADORES - FASE DE GRUPOS - RODADA 4 Estudiantes (Arg) Nacional (Uru)\n"
          ]
        },
        {
          "output_type": "stream",
          "name": "stderr",
          "text": [
            "\r 48%|████▊     | 74/155 [02:22<03:13,  2.39s/it]"
          ]
        },
        {
          "output_type": "stream",
          "name": "stdout",
          "text": [
            "04.05.2022 00:30 AMÉRICA DO SUL COPA LIBERTADORES - FASE DE GRUPOS - RODADA 4 Independiente Petrolero (Bol) Palmeiras (Bra)\n"
          ]
        },
        {
          "output_type": "stream",
          "name": "stderr",
          "text": [
            "\r 48%|████▊     | 75/155 [02:23<02:43,  2.04s/it]"
          ]
        },
        {
          "output_type": "stream",
          "name": "stdout",
          "text": [
            "03.05.2022 22:15 AMÉRICA DO SUL COPA LIBERTADORES - FASE DE GRUPOS - RODADA 4 Caracas (Ven) Libertad (Par)\n"
          ]
        },
        {
          "output_type": "stream",
          "name": "stderr",
          "text": [
            "\r 49%|████▉     | 76/155 [02:25<02:36,  1.98s/it]"
          ]
        },
        {
          "output_type": "stream",
          "name": "stdout",
          "text": [
            "03.05.2022 22:15 AMÉRICA DO SUL COPA LIBERTADORES - FASE DE GRUPOS - RODADA 4 Dep. Tachira (Ven) Emelec (Ecu)\n"
          ]
        },
        {
          "output_type": "stream",
          "name": "stderr",
          "text": [
            "\r 50%|████▉     | 77/155 [02:27<02:31,  1.95s/it]"
          ]
        },
        {
          "output_type": "stream",
          "name": "stdout",
          "text": [
            "03.05.2022 22:15 AMÉRICA DO SUL COPA LIBERTADORES - FASE DE GRUPOS - RODADA 4 The Strongest (Bol) Athletico-PR (Bra)\n"
          ]
        },
        {
          "output_type": "stream",
          "name": "stderr",
          "text": [
            "\r 50%|█████     | 78/155 [02:29<02:29,  1.95s/it]"
          ]
        },
        {
          "output_type": "stream",
          "name": "stdout",
          "text": [
            "29.04.2022 02:00 AMÉRICA DO SUL COPA LIBERTADORES - FASE DE GRUPOS - RODADA 3 Always Ready (Bol) Dep. Cali (Col)\n"
          ]
        },
        {
          "output_type": "stream",
          "name": "stderr",
          "text": [
            "\r 51%|█████     | 79/155 [02:31<02:26,  1.93s/it]"
          ]
        },
        {
          "output_type": "stream",
          "name": "stdout",
          "text": [
            "29.04.2022 00:00 AMÉRICA DO SUL COPA LIBERTADORES - FASE DE GRUPOS - RODADA 3 Olimpia Asuncion (Par) Colón (Arg)\n"
          ]
        },
        {
          "output_type": "stream",
          "name": "stderr",
          "text": [
            "\r 52%|█████▏    | 80/155 [02:32<02:11,  1.75s/it]"
          ]
        },
        {
          "output_type": "stream",
          "name": "stdout",
          "text": [
            "28.04.2022 22:00 AMÉRICA DO SUL COPA LIBERTADORES - FASE DE GRUPOS - RODADA 3 U. Católica (Chi) Flamengo (Bra)\n"
          ]
        },
        {
          "output_type": "stream",
          "name": "stderr",
          "text": [
            "\r 52%|█████▏    | 81/155 [02:34<02:09,  1.76s/it]"
          ]
        },
        {
          "output_type": "stream",
          "name": "stdout",
          "text": [
            "28.04.2022 02:00 AMÉRICA DO SUL COPA LIBERTADORES - FASE DE GRUPOS - RODADA 3 The Strongest (Bol) Caracas (Ven)\n"
          ]
        },
        {
          "output_type": "stream",
          "name": "stderr",
          "text": [
            "\r 53%|█████▎    | 82/155 [02:36<02:12,  1.81s/it]"
          ]
        },
        {
          "output_type": "stream",
          "name": "stdout",
          "text": [
            "28.04.2022 00:00 AMÉRICA DO SUL COPA LIBERTADORES - FASE DE GRUPOS - RODADA 3 Cerro Porteno (Par) Penarol (Uru)\n"
          ]
        },
        {
          "output_type": "stream",
          "name": "stderr",
          "text": [
            "\r 54%|█████▎    | 83/155 [02:38<02:10,  1.81s/it]"
          ]
        },
        {
          "output_type": "stream",
          "name": "stdout",
          "text": [
            "28.04.2022 00:00 AMÉRICA DO SUL COPA LIBERTADORES - FASE DE GRUPOS - RODADA 3 Colo Colo (Chi) River Plate (Arg)\n"
          ]
        },
        {
          "output_type": "stream",
          "name": "stderr",
          "text": [
            "\r 54%|█████▍    | 84/155 [02:39<01:55,  1.63s/it]"
          ]
        },
        {
          "output_type": "stream",
          "name": "stdout",
          "text": [
            "28.04.2022 00:00 AMÉRICA DO SUL COPA LIBERTADORES - FASE DE GRUPOS - RODADA 3 Emelec (Ecu) Palmeiras (Bra)\n"
          ]
        },
        {
          "output_type": "stream",
          "name": "stderr",
          "text": [
            "\r 55%|█████▍    | 85/155 [02:41<01:59,  1.71s/it]"
          ]
        },
        {
          "output_type": "stream",
          "name": "stdout",
          "text": [
            "27.04.2022 22:00 AMÉRICA DO SUL COPA LIBERTADORES - FASE DE GRUPOS - RODADA 3 América-MG (Bra) Tolima (Col)\n"
          ]
        },
        {
          "output_type": "stream",
          "name": "stderr",
          "text": [
            "\r 55%|█████▌    | 86/155 [02:43<02:10,  1.89s/it]"
          ]
        },
        {
          "output_type": "stream",
          "name": "stdout",
          "text": [
            "27.04.2022 22:00 AMÉRICA DO SUL COPA LIBERTADORES - FASE DE GRUPOS - RODADA 3 Fortaleza (Bra) A. Lima (Per)\n"
          ]
        },
        {
          "output_type": "stream",
          "name": "stderr",
          "text": [
            "\r 56%|█████▌    | 87/155 [02:45<02:09,  1.91s/it]"
          ]
        },
        {
          "output_type": "stream",
          "name": "stdout",
          "text": [
            "27.04.2022 00:30 AMÉRICA DO SUL COPA LIBERTADORES - FASE DE GRUPOS - RODADA 3 Corinthians (Bra) Boca Juniors (Arg)\n"
          ]
        },
        {
          "output_type": "stream",
          "name": "stderr",
          "text": [
            "\r 57%|█████▋    | 88/155 [02:47<02:06,  1.89s/it]"
          ]
        },
        {
          "output_type": "stream",
          "name": "stdout",
          "text": [
            "27.04.2022 00:30 AMÉRICA DO SUL COPA LIBERTADORES - FASE DE GRUPOS - RODADA 3 Ind. del Valle (Ecu) Atlético-MG (Bra)\n"
          ]
        },
        {
          "output_type": "stream",
          "name": "stderr",
          "text": [
            "\r 57%|█████▋    | 89/155 [02:48<01:50,  1.67s/it]"
          ]
        },
        {
          "output_type": "stream",
          "name": "stdout",
          "text": [
            "27.04.2022 00:30 AMÉRICA DO SUL COPA LIBERTADORES - FASE DE GRUPOS - RODADA 3 Talleres Córdoba (Arg) Sporting Cristal (Per)\n"
          ]
        },
        {
          "output_type": "stream",
          "name": "stderr",
          "text": [
            "\r 58%|█████▊    | 90/155 [02:49<01:42,  1.57s/it]"
          ]
        },
        {
          "output_type": "stream",
          "name": "stdout",
          "text": [
            "26.04.2022 22:15 AMÉRICA DO SUL COPA LIBERTADORES - FASE DE GRUPOS - RODADA 3 Estudiantes (Arg) Red Bull Bragantino (Bra)\n"
          ]
        },
        {
          "output_type": "stream",
          "name": "stderr",
          "text": [
            "\r 59%|█████▊    | 91/155 [02:51<01:47,  1.68s/it]"
          ]
        },
        {
          "output_type": "stream",
          "name": "stdout",
          "text": [
            "26.04.2022 22:15 AMÉRICA DO SUL COPA LIBERTADORES - FASE DE GRUPOS - RODADA 3 Independiente Petrolero (Bol) Dep. Tachira (Ven)\n"
          ]
        },
        {
          "output_type": "stream",
          "name": "stderr",
          "text": [
            "\r 59%|█████▉    | 92/155 [02:53<01:50,  1.75s/it]"
          ]
        },
        {
          "output_type": "stream",
          "name": "stdout",
          "text": [
            "26.04.2022 22:15 AMÉRICA DO SUL COPA LIBERTADORES - FASE DE GRUPOS - RODADA 3 Libertad (Par) Athletico-PR (Bra)\n"
          ]
        },
        {
          "output_type": "stream",
          "name": "stderr",
          "text": [
            "\r 60%|██████    | 93/155 [02:55<01:50,  1.78s/it]"
          ]
        },
        {
          "output_type": "stream",
          "name": "stdout",
          "text": [
            "26.04.2022 22:15 AMÉRICA DO SUL COPA LIBERTADORES - FASE DE GRUPOS - RODADA 3 Vélez Sarsfield (Arg) Nacional (Uru)\n"
          ]
        },
        {
          "output_type": "stream",
          "name": "stderr",
          "text": [
            "\r 61%|██████    | 94/155 [02:57<01:52,  1.85s/it]"
          ]
        },
        {
          "output_type": "stream",
          "name": "stdout",
          "text": [
            "15.04.2022 02:00 AMÉRICA DO SUL COPA LIBERTADORES - FASE DE GRUPOS - RODADA 2 Emelec (Ecu) Dep. Tachira (Ven)\n"
          ]
        },
        {
          "output_type": "stream",
          "name": "stderr",
          "text": [
            "\r 61%|██████▏   | 95/155 [02:59<01:51,  1.85s/it]"
          ]
        },
        {
          "output_type": "stream",
          "name": "stdout",
          "text": [
            "15.04.2022 00:00 AMÉRICA DO SUL COPA LIBERTADORES - FASE DE GRUPOS - RODADA 2 Vélez Sarsfield (Arg) Red Bull Bragantino (Bra)\n"
          ]
        },
        {
          "output_type": "stream",
          "name": "stderr",
          "text": [
            "\r 62%|██████▏   | 96/155 [03:01<01:49,  1.86s/it]"
          ]
        },
        {
          "output_type": "stream",
          "name": "stdout",
          "text": [
            "14.04.2022 22:00 AMÉRICA DO SUL COPA LIBERTADORES - FASE DE GRUPOS - RODADA 2 Athletico-PR (Bra) The Strongest (Bol)\n"
          ]
        },
        {
          "output_type": "stream",
          "name": "stderr",
          "text": [
            "\r 63%|██████▎   | 97/155 [03:03<01:47,  1.86s/it]"
          ]
        },
        {
          "output_type": "stream",
          "name": "stdout",
          "text": [
            "14.04.2022 02:00 AMÉRICA DO SUL COPA LIBERTADORES - FASE DE GRUPOS - RODADA 2 Ind. del Valle (Ecu) Tolima (Col)\n"
          ]
        },
        {
          "output_type": "stream",
          "name": "stderr",
          "text": [
            "\r 63%|██████▎   | 98/155 [03:05<01:46,  1.86s/it]"
          ]
        },
        {
          "output_type": "stream",
          "name": "stdout",
          "text": [
            "14.04.2022 00:00 AMÉRICA DO SUL COPA LIBERTADORES - FASE DE GRUPOS - RODADA 2 Atlético-MG (Bra) América-MG (Bra)\n"
          ]
        },
        {
          "output_type": "stream",
          "name": "stderr",
          "text": [
            "\r 64%|██████▍   | 99/155 [03:07<01:47,  1.92s/it]"
          ]
        },
        {
          "output_type": "stream",
          "name": "stdout",
          "text": [
            "14.04.2022 00:00 AMÉRICA DO SUL COPA LIBERTADORES - FASE DE GRUPOS - RODADA 2 Corinthians (Bra) Dep. Cali (Col)\n"
          ]
        },
        {
          "output_type": "stream",
          "name": "stderr",
          "text": [
            "\r 65%|██████▍   | 100/155 [03:09<01:48,  1.97s/it]"
          ]
        },
        {
          "output_type": "stream",
          "name": "stdout",
          "text": [
            "14.04.2022 00:00 AMÉRICA DO SUL COPA LIBERTADORES - FASE DE GRUPOS - RODADA 2 Nacional (Uru) Estudiantes (Arg)\n"
          ]
        },
        {
          "output_type": "stream",
          "name": "stderr",
          "text": [
            "\r 65%|██████▌   | 101/155 [03:11<01:48,  2.01s/it]"
          ]
        },
        {
          "output_type": "stream",
          "name": "stdout",
          "text": [
            "14.04.2022 00:00 AMÉRICA DO SUL COPA LIBERTADORES - FASE DE GRUPOS - RODADA 2 River Plate (Arg) Fortaleza (Bra)\n"
          ]
        },
        {
          "output_type": "stream",
          "name": "stderr",
          "text": [
            "\r 66%|██████▌   | 102/155 [03:13<01:43,  1.96s/it]"
          ]
        },
        {
          "output_type": "stream",
          "name": "stdout",
          "text": [
            "13.04.2022 22:00 AMÉRICA DO SUL COPA LIBERTADORES - FASE DE GRUPOS - RODADA 2 Colo Colo (Chi) A. Lima (Per)\n"
          ]
        },
        {
          "output_type": "stream",
          "name": "stderr",
          "text": [
            "\r 66%|██████▋   | 103/155 [03:14<01:39,  1.91s/it]"
          ]
        },
        {
          "output_type": "stream",
          "name": "stdout",
          "text": [
            "13.04.2022 22:00 AMÉRICA DO SUL COPA LIBERTADORES - FASE DE GRUPOS - RODADA 2 Libertad (Par) Caracas (Ven)\n"
          ]
        },
        {
          "output_type": "stream",
          "name": "stderr",
          "text": [
            "\r 67%|██████▋   | 104/155 [03:16<01:36,  1.89s/it]"
          ]
        },
        {
          "output_type": "stream",
          "name": "stdout",
          "text": [
            "13.04.2022 00:30 AMÉRICA DO SUL COPA LIBERTADORES - FASE DE GRUPOS - RODADA 2 Flamengo (Bra) Talleres Córdoba (Arg)\n"
          ]
        },
        {
          "output_type": "stream",
          "name": "stderr",
          "text": [
            "\r 68%|██████▊   | 105/155 [03:18<01:36,  1.93s/it]"
          ]
        },
        {
          "output_type": "stream",
          "name": "stdout",
          "text": [
            "13.04.2022 00:30 AMÉRICA DO SUL COPA LIBERTADORES - FASE DE GRUPOS - RODADA 2 Palmeiras (Bra) Independiente Petrolero (Bol)\n"
          ]
        },
        {
          "output_type": "stream",
          "name": "stderr",
          "text": [
            "\r 68%|██████▊   | 106/155 [03:20<01:23,  1.71s/it]"
          ]
        },
        {
          "output_type": "stream",
          "name": "stdout",
          "text": [
            "13.04.2022 00:30 AMÉRICA DO SUL COPA LIBERTADORES - FASE DE GRUPOS - RODADA 2 Penarol (Uru) Olimpia Asuncion (Par)\n"
          ]
        },
        {
          "output_type": "stream",
          "name": "stderr",
          "text": [
            "\r 69%|██████▉   | 107/155 [03:21<01:23,  1.74s/it]"
          ]
        },
        {
          "output_type": "stream",
          "name": "stdout",
          "text": [
            "12.04.2022 22:15 AMÉRICA DO SUL COPA LIBERTADORES - FASE DE GRUPOS - RODADA 2 Boca Juniors (Arg) Always Ready (Bol)\n"
          ]
        },
        {
          "output_type": "stream",
          "name": "stderr",
          "text": [
            "\r 70%|██████▉   | 108/155 [03:23<01:13,  1.57s/it]"
          ]
        },
        {
          "output_type": "stream",
          "name": "stdout",
          "text": [
            "12.04.2022 22:15 AMÉRICA DO SUL COPA LIBERTADORES - FASE DE GRUPOS - RODADA 2 Cerro Porteno (Par) Colón (Arg)\n"
          ]
        },
        {
          "output_type": "stream",
          "name": "stderr",
          "text": [
            "\r 70%|███████   | 109/155 [03:25<01:19,  1.74s/it]"
          ]
        },
        {
          "output_type": "stream",
          "name": "stdout",
          "text": [
            "12.04.2022 22:15 AMÉRICA DO SUL COPA LIBERTADORES - FASE DE GRUPOS - RODADA 2 U. Católica (Chi) Sporting Cristal (Per)\n"
          ]
        },
        {
          "output_type": "stream",
          "name": "stderr",
          "text": [
            "\r 71%|███████   | 110/155 [03:27<01:27,  1.94s/it]"
          ]
        },
        {
          "output_type": "stream",
          "name": "stdout",
          "text": [
            "08.04.2022 02:00 AMÉRICA DO SUL COPA LIBERTADORES - FASE DE GRUPOS - RODADA 1 The Strongest (Bol) Libertad (Par)\n"
          ]
        },
        {
          "output_type": "stream",
          "name": "stderr",
          "text": [
            "\r 72%|███████▏  | 111/155 [03:29<01:31,  2.09s/it]"
          ]
        },
        {
          "output_type": "stream",
          "name": "stdout",
          "text": [
            "08.04.2022 00:00 AMÉRICA DO SUL COPA LIBERTADORES - FASE DE GRUPOS - RODADA 1 Estudiantes (Arg) Vélez Sarsfield (Arg)\n"
          ]
        },
        {
          "output_type": "stream",
          "name": "stderr",
          "text": [
            "\r 72%|███████▏  | 112/155 [03:32<01:34,  2.20s/it]"
          ]
        },
        {
          "output_type": "stream",
          "name": "stdout",
          "text": [
            "07.04.2022 22:00 AMÉRICA DO SUL COPA LIBERTADORES - FASE DE GRUPOS - RODADA 1 Fortaleza (Bra) Colo Colo (Chi)\n"
          ]
        },
        {
          "output_type": "stream",
          "name": "stderr",
          "text": [
            "\r 73%|███████▎  | 113/155 [03:35<01:38,  2.35s/it]"
          ]
        },
        {
          "output_type": "stream",
          "name": "stdout",
          "text": [
            "07.04.2022 02:00 AMÉRICA DO SUL COPA LIBERTADORES - FASE DE GRUPOS - RODADA 1 Independiente Petrolero (Bol) Emelec (Ecu)\n"
          ]
        },
        {
          "output_type": "stream",
          "name": "stderr",
          "text": [
            "\r 74%|███████▎  | 114/155 [03:37<01:37,  2.37s/it]"
          ]
        },
        {
          "output_type": "stream",
          "name": "stdout",
          "text": [
            "07.04.2022 00:00 AMÉRICA DO SUL COPA LIBERTADORES - FASE DE GRUPOS - RODADA 1 A. Lima (Per) River Plate (Arg)\n"
          ]
        },
        {
          "output_type": "stream",
          "name": "stderr",
          "text": [
            "\r 74%|███████▍  | 115/155 [03:40<01:37,  2.44s/it]"
          ]
        },
        {
          "output_type": "stream",
          "name": "stdout",
          "text": [
            "07.04.2022 00:00 AMÉRICA DO SUL COPA LIBERTADORES - FASE DE GRUPOS - RODADA 1 Dep. Tachira (Ven) Palmeiras (Bra)\n"
          ]
        },
        {
          "output_type": "stream",
          "name": "stderr",
          "text": [
            "\r 75%|███████▍  | 116/155 [03:42<01:33,  2.41s/it]"
          ]
        },
        {
          "output_type": "stream",
          "name": "stdout",
          "text": [
            "07.04.2022 00:00 AMÉRICA DO SUL COPA LIBERTADORES - FASE DE GRUPOS - RODADA 1 Tolima (Col) Atlético-MG (Bra)\n"
          ]
        },
        {
          "output_type": "stream",
          "name": "stderr",
          "text": [
            "\r 75%|███████▌  | 117/155 [03:44<01:27,  2.30s/it]"
          ]
        },
        {
          "output_type": "stream",
          "name": "stdout",
          "text": [
            "06.04.2022 22:00 AMÉRICA DO SUL COPA LIBERTADORES - FASE DE GRUPOS - RODADA 1 América-MG (Bra) Ind. del Valle (Ecu)\n"
          ]
        },
        {
          "output_type": "stream",
          "name": "stderr",
          "text": [
            "\r 76%|███████▌  | 118/155 [03:46<01:26,  2.34s/it]"
          ]
        },
        {
          "output_type": "stream",
          "name": "stdout",
          "text": [
            "06.04.2022 22:00 AMÉRICA DO SUL COPA LIBERTADORES - FASE DE GRUPOS - RODADA 1 Red Bull Bragantino (Bra) Nacional (Uru)\n"
          ]
        },
        {
          "output_type": "stream",
          "name": "stderr",
          "text": [
            "\r 77%|███████▋  | 119/155 [03:49<01:24,  2.34s/it]"
          ]
        },
        {
          "output_type": "stream",
          "name": "stdout",
          "text": [
            "06.04.2022 22:00 AMÉRICA DO SUL COPA LIBERTADORES - FASE DE GRUPOS - RODADA 1 Talleres Córdoba (Arg) U. Católica (Chi)\n"
          ]
        },
        {
          "output_type": "stream",
          "name": "stderr",
          "text": [
            "\r 77%|███████▋  | 120/155 [03:51<01:22,  2.35s/it]"
          ]
        },
        {
          "output_type": "stream",
          "name": "stdout",
          "text": [
            "06.04.2022 01:00 AMÉRICA DO SUL COPA LIBERTADORES - FASE DE GRUPOS - RODADA 1 Sporting Cristal (Per) Flamengo (Bra)\n"
          ]
        },
        {
          "output_type": "stream",
          "name": "stderr",
          "text": [
            "\r 78%|███████▊  | 121/155 [03:54<01:22,  2.42s/it]"
          ]
        },
        {
          "output_type": "stream",
          "name": "stdout",
          "text": [
            "06.04.2022 00:30 AMÉRICA DO SUL COPA LIBERTADORES - FASE DE GRUPOS - RODADA 1 Always Ready (Bol) Corinthians (Bra)\n"
          ]
        },
        {
          "output_type": "stream",
          "name": "stderr",
          "text": [
            "\r 79%|███████▊  | 122/155 [03:56<01:18,  2.38s/it]"
          ]
        },
        {
          "output_type": "stream",
          "name": "stdout",
          "text": [
            "06.04.2022 00:30 AMÉRICA DO SUL COPA LIBERTADORES - FASE DE GRUPOS - RODADA 1 Dep. Cali (Col) Boca Juniors (Arg)\n"
          ]
        },
        {
          "output_type": "stream",
          "name": "stderr",
          "text": [
            "\r 79%|███████▉  | 123/155 [03:58<01:15,  2.35s/it]"
          ]
        },
        {
          "output_type": "stream",
          "name": "stdout",
          "text": [
            "05.04.2022 22:15 AMÉRICA DO SUL COPA LIBERTADORES - FASE DE GRUPOS - RODADA 1 Caracas (Ven) Athletico-PR (Bra)\n"
          ]
        },
        {
          "output_type": "stream",
          "name": "stderr",
          "text": [
            "\r 80%|████████  | 124/155 [04:01<01:13,  2.36s/it]"
          ]
        },
        {
          "output_type": "stream",
          "name": "stdout",
          "text": [
            "05.04.2022 22:15 AMÉRICA DO SUL COPA LIBERTADORES - FASE DE GRUPOS - RODADA 1 Colón (Arg) Penarol (Uru)\n"
          ]
        },
        {
          "output_type": "stream",
          "name": "stderr",
          "text": [
            "\r 81%|████████  | 125/155 [04:02<01:03,  2.10s/it]"
          ]
        },
        {
          "output_type": "stream",
          "name": "stdout",
          "text": [
            "05.04.2022 22:15 AMÉRICA DO SUL COPA LIBERTADORES - FASE DE GRUPOS - RODADA 1 Olimpia Asuncion (Par) Cerro Porteno (Par)\n"
          ]
        },
        {
          "output_type": "stream",
          "name": "stderr",
          "text": [
            "\r 81%|████████▏ | 126/155 [04:03<00:52,  1.82s/it]"
          ]
        },
        {
          "output_type": "stream",
          "name": "stdout",
          "text": [
            "18.03.2022 00:30 AMÉRICA DO SUL COPA LIBERTADORES - QUALIFICAÇÃO - FINAL The Strongest (Bol) U. Catolica (Ecu)\n"
          ]
        },
        {
          "output_type": "stream",
          "name": "stderr",
          "text": [
            "\r 82%|████████▏ | 127/155 [04:05<00:46,  1.68s/it]"
          ]
        },
        {
          "output_type": "stream",
          "name": "stdout",
          "text": [
            "17.03.2022 00:30 AMÉRICA DO SUL COPA LIBERTADORES - QUALIFICAÇÃO - FINAL Olimpia Asuncion (Par) Fluminense (Bra)\n"
          ]
        },
        {
          "output_type": "stream",
          "name": "stderr",
          "text": [
            "\r 83%|████████▎ | 128/155 [04:07<00:46,  1.72s/it]"
          ]
        },
        {
          "output_type": "stream",
          "name": "stdout",
          "text": [
            "16.03.2022 22:15 AMÉRICA DO SUL COPA LIBERTADORES - QUALIFICAÇÃO - FINAL Estudiantes (Arg) Everton (Chi)\n"
          ]
        },
        {
          "output_type": "stream",
          "name": "stderr",
          "text": [
            "\r 83%|████████▎ | 129/155 [04:09<00:46,  1.79s/it]"
          ]
        },
        {
          "output_type": "stream",
          "name": "stdout",
          "text": [
            "16.03.2022 00:30 AMÉRICA DO SUL COPA LIBERTADORES - QUALIFICAÇÃO - FINAL Barcelona SC (Ecu) América-MG (Bra)\n"
          ]
        },
        {
          "output_type": "stream",
          "name": "stderr",
          "text": [
            "\r 84%|████████▍ | 130/155 [04:10<00:45,  1.80s/it]"
          ]
        },
        {
          "output_type": "stream",
          "name": "stdout",
          "text": [
            "11.03.2022 00:30 AMÉRICA DO SUL COPA LIBERTADORES - QUALIFICAÇÃO - FINAL U. Catolica (Ecu) The Strongest (Bol)\n"
          ]
        },
        {
          "output_type": "stream",
          "name": "stderr",
          "text": [
            "\r 85%|████████▍ | 131/155 [04:11<00:38,  1.61s/it]"
          ]
        },
        {
          "output_type": "stream",
          "name": "stdout",
          "text": [
            "10.03.2022 00:30 AMÉRICA DO SUL COPA LIBERTADORES - QUALIFICAÇÃO - FINAL Fluminense (Bra) Olimpia Asuncion (Par)\n"
          ]
        },
        {
          "output_type": "stream",
          "name": "stderr",
          "text": [
            "\r 85%|████████▌ | 132/155 [04:13<00:38,  1.68s/it]"
          ]
        },
        {
          "output_type": "stream",
          "name": "stdout",
          "text": [
            "09.03.2022 22:15 AMÉRICA DO SUL COPA LIBERTADORES - QUALIFICAÇÃO - FINAL Everton (Chi) Estudiantes (Arg)\n"
          ]
        },
        {
          "output_type": "stream",
          "name": "stderr",
          "text": [
            "\r 86%|████████▌ | 133/155 [04:15<00:38,  1.75s/it]"
          ]
        },
        {
          "output_type": "stream",
          "name": "stdout",
          "text": [
            "09.03.2022 00:30 AMÉRICA DO SUL COPA LIBERTADORES - QUALIFICAÇÃO - FINAL América-MG (Bra) Barcelona SC (Ecu)\n"
          ]
        },
        {
          "output_type": "stream",
          "name": "stderr",
          "text": [
            "\r 86%|████████▋ | 134/155 [04:17<00:37,  1.79s/it]"
          ]
        },
        {
          "output_type": "stream",
          "name": "stdout",
          "text": [
            "04.03.2022 00:30 AMÉRICA DO SUL COPA LIBERTADORES - QUALIFICAÇÃO - SEMIFINAIS Atl. Nacional (Col) Olimpia Asuncion (Par)\n"
          ]
        },
        {
          "output_type": "stream",
          "name": "stderr",
          "text": [
            "\r 87%|████████▋ | 135/155 [04:19<00:35,  1.80s/it]"
          ]
        },
        {
          "output_type": "stream",
          "name": "stdout",
          "text": [
            "03.03.2022 00:30 AMÉRICA DO SUL COPA LIBERTADORES - QUALIFICAÇÃO - SEMIFINAIS Estudiantes (Arg) Audax Italiano (Chi)\n"
          ]
        },
        {
          "output_type": "stream",
          "name": "stderr",
          "text": [
            "\r 88%|████████▊ | 136/155 [04:21<00:33,  1.78s/it]"
          ]
        },
        {
          "output_type": "stream",
          "name": "stdout",
          "text": [
            "03.03.2022 00:30 AMÉRICA DO SUL COPA LIBERTADORES - QUALIFICAÇÃO - SEMIFINAIS Universitario (Per) Barcelona SC (Ecu)\n"
          ]
        },
        {
          "output_type": "stream",
          "name": "stderr",
          "text": [
            "\r 88%|████████▊ | 137/155 [04:23<00:32,  1.82s/it]"
          ]
        },
        {
          "output_type": "stream",
          "name": "stdout",
          "text": [
            "02.03.2022 22:15 AMÉRICA DO SUL COPA LIBERTADORES - QUALIFICAÇÃO - SEMIFINAIS Guarani (Par) América-MG (Bra)\n"
          ]
        },
        {
          "output_type": "stream",
          "name": "stderr",
          "text": [
            "\r 89%|████████▉ | 138/155 [04:24<00:31,  1.84s/it]"
          ]
        },
        {
          "output_type": "stream",
          "name": "stdout",
          "text": [
            "02.03.2022 22:15 AMÉRICA DO SUL COPA LIBERTADORES - QUALIFICAÇÃO - SEMIFINAIS U. Catolica (Ecu) Bolivar (Bol)\n"
          ]
        },
        {
          "output_type": "stream",
          "name": "stderr",
          "text": [
            "\r 90%|████████▉ | 139/155 [04:26<00:29,  1.82s/it]"
          ]
        },
        {
          "output_type": "stream",
          "name": "stdout",
          "text": [
            "02.03.2022 00:30 AMÉRICA DO SUL COPA LIBERTADORES - QUALIFICAÇÃO - SEMIFINAIS Fluminense (Bra) Millonarios (Col)\n"
          ]
        },
        {
          "output_type": "stream",
          "name": "stderr",
          "text": [
            "\r 90%|█████████ | 140/155 [04:28<00:26,  1.80s/it]"
          ]
        },
        {
          "output_type": "stream",
          "name": "stdout",
          "text": [
            "02.03.2022 00:30 AMÉRICA DO SUL COPA LIBERTADORES - QUALIFICAÇÃO - SEMIFINAIS The Strongest (Bol) Plaza Colonia (Uru)\n"
          ]
        },
        {
          "output_type": "stream",
          "name": "stderr",
          "text": [
            "\r 91%|█████████ | 141/155 [04:30<00:26,  1.86s/it]"
          ]
        },
        {
          "output_type": "stream",
          "name": "stdout",
          "text": [
            "01.03.2022 22:15 AMÉRICA DO SUL COPA LIBERTADORES - QUALIFICAÇÃO - SEMIFINAIS Monagas (Ven) Everton (Chi)\n"
          ]
        },
        {
          "output_type": "stream",
          "name": "stderr",
          "text": [
            "\r 92%|█████████▏| 142/155 [04:32<00:23,  1.83s/it]"
          ]
        },
        {
          "output_type": "stream",
          "name": "stdout",
          "text": [
            "25.02.2022 00:30 AMÉRICA DO SUL COPA LIBERTADORES - QUALIFICAÇÃO - SEMIFINAIS Olimpia Asuncion (Par) Atl. Nacional (Col)\n"
          ]
        },
        {
          "output_type": "stream",
          "name": "stderr",
          "text": [
            "\r 92%|█████████▏| 143/155 [04:33<00:21,  1.79s/it]"
          ]
        },
        {
          "output_type": "stream",
          "name": "stdout",
          "text": [
            "24.02.2022 00:30 AMÉRICA DO SUL COPA LIBERTADORES - QUALIFICAÇÃO - SEMIFINAIS Audax Italiano (Chi) Estudiantes (Arg)\n"
          ]
        },
        {
          "output_type": "stream",
          "name": "stderr",
          "text": [
            "\r 93%|█████████▎| 144/155 [04:35<00:19,  1.78s/it]"
          ]
        },
        {
          "output_type": "stream",
          "name": "stdout",
          "text": [
            "24.02.2022 00:30 AMÉRICA DO SUL COPA LIBERTADORES - QUALIFICAÇÃO - SEMIFINAIS Barcelona SC (Ecu) Universitario (Per)\n"
          ]
        },
        {
          "output_type": "stream",
          "name": "stderr",
          "text": [
            "\r 94%|█████████▎| 145/155 [04:37<00:18,  1.82s/it]"
          ]
        },
        {
          "output_type": "stream",
          "name": "stdout",
          "text": [
            "23.02.2022 22:15 AMÉRICA DO SUL COPA LIBERTADORES - QUALIFICAÇÃO - SEMIFINAIS América-MG (Bra) Guarani (Par)\n"
          ]
        },
        {
          "output_type": "stream",
          "name": "stderr",
          "text": [
            "\r 94%|█████████▍| 146/155 [04:40<00:19,  2.15s/it]"
          ]
        },
        {
          "output_type": "stream",
          "name": "stdout",
          "text": [
            "23.02.2022 22:15 AMÉRICA DO SUL COPA LIBERTADORES - QUALIFICAÇÃO - SEMIFINAIS Bolivar (Bol) U. Catolica (Ecu)\n"
          ]
        },
        {
          "output_type": "stream",
          "name": "stderr",
          "text": [
            "\r 95%|█████████▍| 147/155 [04:42<00:16,  2.02s/it]"
          ]
        },
        {
          "output_type": "stream",
          "name": "stdout",
          "text": [
            "23.02.2022 00:30 AMÉRICA DO SUL COPA LIBERTADORES - QUALIFICAÇÃO - SEMIFINAIS Millonarios (Col) Fluminense (Bra)\n"
          ]
        },
        {
          "output_type": "stream",
          "name": "stderr",
          "text": [
            "\r 95%|█████████▌| 148/155 [04:44<00:15,  2.19s/it]"
          ]
        },
        {
          "output_type": "stream",
          "name": "stdout",
          "text": [
            "23.02.2022 00:30 AMÉRICA DO SUL COPA LIBERTADORES - QUALIFICAÇÃO - SEMIFINAIS Plaza Colonia (Uru) The Strongest (Bol)\n"
          ]
        },
        {
          "output_type": "stream",
          "name": "stderr",
          "text": [
            "\r 96%|█████████▌| 149/155 [04:46<00:12,  2.13s/it]"
          ]
        },
        {
          "output_type": "stream",
          "name": "stdout",
          "text": [
            "22.02.2022 22:15 AMÉRICA DO SUL COPA LIBERTADORES - QUALIFICAÇÃO - SEMIFINAIS Everton (Chi) Monagas (Ven)\n"
          ]
        },
        {
          "output_type": "stream",
          "name": "stderr",
          "text": [
            "\r 97%|█████████▋| 150/155 [04:48<00:10,  2.03s/it]"
          ]
        },
        {
          "output_type": "stream",
          "name": "stdout",
          "text": [
            "17.02.2022 00:30 AMÉRICA DO SUL COPA LIBERTADORES - QUALIFICAÇÃO - QUARTAS DE FINAL Olimpia Asuncion (Par) Cesar Vallejo (Per)\n"
          ]
        },
        {
          "output_type": "stream",
          "name": "stderr",
          "text": [
            "\r 97%|█████████▋| 151/155 [04:50<00:07,  1.97s/it]"
          ]
        },
        {
          "output_type": "stream",
          "name": "stdout",
          "text": [
            "16.02.2022 22:15 AMÉRICA DO SUL COPA LIBERTADORES - QUALIFICAÇÃO - QUARTAS DE FINAL Bolivar (Bol) Lara (Ven)\n"
          ]
        },
        {
          "output_type": "stream",
          "name": "stderr",
          "text": [
            "\r 98%|█████████▊| 152/155 [04:52<00:05,  1.92s/it]"
          ]
        },
        {
          "output_type": "stream",
          "name": "stdout",
          "text": [
            "16.02.2022 00:30 AMÉRICA DO SUL COPA LIBERTADORES - QUALIFICAÇÃO - QUARTAS DE FINAL Barcelona SC (Ecu) Montevideo City (Uru)\n"
          ]
        },
        {
          "output_type": "stream",
          "name": "stderr",
          "text": [
            "\r 99%|█████████▊| 153/155 [04:54<00:03,  1.94s/it]"
          ]
        },
        {
          "output_type": "stream",
          "name": "stdout",
          "text": [
            "10.02.2022 00:30 AMÉRICA DO SUL COPA LIBERTADORES - QUALIFICAÇÃO - QUARTAS DE FINAL Cesar Vallejo (Per) Olimpia Asuncion (Par)\n"
          ]
        },
        {
          "output_type": "stream",
          "name": "stderr",
          "text": [
            "\r 99%|█████████▉| 154/155 [04:56<00:01,  1.89s/it]"
          ]
        },
        {
          "output_type": "stream",
          "name": "stdout",
          "text": [
            "09.02.2022 22:15 AMÉRICA DO SUL COPA LIBERTADORES - QUALIFICAÇÃO - QUARTAS DE FINAL Lara (Ven) Bolivar (Bol)\n"
          ]
        },
        {
          "output_type": "stream",
          "name": "stderr",
          "text": [
            "100%|██████████| 155/155 [04:57<00:00,  1.92s/it]"
          ]
        },
        {
          "output_type": "stream",
          "name": "stdout",
          "text": [
            "09.02.2022 00:30 AMÉRICA DO SUL COPA LIBERTADORES - QUALIFICAÇÃO - QUARTAS DE FINAL Montevideo City (Uru) Barcelona SC (Ecu)\n"
          ]
        },
        {
          "output_type": "stream",
          "name": "stderr",
          "text": [
            "\n"
          ]
        }
      ]
    },
    {
      "cell_type": "code",
      "source": [
        "df = pd.DataFrame(jogo)\n",
        "df"
      ],
      "metadata": {
        "colab": {
          "base_uri": "https://localhost:8080/",
          "height": 424
        },
        "id": "Sr3lcdj4_qkl",
        "outputId": "13e5fd6b-070c-4815-c25b-c673cb32e4e5"
      },
      "execution_count": null,
      "outputs": [
        {
          "output_type": "execute_result",
          "data": {
            "text/plain": [
              "           Date   Time         Country  \\\n",
              "0    29.10.2022  20:00  AMÉRICA DO SUL   \n",
              "1    08.09.2022  00:30  AMÉRICA DO SUL   \n",
              "2    07.09.2022  00:30  AMÉRICA DO SUL   \n",
              "3    01.09.2022  00:30  AMÉRICA DO SUL   \n",
              "4    31.08.2022  00:30  AMÉRICA DO SUL   \n",
              "..          ...    ...             ...   \n",
              "150  16.02.2022  22:15  AMÉRICA DO SUL   \n",
              "151  16.02.2022  00:30  AMÉRICA DO SUL   \n",
              "152  10.02.2022  00:30  AMÉRICA DO SUL   \n",
              "153  09.02.2022  22:15  AMÉRICA DO SUL   \n",
              "154  09.02.2022  00:30  AMÉRICA DO SUL   \n",
              "\n",
              "                                                League                   Home  \\\n",
              "0                 COPA LIBERTADORES - PLAYOFFS - FINAL         Flamengo (Bra)   \n",
              "1            COPA LIBERTADORES - PLAYOFFS - SEMIFINAIS         Flamengo (Bra)   \n",
              "2            COPA LIBERTADORES - PLAYOFFS - SEMIFINAIS        Palmeiras (Bra)   \n",
              "3            COPA LIBERTADORES - PLAYOFFS - SEMIFINAIS  Vélez Sarsfield (Arg)   \n",
              "4            COPA LIBERTADORES - PLAYOFFS - SEMIFINAIS     Athletico-PR (Bra)   \n",
              "..                                                 ...                    ...   \n",
              "150  COPA LIBERTADORES - QUALIFICAÇÃO - QUARTAS DE ...          Bolivar (Bol)   \n",
              "151  COPA LIBERTADORES - QUALIFICAÇÃO - QUARTAS DE ...     Barcelona SC (Ecu)   \n",
              "152  COPA LIBERTADORES - QUALIFICAÇÃO - QUARTAS DE ...    Cesar Vallejo (Per)   \n",
              "153  COPA LIBERTADORES - QUALIFICAÇÃO - QUARTAS DE ...             Lara (Ven)   \n",
              "154  COPA LIBERTADORES - QUALIFICAÇÃO - QUARTAS DE ...  Montevideo City (Uru)   \n",
              "\n",
              "                       Away  \n",
              "0        Athletico-PR (Bra)  \n",
              "1     Vélez Sarsfield (Arg)  \n",
              "2        Athletico-PR (Bra)  \n",
              "3            Flamengo (Bra)  \n",
              "4           Palmeiras (Bra)  \n",
              "..                      ...  \n",
              "150              Lara (Ven)  \n",
              "151   Montevideo City (Uru)  \n",
              "152  Olimpia Asuncion (Par)  \n",
              "153           Bolivar (Bol)  \n",
              "154      Barcelona SC (Ecu)  \n",
              "\n",
              "[155 rows x 6 columns]"
            ],
            "text/html": [
              "\n",
              "  <div id=\"df-b5ef7239-2a06-4910-b790-3f47aed8ca03\">\n",
              "    <div class=\"colab-df-container\">\n",
              "      <div>\n",
              "<style scoped>\n",
              "    .dataframe tbody tr th:only-of-type {\n",
              "        vertical-align: middle;\n",
              "    }\n",
              "\n",
              "    .dataframe tbody tr th {\n",
              "        vertical-align: top;\n",
              "    }\n",
              "\n",
              "    .dataframe thead th {\n",
              "        text-align: right;\n",
              "    }\n",
              "</style>\n",
              "<table border=\"1\" class=\"dataframe\">\n",
              "  <thead>\n",
              "    <tr style=\"text-align: right;\">\n",
              "      <th></th>\n",
              "      <th>Date</th>\n",
              "      <th>Time</th>\n",
              "      <th>Country</th>\n",
              "      <th>League</th>\n",
              "      <th>Home</th>\n",
              "      <th>Away</th>\n",
              "    </tr>\n",
              "  </thead>\n",
              "  <tbody>\n",
              "    <tr>\n",
              "      <th>0</th>\n",
              "      <td>29.10.2022</td>\n",
              "      <td>20:00</td>\n",
              "      <td>AMÉRICA DO SUL</td>\n",
              "      <td>COPA LIBERTADORES - PLAYOFFS - FINAL</td>\n",
              "      <td>Flamengo (Bra)</td>\n",
              "      <td>Athletico-PR (Bra)</td>\n",
              "    </tr>\n",
              "    <tr>\n",
              "      <th>1</th>\n",
              "      <td>08.09.2022</td>\n",
              "      <td>00:30</td>\n",
              "      <td>AMÉRICA DO SUL</td>\n",
              "      <td>COPA LIBERTADORES - PLAYOFFS - SEMIFINAIS</td>\n",
              "      <td>Flamengo (Bra)</td>\n",
              "      <td>Vélez Sarsfield (Arg)</td>\n",
              "    </tr>\n",
              "    <tr>\n",
              "      <th>2</th>\n",
              "      <td>07.09.2022</td>\n",
              "      <td>00:30</td>\n",
              "      <td>AMÉRICA DO SUL</td>\n",
              "      <td>COPA LIBERTADORES - PLAYOFFS - SEMIFINAIS</td>\n",
              "      <td>Palmeiras (Bra)</td>\n",
              "      <td>Athletico-PR (Bra)</td>\n",
              "    </tr>\n",
              "    <tr>\n",
              "      <th>3</th>\n",
              "      <td>01.09.2022</td>\n",
              "      <td>00:30</td>\n",
              "      <td>AMÉRICA DO SUL</td>\n",
              "      <td>COPA LIBERTADORES - PLAYOFFS - SEMIFINAIS</td>\n",
              "      <td>Vélez Sarsfield (Arg)</td>\n",
              "      <td>Flamengo (Bra)</td>\n",
              "    </tr>\n",
              "    <tr>\n",
              "      <th>4</th>\n",
              "      <td>31.08.2022</td>\n",
              "      <td>00:30</td>\n",
              "      <td>AMÉRICA DO SUL</td>\n",
              "      <td>COPA LIBERTADORES - PLAYOFFS - SEMIFINAIS</td>\n",
              "      <td>Athletico-PR (Bra)</td>\n",
              "      <td>Palmeiras (Bra)</td>\n",
              "    </tr>\n",
              "    <tr>\n",
              "      <th>...</th>\n",
              "      <td>...</td>\n",
              "      <td>...</td>\n",
              "      <td>...</td>\n",
              "      <td>...</td>\n",
              "      <td>...</td>\n",
              "      <td>...</td>\n",
              "    </tr>\n",
              "    <tr>\n",
              "      <th>150</th>\n",
              "      <td>16.02.2022</td>\n",
              "      <td>22:15</td>\n",
              "      <td>AMÉRICA DO SUL</td>\n",
              "      <td>COPA LIBERTADORES - QUALIFICAÇÃO - QUARTAS DE ...</td>\n",
              "      <td>Bolivar (Bol)</td>\n",
              "      <td>Lara (Ven)</td>\n",
              "    </tr>\n",
              "    <tr>\n",
              "      <th>151</th>\n",
              "      <td>16.02.2022</td>\n",
              "      <td>00:30</td>\n",
              "      <td>AMÉRICA DO SUL</td>\n",
              "      <td>COPA LIBERTADORES - QUALIFICAÇÃO - QUARTAS DE ...</td>\n",
              "      <td>Barcelona SC (Ecu)</td>\n",
              "      <td>Montevideo City (Uru)</td>\n",
              "    </tr>\n",
              "    <tr>\n",
              "      <th>152</th>\n",
              "      <td>10.02.2022</td>\n",
              "      <td>00:30</td>\n",
              "      <td>AMÉRICA DO SUL</td>\n",
              "      <td>COPA LIBERTADORES - QUALIFICAÇÃO - QUARTAS DE ...</td>\n",
              "      <td>Cesar Vallejo (Per)</td>\n",
              "      <td>Olimpia Asuncion (Par)</td>\n",
              "    </tr>\n",
              "    <tr>\n",
              "      <th>153</th>\n",
              "      <td>09.02.2022</td>\n",
              "      <td>22:15</td>\n",
              "      <td>AMÉRICA DO SUL</td>\n",
              "      <td>COPA LIBERTADORES - QUALIFICAÇÃO - QUARTAS DE ...</td>\n",
              "      <td>Lara (Ven)</td>\n",
              "      <td>Bolivar (Bol)</td>\n",
              "    </tr>\n",
              "    <tr>\n",
              "      <th>154</th>\n",
              "      <td>09.02.2022</td>\n",
              "      <td>00:30</td>\n",
              "      <td>AMÉRICA DO SUL</td>\n",
              "      <td>COPA LIBERTADORES - QUALIFICAÇÃO - QUARTAS DE ...</td>\n",
              "      <td>Montevideo City (Uru)</td>\n",
              "      <td>Barcelona SC (Ecu)</td>\n",
              "    </tr>\n",
              "  </tbody>\n",
              "</table>\n",
              "<p>155 rows × 6 columns</p>\n",
              "</div>\n",
              "      <button class=\"colab-df-convert\" onclick=\"convertToInteractive('df-b5ef7239-2a06-4910-b790-3f47aed8ca03')\"\n",
              "              title=\"Convert this dataframe to an interactive table.\"\n",
              "              style=\"display:none;\">\n",
              "        \n",
              "  <svg xmlns=\"http://www.w3.org/2000/svg\" height=\"24px\"viewBox=\"0 0 24 24\"\n",
              "       width=\"24px\">\n",
              "    <path d=\"M0 0h24v24H0V0z\" fill=\"none\"/>\n",
              "    <path d=\"M18.56 5.44l.94 2.06.94-2.06 2.06-.94-2.06-.94-.94-2.06-.94 2.06-2.06.94zm-11 1L8.5 8.5l.94-2.06 2.06-.94-2.06-.94L8.5 2.5l-.94 2.06-2.06.94zm10 10l.94 2.06.94-2.06 2.06-.94-2.06-.94-.94-2.06-.94 2.06-2.06.94z\"/><path d=\"M17.41 7.96l-1.37-1.37c-.4-.4-.92-.59-1.43-.59-.52 0-1.04.2-1.43.59L10.3 9.45l-7.72 7.72c-.78.78-.78 2.05 0 2.83L4 21.41c.39.39.9.59 1.41.59.51 0 1.02-.2 1.41-.59l7.78-7.78 2.81-2.81c.8-.78.8-2.07 0-2.86zM5.41 20L4 18.59l7.72-7.72 1.47 1.35L5.41 20z\"/>\n",
              "  </svg>\n",
              "      </button>\n",
              "      \n",
              "  <style>\n",
              "    .colab-df-container {\n",
              "      display:flex;\n",
              "      flex-wrap:wrap;\n",
              "      gap: 12px;\n",
              "    }\n",
              "\n",
              "    .colab-df-convert {\n",
              "      background-color: #E8F0FE;\n",
              "      border: none;\n",
              "      border-radius: 50%;\n",
              "      cursor: pointer;\n",
              "      display: none;\n",
              "      fill: #1967D2;\n",
              "      height: 32px;\n",
              "      padding: 0 0 0 0;\n",
              "      width: 32px;\n",
              "    }\n",
              "\n",
              "    .colab-df-convert:hover {\n",
              "      background-color: #E2EBFA;\n",
              "      box-shadow: 0px 1px 2px rgba(60, 64, 67, 0.3), 0px 1px 3px 1px rgba(60, 64, 67, 0.15);\n",
              "      fill: #174EA6;\n",
              "    }\n",
              "\n",
              "    [theme=dark] .colab-df-convert {\n",
              "      background-color: #3B4455;\n",
              "      fill: #D2E3FC;\n",
              "    }\n",
              "\n",
              "    [theme=dark] .colab-df-convert:hover {\n",
              "      background-color: #434B5C;\n",
              "      box-shadow: 0px 1px 3px 1px rgba(0, 0, 0, 0.15);\n",
              "      filter: drop-shadow(0px 1px 2px rgba(0, 0, 0, 0.3));\n",
              "      fill: #FFFFFF;\n",
              "    }\n",
              "  </style>\n",
              "\n",
              "      <script>\n",
              "        const buttonEl =\n",
              "          document.querySelector('#df-b5ef7239-2a06-4910-b790-3f47aed8ca03 button.colab-df-convert');\n",
              "        buttonEl.style.display =\n",
              "          google.colab.kernel.accessAllowed ? 'block' : 'none';\n",
              "\n",
              "        async function convertToInteractive(key) {\n",
              "          const element = document.querySelector('#df-b5ef7239-2a06-4910-b790-3f47aed8ca03');\n",
              "          const dataTable =\n",
              "            await google.colab.kernel.invokeFunction('convertToInteractive',\n",
              "                                                     [key], {});\n",
              "          if (!dataTable) return;\n",
              "\n",
              "          const docLinkHtml = 'Like what you see? Visit the ' +\n",
              "            '<a target=\"_blank\" href=https://colab.research.google.com/notebooks/data_table.ipynb>data table notebook</a>'\n",
              "            + ' to learn more about interactive tables.';\n",
              "          element.innerHTML = '';\n",
              "          dataTable['output_type'] = 'display_data';\n",
              "          await google.colab.output.renderOutput(dataTable, element);\n",
              "          const docLink = document.createElement('div');\n",
              "          docLink.innerHTML = docLinkHtml;\n",
              "          element.appendChild(docLink);\n",
              "        }\n",
              "      </script>\n",
              "    </div>\n",
              "  </div>\n",
              "  "
            ]
          },
          "metadata": {},
          "execution_count": 24
        }
      ]
    },
    {
      "cell_type": "code",
      "source": [
        "df.to_excel('copa_libertadores_resultados_2022.xlsx')"
      ],
      "metadata": {
        "id": "xsgbWDwv_sgE"
      },
      "execution_count": null,
      "outputs": []
    },
    {
      "cell_type": "markdown",
      "source": [
        "# Copa Sulamericana - 2022 - Resultados (Jogos que já aconteceram)"
      ],
      "metadata": {
        "id": "N-ao2FBy_VnH"
      }
    },
    {
      "cell_type": "code",
      "source": [
        "# Com o WebDrive a gente consegue a pedir a página (URL)\n",
        "wd_Chrome.get(\"https://www.flashscore.com.br/futebol/america-do-sul/copa-sul-americana/resultados/\")\n",
        "\n",
        "while True:\n",
        "  try:\n",
        "    botao_mais = wd_Chrome.find_element(By.XPATH, '//*[@id=\"live-table\"]/div[1]/div/div/a')\n",
        "    wd_Chrome.execute_script('arguments[0].click();', botao_mais)\n",
        "    time.sleep(5)\n",
        "  except:\n",
        "    break"
      ],
      "metadata": {
        "id": "U0Bw99xE_bbt"
      },
      "execution_count": null,
      "outputs": []
    },
    {
      "cell_type": "code",
      "source": [
        "# Pegando o ID dos Jogos\n",
        "id_jogos = []\n",
        "jogos = wd_Chrome.find_elements(By.CSS_SELECTOR,'div.event__match--static')\n",
        "\n",
        "for i in jogos:\n",
        "    id_jogos.append(i.get_attribute(\"id\"))\n",
        "\n",
        "# Exemplo de ID de um jogo: 'g_1_Gb7buXVt'    \n",
        "id_jogos = [i[4:] for i in id_jogos]\n",
        "\n",
        "jogo = {'Date':[],'Time':[],'Country':[],'League':[],'Home':[],'Away':[]}"
      ],
      "metadata": {
        "id": "kEpOjw3g_e_E"
      },
      "execution_count": null,
      "outputs": []
    },
    {
      "cell_type": "code",
      "source": [
        "for link in tqdm(id_jogos, total=len(id_jogos)):\n",
        "    wd_Chrome.get(f'https://www.flashscore.com.br/jogo/{link}/#/resumo-de-jogo')\n",
        "    \n",
        "    # Pegando as Informacoes Básicas do Jogo\n",
        "    try:\n",
        "        Date = wd_Chrome.find_element(By.CSS_SELECTOR,'div.duelParticipant__startTime').text.split(' ')[0]\n",
        "        Time = wd_Chrome.find_element(By.CSS_SELECTOR,'div.duelParticipant__startTime').text.split(' ')[1]\n",
        "        Country = wd_Chrome.find_element(By.CSS_SELECTOR,'span.tournamentHeader__country').text.split(':')[0]\n",
        "        League = wd_Chrome.find_element(By.CSS_SELECTOR,'span.tournamentHeader__country')\n",
        "        League = League.find_element(By.CSS_SELECTOR,'a').text\n",
        "        Home = wd_Chrome.find_element(By.CSS_SELECTOR,'div.duelParticipant__home')\n",
        "        Home = Home.find_element(By.CSS_SELECTOR,'div.participant__participantName').text\n",
        "        Away = wd_Chrome.find_element(By.CSS_SELECTOR,'div.duelParticipant__away')\n",
        "        Away = Away.find_element(By.CSS_SELECTOR,'div.participant__participantName').text          \n",
        "\n",
        "    except:\n",
        "        pass\n",
        "\n",
        "    print(Date,Time,Country,League,Home,Away) \n",
        "\n",
        "    jogo['Date'].append(Date)\n",
        "    jogo['Time'].append(Time)\n",
        "    jogo['Country'].append(Country)\n",
        "    jogo['League'].append(League)\n",
        "    jogo['Home'].append(Home)\n",
        "    jogo['Away'].append(Away)"
      ],
      "metadata": {
        "colab": {
          "base_uri": "https://localhost:8080/"
        },
        "id": "lleH8j3__giz",
        "outputId": "47459786-4a0c-4e07-ce29-30dd9a93b069"
      },
      "execution_count": null,
      "outputs": [
        {
          "output_type": "stream",
          "name": "stderr",
          "text": [
            "  1%|          | 1/157 [00:01<03:54,  1.50s/it]"
          ]
        },
        {
          "output_type": "stream",
          "name": "stdout",
          "text": [
            "01.10.2022 20:00 AMÉRICA DO SUL COPA SUL-AMERICANA - PLAYOFFS - FINAL São Paulo (Bra) Ind. del Valle (Ecu)\n"
          ]
        },
        {
          "output_type": "stream",
          "name": "stderr",
          "text": [
            "\r  1%|▏         | 2/157 [00:02<03:25,  1.33s/it]"
          ]
        },
        {
          "output_type": "stream",
          "name": "stdout",
          "text": [
            "09.09.2022 00:30 AMÉRICA DO SUL COPA SUL-AMERICANA - PLAYOFFS - SEMIFINAIS São Paulo (Bra) Atlético-GO (Bra)\n"
          ]
        },
        {
          "output_type": "stream",
          "name": "stderr",
          "text": [
            "\r  2%|▏         | 3/157 [00:05<05:30,  2.14s/it]"
          ]
        },
        {
          "output_type": "stream",
          "name": "stdout",
          "text": [
            "08.09.2022 00:30 AMÉRICA DO SUL COPA SUL-AMERICANA - PLAYOFFS - SEMIFINAIS Melgar (Per) Ind. del Valle (Ecu)\n"
          ]
        },
        {
          "output_type": "stream",
          "name": "stderr",
          "text": [
            "\r  3%|▎         | 4/157 [00:07<04:35,  1.80s/it]"
          ]
        },
        {
          "output_type": "stream",
          "name": "stdout",
          "text": [
            "02.09.2022 00:30 AMÉRICA DO SUL COPA SUL-AMERICANA - PLAYOFFS - SEMIFINAIS Atlético-GO (Bra) São Paulo (Bra)\n"
          ]
        },
        {
          "output_type": "stream",
          "name": "stderr",
          "text": [
            "\r  3%|▎         | 5/157 [00:08<04:04,  1.61s/it]"
          ]
        },
        {
          "output_type": "stream",
          "name": "stdout",
          "text": [
            "01.09.2022 00:30 AMÉRICA DO SUL COPA SUL-AMERICANA - PLAYOFFS - SEMIFINAIS Ind. del Valle (Ecu) Melgar (Per)\n"
          ]
        },
        {
          "output_type": "stream",
          "name": "stderr",
          "text": [
            "\r  4%|▍         | 6/157 [00:09<03:53,  1.54s/it]"
          ]
        },
        {
          "output_type": "stream",
          "name": "stdout",
          "text": [
            "11.08.2022 22:15 AMÉRICA DO SUL COPA SUL-AMERICANA - PLAYOFFS - QUARTAS DE FINAL Internacional (Bra) Melgar (Per)\n"
          ]
        },
        {
          "output_type": "stream",
          "name": "stderr",
          "text": [
            "\r  4%|▍         | 7/157 [00:11<04:15,  1.70s/it]"
          ]
        },
        {
          "output_type": "stream",
          "name": "stdout",
          "text": [
            "10.08.2022 22:15 AMÉRICA DO SUL COPA SUL-AMERICANA - PLAYOFFS - QUARTAS DE FINAL Ceará (Bra) São Paulo (Bra)\n"
          ]
        },
        {
          "output_type": "stream",
          "name": "stderr",
          "text": [
            "\r  5%|▌         | 8/157 [00:13<04:22,  1.76s/it]"
          ]
        },
        {
          "output_type": "stream",
          "name": "stdout",
          "text": [
            "10.08.2022 00:30 AMÉRICA DO SUL COPA SUL-AMERICANA - PLAYOFFS - QUARTAS DE FINAL Ind. del Valle (Ecu) Dep. Tachira (Ven)\n"
          ]
        },
        {
          "output_type": "stream",
          "name": "stderr",
          "text": [
            "\r  6%|▌         | 9/157 [00:15<04:38,  1.88s/it]"
          ]
        },
        {
          "output_type": "stream",
          "name": "stdout",
          "text": [
            "09.08.2022 22:15 AMÉRICA DO SUL COPA SUL-AMERICANA - PLAYOFFS - QUARTAS DE FINAL Atlético-GO (Bra) Nacional (Uru)\n"
          ]
        },
        {
          "output_type": "stream",
          "name": "stderr",
          "text": [
            "\r  6%|▋         | 10/157 [00:17<04:06,  1.68s/it]"
          ]
        },
        {
          "output_type": "stream",
          "name": "stdout",
          "text": [
            "04.08.2022 22:15 AMÉRICA DO SUL COPA SUL-AMERICANA - PLAYOFFS - QUARTAS DE FINAL Melgar (Per) Internacional (Bra)\n"
          ]
        },
        {
          "output_type": "stream",
          "name": "stderr",
          "text": [
            "\r  7%|▋         | 11/157 [00:19<04:16,  1.76s/it]"
          ]
        },
        {
          "output_type": "stream",
          "name": "stdout",
          "text": [
            "03.08.2022 22:15 AMÉRICA DO SUL COPA SUL-AMERICANA - PLAYOFFS - QUARTAS DE FINAL São Paulo (Bra) Ceará (Bra)\n"
          ]
        },
        {
          "output_type": "stream",
          "name": "stderr",
          "text": [
            "\r  8%|▊         | 12/157 [00:20<04:19,  1.79s/it]"
          ]
        },
        {
          "output_type": "stream",
          "name": "stdout",
          "text": [
            "03.08.2022 00:30 AMÉRICA DO SUL COPA SUL-AMERICANA - PLAYOFFS - QUARTAS DE FINAL Dep. Tachira (Ven) Ind. del Valle (Ecu)\n"
          ]
        },
        {
          "output_type": "stream",
          "name": "stderr",
          "text": [
            "\r  8%|▊         | 13/157 [00:22<03:51,  1.61s/it]"
          ]
        },
        {
          "output_type": "stream",
          "name": "stdout",
          "text": [
            "02.08.2022 22:15 AMÉRICA DO SUL COPA SUL-AMERICANA - PLAYOFFS - QUARTAS DE FINAL Nacional (Uru) Atlético-GO (Bra)\n"
          ]
        },
        {
          "output_type": "stream",
          "name": "stderr",
          "text": [
            "\r  9%|▉         | 14/157 [00:24<04:06,  1.72s/it]"
          ]
        },
        {
          "output_type": "stream",
          "name": "stdout",
          "text": [
            "08.07.2022 00:30 AMÉRICA DO SUL COPA SUL-AMERICANA - PLAYOFFS - OITAVAS DE FINAL Atlético-GO (Bra) Olimpia Asuncion (Par)\n"
          ]
        },
        {
          "output_type": "stream",
          "name": "stderr",
          "text": [
            "\r 10%|▉         | 15/157 [00:25<03:47,  1.60s/it]"
          ]
        },
        {
          "output_type": "stream",
          "name": "stdout",
          "text": [
            "08.07.2022 00:30 AMÉRICA DO SUL COPA SUL-AMERICANA - PLAYOFFS - OITAVAS DE FINAL São Paulo (Bra) U. Católica (Chi)\n"
          ]
        },
        {
          "output_type": "stream",
          "name": "stderr",
          "text": [
            "\r 10%|█         | 16/157 [00:27<03:53,  1.66s/it]"
          ]
        },
        {
          "output_type": "stream",
          "name": "stdout",
          "text": [
            "07.07.2022 22:15 AMÉRICA DO SUL COPA SUL-AMERICANA - PLAYOFFS - OITAVAS DE FINAL Lanús (Arg) Ind. del Valle (Ecu)\n"
          ]
        },
        {
          "output_type": "stream",
          "name": "stderr",
          "text": [
            "\r 11%|█         | 17/157 [00:28<03:58,  1.70s/it]"
          ]
        },
        {
          "output_type": "stream",
          "name": "stdout",
          "text": [
            "07.07.2022 00:30 AMÉRICA DO SUL COPA SUL-AMERICANA - PLAYOFFS - OITAVAS DE FINAL Melgar (Per) Dep. Cali (Col)\n"
          ]
        },
        {
          "output_type": "stream",
          "name": "stderr",
          "text": [
            "\r 11%|█▏        | 18/157 [00:30<04:08,  1.79s/it]"
          ]
        },
        {
          "output_type": "stream",
          "name": "stdout",
          "text": [
            "07.07.2022 00:30 AMÉRICA DO SUL COPA SUL-AMERICANA - PLAYOFFS - OITAVAS DE FINAL Santos (Bra) Dep. Tachira (Ven)\n"
          ]
        },
        {
          "output_type": "stream",
          "name": "stderr",
          "text": [
            "\r 12%|█▏        | 19/157 [00:32<04:10,  1.82s/it]"
          ]
        },
        {
          "output_type": "stream",
          "name": "stdout",
          "text": [
            "06.07.2022 22:15 AMÉRICA DO SUL COPA SUL-AMERICANA - PLAYOFFS - OITAVAS DE FINAL Ceará (Bra) The Strongest (Bol)\n"
          ]
        },
        {
          "output_type": "stream",
          "name": "stderr",
          "text": [
            "\r 13%|█▎        | 20/157 [00:34<03:42,  1.63s/it]"
          ]
        },
        {
          "output_type": "stream",
          "name": "stdout",
          "text": [
            "06.07.2022 00:30 AMÉRICA DO SUL COPA SUL-AMERICANA - PLAYOFFS - OITAVAS DE FINAL Internacional (Bra) Colo Colo (Chi)\n"
          ]
        },
        {
          "output_type": "stream",
          "name": "stderr",
          "text": [
            "\r 13%|█▎        | 21/157 [00:35<03:46,  1.67s/it]"
          ]
        },
        {
          "output_type": "stream",
          "name": "stdout",
          "text": [
            "05.07.2022 22:15 AMÉRICA DO SUL COPA SUL-AMERICANA - PLAYOFFS - OITAVAS DE FINAL Union Santa Fe (Arg) Nacional (Uru)\n"
          ]
        },
        {
          "output_type": "stream",
          "name": "stderr",
          "text": [
            "\r 14%|█▍        | 22/157 [00:37<03:38,  1.62s/it]"
          ]
        },
        {
          "output_type": "stream",
          "name": "stdout",
          "text": [
            "01.07.2022 00:30 AMÉRICA DO SUL COPA SUL-AMERICANA - PLAYOFFS - OITAVAS DE FINAL Olimpia Asuncion (Par) Atlético-GO (Bra)\n"
          ]
        },
        {
          "output_type": "stream",
          "name": "stderr",
          "text": [
            "\r 15%|█▍        | 23/157 [00:39<04:08,  1.85s/it]"
          ]
        },
        {
          "output_type": "stream",
          "name": "stdout",
          "text": [
            "01.07.2022 00:30 AMÉRICA DO SUL COPA SUL-AMERICANA - PLAYOFFS - OITAVAS DE FINAL U. Católica (Chi) São Paulo (Bra)\n"
          ]
        },
        {
          "output_type": "stream",
          "name": "stderr",
          "text": [
            "\r 15%|█▌        | 24/157 [00:41<04:11,  1.89s/it]"
          ]
        },
        {
          "output_type": "stream",
          "name": "stdout",
          "text": [
            "30.06.2022 22:15 AMÉRICA DO SUL COPA SUL-AMERICANA - PLAYOFFS - OITAVAS DE FINAL Ind. del Valle (Ecu) Lanús (Arg)\n"
          ]
        },
        {
          "output_type": "stream",
          "name": "stderr",
          "text": [
            "\r 16%|█▌        | 25/157 [00:43<04:16,  1.94s/it]"
          ]
        },
        {
          "output_type": "stream",
          "name": "stdout",
          "text": [
            "30.06.2022 00:30 AMÉRICA DO SUL COPA SUL-AMERICANA - PLAYOFFS - OITAVAS DE FINAL Dep. Cali (Col) Melgar (Per)\n"
          ]
        },
        {
          "output_type": "stream",
          "name": "stderr",
          "text": [
            "\r 17%|█▋        | 26/157 [00:46<04:38,  2.12s/it]"
          ]
        },
        {
          "output_type": "stream",
          "name": "stdout",
          "text": [
            "30.06.2022 00:30 AMÉRICA DO SUL COPA SUL-AMERICANA - PLAYOFFS - OITAVAS DE FINAL Dep. Tachira (Ven) Santos (Bra)\n"
          ]
        },
        {
          "output_type": "stream",
          "name": "stderr",
          "text": [
            "\r 17%|█▋        | 27/157 [00:48<04:42,  2.18s/it]"
          ]
        },
        {
          "output_type": "stream",
          "name": "stdout",
          "text": [
            "29.06.2022 22:15 AMÉRICA DO SUL COPA SUL-AMERICANA - PLAYOFFS - OITAVAS DE FINAL The Strongest (Bol) Ceará (Bra)\n"
          ]
        },
        {
          "output_type": "stream",
          "name": "stderr",
          "text": [
            "\r 18%|█▊        | 28/157 [00:51<05:00,  2.33s/it]"
          ]
        },
        {
          "output_type": "stream",
          "name": "stdout",
          "text": [
            "29.06.2022 00:30 AMÉRICA DO SUL COPA SUL-AMERICANA - PLAYOFFS - OITAVAS DE FINAL Colo Colo (Chi) Internacional (Bra)\n"
          ]
        },
        {
          "output_type": "stream",
          "name": "stderr",
          "text": [
            "\r 18%|█▊        | 29/157 [00:54<05:29,  2.57s/it]"
          ]
        },
        {
          "output_type": "stream",
          "name": "stdout",
          "text": [
            "28.06.2022 22:15 AMÉRICA DO SUL COPA SUL-AMERICANA - PLAYOFFS - OITAVAS DE FINAL Nacional (Uru) Union Santa Fe (Arg)\n"
          ]
        },
        {
          "output_type": "stream",
          "name": "stderr",
          "text": [
            "\r 19%|█▉        | 30/157 [00:57<05:41,  2.69s/it]"
          ]
        },
        {
          "output_type": "stream",
          "name": "stdout",
          "text": [
            "27.05.2022 00:30 AMÉRICA DO SUL COPA SUL-AMERICANA - FASE DE GRUPOS - RODADA 6 Junior (Col) Union Santa Fe (Arg)\n"
          ]
        },
        {
          "output_type": "stream",
          "name": "stderr",
          "text": [
            "\r 20%|█▉        | 31/157 [00:59<05:24,  2.58s/it]"
          ]
        },
        {
          "output_type": "stream",
          "name": "stdout",
          "text": [
            "27.05.2022 00:30 AMÉRICA DO SUL COPA SUL-AMERICANA - FASE DE GRUPOS - RODADA 6 Oriente Petrolero (Bol) Fluminense (Bra)\n"
          ]
        },
        {
          "output_type": "stream",
          "name": "stderr",
          "text": [
            "\r 20%|██        | 32/157 [01:02<05:25,  2.61s/it]"
          ]
        },
        {
          "output_type": "stream",
          "name": "stdout",
          "text": [
            "26.05.2022 22:15 AMÉRICA DO SUL COPA SUL-AMERICANA - FASE DE GRUPOS - RODADA 6 Melgar (Per) Cuiabá (Bra)\n"
          ]
        },
        {
          "output_type": "stream",
          "name": "stderr",
          "text": [
            "\r 21%|██        | 33/157 [01:05<05:30,  2.67s/it]"
          ]
        },
        {
          "output_type": "stream",
          "name": "stdout",
          "text": [
            "26.05.2022 22:15 AMÉRICA DO SUL COPA SUL-AMERICANA - FASE DE GRUPOS - RODADA 6 Racing Club (Arg) River Plate (Uru)\n"
          ]
        },
        {
          "output_type": "stream",
          "name": "stderr",
          "text": [
            "\r 22%|██▏       | 34/157 [01:08<05:47,  2.82s/it]"
          ]
        },
        {
          "output_type": "stream",
          "name": "stdout",
          "text": [
            "26.05.2022 00:30 AMÉRICA DO SUL COPA SUL-AMERICANA - FASE DE GRUPOS - RODADA 6 Independiente (Arg) Ceará (Bra)\n"
          ]
        },
        {
          "output_type": "stream",
          "name": "stderr",
          "text": [
            "\r 22%|██▏       | 35/157 [01:10<05:08,  2.53s/it]"
          ]
        },
        {
          "output_type": "stream",
          "name": "stdout",
          "text": [
            "26.05.2022 00:30 AMÉRICA DO SUL COPA SUL-AMERICANA - FASE DE GRUPOS - RODADA 6 La Guaira (Ven) General Caballero JLM (Par)\n"
          ]
        },
        {
          "output_type": "stream",
          "name": "stderr",
          "text": [
            "\r 23%|██▎       | 36/157 [01:11<04:38,  2.30s/it]"
          ]
        },
        {
          "output_type": "stream",
          "name": "stdout",
          "text": [
            "25.05.2022 22:15 AMÉRICA DO SUL COPA SUL-AMERICANA - FASE DE GRUPOS - RODADA 6 J. Wilstermann (Bol) Everton (Chi)\n"
          ]
        },
        {
          "output_type": "stream",
          "name": "stderr",
          "text": [
            "\r 24%|██▎       | 37/157 [01:13<04:17,  2.14s/it]"
          ]
        },
        {
          "output_type": "stream",
          "name": "stdout",
          "text": [
            "25.05.2022 22:15 AMÉRICA DO SUL COPA SUL-AMERICANA - FASE DE GRUPOS - RODADA 6 Lanús (Arg) Metropolitanos (Ven)\n"
          ]
        },
        {
          "output_type": "stream",
          "name": "stderr",
          "text": [
            "\r 24%|██▍       | 38/157 [01:15<04:06,  2.07s/it]"
          ]
        },
        {
          "output_type": "stream",
          "name": "stdout",
          "text": [
            "25.05.2022 22:15 AMÉRICA DO SUL COPA SUL-AMERICANA - FASE DE GRUPOS - RODADA 6 São Paulo (Bra) Ayacucho (Per)\n"
          ]
        },
        {
          "output_type": "stream",
          "name": "stderr",
          "text": [
            "\r 25%|██▍       | 39/157 [01:17<03:53,  1.98s/it]"
          ]
        },
        {
          "output_type": "stream",
          "name": "stdout",
          "text": [
            "25.05.2022 22:15 AMÉRICA DO SUL COPA SUL-AMERICANA - FASE DE GRUPOS - RODADA 6 Wanderers (Uru) Barcelona SC (Ecu)\n"
          ]
        },
        {
          "output_type": "stream",
          "name": "stderr",
          "text": [
            "\r 25%|██▌       | 40/157 [01:19<03:43,  1.91s/it]"
          ]
        },
        {
          "output_type": "stream",
          "name": "stdout",
          "text": [
            "25.05.2022 00:30 AMÉRICA DO SUL COPA SUL-AMERICANA - FASE DE GRUPOS - RODADA 6 Defensa y Justicia (Arg) Antofagasta (Chi)\n"
          ]
        },
        {
          "output_type": "stream",
          "name": "stderr",
          "text": [
            "\r 26%|██▌       | 41/157 [01:20<03:34,  1.85s/it]"
          ]
        },
        {
          "output_type": "stream",
          "name": "stdout",
          "text": [
            "25.05.2022 00:30 AMÉRICA DO SUL COPA SUL-AMERICANA - FASE DE GRUPOS - RODADA 6 Ind. Medellín (Col) Guairena FC (Par)\n"
          ]
        },
        {
          "output_type": "stream",
          "name": "stderr",
          "text": [
            "\r 27%|██▋       | 42/157 [01:22<03:37,  1.89s/it]"
          ]
        },
        {
          "output_type": "stream",
          "name": "stdout",
          "text": [
            "25.05.2022 00:30 AMÉRICA DO SUL COPA SUL-AMERICANA - FASE DE GRUPOS - RODADA 6 Internacional (Bra) Nueve de Octubre (Ecu)\n"
          ]
        },
        {
          "output_type": "stream",
          "name": "stderr",
          "text": [
            "\r 27%|██▋       | 43/157 [01:24<03:29,  1.84s/it]"
          ]
        },
        {
          "output_type": "stream",
          "name": "stdout",
          "text": [
            "25.05.2022 00:30 AMÉRICA DO SUL COPA SUL-AMERICANA - FASE DE GRUPOS - RODADA 6 LDU Quito (Ecu) Atlético-GO (Bra)\n"
          ]
        },
        {
          "output_type": "stream",
          "name": "stderr",
          "text": [
            "\r 28%|██▊       | 44/157 [01:26<03:23,  1.80s/it]"
          ]
        },
        {
          "output_type": "stream",
          "name": "stdout",
          "text": [
            "24.05.2022 22:15 AMÉRICA DO SUL COPA SUL-AMERICANA - FASE DE GRUPOS - RODADA 6 Santos (Bra) Banfield (Arg)\n"
          ]
        },
        {
          "output_type": "stream",
          "name": "stderr",
          "text": [
            "\r 29%|██▊       | 45/157 [01:27<03:02,  1.63s/it]"
          ]
        },
        {
          "output_type": "stream",
          "name": "stdout",
          "text": [
            "24.05.2022 22:15 AMÉRICA DO SUL COPA SUL-AMERICANA - FASE DE GRUPOS - RODADA 6 Union La Calera (Chi) U. Catolica (Ecu)\n"
          ]
        },
        {
          "output_type": "stream",
          "name": "stderr",
          "text": [
            "\r 29%|██▉       | 46/157 [01:29<03:10,  1.72s/it]"
          ]
        },
        {
          "output_type": "stream",
          "name": "stdout",
          "text": [
            "20.05.2022 00:30 AMÉRICA DO SUL COPA SUL-AMERICANA - FASE DE GRUPOS - RODADA 5 Lanús (Arg) Wanderers (Uru)\n"
          ]
        },
        {
          "output_type": "stream",
          "name": "stderr",
          "text": [
            "\r 30%|██▉       | 47/157 [01:31<03:13,  1.76s/it]"
          ]
        },
        {
          "output_type": "stream",
          "name": "stdout",
          "text": [
            "20.05.2022 00:30 AMÉRICA DO SUL COPA SUL-AMERICANA - FASE DE GRUPOS - RODADA 5 Metropolitanos (Ven) Barcelona SC (Ecu)\n"
          ]
        },
        {
          "output_type": "stream",
          "name": "stderr",
          "text": [
            "\r 31%|███       | 48/157 [01:33<03:11,  1.76s/it]"
          ]
        },
        {
          "output_type": "stream",
          "name": "stdout",
          "text": [
            "20.05.2022 00:30 AMÉRICA DO SUL COPA SUL-AMERICANA - FASE DE GRUPOS - RODADA 5 São Paulo (Bra) J. Wilstermann (Bol)\n"
          ]
        },
        {
          "output_type": "stream",
          "name": "stderr",
          "text": [
            "\r 31%|███       | 49/157 [01:34<03:13,  1.79s/it]"
          ]
        },
        {
          "output_type": "stream",
          "name": "stdout",
          "text": [
            "19.05.2022 22:15 AMÉRICA DO SUL COPA SUL-AMERICANA - FASE DE GRUPOS - RODADA 5 Independiente (Arg) La Guaira (Ven)\n"
          ]
        },
        {
          "output_type": "stream",
          "name": "stderr",
          "text": [
            "\r 32%|███▏      | 50/157 [01:36<03:15,  1.83s/it]"
          ]
        },
        {
          "output_type": "stream",
          "name": "stdout",
          "text": [
            "19.05.2022 22:15 AMÉRICA DO SUL COPA SUL-AMERICANA - FASE DE GRUPOS - RODADA 5 Union Santa Fe (Arg) Fluminense (Bra)\n"
          ]
        },
        {
          "output_type": "stream",
          "name": "stderr",
          "text": [
            "\r 32%|███▏      | 51/157 [01:38<03:13,  1.82s/it]"
          ]
        },
        {
          "output_type": "stream",
          "name": "stdout",
          "text": [
            "19.05.2022 00:30 AMÉRICA DO SUL COPA SUL-AMERICANA - FASE DE GRUPOS - RODADA 5 LDU Quito (Ecu) Defensa y Justicia (Arg)\n"
          ]
        },
        {
          "output_type": "stream",
          "name": "stderr",
          "text": [
            "\r 33%|███▎      | 52/157 [01:40<03:11,  1.82s/it]"
          ]
        },
        {
          "output_type": "stream",
          "name": "stdout",
          "text": [
            "19.05.2022 00:30 AMÉRICA DO SUL COPA SUL-AMERICANA - FASE DE GRUPOS - RODADA 5 Racing Club (Arg) Melgar (Per)\n"
          ]
        },
        {
          "output_type": "stream",
          "name": "stderr",
          "text": [
            "\r 34%|███▍      | 53/157 [01:42<03:07,  1.80s/it]"
          ]
        },
        {
          "output_type": "stream",
          "name": "stdout",
          "text": [
            "19.05.2022 00:30 AMÉRICA DO SUL COPA SUL-AMERICANA - FASE DE GRUPOS - RODADA 5 Santos (Bra) Union La Calera (Chi)\n"
          ]
        },
        {
          "output_type": "stream",
          "name": "stderr",
          "text": [
            "\r 34%|███▍      | 54/157 [01:44<03:09,  1.84s/it]"
          ]
        },
        {
          "output_type": "stream",
          "name": "stdout",
          "text": [
            "18.05.2022 22:15 AMÉRICA DO SUL COPA SUL-AMERICANA - FASE DE GRUPOS - RODADA 5 Ayacucho (Per) Everton (Chi)\n"
          ]
        },
        {
          "output_type": "stream",
          "name": "stderr",
          "text": [
            "\r 35%|███▌      | 55/157 [01:46<03:11,  1.88s/it]"
          ]
        },
        {
          "output_type": "stream",
          "name": "stdout",
          "text": [
            "18.05.2022 22:15 AMÉRICA DO SUL COPA SUL-AMERICANA - FASE DE GRUPOS - RODADA 5 River Plate (Uru) Cuiabá (Bra)\n"
          ]
        },
        {
          "output_type": "stream",
          "name": "stderr",
          "text": [
            "\r 36%|███▌      | 56/157 [01:47<03:10,  1.89s/it]"
          ]
        },
        {
          "output_type": "stream",
          "name": "stdout",
          "text": [
            "18.05.2022 00:30 AMÉRICA DO SUL COPA SUL-AMERICANA - FASE DE GRUPOS - RODADA 5 Atlético-GO (Bra) Antofagasta (Chi)\n"
          ]
        },
        {
          "output_type": "stream",
          "name": "stderr",
          "text": [
            "\r 36%|███▋      | 57/157 [01:49<03:04,  1.84s/it]"
          ]
        },
        {
          "output_type": "stream",
          "name": "stdout",
          "text": [
            "18.05.2022 00:30 AMÉRICA DO SUL COPA SUL-AMERICANA - FASE DE GRUPOS - RODADA 5 Junior (Col) Oriente Petrolero (Bol)\n"
          ]
        },
        {
          "output_type": "stream",
          "name": "stderr",
          "text": [
            "\r 37%|███▋      | 58/157 [01:51<03:03,  1.85s/it]"
          ]
        },
        {
          "output_type": "stream",
          "name": "stdout",
          "text": [
            "18.05.2022 00:30 AMÉRICA DO SUL COPA SUL-AMERICANA - FASE DE GRUPOS - RODADA 5 Nueve de Octubre (Ecu) Guairena FC (Par)\n"
          ]
        },
        {
          "output_type": "stream",
          "name": "stderr",
          "text": [
            "\r 38%|███▊      | 59/157 [01:52<02:44,  1.67s/it]"
          ]
        },
        {
          "output_type": "stream",
          "name": "stdout",
          "text": [
            "17.05.2022 22:15 AMÉRICA DO SUL COPA SUL-AMERICANA - FASE DE GRUPOS - RODADA 5 Banfield (Arg) U. Catolica (Ecu)\n"
          ]
        },
        {
          "output_type": "stream",
          "name": "stderr",
          "text": [
            "\r 38%|███▊      | 60/157 [01:54<02:48,  1.73s/it]"
          ]
        },
        {
          "output_type": "stream",
          "name": "stdout",
          "text": [
            "17.05.2022 22:15 AMÉRICA DO SUL COPA SUL-AMERICANA - FASE DE GRUPOS - RODADA 5 Ceará (Bra) General Caballero JLM (Par)\n"
          ]
        },
        {
          "output_type": "stream",
          "name": "stderr",
          "text": [
            "\r 39%|███▉      | 61/157 [01:56<02:47,  1.74s/it]"
          ]
        },
        {
          "output_type": "stream",
          "name": "stdout",
          "text": [
            "17.05.2022 22:15 AMÉRICA DO SUL COPA SUL-AMERICANA - FASE DE GRUPOS - RODADA 5 Internacional (Bra) Ind. Medellín (Col)\n"
          ]
        },
        {
          "output_type": "stream",
          "name": "stderr",
          "text": [
            "\r 39%|███▉      | 62/157 [01:58<02:51,  1.80s/it]"
          ]
        },
        {
          "output_type": "stream",
          "name": "stdout",
          "text": [
            "06.05.2022 00:30 AMÉRICA DO SUL COPA SUL-AMERICANA - FASE DE GRUPOS - RODADA 4 Ayacucho (Per) J. Wilstermann (Bol)\n"
          ]
        },
        {
          "output_type": "stream",
          "name": "stderr",
          "text": [
            "\r 40%|████      | 63/157 [02:00<02:50,  1.81s/it]"
          ]
        },
        {
          "output_type": "stream",
          "name": "stdout",
          "text": [
            "06.05.2022 00:30 AMÉRICA DO SUL COPA SUL-AMERICANA - FASE DE GRUPOS - RODADA 4 Banfield (Arg) Union La Calera (Chi)\n"
          ]
        },
        {
          "output_type": "stream",
          "name": "stderr",
          "text": [
            "\r 41%|████      | 64/157 [02:01<02:43,  1.76s/it]"
          ]
        },
        {
          "output_type": "stream",
          "name": "stdout",
          "text": [
            "06.05.2022 00:30 AMÉRICA DO SUL COPA SUL-AMERICANA - FASE DE GRUPOS - RODADA 4 U. Catolica (Ecu) Santos (Bra)\n"
          ]
        },
        {
          "output_type": "stream",
          "name": "stderr",
          "text": [
            "\r 41%|████▏     | 65/157 [02:03<02:41,  1.75s/it]"
          ]
        },
        {
          "output_type": "stream",
          "name": "stdout",
          "text": [
            "05.05.2022 22:15 AMÉRICA DO SUL COPA SUL-AMERICANA - FASE DE GRUPOS - RODADA 4 Everton (Chi) São Paulo (Bra)\n"
          ]
        },
        {
          "output_type": "stream",
          "name": "stderr",
          "text": [
            "\r 42%|████▏     | 66/157 [02:05<02:45,  1.81s/it]"
          ]
        },
        {
          "output_type": "stream",
          "name": "stdout",
          "text": [
            "05.05.2022 22:15 AMÉRICA DO SUL COPA SUL-AMERICANA - FASE DE GRUPOS - RODADA 4 Guairena FC (Par) Internacional (Bra)\n"
          ]
        },
        {
          "output_type": "stream",
          "name": "stderr",
          "text": [
            "\r 43%|████▎     | 67/157 [02:07<02:46,  1.85s/it]"
          ]
        },
        {
          "output_type": "stream",
          "name": "stdout",
          "text": [
            "05.05.2022 22:15 AMÉRICA DO SUL COPA SUL-AMERICANA - FASE DE GRUPOS - RODADA 4 Union Santa Fe (Arg) Oriente Petrolero (Bol)\n"
          ]
        },
        {
          "output_type": "stream",
          "name": "stderr",
          "text": [
            "\r 43%|████▎     | 68/157 [02:09<02:40,  1.81s/it]"
          ]
        },
        {
          "output_type": "stream",
          "name": "stdout",
          "text": [
            "05.05.2022 00:30 AMÉRICA DO SUL COPA SUL-AMERICANA - FASE DE GRUPOS - RODADA 4 Barcelona SC (Ecu) Lanús (Arg)\n"
          ]
        },
        {
          "output_type": "stream",
          "name": "stderr",
          "text": [
            "\r 44%|████▍     | 69/157 [02:11<02:38,  1.80s/it]"
          ]
        },
        {
          "output_type": "stream",
          "name": "stdout",
          "text": [
            "05.05.2022 00:30 AMÉRICA DO SUL COPA SUL-AMERICANA - FASE DE GRUPOS - RODADA 4 Fluminense (Bra) Junior (Col)\n"
          ]
        },
        {
          "output_type": "stream",
          "name": "stderr",
          "text": [
            "\r 45%|████▍     | 70/157 [02:13<02:44,  1.89s/it]"
          ]
        },
        {
          "output_type": "stream",
          "name": "stdout",
          "text": [
            "04.05.2022 22:15 AMÉRICA DO SUL COPA SUL-AMERICANA - FASE DE GRUPOS - RODADA 4 Antofagasta (Chi) LDU Quito (Ecu)\n"
          ]
        },
        {
          "output_type": "stream",
          "name": "stderr",
          "text": [
            "\r 45%|████▌     | 71/157 [02:14<02:39,  1.86s/it]"
          ]
        },
        {
          "output_type": "stream",
          "name": "stdout",
          "text": [
            "04.05.2022 22:15 AMÉRICA DO SUL COPA SUL-AMERICANA - FASE DE GRUPOS - RODADA 4 Atlético-GO (Bra) Defensa y Justicia (Arg)\n"
          ]
        },
        {
          "output_type": "stream",
          "name": "stderr",
          "text": [
            "\r 46%|████▌     | 72/157 [02:16<02:35,  1.83s/it]"
          ]
        },
        {
          "output_type": "stream",
          "name": "stdout",
          "text": [
            "04.05.2022 22:15 AMÉRICA DO SUL COPA SUL-AMERICANA - FASE DE GRUPOS - RODADA 4 Metropolitanos (Ven) Wanderers (Uru)\n"
          ]
        },
        {
          "output_type": "stream",
          "name": "stderr",
          "text": [
            "\r 46%|████▋     | 73/157 [02:18<02:33,  1.82s/it]"
          ]
        },
        {
          "output_type": "stream",
          "name": "stdout",
          "text": [
            "04.05.2022 00:30 AMÉRICA DO SUL COPA SUL-AMERICANA - FASE DE GRUPOS - RODADA 4 Ceará (Bra) La Guaira (Ven)\n"
          ]
        },
        {
          "output_type": "stream",
          "name": "stderr",
          "text": [
            "\r 47%|████▋     | 74/157 [02:20<02:34,  1.86s/it]"
          ]
        },
        {
          "output_type": "stream",
          "name": "stdout",
          "text": [
            "04.05.2022 00:30 AMÉRICA DO SUL COPA SUL-AMERICANA - FASE DE GRUPOS - RODADA 4 General Caballero JLM (Par) Independiente (Arg)\n"
          ]
        },
        {
          "output_type": "stream",
          "name": "stderr",
          "text": [
            "\r 48%|████▊     | 75/157 [02:22<02:30,  1.83s/it]"
          ]
        },
        {
          "output_type": "stream",
          "name": "stdout",
          "text": [
            "04.05.2022 00:30 AMÉRICA DO SUL COPA SUL-AMERICANA - FASE DE GRUPOS - RODADA 4 Nueve de Octubre (Ecu) Ind. Medellín (Col)\n"
          ]
        },
        {
          "output_type": "stream",
          "name": "stderr",
          "text": [
            "\r 48%|████▊     | 76/157 [02:23<02:12,  1.63s/it]"
          ]
        },
        {
          "output_type": "stream",
          "name": "stdout",
          "text": [
            "03.05.2022 22:15 AMÉRICA DO SUL COPA SUL-AMERICANA - FASE DE GRUPOS - RODADA 4 Cuiabá (Bra) Racing Club (Arg)\n"
          ]
        },
        {
          "output_type": "stream",
          "name": "stderr",
          "text": [
            "\r 49%|████▉     | 77/157 [02:24<02:01,  1.52s/it]"
          ]
        },
        {
          "output_type": "stream",
          "name": "stdout",
          "text": [
            "03.05.2022 22:15 AMÉRICA DO SUL COPA SUL-AMERICANA - FASE DE GRUPOS - RODADA 4 River Plate (Uru) Melgar (Per)\n"
          ]
        },
        {
          "output_type": "stream",
          "name": "stderr",
          "text": [
            "\r 50%|████▉     | 78/157 [02:26<01:58,  1.50s/it]"
          ]
        },
        {
          "output_type": "stream",
          "name": "stdout",
          "text": [
            "29.04.2022 00:30 AMÉRICA DO SUL COPA SUL-AMERICANA - FASE DE GRUPOS - RODADA 3 Barcelona SC (Ecu) Metropolitanos (Ven)\n"
          ]
        },
        {
          "output_type": "stream",
          "name": "stderr",
          "text": [
            "\r 50%|█████     | 79/157 [02:28<02:18,  1.77s/it]"
          ]
        },
        {
          "output_type": "stream",
          "name": "stdout",
          "text": [
            "29.04.2022 00:30 AMÉRICA DO SUL COPA SUL-AMERICANA - FASE DE GRUPOS - RODADA 3 Oriente Petrolero (Bol) Junior (Col)\n"
          ]
        },
        {
          "output_type": "stream",
          "name": "stderr",
          "text": [
            "\r 51%|█████     | 80/157 [02:29<02:04,  1.62s/it]"
          ]
        },
        {
          "output_type": "stream",
          "name": "stdout",
          "text": [
            "29.04.2022 00:30 AMÉRICA DO SUL COPA SUL-AMERICANA - FASE DE GRUPOS - RODADA 3 Union La Calera (Chi) Santos (Bra)\n"
          ]
        },
        {
          "output_type": "stream",
          "name": "stderr",
          "text": [
            "\r 52%|█████▏    | 81/157 [02:31<02:04,  1.64s/it]"
          ]
        },
        {
          "output_type": "stream",
          "name": "stdout",
          "text": [
            "29.04.2022 00:30 AMÉRICA DO SUL COPA SUL-AMERICANA - FASE DE GRUPOS - RODADA 3 Wanderers (Uru) Lanús (Arg)\n"
          ]
        },
        {
          "output_type": "stream",
          "name": "stderr",
          "text": [
            "\r 52%|█████▏    | 82/157 [02:33<02:11,  1.75s/it]"
          ]
        },
        {
          "output_type": "stream",
          "name": "stdout",
          "text": [
            "28.04.2022 22:15 AMÉRICA DO SUL COPA SUL-AMERICANA - FASE DE GRUPOS - RODADA 3 Defensa y Justicia (Arg) LDU Quito (Ecu)\n"
          ]
        },
        {
          "output_type": "stream",
          "name": "stderr",
          "text": [
            "\r 53%|█████▎    | 83/157 [02:35<02:08,  1.74s/it]"
          ]
        },
        {
          "output_type": "stream",
          "name": "stdout",
          "text": [
            "28.04.2022 22:15 AMÉRICA DO SUL COPA SUL-AMERICANA - FASE DE GRUPOS - RODADA 3 J. Wilstermann (Bol) São Paulo (Bra)\n"
          ]
        },
        {
          "output_type": "stream",
          "name": "stderr",
          "text": [
            "\r 54%|█████▎    | 84/157 [02:36<02:08,  1.76s/it]"
          ]
        },
        {
          "output_type": "stream",
          "name": "stdout",
          "text": [
            "28.04.2022 00:30 AMÉRICA DO SUL COPA SUL-AMERICANA - FASE DE GRUPOS - RODADA 3 Antofagasta (Chi) Atlético-GO (Bra)\n"
          ]
        },
        {
          "output_type": "stream",
          "name": "stderr",
          "text": [
            "\r 54%|█████▍    | 85/157 [02:38<02:05,  1.75s/it]"
          ]
        },
        {
          "output_type": "stream",
          "name": "stdout",
          "text": [
            "28.04.2022 00:30 AMÉRICA DO SUL COPA SUL-AMERICANA - FASE DE GRUPOS - RODADA 3 U. Catolica (Ecu) Banfield (Arg)\n"
          ]
        },
        {
          "output_type": "stream",
          "name": "stderr",
          "text": [
            "\r 55%|█████▍    | 86/157 [02:40<02:07,  1.79s/it]"
          ]
        },
        {
          "output_type": "stream",
          "name": "stdout",
          "text": [
            "27.04.2022 22:15 AMÉRICA DO SUL COPA SUL-AMERICANA - FASE DE GRUPOS - RODADA 3 Cuiabá (Bra) River Plate (Uru)\n"
          ]
        },
        {
          "output_type": "stream",
          "name": "stderr",
          "text": [
            "\r 55%|█████▌    | 87/157 [02:42<02:04,  1.78s/it]"
          ]
        },
        {
          "output_type": "stream",
          "name": "stdout",
          "text": [
            "27.04.2022 22:15 AMÉRICA DO SUL COPA SUL-AMERICANA - FASE DE GRUPOS - RODADA 3 Guairena FC (Par) Nueve de Octubre (Ecu)\n"
          ]
        },
        {
          "output_type": "stream",
          "name": "stderr",
          "text": [
            "\r 56%|█████▌    | 88/157 [02:44<02:02,  1.78s/it]"
          ]
        },
        {
          "output_type": "stream",
          "name": "stdout",
          "text": [
            "27.04.2022 22:15 AMÉRICA DO SUL COPA SUL-AMERICANA - FASE DE GRUPOS - RODADA 3 Melgar (Per) Racing Club (Arg)\n"
          ]
        },
        {
          "output_type": "stream",
          "name": "stderr",
          "text": [
            "\r 57%|█████▋    | 89/157 [02:45<02:00,  1.78s/it]"
          ]
        },
        {
          "output_type": "stream",
          "name": "stdout",
          "text": [
            "27.04.2022 00:30 AMÉRICA DO SUL COPA SUL-AMERICANA - FASE DE GRUPOS - RODADA 3 Everton (Chi) Ayacucho (Per)\n"
          ]
        },
        {
          "output_type": "stream",
          "name": "stderr",
          "text": [
            "\r 57%|█████▋    | 90/157 [02:47<01:55,  1.72s/it]"
          ]
        },
        {
          "output_type": "stream",
          "name": "stdout",
          "text": [
            "27.04.2022 00:30 AMÉRICA DO SUL COPA SUL-AMERICANA - FASE DE GRUPOS - RODADA 3 Fluminense (Bra) Union Santa Fe (Arg)\n"
          ]
        },
        {
          "output_type": "stream",
          "name": "stderr",
          "text": [
            "\r 58%|█████▊    | 91/157 [02:49<01:54,  1.74s/it]"
          ]
        },
        {
          "output_type": "stream",
          "name": "stdout",
          "text": [
            "27.04.2022 00:30 AMÉRICA DO SUL COPA SUL-AMERICANA - FASE DE GRUPOS - RODADA 3 Ind. Medellín (Col) Internacional (Bra)\n"
          ]
        },
        {
          "output_type": "stream",
          "name": "stderr",
          "text": [
            "\r 59%|█████▊    | 92/157 [02:50<01:51,  1.72s/it]"
          ]
        },
        {
          "output_type": "stream",
          "name": "stdout",
          "text": [
            "26.04.2022 22:15 AMÉRICA DO SUL COPA SUL-AMERICANA - FASE DE GRUPOS - RODADA 3 General Caballero JLM (Par) Ceará (Bra)\n"
          ]
        },
        {
          "output_type": "stream",
          "name": "stderr",
          "text": [
            "\r 59%|█████▉    | 93/157 [02:52<01:50,  1.72s/it]"
          ]
        },
        {
          "output_type": "stream",
          "name": "stdout",
          "text": [
            "26.04.2022 22:15 AMÉRICA DO SUL COPA SUL-AMERICANA - FASE DE GRUPOS - RODADA 3 La Guaira (Ven) Independiente (Arg)\n"
          ]
        },
        {
          "output_type": "stream",
          "name": "stderr",
          "text": [
            "\r 60%|█████▉    | 94/157 [02:54<01:51,  1.77s/it]"
          ]
        },
        {
          "output_type": "stream",
          "name": "stdout",
          "text": [
            "15.04.2022 00:30 AMÉRICA DO SUL COPA SUL-AMERICANA - FASE DE GRUPOS - RODADA 2 Ind. Medellín (Col) Nueve de Octubre (Ecu)\n"
          ]
        },
        {
          "output_type": "stream",
          "name": "stderr",
          "text": [
            "\r 61%|██████    | 95/157 [02:56<01:49,  1.76s/it]"
          ]
        },
        {
          "output_type": "stream",
          "name": "stdout",
          "text": [
            "15.04.2022 00:30 AMÉRICA DO SUL COPA SUL-AMERICANA - FASE DE GRUPOS - RODADA 2 Internacional (Bra) Guairena FC (Par)\n"
          ]
        },
        {
          "output_type": "stream",
          "name": "stderr",
          "text": [
            "\r 61%|██████    | 96/157 [02:59<02:08,  2.11s/it]"
          ]
        },
        {
          "output_type": "stream",
          "name": "stdout",
          "text": [
            "15.04.2022 00:30 AMÉRICA DO SUL COPA SUL-AMERICANA - FASE DE GRUPOS - RODADA 2 Lanús (Arg) Barcelona SC (Ecu)\n"
          ]
        },
        {
          "output_type": "stream",
          "name": "stderr",
          "text": [
            "\r 62%|██████▏   | 97/157 [03:00<02:00,  2.01s/it]"
          ]
        },
        {
          "output_type": "stream",
          "name": "stdout",
          "text": [
            "14.04.2022 22:15 AMÉRICA DO SUL COPA SUL-AMERICANA - FASE DE GRUPOS - RODADA 2 São Paulo (Bra) Everton (Chi)\n"
          ]
        },
        {
          "output_type": "stream",
          "name": "stderr",
          "text": [
            "\r 62%|██████▏   | 98/157 [03:02<01:47,  1.82s/it]"
          ]
        },
        {
          "output_type": "stream",
          "name": "stdout",
          "text": [
            "14.04.2022 22:15 AMÉRICA DO SUL COPA SUL-AMERICANA - FASE DE GRUPOS - RODADA 2 Union La Calera (Chi) Banfield (Arg)\n"
          ]
        },
        {
          "output_type": "stream",
          "name": "stderr",
          "text": [
            "\r 63%|██████▎   | 99/157 [03:04<01:43,  1.78s/it]"
          ]
        },
        {
          "output_type": "stream",
          "name": "stdout",
          "text": [
            "14.04.2022 22:15 AMÉRICA DO SUL COPA SUL-AMERICANA - FASE DE GRUPOS - RODADA 2 Wanderers (Uru) Metropolitanos (Ven)\n"
          ]
        },
        {
          "output_type": "stream",
          "name": "stderr",
          "text": [
            "\r 64%|██████▎   | 100/157 [03:05<01:41,  1.78s/it]"
          ]
        },
        {
          "output_type": "stream",
          "name": "stdout",
          "text": [
            "14.04.2022 00:30 AMÉRICA DO SUL COPA SUL-AMERICANA - FASE DE GRUPOS - RODADA 2 J. Wilstermann (Bol) Ayacucho (Per)\n"
          ]
        },
        {
          "output_type": "stream",
          "name": "stderr",
          "text": [
            "\r 64%|██████▍   | 101/157 [03:07<01:38,  1.76s/it]"
          ]
        },
        {
          "output_type": "stream",
          "name": "stdout",
          "text": [
            "14.04.2022 00:30 AMÉRICA DO SUL COPA SUL-AMERICANA - FASE DE GRUPOS - RODADA 2 Junior (Col) Fluminense (Bra)\n"
          ]
        },
        {
          "output_type": "stream",
          "name": "stderr",
          "text": [
            "\r 65%|██████▍   | 102/157 [03:09<01:41,  1.84s/it]"
          ]
        },
        {
          "output_type": "stream",
          "name": "stdout",
          "text": [
            "13.04.2022 22:15 AMÉRICA DO SUL COPA SUL-AMERICANA - FASE DE GRUPOS - RODADA 2 Melgar (Per) River Plate (Uru)\n"
          ]
        },
        {
          "output_type": "stream",
          "name": "stderr",
          "text": [
            "\r 66%|██████▌   | 103/157 [03:11<01:38,  1.83s/it]"
          ]
        },
        {
          "output_type": "stream",
          "name": "stdout",
          "text": [
            "13.04.2022 22:15 AMÉRICA DO SUL COPA SUL-AMERICANA - FASE DE GRUPOS - RODADA 2 Racing Club (Arg) Cuiabá (Bra)\n"
          ]
        },
        {
          "output_type": "stream",
          "name": "stderr",
          "text": [
            "\r 66%|██████▌   | 104/157 [03:13<01:35,  1.80s/it]"
          ]
        },
        {
          "output_type": "stream",
          "name": "stdout",
          "text": [
            "13.04.2022 22:15 AMÉRICA DO SUL COPA SUL-AMERICANA - FASE DE GRUPOS - RODADA 2 Santos (Bra) U. Catolica (Ecu)\n"
          ]
        },
        {
          "output_type": "stream",
          "name": "stderr",
          "text": [
            "\r 67%|██████▋   | 105/157 [03:14<01:25,  1.65s/it]"
          ]
        },
        {
          "output_type": "stream",
          "name": "stdout",
          "text": [
            "13.04.2022 00:30 AMÉRICA DO SUL COPA SUL-AMERICANA - FASE DE GRUPOS - RODADA 2 Defensa y Justicia (Arg) Atlético-GO (Bra)\n"
          ]
        },
        {
          "output_type": "stream",
          "name": "stderr",
          "text": [
            "\r 68%|██████▊   | 106/157 [03:16<01:27,  1.72s/it]"
          ]
        },
        {
          "output_type": "stream",
          "name": "stdout",
          "text": [
            "13.04.2022 00:30 AMÉRICA DO SUL COPA SUL-AMERICANA - FASE DE GRUPOS - RODADA 2 Independiente (Arg) General Caballero JLM (Par)\n"
          ]
        },
        {
          "output_type": "stream",
          "name": "stderr",
          "text": [
            "\r 68%|██████▊   | 107/157 [03:18<01:27,  1.75s/it]"
          ]
        },
        {
          "output_type": "stream",
          "name": "stdout",
          "text": [
            "13.04.2022 00:30 AMÉRICA DO SUL COPA SUL-AMERICANA - FASE DE GRUPOS - RODADA 2 LDU Quito (Ecu) Antofagasta (Chi)\n"
          ]
        },
        {
          "output_type": "stream",
          "name": "stderr",
          "text": [
            "\r 69%|██████▉   | 108/157 [03:19<01:24,  1.73s/it]"
          ]
        },
        {
          "output_type": "stream",
          "name": "stdout",
          "text": [
            "12.04.2022 22:15 AMÉRICA DO SUL COPA SUL-AMERICANA - FASE DE GRUPOS - RODADA 2 La Guaira (Ven) Ceará (Bra)\n"
          ]
        },
        {
          "output_type": "stream",
          "name": "stderr",
          "text": [
            "\r 69%|██████▉   | 109/157 [03:21<01:23,  1.74s/it]"
          ]
        },
        {
          "output_type": "stream",
          "name": "stdout",
          "text": [
            "12.04.2022 22:15 AMÉRICA DO SUL COPA SUL-AMERICANA - FASE DE GRUPOS - RODADA 2 Oriente Petrolero (Bol) Union Santa Fe (Arg)\n"
          ]
        },
        {
          "output_type": "stream",
          "name": "stderr",
          "text": [
            "\r 70%|███████   | 110/157 [03:22<01:17,  1.66s/it]"
          ]
        },
        {
          "output_type": "stream",
          "name": "stdout",
          "text": [
            "08.04.2022 00:30 AMÉRICA DO SUL COPA SUL-AMERICANA - FASE DE GRUPOS - RODADA 1 Ayacucho (Per) São Paulo (Bra)\n"
          ]
        },
        {
          "output_type": "stream",
          "name": "stderr",
          "text": [
            "\r 71%|███████   | 111/157 [03:24<01:16,  1.67s/it]"
          ]
        },
        {
          "output_type": "stream",
          "name": "stdout",
          "text": [
            "08.04.2022 00:30 AMÉRICA DO SUL COPA SUL-AMERICANA - FASE DE GRUPOS - RODADA 1 Barcelona SC (Ecu) Wanderers (Uru)\n"
          ]
        },
        {
          "output_type": "stream",
          "name": "stderr",
          "text": [
            "\r 71%|███████▏  | 112/157 [03:26<01:15,  1.68s/it]"
          ]
        },
        {
          "output_type": "stream",
          "name": "stdout",
          "text": [
            "08.04.2022 00:30 AMÉRICA DO SUL COPA SUL-AMERICANA - FASE DE GRUPOS - RODADA 1 Guairena FC (Par) Ind. Medellín (Col)\n"
          ]
        },
        {
          "output_type": "stream",
          "name": "stderr",
          "text": [
            "\r 72%|███████▏  | 113/157 [03:28<01:15,  1.72s/it]"
          ]
        },
        {
          "output_type": "stream",
          "name": "stdout",
          "text": [
            "08.04.2022 00:30 AMÉRICA DO SUL COPA SUL-AMERICANA - FASE DE GRUPOS - RODADA 1 Metropolitanos (Ven) Lanús (Arg)\n"
          ]
        },
        {
          "output_type": "stream",
          "name": "stderr",
          "text": [
            "\r 73%|███████▎  | 114/157 [03:29<01:10,  1.63s/it]"
          ]
        },
        {
          "output_type": "stream",
          "name": "stdout",
          "text": [
            "07.04.2022 22:15 AMÉRICA DO SUL COPA SUL-AMERICANA - FASE DE GRUPOS - RODADA 1 Cuiabá (Bra) Melgar (Per)\n"
          ]
        },
        {
          "output_type": "stream",
          "name": "stderr",
          "text": [
            "\r 73%|███████▎  | 115/157 [03:30<01:04,  1.53s/it]"
          ]
        },
        {
          "output_type": "stream",
          "name": "stdout",
          "text": [
            "07.04.2022 22:15 AMÉRICA DO SUL COPA SUL-AMERICANA - FASE DE GRUPOS - RODADA 1 River Plate (Uru) Racing Club (Arg)\n"
          ]
        },
        {
          "output_type": "stream",
          "name": "stderr",
          "text": [
            "\r 74%|███████▍  | 116/157 [03:32<01:05,  1.59s/it]"
          ]
        },
        {
          "output_type": "stream",
          "name": "stdout",
          "text": [
            "07.04.2022 00:30 AMÉRICA DO SUL COPA SUL-AMERICANA - FASE DE GRUPOS - RODADA 1 Antofagasta (Chi) Defensa y Justicia (Arg)\n"
          ]
        },
        {
          "output_type": "stream",
          "name": "stderr",
          "text": [
            "\r 75%|███████▍  | 117/157 [03:34<01:05,  1.64s/it]"
          ]
        },
        {
          "output_type": "stream",
          "name": "stdout",
          "text": [
            "07.04.2022 00:30 AMÉRICA DO SUL COPA SUL-AMERICANA - FASE DE GRUPOS - RODADA 1 Nueve de Octubre (Ecu) Internacional (Bra)\n"
          ]
        },
        {
          "output_type": "stream",
          "name": "stderr",
          "text": [
            "\r 75%|███████▌  | 118/157 [03:36<01:07,  1.74s/it]"
          ]
        },
        {
          "output_type": "stream",
          "name": "stdout",
          "text": [
            "06.04.2022 22:15 AMÉRICA DO SUL COPA SUL-AMERICANA - FASE DE GRUPOS - RODADA 1 Fluminense (Bra) Oriente Petrolero (Bol)\n"
          ]
        },
        {
          "output_type": "stream",
          "name": "stderr",
          "text": [
            "\r 76%|███████▌  | 119/157 [03:38<01:06,  1.74s/it]"
          ]
        },
        {
          "output_type": "stream",
          "name": "stdout",
          "text": [
            "06.04.2022 22:15 AMÉRICA DO SUL COPA SUL-AMERICANA - FASE DE GRUPOS - RODADA 1 General Caballero JLM (Par) La Guaira (Ven)\n"
          ]
        },
        {
          "output_type": "stream",
          "name": "stderr",
          "text": [
            "\r 76%|███████▋  | 120/157 [03:39<00:58,  1.57s/it]"
          ]
        },
        {
          "output_type": "stream",
          "name": "stdout",
          "text": [
            "06.04.2022 22:15 AMÉRICA DO SUL COPA SUL-AMERICANA - FASE DE GRUPOS - RODADA 1 Union Santa Fe (Arg) Junior (Col)\n"
          ]
        },
        {
          "output_type": "stream",
          "name": "stderr",
          "text": [
            "\r 77%|███████▋  | 121/157 [03:40<00:57,  1.61s/it]"
          ]
        },
        {
          "output_type": "stream",
          "name": "stdout",
          "text": [
            "06.04.2022 00:30 AMÉRICA DO SUL COPA SUL-AMERICANA - FASE DE GRUPOS - RODADA 1 Atlético-GO (Bra) LDU Quito (Ecu)\n"
          ]
        },
        {
          "output_type": "stream",
          "name": "stderr",
          "text": [
            "\r 78%|███████▊  | 122/157 [03:43<01:00,  1.74s/it]"
          ]
        },
        {
          "output_type": "stream",
          "name": "stdout",
          "text": [
            "06.04.2022 00:30 AMÉRICA DO SUL COPA SUL-AMERICANA - FASE DE GRUPOS - RODADA 1 Everton (Chi) J. Wilstermann (Bol)\n"
          ]
        },
        {
          "output_type": "stream",
          "name": "stderr",
          "text": [
            "\r 78%|███████▊  | 123/157 [03:44<01:00,  1.78s/it]"
          ]
        },
        {
          "output_type": "stream",
          "name": "stdout",
          "text": [
            "05.04.2022 22:15 AMÉRICA DO SUL COPA SUL-AMERICANA - FASE DE GRUPOS - RODADA 1 Banfield (Arg) Santos (Bra)\n"
          ]
        },
        {
          "output_type": "stream",
          "name": "stderr",
          "text": [
            "\r 79%|███████▉  | 124/157 [03:46<00:59,  1.79s/it]"
          ]
        },
        {
          "output_type": "stream",
          "name": "stdout",
          "text": [
            "05.04.2022 22:15 AMÉRICA DO SUL COPA SUL-AMERICANA - FASE DE GRUPOS - RODADA 1 Ceará (Bra) Independiente (Arg)\n"
          ]
        },
        {
          "output_type": "stream",
          "name": "stderr",
          "text": [
            "\r 80%|███████▉  | 125/157 [03:48<00:57,  1.81s/it]"
          ]
        },
        {
          "output_type": "stream",
          "name": "stdout",
          "text": [
            "05.04.2022 22:15 AMÉRICA DO SUL COPA SUL-AMERICANA - FASE DE GRUPOS - RODADA 1 U. Catolica (Ecu) Union La Calera (Chi)\n"
          ]
        },
        {
          "output_type": "stream",
          "name": "stderr",
          "text": [
            "\r 80%|████████  | 126/157 [03:50<00:56,  1.83s/it]"
          ]
        },
        {
          "output_type": "stream",
          "name": "stdout",
          "text": [
            "18.03.2022 00:30 AMÉRICA DO SUL COPA SUL-AMERICANA - QUALIFICAÇÃO - FINAL Cerro Largo (Uru) Wanderers (Uru)\n"
          ]
        },
        {
          "output_type": "stream",
          "name": "stderr",
          "text": [
            "\r 81%|████████  | 127/157 [03:52<00:54,  1.82s/it]"
          ]
        },
        {
          "output_type": "stream",
          "name": "stdout",
          "text": [
            "18.03.2022 00:30 AMÉRICA DO SUL COPA SUL-AMERICANA - QUALIFICAÇÃO - FINAL Guabira (Bol) J. Wilstermann (Bol)\n"
          ]
        },
        {
          "output_type": "stream",
          "name": "stderr",
          "text": [
            "\r 82%|████████▏ | 128/157 [03:53<00:51,  1.78s/it]"
          ]
        },
        {
          "output_type": "stream",
          "name": "stdout",
          "text": [
            "18.03.2022 00:30 AMÉRICA DO SUL COPA SUL-AMERICANA - QUALIFICAÇÃO - FINAL Junior (Col) La Equidad (Col)\n"
          ]
        },
        {
          "output_type": "stream",
          "name": "stderr",
          "text": [
            "\r 82%|████████▏ | 129/157 [03:58<01:11,  2.55s/it]"
          ]
        },
        {
          "output_type": "stream",
          "name": "stdout",
          "text": [
            "18.03.2022 00:30 AMÉRICA DO SUL COPA SUL-AMERICANA - QUALIFICAÇÃO - FINAL Nueve de Octubre (Ecu) Delfin (Ecu)\n"
          ]
        },
        {
          "output_type": "stream",
          "name": "stderr",
          "text": [
            "\r 83%|████████▎ | 130/157 [04:01<01:12,  2.70s/it]"
          ]
        },
        {
          "output_type": "stream",
          "name": "stdout",
          "text": [
            "17.03.2022 22:15 AMÉRICA DO SUL COPA SUL-AMERICANA - QUALIFICAÇÃO - FINAL Antofagasta (Chi) Unión Española (Chi)\n"
          ]
        },
        {
          "output_type": "stream",
          "name": "stderr",
          "text": [
            "\r 83%|████████▎ | 131/157 [04:03<01:02,  2.41s/it]"
          ]
        },
        {
          "output_type": "stream",
          "name": "stdout",
          "text": [
            "17.03.2022 22:15 AMÉRICA DO SUL COPA SUL-AMERICANA - QUALIFICAÇÃO - FINAL Guairena FC (Par) Nacional Asuncion (Par)\n"
          ]
        },
        {
          "output_type": "stream",
          "name": "stderr",
          "text": [
            "\r 84%|████████▍ | 132/157 [04:04<00:55,  2.22s/it]"
          ]
        },
        {
          "output_type": "stream",
          "name": "stdout",
          "text": [
            "17.03.2022 22:15 AMÉRICA DO SUL COPA SUL-AMERICANA - QUALIFICAÇÃO - FINAL La Guaira (Ven) Hermanos Colmenarez (Ven)\n"
          ]
        },
        {
          "output_type": "stream",
          "name": "stderr",
          "text": [
            "\r 85%|████████▍ | 133/157 [04:06<00:49,  2.07s/it]"
          ]
        },
        {
          "output_type": "stream",
          "name": "stdout",
          "text": [
            "17.03.2022 00:30 AMÉRICA DO SUL COPA SUL-AMERICANA - QUALIFICAÇÃO - FINAL América de Cali (Col) Ind. Medellín (Col)\n"
          ]
        },
        {
          "output_type": "stream",
          "name": "stderr",
          "text": [
            "\r 85%|████████▌ | 134/157 [04:08<00:46,  2.02s/it]"
          ]
        },
        {
          "output_type": "stream",
          "name": "stdout",
          "text": [
            "17.03.2022 00:30 AMÉRICA DO SUL COPA SUL-AMERICANA - QUALIFICAÇÃO - FINAL LDU Quito (Ecu) Mushuc Runa (Ecu)\n"
          ]
        },
        {
          "output_type": "stream",
          "name": "stderr",
          "text": [
            "\r 86%|████████▌ | 135/157 [04:10<00:43,  1.96s/it]"
          ]
        },
        {
          "output_type": "stream",
          "name": "stdout",
          "text": [
            "17.03.2022 00:30 AMÉRICA DO SUL COPA SUL-AMERICANA - QUALIFICAÇÃO - FINAL Sport Boys (Per) Ayacucho (Per)\n"
          ]
        },
        {
          "output_type": "stream",
          "name": "stderr",
          "text": [
            "\r 87%|████████▋ | 136/157 [04:12<00:39,  1.90s/it]"
          ]
        },
        {
          "output_type": "stream",
          "name": "stdout",
          "text": [
            "16.03.2022 22:15 AMÉRICA DO SUL COPA SUL-AMERICANA - QUALIFICAÇÃO - FINAL River Plate (Uru) Liverpool M. (Uru)\n"
          ]
        },
        {
          "output_type": "stream",
          "name": "stderr",
          "text": [
            "\r 87%|████████▋ | 137/157 [04:13<00:37,  1.88s/it]"
          ]
        },
        {
          "output_type": "stream",
          "name": "stdout",
          "text": [
            "16.03.2022 00:30 AMÉRICA DO SUL COPA SUL-AMERICANA - QUALIFICAÇÃO - FINAL Melgar (Per) Cienciano (Per)\n"
          ]
        },
        {
          "output_type": "stream",
          "name": "stderr",
          "text": [
            "\r 88%|████████▊ | 138/157 [04:15<00:36,  1.91s/it]"
          ]
        },
        {
          "output_type": "stream",
          "name": "stdout",
          "text": [
            "16.03.2022 00:30 AMÉRICA DO SUL COPA SUL-AMERICANA - QUALIFICAÇÃO - FINAL Union La Calera (Chi) Nublense (Chi)\n"
          ]
        },
        {
          "output_type": "stream",
          "name": "stderr",
          "text": [
            "\r 89%|████████▊ | 139/157 [04:17<00:33,  1.86s/it]"
          ]
        },
        {
          "output_type": "stream",
          "name": "stdout",
          "text": [
            "15.03.2022 22:15 AMÉRICA DO SUL COPA SUL-AMERICANA - QUALIFICAÇÃO - FINAL General Caballero JLM (Par) Sol De America (Par)\n"
          ]
        },
        {
          "output_type": "stream",
          "name": "stderr",
          "text": [
            "\r 89%|████████▉ | 140/157 [04:19<00:31,  1.83s/it]"
          ]
        },
        {
          "output_type": "stream",
          "name": "stdout",
          "text": [
            "15.03.2022 22:15 AMÉRICA DO SUL COPA SUL-AMERICANA - QUALIFICAÇÃO - FINAL Metropolitanos (Ven) Estudiantes M. (Ven)\n"
          ]
        },
        {
          "output_type": "stream",
          "name": "stderr",
          "text": [
            "\r 90%|████████▉ | 141/157 [04:21<00:28,  1.81s/it]"
          ]
        },
        {
          "output_type": "stream",
          "name": "stdout",
          "text": [
            "15.03.2022 22:15 AMÉRICA DO SUL COPA SUL-AMERICANA - QUALIFICAÇÃO - FINAL Oriente Petrolero (Bol) Royal Pari (Bol)\n"
          ]
        },
        {
          "output_type": "stream",
          "name": "stderr",
          "text": [
            "\r 90%|█████████ | 142/157 [04:23<00:27,  1.85s/it]"
          ]
        },
        {
          "output_type": "stream",
          "name": "stdout",
          "text": [
            "11.03.2022 00:30 AMÉRICA DO SUL COPA SUL-AMERICANA - QUALIFICAÇÃO - FINAL Delfin (Ecu) Nueve de Octubre (Ecu)\n"
          ]
        },
        {
          "output_type": "stream",
          "name": "stderr",
          "text": [
            "\r 91%|█████████ | 143/157 [04:24<00:25,  1.83s/it]"
          ]
        },
        {
          "output_type": "stream",
          "name": "stdout",
          "text": [
            "11.03.2022 00:30 AMÉRICA DO SUL COPA SUL-AMERICANA - QUALIFICAÇÃO - FINAL J. Wilstermann (Bol) Guabira (Bol)\n"
          ]
        },
        {
          "output_type": "stream",
          "name": "stderr",
          "text": [
            "\r 92%|█████████▏| 144/157 [04:26<00:23,  1.79s/it]"
          ]
        },
        {
          "output_type": "stream",
          "name": "stdout",
          "text": [
            "11.03.2022 00:30 AMÉRICA DO SUL COPA SUL-AMERICANA - QUALIFICAÇÃO - FINAL La Equidad (Col) Junior (Col)\n"
          ]
        },
        {
          "output_type": "stream",
          "name": "stderr",
          "text": [
            "\r 92%|█████████▏| 145/157 [04:28<00:21,  1.83s/it]"
          ]
        },
        {
          "output_type": "stream",
          "name": "stdout",
          "text": [
            "11.03.2022 00:30 AMÉRICA DO SUL COPA SUL-AMERICANA - QUALIFICAÇÃO - FINAL Wanderers (Uru) Cerro Largo (Uru)\n"
          ]
        },
        {
          "output_type": "stream",
          "name": "stderr",
          "text": [
            "\r 93%|█████████▎| 146/157 [04:30<00:20,  1.83s/it]"
          ]
        },
        {
          "output_type": "stream",
          "name": "stdout",
          "text": [
            "10.03.2022 22:15 AMÉRICA DO SUL COPA SUL-AMERICANA - QUALIFICAÇÃO - FINAL Hermanos Colmenarez (Ven) La Guaira (Ven)\n"
          ]
        },
        {
          "output_type": "stream",
          "name": "stderr",
          "text": [
            "\r 94%|█████████▎| 147/157 [04:32<00:17,  1.80s/it]"
          ]
        },
        {
          "output_type": "stream",
          "name": "stdout",
          "text": [
            "10.03.2022 22:15 AMÉRICA DO SUL COPA SUL-AMERICANA - QUALIFICAÇÃO - FINAL Nacional Asuncion (Par) Guairena FC (Par)\n"
          ]
        },
        {
          "output_type": "stream",
          "name": "stderr",
          "text": [
            "\r 94%|█████████▍| 148/157 [04:33<00:16,  1.79s/it]"
          ]
        },
        {
          "output_type": "stream",
          "name": "stdout",
          "text": [
            "10.03.2022 22:15 AMÉRICA DO SUL COPA SUL-AMERICANA - QUALIFICAÇÃO - FINAL Unión Española (Chi) Antofagasta (Chi)\n"
          ]
        },
        {
          "output_type": "stream",
          "name": "stderr",
          "text": [
            "\r 95%|█████████▍| 149/157 [04:35<00:14,  1.78s/it]"
          ]
        },
        {
          "output_type": "stream",
          "name": "stdout",
          "text": [
            "10.03.2022 00:30 AMÉRICA DO SUL COPA SUL-AMERICANA - QUALIFICAÇÃO - FINAL Ayacucho (Per) Sport Boys (Per)\n"
          ]
        },
        {
          "output_type": "stream",
          "name": "stderr",
          "text": [
            "\r 96%|█████████▌| 150/157 [04:37<00:12,  1.83s/it]"
          ]
        },
        {
          "output_type": "stream",
          "name": "stdout",
          "text": [
            "10.03.2022 00:30 AMÉRICA DO SUL COPA SUL-AMERICANA - QUALIFICAÇÃO - FINAL Ind. Medellín (Col) América de Cali (Col)\n"
          ]
        },
        {
          "output_type": "stream",
          "name": "stderr",
          "text": [
            "\r 96%|█████████▌| 151/157 [04:39<00:10,  1.83s/it]"
          ]
        },
        {
          "output_type": "stream",
          "name": "stdout",
          "text": [
            "10.03.2022 00:30 AMÉRICA DO SUL COPA SUL-AMERICANA - QUALIFICAÇÃO - FINAL Mushuc Runa (Ecu) LDU Quito (Ecu)\n"
          ]
        },
        {
          "output_type": "stream",
          "name": "stderr",
          "text": [
            "\r 97%|█████████▋| 152/157 [04:40<00:08,  1.78s/it]"
          ]
        },
        {
          "output_type": "stream",
          "name": "stdout",
          "text": [
            "09.03.2022 22:15 AMÉRICA DO SUL COPA SUL-AMERICANA - QUALIFICAÇÃO - FINAL Liverpool M. (Uru) River Plate (Uru)\n"
          ]
        },
        {
          "output_type": "stream",
          "name": "stderr",
          "text": [
            "\r 97%|█████████▋| 153/157 [04:42<00:07,  1.78s/it]"
          ]
        },
        {
          "output_type": "stream",
          "name": "stdout",
          "text": [
            "09.03.2022 00:30 AMÉRICA DO SUL COPA SUL-AMERICANA - QUALIFICAÇÃO - FINAL Cienciano (Per) Melgar (Per)\n"
          ]
        },
        {
          "output_type": "stream",
          "name": "stderr",
          "text": [
            "\r 98%|█████████▊| 154/157 [04:44<00:05,  1.81s/it]"
          ]
        },
        {
          "output_type": "stream",
          "name": "stdout",
          "text": [
            "09.03.2022 00:30 AMÉRICA DO SUL COPA SUL-AMERICANA - QUALIFICAÇÃO - FINAL Nublense (Chi) Union La Calera (Chi)\n"
          ]
        },
        {
          "output_type": "stream",
          "name": "stderr",
          "text": [
            "\r 99%|█████████▊| 155/157 [04:46<00:03,  1.81s/it]"
          ]
        },
        {
          "output_type": "stream",
          "name": "stdout",
          "text": [
            "08.03.2022 22:15 AMÉRICA DO SUL COPA SUL-AMERICANA - QUALIFICAÇÃO - FINAL Estudiantes M. (Ven) Metropolitanos (Ven)\n"
          ]
        },
        {
          "output_type": "stream",
          "name": "stderr",
          "text": [
            "\r 99%|█████████▉| 156/157 [04:48<00:01,  1.81s/it]"
          ]
        },
        {
          "output_type": "stream",
          "name": "stdout",
          "text": [
            "08.03.2022 22:15 AMÉRICA DO SUL COPA SUL-AMERICANA - QUALIFICAÇÃO - FINAL Royal Pari (Bol) Oriente Petrolero (Bol)\n"
          ]
        },
        {
          "output_type": "stream",
          "name": "stderr",
          "text": [
            "100%|██████████| 157/157 [04:50<00:00,  1.85s/it]"
          ]
        },
        {
          "output_type": "stream",
          "name": "stdout",
          "text": [
            "08.03.2022 22:15 AMÉRICA DO SUL COPA SUL-AMERICANA - QUALIFICAÇÃO - FINAL Sol De America (Par) General Caballero JLM (Par)\n"
          ]
        },
        {
          "output_type": "stream",
          "name": "stderr",
          "text": [
            "\n"
          ]
        }
      ]
    },
    {
      "cell_type": "code",
      "source": [
        "df = pd.DataFrame(jogo)\n",
        "df"
      ],
      "metadata": {
        "colab": {
          "base_uri": "https://localhost:8080/",
          "height": 424
        },
        "id": "iQSx93SY_wWF",
        "outputId": "631c586e-674e-477a-d7f7-eaed6370ff31"
      },
      "execution_count": null,
      "outputs": [
        {
          "output_type": "execute_result",
          "data": {
            "text/plain": [
              "           Date   Time         Country  \\\n",
              "0    01.10.2022  20:00  AMÉRICA DO SUL   \n",
              "1    09.09.2022  00:30  AMÉRICA DO SUL   \n",
              "2    08.09.2022  00:30  AMÉRICA DO SUL   \n",
              "3    02.09.2022  00:30  AMÉRICA DO SUL   \n",
              "4    01.09.2022  00:30  AMÉRICA DO SUL   \n",
              "..          ...    ...             ...   \n",
              "152  09.03.2022  00:30  AMÉRICA DO SUL   \n",
              "153  09.03.2022  00:30  AMÉRICA DO SUL   \n",
              "154  08.03.2022  22:15  AMÉRICA DO SUL   \n",
              "155  08.03.2022  22:15  AMÉRICA DO SUL   \n",
              "156  08.03.2022  22:15  AMÉRICA DO SUL   \n",
              "\n",
              "                                         League                  Home  \\\n",
              "0         COPA SUL-AMERICANA - PLAYOFFS - FINAL       São Paulo (Bra)   \n",
              "1    COPA SUL-AMERICANA - PLAYOFFS - SEMIFINAIS       São Paulo (Bra)   \n",
              "2    COPA SUL-AMERICANA - PLAYOFFS - SEMIFINAIS          Melgar (Per)   \n",
              "3    COPA SUL-AMERICANA - PLAYOFFS - SEMIFINAIS     Atlético-GO (Bra)   \n",
              "4    COPA SUL-AMERICANA - PLAYOFFS - SEMIFINAIS  Ind. del Valle (Ecu)   \n",
              "..                                          ...                   ...   \n",
              "152   COPA SUL-AMERICANA - QUALIFICAÇÃO - FINAL       Cienciano (Per)   \n",
              "153   COPA SUL-AMERICANA - QUALIFICAÇÃO - FINAL        Nublense (Chi)   \n",
              "154   COPA SUL-AMERICANA - QUALIFICAÇÃO - FINAL  Estudiantes M. (Ven)   \n",
              "155   COPA SUL-AMERICANA - QUALIFICAÇÃO - FINAL      Royal Pari (Bol)   \n",
              "156   COPA SUL-AMERICANA - QUALIFICAÇÃO - FINAL  Sol De America (Par)   \n",
              "\n",
              "                            Away  \n",
              "0           Ind. del Valle (Ecu)  \n",
              "1              Atlético-GO (Bra)  \n",
              "2           Ind. del Valle (Ecu)  \n",
              "3                São Paulo (Bra)  \n",
              "4                   Melgar (Per)  \n",
              "..                           ...  \n",
              "152                 Melgar (Per)  \n",
              "153        Union La Calera (Chi)  \n",
              "154         Metropolitanos (Ven)  \n",
              "155      Oriente Petrolero (Bol)  \n",
              "156  General Caballero JLM (Par)  \n",
              "\n",
              "[157 rows x 6 columns]"
            ],
            "text/html": [
              "\n",
              "  <div id=\"df-cc481f66-e8d2-47b3-ae29-ec6775b0841b\">\n",
              "    <div class=\"colab-df-container\">\n",
              "      <div>\n",
              "<style scoped>\n",
              "    .dataframe tbody tr th:only-of-type {\n",
              "        vertical-align: middle;\n",
              "    }\n",
              "\n",
              "    .dataframe tbody tr th {\n",
              "        vertical-align: top;\n",
              "    }\n",
              "\n",
              "    .dataframe thead th {\n",
              "        text-align: right;\n",
              "    }\n",
              "</style>\n",
              "<table border=\"1\" class=\"dataframe\">\n",
              "  <thead>\n",
              "    <tr style=\"text-align: right;\">\n",
              "      <th></th>\n",
              "      <th>Date</th>\n",
              "      <th>Time</th>\n",
              "      <th>Country</th>\n",
              "      <th>League</th>\n",
              "      <th>Home</th>\n",
              "      <th>Away</th>\n",
              "    </tr>\n",
              "  </thead>\n",
              "  <tbody>\n",
              "    <tr>\n",
              "      <th>0</th>\n",
              "      <td>01.10.2022</td>\n",
              "      <td>20:00</td>\n",
              "      <td>AMÉRICA DO SUL</td>\n",
              "      <td>COPA SUL-AMERICANA - PLAYOFFS - FINAL</td>\n",
              "      <td>São Paulo (Bra)</td>\n",
              "      <td>Ind. del Valle (Ecu)</td>\n",
              "    </tr>\n",
              "    <tr>\n",
              "      <th>1</th>\n",
              "      <td>09.09.2022</td>\n",
              "      <td>00:30</td>\n",
              "      <td>AMÉRICA DO SUL</td>\n",
              "      <td>COPA SUL-AMERICANA - PLAYOFFS - SEMIFINAIS</td>\n",
              "      <td>São Paulo (Bra)</td>\n",
              "      <td>Atlético-GO (Bra)</td>\n",
              "    </tr>\n",
              "    <tr>\n",
              "      <th>2</th>\n",
              "      <td>08.09.2022</td>\n",
              "      <td>00:30</td>\n",
              "      <td>AMÉRICA DO SUL</td>\n",
              "      <td>COPA SUL-AMERICANA - PLAYOFFS - SEMIFINAIS</td>\n",
              "      <td>Melgar (Per)</td>\n",
              "      <td>Ind. del Valle (Ecu)</td>\n",
              "    </tr>\n",
              "    <tr>\n",
              "      <th>3</th>\n",
              "      <td>02.09.2022</td>\n",
              "      <td>00:30</td>\n",
              "      <td>AMÉRICA DO SUL</td>\n",
              "      <td>COPA SUL-AMERICANA - PLAYOFFS - SEMIFINAIS</td>\n",
              "      <td>Atlético-GO (Bra)</td>\n",
              "      <td>São Paulo (Bra)</td>\n",
              "    </tr>\n",
              "    <tr>\n",
              "      <th>4</th>\n",
              "      <td>01.09.2022</td>\n",
              "      <td>00:30</td>\n",
              "      <td>AMÉRICA DO SUL</td>\n",
              "      <td>COPA SUL-AMERICANA - PLAYOFFS - SEMIFINAIS</td>\n",
              "      <td>Ind. del Valle (Ecu)</td>\n",
              "      <td>Melgar (Per)</td>\n",
              "    </tr>\n",
              "    <tr>\n",
              "      <th>...</th>\n",
              "      <td>...</td>\n",
              "      <td>...</td>\n",
              "      <td>...</td>\n",
              "      <td>...</td>\n",
              "      <td>...</td>\n",
              "      <td>...</td>\n",
              "    </tr>\n",
              "    <tr>\n",
              "      <th>152</th>\n",
              "      <td>09.03.2022</td>\n",
              "      <td>00:30</td>\n",
              "      <td>AMÉRICA DO SUL</td>\n",
              "      <td>COPA SUL-AMERICANA - QUALIFICAÇÃO - FINAL</td>\n",
              "      <td>Cienciano (Per)</td>\n",
              "      <td>Melgar (Per)</td>\n",
              "    </tr>\n",
              "    <tr>\n",
              "      <th>153</th>\n",
              "      <td>09.03.2022</td>\n",
              "      <td>00:30</td>\n",
              "      <td>AMÉRICA DO SUL</td>\n",
              "      <td>COPA SUL-AMERICANA - QUALIFICAÇÃO - FINAL</td>\n",
              "      <td>Nublense (Chi)</td>\n",
              "      <td>Union La Calera (Chi)</td>\n",
              "    </tr>\n",
              "    <tr>\n",
              "      <th>154</th>\n",
              "      <td>08.03.2022</td>\n",
              "      <td>22:15</td>\n",
              "      <td>AMÉRICA DO SUL</td>\n",
              "      <td>COPA SUL-AMERICANA - QUALIFICAÇÃO - FINAL</td>\n",
              "      <td>Estudiantes M. (Ven)</td>\n",
              "      <td>Metropolitanos (Ven)</td>\n",
              "    </tr>\n",
              "    <tr>\n",
              "      <th>155</th>\n",
              "      <td>08.03.2022</td>\n",
              "      <td>22:15</td>\n",
              "      <td>AMÉRICA DO SUL</td>\n",
              "      <td>COPA SUL-AMERICANA - QUALIFICAÇÃO - FINAL</td>\n",
              "      <td>Royal Pari (Bol)</td>\n",
              "      <td>Oriente Petrolero (Bol)</td>\n",
              "    </tr>\n",
              "    <tr>\n",
              "      <th>156</th>\n",
              "      <td>08.03.2022</td>\n",
              "      <td>22:15</td>\n",
              "      <td>AMÉRICA DO SUL</td>\n",
              "      <td>COPA SUL-AMERICANA - QUALIFICAÇÃO - FINAL</td>\n",
              "      <td>Sol De America (Par)</td>\n",
              "      <td>General Caballero JLM (Par)</td>\n",
              "    </tr>\n",
              "  </tbody>\n",
              "</table>\n",
              "<p>157 rows × 6 columns</p>\n",
              "</div>\n",
              "      <button class=\"colab-df-convert\" onclick=\"convertToInteractive('df-cc481f66-e8d2-47b3-ae29-ec6775b0841b')\"\n",
              "              title=\"Convert this dataframe to an interactive table.\"\n",
              "              style=\"display:none;\">\n",
              "        \n",
              "  <svg xmlns=\"http://www.w3.org/2000/svg\" height=\"24px\"viewBox=\"0 0 24 24\"\n",
              "       width=\"24px\">\n",
              "    <path d=\"M0 0h24v24H0V0z\" fill=\"none\"/>\n",
              "    <path d=\"M18.56 5.44l.94 2.06.94-2.06 2.06-.94-2.06-.94-.94-2.06-.94 2.06-2.06.94zm-11 1L8.5 8.5l.94-2.06 2.06-.94-2.06-.94L8.5 2.5l-.94 2.06-2.06.94zm10 10l.94 2.06.94-2.06 2.06-.94-2.06-.94-.94-2.06-.94 2.06-2.06.94z\"/><path d=\"M17.41 7.96l-1.37-1.37c-.4-.4-.92-.59-1.43-.59-.52 0-1.04.2-1.43.59L10.3 9.45l-7.72 7.72c-.78.78-.78 2.05 0 2.83L4 21.41c.39.39.9.59 1.41.59.51 0 1.02-.2 1.41-.59l7.78-7.78 2.81-2.81c.8-.78.8-2.07 0-2.86zM5.41 20L4 18.59l7.72-7.72 1.47 1.35L5.41 20z\"/>\n",
              "  </svg>\n",
              "      </button>\n",
              "      \n",
              "  <style>\n",
              "    .colab-df-container {\n",
              "      display:flex;\n",
              "      flex-wrap:wrap;\n",
              "      gap: 12px;\n",
              "    }\n",
              "\n",
              "    .colab-df-convert {\n",
              "      background-color: #E8F0FE;\n",
              "      border: none;\n",
              "      border-radius: 50%;\n",
              "      cursor: pointer;\n",
              "      display: none;\n",
              "      fill: #1967D2;\n",
              "      height: 32px;\n",
              "      padding: 0 0 0 0;\n",
              "      width: 32px;\n",
              "    }\n",
              "\n",
              "    .colab-df-convert:hover {\n",
              "      background-color: #E2EBFA;\n",
              "      box-shadow: 0px 1px 2px rgba(60, 64, 67, 0.3), 0px 1px 3px 1px rgba(60, 64, 67, 0.15);\n",
              "      fill: #174EA6;\n",
              "    }\n",
              "\n",
              "    [theme=dark] .colab-df-convert {\n",
              "      background-color: #3B4455;\n",
              "      fill: #D2E3FC;\n",
              "    }\n",
              "\n",
              "    [theme=dark] .colab-df-convert:hover {\n",
              "      background-color: #434B5C;\n",
              "      box-shadow: 0px 1px 3px 1px rgba(0, 0, 0, 0.15);\n",
              "      filter: drop-shadow(0px 1px 2px rgba(0, 0, 0, 0.3));\n",
              "      fill: #FFFFFF;\n",
              "    }\n",
              "  </style>\n",
              "\n",
              "      <script>\n",
              "        const buttonEl =\n",
              "          document.querySelector('#df-cc481f66-e8d2-47b3-ae29-ec6775b0841b button.colab-df-convert');\n",
              "        buttonEl.style.display =\n",
              "          google.colab.kernel.accessAllowed ? 'block' : 'none';\n",
              "\n",
              "        async function convertToInteractive(key) {\n",
              "          const element = document.querySelector('#df-cc481f66-e8d2-47b3-ae29-ec6775b0841b');\n",
              "          const dataTable =\n",
              "            await google.colab.kernel.invokeFunction('convertToInteractive',\n",
              "                                                     [key], {});\n",
              "          if (!dataTable) return;\n",
              "\n",
              "          const docLinkHtml = 'Like what you see? Visit the ' +\n",
              "            '<a target=\"_blank\" href=https://colab.research.google.com/notebooks/data_table.ipynb>data table notebook</a>'\n",
              "            + ' to learn more about interactive tables.';\n",
              "          element.innerHTML = '';\n",
              "          dataTable['output_type'] = 'display_data';\n",
              "          await google.colab.output.renderOutput(dataTable, element);\n",
              "          const docLink = document.createElement('div');\n",
              "          docLink.innerHTML = docLinkHtml;\n",
              "          element.appendChild(docLink);\n",
              "        }\n",
              "      </script>\n",
              "    </div>\n",
              "  </div>\n",
              "  "
            ]
          },
          "metadata": {},
          "execution_count": 29
        }
      ]
    },
    {
      "cell_type": "code",
      "source": [
        "df.to_excel('copa_Sulamericana_resultados_2022.xlsx')"
      ],
      "metadata": {
        "id": "PE1DCZ6s_5S1"
      },
      "execution_count": null,
      "outputs": []
    },
    {
      "cell_type": "markdown",
      "source": [
        "# Campeonato Mineiro - 2022 - Resultados (Jogos que já aconteceram)"
      ],
      "metadata": {
        "id": "aZluxNNKk-1C"
      }
    },
    {
      "cell_type": "code",
      "source": [
        "# Com o WebDrive a gente consegue a pedir a página (URL)\n",
        "wd_Chrome.get(\"https://www.flashscore.com.br/futebol/brasil/campeonato-mineiro/resultados/\")\n",
        "\n",
        "#while True:\n",
        "#  try:\n",
        "#    botao_mais = wd_Chrome.find_element(By.XPATH, '//*[@id=\"live-table\"]/div[1]/div/div/a')\n",
        "#    wd_Chrome.execute_script('arguments[0].click();', botao_mais)\n",
        "#    time.sleep(5)\n",
        "#  except:\n",
        "#    break"
      ],
      "metadata": {
        "id": "JYsyvGaalC-f"
      },
      "execution_count": null,
      "outputs": []
    },
    {
      "cell_type": "code",
      "source": [
        "# Pegando o ID dos Jogos\n",
        "id_jogos = []\n",
        "jogos = wd_Chrome.find_elements(By.CSS_SELECTOR,'div.event__match--static')\n",
        "\n",
        "for i in jogos:\n",
        "    id_jogos.append(i.get_attribute(\"id\"))\n",
        "\n",
        "# Exemplo de ID de um jogo: 'g_1_Gb7buXVt'    \n",
        "id_jogos = [i[4:] for i in id_jogos]\n",
        "\n",
        "jogo = {'Date':[],'Time':[],'Country':[],'League':[],'Home':[],'Away':[]}"
      ],
      "metadata": {
        "id": "C0GtBFDflVP0"
      },
      "execution_count": null,
      "outputs": []
    },
    {
      "cell_type": "code",
      "source": [
        "for link in tqdm(id_jogos, total=len(id_jogos)):\n",
        "    wd_Chrome.get(f'https://www.flashscore.com.br/jogo/{link}/#/resumo-de-jogo')\n",
        "    \n",
        "    # Pegando as Informacoes Básicas do Jogo\n",
        "    try:\n",
        "        Date = wd_Chrome.find_element(By.CSS_SELECTOR,'div.duelParticipant__startTime').text.split(' ')[0]\n",
        "        Time = wd_Chrome.find_element(By.CSS_SELECTOR,'div.duelParticipant__startTime').text.split(' ')[1]\n",
        "        Country = wd_Chrome.find_element(By.CSS_SELECTOR,'span.tournamentHeader__country').text.split(':')[0]\n",
        "        League = wd_Chrome.find_element(By.CSS_SELECTOR,'span.tournamentHeader__country')\n",
        "        League = League.find_element(By.CSS_SELECTOR,'a').text\n",
        "        Home = wd_Chrome.find_element(By.CSS_SELECTOR,'div.duelParticipant__home')\n",
        "        Home = Home.find_element(By.CSS_SELECTOR,'div.participant__participantName').text\n",
        "        Away = wd_Chrome.find_element(By.CSS_SELECTOR,'div.duelParticipant__away')\n",
        "        Away = Away.find_element(By.CSS_SELECTOR,'div.participant__participantName').text          \n",
        "\n",
        "    except:\n",
        "        pass\n",
        "\n",
        "    print(Date,Time,Country,League,Home,Away) \n",
        "\n",
        "    jogo['Date'].append(Date)\n",
        "    jogo['Time'].append(Time)\n",
        "    jogo['Country'].append(Country)\n",
        "    jogo['League'].append(League)\n",
        "    jogo['Home'].append(Home)\n",
        "    jogo['Away'].append(Away)"
      ],
      "metadata": {
        "colab": {
          "base_uri": "https://localhost:8080/"
        },
        "id": "B5hRXx1KmWlr",
        "outputId": "14eb237d-e19d-40c1-e200-ba5534f53a43"
      },
      "execution_count": null,
      "outputs": [
        {
          "output_type": "stream",
          "name": "stderr",
          "text": [
            "  1%|▏         | 1/78 [00:02<03:06,  2.42s/it]"
          ]
        },
        {
          "output_type": "stream",
          "name": "stdout",
          "text": [
            "03.04.2022 21:00 BRASIL CAMPEONATO MINEIRO - 5º-8º LUGAR - 5º LUGAR Democrata-GV Tombense\n"
          ]
        },
        {
          "output_type": "stream",
          "name": "stderr",
          "text": [
            "\r  3%|▎         | 2/78 [00:05<03:11,  2.52s/it]"
          ]
        },
        {
          "output_type": "stream",
          "name": "stdout",
          "text": [
            "03.04.2022 14:00 BRASIL CAMPEONATO MINEIRO - PLAYOFFS - 3º LUGAR Athletic Club Caldense\n"
          ]
        },
        {
          "output_type": "stream",
          "name": "stderr",
          "text": [
            "\r  4%|▍         | 3/78 [00:07<03:18,  2.64s/it]"
          ]
        },
        {
          "output_type": "stream",
          "name": "stdout",
          "text": [
            "02.04.2022 19:30 BRASIL CAMPEONATO MINEIRO - PLAYOFFS - FINAL Atlético-MG Cruzeiro\n"
          ]
        },
        {
          "output_type": "stream",
          "name": "stderr",
          "text": [
            "\r  5%|▌         | 4/78 [00:10<03:03,  2.48s/it]"
          ]
        },
        {
          "output_type": "stream",
          "name": "stdout",
          "text": [
            "30.03.2022 23:00 BRASIL CAMPEONATO MINEIRO - PLAYOFFS - 3º LUGAR Caldense Athletic Club\n"
          ]
        },
        {
          "output_type": "stream",
          "name": "stderr",
          "text": [
            "\r  6%|▋         | 5/78 [00:12<03:03,  2.51s/it]"
          ]
        },
        {
          "output_type": "stream",
          "name": "stdout",
          "text": [
            "27.03.2022 21:00 BRASIL CAMPEONATO MINEIRO - PLAYOFFS - SEMIFINAIS Atlético-MG Caldense\n"
          ]
        },
        {
          "output_type": "stream",
          "name": "stderr",
          "text": [
            "\r  8%|▊         | 6/78 [00:15<03:04,  2.56s/it]"
          ]
        },
        {
          "output_type": "stream",
          "name": "stdout",
          "text": [
            "27.03.2022 19:00 BRASIL CAMPEONATO MINEIRO - 5º-8º LUGAR - SEMIFINAIS Villa Nova-MG Democrata-GV\n"
          ]
        },
        {
          "output_type": "stream",
          "name": "stderr",
          "text": [
            "\r  9%|▉         | 7/78 [00:18<03:21,  2.84s/it]"
          ]
        },
        {
          "output_type": "stream",
          "name": "stdout",
          "text": [
            "26.03.2022 19:30 BRASIL CAMPEONATO MINEIRO - PLAYOFFS - SEMIFINAIS Athletic Club Cruzeiro\n"
          ]
        },
        {
          "output_type": "stream",
          "name": "stderr",
          "text": [
            "\r 10%|█         | 8/78 [00:20<02:52,  2.46s/it]"
          ]
        },
        {
          "output_type": "stream",
          "name": "stdout",
          "text": [
            "26.03.2022 14:00 BRASIL CAMPEONATO MINEIRO - 5º-8º LUGAR - SEMIFINAIS América-MG Tombense\n"
          ]
        },
        {
          "output_type": "stream",
          "name": "stderr",
          "text": [
            "\r 12%|█▏        | 9/78 [00:21<02:29,  2.17s/it]"
          ]
        },
        {
          "output_type": "stream",
          "name": "stdout",
          "text": [
            "23.03.2022 23:30 BRASIL CAMPEONATO MINEIRO - 5º-8º LUGAR - SEMIFINAIS Democrata-GV Villa Nova-MG\n"
          ]
        },
        {
          "output_type": "stream",
          "name": "stderr",
          "text": [
            "\r 13%|█▎        | 10/78 [00:23<02:20,  2.06s/it]"
          ]
        },
        {
          "output_type": "stream",
          "name": "stdout",
          "text": [
            "23.03.2022 23:30 BRASIL CAMPEONATO MINEIRO - 5º-8º LUGAR - SEMIFINAIS Tombense América-MG\n"
          ]
        },
        {
          "output_type": "stream",
          "name": "stderr",
          "text": [
            "\r 14%|█▍        | 11/78 [00:25<02:06,  1.89s/it]"
          ]
        },
        {
          "output_type": "stream",
          "name": "stdout",
          "text": [
            "23.03.2022 19:30 BRASIL CAMPEONATO MINEIRO - PLAYOFFS - SEMIFINAIS Caldense Atlético-MG\n"
          ]
        },
        {
          "output_type": "stream",
          "name": "stderr",
          "text": [
            "\r 15%|█▌        | 12/78 [00:26<01:59,  1.81s/it]"
          ]
        },
        {
          "output_type": "stream",
          "name": "stdout",
          "text": [
            "22.03.2022 23:30 BRASIL CAMPEONATO MINEIRO - PLAYOFFS - SEMIFINAIS Cruzeiro Athletic Club\n"
          ]
        },
        {
          "output_type": "stream",
          "name": "stderr",
          "text": [
            "\r 17%|█▋        | 13/78 [00:28<01:54,  1.77s/it]"
          ]
        },
        {
          "output_type": "stream",
          "name": "stdout",
          "text": [
            "19.03.2022 19:30 BRASIL CAMPEONATO MINEIRO - RODADA 11 América-MG Tombense\n"
          ]
        },
        {
          "output_type": "stream",
          "name": "stderr",
          "text": [
            "\r 18%|█▊        | 14/78 [00:30<01:55,  1.80s/it]"
          ]
        },
        {
          "output_type": "stream",
          "name": "stdout",
          "text": [
            "19.03.2022 19:30 BRASIL CAMPEONATO MINEIRO - RODADA 11 Athletic Club Villa Nova-MG\n"
          ]
        },
        {
          "output_type": "stream",
          "name": "stderr",
          "text": [
            "\r 19%|█▉        | 15/78 [00:31<01:50,  1.75s/it]"
          ]
        },
        {
          "output_type": "stream",
          "name": "stdout",
          "text": [
            "19.03.2022 19:30 BRASIL CAMPEONATO MINEIRO - RODADA 11 Atlético-MG Caldense\n"
          ]
        },
        {
          "output_type": "stream",
          "name": "stderr",
          "text": [
            "\r 21%|██        | 16/78 [00:33<01:47,  1.73s/it]"
          ]
        },
        {
          "output_type": "stream",
          "name": "stdout",
          "text": [
            "19.03.2022 19:30 BRASIL CAMPEONATO MINEIRO - RODADA 11 Patrocinense Cruzeiro\n"
          ]
        },
        {
          "output_type": "stream",
          "name": "stderr",
          "text": [
            "\r 22%|██▏       | 17/78 [00:35<01:44,  1.72s/it]"
          ]
        },
        {
          "output_type": "stream",
          "name": "stdout",
          "text": [
            "19.03.2022 19:30 BRASIL CAMPEONATO MINEIRO - RODADA 11 Pouso Alegre Uberlândia\n"
          ]
        },
        {
          "output_type": "stream",
          "name": "stderr",
          "text": [
            "\r 23%|██▎       | 18/78 [00:37<01:44,  1.74s/it]"
          ]
        },
        {
          "output_type": "stream",
          "name": "stdout",
          "text": [
            "19.03.2022 19:30 BRASIL CAMPEONATO MINEIRO - RODADA 11 URT Democrata-GV\n"
          ]
        },
        {
          "output_type": "stream",
          "name": "stderr",
          "text": [
            "\r 24%|██▍       | 19/78 [00:38<01:40,  1.70s/it]"
          ]
        },
        {
          "output_type": "stream",
          "name": "stdout",
          "text": [
            "13.03.2022 20:30 BRASIL CAMPEONATO MINEIRO - RODADA 10 Cruzeiro Pouso Alegre\n"
          ]
        },
        {
          "output_type": "stream",
          "name": "stderr",
          "text": [
            "\r 26%|██▌       | 20/78 [00:40<01:36,  1.66s/it]"
          ]
        },
        {
          "output_type": "stream",
          "name": "stdout",
          "text": [
            "13.03.2022 19:00 BRASIL CAMPEONATO MINEIRO - RODADA 10 Villa Nova-MG Patrocinense\n"
          ]
        },
        {
          "output_type": "stream",
          "name": "stderr",
          "text": [
            "\r 27%|██▋       | 21/78 [00:41<01:32,  1.63s/it]"
          ]
        },
        {
          "output_type": "stream",
          "name": "stdout",
          "text": [
            "13.03.2022 14:00 BRASIL CAMPEONATO MINEIRO - RODADA 10 Caldense Athletic Club\n"
          ]
        },
        {
          "output_type": "stream",
          "name": "stderr",
          "text": [
            "\r 28%|██▊       | 22/78 [00:43<01:30,  1.62s/it]"
          ]
        },
        {
          "output_type": "stream",
          "name": "stdout",
          "text": [
            "12.03.2022 22:00 BRASIL CAMPEONATO MINEIRO - RODADA 10 Uberlândia América-MG\n"
          ]
        },
        {
          "output_type": "stream",
          "name": "stderr",
          "text": [
            "\r 29%|██▉       | 23/78 [00:45<01:30,  1.64s/it]"
          ]
        },
        {
          "output_type": "stream",
          "name": "stdout",
          "text": [
            "12.03.2022 19:30 BRASIL CAMPEONATO MINEIRO - RODADA 10 Democrata-GV Atlético-MG\n"
          ]
        },
        {
          "output_type": "stream",
          "name": "stderr",
          "text": [
            "\r 31%|███       | 24/78 [00:46<01:27,  1.61s/it]"
          ]
        },
        {
          "output_type": "stream",
          "name": "stdout",
          "text": [
            "12.03.2022 19:00 BRASIL CAMPEONATO MINEIRO - RODADA 10 Tombense URT\n"
          ]
        },
        {
          "output_type": "stream",
          "name": "stderr",
          "text": [
            "\r 32%|███▏      | 25/78 [00:48<01:25,  1.61s/it]"
          ]
        },
        {
          "output_type": "stream",
          "name": "stdout",
          "text": [
            "06.03.2022 21:00 BRASIL CAMPEONATO MINEIRO - RODADA 9 Atlético-MG Cruzeiro\n"
          ]
        },
        {
          "output_type": "stream",
          "name": "stderr",
          "text": [
            "\r 33%|███▎      | 26/78 [00:49<01:24,  1.63s/it]"
          ]
        },
        {
          "output_type": "stream",
          "name": "stdout",
          "text": [
            "06.03.2022 14:00 BRASIL CAMPEONATO MINEIRO - RODADA 9 Caldense Democrata-GV\n"
          ]
        },
        {
          "output_type": "stream",
          "name": "stderr",
          "text": [
            "\r 35%|███▍      | 27/78 [00:51<01:20,  1.59s/it]"
          ]
        },
        {
          "output_type": "stream",
          "name": "stdout",
          "text": [
            "06.03.2022 13:30 BRASIL CAMPEONATO MINEIRO - RODADA 9 Patrocinense Pouso Alegre\n"
          ]
        },
        {
          "output_type": "stream",
          "name": "stderr",
          "text": [
            "\r 36%|███▌      | 28/78 [00:53<01:21,  1.63s/it]"
          ]
        },
        {
          "output_type": "stream",
          "name": "stdout",
          "text": [
            "05.03.2022 19:30 BRASIL CAMPEONATO MINEIRO - RODADA 9 América-MG Villa Nova-MG\n"
          ]
        },
        {
          "output_type": "stream",
          "name": "stderr",
          "text": [
            "\r 37%|███▋      | 29/78 [00:56<01:40,  2.05s/it]"
          ]
        },
        {
          "output_type": "stream",
          "name": "stdout",
          "text": [
            "05.03.2022 19:00 BRASIL CAMPEONATO MINEIRO - RODADA 9 Tombense Uberlândia\n"
          ]
        },
        {
          "output_type": "stream",
          "name": "stderr",
          "text": [
            "\r 38%|███▊      | 30/78 [00:57<01:31,  1.90s/it]"
          ]
        },
        {
          "output_type": "stream",
          "name": "stdout",
          "text": [
            "05.03.2022 18:00 BRASIL CAMPEONATO MINEIRO - RODADA 9 Athletic Club URT\n"
          ]
        },
        {
          "output_type": "stream",
          "name": "stderr",
          "text": [
            "\r 40%|███▉      | 31/78 [00:59<01:26,  1.84s/it]"
          ]
        },
        {
          "output_type": "stream",
          "name": "stdout",
          "text": [
            "26.02.2022 19:30 BRASIL CAMPEONATO MINEIRO - RODADA 8 Pouso Alegre Atlético-MG\n"
          ]
        },
        {
          "output_type": "stream",
          "name": "stderr",
          "text": [
            "\r 41%|████      | 32/78 [01:01<01:20,  1.76s/it]"
          ]
        },
        {
          "output_type": "stream",
          "name": "stdout",
          "text": [
            "22.02.2022 22:00 BRASIL CAMPEONATO MINEIRO - RODADA 8 Uberlândia Caldense\n"
          ]
        },
        {
          "output_type": "stream",
          "name": "stderr",
          "text": [
            "\r 42%|████▏     | 33/78 [01:02<01:15,  1.67s/it]"
          ]
        },
        {
          "output_type": "stream",
          "name": "stdout",
          "text": [
            "20.02.2022 14:00 BRASIL CAMPEONATO MINEIRO - RODADA 8 Cruzeiro Villa Nova-MG\n"
          ]
        },
        {
          "output_type": "stream",
          "name": "stderr",
          "text": [
            "\r 44%|████▎     | 34/78 [01:04<01:11,  1.63s/it]"
          ]
        },
        {
          "output_type": "stream",
          "name": "stdout",
          "text": [
            "20.02.2022 14:00 BRASIL CAMPEONATO MINEIRO - RODADA 8 Patrocinense Tombense\n"
          ]
        },
        {
          "output_type": "stream",
          "name": "stderr",
          "text": [
            "\r 45%|████▍     | 35/78 [01:05<01:14,  1.72s/it]"
          ]
        },
        {
          "output_type": "stream",
          "name": "stdout",
          "text": [
            "19.02.2022 19:30 BRASIL CAMPEONATO MINEIRO - RODADA 8 URT América-MG\n"
          ]
        },
        {
          "output_type": "stream",
          "name": "stderr",
          "text": [
            "\r 46%|████▌     | 36/78 [01:07<01:09,  1.66s/it]"
          ]
        },
        {
          "output_type": "stream",
          "name": "stdout",
          "text": [
            "19.02.2022 18:00 BRASIL CAMPEONATO MINEIRO - RODADA 8 Athletic Club Democrata-GV\n"
          ]
        },
        {
          "output_type": "stream",
          "name": "stderr",
          "text": [
            "\r 47%|████▋     | 37/78 [01:09<01:06,  1.63s/it]"
          ]
        },
        {
          "output_type": "stream",
          "name": "stdout",
          "text": [
            "17.02.2022 23:00 BRASIL CAMPEONATO MINEIRO - RODADA 7 Cruzeiro Uberlândia\n"
          ]
        },
        {
          "output_type": "stream",
          "name": "stderr",
          "text": [
            "\r 49%|████▊     | 38/78 [01:10<01:05,  1.63s/it]"
          ]
        },
        {
          "output_type": "stream",
          "name": "stdout",
          "text": [
            "16.02.2022 23:30 BRASIL CAMPEONATO MINEIRO - RODADA 7 Villa Nova-MG Caldense\n"
          ]
        },
        {
          "output_type": "stream",
          "name": "stderr",
          "text": [
            "\r 50%|█████     | 39/78 [01:11<00:59,  1.52s/it]"
          ]
        },
        {
          "output_type": "stream",
          "name": "stdout",
          "text": [
            "16.02.2022 23:00 BRASIL CAMPEONATO MINEIRO - RODADA 7 Democrata-GV Tombense\n"
          ]
        },
        {
          "output_type": "stream",
          "name": "stderr",
          "text": [
            "\r 51%|█████▏    | 40/78 [01:13<01:00,  1.59s/it]"
          ]
        },
        {
          "output_type": "stream",
          "name": "stdout",
          "text": [
            "16.02.2022 22:30 BRASIL CAMPEONATO MINEIRO - RODADA 7 Pouso Alegre URT\n"
          ]
        },
        {
          "output_type": "stream",
          "name": "stderr",
          "text": [
            "\r 53%|█████▎    | 41/78 [01:15<00:59,  1.62s/it]"
          ]
        },
        {
          "output_type": "stream",
          "name": "stdout",
          "text": [
            "16.02.2022 22:00 BRASIL CAMPEONATO MINEIRO - RODADA 7 América-MG Patrocinense\n"
          ]
        },
        {
          "output_type": "stream",
          "name": "stderr",
          "text": [
            "\r 54%|█████▍    | 42/78 [01:16<00:56,  1.58s/it]"
          ]
        },
        {
          "output_type": "stream",
          "name": "stdout",
          "text": [
            "16.02.2022 00:00 BRASIL CAMPEONATO MINEIRO - RODADA 7 Atlético-MG Athletic Club\n"
          ]
        },
        {
          "output_type": "stream",
          "name": "stderr",
          "text": [
            "\r 55%|█████▌    | 43/78 [01:18<00:54,  1.55s/it]"
          ]
        },
        {
          "output_type": "stream",
          "name": "stdout",
          "text": [
            "13.02.2022 19:00 BRASIL CAMPEONATO MINEIRO - RODADA 6 Villa Nova-MG URT\n"
          ]
        },
        {
          "output_type": "stream",
          "name": "stderr",
          "text": [
            "\r 56%|█████▋    | 44/78 [01:20<00:55,  1.63s/it]"
          ]
        },
        {
          "output_type": "stream",
          "name": "stdout",
          "text": [
            "13.02.2022 14:00 BRASIL CAMPEONATO MINEIRO - RODADA 6 Caldense Pouso Alegre\n"
          ]
        },
        {
          "output_type": "stream",
          "name": "stderr",
          "text": [
            "\r 58%|█████▊    | 45/78 [01:21<00:52,  1.59s/it]"
          ]
        },
        {
          "output_type": "stream",
          "name": "stdout",
          "text": [
            "12.02.2022 23:00 BRASIL CAMPEONATO MINEIRO - RODADA 6 Democrata-GV Uberlândia\n"
          ]
        },
        {
          "output_type": "stream",
          "name": "stderr",
          "text": [
            "\r 59%|█████▉    | 46/78 [01:23<00:49,  1.55s/it]"
          ]
        },
        {
          "output_type": "stream",
          "name": "stdout",
          "text": [
            "12.02.2022 22:00 BRASIL CAMPEONATO MINEIRO - RODADA 6 Tombense Cruzeiro\n"
          ]
        },
        {
          "output_type": "stream",
          "name": "stderr",
          "text": [
            "\r 60%|██████    | 47/78 [01:24<00:48,  1.58s/it]"
          ]
        },
        {
          "output_type": "stream",
          "name": "stdout",
          "text": [
            "12.02.2022 19:30 BRASIL CAMPEONATO MINEIRO - RODADA 6 América-MG Atlético-MG\n"
          ]
        },
        {
          "output_type": "stream",
          "name": "stderr",
          "text": [
            "\r 62%|██████▏   | 48/78 [01:26<00:48,  1.63s/it]"
          ]
        },
        {
          "output_type": "stream",
          "name": "stdout",
          "text": [
            "12.02.2022 18:00 BRASIL CAMPEONATO MINEIRO - RODADA 6 Athletic Club Patrocinense\n"
          ]
        },
        {
          "output_type": "stream",
          "name": "stderr",
          "text": [
            "\r 63%|██████▎   | 49/78 [01:28<00:46,  1.61s/it]"
          ]
        },
        {
          "output_type": "stream",
          "name": "stdout",
          "text": [
            "10.02.2022 00:30 BRASIL CAMPEONATO MINEIRO - RODADA 5 URT Atlético-MG\n"
          ]
        },
        {
          "output_type": "stream",
          "name": "stderr",
          "text": [
            "\r 64%|██████▍   | 50/78 [01:29<00:43,  1.56s/it]"
          ]
        },
        {
          "output_type": "stream",
          "name": "stdout",
          "text": [
            "09.02.2022 23:15 BRASIL CAMPEONATO MINEIRO - RODADA 5 Patrocinense Caldense\n"
          ]
        },
        {
          "output_type": "stream",
          "name": "stderr",
          "text": [
            "\r 65%|██████▌   | 51/78 [01:31<00:42,  1.56s/it]"
          ]
        },
        {
          "output_type": "stream",
          "name": "stdout",
          "text": [
            "09.02.2022 23:00 BRASIL CAMPEONATO MINEIRO - RODADA 5 Uberlândia Villa Nova-MG\n"
          ]
        },
        {
          "output_type": "stream",
          "name": "stderr",
          "text": [
            "\r 67%|██████▋   | 52/78 [01:32<00:42,  1.63s/it]"
          ]
        },
        {
          "output_type": "stream",
          "name": "stdout",
          "text": [
            "09.02.2022 22:30 BRASIL CAMPEONATO MINEIRO - RODADA 5 Cruzeiro Democrata-GV\n"
          ]
        },
        {
          "output_type": "stream",
          "name": "stderr",
          "text": [
            "\r 68%|██████▊   | 53/78 [01:34<00:40,  1.62s/it]"
          ]
        },
        {
          "output_type": "stream",
          "name": "stdout",
          "text": [
            "09.02.2022 18:30 BRASIL CAMPEONATO MINEIRO - RODADA 5 Athletic Club Tombense\n"
          ]
        },
        {
          "output_type": "stream",
          "name": "stderr",
          "text": [
            "\r 69%|██████▉   | 54/78 [01:36<00:38,  1.62s/it]"
          ]
        },
        {
          "output_type": "stream",
          "name": "stdout",
          "text": [
            "09.02.2022 00:30 BRASIL CAMPEONATO MINEIRO - RODADA 5 Pouso Alegre América-MG\n"
          ]
        },
        {
          "output_type": "stream",
          "name": "stderr",
          "text": [
            "\r 71%|███████   | 55/78 [01:37<00:37,  1.65s/it]"
          ]
        },
        {
          "output_type": "stream",
          "name": "stdout",
          "text": [
            "06.02.2022 19:00 BRASIL CAMPEONATO MINEIRO - RODADA 4 Tombense Villa Nova-MG\n"
          ]
        },
        {
          "output_type": "stream",
          "name": "stderr",
          "text": [
            "\r 72%|███████▏  | 56/78 [01:39<00:36,  1.67s/it]"
          ]
        },
        {
          "output_type": "stream",
          "name": "stdout",
          "text": [
            "06.02.2022 19:00 BRASIL CAMPEONATO MINEIRO - RODADA 4 URT Uberlândia\n"
          ]
        },
        {
          "output_type": "stream",
          "name": "stderr",
          "text": [
            "\r 73%|███████▎  | 57/78 [01:41<00:35,  1.71s/it]"
          ]
        },
        {
          "output_type": "stream",
          "name": "stdout",
          "text": [
            "06.02.2022 14:00 BRASIL CAMPEONATO MINEIRO - RODADA 4 Atlético-MG Patrocinense\n"
          ]
        },
        {
          "output_type": "stream",
          "name": "stderr",
          "text": [
            "\r 74%|███████▍  | 58/78 [01:42<00:32,  1.64s/it]"
          ]
        },
        {
          "output_type": "stream",
          "name": "stdout",
          "text": [
            "05.02.2022 22:30 BRASIL CAMPEONATO MINEIRO - RODADA 4 América-MG Athletic Club\n"
          ]
        },
        {
          "output_type": "stream",
          "name": "stderr",
          "text": [
            "\r 76%|███████▌  | 59/78 [01:44<00:31,  1.64s/it]"
          ]
        },
        {
          "output_type": "stream",
          "name": "stdout",
          "text": [
            "05.02.2022 19:30 BRASIL CAMPEONATO MINEIRO - RODADA 4 Caldense Cruzeiro\n"
          ]
        },
        {
          "output_type": "stream",
          "name": "stderr",
          "text": [
            "\r 77%|███████▋  | 60/78 [01:46<00:29,  1.64s/it]"
          ]
        },
        {
          "output_type": "stream",
          "name": "stdout",
          "text": [
            "05.02.2022 19:00 BRASIL CAMPEONATO MINEIRO - RODADA 4 Democrata-GV Pouso Alegre\n"
          ]
        },
        {
          "output_type": "stream",
          "name": "stderr",
          "text": [
            "\r 78%|███████▊  | 61/78 [01:47<00:27,  1.62s/it]"
          ]
        },
        {
          "output_type": "stream",
          "name": "stdout",
          "text": [
            "03.02.2022 00:30 BRASIL CAMPEONATO MINEIRO - RODADA 3 Cruzeiro América-MG\n"
          ]
        },
        {
          "output_type": "stream",
          "name": "stderr",
          "text": [
            "\r 79%|███████▉  | 62/78 [01:49<00:26,  1.63s/it]"
          ]
        },
        {
          "output_type": "stream",
          "name": "stdout",
          "text": [
            "02.02.2022 23:30 BRASIL CAMPEONATO MINEIRO - RODADA 3 Villa Nova-MG Democrata-GV\n"
          ]
        },
        {
          "output_type": "stream",
          "name": "stderr",
          "text": [
            "\r 81%|████████  | 63/78 [01:51<00:25,  1.69s/it]"
          ]
        },
        {
          "output_type": "stream",
          "name": "stdout",
          "text": [
            "02.02.2022 23:00 BRASIL CAMPEONATO MINEIRO - RODADA 3 Caldense Tombense\n"
          ]
        },
        {
          "output_type": "stream",
          "name": "stderr",
          "text": [
            "\r 82%|████████▏ | 64/78 [01:52<00:22,  1.61s/it]"
          ]
        },
        {
          "output_type": "stream",
          "name": "stdout",
          "text": [
            "02.02.2022 23:00 BRASIL CAMPEONATO MINEIRO - RODADA 3 Patrocinense URT\n"
          ]
        },
        {
          "output_type": "stream",
          "name": "stderr",
          "text": [
            "\r 83%|████████▎ | 65/78 [01:54<00:20,  1.59s/it]"
          ]
        },
        {
          "output_type": "stream",
          "name": "stdout",
          "text": [
            "02.02.2022 22:30 BRASIL CAMPEONATO MINEIRO - RODADA 3 Pouso Alegre Athletic Club\n"
          ]
        },
        {
          "output_type": "stream",
          "name": "stderr",
          "text": [
            "\r 85%|████████▍ | 66/78 [01:55<00:18,  1.54s/it]"
          ]
        },
        {
          "output_type": "stream",
          "name": "stdout",
          "text": [
            "02.02.2022 22:30 BRASIL CAMPEONATO MINEIRO - RODADA 3 Uberlândia Atlético-MG\n"
          ]
        },
        {
          "output_type": "stream",
          "name": "stderr",
          "text": [
            "\r 86%|████████▌ | 67/78 [01:57<00:17,  1.60s/it]"
          ]
        },
        {
          "output_type": "stream",
          "name": "stdout",
          "text": [
            "30.01.2022 22:00 BRASIL CAMPEONATO MINEIRO - RODADA 2 América-MG Democrata-GV\n"
          ]
        },
        {
          "output_type": "stream",
          "name": "stderr",
          "text": [
            "\r 87%|████████▋ | 68/78 [01:58<00:15,  1.59s/it]"
          ]
        },
        {
          "output_type": "stream",
          "name": "stdout",
          "text": [
            "30.01.2022 20:00 BRASIL CAMPEONATO MINEIRO - RODADA 2 Pouso Alegre Villa Nova-MG\n"
          ]
        },
        {
          "output_type": "stream",
          "name": "stderr",
          "text": [
            "\r 88%|████████▊ | 69/78 [02:00<00:14,  1.61s/it]"
          ]
        },
        {
          "output_type": "stream",
          "name": "stdout",
          "text": [
            "30.01.2022 19:00 BRASIL CAMPEONATO MINEIRO - RODADA 2 Patrocinense Uberlândia\n"
          ]
        },
        {
          "output_type": "stream",
          "name": "stderr",
          "text": [
            "\r 90%|████████▉ | 70/78 [02:02<00:12,  1.61s/it]"
          ]
        },
        {
          "output_type": "stream",
          "name": "stdout",
          "text": [
            "30.01.2022 19:00 BRASIL CAMPEONATO MINEIRO - RODADA 2 URT Caldense\n"
          ]
        },
        {
          "output_type": "stream",
          "name": "stderr",
          "text": [
            "\r 91%|█████████ | 71/78 [02:03<00:11,  1.64s/it]"
          ]
        },
        {
          "output_type": "stream",
          "name": "stdout",
          "text": [
            "30.01.2022 14:00 BRASIL CAMPEONATO MINEIRO - RODADA 2 Athletic Club Cruzeiro\n"
          ]
        },
        {
          "output_type": "stream",
          "name": "stderr",
          "text": [
            "\r 92%|█████████▏| 72/78 [02:05<00:09,  1.64s/it]"
          ]
        },
        {
          "output_type": "stream",
          "name": "stdout",
          "text": [
            "29.01.2022 19:30 BRASIL CAMPEONATO MINEIRO - RODADA 2 Atlético-MG Tombense\n"
          ]
        },
        {
          "output_type": "stream",
          "name": "stderr",
          "text": [
            "\r 94%|█████████▎| 73/78 [02:07<00:08,  1.62s/it]"
          ]
        },
        {
          "output_type": "stream",
          "name": "stdout",
          "text": [
            "26.01.2022 23:00 BRASIL CAMPEONATO MINEIRO - RODADA 1 Democrata-GV Patrocinense\n"
          ]
        },
        {
          "output_type": "stream",
          "name": "stderr",
          "text": [
            "\r 95%|█████████▍| 74/78 [02:08<00:06,  1.59s/it]"
          ]
        },
        {
          "output_type": "stream",
          "name": "stdout",
          "text": [
            "26.01.2022 23:00 BRASIL CAMPEONATO MINEIRO - RODADA 1 Uberlândia Athletic Club\n"
          ]
        },
        {
          "output_type": "stream",
          "name": "stderr",
          "text": [
            "\r 96%|█████████▌| 75/78 [02:10<00:04,  1.61s/it]"
          ]
        },
        {
          "output_type": "stream",
          "name": "stdout",
          "text": [
            "26.01.2022 22:00 BRASIL CAMPEONATO MINEIRO - RODADA 1 Tombense Pouso Alegre\n"
          ]
        },
        {
          "output_type": "stream",
          "name": "stderr",
          "text": [
            "\r 97%|█████████▋| 76/78 [02:11<00:03,  1.59s/it]"
          ]
        },
        {
          "output_type": "stream",
          "name": "stdout",
          "text": [
            "26.01.2022 22:00 BRASIL CAMPEONATO MINEIRO - RODADA 1 Villa Nova-MG Atlético-MG\n"
          ]
        },
        {
          "output_type": "stream",
          "name": "stderr",
          "text": [
            "\r 99%|█████████▊| 77/78 [02:13<00:01,  1.60s/it]"
          ]
        },
        {
          "output_type": "stream",
          "name": "stdout",
          "text": [
            "26.01.2022 20:00 BRASIL CAMPEONATO MINEIRO - RODADA 1 Cruzeiro URT\n"
          ]
        },
        {
          "output_type": "stream",
          "name": "stderr",
          "text": [
            "100%|██████████| 78/78 [02:15<00:00,  1.73s/it]"
          ]
        },
        {
          "output_type": "stream",
          "name": "stdout",
          "text": [
            "26.01.2022 00:00 BRASIL CAMPEONATO MINEIRO - RODADA 1 Caldense América-MG\n"
          ]
        },
        {
          "output_type": "stream",
          "name": "stderr",
          "text": [
            "\n"
          ]
        }
      ]
    },
    {
      "cell_type": "code",
      "source": [
        "df = pd.DataFrame(jogo)\n",
        "df"
      ],
      "metadata": {
        "colab": {
          "base_uri": "https://localhost:8080/",
          "height": 424
        },
        "id": "fzhOPzucmtct",
        "outputId": "d9e69499-ee06-4ab4-8c5e-98d0708e1fed"
      },
      "execution_count": null,
      "outputs": [
        {
          "output_type": "execute_result",
          "data": {
            "text/plain": [
              "          Date   Time Country                                       League  \\\n",
              "0   03.04.2022  21:00  BRASIL  CAMPEONATO MINEIRO - 5º-8º LUGAR - 5º LUGAR   \n",
              "1   03.04.2022  14:00  BRASIL     CAMPEONATO MINEIRO - PLAYOFFS - 3º LUGAR   \n",
              "2   02.04.2022  19:30  BRASIL        CAMPEONATO MINEIRO - PLAYOFFS - FINAL   \n",
              "3   30.03.2022  23:00  BRASIL     CAMPEONATO MINEIRO - PLAYOFFS - 3º LUGAR   \n",
              "4   27.03.2022  21:00  BRASIL   CAMPEONATO MINEIRO - PLAYOFFS - SEMIFINAIS   \n",
              "..         ...    ...     ...                                          ...   \n",
              "73  26.01.2022  23:00  BRASIL                CAMPEONATO MINEIRO - RODADA 1   \n",
              "74  26.01.2022  22:00  BRASIL                CAMPEONATO MINEIRO - RODADA 1   \n",
              "75  26.01.2022  22:00  BRASIL                CAMPEONATO MINEIRO - RODADA 1   \n",
              "76  26.01.2022  20:00  BRASIL                CAMPEONATO MINEIRO - RODADA 1   \n",
              "77  26.01.2022  00:00  BRASIL                CAMPEONATO MINEIRO - RODADA 1   \n",
              "\n",
              "             Home           Away  \n",
              "0    Democrata-GV       Tombense  \n",
              "1   Athletic Club       Caldense  \n",
              "2     Atlético-MG       Cruzeiro  \n",
              "3        Caldense  Athletic Club  \n",
              "4     Atlético-MG       Caldense  \n",
              "..            ...            ...  \n",
              "73     Uberlândia  Athletic Club  \n",
              "74       Tombense   Pouso Alegre  \n",
              "75  Villa Nova-MG    Atlético-MG  \n",
              "76       Cruzeiro            URT  \n",
              "77       Caldense     América-MG  \n",
              "\n",
              "[78 rows x 6 columns]"
            ],
            "text/html": [
              "\n",
              "  <div id=\"df-95eab68b-c2e4-4c77-b34a-361919c6de4a\">\n",
              "    <div class=\"colab-df-container\">\n",
              "      <div>\n",
              "<style scoped>\n",
              "    .dataframe tbody tr th:only-of-type {\n",
              "        vertical-align: middle;\n",
              "    }\n",
              "\n",
              "    .dataframe tbody tr th {\n",
              "        vertical-align: top;\n",
              "    }\n",
              "\n",
              "    .dataframe thead th {\n",
              "        text-align: right;\n",
              "    }\n",
              "</style>\n",
              "<table border=\"1\" class=\"dataframe\">\n",
              "  <thead>\n",
              "    <tr style=\"text-align: right;\">\n",
              "      <th></th>\n",
              "      <th>Date</th>\n",
              "      <th>Time</th>\n",
              "      <th>Country</th>\n",
              "      <th>League</th>\n",
              "      <th>Home</th>\n",
              "      <th>Away</th>\n",
              "    </tr>\n",
              "  </thead>\n",
              "  <tbody>\n",
              "    <tr>\n",
              "      <th>0</th>\n",
              "      <td>03.04.2022</td>\n",
              "      <td>21:00</td>\n",
              "      <td>BRASIL</td>\n",
              "      <td>CAMPEONATO MINEIRO - 5º-8º LUGAR - 5º LUGAR</td>\n",
              "      <td>Democrata-GV</td>\n",
              "      <td>Tombense</td>\n",
              "    </tr>\n",
              "    <tr>\n",
              "      <th>1</th>\n",
              "      <td>03.04.2022</td>\n",
              "      <td>14:00</td>\n",
              "      <td>BRASIL</td>\n",
              "      <td>CAMPEONATO MINEIRO - PLAYOFFS - 3º LUGAR</td>\n",
              "      <td>Athletic Club</td>\n",
              "      <td>Caldense</td>\n",
              "    </tr>\n",
              "    <tr>\n",
              "      <th>2</th>\n",
              "      <td>02.04.2022</td>\n",
              "      <td>19:30</td>\n",
              "      <td>BRASIL</td>\n",
              "      <td>CAMPEONATO MINEIRO - PLAYOFFS - FINAL</td>\n",
              "      <td>Atlético-MG</td>\n",
              "      <td>Cruzeiro</td>\n",
              "    </tr>\n",
              "    <tr>\n",
              "      <th>3</th>\n",
              "      <td>30.03.2022</td>\n",
              "      <td>23:00</td>\n",
              "      <td>BRASIL</td>\n",
              "      <td>CAMPEONATO MINEIRO - PLAYOFFS - 3º LUGAR</td>\n",
              "      <td>Caldense</td>\n",
              "      <td>Athletic Club</td>\n",
              "    </tr>\n",
              "    <tr>\n",
              "      <th>4</th>\n",
              "      <td>27.03.2022</td>\n",
              "      <td>21:00</td>\n",
              "      <td>BRASIL</td>\n",
              "      <td>CAMPEONATO MINEIRO - PLAYOFFS - SEMIFINAIS</td>\n",
              "      <td>Atlético-MG</td>\n",
              "      <td>Caldense</td>\n",
              "    </tr>\n",
              "    <tr>\n",
              "      <th>...</th>\n",
              "      <td>...</td>\n",
              "      <td>...</td>\n",
              "      <td>...</td>\n",
              "      <td>...</td>\n",
              "      <td>...</td>\n",
              "      <td>...</td>\n",
              "    </tr>\n",
              "    <tr>\n",
              "      <th>73</th>\n",
              "      <td>26.01.2022</td>\n",
              "      <td>23:00</td>\n",
              "      <td>BRASIL</td>\n",
              "      <td>CAMPEONATO MINEIRO - RODADA 1</td>\n",
              "      <td>Uberlândia</td>\n",
              "      <td>Athletic Club</td>\n",
              "    </tr>\n",
              "    <tr>\n",
              "      <th>74</th>\n",
              "      <td>26.01.2022</td>\n",
              "      <td>22:00</td>\n",
              "      <td>BRASIL</td>\n",
              "      <td>CAMPEONATO MINEIRO - RODADA 1</td>\n",
              "      <td>Tombense</td>\n",
              "      <td>Pouso Alegre</td>\n",
              "    </tr>\n",
              "    <tr>\n",
              "      <th>75</th>\n",
              "      <td>26.01.2022</td>\n",
              "      <td>22:00</td>\n",
              "      <td>BRASIL</td>\n",
              "      <td>CAMPEONATO MINEIRO - RODADA 1</td>\n",
              "      <td>Villa Nova-MG</td>\n",
              "      <td>Atlético-MG</td>\n",
              "    </tr>\n",
              "    <tr>\n",
              "      <th>76</th>\n",
              "      <td>26.01.2022</td>\n",
              "      <td>20:00</td>\n",
              "      <td>BRASIL</td>\n",
              "      <td>CAMPEONATO MINEIRO - RODADA 1</td>\n",
              "      <td>Cruzeiro</td>\n",
              "      <td>URT</td>\n",
              "    </tr>\n",
              "    <tr>\n",
              "      <th>77</th>\n",
              "      <td>26.01.2022</td>\n",
              "      <td>00:00</td>\n",
              "      <td>BRASIL</td>\n",
              "      <td>CAMPEONATO MINEIRO - RODADA 1</td>\n",
              "      <td>Caldense</td>\n",
              "      <td>América-MG</td>\n",
              "    </tr>\n",
              "  </tbody>\n",
              "</table>\n",
              "<p>78 rows × 6 columns</p>\n",
              "</div>\n",
              "      <button class=\"colab-df-convert\" onclick=\"convertToInteractive('df-95eab68b-c2e4-4c77-b34a-361919c6de4a')\"\n",
              "              title=\"Convert this dataframe to an interactive table.\"\n",
              "              style=\"display:none;\">\n",
              "        \n",
              "  <svg xmlns=\"http://www.w3.org/2000/svg\" height=\"24px\"viewBox=\"0 0 24 24\"\n",
              "       width=\"24px\">\n",
              "    <path d=\"M0 0h24v24H0V0z\" fill=\"none\"/>\n",
              "    <path d=\"M18.56 5.44l.94 2.06.94-2.06 2.06-.94-2.06-.94-.94-2.06-.94 2.06-2.06.94zm-11 1L8.5 8.5l.94-2.06 2.06-.94-2.06-.94L8.5 2.5l-.94 2.06-2.06.94zm10 10l.94 2.06.94-2.06 2.06-.94-2.06-.94-.94-2.06-.94 2.06-2.06.94z\"/><path d=\"M17.41 7.96l-1.37-1.37c-.4-.4-.92-.59-1.43-.59-.52 0-1.04.2-1.43.59L10.3 9.45l-7.72 7.72c-.78.78-.78 2.05 0 2.83L4 21.41c.39.39.9.59 1.41.59.51 0 1.02-.2 1.41-.59l7.78-7.78 2.81-2.81c.8-.78.8-2.07 0-2.86zM5.41 20L4 18.59l7.72-7.72 1.47 1.35L5.41 20z\"/>\n",
              "  </svg>\n",
              "      </button>\n",
              "      \n",
              "  <style>\n",
              "    .colab-df-container {\n",
              "      display:flex;\n",
              "      flex-wrap:wrap;\n",
              "      gap: 12px;\n",
              "    }\n",
              "\n",
              "    .colab-df-convert {\n",
              "      background-color: #E8F0FE;\n",
              "      border: none;\n",
              "      border-radius: 50%;\n",
              "      cursor: pointer;\n",
              "      display: none;\n",
              "      fill: #1967D2;\n",
              "      height: 32px;\n",
              "      padding: 0 0 0 0;\n",
              "      width: 32px;\n",
              "    }\n",
              "\n",
              "    .colab-df-convert:hover {\n",
              "      background-color: #E2EBFA;\n",
              "      box-shadow: 0px 1px 2px rgba(60, 64, 67, 0.3), 0px 1px 3px 1px rgba(60, 64, 67, 0.15);\n",
              "      fill: #174EA6;\n",
              "    }\n",
              "\n",
              "    [theme=dark] .colab-df-convert {\n",
              "      background-color: #3B4455;\n",
              "      fill: #D2E3FC;\n",
              "    }\n",
              "\n",
              "    [theme=dark] .colab-df-convert:hover {\n",
              "      background-color: #434B5C;\n",
              "      box-shadow: 0px 1px 3px 1px rgba(0, 0, 0, 0.15);\n",
              "      filter: drop-shadow(0px 1px 2px rgba(0, 0, 0, 0.3));\n",
              "      fill: #FFFFFF;\n",
              "    }\n",
              "  </style>\n",
              "\n",
              "      <script>\n",
              "        const buttonEl =\n",
              "          document.querySelector('#df-95eab68b-c2e4-4c77-b34a-361919c6de4a button.colab-df-convert');\n",
              "        buttonEl.style.display =\n",
              "          google.colab.kernel.accessAllowed ? 'block' : 'none';\n",
              "\n",
              "        async function convertToInteractive(key) {\n",
              "          const element = document.querySelector('#df-95eab68b-c2e4-4c77-b34a-361919c6de4a');\n",
              "          const dataTable =\n",
              "            await google.colab.kernel.invokeFunction('convertToInteractive',\n",
              "                                                     [key], {});\n",
              "          if (!dataTable) return;\n",
              "\n",
              "          const docLinkHtml = 'Like what you see? Visit the ' +\n",
              "            '<a target=\"_blank\" href=https://colab.research.google.com/notebooks/data_table.ipynb>data table notebook</a>'\n",
              "            + ' to learn more about interactive tables.';\n",
              "          element.innerHTML = '';\n",
              "          dataTable['output_type'] = 'display_data';\n",
              "          await google.colab.output.renderOutput(dataTable, element);\n",
              "          const docLink = document.createElement('div');\n",
              "          docLink.innerHTML = docLinkHtml;\n",
              "          element.appendChild(docLink);\n",
              "        }\n",
              "      </script>\n",
              "    </div>\n",
              "  </div>\n",
              "  "
            ]
          },
          "metadata": {},
          "execution_count": 34
        }
      ]
    },
    {
      "cell_type": "code",
      "source": [
        "df.to_excel('campeonato_mineiro_resultados_2022.xlsx')"
      ],
      "metadata": {
        "id": "JQk9Qlbemw18"
      },
      "execution_count": null,
      "outputs": []
    },
    {
      "cell_type": "markdown",
      "source": [
        "# Campeonato Gaúcho - 2022 - Resultados (Jogos que já aconteceram)"
      ],
      "metadata": {
        "id": "oIaW_eF64akX"
      }
    },
    {
      "cell_type": "code",
      "source": [
        "# Com o WebDrive a gente consegue a pedir a página (URL)\n",
        "wd_Chrome.get(\"https://www.flashscore.com.br/futebol/brasil/campeonato-gaucho/resultados/\")\n",
        "\n",
        "#while True:\n",
        "#  try:\n",
        "#    botao_mais = wd_Chrome.find_element(By.XPATH, '//*[@id=\"live-table\"]/div[1]/div/div/a')\n",
        "#    wd_Chrome.execute_script('arguments[0].click();', botao_mais)\n",
        "#    time.sleep(5)\n",
        "#  except:\n",
        "#    break"
      ],
      "metadata": {
        "id": "iwWT6PDR4hDi"
      },
      "execution_count": null,
      "outputs": []
    },
    {
      "cell_type": "code",
      "source": [
        "# Pegando o ID dos Jogos\n",
        "id_jogos = []\n",
        "jogos = wd_Chrome.find_elements(By.CSS_SELECTOR,'div.event__match--static')\n",
        "\n",
        "for i in jogos:\n",
        "    id_jogos.append(i.get_attribute(\"id\"))\n",
        "\n",
        "# Exemplo de ID de um jogo: 'g_1_Gb7buXVt'    \n",
        "id_jogos = [i[4:] for i in id_jogos]\n",
        "\n",
        "jogo = {'Date':[],'Time':[],'Country':[],'League':[],'Home':[],'Away':[]}"
      ],
      "metadata": {
        "id": "nMdC15Au4ja3"
      },
      "execution_count": null,
      "outputs": []
    },
    {
      "cell_type": "code",
      "source": [
        "for link in tqdm(id_jogos, total=len(id_jogos)):\n",
        "    wd_Chrome.get(f'https://www.flashscore.com.br/jogo/{link}/#/resumo-de-jogo')\n",
        "    \n",
        "    # Pegando as Informacoes Básicas do Jogo\n",
        "    try:\n",
        "        Date = wd_Chrome.find_element(By.CSS_SELECTOR,'div.duelParticipant__startTime').text.split(' ')[0]\n",
        "        Time = wd_Chrome.find_element(By.CSS_SELECTOR,'div.duelParticipant__startTime').text.split(' ')[1]\n",
        "        Country = wd_Chrome.find_element(By.CSS_SELECTOR,'span.tournamentHeader__country').text.split(':')[0]\n",
        "        League = wd_Chrome.find_element(By.CSS_SELECTOR,'span.tournamentHeader__country')\n",
        "        League = League.find_element(By.CSS_SELECTOR,'a').text\n",
        "        Home = wd_Chrome.find_element(By.CSS_SELECTOR,'div.duelParticipant__home')\n",
        "        Home = Home.find_element(By.CSS_SELECTOR,'div.participant__participantName').text\n",
        "        Away = wd_Chrome.find_element(By.CSS_SELECTOR,'div.duelParticipant__away')\n",
        "        Away = Away.find_element(By.CSS_SELECTOR,'div.participant__participantName').text          \n",
        "\n",
        "    except:\n",
        "        pass\n",
        "\n",
        "    print(Date,Time,Country,League,Home,Away) \n",
        "\n",
        "    jogo['Date'].append(Date)\n",
        "    jogo['Time'].append(Time)\n",
        "    jogo['Country'].append(Country)\n",
        "    jogo['League'].append(League)\n",
        "    jogo['Home'].append(Home)\n",
        "    jogo['Away'].append(Away)"
      ],
      "metadata": {
        "colab": {
          "base_uri": "https://localhost:8080/"
        },
        "id": "6FOzcq1J4pMQ",
        "outputId": "b6a56c47-047b-4b81-bfb2-d139d43019f4"
      },
      "execution_count": null,
      "outputs": [
        {
          "output_type": "stream",
          "name": "stderr",
          "text": [
            "  1%|▏         | 1/72 [00:01<02:04,  1.76s/it]"
          ]
        },
        {
          "output_type": "stream",
          "name": "stdout",
          "text": [
            "02.04.2022 19:30 BRASIL CAMPEONATO GAÚCHO - PLAYOFFS - FINAL Grêmio Ypiranga\n"
          ]
        },
        {
          "output_type": "stream",
          "name": "stderr",
          "text": [
            "\r  3%|▎         | 2/72 [00:03<01:55,  1.65s/it]"
          ]
        },
        {
          "output_type": "stream",
          "name": "stdout",
          "text": [
            "26.03.2022 19:30 BRASIL CAMPEONATO GAÚCHO - PLAYOFFS - FINAL Ypiranga Grêmio\n"
          ]
        },
        {
          "output_type": "stream",
          "name": "stderr",
          "text": [
            "\r  4%|▍         | 3/72 [00:04<01:52,  1.63s/it]"
          ]
        },
        {
          "output_type": "stream",
          "name": "stdout",
          "text": [
            "24.03.2022 01:15 BRASIL CAMPEONATO GAÚCHO - PLAYOFFS - SEMIFINAIS Grêmio Internacional\n"
          ]
        },
        {
          "output_type": "stream",
          "name": "stderr",
          "text": [
            "\r  6%|▌         | 4/72 [00:07<02:25,  2.14s/it]"
          ]
        },
        {
          "output_type": "stream",
          "name": "stdout",
          "text": [
            "23.03.2022 22:30 BRASIL CAMPEONATO GAÚCHO - PLAYOFFS - SEMIFINAIS Ypiranga Brasil de Pelotas\n"
          ]
        },
        {
          "output_type": "stream",
          "name": "stderr",
          "text": [
            "\r  7%|▋         | 5/72 [00:09<02:08,  1.92s/it]"
          ]
        },
        {
          "output_type": "stream",
          "name": "stdout",
          "text": [
            "20.03.2022 23:30 BRASIL CAMPEONATO GAÚCHO - PLAYOFFS - SEMIFINAIS Brasil de Pelotas Ypiranga\n"
          ]
        },
        {
          "output_type": "stream",
          "name": "stderr",
          "text": [
            "\r  8%|▊         | 6/72 [00:10<01:58,  1.80s/it]"
          ]
        },
        {
          "output_type": "stream",
          "name": "stdout",
          "text": [
            "19.03.2022 19:30 BRASIL CAMPEONATO GAÚCHO - PLAYOFFS - SEMIFINAIS Internacional Grêmio\n"
          ]
        },
        {
          "output_type": "stream",
          "name": "stderr",
          "text": [
            "\r 10%|▉         | 7/72 [00:12<01:53,  1.74s/it]"
          ]
        },
        {
          "output_type": "stream",
          "name": "stdout",
          "text": [
            "12.03.2022 19:30 BRASIL CAMPEONATO GAÚCHO - RODADA 11 Aimoré São Luiz\n"
          ]
        },
        {
          "output_type": "stream",
          "name": "stderr",
          "text": [
            "\r 11%|█         | 8/72 [00:13<01:44,  1.63s/it]"
          ]
        },
        {
          "output_type": "stream",
          "name": "stdout",
          "text": [
            "12.03.2022 19:30 BRASIL CAMPEONATO GAÚCHO - RODADA 11 Brasil de Pelotas Juventude\n"
          ]
        },
        {
          "output_type": "stream",
          "name": "stderr",
          "text": [
            "\r 12%|█▎        | 9/72 [00:15<01:44,  1.65s/it]"
          ]
        },
        {
          "output_type": "stream",
          "name": "stdout",
          "text": [
            "12.03.2022 19:30 BRASIL CAMPEONATO GAÚCHO - RODADA 11 Caxias União Frederiquense\n"
          ]
        },
        {
          "output_type": "stream",
          "name": "stderr",
          "text": [
            "\r 14%|█▍        | 10/72 [00:16<01:35,  1.54s/it]"
          ]
        },
        {
          "output_type": "stream",
          "name": "stdout",
          "text": [
            "12.03.2022 19:30 BRASIL CAMPEONATO GAÚCHO - RODADA 11 Grêmio Ypiranga\n"
          ]
        },
        {
          "output_type": "stream",
          "name": "stderr",
          "text": [
            "\r 15%|█▌        | 11/72 [00:18<01:35,  1.57s/it]"
          ]
        },
        {
          "output_type": "stream",
          "name": "stdout",
          "text": [
            "12.03.2022 19:30 BRASIL CAMPEONATO GAÚCHO - RODADA 11 Guarany de Bagé Internacional\n"
          ]
        },
        {
          "output_type": "stream",
          "name": "stderr",
          "text": [
            "\r 17%|█▋        | 12/72 [00:20<01:36,  1.60s/it]"
          ]
        },
        {
          "output_type": "stream",
          "name": "stdout",
          "text": [
            "12.03.2022 19:30 BRASIL CAMPEONATO GAÚCHO - RODADA 11 São José Novo Hamburgo\n"
          ]
        },
        {
          "output_type": "stream",
          "name": "stderr",
          "text": [
            "\r 18%|█▊        | 13/72 [00:21<01:34,  1.60s/it]"
          ]
        },
        {
          "output_type": "stream",
          "name": "stdout",
          "text": [
            "10.03.2022 00:00 BRASIL CAMPEONATO GAÚCHO - RODADA 9 Internacional Grêmio\n"
          ]
        },
        {
          "output_type": "stream",
          "name": "stderr",
          "text": [
            "\r 19%|█▉        | 14/72 [00:23<01:34,  1.62s/it]"
          ]
        },
        {
          "output_type": "stream",
          "name": "stdout",
          "text": [
            "06.03.2022 22:00 BRASIL CAMPEONATO GAÚCHO - RODADA 10 Juventude Guarany de Bagé\n"
          ]
        },
        {
          "output_type": "stream",
          "name": "stderr",
          "text": [
            "\r 21%|██        | 15/72 [00:25<01:33,  1.64s/it]"
          ]
        },
        {
          "output_type": "stream",
          "name": "stdout",
          "text": [
            "06.03.2022 22:00 BRASIL CAMPEONATO GAÚCHO - RODADA 10 São Luiz Brasil de Pelotas\n"
          ]
        },
        {
          "output_type": "stream",
          "name": "stderr",
          "text": [
            "\r 22%|██▏       | 16/72 [00:27<01:34,  1.69s/it]"
          ]
        },
        {
          "output_type": "stream",
          "name": "stdout",
          "text": [
            "06.03.2022 21:15 BRASIL CAMPEONATO GAÚCHO - RODADA 10 Internacional Aimoré\n"
          ]
        },
        {
          "output_type": "stream",
          "name": "stderr",
          "text": [
            "\r 24%|██▎       | 17/72 [00:28<01:31,  1.66s/it]"
          ]
        },
        {
          "output_type": "stream",
          "name": "stdout",
          "text": [
            "06.03.2022 19:00 BRASIL CAMPEONATO GAÚCHO - RODADA 10 União Frederiquense São José\n"
          ]
        },
        {
          "output_type": "stream",
          "name": "stderr",
          "text": [
            "\r 25%|██▌       | 18/72 [00:30<01:28,  1.64s/it]"
          ]
        },
        {
          "output_type": "stream",
          "name": "stdout",
          "text": [
            "05.03.2022 22:00 BRASIL CAMPEONATO GAÚCHO - RODADA 10 Ypiranga Caxias\n"
          ]
        },
        {
          "output_type": "stream",
          "name": "stderr",
          "text": [
            "\r 26%|██▋       | 19/72 [00:31<01:26,  1.63s/it]"
          ]
        },
        {
          "output_type": "stream",
          "name": "stdout",
          "text": [
            "05.03.2022 19:30 BRASIL CAMPEONATO GAÚCHO - RODADA 10 Novo Hamburgo Grêmio\n"
          ]
        },
        {
          "output_type": "stream",
          "name": "stderr",
          "text": [
            "\r 28%|██▊       | 20/72 [00:33<01:23,  1.61s/it]"
          ]
        },
        {
          "output_type": "stream",
          "name": "stdout",
          "text": [
            "27.02.2022 22:00 BRASIL CAMPEONATO GAÚCHO - RODADA 9 União Frederiquense Brasil de Pelotas\n"
          ]
        },
        {
          "output_type": "stream",
          "name": "stderr",
          "text": [
            "\r 29%|██▉       | 21/72 [00:35<01:23,  1.64s/it]"
          ]
        },
        {
          "output_type": "stream",
          "name": "stdout",
          "text": [
            "27.02.2022 19:00 BRASIL CAMPEONATO GAÚCHO - RODADA 9 Novo Hamburgo Aimoré\n"
          ]
        },
        {
          "output_type": "stream",
          "name": "stderr",
          "text": [
            "\r 31%|███       | 22/72 [00:36<01:23,  1.67s/it]"
          ]
        },
        {
          "output_type": "stream",
          "name": "stdout",
          "text": [
            "27.02.2022 19:00 BRASIL CAMPEONATO GAÚCHO - RODADA 9 Ypiranga Guarany de Bagé\n"
          ]
        },
        {
          "output_type": "stream",
          "name": "stderr",
          "text": [
            "\r 32%|███▏      | 23/72 [00:38<01:20,  1.65s/it]"
          ]
        },
        {
          "output_type": "stream",
          "name": "stdout",
          "text": [
            "26.02.2022 19:30 BRASIL CAMPEONATO GAÚCHO - RODADA 9 Juventude Caxias\n"
          ]
        },
        {
          "output_type": "stream",
          "name": "stderr",
          "text": [
            "\r 33%|███▎      | 24/72 [00:40<01:19,  1.66s/it]"
          ]
        },
        {
          "output_type": "stream",
          "name": "stdout",
          "text": [
            "26.02.2022 19:30 BRASIL CAMPEONATO GAÚCHO - RODADA 9 São Luiz São José\n"
          ]
        },
        {
          "output_type": "stream",
          "name": "stderr",
          "text": [
            "\r 35%|███▍      | 25/72 [00:41<01:18,  1.66s/it]"
          ]
        },
        {
          "output_type": "stream",
          "name": "stdout",
          "text": [
            "21.02.2022 23:00 BRASIL CAMPEONATO GAÚCHO - RODADA 8 Aimoré Juventude\n"
          ]
        },
        {
          "output_type": "stream",
          "name": "stderr",
          "text": [
            "\r 36%|███▌      | 26/72 [00:43<01:15,  1.65s/it]"
          ]
        },
        {
          "output_type": "stream",
          "name": "stdout",
          "text": [
            "20.02.2022 23:30 BRASIL CAMPEONATO GAÚCHO - RODADA 8 São José Internacional\n"
          ]
        },
        {
          "output_type": "stream",
          "name": "stderr",
          "text": [
            "\r 38%|███▊      | 27/72 [00:45<01:16,  1.69s/it]"
          ]
        },
        {
          "output_type": "stream",
          "name": "stdout",
          "text": [
            "20.02.2022 22:00 BRASIL CAMPEONATO GAÚCHO - RODADA 8 Caxias Novo Hamburgo\n"
          ]
        },
        {
          "output_type": "stream",
          "name": "stderr",
          "text": [
            "\r 39%|███▉      | 28/72 [00:46<01:14,  1.69s/it]"
          ]
        },
        {
          "output_type": "stream",
          "name": "stdout",
          "text": [
            "20.02.2022 19:00 BRASIL CAMPEONATO GAÚCHO - RODADA 8 Brasil de Pelotas Ypiranga\n"
          ]
        },
        {
          "output_type": "stream",
          "name": "stderr",
          "text": [
            "\r 40%|████      | 29/72 [00:48<01:11,  1.67s/it]"
          ]
        },
        {
          "output_type": "stream",
          "name": "stdout",
          "text": [
            "19.02.2022 22:00 BRASIL CAMPEONATO GAÚCHO - RODADA 8 Guarany de Bagé União Frederiquense\n"
          ]
        },
        {
          "output_type": "stream",
          "name": "stderr",
          "text": [
            "\r 42%|████▏     | 30/72 [00:49<01:07,  1.62s/it]"
          ]
        },
        {
          "output_type": "stream",
          "name": "stdout",
          "text": [
            "19.02.2022 19:30 BRASIL CAMPEONATO GAÚCHO - RODADA 8 Grêmio São Luiz\n"
          ]
        },
        {
          "output_type": "stream",
          "name": "stderr",
          "text": [
            "\r 43%|████▎     | 31/72 [00:51<01:08,  1.68s/it]"
          ]
        },
        {
          "output_type": "stream",
          "name": "stdout",
          "text": [
            "18.02.2022 00:30 BRASIL CAMPEONATO GAÚCHO - RODADA 7 Juventude São José\n"
          ]
        },
        {
          "output_type": "stream",
          "name": "stderr",
          "text": [
            "\r 44%|████▍     | 32/72 [00:53<01:06,  1.66s/it]"
          ]
        },
        {
          "output_type": "stream",
          "name": "stdout",
          "text": [
            "17.02.2022 22:00 BRASIL CAMPEONATO GAÚCHO - RODADA 7 Ypiranga Aimoré\n"
          ]
        },
        {
          "output_type": "stream",
          "name": "stderr",
          "text": [
            "\r 46%|████▌     | 33/72 [00:55<01:04,  1.65s/it]"
          ]
        },
        {
          "output_type": "stream",
          "name": "stdout",
          "text": [
            "17.02.2022 00:30 BRASIL CAMPEONATO GAÚCHO - RODADA 7 Internacional Brasil de Pelotas\n"
          ]
        },
        {
          "output_type": "stream",
          "name": "stderr",
          "text": [
            "\r 47%|████▋     | 34/72 [00:56<01:02,  1.65s/it]"
          ]
        },
        {
          "output_type": "stream",
          "name": "stdout",
          "text": [
            "17.02.2022 00:30 BRASIL CAMPEONATO GAÚCHO - RODADA 7 Novo Hamburgo Guarany de Bagé\n"
          ]
        },
        {
          "output_type": "stream",
          "name": "stderr",
          "text": [
            "\r 49%|████▊     | 35/72 [00:58<01:01,  1.65s/it]"
          ]
        },
        {
          "output_type": "stream",
          "name": "stdout",
          "text": [
            "16.02.2022 22:00 BRASIL CAMPEONATO GAÚCHO - RODADA 7 São Luiz Caxias\n"
          ]
        },
        {
          "output_type": "stream",
          "name": "stderr",
          "text": [
            "\r 50%|█████     | 36/72 [00:59<00:58,  1.62s/it]"
          ]
        },
        {
          "output_type": "stream",
          "name": "stdout",
          "text": [
            "16.02.2022 22:00 BRASIL CAMPEONATO GAÚCHO - RODADA 7 União Frederiquense Grêmio\n"
          ]
        },
        {
          "output_type": "stream",
          "name": "stderr",
          "text": [
            "\r 51%|█████▏    | 37/72 [01:01<00:55,  1.57s/it]"
          ]
        },
        {
          "output_type": "stream",
          "name": "stdout",
          "text": [
            "13.02.2022 22:00 BRASIL CAMPEONATO GAÚCHO - RODADA 6 Grêmio Juventude\n"
          ]
        },
        {
          "output_type": "stream",
          "name": "stderr",
          "text": [
            "\r 53%|█████▎    | 38/72 [01:03<00:56,  1.66s/it]"
          ]
        },
        {
          "output_type": "stream",
          "name": "stdout",
          "text": [
            "13.02.2022 22:00 BRASIL CAMPEONATO GAÚCHO - RODADA 6 São José Ypiranga\n"
          ]
        },
        {
          "output_type": "stream",
          "name": "stderr",
          "text": [
            "\r 54%|█████▍    | 39/72 [01:05<00:56,  1.71s/it]"
          ]
        },
        {
          "output_type": "stream",
          "name": "stdout",
          "text": [
            "13.02.2022 19:00 BRASIL CAMPEONATO GAÚCHO - RODADA 6 Brasil de Pelotas Novo Hamburgo\n"
          ]
        },
        {
          "output_type": "stream",
          "name": "stderr",
          "text": [
            "\r 56%|█████▌    | 40/72 [01:06<00:53,  1.67s/it]"
          ]
        },
        {
          "output_type": "stream",
          "name": "stdout",
          "text": [
            "13.02.2022 00:00 BRASIL CAMPEONATO GAÚCHO - RODADA 6 Aimoré União Frederiquense\n"
          ]
        },
        {
          "output_type": "stream",
          "name": "stderr",
          "text": [
            "\r 57%|█████▋    | 41/72 [01:08<00:50,  1.64s/it]"
          ]
        },
        {
          "output_type": "stream",
          "name": "stdout",
          "text": [
            "12.02.2022 21:00 BRASIL CAMPEONATO GAÚCHO - RODADA 6 Guarany de Bagé São Luiz\n"
          ]
        },
        {
          "output_type": "stream",
          "name": "stderr",
          "text": [
            "\r 58%|█████▊    | 42/72 [01:09<00:50,  1.67s/it]"
          ]
        },
        {
          "output_type": "stream",
          "name": "stdout",
          "text": [
            "12.02.2022 19:30 BRASIL CAMPEONATO GAÚCHO - RODADA 6 Caxias Internacional\n"
          ]
        },
        {
          "output_type": "stream",
          "name": "stderr",
          "text": [
            "\r 60%|█████▉    | 43/72 [01:11<00:46,  1.61s/it]"
          ]
        },
        {
          "output_type": "stream",
          "name": "stdout",
          "text": [
            "10.02.2022 22:00 BRASIL CAMPEONATO GAÚCHO - RODADA 5 Brasil de Pelotas São José\n"
          ]
        },
        {
          "output_type": "stream",
          "name": "stderr",
          "text": [
            "\r 61%|██████    | 44/72 [01:12<00:44,  1.59s/it]"
          ]
        },
        {
          "output_type": "stream",
          "name": "stdout",
          "text": [
            "10.02.2022 22:00 BRASIL CAMPEONATO GAÚCHO - RODADA 5 Juventude Ypiranga\n"
          ]
        },
        {
          "output_type": "stream",
          "name": "stderr",
          "text": [
            "\r 62%|██████▎   | 45/72 [01:14<00:44,  1.64s/it]"
          ]
        },
        {
          "output_type": "stream",
          "name": "stdout",
          "text": [
            "10.02.2022 00:30 BRASIL CAMPEONATO GAÚCHO - RODADA 5 Guarany de Bagé Caxias\n"
          ]
        },
        {
          "output_type": "stream",
          "name": "stderr",
          "text": [
            "\r 64%|██████▍   | 46/72 [01:16<00:43,  1.66s/it]"
          ]
        },
        {
          "output_type": "stream",
          "name": "stdout",
          "text": [
            "10.02.2022 00:30 BRASIL CAMPEONATO GAÚCHO - RODADA 5 Internacional Novo Hamburgo\n"
          ]
        },
        {
          "output_type": "stream",
          "name": "stderr",
          "text": [
            "\r 65%|██████▌   | 47/72 [01:17<00:37,  1.49s/it]"
          ]
        },
        {
          "output_type": "stream",
          "name": "stdout",
          "text": [
            "09.02.2022 23:30 BRASIL CAMPEONATO GAÚCHO - RODADA 5 Aimoré Grêmio\n"
          ]
        },
        {
          "output_type": "stream",
          "name": "stderr",
          "text": [
            "\r 67%|██████▋   | 48/72 [01:19<00:37,  1.54s/it]"
          ]
        },
        {
          "output_type": "stream",
          "name": "stdout",
          "text": [
            "09.02.2022 22:00 BRASIL CAMPEONATO GAÚCHO - RODADA 5 São Luiz União Frederiquense\n"
          ]
        },
        {
          "output_type": "stream",
          "name": "stderr",
          "text": [
            "\r 68%|██████▊   | 49/72 [01:20<00:36,  1.61s/it]"
          ]
        },
        {
          "output_type": "stream",
          "name": "stdout",
          "text": [
            "06.02.2022 22:30 BRASIL CAMPEONATO GAÚCHO - RODADA 4 Grêmio Guarany de Bagé\n"
          ]
        },
        {
          "output_type": "stream",
          "name": "stderr",
          "text": [
            "\r 69%|██████▉   | 50/72 [01:22<00:37,  1.68s/it]"
          ]
        },
        {
          "output_type": "stream",
          "name": "stdout",
          "text": [
            "06.02.2022 22:00 BRASIL CAMPEONATO GAÚCHO - RODADA 4 Novo Hamburgo São Luiz\n"
          ]
        },
        {
          "output_type": "stream",
          "name": "stderr",
          "text": [
            "\r 71%|███████   | 51/72 [01:24<00:35,  1.67s/it]"
          ]
        },
        {
          "output_type": "stream",
          "name": "stdout",
          "text": [
            "06.02.2022 22:00 BRASIL CAMPEONATO GAÚCHO - RODADA 4 São José Aimoré\n"
          ]
        },
        {
          "output_type": "stream",
          "name": "stderr",
          "text": [
            "\r 72%|███████▏  | 52/72 [01:25<00:32,  1.62s/it]"
          ]
        },
        {
          "output_type": "stream",
          "name": "stdout",
          "text": [
            "06.02.2022 21:30 BRASIL CAMPEONATO GAÚCHO - RODADA 4 União Frederiquense Juventude\n"
          ]
        },
        {
          "output_type": "stream",
          "name": "stderr",
          "text": [
            "\r 74%|███████▎  | 53/72 [01:27<00:32,  1.69s/it]"
          ]
        },
        {
          "output_type": "stream",
          "name": "stdout",
          "text": [
            "06.02.2022 19:00 BRASIL CAMPEONATO GAÚCHO - RODADA 4 Caxias Brasil de Pelotas\n"
          ]
        },
        {
          "output_type": "stream",
          "name": "stderr",
          "text": [
            "\r 75%|███████▌  | 54/72 [01:29<00:30,  1.69s/it]"
          ]
        },
        {
          "output_type": "stream",
          "name": "stdout",
          "text": [
            "05.02.2022 19:30 BRASIL CAMPEONATO GAÚCHO - RODADA 4 Ypiranga Internacional\n"
          ]
        },
        {
          "output_type": "stream",
          "name": "stderr",
          "text": [
            "\r 76%|███████▋  | 55/72 [01:30<00:27,  1.64s/it]"
          ]
        },
        {
          "output_type": "stream",
          "name": "stdout",
          "text": [
            "04.02.2022 00:30 BRASIL CAMPEONATO GAÚCHO - RODADA 3 Juventude Novo Hamburgo\n"
          ]
        },
        {
          "output_type": "stream",
          "name": "stderr",
          "text": [
            "\r 78%|███████▊  | 56/72 [01:32<00:26,  1.65s/it]"
          ]
        },
        {
          "output_type": "stream",
          "name": "stdout",
          "text": [
            "03.02.2022 22:00 BRASIL CAMPEONATO GAÚCHO - RODADA 3 Aimoré Caxias\n"
          ]
        },
        {
          "output_type": "stream",
          "name": "stderr",
          "text": [
            "\r 79%|███████▉  | 57/72 [01:34<00:25,  1.71s/it]"
          ]
        },
        {
          "output_type": "stream",
          "name": "stdout",
          "text": [
            "03.02.2022 00:30 BRASIL CAMPEONATO GAÚCHO - RODADA 3 Brasil de Pelotas Guarany de Bagé\n"
          ]
        },
        {
          "output_type": "stream",
          "name": "stderr",
          "text": [
            "\r 81%|████████  | 58/72 [01:36<00:24,  1.74s/it]"
          ]
        },
        {
          "output_type": "stream",
          "name": "stdout",
          "text": [
            "02.02.2022 22:00 BRASIL CAMPEONATO GAÚCHO - RODADA 3 São Luiz Internacional\n"
          ]
        },
        {
          "output_type": "stream",
          "name": "stderr",
          "text": [
            "\r 82%|████████▏ | 59/72 [01:37<00:22,  1.70s/it]"
          ]
        },
        {
          "output_type": "stream",
          "name": "stdout",
          "text": [
            "02.02.2022 22:00 BRASIL CAMPEONATO GAÚCHO - RODADA 3 Ypiranga União Frederiquense\n"
          ]
        },
        {
          "output_type": "stream",
          "name": "stderr",
          "text": [
            "\r 83%|████████▎ | 60/72 [01:39<00:19,  1.64s/it]"
          ]
        },
        {
          "output_type": "stream",
          "name": "stdout",
          "text": [
            "02.02.2022 19:30 BRASIL CAMPEONATO GAÚCHO - RODADA 3 Grêmio São José\n"
          ]
        },
        {
          "output_type": "stream",
          "name": "stderr",
          "text": [
            "\r 85%|████████▍ | 61/72 [01:41<00:18,  1.64s/it]"
          ]
        },
        {
          "output_type": "stream",
          "name": "stdout",
          "text": [
            "30.01.2022 22:00 BRASIL CAMPEONATO GAÚCHO - RODADA 2 Novo Hamburgo Ypiranga\n"
          ]
        },
        {
          "output_type": "stream",
          "name": "stderr",
          "text": [
            "\r 86%|████████▌ | 62/72 [01:42<00:16,  1.63s/it]"
          ]
        },
        {
          "output_type": "stream",
          "name": "stdout",
          "text": [
            "30.01.2022 22:00 BRASIL CAMPEONATO GAÚCHO - RODADA 2 São Luiz Juventude\n"
          ]
        },
        {
          "output_type": "stream",
          "name": "stderr",
          "text": [
            "\r 88%|████████▊ | 63/72 [01:44<00:14,  1.64s/it]"
          ]
        },
        {
          "output_type": "stream",
          "name": "stdout",
          "text": [
            "30.01.2022 19:00 BRASIL CAMPEONATO GAÚCHO - RODADA 2 Caxias São José\n"
          ]
        },
        {
          "output_type": "stream",
          "name": "stderr",
          "text": [
            "\r 89%|████████▉ | 64/72 [01:46<00:13,  1.64s/it]"
          ]
        },
        {
          "output_type": "stream",
          "name": "stdout",
          "text": [
            "30.01.2022 19:00 BRASIL CAMPEONATO GAÚCHO - RODADA 2 Guarany de Bagé Aimoré\n"
          ]
        },
        {
          "output_type": "stream",
          "name": "stderr",
          "text": [
            "\r 90%|█████████ | 65/72 [01:47<00:11,  1.63s/it]"
          ]
        },
        {
          "output_type": "stream",
          "name": "stdout",
          "text": [
            "29.01.2022 22:00 BRASIL CAMPEONATO GAÚCHO - RODADA 2 Internacional União Frederiquense\n"
          ]
        },
        {
          "output_type": "stream",
          "name": "stderr",
          "text": [
            "\r 92%|█████████▏| 66/72 [01:50<00:12,  2.02s/it]"
          ]
        },
        {
          "output_type": "stream",
          "name": "stdout",
          "text": [
            "29.01.2022 19:30 BRASIL CAMPEONATO GAÚCHO - RODADA 2 Brasil de Pelotas Grêmio\n"
          ]
        },
        {
          "output_type": "stream",
          "name": "stderr",
          "text": [
            "\r 93%|█████████▎| 67/72 [01:53<00:10,  2.15s/it]"
          ]
        },
        {
          "output_type": "stream",
          "name": "stdout",
          "text": [
            "28.01.2022 00:30 BRASIL CAMPEONATO GAÚCHO - RODADA 1 São José Guarany de Bagé\n"
          ]
        },
        {
          "output_type": "stream",
          "name": "stderr",
          "text": [
            "\r 94%|█████████▍| 68/72 [01:55<00:09,  2.30s/it]"
          ]
        },
        {
          "output_type": "stream",
          "name": "stdout",
          "text": [
            "27.01.2022 22:00 BRASIL CAMPEONATO GAÚCHO - RODADA 1 Ypiranga São Luiz\n"
          ]
        },
        {
          "output_type": "stream",
          "name": "stderr",
          "text": [
            "\r 96%|█████████▌| 69/72 [01:57<00:06,  2.31s/it]"
          ]
        },
        {
          "output_type": "stream",
          "name": "stdout",
          "text": [
            "27.01.2022 00:30 BRASIL CAMPEONATO GAÚCHO - RODADA 1 Aimoré Brasil de Pelotas\n"
          ]
        },
        {
          "output_type": "stream",
          "name": "stderr",
          "text": [
            "\r 97%|█████████▋| 70/72 [02:01<00:05,  2.53s/it]"
          ]
        },
        {
          "output_type": "stream",
          "name": "stdout",
          "text": [
            "26.01.2022 23:00 BRASIL CAMPEONATO GAÚCHO - RODADA 1 União Frederiquense Novo Hamburgo\n"
          ]
        },
        {
          "output_type": "stream",
          "name": "stderr",
          "text": [
            "\r 99%|█████████▊| 71/72 [02:03<00:02,  2.55s/it]"
          ]
        },
        {
          "output_type": "stream",
          "name": "stdout",
          "text": [
            "26.01.2022 22:00 BRASIL CAMPEONATO GAÚCHO - RODADA 1 Grêmio Caxias\n"
          ]
        },
        {
          "output_type": "stream",
          "name": "stderr",
          "text": [
            "100%|██████████| 72/72 [02:06<00:00,  1.75s/it]"
          ]
        },
        {
          "output_type": "stream",
          "name": "stdout",
          "text": [
            "26.01.2022 19:00 BRASIL CAMPEONATO GAÚCHO - RODADA 1 Juventude Internacional\n"
          ]
        },
        {
          "output_type": "stream",
          "name": "stderr",
          "text": [
            "\n"
          ]
        }
      ]
    },
    {
      "cell_type": "code",
      "source": [
        "df = pd.DataFrame(jogo)\n",
        "df"
      ],
      "metadata": {
        "colab": {
          "base_uri": "https://localhost:8080/",
          "height": 424
        },
        "id": "WsUZmiMu4r_n",
        "outputId": "24c428ab-c669-4552-9fe2-e264164a5a85"
      },
      "execution_count": null,
      "outputs": [
        {
          "output_type": "execute_result",
          "data": {
            "text/plain": [
              "          Date   Time Country                                     League  \\\n",
              "0   02.04.2022  19:30  BRASIL       CAMPEONATO GAÚCHO - PLAYOFFS - FINAL   \n",
              "1   26.03.2022  19:30  BRASIL       CAMPEONATO GAÚCHO - PLAYOFFS - FINAL   \n",
              "2   24.03.2022  01:15  BRASIL  CAMPEONATO GAÚCHO - PLAYOFFS - SEMIFINAIS   \n",
              "3   23.03.2022  22:30  BRASIL  CAMPEONATO GAÚCHO - PLAYOFFS - SEMIFINAIS   \n",
              "4   20.03.2022  23:30  BRASIL  CAMPEONATO GAÚCHO - PLAYOFFS - SEMIFINAIS   \n",
              "..         ...    ...     ...                                        ...   \n",
              "67  27.01.2022  22:00  BRASIL               CAMPEONATO GAÚCHO - RODADA 1   \n",
              "68  27.01.2022  00:30  BRASIL               CAMPEONATO GAÚCHO - RODADA 1   \n",
              "69  26.01.2022  23:00  BRASIL               CAMPEONATO GAÚCHO - RODADA 1   \n",
              "70  26.01.2022  22:00  BRASIL               CAMPEONATO GAÚCHO - RODADA 1   \n",
              "71  26.01.2022  19:00  BRASIL               CAMPEONATO GAÚCHO - RODADA 1   \n",
              "\n",
              "                   Home               Away  \n",
              "0                Grêmio           Ypiranga  \n",
              "1              Ypiranga             Grêmio  \n",
              "2                Grêmio      Internacional  \n",
              "3              Ypiranga  Brasil de Pelotas  \n",
              "4     Brasil de Pelotas           Ypiranga  \n",
              "..                  ...                ...  \n",
              "67             Ypiranga           São Luiz  \n",
              "68               Aimoré  Brasil de Pelotas  \n",
              "69  União Frederiquense      Novo Hamburgo  \n",
              "70               Grêmio             Caxias  \n",
              "71            Juventude      Internacional  \n",
              "\n",
              "[72 rows x 6 columns]"
            ],
            "text/html": [
              "\n",
              "  <div id=\"df-936a87c3-f7b3-44aa-842f-9e80e7d83141\">\n",
              "    <div class=\"colab-df-container\">\n",
              "      <div>\n",
              "<style scoped>\n",
              "    .dataframe tbody tr th:only-of-type {\n",
              "        vertical-align: middle;\n",
              "    }\n",
              "\n",
              "    .dataframe tbody tr th {\n",
              "        vertical-align: top;\n",
              "    }\n",
              "\n",
              "    .dataframe thead th {\n",
              "        text-align: right;\n",
              "    }\n",
              "</style>\n",
              "<table border=\"1\" class=\"dataframe\">\n",
              "  <thead>\n",
              "    <tr style=\"text-align: right;\">\n",
              "      <th></th>\n",
              "      <th>Date</th>\n",
              "      <th>Time</th>\n",
              "      <th>Country</th>\n",
              "      <th>League</th>\n",
              "      <th>Home</th>\n",
              "      <th>Away</th>\n",
              "    </tr>\n",
              "  </thead>\n",
              "  <tbody>\n",
              "    <tr>\n",
              "      <th>0</th>\n",
              "      <td>02.04.2022</td>\n",
              "      <td>19:30</td>\n",
              "      <td>BRASIL</td>\n",
              "      <td>CAMPEONATO GAÚCHO - PLAYOFFS - FINAL</td>\n",
              "      <td>Grêmio</td>\n",
              "      <td>Ypiranga</td>\n",
              "    </tr>\n",
              "    <tr>\n",
              "      <th>1</th>\n",
              "      <td>26.03.2022</td>\n",
              "      <td>19:30</td>\n",
              "      <td>BRASIL</td>\n",
              "      <td>CAMPEONATO GAÚCHO - PLAYOFFS - FINAL</td>\n",
              "      <td>Ypiranga</td>\n",
              "      <td>Grêmio</td>\n",
              "    </tr>\n",
              "    <tr>\n",
              "      <th>2</th>\n",
              "      <td>24.03.2022</td>\n",
              "      <td>01:15</td>\n",
              "      <td>BRASIL</td>\n",
              "      <td>CAMPEONATO GAÚCHO - PLAYOFFS - SEMIFINAIS</td>\n",
              "      <td>Grêmio</td>\n",
              "      <td>Internacional</td>\n",
              "    </tr>\n",
              "    <tr>\n",
              "      <th>3</th>\n",
              "      <td>23.03.2022</td>\n",
              "      <td>22:30</td>\n",
              "      <td>BRASIL</td>\n",
              "      <td>CAMPEONATO GAÚCHO - PLAYOFFS - SEMIFINAIS</td>\n",
              "      <td>Ypiranga</td>\n",
              "      <td>Brasil de Pelotas</td>\n",
              "    </tr>\n",
              "    <tr>\n",
              "      <th>4</th>\n",
              "      <td>20.03.2022</td>\n",
              "      <td>23:30</td>\n",
              "      <td>BRASIL</td>\n",
              "      <td>CAMPEONATO GAÚCHO - PLAYOFFS - SEMIFINAIS</td>\n",
              "      <td>Brasil de Pelotas</td>\n",
              "      <td>Ypiranga</td>\n",
              "    </tr>\n",
              "    <tr>\n",
              "      <th>...</th>\n",
              "      <td>...</td>\n",
              "      <td>...</td>\n",
              "      <td>...</td>\n",
              "      <td>...</td>\n",
              "      <td>...</td>\n",
              "      <td>...</td>\n",
              "    </tr>\n",
              "    <tr>\n",
              "      <th>67</th>\n",
              "      <td>27.01.2022</td>\n",
              "      <td>22:00</td>\n",
              "      <td>BRASIL</td>\n",
              "      <td>CAMPEONATO GAÚCHO - RODADA 1</td>\n",
              "      <td>Ypiranga</td>\n",
              "      <td>São Luiz</td>\n",
              "    </tr>\n",
              "    <tr>\n",
              "      <th>68</th>\n",
              "      <td>27.01.2022</td>\n",
              "      <td>00:30</td>\n",
              "      <td>BRASIL</td>\n",
              "      <td>CAMPEONATO GAÚCHO - RODADA 1</td>\n",
              "      <td>Aimoré</td>\n",
              "      <td>Brasil de Pelotas</td>\n",
              "    </tr>\n",
              "    <tr>\n",
              "      <th>69</th>\n",
              "      <td>26.01.2022</td>\n",
              "      <td>23:00</td>\n",
              "      <td>BRASIL</td>\n",
              "      <td>CAMPEONATO GAÚCHO - RODADA 1</td>\n",
              "      <td>União Frederiquense</td>\n",
              "      <td>Novo Hamburgo</td>\n",
              "    </tr>\n",
              "    <tr>\n",
              "      <th>70</th>\n",
              "      <td>26.01.2022</td>\n",
              "      <td>22:00</td>\n",
              "      <td>BRASIL</td>\n",
              "      <td>CAMPEONATO GAÚCHO - RODADA 1</td>\n",
              "      <td>Grêmio</td>\n",
              "      <td>Caxias</td>\n",
              "    </tr>\n",
              "    <tr>\n",
              "      <th>71</th>\n",
              "      <td>26.01.2022</td>\n",
              "      <td>19:00</td>\n",
              "      <td>BRASIL</td>\n",
              "      <td>CAMPEONATO GAÚCHO - RODADA 1</td>\n",
              "      <td>Juventude</td>\n",
              "      <td>Internacional</td>\n",
              "    </tr>\n",
              "  </tbody>\n",
              "</table>\n",
              "<p>72 rows × 6 columns</p>\n",
              "</div>\n",
              "      <button class=\"colab-df-convert\" onclick=\"convertToInteractive('df-936a87c3-f7b3-44aa-842f-9e80e7d83141')\"\n",
              "              title=\"Convert this dataframe to an interactive table.\"\n",
              "              style=\"display:none;\">\n",
              "        \n",
              "  <svg xmlns=\"http://www.w3.org/2000/svg\" height=\"24px\"viewBox=\"0 0 24 24\"\n",
              "       width=\"24px\">\n",
              "    <path d=\"M0 0h24v24H0V0z\" fill=\"none\"/>\n",
              "    <path d=\"M18.56 5.44l.94 2.06.94-2.06 2.06-.94-2.06-.94-.94-2.06-.94 2.06-2.06.94zm-11 1L8.5 8.5l.94-2.06 2.06-.94-2.06-.94L8.5 2.5l-.94 2.06-2.06.94zm10 10l.94 2.06.94-2.06 2.06-.94-2.06-.94-.94-2.06-.94 2.06-2.06.94z\"/><path d=\"M17.41 7.96l-1.37-1.37c-.4-.4-.92-.59-1.43-.59-.52 0-1.04.2-1.43.59L10.3 9.45l-7.72 7.72c-.78.78-.78 2.05 0 2.83L4 21.41c.39.39.9.59 1.41.59.51 0 1.02-.2 1.41-.59l7.78-7.78 2.81-2.81c.8-.78.8-2.07 0-2.86zM5.41 20L4 18.59l7.72-7.72 1.47 1.35L5.41 20z\"/>\n",
              "  </svg>\n",
              "      </button>\n",
              "      \n",
              "  <style>\n",
              "    .colab-df-container {\n",
              "      display:flex;\n",
              "      flex-wrap:wrap;\n",
              "      gap: 12px;\n",
              "    }\n",
              "\n",
              "    .colab-df-convert {\n",
              "      background-color: #E8F0FE;\n",
              "      border: none;\n",
              "      border-radius: 50%;\n",
              "      cursor: pointer;\n",
              "      display: none;\n",
              "      fill: #1967D2;\n",
              "      height: 32px;\n",
              "      padding: 0 0 0 0;\n",
              "      width: 32px;\n",
              "    }\n",
              "\n",
              "    .colab-df-convert:hover {\n",
              "      background-color: #E2EBFA;\n",
              "      box-shadow: 0px 1px 2px rgba(60, 64, 67, 0.3), 0px 1px 3px 1px rgba(60, 64, 67, 0.15);\n",
              "      fill: #174EA6;\n",
              "    }\n",
              "\n",
              "    [theme=dark] .colab-df-convert {\n",
              "      background-color: #3B4455;\n",
              "      fill: #D2E3FC;\n",
              "    }\n",
              "\n",
              "    [theme=dark] .colab-df-convert:hover {\n",
              "      background-color: #434B5C;\n",
              "      box-shadow: 0px 1px 3px 1px rgba(0, 0, 0, 0.15);\n",
              "      filter: drop-shadow(0px 1px 2px rgba(0, 0, 0, 0.3));\n",
              "      fill: #FFFFFF;\n",
              "    }\n",
              "  </style>\n",
              "\n",
              "      <script>\n",
              "        const buttonEl =\n",
              "          document.querySelector('#df-936a87c3-f7b3-44aa-842f-9e80e7d83141 button.colab-df-convert');\n",
              "        buttonEl.style.display =\n",
              "          google.colab.kernel.accessAllowed ? 'block' : 'none';\n",
              "\n",
              "        async function convertToInteractive(key) {\n",
              "          const element = document.querySelector('#df-936a87c3-f7b3-44aa-842f-9e80e7d83141');\n",
              "          const dataTable =\n",
              "            await google.colab.kernel.invokeFunction('convertToInteractive',\n",
              "                                                     [key], {});\n",
              "          if (!dataTable) return;\n",
              "\n",
              "          const docLinkHtml = 'Like what you see? Visit the ' +\n",
              "            '<a target=\"_blank\" href=https://colab.research.google.com/notebooks/data_table.ipynb>data table notebook</a>'\n",
              "            + ' to learn more about interactive tables.';\n",
              "          element.innerHTML = '';\n",
              "          dataTable['output_type'] = 'display_data';\n",
              "          await google.colab.output.renderOutput(dataTable, element);\n",
              "          const docLink = document.createElement('div');\n",
              "          docLink.innerHTML = docLinkHtml;\n",
              "          element.appendChild(docLink);\n",
              "        }\n",
              "      </script>\n",
              "    </div>\n",
              "  </div>\n",
              "  "
            ]
          },
          "metadata": {},
          "execution_count": 39
        }
      ]
    },
    {
      "cell_type": "code",
      "source": [
        "df.to_excel('campeonato_gaucho_resultados_2022.xlsx')"
      ],
      "metadata": {
        "id": "N9fyTgM-4tj_"
      },
      "execution_count": null,
      "outputs": []
    },
    {
      "cell_type": "markdown",
      "source": [
        "# Campeonato Paulista - 2022 - Resultados (Jogos que já aconteceram)"
      ],
      "metadata": {
        "id": "0nE5A1_t40oj"
      }
    },
    {
      "cell_type": "code",
      "source": [
        "# Com o WebDrive a gente consegue a pedir a página (URL)\n",
        "wd_Chrome.get(\"https://www.flashscore.com.br/futebol/brasil/campeonato-paulista/resultados/\")\n",
        "\n",
        "while True:\n",
        "  try:\n",
        "    botao_mais = wd_Chrome.find_element(By.XPATH, '//*[@id=\"live-table\"]/div[1]/div/div/a')\n",
        "    wd_Chrome.execute_script('arguments[0].click();', botao_mais)\n",
        "    time.sleep(5)\n",
        "  except:\n",
        "    break"
      ],
      "metadata": {
        "id": "teZJRrUV5D-Z"
      },
      "execution_count": null,
      "outputs": []
    },
    {
      "cell_type": "code",
      "source": [
        "# Pegando o ID dos Jogos\n",
        "id_jogos = []\n",
        "jogos = wd_Chrome.find_elements(By.CSS_SELECTOR,'div.event__match--static')\n",
        "\n",
        "for i in jogos:\n",
        "    id_jogos.append(i.get_attribute(\"id\"))\n",
        "\n",
        "# Exemplo de ID de um jogo: 'g_1_Gb7buXVt'    \n",
        "id_jogos = [i[4:] for i in id_jogos]\n",
        "\n",
        "jogo = {'Date':[],'Time':[],'Country':[],'League':[],'Home':[],'Away':[]}"
      ],
      "metadata": {
        "id": "LQQO66eK5Izp"
      },
      "execution_count": null,
      "outputs": []
    },
    {
      "cell_type": "code",
      "source": [
        "for link in tqdm(id_jogos, total=len(id_jogos)):\n",
        "    wd_Chrome.get(f'https://www.flashscore.com.br/jogo/{link}/#/resumo-de-jogo')\n",
        "    \n",
        "    # Pegando as Informacoes Básicas do Jogo\n",
        "    try:\n",
        "        Date = wd_Chrome.find_element(By.CSS_SELECTOR,'div.duelParticipant__startTime').text.split(' ')[0]\n",
        "        Time = wd_Chrome.find_element(By.CSS_SELECTOR,'div.duelParticipant__startTime').text.split(' ')[1]\n",
        "        Country = wd_Chrome.find_element(By.CSS_SELECTOR,'span.tournamentHeader__country').text.split(':')[0]\n",
        "        League = wd_Chrome.find_element(By.CSS_SELECTOR,'span.tournamentHeader__country')\n",
        "        League = League.find_element(By.CSS_SELECTOR,'a').text\n",
        "        Home = wd_Chrome.find_element(By.CSS_SELECTOR,'div.duelParticipant__home')\n",
        "        Home = Home.find_element(By.CSS_SELECTOR,'div.participant__participantName').text\n",
        "        Away = wd_Chrome.find_element(By.CSS_SELECTOR,'div.duelParticipant__away')\n",
        "        Away = Away.find_element(By.CSS_SELECTOR,'div.participant__participantName').text          \n",
        "\n",
        "    except:\n",
        "        pass\n",
        "\n",
        "    print(Date,Time,Country,League,Home,Away) \n",
        "\n",
        "    jogo['Date'].append(Date)\n",
        "    jogo['Time'].append(Time)\n",
        "    jogo['Country'].append(Country)\n",
        "    jogo['League'].append(League)\n",
        "    jogo['Home'].append(Home)\n",
        "    jogo['Away'].append(Away)"
      ],
      "metadata": {
        "colab": {
          "base_uri": "https://localhost:8080/"
        },
        "id": "HkFs4DZg5K1j",
        "outputId": "97d4addd-3b23-46d8-b20a-59de09d8d759"
      },
      "execution_count": null,
      "outputs": [
        {
          "output_type": "stream",
          "name": "stderr",
          "text": [
            "  1%|          | 1/109 [00:01<03:32,  1.97s/it]"
          ]
        },
        {
          "output_type": "stream",
          "name": "stdout",
          "text": [
            "03.04.2022 19:00 BRASIL CAMPEONATO PAULISTA - PLAYOFFS - FINAL Palmeiras São Paulo\n"
          ]
        },
        {
          "output_type": "stream",
          "name": "stderr",
          "text": [
            "\r  2%|▏         | 2/109 [00:03<02:41,  1.51s/it]"
          ]
        },
        {
          "output_type": "stream",
          "name": "stdout",
          "text": [
            "31.03.2022 23:00 BRASIL CAMPEONATO PAULISTA - TROFÉU INTERIOR - PLAYOFFS - FINAL Botafogo-SP Ituano\n"
          ]
        },
        {
          "output_type": "stream",
          "name": "stderr",
          "text": [
            "\r  3%|▎         | 3/109 [00:05<02:57,  1.68s/it]"
          ]
        },
        {
          "output_type": "stream",
          "name": "stdout",
          "text": [
            "31.03.2022 00:40 BRASIL CAMPEONATO PAULISTA - PLAYOFFS - FINAL São Paulo Palmeiras\n"
          ]
        },
        {
          "output_type": "stream",
          "name": "stderr",
          "text": [
            "\r  4%|▎         | 4/109 [00:06<02:56,  1.68s/it]"
          ]
        },
        {
          "output_type": "stream",
          "name": "stdout",
          "text": [
            "28.03.2022 22:00 BRASIL CAMPEONATO PAULISTA - TROFÉU INTERIOR - PLAYOFFS - SEMIFINAIS Botafogo-SP Internacional de Limeira\n"
          ]
        },
        {
          "output_type": "stream",
          "name": "stderr",
          "text": [
            "\r  5%|▍         | 5/109 [00:08<02:57,  1.71s/it]"
          ]
        },
        {
          "output_type": "stream",
          "name": "stdout",
          "text": [
            "28.03.2022 22:00 BRASIL CAMPEONATO PAULISTA - TROFÉU INTERIOR - PLAYOFFS - SEMIFINAIS Ituano Água Santa\n"
          ]
        },
        {
          "output_type": "stream",
          "name": "stderr",
          "text": [
            "\r  6%|▌         | 6/109 [00:10<02:49,  1.65s/it]"
          ]
        },
        {
          "output_type": "stream",
          "name": "stdout",
          "text": [
            "27.03.2022 19:00 BRASIL CAMPEONATO PAULISTA - PLAYOFFS - SEMIFINAIS São Paulo Corinthians\n"
          ]
        },
        {
          "output_type": "stream",
          "name": "stderr",
          "text": [
            "\r  6%|▋         | 7/109 [00:11<02:39,  1.56s/it]"
          ]
        },
        {
          "output_type": "stream",
          "name": "stdout",
          "text": [
            "26.03.2022 21:30 BRASIL CAMPEONATO PAULISTA - PLAYOFFS - SEMIFINAIS Palmeiras Red Bull Bragantino\n"
          ]
        },
        {
          "output_type": "stream",
          "name": "stderr",
          "text": [
            "\r  7%|▋         | 8/109 [00:13<02:44,  1.63s/it]"
          ]
        },
        {
          "output_type": "stream",
          "name": "stdout",
          "text": [
            "26.03.2022 00:00 BRASIL CAMPEONATO PAULISTA - TROFÉU INTERIOR - PLAYOFFS - QUARTAS DE FINAL Ferroviária Internacional de Limeira\n"
          ]
        },
        {
          "output_type": "stream",
          "name": "stderr",
          "text": [
            "\r  8%|▊         | 9/109 [00:14<02:44,  1.64s/it]"
          ]
        },
        {
          "output_type": "stream",
          "name": "stdout",
          "text": [
            "25.03.2022 22:00 BRASIL CAMPEONATO PAULISTA - TROFÉU INTERIOR - PLAYOFFS - QUARTAS DE FINAL Mirassol Água Santa\n"
          ]
        },
        {
          "output_type": "stream",
          "name": "stderr",
          "text": [
            "\r  9%|▉         | 10/109 [00:16<02:49,  1.71s/it]"
          ]
        },
        {
          "output_type": "stream",
          "name": "stdout",
          "text": [
            "24.03.2022 22:00 BRASIL CAMPEONATO PAULISTA - PLAYOFFS - QUARTAS DE FINAL Corinthians Guarani\n"
          ]
        },
        {
          "output_type": "stream",
          "name": "stderr",
          "text": [
            "\r 10%|█         | 11/109 [00:18<02:37,  1.61s/it]"
          ]
        },
        {
          "output_type": "stream",
          "name": "stdout",
          "text": [
            "24.03.2022 00:35 BRASIL CAMPEONATO PAULISTA - PLAYOFFS - QUARTAS DE FINAL Palmeiras Ituano\n"
          ]
        },
        {
          "output_type": "stream",
          "name": "stderr",
          "text": [
            "\r 11%|█         | 12/109 [00:19<02:38,  1.63s/it]"
          ]
        },
        {
          "output_type": "stream",
          "name": "stdout",
          "text": [
            "23.03.2022 22:00 BRASIL CAMPEONATO PAULISTA - PLAYOFFS - QUARTAS DE FINAL Red Bull Bragantino Santo André\n"
          ]
        },
        {
          "output_type": "stream",
          "name": "stderr",
          "text": [
            "\r 12%|█▏        | 13/109 [00:21<02:26,  1.53s/it]"
          ]
        },
        {
          "output_type": "stream",
          "name": "stdout",
          "text": [
            "22.03.2022 23:30 BRASIL CAMPEONATO PAULISTA - PLAYOFFS - QUARTAS DE FINAL São Paulo São Bernardo\n"
          ]
        },
        {
          "output_type": "stream",
          "name": "stderr",
          "text": [
            "\r 13%|█▎        | 14/109 [00:22<02:30,  1.58s/it]"
          ]
        },
        {
          "output_type": "stream",
          "name": "stdout",
          "text": [
            "20.03.2022 19:00 BRASIL CAMPEONATO PAULISTA - RODADA 12 Novorizontino Corinthians\n"
          ]
        },
        {
          "output_type": "stream",
          "name": "stderr",
          "text": [
            "\r 14%|█▍        | 15/109 [00:24<02:32,  1.62s/it]"
          ]
        },
        {
          "output_type": "stream",
          "name": "stdout",
          "text": [
            "20.03.2022 19:00 BRASIL CAMPEONATO PAULISTA - RODADA 12 Red Bull Bragantino Palmeiras\n"
          ]
        },
        {
          "output_type": "stream",
          "name": "stderr",
          "text": [
            "\r 15%|█▍        | 16/109 [00:25<02:22,  1.53s/it]"
          ]
        },
        {
          "output_type": "stream",
          "name": "stdout",
          "text": [
            "19.03.2022 19:00 BRASIL CAMPEONATO PAULISTA - RODADA 12 Ferroviária Mirassol\n"
          ]
        },
        {
          "output_type": "stream",
          "name": "stderr",
          "text": [
            "\r 16%|█▌        | 17/109 [00:27<02:30,  1.63s/it]"
          ]
        },
        {
          "output_type": "stream",
          "name": "stdout",
          "text": [
            "19.03.2022 19:00 BRASIL CAMPEONATO PAULISTA - RODADA 12 Ponte Preta Ituano\n"
          ]
        },
        {
          "output_type": "stream",
          "name": "stderr",
          "text": [
            "\r 17%|█▋        | 18/109 [00:29<02:30,  1.65s/it]"
          ]
        },
        {
          "output_type": "stream",
          "name": "stdout",
          "text": [
            "19.03.2022 19:00 BRASIL CAMPEONATO PAULISTA - RODADA 12 Santo André Internacional de Limeira\n"
          ]
        },
        {
          "output_type": "stream",
          "name": "stderr",
          "text": [
            "\r 17%|█▋        | 19/109 [00:31<02:35,  1.73s/it]"
          ]
        },
        {
          "output_type": "stream",
          "name": "stdout",
          "text": [
            "19.03.2022 19:00 BRASIL CAMPEONATO PAULISTA - RODADA 12 Santos Água Santa\n"
          ]
        },
        {
          "output_type": "stream",
          "name": "stderr",
          "text": [
            "\r 18%|█▊        | 20/109 [00:32<02:33,  1.72s/it]"
          ]
        },
        {
          "output_type": "stream",
          "name": "stdout",
          "text": [
            "19.03.2022 19:00 BRASIL CAMPEONATO PAULISTA - RODADA 12 São Bernardo Guarani\n"
          ]
        },
        {
          "output_type": "stream",
          "name": "stderr",
          "text": [
            "\r 19%|█▉        | 21/109 [00:34<02:32,  1.73s/it]"
          ]
        },
        {
          "output_type": "stream",
          "name": "stdout",
          "text": [
            "19.03.2022 19:00 BRASIL CAMPEONATO PAULISTA - RODADA 12 São Paulo Botafogo-SP\n"
          ]
        },
        {
          "output_type": "stream",
          "name": "stderr",
          "text": [
            "\r 20%|██        | 22/109 [00:36<02:31,  1.74s/it]"
          ]
        },
        {
          "output_type": "stream",
          "name": "stdout",
          "text": [
            "17.03.2022 23:30 BRASIL CAMPEONATO PAULISTA - RODADA 6 Palmeiras Corinthians\n"
          ]
        },
        {
          "output_type": "stream",
          "name": "stderr",
          "text": [
            "\r 21%|██        | 23/109 [00:38<02:32,  1.78s/it]"
          ]
        },
        {
          "output_type": "stream",
          "name": "stdout",
          "text": [
            "16.03.2022 22:00 BRASIL CAMPEONATO PAULISTA - RODADA 10 Ferroviária Santos\n"
          ]
        },
        {
          "output_type": "stream",
          "name": "stderr",
          "text": [
            "\r 22%|██▏       | 24/109 [00:40<02:31,  1.78s/it]"
          ]
        },
        {
          "output_type": "stream",
          "name": "stdout",
          "text": [
            "13.03.2022 23:30 BRASIL CAMPEONATO PAULISTA - RODADA 11 Botafogo-SP Novorizontino\n"
          ]
        },
        {
          "output_type": "stream",
          "name": "stderr",
          "text": [
            "\r 23%|██▎       | 25/109 [00:41<02:16,  1.63s/it]"
          ]
        },
        {
          "output_type": "stream",
          "name": "stdout",
          "text": [
            "13.03.2022 23:30 BRASIL CAMPEONATO PAULISTA - RODADA 11 Ituano Red Bull Bragantino\n"
          ]
        },
        {
          "output_type": "stream",
          "name": "stderr",
          "text": [
            "\r 24%|██▍       | 26/109 [00:43<02:21,  1.70s/it]"
          ]
        },
        {
          "output_type": "stream",
          "name": "stdout",
          "text": [
            "13.03.2022 21:30 BRASIL CAMPEONATO PAULISTA - RODADA 11 Palmeiras Santos\n"
          ]
        },
        {
          "output_type": "stream",
          "name": "stderr",
          "text": [
            "\r 25%|██▍       | 27/109 [00:45<02:22,  1.74s/it]"
          ]
        },
        {
          "output_type": "stream",
          "name": "stdout",
          "text": [
            "13.03.2022 19:00 BRASIL CAMPEONATO PAULISTA - RODADA 11 Mirassol São Paulo\n"
          ]
        },
        {
          "output_type": "stream",
          "name": "stderr",
          "text": [
            "\r 26%|██▌       | 28/109 [00:46<02:19,  1.72s/it]"
          ]
        },
        {
          "output_type": "stream",
          "name": "stdout",
          "text": [
            "12.03.2022 23:30 BRASIL CAMPEONATO PAULISTA - RODADA 11 Internacional de Limeira São Bernardo\n"
          ]
        },
        {
          "output_type": "stream",
          "name": "stderr",
          "text": [
            "\r 27%|██▋       | 29/109 [00:48<02:21,  1.77s/it]"
          ]
        },
        {
          "output_type": "stream",
          "name": "stdout",
          "text": [
            "12.03.2022 21:30 BRASIL CAMPEONATO PAULISTA - RODADA 11 Corinthians Ponte Preta\n"
          ]
        },
        {
          "output_type": "stream",
          "name": "stderr",
          "text": [
            "\r 28%|██▊       | 30/109 [00:50<02:24,  1.83s/it]"
          ]
        },
        {
          "output_type": "stream",
          "name": "stdout",
          "text": [
            "12.03.2022 19:00 BRASIL CAMPEONATO PAULISTA - RODADA 11 Guarani Ferroviária\n"
          ]
        },
        {
          "output_type": "stream",
          "name": "stderr",
          "text": [
            "\r 28%|██▊       | 31/109 [00:52<02:17,  1.76s/it]"
          ]
        },
        {
          "output_type": "stream",
          "name": "stdout",
          "text": [
            "12.03.2022 18:00 BRASIL CAMPEONATO PAULISTA - RODADA 11 Água Santa Santo André\n"
          ]
        },
        {
          "output_type": "stream",
          "name": "stderr",
          "text": [
            "\r 29%|██▉       | 32/109 [00:53<02:05,  1.62s/it]"
          ]
        },
        {
          "output_type": "stream",
          "name": "stdout",
          "text": [
            "10.03.2022 23:30 BRASIL CAMPEONATO PAULISTA - RODADA 4 São Paulo Palmeiras\n"
          ]
        },
        {
          "output_type": "stream",
          "name": "stderr",
          "text": [
            "\r 30%|███       | 33/109 [00:55<02:08,  1.69s/it]"
          ]
        },
        {
          "output_type": "stream",
          "name": "stdout",
          "text": [
            "06.03.2022 23:30 BRASIL CAMPEONATO PAULISTA - RODADA 10 Red Bull Bragantino Botafogo-SP\n"
          ]
        },
        {
          "output_type": "stream",
          "name": "stderr",
          "text": [
            "\r 31%|███       | 34/109 [00:57<02:06,  1.68s/it]"
          ]
        },
        {
          "output_type": "stream",
          "name": "stdout",
          "text": [
            "06.03.2022 21:30 BRASIL CAMPEONATO PAULISTA - RODADA 10 Novorizontino Internacional de Limeira\n"
          ]
        },
        {
          "output_type": "stream",
          "name": "stderr",
          "text": [
            "\r 32%|███▏      | 35/109 [00:58<02:06,  1.71s/it]"
          ]
        },
        {
          "output_type": "stream",
          "name": "stdout",
          "text": [
            "06.03.2022 21:30 BRASIL CAMPEONATO PAULISTA - RODADA 10 São Bernardo Mirassol\n"
          ]
        },
        {
          "output_type": "stream",
          "name": "stderr",
          "text": [
            "\r 33%|███▎      | 36/109 [01:00<02:06,  1.73s/it]"
          ]
        },
        {
          "output_type": "stream",
          "name": "stdout",
          "text": [
            "06.03.2022 19:00 BRASIL CAMPEONATO PAULISTA - RODADA 10 Palmeiras Guarani\n"
          ]
        },
        {
          "output_type": "stream",
          "name": "stderr",
          "text": [
            "\r 34%|███▍      | 37/109 [01:02<02:06,  1.75s/it]"
          ]
        },
        {
          "output_type": "stream",
          "name": "stdout",
          "text": [
            "05.03.2022 23:30 BRASIL CAMPEONATO PAULISTA - RODADA 10 Ponte Preta Água Santa\n"
          ]
        },
        {
          "output_type": "stream",
          "name": "stderr",
          "text": [
            "\r 35%|███▍      | 38/109 [01:04<02:02,  1.72s/it]"
          ]
        },
        {
          "output_type": "stream",
          "name": "stdout",
          "text": [
            "05.03.2022 23:30 BRASIL CAMPEONATO PAULISTA - RODADA 10 Santo André Ituano\n"
          ]
        },
        {
          "output_type": "stream",
          "name": "stderr",
          "text": [
            "\r 36%|███▌      | 39/109 [01:05<01:59,  1.71s/it]"
          ]
        },
        {
          "output_type": "stream",
          "name": "stdout",
          "text": [
            "05.03.2022 19:00 BRASIL CAMPEONATO PAULISTA - RODADA 10 São Paulo Corinthians\n"
          ]
        },
        {
          "output_type": "stream",
          "name": "stderr",
          "text": [
            "\r 37%|███▋      | 40/109 [01:07<02:02,  1.77s/it]"
          ]
        },
        {
          "output_type": "stream",
          "name": "stdout",
          "text": [
            "28.02.2022 18:00 BRASIL CAMPEONATO PAULISTA - RODADA 9 Água Santa São Paulo\n"
          ]
        },
        {
          "output_type": "stream",
          "name": "stderr",
          "text": [
            "\r 38%|███▊      | 41/109 [01:09<01:59,  1.76s/it]"
          ]
        },
        {
          "output_type": "stream",
          "name": "stdout",
          "text": [
            "27.02.2022 23:30 BRASIL CAMPEONATO PAULISTA - RODADA 9 Botafogo-SP São Bernardo\n"
          ]
        },
        {
          "output_type": "stream",
          "name": "stderr",
          "text": [
            "\r 39%|███▊      | 42/109 [01:11<01:56,  1.74s/it]"
          ]
        },
        {
          "output_type": "stream",
          "name": "stdout",
          "text": [
            "27.02.2022 21:30 BRASIL CAMPEONATO PAULISTA - RODADA 9 Santos Novorizontino\n"
          ]
        },
        {
          "output_type": "stream",
          "name": "stderr",
          "text": [
            "\r 39%|███▉      | 43/109 [01:12<01:53,  1.72s/it]"
          ]
        },
        {
          "output_type": "stream",
          "name": "stdout",
          "text": [
            "27.02.2022 19:00 BRASIL CAMPEONATO PAULISTA - RODADA 9 Internacional de Limeira Palmeiras\n"
          ]
        },
        {
          "output_type": "stream",
          "name": "stderr",
          "text": [
            "\r 40%|████      | 44/109 [01:14<01:55,  1.77s/it]"
          ]
        },
        {
          "output_type": "stream",
          "name": "stdout",
          "text": [
            "27.02.2022 14:00 BRASIL CAMPEONATO PAULISTA - RODADA 9 Corinthians Red Bull Bragantino\n"
          ]
        },
        {
          "output_type": "stream",
          "name": "stderr",
          "text": [
            "\r 41%|████▏     | 45/109 [01:16<01:52,  1.76s/it]"
          ]
        },
        {
          "output_type": "stream",
          "name": "stdout",
          "text": [
            "26.02.2022 23:30 BRASIL CAMPEONATO PAULISTA - RODADA 9 Guarani Santo André\n"
          ]
        },
        {
          "output_type": "stream",
          "name": "stderr",
          "text": [
            "\r 42%|████▏     | 46/109 [01:18<01:48,  1.73s/it]"
          ]
        },
        {
          "output_type": "stream",
          "name": "stdout",
          "text": [
            "26.02.2022 23:30 BRASIL CAMPEONATO PAULISTA - RODADA 9 Ituano Ferroviária\n"
          ]
        },
        {
          "output_type": "stream",
          "name": "stderr",
          "text": [
            "\r 43%|████▎     | 47/109 [01:19<01:45,  1.70s/it]"
          ]
        },
        {
          "output_type": "stream",
          "name": "stdout",
          "text": [
            "26.02.2022 21:30 BRASIL CAMPEONATO PAULISTA - RODADA 9 Mirassol Ponte Preta\n"
          ]
        },
        {
          "output_type": "stream",
          "name": "stderr",
          "text": [
            "\r 44%|████▍     | 48/109 [01:21<01:45,  1.72s/it]"
          ]
        },
        {
          "output_type": "stream",
          "name": "stdout",
          "text": [
            "20.02.2022 23:30 BRASIL CAMPEONATO PAULISTA - RODADA 8 Internacional de Limeira Ferroviária\n"
          ]
        },
        {
          "output_type": "stream",
          "name": "stderr",
          "text": [
            "\r 45%|████▍     | 49/109 [01:23<01:43,  1.72s/it]"
          ]
        },
        {
          "output_type": "stream",
          "name": "stdout",
          "text": [
            "20.02.2022 23:30 BRASIL CAMPEONATO PAULISTA - RODADA 8 Novorizontino Red Bull Bragantino\n"
          ]
        },
        {
          "output_type": "stream",
          "name": "stderr",
          "text": [
            "\r 46%|████▌     | 50/109 [01:24<01:41,  1.72s/it]"
          ]
        },
        {
          "output_type": "stream",
          "name": "stdout",
          "text": [
            "20.02.2022 21:30 BRASIL CAMPEONATO PAULISTA - RODADA 8 Santos São Paulo\n"
          ]
        },
        {
          "output_type": "stream",
          "name": "stderr",
          "text": [
            "\r 47%|████▋     | 51/109 [01:26<01:39,  1.72s/it]"
          ]
        },
        {
          "output_type": "stream",
          "name": "stdout",
          "text": [
            "20.02.2022 14:00 BRASIL CAMPEONATO PAULISTA - RODADA 8 Água Santa Mirassol\n"
          ]
        },
        {
          "output_type": "stream",
          "name": "stderr",
          "text": [
            "\r 48%|████▊     | 52/109 [01:28<01:38,  1.73s/it]"
          ]
        },
        {
          "output_type": "stream",
          "name": "stdout",
          "text": [
            "19.02.2022 23:30 BRASIL CAMPEONATO PAULISTA - RODADA 8 Guarani Ponte Preta\n"
          ]
        },
        {
          "output_type": "stream",
          "name": "stderr",
          "text": [
            "\r 49%|████▊     | 53/109 [01:30<01:38,  1.76s/it]"
          ]
        },
        {
          "output_type": "stream",
          "name": "stdout",
          "text": [
            "19.02.2022 23:30 BRASIL CAMPEONATO PAULISTA - RODADA 8 São Bernardo Ituano\n"
          ]
        },
        {
          "output_type": "stream",
          "name": "stderr",
          "text": [
            "\r 50%|████▉     | 54/109 [01:31<01:36,  1.75s/it]"
          ]
        },
        {
          "output_type": "stream",
          "name": "stdout",
          "text": [
            "19.02.2022 21:30 BRASIL CAMPEONATO PAULISTA - RODADA 8 Botafogo-SP Corinthians\n"
          ]
        },
        {
          "output_type": "stream",
          "name": "stderr",
          "text": [
            "\r 50%|█████     | 55/109 [01:33<01:33,  1.72s/it]"
          ]
        },
        {
          "output_type": "stream",
          "name": "stdout",
          "text": [
            "19.02.2022 19:00 BRASIL CAMPEONATO PAULISTA - RODADA 8 Palmeiras Santo André\n"
          ]
        },
        {
          "output_type": "stream",
          "name": "stderr",
          "text": [
            "\r 51%|█████▏    | 56/109 [01:35<01:30,  1.70s/it]"
          ]
        },
        {
          "output_type": "stream",
          "name": "stdout",
          "text": [
            "18.02.2022 00:30 BRASIL CAMPEONATO PAULISTA - RODADA 7 São Paulo Internacional de Limeira\n"
          ]
        },
        {
          "output_type": "stream",
          "name": "stderr",
          "text": [
            "\r 52%|█████▏    | 57/109 [01:37<01:30,  1.74s/it]"
          ]
        },
        {
          "output_type": "stream",
          "name": "stdout",
          "text": [
            "17.02.2022 22:00 BRASIL CAMPEONATO PAULISTA - RODADA 7 Mirassol Santos\n"
          ]
        },
        {
          "output_type": "stream",
          "name": "stderr",
          "text": [
            "\r 53%|█████▎    | 58/109 [01:38<01:29,  1.75s/it]"
          ]
        },
        {
          "output_type": "stream",
          "name": "stdout",
          "text": [
            "17.02.2022 22:00 BRASIL CAMPEONATO PAULISTA - RODADA 7 Red Bull Bragantino Água Santa\n"
          ]
        },
        {
          "output_type": "stream",
          "name": "stderr",
          "text": [
            "\r 54%|█████▍    | 59/109 [01:40<01:26,  1.73s/it]"
          ]
        },
        {
          "output_type": "stream",
          "name": "stdout",
          "text": [
            "17.02.2022 00:30 BRASIL CAMPEONATO PAULISTA - RODADA 7 Corinthians São Bernardo\n"
          ]
        },
        {
          "output_type": "stream",
          "name": "stderr",
          "text": [
            "\r 55%|█████▌    | 60/109 [01:42<01:27,  1.78s/it]"
          ]
        },
        {
          "output_type": "stream",
          "name": "stdout",
          "text": [
            "16.02.2022 22:00 BRASIL CAMPEONATO PAULISTA - RODADA 7 Ferroviária Palmeiras\n"
          ]
        },
        {
          "output_type": "stream",
          "name": "stderr",
          "text": [
            "\r 56%|█████▌    | 61/109 [01:44<01:24,  1.76s/it]"
          ]
        },
        {
          "output_type": "stream",
          "name": "stdout",
          "text": [
            "16.02.2022 22:00 BRASIL CAMPEONATO PAULISTA - RODADA 7 Ituano Guarani\n"
          ]
        },
        {
          "output_type": "stream",
          "name": "stderr",
          "text": [
            "\r 57%|█████▋    | 62/109 [01:45<01:21,  1.74s/it]"
          ]
        },
        {
          "output_type": "stream",
          "name": "stdout",
          "text": [
            "16.02.2022 22:00 BRASIL CAMPEONATO PAULISTA - RODADA 7 Ponte Preta Botafogo-SP\n"
          ]
        },
        {
          "output_type": "stream",
          "name": "stderr",
          "text": [
            "\r 58%|█████▊    | 63/109 [01:47<01:21,  1.76s/it]"
          ]
        },
        {
          "output_type": "stream",
          "name": "stdout",
          "text": [
            "15.02.2022 22:00 BRASIL CAMPEONATO PAULISTA - RODADA 7 Santo André Novorizontino\n"
          ]
        },
        {
          "output_type": "stream",
          "name": "stderr",
          "text": [
            "\r 59%|█████▊    | 64/109 [01:49<01:19,  1.78s/it]"
          ]
        },
        {
          "output_type": "stream",
          "name": "stdout",
          "text": [
            "13.02.2022 23:30 BRASIL CAMPEONATO PAULISTA - RODADA 6 São Bernardo Red Bull Bragantino\n"
          ]
        },
        {
          "output_type": "stream",
          "name": "stderr",
          "text": [
            "\r 60%|█████▉    | 65/109 [01:51<01:17,  1.76s/it]"
          ]
        },
        {
          "output_type": "stream",
          "name": "stdout",
          "text": [
            "13.02.2022 21:30 BRASIL CAMPEONATO PAULISTA - RODADA 6 Ponte Preta São Paulo\n"
          ]
        },
        {
          "output_type": "stream",
          "name": "stderr",
          "text": [
            "\r 61%|██████    | 66/109 [01:53<01:16,  1.79s/it]"
          ]
        },
        {
          "output_type": "stream",
          "name": "stdout",
          "text": [
            "13.02.2022 19:00 BRASIL CAMPEONATO PAULISTA - RODADA 6 Santos Ituano\n"
          ]
        },
        {
          "output_type": "stream",
          "name": "stderr",
          "text": [
            "\r 61%|██████▏   | 67/109 [01:54<01:14,  1.78s/it]"
          ]
        },
        {
          "output_type": "stream",
          "name": "stdout",
          "text": [
            "13.02.2022 14:00 BRASIL CAMPEONATO PAULISTA - RODADA 6 Internacional de Limeira Mirassol\n"
          ]
        },
        {
          "output_type": "stream",
          "name": "stderr",
          "text": [
            "\r 62%|██████▏   | 68/109 [01:56<01:13,  1.80s/it]"
          ]
        },
        {
          "output_type": "stream",
          "name": "stdout",
          "text": [
            "12.02.2022 21:30 BRASIL CAMPEONATO PAULISTA - RODADA 6 Santo André Ferroviária\n"
          ]
        },
        {
          "output_type": "stream",
          "name": "stderr",
          "text": [
            "\r 63%|██████▎   | 69/109 [01:58<01:12,  1.80s/it]"
          ]
        },
        {
          "output_type": "stream",
          "name": "stdout",
          "text": [
            "12.02.2022 19:00 BRASIL CAMPEONATO PAULISTA - RODADA 6 Botafogo-SP Água Santa\n"
          ]
        },
        {
          "output_type": "stream",
          "name": "stderr",
          "text": [
            "\r 64%|██████▍   | 70/109 [02:00<01:09,  1.79s/it]"
          ]
        },
        {
          "output_type": "stream",
          "name": "stdout",
          "text": [
            "12.02.2022 19:00 BRASIL CAMPEONATO PAULISTA - RODADA 6 Novorizontino Guarani\n"
          ]
        },
        {
          "output_type": "stream",
          "name": "stderr",
          "text": [
            "\r 65%|██████▌   | 71/109 [02:01<01:07,  1.79s/it]"
          ]
        },
        {
          "output_type": "stream",
          "name": "stdout",
          "text": [
            "11.02.2022 00:30 BRASIL CAMPEONATO PAULISTA - RODADA 5 Corinthians Mirassol\n"
          ]
        },
        {
          "output_type": "stream",
          "name": "stderr",
          "text": [
            "\r 66%|██████▌   | 72/109 [02:03<01:07,  1.83s/it]"
          ]
        },
        {
          "output_type": "stream",
          "name": "stdout",
          "text": [
            "10.02.2022 22:00 BRASIL CAMPEONATO PAULISTA - RODADA 5 Santos São Bernardo\n"
          ]
        },
        {
          "output_type": "stream",
          "name": "stderr",
          "text": [
            "\r 67%|██████▋   | 73/109 [02:05<01:06,  1.85s/it]"
          ]
        },
        {
          "output_type": "stream",
          "name": "stdout",
          "text": [
            "10.02.2022 00:30 BRASIL CAMPEONATO PAULISTA - RODADA 5 Ferroviária Ponte Preta\n"
          ]
        },
        {
          "output_type": "stream",
          "name": "stderr",
          "text": [
            "\r 68%|██████▊   | 74/109 [02:07<01:03,  1.81s/it]"
          ]
        },
        {
          "output_type": "stream",
          "name": "stdout",
          "text": [
            "10.02.2022 00:30 BRASIL CAMPEONATO PAULISTA - RODADA 5 Guarani Botafogo-SP\n"
          ]
        },
        {
          "output_type": "stream",
          "name": "stderr",
          "text": [
            "\r 69%|██████▉   | 75/109 [02:09<01:00,  1.78s/it]"
          ]
        },
        {
          "output_type": "stream",
          "name": "stdout",
          "text": [
            "09.02.2022 23:30 BRASIL CAMPEONATO PAULISTA - RODADA 5 Red Bull Bragantino Internacional de Limeira\n"
          ]
        },
        {
          "output_type": "stream",
          "name": "stderr",
          "text": [
            "\r 70%|██████▉   | 76/109 [02:10<00:58,  1.77s/it]"
          ]
        },
        {
          "output_type": "stream",
          "name": "stdout",
          "text": [
            "09.02.2022 22:00 BRASIL CAMPEONATO PAULISTA - RODADA 5 São Paulo Santo André\n"
          ]
        },
        {
          "output_type": "stream",
          "name": "stderr",
          "text": [
            "\r 71%|███████   | 77/109 [02:12<00:57,  1.81s/it]"
          ]
        },
        {
          "output_type": "stream",
          "name": "stdout",
          "text": [
            "09.02.2022 18:00 BRASIL CAMPEONATO PAULISTA - RODADA 5 Água Santa Ituano\n"
          ]
        },
        {
          "output_type": "stream",
          "name": "stderr",
          "text": [
            "\r 72%|███████▏  | 78/109 [02:14<00:53,  1.73s/it]"
          ]
        },
        {
          "output_type": "stream",
          "name": "stdout",
          "text": [
            "06.02.2022 23:30 BRASIL CAMPEONATO PAULISTA - RODADA 4 Ferroviária Red Bull Bragantino\n"
          ]
        },
        {
          "output_type": "stream",
          "name": "stderr",
          "text": [
            "\r 72%|███████▏  | 79/109 [02:16<00:51,  1.72s/it]"
          ]
        },
        {
          "output_type": "stream",
          "name": "stdout",
          "text": [
            "06.02.2022 23:30 BRASIL CAMPEONATO PAULISTA - RODADA 4 Internacional de Limeira Botafogo-SP\n"
          ]
        },
        {
          "output_type": "stream",
          "name": "stderr",
          "text": [
            "\r 73%|███████▎  | 80/109 [02:17<00:45,  1.57s/it]"
          ]
        },
        {
          "output_type": "stream",
          "name": "stdout",
          "text": [
            "06.02.2022 21:30 BRASIL CAMPEONATO PAULISTA - RODADA 4 Ituano Corinthians\n"
          ]
        },
        {
          "output_type": "stream",
          "name": "stderr",
          "text": [
            "\r 74%|███████▍  | 81/109 [02:19<00:47,  1.68s/it]"
          ]
        },
        {
          "output_type": "stream",
          "name": "stdout",
          "text": [
            "06.02.2022 19:00 BRASIL CAMPEONATO PAULISTA - RODADA 4 Guarani Santos\n"
          ]
        },
        {
          "output_type": "stream",
          "name": "stderr",
          "text": [
            "\r 75%|███████▌  | 82/109 [02:20<00:44,  1.63s/it]"
          ]
        },
        {
          "output_type": "stream",
          "name": "stdout",
          "text": [
            "06.02.2022 14:00 BRASIL CAMPEONATO PAULISTA - RODADA 4 Mirassol Santo André\n"
          ]
        },
        {
          "output_type": "stream",
          "name": "stderr",
          "text": [
            "\r 76%|███████▌  | 83/109 [02:22<00:43,  1.68s/it]"
          ]
        },
        {
          "output_type": "stream",
          "name": "stdout",
          "text": [
            "05.02.2022 18:00 BRASIL CAMPEONATO PAULISTA - RODADA 4 Água Santa Novorizontino\n"
          ]
        },
        {
          "output_type": "stream",
          "name": "stderr",
          "text": [
            "\r 77%|███████▋  | 84/109 [02:24<00:42,  1.69s/it]"
          ]
        },
        {
          "output_type": "stream",
          "name": "stdout",
          "text": [
            "05.02.2022 14:00 BRASIL CAMPEONATO PAULISTA - RODADA 4 São Bernardo Ponte Preta\n"
          ]
        },
        {
          "output_type": "stream",
          "name": "stderr",
          "text": [
            "\r 78%|███████▊  | 85/109 [02:26<00:42,  1.75s/it]"
          ]
        },
        {
          "output_type": "stream",
          "name": "stdout",
          "text": [
            "04.02.2022 00:30 BRASIL CAMPEONATO PAULISTA - RODADA 3 Red Bull Bragantino São Paulo\n"
          ]
        },
        {
          "output_type": "stream",
          "name": "stderr",
          "text": [
            "\r 79%|███████▉  | 86/109 [02:27<00:40,  1.74s/it]"
          ]
        },
        {
          "output_type": "stream",
          "name": "stdout",
          "text": [
            "03.02.2022 22:00 BRASIL CAMPEONATO PAULISTA - RODADA 3 Ituano Internacional de Limeira\n"
          ]
        },
        {
          "output_type": "stream",
          "name": "stderr",
          "text": [
            "\r 80%|███████▉  | 87/109 [02:29<00:38,  1.76s/it]"
          ]
        },
        {
          "output_type": "stream",
          "name": "stdout",
          "text": [
            "03.02.2022 22:00 BRASIL CAMPEONATO PAULISTA - RODADA 3 Mirassol Guarani\n"
          ]
        },
        {
          "output_type": "stream",
          "name": "stderr",
          "text": [
            "\r 81%|████████  | 88/109 [02:31<00:33,  1.62s/it]"
          ]
        },
        {
          "output_type": "stream",
          "name": "stdout",
          "text": [
            "03.02.2022 00:35 BRASIL CAMPEONATO PAULISTA - RODADA 3 Corinthians Santos\n"
          ]
        },
        {
          "output_type": "stream",
          "name": "stderr",
          "text": [
            "\r 82%|████████▏ | 89/109 [02:32<00:34,  1.72s/it]"
          ]
        },
        {
          "output_type": "stream",
          "name": "stdout",
          "text": [
            "02.02.2022 22:00 BRASIL CAMPEONATO PAULISTA - RODADA 3 Ponte Preta Novorizontino\n"
          ]
        },
        {
          "output_type": "stream",
          "name": "stderr",
          "text": [
            "\r 83%|████████▎ | 90/109 [02:34<00:32,  1.74s/it]"
          ]
        },
        {
          "output_type": "stream",
          "name": "stdout",
          "text": [
            "02.02.2022 22:00 BRASIL CAMPEONATO PAULISTA - RODADA 3 Santo André São Bernardo\n"
          ]
        },
        {
          "output_type": "stream",
          "name": "stderr",
          "text": [
            "\r 83%|████████▎ | 91/109 [02:36<00:31,  1.74s/it]"
          ]
        },
        {
          "output_type": "stream",
          "name": "stdout",
          "text": [
            "02.02.2022 00:00 BRASIL CAMPEONATO PAULISTA - RODADA 3 Botafogo-SP Ferroviária\n"
          ]
        },
        {
          "output_type": "stream",
          "name": "stderr",
          "text": [
            "\r 84%|████████▍ | 92/109 [02:38<00:29,  1.74s/it]"
          ]
        },
        {
          "output_type": "stream",
          "name": "stdout",
          "text": [
            "01.02.2022 22:00 BRASIL CAMPEONATO PAULISTA - RODADA 3 Palmeiras Água Santa\n"
          ]
        },
        {
          "output_type": "stream",
          "name": "stderr",
          "text": [
            "\r 85%|████████▌ | 93/109 [02:40<00:28,  1.79s/it]"
          ]
        },
        {
          "output_type": "stream",
          "name": "stdout",
          "text": [
            "31.01.2022 23:00 BRASIL CAMPEONATO PAULISTA - RODADA 2 Red Bull Bragantino Guarani\n"
          ]
        },
        {
          "output_type": "stream",
          "name": "stderr",
          "text": [
            "\r 86%|████████▌ | 94/109 [02:41<00:26,  1.74s/it]"
          ]
        },
        {
          "output_type": "stream",
          "name": "stdout",
          "text": [
            "30.01.2022 23:30 BRASIL CAMPEONATO PAULISTA - RODADA 2 Novorizontino Mirassol\n"
          ]
        },
        {
          "output_type": "stream",
          "name": "stderr",
          "text": [
            "\r 87%|████████▋ | 95/109 [02:43<00:23,  1.71s/it]"
          ]
        },
        {
          "output_type": "stream",
          "name": "stdout",
          "text": [
            "30.01.2022 21:30 BRASIL CAMPEONATO PAULISTA - RODADA 2 Santo André Corinthians\n"
          ]
        },
        {
          "output_type": "stream",
          "name": "stderr",
          "text": [
            "\r 88%|████████▊ | 96/109 [02:45<00:22,  1.70s/it]"
          ]
        },
        {
          "output_type": "stream",
          "name": "stdout",
          "text": [
            "30.01.2022 19:00 BRASIL CAMPEONATO PAULISTA - RODADA 2 São Paulo Ituano\n"
          ]
        },
        {
          "output_type": "stream",
          "name": "stderr",
          "text": [
            "\r 89%|████████▉ | 97/109 [02:46<00:21,  1.75s/it]"
          ]
        },
        {
          "output_type": "stream",
          "name": "stdout",
          "text": [
            "29.01.2022 21:30 BRASIL CAMPEONATO PAULISTA - RODADA 2 Ferroviária Água Santa\n"
          ]
        },
        {
          "output_type": "stream",
          "name": "stderr",
          "text": [
            "\r 90%|████████▉ | 98/109 [02:48<00:19,  1.74s/it]"
          ]
        },
        {
          "output_type": "stream",
          "name": "stdout",
          "text": [
            "29.01.2022 21:30 BRASIL CAMPEONATO PAULISTA - RODADA 2 Ponte Preta Internacional de Limeira\n"
          ]
        },
        {
          "output_type": "stream",
          "name": "stderr",
          "text": [
            "\r 91%|█████████ | 99/109 [02:50<00:17,  1.74s/it]"
          ]
        },
        {
          "output_type": "stream",
          "name": "stdout",
          "text": [
            "29.01.2022 19:00 BRASIL CAMPEONATO PAULISTA - RODADA 2 São Bernardo Palmeiras\n"
          ]
        },
        {
          "output_type": "stream",
          "name": "stderr",
          "text": [
            "\r 92%|█████████▏| 100/109 [02:52<00:16,  1.78s/it]"
          ]
        },
        {
          "output_type": "stream",
          "name": "stdout",
          "text": [
            "29.01.2022 14:00 BRASIL CAMPEONATO PAULISTA - RODADA 2 Santos Botafogo-SP\n"
          ]
        },
        {
          "output_type": "stream",
          "name": "stderr",
          "text": [
            "\r 93%|█████████▎| 101/109 [02:53<00:14,  1.76s/it]"
          ]
        },
        {
          "output_type": "stream",
          "name": "stdout",
          "text": [
            "28.01.2022 00:30 BRASIL CAMPEONATO PAULISTA - RODADA 1 Guarani São Paulo\n"
          ]
        },
        {
          "output_type": "stream",
          "name": "stderr",
          "text": [
            "\r 94%|█████████▎| 102/109 [02:55<00:12,  1.76s/it]"
          ]
        },
        {
          "output_type": "stream",
          "name": "stdout",
          "text": [
            "27.01.2022 23:00 BRASIL CAMPEONATO PAULISTA - RODADA 1 Mirassol Red Bull Bragantino\n"
          ]
        },
        {
          "output_type": "stream",
          "name": "stderr",
          "text": [
            "\r 94%|█████████▍| 103/109 [02:57<00:10,  1.76s/it]"
          ]
        },
        {
          "output_type": "stream",
          "name": "stdout",
          "text": [
            "27.01.2022 00:35 BRASIL CAMPEONATO PAULISTA - RODADA 1 Palmeiras Ponte Preta\n"
          ]
        },
        {
          "output_type": "stream",
          "name": "stderr",
          "text": [
            "\r 95%|█████████▌| 104/109 [02:59<00:09,  1.80s/it]"
          ]
        },
        {
          "output_type": "stream",
          "name": "stdout",
          "text": [
            "26.01.2022 22:00 BRASIL CAMPEONATO PAULISTA - RODADA 1 Internacional de Limeira Santos\n"
          ]
        },
        {
          "output_type": "stream",
          "name": "stderr",
          "text": [
            "\r 96%|█████████▋| 105/109 [03:01<00:07,  1.78s/it]"
          ]
        },
        {
          "output_type": "stream",
          "name": "stdout",
          "text": [
            "26.01.2022 22:00 BRASIL CAMPEONATO PAULISTA - RODADA 1 Ituano Novorizontino\n"
          ]
        },
        {
          "output_type": "stream",
          "name": "stderr",
          "text": [
            "\r 97%|█████████▋| 106/109 [03:02<00:05,  1.75s/it]"
          ]
        },
        {
          "output_type": "stream",
          "name": "stdout",
          "text": [
            "26.01.2022 18:00 BRASIL CAMPEONATO PAULISTA - RODADA 1 Água Santa São Bernardo\n"
          ]
        },
        {
          "output_type": "stream",
          "name": "stderr",
          "text": [
            "\r 98%|█████████▊| 107/109 [03:04<00:03,  1.74s/it]"
          ]
        },
        {
          "output_type": "stream",
          "name": "stdout",
          "text": [
            "26.01.2022 00:00 BRASIL CAMPEONATO PAULISTA - RODADA 1 Corinthians Ferroviária\n"
          ]
        },
        {
          "output_type": "stream",
          "name": "stderr",
          "text": [
            "\r 99%|█████████▉| 108/109 [03:06<00:01,  1.82s/it]"
          ]
        },
        {
          "output_type": "stream",
          "name": "stdout",
          "text": [
            "25.01.2022 22:00 BRASIL CAMPEONATO PAULISTA - RODADA 1 Botafogo-SP Santo André\n"
          ]
        },
        {
          "output_type": "stream",
          "name": "stderr",
          "text": [
            "100%|██████████| 109/109 [03:08<00:00,  1.73s/it]"
          ]
        },
        {
          "output_type": "stream",
          "name": "stdout",
          "text": [
            "23.01.2022 19:00 BRASIL CAMPEONATO PAULISTA - RODADA 5 Novorizontino Palmeiras\n"
          ]
        },
        {
          "output_type": "stream",
          "name": "stderr",
          "text": [
            "\n"
          ]
        }
      ]
    },
    {
      "cell_type": "code",
      "source": [
        "df = pd.DataFrame(jogo)\n",
        "df"
      ],
      "metadata": {
        "colab": {
          "base_uri": "https://localhost:8080/",
          "height": 424
        },
        "id": "lDgj1ArI5Nhi",
        "outputId": "5f92ac3f-2ec0-4bdb-a45a-4a26307930e2"
      },
      "execution_count": null,
      "outputs": [
        {
          "output_type": "execute_result",
          "data": {
            "text/plain": [
              "           Date   Time Country  \\\n",
              "0    03.04.2022  19:00  BRASIL   \n",
              "1    31.03.2022  23:00  BRASIL   \n",
              "2    31.03.2022  00:40  BRASIL   \n",
              "3    28.03.2022  22:00  BRASIL   \n",
              "4    28.03.2022  22:00  BRASIL   \n",
              "..          ...    ...     ...   \n",
              "104  26.01.2022  22:00  BRASIL   \n",
              "105  26.01.2022  18:00  BRASIL   \n",
              "106  26.01.2022  00:00  BRASIL   \n",
              "107  25.01.2022  22:00  BRASIL   \n",
              "108  23.01.2022  19:00  BRASIL   \n",
              "\n",
              "                                                League           Home  \\\n",
              "0               CAMPEONATO PAULISTA - PLAYOFFS - FINAL      Palmeiras   \n",
              "1    CAMPEONATO PAULISTA - TROFÉU INTERIOR - PLAYOF...    Botafogo-SP   \n",
              "2               CAMPEONATO PAULISTA - PLAYOFFS - FINAL      São Paulo   \n",
              "3    CAMPEONATO PAULISTA - TROFÉU INTERIOR - PLAYOF...    Botafogo-SP   \n",
              "4    CAMPEONATO PAULISTA - TROFÉU INTERIOR - PLAYOF...         Ituano   \n",
              "..                                                 ...            ...   \n",
              "104                     CAMPEONATO PAULISTA - RODADA 1         Ituano   \n",
              "105                     CAMPEONATO PAULISTA - RODADA 1     Água Santa   \n",
              "106                     CAMPEONATO PAULISTA - RODADA 1    Corinthians   \n",
              "107                     CAMPEONATO PAULISTA - RODADA 1    Botafogo-SP   \n",
              "108                     CAMPEONATO PAULISTA - RODADA 5  Novorizontino   \n",
              "\n",
              "                         Away  \n",
              "0                   São Paulo  \n",
              "1                      Ituano  \n",
              "2                   Palmeiras  \n",
              "3    Internacional de Limeira  \n",
              "4                  Água Santa  \n",
              "..                        ...  \n",
              "104             Novorizontino  \n",
              "105              São Bernardo  \n",
              "106               Ferroviária  \n",
              "107               Santo André  \n",
              "108                 Palmeiras  \n",
              "\n",
              "[109 rows x 6 columns]"
            ],
            "text/html": [
              "\n",
              "  <div id=\"df-ca160ea4-26a9-43a2-acfb-9a7d8da7a2c5\">\n",
              "    <div class=\"colab-df-container\">\n",
              "      <div>\n",
              "<style scoped>\n",
              "    .dataframe tbody tr th:only-of-type {\n",
              "        vertical-align: middle;\n",
              "    }\n",
              "\n",
              "    .dataframe tbody tr th {\n",
              "        vertical-align: top;\n",
              "    }\n",
              "\n",
              "    .dataframe thead th {\n",
              "        text-align: right;\n",
              "    }\n",
              "</style>\n",
              "<table border=\"1\" class=\"dataframe\">\n",
              "  <thead>\n",
              "    <tr style=\"text-align: right;\">\n",
              "      <th></th>\n",
              "      <th>Date</th>\n",
              "      <th>Time</th>\n",
              "      <th>Country</th>\n",
              "      <th>League</th>\n",
              "      <th>Home</th>\n",
              "      <th>Away</th>\n",
              "    </tr>\n",
              "  </thead>\n",
              "  <tbody>\n",
              "    <tr>\n",
              "      <th>0</th>\n",
              "      <td>03.04.2022</td>\n",
              "      <td>19:00</td>\n",
              "      <td>BRASIL</td>\n",
              "      <td>CAMPEONATO PAULISTA - PLAYOFFS - FINAL</td>\n",
              "      <td>Palmeiras</td>\n",
              "      <td>São Paulo</td>\n",
              "    </tr>\n",
              "    <tr>\n",
              "      <th>1</th>\n",
              "      <td>31.03.2022</td>\n",
              "      <td>23:00</td>\n",
              "      <td>BRASIL</td>\n",
              "      <td>CAMPEONATO PAULISTA - TROFÉU INTERIOR - PLAYOF...</td>\n",
              "      <td>Botafogo-SP</td>\n",
              "      <td>Ituano</td>\n",
              "    </tr>\n",
              "    <tr>\n",
              "      <th>2</th>\n",
              "      <td>31.03.2022</td>\n",
              "      <td>00:40</td>\n",
              "      <td>BRASIL</td>\n",
              "      <td>CAMPEONATO PAULISTA - PLAYOFFS - FINAL</td>\n",
              "      <td>São Paulo</td>\n",
              "      <td>Palmeiras</td>\n",
              "    </tr>\n",
              "    <tr>\n",
              "      <th>3</th>\n",
              "      <td>28.03.2022</td>\n",
              "      <td>22:00</td>\n",
              "      <td>BRASIL</td>\n",
              "      <td>CAMPEONATO PAULISTA - TROFÉU INTERIOR - PLAYOF...</td>\n",
              "      <td>Botafogo-SP</td>\n",
              "      <td>Internacional de Limeira</td>\n",
              "    </tr>\n",
              "    <tr>\n",
              "      <th>4</th>\n",
              "      <td>28.03.2022</td>\n",
              "      <td>22:00</td>\n",
              "      <td>BRASIL</td>\n",
              "      <td>CAMPEONATO PAULISTA - TROFÉU INTERIOR - PLAYOF...</td>\n",
              "      <td>Ituano</td>\n",
              "      <td>Água Santa</td>\n",
              "    </tr>\n",
              "    <tr>\n",
              "      <th>...</th>\n",
              "      <td>...</td>\n",
              "      <td>...</td>\n",
              "      <td>...</td>\n",
              "      <td>...</td>\n",
              "      <td>...</td>\n",
              "      <td>...</td>\n",
              "    </tr>\n",
              "    <tr>\n",
              "      <th>104</th>\n",
              "      <td>26.01.2022</td>\n",
              "      <td>22:00</td>\n",
              "      <td>BRASIL</td>\n",
              "      <td>CAMPEONATO PAULISTA - RODADA 1</td>\n",
              "      <td>Ituano</td>\n",
              "      <td>Novorizontino</td>\n",
              "    </tr>\n",
              "    <tr>\n",
              "      <th>105</th>\n",
              "      <td>26.01.2022</td>\n",
              "      <td>18:00</td>\n",
              "      <td>BRASIL</td>\n",
              "      <td>CAMPEONATO PAULISTA - RODADA 1</td>\n",
              "      <td>Água Santa</td>\n",
              "      <td>São Bernardo</td>\n",
              "    </tr>\n",
              "    <tr>\n",
              "      <th>106</th>\n",
              "      <td>26.01.2022</td>\n",
              "      <td>00:00</td>\n",
              "      <td>BRASIL</td>\n",
              "      <td>CAMPEONATO PAULISTA - RODADA 1</td>\n",
              "      <td>Corinthians</td>\n",
              "      <td>Ferroviária</td>\n",
              "    </tr>\n",
              "    <tr>\n",
              "      <th>107</th>\n",
              "      <td>25.01.2022</td>\n",
              "      <td>22:00</td>\n",
              "      <td>BRASIL</td>\n",
              "      <td>CAMPEONATO PAULISTA - RODADA 1</td>\n",
              "      <td>Botafogo-SP</td>\n",
              "      <td>Santo André</td>\n",
              "    </tr>\n",
              "    <tr>\n",
              "      <th>108</th>\n",
              "      <td>23.01.2022</td>\n",
              "      <td>19:00</td>\n",
              "      <td>BRASIL</td>\n",
              "      <td>CAMPEONATO PAULISTA - RODADA 5</td>\n",
              "      <td>Novorizontino</td>\n",
              "      <td>Palmeiras</td>\n",
              "    </tr>\n",
              "  </tbody>\n",
              "</table>\n",
              "<p>109 rows × 6 columns</p>\n",
              "</div>\n",
              "      <button class=\"colab-df-convert\" onclick=\"convertToInteractive('df-ca160ea4-26a9-43a2-acfb-9a7d8da7a2c5')\"\n",
              "              title=\"Convert this dataframe to an interactive table.\"\n",
              "              style=\"display:none;\">\n",
              "        \n",
              "  <svg xmlns=\"http://www.w3.org/2000/svg\" height=\"24px\"viewBox=\"0 0 24 24\"\n",
              "       width=\"24px\">\n",
              "    <path d=\"M0 0h24v24H0V0z\" fill=\"none\"/>\n",
              "    <path d=\"M18.56 5.44l.94 2.06.94-2.06 2.06-.94-2.06-.94-.94-2.06-.94 2.06-2.06.94zm-11 1L8.5 8.5l.94-2.06 2.06-.94-2.06-.94L8.5 2.5l-.94 2.06-2.06.94zm10 10l.94 2.06.94-2.06 2.06-.94-2.06-.94-.94-2.06-.94 2.06-2.06.94z\"/><path d=\"M17.41 7.96l-1.37-1.37c-.4-.4-.92-.59-1.43-.59-.52 0-1.04.2-1.43.59L10.3 9.45l-7.72 7.72c-.78.78-.78 2.05 0 2.83L4 21.41c.39.39.9.59 1.41.59.51 0 1.02-.2 1.41-.59l7.78-7.78 2.81-2.81c.8-.78.8-2.07 0-2.86zM5.41 20L4 18.59l7.72-7.72 1.47 1.35L5.41 20z\"/>\n",
              "  </svg>\n",
              "      </button>\n",
              "      \n",
              "  <style>\n",
              "    .colab-df-container {\n",
              "      display:flex;\n",
              "      flex-wrap:wrap;\n",
              "      gap: 12px;\n",
              "    }\n",
              "\n",
              "    .colab-df-convert {\n",
              "      background-color: #E8F0FE;\n",
              "      border: none;\n",
              "      border-radius: 50%;\n",
              "      cursor: pointer;\n",
              "      display: none;\n",
              "      fill: #1967D2;\n",
              "      height: 32px;\n",
              "      padding: 0 0 0 0;\n",
              "      width: 32px;\n",
              "    }\n",
              "\n",
              "    .colab-df-convert:hover {\n",
              "      background-color: #E2EBFA;\n",
              "      box-shadow: 0px 1px 2px rgba(60, 64, 67, 0.3), 0px 1px 3px 1px rgba(60, 64, 67, 0.15);\n",
              "      fill: #174EA6;\n",
              "    }\n",
              "\n",
              "    [theme=dark] .colab-df-convert {\n",
              "      background-color: #3B4455;\n",
              "      fill: #D2E3FC;\n",
              "    }\n",
              "\n",
              "    [theme=dark] .colab-df-convert:hover {\n",
              "      background-color: #434B5C;\n",
              "      box-shadow: 0px 1px 3px 1px rgba(0, 0, 0, 0.15);\n",
              "      filter: drop-shadow(0px 1px 2px rgba(0, 0, 0, 0.3));\n",
              "      fill: #FFFFFF;\n",
              "    }\n",
              "  </style>\n",
              "\n",
              "      <script>\n",
              "        const buttonEl =\n",
              "          document.querySelector('#df-ca160ea4-26a9-43a2-acfb-9a7d8da7a2c5 button.colab-df-convert');\n",
              "        buttonEl.style.display =\n",
              "          google.colab.kernel.accessAllowed ? 'block' : 'none';\n",
              "\n",
              "        async function convertToInteractive(key) {\n",
              "          const element = document.querySelector('#df-ca160ea4-26a9-43a2-acfb-9a7d8da7a2c5');\n",
              "          const dataTable =\n",
              "            await google.colab.kernel.invokeFunction('convertToInteractive',\n",
              "                                                     [key], {});\n",
              "          if (!dataTable) return;\n",
              "\n",
              "          const docLinkHtml = 'Like what you see? Visit the ' +\n",
              "            '<a target=\"_blank\" href=https://colab.research.google.com/notebooks/data_table.ipynb>data table notebook</a>'\n",
              "            + ' to learn more about interactive tables.';\n",
              "          element.innerHTML = '';\n",
              "          dataTable['output_type'] = 'display_data';\n",
              "          await google.colab.output.renderOutput(dataTable, element);\n",
              "          const docLink = document.createElement('div');\n",
              "          docLink.innerHTML = docLinkHtml;\n",
              "          element.appendChild(docLink);\n",
              "        }\n",
              "      </script>\n",
              "    </div>\n",
              "  </div>\n",
              "  "
            ]
          },
          "metadata": {},
          "execution_count": 44
        }
      ]
    },
    {
      "cell_type": "code",
      "source": [
        "df.to_excel('campeonato_paulista_resultados_2022.xlsx')"
      ],
      "metadata": {
        "id": "mgLOooYZ5N5J"
      },
      "execution_count": null,
      "outputs": []
    },
    {
      "cell_type": "markdown",
      "source": [
        "# Campeonato Carioca - 2022 - Resultados (Jogos que já aconteceram)"
      ],
      "metadata": {
        "id": "imYFXXPO5ZGq"
      }
    },
    {
      "cell_type": "code",
      "source": [
        "# Com o WebDrive a gente consegue a pedir a página (URL)\n",
        "wd_Chrome.get(\"https://www.flashscore.com.br/futebol/brasil/campeonato-carioca/resultados/\")\n",
        "\n",
        "#while True:\n",
        "#  try:\n",
        "#    botao_mais = wd_Chrome.find_element(By.XPATH, '//*[@id=\"live-table\"]/div[1]/div/div/a')\n",
        "#    wd_Chrome.execute_script('arguments[0].click();', botao_mais)\n",
        "#    time.sleep(5)\n",
        "#  except:\n",
        "#    break"
      ],
      "metadata": {
        "id": "eotv3XHf5iB6"
      },
      "execution_count": null,
      "outputs": []
    },
    {
      "cell_type": "code",
      "source": [
        "# Pegando o ID dos Jogos\n",
        "id_jogos = []\n",
        "jogos = wd_Chrome.find_elements(By.CSS_SELECTOR,'div.event__match--static')\n",
        "\n",
        "for i in jogos:\n",
        "    id_jogos.append(i.get_attribute(\"id\"))\n",
        "\n",
        "# Exemplo de ID de um jogo: 'g_1_Gb7buXVt'    \n",
        "id_jogos = [i[4:] for i in id_jogos]\n",
        "\n",
        "jogo = {'Date':[],'Time':[],'Country':[],'League':[],'Home':[],'Away':[]}"
      ],
      "metadata": {
        "id": "qUWHn61I5ol-"
      },
      "execution_count": null,
      "outputs": []
    },
    {
      "cell_type": "code",
      "source": [
        "for link in tqdm(id_jogos, total=len(id_jogos)):\n",
        "    wd_Chrome.get(f'https://www.flashscore.com.br/jogo/{link}/#/resumo-de-jogo')\n",
        "    \n",
        "    # Pegando as Informacoes Básicas do Jogo\n",
        "    try:\n",
        "        Date = wd_Chrome.find_element(By.CSS_SELECTOR,'div.duelParticipant__startTime').text.split(' ')[0]\n",
        "        Time = wd_Chrome.find_element(By.CSS_SELECTOR,'div.duelParticipant__startTime').text.split(' ')[1]\n",
        "        Country = wd_Chrome.find_element(By.CSS_SELECTOR,'span.tournamentHeader__country').text.split(':')[0]\n",
        "        League = wd_Chrome.find_element(By.CSS_SELECTOR,'span.tournamentHeader__country')\n",
        "        League = League.find_element(By.CSS_SELECTOR,'a').text\n",
        "        Home = wd_Chrome.find_element(By.CSS_SELECTOR,'div.duelParticipant__home')\n",
        "        Home = Home.find_element(By.CSS_SELECTOR,'div.participant__participantName').text\n",
        "        Away = wd_Chrome.find_element(By.CSS_SELECTOR,'div.duelParticipant__away')\n",
        "        Away = Away.find_element(By.CSS_SELECTOR,'div.participant__participantName').text          \n",
        "\n",
        "    except:\n",
        "        pass\n",
        "\n",
        "    print(Date,Time,Country,League,Home,Away) \n",
        "\n",
        "    jogo['Date'].append(Date)\n",
        "    jogo['Time'].append(Time)\n",
        "    jogo['Country'].append(Country)\n",
        "    jogo['League'].append(League)\n",
        "    jogo['Home'].append(Home)\n",
        "    jogo['Away'].append(Away)"
      ],
      "metadata": {
        "colab": {
          "base_uri": "https://localhost:8080/"
        },
        "id": "I-KFs-lK5qq-",
        "outputId": "d529729a-04b0-43f0-901b-fc6f4f665060"
      },
      "execution_count": null,
      "outputs": [
        {
          "output_type": "stream",
          "name": "stderr",
          "text": [
            "  1%|▏         | 1/78 [00:02<02:58,  2.32s/it]"
          ]
        },
        {
          "output_type": "stream",
          "name": "stdout",
          "text": [
            "02.04.2022 21:00 BRASIL CAMPEONATO CARIOCA - TAÇA GUANABARA - PLAYOFFS - FINAL Fluminense Flamengo\n"
          ]
        },
        {
          "output_type": "stream",
          "name": "stderr",
          "text": [
            "\r  3%|▎         | 2/78 [00:04<03:02,  2.40s/it]"
          ]
        },
        {
          "output_type": "stream",
          "name": "stdout",
          "text": [
            "31.03.2022 00:40 BRASIL CAMPEONATO CARIOCA - TAÇA GUANABARA - PLAYOFFS - FINAL Flamengo Fluminense\n"
          ]
        },
        {
          "output_type": "stream",
          "name": "stderr",
          "text": [
            "\r  4%|▍         | 3/78 [00:07<03:12,  2.57s/it]"
          ]
        },
        {
          "output_type": "stream",
          "name": "stdout",
          "text": [
            "30.03.2022 18:00 BRASIL CAMPEONATO CARIOCA - TAÇA RIO - FINAL Nova Iguaçu Resende\n"
          ]
        },
        {
          "output_type": "stream",
          "name": "stderr",
          "text": [
            "\r  5%|▌         | 4/78 [00:09<03:05,  2.51s/it]"
          ]
        },
        {
          "output_type": "stream",
          "name": "stdout",
          "text": [
            "27.03.2022 19:00 BRASIL CAMPEONATO CARIOCA - TAÇA GUANABARA - PLAYOFFS - SEMIFINAIS Fluminense Botafogo\n"
          ]
        },
        {
          "output_type": "stream",
          "name": "stderr",
          "text": [
            "\r  6%|▋         | 5/78 [00:12<02:55,  2.40s/it]"
          ]
        },
        {
          "output_type": "stream",
          "name": "stdout",
          "text": [
            "27.03.2022 18:00 BRASIL CAMPEONATO CARIOCA - TAÇA RIO - FINAL Resende Nova Iguaçu\n"
          ]
        },
        {
          "output_type": "stream",
          "name": "stderr",
          "text": [
            "\r  8%|▊         | 6/78 [00:14<02:58,  2.48s/it]"
          ]
        },
        {
          "output_type": "stream",
          "name": "stdout",
          "text": [
            "24.03.2022 23:00 BRASIL CAMPEONATO CARIOCA - TAÇA RIO - SEMIFINAIS Portuguesa-RJ Resende\n"
          ]
        },
        {
          "output_type": "stream",
          "name": "stderr",
          "text": [
            "\r  9%|▉         | 7/78 [00:17<03:09,  2.67s/it]"
          ]
        },
        {
          "output_type": "stream",
          "name": "stdout",
          "text": [
            "23.03.2022 18:30 BRASIL CAMPEONATO CARIOCA - TAÇA RIO - SEMIFINAIS Nova Iguaçu Audax-RJ\n"
          ]
        },
        {
          "output_type": "stream",
          "name": "stderr",
          "text": [
            "\r 10%|█         | 8/78 [00:20<03:01,  2.60s/it]"
          ]
        },
        {
          "output_type": "stream",
          "name": "stdout",
          "text": [
            "21.03.2022 23:00 BRASIL CAMPEONATO CARIOCA - TAÇA GUANABARA - PLAYOFFS - SEMIFINAIS Botafogo Fluminense\n"
          ]
        },
        {
          "output_type": "stream",
          "name": "stderr",
          "text": [
            "\r 12%|█▏        | 9/78 [00:22<02:56,  2.56s/it]"
          ]
        },
        {
          "output_type": "stream",
          "name": "stdout",
          "text": [
            "20.03.2022 19:00 BRASIL CAMPEONATO CARIOCA - TAÇA GUANABARA - PLAYOFFS - SEMIFINAIS Flamengo Vasco\n"
          ]
        },
        {
          "output_type": "stream",
          "name": "stderr",
          "text": [
            "\r 13%|█▎        | 10/78 [00:24<02:36,  2.30s/it]"
          ]
        },
        {
          "output_type": "stream",
          "name": "stdout",
          "text": [
            "20.03.2022 18:30 BRASIL CAMPEONATO CARIOCA - TAÇA RIO - SEMIFINAIS Resende Portuguesa-RJ\n"
          ]
        },
        {
          "output_type": "stream",
          "name": "stderr",
          "text": [
            "\r 14%|█▍        | 11/78 [00:26<02:21,  2.10s/it]"
          ]
        },
        {
          "output_type": "stream",
          "name": "stdout",
          "text": [
            "19.03.2022 18:30 BRASIL CAMPEONATO CARIOCA - TAÇA RIO - SEMIFINAIS Audax-RJ Nova Iguaçu\n"
          ]
        },
        {
          "output_type": "stream",
          "name": "stderr",
          "text": [
            "\r 15%|█▌        | 12/78 [00:27<02:00,  1.83s/it]"
          ]
        },
        {
          "output_type": "stream",
          "name": "stdout",
          "text": [
            "16.03.2022 23:00 BRASIL CAMPEONATO CARIOCA - TAÇA GUANABARA - PLAYOFFS - SEMIFINAIS Vasco Flamengo\n"
          ]
        },
        {
          "output_type": "stream",
          "name": "stderr",
          "text": [
            "\r 17%|█▋        | 13/78 [00:28<01:54,  1.76s/it]"
          ]
        },
        {
          "output_type": "stream",
          "name": "stdout",
          "text": [
            "13.03.2022 19:00 BRASIL CAMPEONATO CARIOCA - TAÇA GUANABARA - RODADA 11 Audax-RJ Botafogo\n"
          ]
        },
        {
          "output_type": "stream",
          "name": "stderr",
          "text": [
            "\r 18%|█▊        | 14/78 [00:30<01:51,  1.74s/it]"
          ]
        },
        {
          "output_type": "stream",
          "name": "stdout",
          "text": [
            "13.03.2022 19:00 BRASIL CAMPEONATO CARIOCA - TAÇA GUANABARA - RODADA 11 Vasco Resende\n"
          ]
        },
        {
          "output_type": "stream",
          "name": "stderr",
          "text": [
            "\r 19%|█▉        | 15/78 [00:32<01:48,  1.73s/it]"
          ]
        },
        {
          "output_type": "stream",
          "name": "stdout",
          "text": [
            "13.03.2022 14:00 BRASIL CAMPEONATO CARIOCA - TAÇA GUANABARA - RODADA 11 Nova Iguaçu Madureira\n"
          ]
        },
        {
          "output_type": "stream",
          "name": "stderr",
          "text": [
            "\r 21%|██        | 16/78 [00:34<01:47,  1.74s/it]"
          ]
        },
        {
          "output_type": "stream",
          "name": "stdout",
          "text": [
            "12.03.2022 22:30 BRASIL CAMPEONATO CARIOCA - TAÇA GUANABARA - RODADA 11 Bangu Flamengo\n"
          ]
        },
        {
          "output_type": "stream",
          "name": "stderr",
          "text": [
            "\r 22%|██▏       | 17/78 [00:35<01:44,  1.72s/it]"
          ]
        },
        {
          "output_type": "stream",
          "name": "stdout",
          "text": [
            "12.03.2022 19:00 BRASIL CAMPEONATO CARIOCA - TAÇA GUANABARA - RODADA 11 Boavista Fluminense\n"
          ]
        },
        {
          "output_type": "stream",
          "name": "stderr",
          "text": [
            "\r 23%|██▎       | 18/78 [00:37<01:45,  1.76s/it]"
          ]
        },
        {
          "output_type": "stream",
          "name": "stdout",
          "text": [
            "12.03.2022 19:00 BRASIL CAMPEONATO CARIOCA - TAÇA GUANABARA - RODADA 11 Portuguesa-RJ Volta Redonda\n"
          ]
        },
        {
          "output_type": "stream",
          "name": "stderr",
          "text": [
            "\r 24%|██▍       | 19/78 [00:39<01:43,  1.75s/it]"
          ]
        },
        {
          "output_type": "stream",
          "name": "stdout",
          "text": [
            "07.03.2022 22:30 BRASIL CAMPEONATO CARIOCA - TAÇA GUANABARA - RODADA 10 Botafogo Volta Redonda\n"
          ]
        },
        {
          "output_type": "stream",
          "name": "stderr",
          "text": [
            "\r 26%|██▌       | 20/78 [00:40<01:38,  1.70s/it]"
          ]
        },
        {
          "output_type": "stream",
          "name": "stdout",
          "text": [
            "06.03.2022 19:00 BRASIL CAMPEONATO CARIOCA - TAÇA GUANABARA - RODADA 10 Flamengo Vasco\n"
          ]
        },
        {
          "output_type": "stream",
          "name": "stderr",
          "text": [
            "\r 27%|██▋       | 21/78 [00:42<01:36,  1.70s/it]"
          ]
        },
        {
          "output_type": "stream",
          "name": "stdout",
          "text": [
            "06.03.2022 18:30 BRASIL CAMPEONATO CARIOCA - TAÇA GUANABARA - RODADA 10 Boavista Bangu\n"
          ]
        },
        {
          "output_type": "stream",
          "name": "stderr",
          "text": [
            "\r 28%|██▊       | 22/78 [00:44<01:38,  1.76s/it]"
          ]
        },
        {
          "output_type": "stream",
          "name": "stdout",
          "text": [
            "06.03.2022 14:00 BRASIL CAMPEONATO CARIOCA - TAÇA GUANABARA - RODADA 10 Madureira Audax-RJ\n"
          ]
        },
        {
          "output_type": "stream",
          "name": "stderr",
          "text": [
            "\r 29%|██▉       | 23/78 [00:46<01:35,  1.73s/it]"
          ]
        },
        {
          "output_type": "stream",
          "name": "stdout",
          "text": [
            "05.03.2022 19:00 BRASIL CAMPEONATO CARIOCA - TAÇA GUANABARA - RODADA 10 Resende Fluminense\n"
          ]
        },
        {
          "output_type": "stream",
          "name": "stderr",
          "text": [
            "\r 31%|███       | 24/78 [00:47<01:32,  1.71s/it]"
          ]
        },
        {
          "output_type": "stream",
          "name": "stdout",
          "text": [
            "05.03.2022 14:00 BRASIL CAMPEONATO CARIOCA - TAÇA GUANABARA - RODADA 10 Nova Iguaçu Portuguesa-RJ\n"
          ]
        },
        {
          "output_type": "stream",
          "name": "stderr",
          "text": [
            "\r 32%|███▏      | 25/78 [00:49<01:30,  1.71s/it]"
          ]
        },
        {
          "output_type": "stream",
          "name": "stdout",
          "text": [
            "02.03.2022 22:00 BRASIL CAMPEONATO CARIOCA - TAÇA GUANABARA - RODADA 5 Volta Redonda Resende\n"
          ]
        },
        {
          "output_type": "stream",
          "name": "stderr",
          "text": [
            "\r 33%|███▎      | 26/78 [00:51<01:30,  1.74s/it]"
          ]
        },
        {
          "output_type": "stream",
          "name": "stdout",
          "text": [
            "27.02.2022 22:00 BRASIL CAMPEONATO CARIOCA - TAÇA GUANABARA - RODADA 9 Portuguesa-RJ Botafogo\n"
          ]
        },
        {
          "output_type": "stream",
          "name": "stderr",
          "text": [
            "\r 35%|███▍      | 27/78 [00:53<01:28,  1.73s/it]"
          ]
        },
        {
          "output_type": "stream",
          "name": "stdout",
          "text": [
            "27.02.2022 19:00 BRASIL CAMPEONATO CARIOCA - TAÇA GUANABARA - RODADA 9 Flamengo Resende\n"
          ]
        },
        {
          "output_type": "stream",
          "name": "stderr",
          "text": [
            "\r 36%|███▌      | 28/78 [00:54<01:24,  1.69s/it]"
          ]
        },
        {
          "output_type": "stream",
          "name": "stdout",
          "text": [
            "27.02.2022 18:00 BRASIL CAMPEONATO CARIOCA - TAÇA GUANABARA - RODADA 9 Volta Redonda Nova Iguaçu\n"
          ]
        },
        {
          "output_type": "stream",
          "name": "stderr",
          "text": [
            "\r 37%|███▋      | 29/78 [00:56<01:24,  1.72s/it]"
          ]
        },
        {
          "output_type": "stream",
          "name": "stdout",
          "text": [
            "26.02.2022 20:00 BRASIL CAMPEONATO CARIOCA - TAÇA GUANABARA - RODADA 9 Fluminense Vasco\n"
          ]
        },
        {
          "output_type": "stream",
          "name": "stderr",
          "text": [
            "\r 38%|███▊      | 30/78 [00:58<01:24,  1.76s/it]"
          ]
        },
        {
          "output_type": "stream",
          "name": "stdout",
          "text": [
            "25.02.2022 19:00 BRASIL CAMPEONATO CARIOCA - TAÇA GUANABARA - RODADA 9 Boavista Madureira\n"
          ]
        },
        {
          "output_type": "stream",
          "name": "stderr",
          "text": [
            "\r 40%|███▉      | 31/78 [01:00<01:21,  1.73s/it]"
          ]
        },
        {
          "output_type": "stream",
          "name": "stdout",
          "text": [
            "24.02.2022 18:30 BRASIL CAMPEONATO CARIOCA - TAÇA GUANABARA - RODADA 9 Bangu Audax-RJ\n"
          ]
        },
        {
          "output_type": "stream",
          "name": "stderr",
          "text": [
            "\r 41%|████      | 32/78 [01:01<01:17,  1.69s/it]"
          ]
        },
        {
          "output_type": "stream",
          "name": "stdout",
          "text": [
            "23.02.2022 23:00 BRASIL CAMPEONATO CARIOCA - TAÇA GUANABARA - RODADA 8 Botafogo Flamengo\n"
          ]
        },
        {
          "output_type": "stream",
          "name": "stderr",
          "text": [
            "\r 42%|████▏     | 33/78 [01:03<01:17,  1.72s/it]"
          ]
        },
        {
          "output_type": "stream",
          "name": "stdout",
          "text": [
            "21.02.2022 18:30 BRASIL CAMPEONATO CARIOCA - TAÇA GUANABARA - RODADA 8 Resende Boavista\n"
          ]
        },
        {
          "output_type": "stream",
          "name": "stderr",
          "text": [
            "\r 44%|████▎     | 34/78 [01:05<01:14,  1.69s/it]"
          ]
        },
        {
          "output_type": "stream",
          "name": "stdout",
          "text": [
            "20.02.2022 21:30 BRASIL CAMPEONATO CARIOCA - TAÇA GUANABARA - RODADA 8 Audax-RJ Vasco\n"
          ]
        },
        {
          "output_type": "stream",
          "name": "stderr",
          "text": [
            "\r 45%|████▍     | 35/78 [01:06<01:11,  1.67s/it]"
          ]
        },
        {
          "output_type": "stream",
          "name": "stdout",
          "text": [
            "20.02.2022 18:30 BRASIL CAMPEONATO CARIOCA - TAÇA GUANABARA - RODADA 8 Portuguesa-RJ Madureira\n"
          ]
        },
        {
          "output_type": "stream",
          "name": "stderr",
          "text": [
            "\r 46%|████▌     | 36/78 [01:08<01:09,  1.66s/it]"
          ]
        },
        {
          "output_type": "stream",
          "name": "stdout",
          "text": [
            "20.02.2022 14:00 BRASIL CAMPEONATO CARIOCA - TAÇA GUANABARA - RODADA 8 Nova Iguaçu Bangu\n"
          ]
        },
        {
          "output_type": "stream",
          "name": "stderr",
          "text": [
            "\r 47%|████▋     | 37/78 [01:10<01:11,  1.75s/it]"
          ]
        },
        {
          "output_type": "stream",
          "name": "stdout",
          "text": [
            "19.02.2022 22:00 BRASIL CAMPEONATO CARIOCA - TAÇA GUANABARA - RODADA 8 Fluminense Volta Redonda\n"
          ]
        },
        {
          "output_type": "stream",
          "name": "stderr",
          "text": [
            "\r 49%|████▊     | 38/78 [01:11<01:08,  1.72s/it]"
          ]
        },
        {
          "output_type": "stream",
          "name": "stdout",
          "text": [
            "18.02.2022 14:00 BRASIL CAMPEONATO CARIOCA - TAÇA GUANABARA - RODADA 7 Portuguesa-RJ Boavista\n"
          ]
        },
        {
          "output_type": "stream",
          "name": "stderr",
          "text": [
            "\r 50%|█████     | 39/78 [01:13<01:07,  1.74s/it]"
          ]
        },
        {
          "output_type": "stream",
          "name": "stdout",
          "text": [
            "17.02.2022 23:30 BRASIL CAMPEONATO CARIOCA - TAÇA GUANABARA - RODADA 7 Vasco Bangu\n"
          ]
        },
        {
          "output_type": "stream",
          "name": "stderr",
          "text": [
            "\r 51%|█████▏    | 40/78 [01:15<01:05,  1.72s/it]"
          ]
        },
        {
          "output_type": "stream",
          "name": "stdout",
          "text": [
            "17.02.2022 21:00 BRASIL CAMPEONATO CARIOCA - TAÇA GUANABARA - RODADA 7 Botafogo Resende\n"
          ]
        },
        {
          "output_type": "stream",
          "name": "stderr",
          "text": [
            "\r 53%|█████▎    | 41/78 [01:17<01:03,  1.71s/it]"
          ]
        },
        {
          "output_type": "stream",
          "name": "stdout",
          "text": [
            "17.02.2022 00:35 BRASIL CAMPEONATO CARIOCA - TAÇA GUANABARA - RODADA 7 Nova Iguaçu Fluminense\n"
          ]
        },
        {
          "output_type": "stream",
          "name": "stderr",
          "text": [
            "\r 54%|█████▍    | 42/78 [01:18<01:03,  1.77s/it]"
          ]
        },
        {
          "output_type": "stream",
          "name": "stdout",
          "text": [
            "16.02.2022 22:00 BRASIL CAMPEONATO CARIOCA - TAÇA GUANABARA - RODADA 7 Volta Redonda Audax-RJ\n"
          ]
        },
        {
          "output_type": "stream",
          "name": "stderr",
          "text": [
            "\r 55%|█████▌    | 43/78 [01:20<01:02,  1.79s/it]"
          ]
        },
        {
          "output_type": "stream",
          "name": "stdout",
          "text": [
            "16.02.2022 18:30 BRASIL CAMPEONATO CARIOCA - TAÇA GUANABARA - RODADA 7 Madureira Flamengo\n"
          ]
        },
        {
          "output_type": "stream",
          "name": "stderr",
          "text": [
            "\r 56%|█████▋    | 44/78 [01:22<00:59,  1.75s/it]"
          ]
        },
        {
          "output_type": "stream",
          "name": "stdout",
          "text": [
            "13.02.2022 23:00 BRASIL CAMPEONATO CARIOCA - TAÇA GUANABARA - RODADA 6 Vasco Botafogo\n"
          ]
        },
        {
          "output_type": "stream",
          "name": "stderr",
          "text": [
            "\r 58%|█████▊    | 45/78 [01:24<00:57,  1.75s/it]"
          ]
        },
        {
          "output_type": "stream",
          "name": "stdout",
          "text": [
            "13.02.2022 22:00 BRASIL CAMPEONATO CARIOCA - TAÇA GUANABARA - RODADA 6 Flamengo Nova Iguaçu\n"
          ]
        },
        {
          "output_type": "stream",
          "name": "stderr",
          "text": [
            "\r 59%|█████▉    | 46/78 [01:26<00:58,  1.82s/it]"
          ]
        },
        {
          "output_type": "stream",
          "name": "stdout",
          "text": [
            "13.02.2022 19:00 BRASIL CAMPEONATO CARIOCA - TAÇA GUANABARA - RODADA 6 Fluminense Portuguesa-RJ\n"
          ]
        },
        {
          "output_type": "stream",
          "name": "stderr",
          "text": [
            "\r 60%|██████    | 47/78 [01:27<00:54,  1.76s/it]"
          ]
        },
        {
          "output_type": "stream",
          "name": "stdout",
          "text": [
            "13.02.2022 18:30 BRASIL CAMPEONATO CARIOCA - TAÇA GUANABARA - RODADA 6 Audax-RJ Boavista\n"
          ]
        },
        {
          "output_type": "stream",
          "name": "stderr",
          "text": [
            "\r 62%|██████▏   | 48/78 [01:29<00:52,  1.74s/it]"
          ]
        },
        {
          "output_type": "stream",
          "name": "stdout",
          "text": [
            "12.02.2022 21:00 BRASIL CAMPEONATO CARIOCA - TAÇA GUANABARA - RODADA 6 Volta Redonda Madureira\n"
          ]
        },
        {
          "output_type": "stream",
          "name": "stderr",
          "text": [
            "\r 63%|██████▎   | 49/78 [01:31<00:50,  1.73s/it]"
          ]
        },
        {
          "output_type": "stream",
          "name": "stdout",
          "text": [
            "12.02.2022 18:30 BRASIL CAMPEONATO CARIOCA - TAÇA GUANABARA - RODADA 6 Bangu Resende\n"
          ]
        },
        {
          "output_type": "stream",
          "name": "stderr",
          "text": [
            "\r 64%|██████▍   | 50/78 [01:32<00:48,  1.72s/it]"
          ]
        },
        {
          "output_type": "stream",
          "name": "stdout",
          "text": [
            "10.02.2022 23:00 BRASIL CAMPEONATO CARIOCA - TAÇA GUANABARA - RODADA 5 Fluminense Botafogo\n"
          ]
        },
        {
          "output_type": "stream",
          "name": "stderr",
          "text": [
            "\r 65%|██████▌   | 51/78 [01:34<00:48,  1.80s/it]"
          ]
        },
        {
          "output_type": "stream",
          "name": "stdout",
          "text": [
            "10.02.2022 22:00 BRASIL CAMPEONATO CARIOCA - TAÇA GUANABARA - RODADA 5 Audax-RJ Flamengo\n"
          ]
        },
        {
          "output_type": "stream",
          "name": "stderr",
          "text": [
            "\r 67%|██████▋   | 52/78 [01:36<00:46,  1.80s/it]"
          ]
        },
        {
          "output_type": "stream",
          "name": "stdout",
          "text": [
            "10.02.2022 18:30 BRASIL CAMPEONATO CARIOCA - TAÇA GUANABARA - RODADA 5 Nova Iguaçu Boavista\n"
          ]
        },
        {
          "output_type": "stream",
          "name": "stderr",
          "text": [
            "\r 68%|██████▊   | 53/78 [01:38<00:44,  1.76s/it]"
          ]
        },
        {
          "output_type": "stream",
          "name": "stdout",
          "text": [
            "10.02.2022 00:35 BRASIL CAMPEONATO CARIOCA - TAÇA GUANABARA - RODADA 5 Vasco Portuguesa-RJ\n"
          ]
        },
        {
          "output_type": "stream",
          "name": "stderr",
          "text": [
            "\r 69%|██████▉   | 54/78 [01:39<00:40,  1.69s/it]"
          ]
        },
        {
          "output_type": "stream",
          "name": "stdout",
          "text": [
            "09.02.2022 18:30 BRASIL CAMPEONATO CARIOCA - TAÇA GUANABARA - RODADA 5 Bangu Madureira\n"
          ]
        },
        {
          "output_type": "stream",
          "name": "stderr",
          "text": [
            "\r 71%|███████   | 55/78 [01:41<00:40,  1.76s/it]"
          ]
        },
        {
          "output_type": "stream",
          "name": "stdout",
          "text": [
            "07.02.2022 23:00 BRASIL CAMPEONATO CARIOCA - TAÇA GUANABARA - RODADA 4 Botafogo Nova Iguaçu\n"
          ]
        },
        {
          "output_type": "stream",
          "name": "stderr",
          "text": [
            "\r 72%|███████▏  | 56/78 [01:43<00:38,  1.75s/it]"
          ]
        },
        {
          "output_type": "stream",
          "name": "stdout",
          "text": [
            "07.02.2022 18:30 BRASIL CAMPEONATO CARIOCA - TAÇA GUANABARA - RODADA 4 Resende Audax-RJ\n"
          ]
        },
        {
          "output_type": "stream",
          "name": "stderr",
          "text": [
            "\r 73%|███████▎  | 57/78 [01:45<00:35,  1.71s/it]"
          ]
        },
        {
          "output_type": "stream",
          "name": "stdout",
          "text": [
            "06.02.2022 22:00 BRASIL CAMPEONATO CARIOCA - TAÇA GUANABARA - RODADA 4 Portuguesa-RJ Bangu\n"
          ]
        },
        {
          "output_type": "stream",
          "name": "stderr",
          "text": [
            "\r 74%|███████▍  | 58/78 [01:46<00:33,  1.68s/it]"
          ]
        },
        {
          "output_type": "stream",
          "name": "stdout",
          "text": [
            "06.02.2022 19:00 BRASIL CAMPEONATO CARIOCA - TAÇA GUANABARA - RODADA 4 Flamengo Fluminense\n"
          ]
        },
        {
          "output_type": "stream",
          "name": "stderr",
          "text": [
            "\r 76%|███████▌  | 59/78 [01:48<00:32,  1.74s/it]"
          ]
        },
        {
          "output_type": "stream",
          "name": "stdout",
          "text": [
            "06.02.2022 18:30 BRASIL CAMPEONATO CARIOCA - TAÇA GUANABARA - RODADA 4 Madureira Vasco\n"
          ]
        },
        {
          "output_type": "stream",
          "name": "stderr",
          "text": [
            "\r 77%|███████▋  | 60/78 [01:50<00:31,  1.74s/it]"
          ]
        },
        {
          "output_type": "stream",
          "name": "stdout",
          "text": [
            "05.02.2022 19:00 BRASIL CAMPEONATO CARIOCA - TAÇA GUANABARA - RODADA 4 Boavista Volta Redonda\n"
          ]
        },
        {
          "output_type": "stream",
          "name": "stderr",
          "text": [
            "\r 78%|███████▊  | 61/78 [01:51<00:29,  1.71s/it]"
          ]
        },
        {
          "output_type": "stream",
          "name": "stdout",
          "text": [
            "03.02.2022 23:15 BRASIL CAMPEONATO CARIOCA - TAÇA GUANABARA - RODADA 3 Fluminense Audax-RJ\n"
          ]
        },
        {
          "output_type": "stream",
          "name": "stderr",
          "text": [
            "\r 79%|███████▉  | 62/78 [01:53<00:27,  1.71s/it]"
          ]
        },
        {
          "output_type": "stream",
          "name": "stdout",
          "text": [
            "03.02.2022 21:00 BRASIL CAMPEONATO CARIOCA - TAÇA GUANABARA - RODADA 3 Botafogo Madureira\n"
          ]
        },
        {
          "output_type": "stream",
          "name": "stderr",
          "text": [
            "\r 81%|████████  | 63/78 [01:55<00:26,  1.74s/it]"
          ]
        },
        {
          "output_type": "stream",
          "name": "stdout",
          "text": [
            "03.02.2022 18:30 BRASIL CAMPEONATO CARIOCA - TAÇA GUANABARA - RODADA 3 Resende Portuguesa-RJ\n"
          ]
        },
        {
          "output_type": "stream",
          "name": "stderr",
          "text": [
            "\r 82%|████████▏ | 64/78 [01:57<00:23,  1.69s/it]"
          ]
        },
        {
          "output_type": "stream",
          "name": "stdout",
          "text": [
            "03.02.2022 00:35 BRASIL CAMPEONATO CARIOCA - TAÇA GUANABARA - RODADA 3 Vasco Nova Iguaçu\n"
          ]
        },
        {
          "output_type": "stream",
          "name": "stderr",
          "text": [
            "\r 83%|████████▎ | 65/78 [01:58<00:22,  1.70s/it]"
          ]
        },
        {
          "output_type": "stream",
          "name": "stdout",
          "text": [
            "02.02.2022 22:15 BRASIL CAMPEONATO CARIOCA - TAÇA GUANABARA - RODADA 3 Flamengo Boavista\n"
          ]
        },
        {
          "output_type": "stream",
          "name": "stderr",
          "text": [
            "\r 85%|████████▍ | 66/78 [02:00<00:20,  1.73s/it]"
          ]
        },
        {
          "output_type": "stream",
          "name": "stdout",
          "text": [
            "02.02.2022 18:30 BRASIL CAMPEONATO CARIOCA - TAÇA GUANABARA - RODADA 3 Bangu Volta Redonda\n"
          ]
        },
        {
          "output_type": "stream",
          "name": "stderr",
          "text": [
            "\r 86%|████████▌ | 67/78 [02:02<00:18,  1.71s/it]"
          ]
        },
        {
          "output_type": "stream",
          "name": "stdout",
          "text": [
            "30.01.2022 21:00 BRASIL CAMPEONATO CARIOCA - TAÇA GUANABARA - RODADA 2 Madureira Fluminense\n"
          ]
        },
        {
          "output_type": "stream",
          "name": "stderr",
          "text": [
            "\r 87%|████████▋ | 68/78 [02:03<00:16,  1.68s/it]"
          ]
        },
        {
          "output_type": "stream",
          "name": "stdout",
          "text": [
            "30.01.2022 19:00 BRASIL CAMPEONATO CARIOCA - TAÇA GUANABARA - RODADA 2 Botafogo Bangu\n"
          ]
        },
        {
          "output_type": "stream",
          "name": "stderr",
          "text": [
            "\r 88%|████████▊ | 69/78 [02:05<00:15,  1.74s/it]"
          ]
        },
        {
          "output_type": "stream",
          "name": "stdout",
          "text": [
            "30.01.2022 14:00 BRASIL CAMPEONATO CARIOCA - TAÇA GUANABARA - RODADA 2 Resende Nova Iguaçu\n"
          ]
        },
        {
          "output_type": "stream",
          "name": "stderr",
          "text": [
            "\r 90%|████████▉ | 70/78 [02:07<00:13,  1.75s/it]"
          ]
        },
        {
          "output_type": "stream",
          "name": "stdout",
          "text": [
            "30.01.2022 00:00 BRASIL CAMPEONATO CARIOCA - TAÇA GUANABARA - RODADA 2 Vasco Boavista\n"
          ]
        },
        {
          "output_type": "stream",
          "name": "stderr",
          "text": [
            "\r 91%|█████████ | 71/78 [02:09<00:11,  1.71s/it]"
          ]
        },
        {
          "output_type": "stream",
          "name": "stdout",
          "text": [
            "29.01.2022 21:00 BRASIL CAMPEONATO CARIOCA - TAÇA GUANABARA - RODADA 2 Volta Redonda Flamengo\n"
          ]
        },
        {
          "output_type": "stream",
          "name": "stderr",
          "text": [
            "\r 92%|█████████▏| 72/78 [02:10<00:10,  1.71s/it]"
          ]
        },
        {
          "output_type": "stream",
          "name": "stdout",
          "text": [
            "29.01.2022 18:30 BRASIL CAMPEONATO CARIOCA - TAÇA GUANABARA - RODADA 2 Portuguesa-RJ Audax-RJ\n"
          ]
        },
        {
          "output_type": "stream",
          "name": "stderr",
          "text": [
            "\r 94%|█████████▎| 73/78 [02:12<00:08,  1.73s/it]"
          ]
        },
        {
          "output_type": "stream",
          "name": "stdout",
          "text": [
            "27.01.2022 23:30 BRASIL CAMPEONATO CARIOCA - TAÇA GUANABARA - RODADA 1 Fluminense Bangu\n"
          ]
        },
        {
          "output_type": "stream",
          "name": "stderr",
          "text": [
            "\r 95%|█████████▍| 74/78 [02:14<00:07,  1.77s/it]"
          ]
        },
        {
          "output_type": "stream",
          "name": "stdout",
          "text": [
            "27.01.2022 18:30 BRASIL CAMPEONATO CARIOCA - TAÇA GUANABARA - RODADA 1 Madureira Resende\n"
          ]
        },
        {
          "output_type": "stream",
          "name": "stderr",
          "text": [
            "\r 96%|█████████▌| 75/78 [02:16<00:05,  1.76s/it]"
          ]
        },
        {
          "output_type": "stream",
          "name": "stdout",
          "text": [
            "27.01.2022 00:35 BRASIL CAMPEONATO CARIOCA - TAÇA GUANABARA - RODADA 1 Flamengo Portuguesa-RJ\n"
          ]
        },
        {
          "output_type": "stream",
          "name": "stderr",
          "text": [
            "\r 97%|█████████▋| 76/78 [02:17<00:03,  1.73s/it]"
          ]
        },
        {
          "output_type": "stream",
          "name": "stdout",
          "text": [
            "26.01.2022 22:00 BRASIL CAMPEONATO CARIOCA - TAÇA GUANABARA - RODADA 1 Volta Redonda Vasco\n"
          ]
        },
        {
          "output_type": "stream",
          "name": "stderr",
          "text": [
            "\r 99%|█████████▊| 77/78 [02:19<00:01,  1.69s/it]"
          ]
        },
        {
          "output_type": "stream",
          "name": "stdout",
          "text": [
            "26.01.2022 18:30 BRASIL CAMPEONATO CARIOCA - TAÇA GUANABARA - RODADA 1 Audax-RJ Nova Iguaçu\n"
          ]
        },
        {
          "output_type": "stream",
          "name": "stderr",
          "text": [
            "100%|██████████| 78/78 [02:21<00:00,  1.81s/it]"
          ]
        },
        {
          "output_type": "stream",
          "name": "stdout",
          "text": [
            "26.01.2022 00:00 BRASIL CAMPEONATO CARIOCA - TAÇA GUANABARA - RODADA 1 Boavista Botafogo\n"
          ]
        },
        {
          "output_type": "stream",
          "name": "stderr",
          "text": [
            "\n"
          ]
        }
      ]
    },
    {
      "cell_type": "code",
      "source": [
        "df = pd.DataFrame(jogo)\n",
        "df"
      ],
      "metadata": {
        "colab": {
          "base_uri": "https://localhost:8080/",
          "height": 424
        },
        "id": "HfLDfNPF5squ",
        "outputId": "4de6513f-6778-4fe0-de7b-05584fcbe6b4"
      },
      "execution_count": null,
      "outputs": [
        {
          "output_type": "execute_result",
          "data": {
            "text/plain": [
              "          Date   Time Country  \\\n",
              "0   02.04.2022  21:00  BRASIL   \n",
              "1   31.03.2022  00:40  BRASIL   \n",
              "2   30.03.2022  18:00  BRASIL   \n",
              "3   27.03.2022  19:00  BRASIL   \n",
              "4   27.03.2022  18:00  BRASIL   \n",
              "..         ...    ...     ...   \n",
              "73  27.01.2022  18:30  BRASIL   \n",
              "74  27.01.2022  00:35  BRASIL   \n",
              "75  26.01.2022  22:00  BRASIL   \n",
              "76  26.01.2022  18:30  BRASIL   \n",
              "77  26.01.2022  00:00  BRASIL   \n",
              "\n",
              "                                               League           Home  \\\n",
              "0   CAMPEONATO CARIOCA - TAÇA GUANABARA - PLAYOFFS...     Fluminense   \n",
              "1   CAMPEONATO CARIOCA - TAÇA GUANABARA - PLAYOFFS...       Flamengo   \n",
              "2               CAMPEONATO CARIOCA - TAÇA RIO - FINAL    Nova Iguaçu   \n",
              "3   CAMPEONATO CARIOCA - TAÇA GUANABARA - PLAYOFFS...     Fluminense   \n",
              "4               CAMPEONATO CARIOCA - TAÇA RIO - FINAL        Resende   \n",
              "..                                                ...            ...   \n",
              "73     CAMPEONATO CARIOCA - TAÇA GUANABARA - RODADA 1      Madureira   \n",
              "74     CAMPEONATO CARIOCA - TAÇA GUANABARA - RODADA 1       Flamengo   \n",
              "75     CAMPEONATO CARIOCA - TAÇA GUANABARA - RODADA 1  Volta Redonda   \n",
              "76     CAMPEONATO CARIOCA - TAÇA GUANABARA - RODADA 1       Audax-RJ   \n",
              "77     CAMPEONATO CARIOCA - TAÇA GUANABARA - RODADA 1       Boavista   \n",
              "\n",
              "             Away  \n",
              "0        Flamengo  \n",
              "1      Fluminense  \n",
              "2         Resende  \n",
              "3        Botafogo  \n",
              "4     Nova Iguaçu  \n",
              "..            ...  \n",
              "73        Resende  \n",
              "74  Portuguesa-RJ  \n",
              "75          Vasco  \n",
              "76    Nova Iguaçu  \n",
              "77       Botafogo  \n",
              "\n",
              "[78 rows x 6 columns]"
            ],
            "text/html": [
              "\n",
              "  <div id=\"df-aa618615-ad4d-41a3-b89e-ae7713197974\">\n",
              "    <div class=\"colab-df-container\">\n",
              "      <div>\n",
              "<style scoped>\n",
              "    .dataframe tbody tr th:only-of-type {\n",
              "        vertical-align: middle;\n",
              "    }\n",
              "\n",
              "    .dataframe tbody tr th {\n",
              "        vertical-align: top;\n",
              "    }\n",
              "\n",
              "    .dataframe thead th {\n",
              "        text-align: right;\n",
              "    }\n",
              "</style>\n",
              "<table border=\"1\" class=\"dataframe\">\n",
              "  <thead>\n",
              "    <tr style=\"text-align: right;\">\n",
              "      <th></th>\n",
              "      <th>Date</th>\n",
              "      <th>Time</th>\n",
              "      <th>Country</th>\n",
              "      <th>League</th>\n",
              "      <th>Home</th>\n",
              "      <th>Away</th>\n",
              "    </tr>\n",
              "  </thead>\n",
              "  <tbody>\n",
              "    <tr>\n",
              "      <th>0</th>\n",
              "      <td>02.04.2022</td>\n",
              "      <td>21:00</td>\n",
              "      <td>BRASIL</td>\n",
              "      <td>CAMPEONATO CARIOCA - TAÇA GUANABARA - PLAYOFFS...</td>\n",
              "      <td>Fluminense</td>\n",
              "      <td>Flamengo</td>\n",
              "    </tr>\n",
              "    <tr>\n",
              "      <th>1</th>\n",
              "      <td>31.03.2022</td>\n",
              "      <td>00:40</td>\n",
              "      <td>BRASIL</td>\n",
              "      <td>CAMPEONATO CARIOCA - TAÇA GUANABARA - PLAYOFFS...</td>\n",
              "      <td>Flamengo</td>\n",
              "      <td>Fluminense</td>\n",
              "    </tr>\n",
              "    <tr>\n",
              "      <th>2</th>\n",
              "      <td>30.03.2022</td>\n",
              "      <td>18:00</td>\n",
              "      <td>BRASIL</td>\n",
              "      <td>CAMPEONATO CARIOCA - TAÇA RIO - FINAL</td>\n",
              "      <td>Nova Iguaçu</td>\n",
              "      <td>Resende</td>\n",
              "    </tr>\n",
              "    <tr>\n",
              "      <th>3</th>\n",
              "      <td>27.03.2022</td>\n",
              "      <td>19:00</td>\n",
              "      <td>BRASIL</td>\n",
              "      <td>CAMPEONATO CARIOCA - TAÇA GUANABARA - PLAYOFFS...</td>\n",
              "      <td>Fluminense</td>\n",
              "      <td>Botafogo</td>\n",
              "    </tr>\n",
              "    <tr>\n",
              "      <th>4</th>\n",
              "      <td>27.03.2022</td>\n",
              "      <td>18:00</td>\n",
              "      <td>BRASIL</td>\n",
              "      <td>CAMPEONATO CARIOCA - TAÇA RIO - FINAL</td>\n",
              "      <td>Resende</td>\n",
              "      <td>Nova Iguaçu</td>\n",
              "    </tr>\n",
              "    <tr>\n",
              "      <th>...</th>\n",
              "      <td>...</td>\n",
              "      <td>...</td>\n",
              "      <td>...</td>\n",
              "      <td>...</td>\n",
              "      <td>...</td>\n",
              "      <td>...</td>\n",
              "    </tr>\n",
              "    <tr>\n",
              "      <th>73</th>\n",
              "      <td>27.01.2022</td>\n",
              "      <td>18:30</td>\n",
              "      <td>BRASIL</td>\n",
              "      <td>CAMPEONATO CARIOCA - TAÇA GUANABARA - RODADA 1</td>\n",
              "      <td>Madureira</td>\n",
              "      <td>Resende</td>\n",
              "    </tr>\n",
              "    <tr>\n",
              "      <th>74</th>\n",
              "      <td>27.01.2022</td>\n",
              "      <td>00:35</td>\n",
              "      <td>BRASIL</td>\n",
              "      <td>CAMPEONATO CARIOCA - TAÇA GUANABARA - RODADA 1</td>\n",
              "      <td>Flamengo</td>\n",
              "      <td>Portuguesa-RJ</td>\n",
              "    </tr>\n",
              "    <tr>\n",
              "      <th>75</th>\n",
              "      <td>26.01.2022</td>\n",
              "      <td>22:00</td>\n",
              "      <td>BRASIL</td>\n",
              "      <td>CAMPEONATO CARIOCA - TAÇA GUANABARA - RODADA 1</td>\n",
              "      <td>Volta Redonda</td>\n",
              "      <td>Vasco</td>\n",
              "    </tr>\n",
              "    <tr>\n",
              "      <th>76</th>\n",
              "      <td>26.01.2022</td>\n",
              "      <td>18:30</td>\n",
              "      <td>BRASIL</td>\n",
              "      <td>CAMPEONATO CARIOCA - TAÇA GUANABARA - RODADA 1</td>\n",
              "      <td>Audax-RJ</td>\n",
              "      <td>Nova Iguaçu</td>\n",
              "    </tr>\n",
              "    <tr>\n",
              "      <th>77</th>\n",
              "      <td>26.01.2022</td>\n",
              "      <td>00:00</td>\n",
              "      <td>BRASIL</td>\n",
              "      <td>CAMPEONATO CARIOCA - TAÇA GUANABARA - RODADA 1</td>\n",
              "      <td>Boavista</td>\n",
              "      <td>Botafogo</td>\n",
              "    </tr>\n",
              "  </tbody>\n",
              "</table>\n",
              "<p>78 rows × 6 columns</p>\n",
              "</div>\n",
              "      <button class=\"colab-df-convert\" onclick=\"convertToInteractive('df-aa618615-ad4d-41a3-b89e-ae7713197974')\"\n",
              "              title=\"Convert this dataframe to an interactive table.\"\n",
              "              style=\"display:none;\">\n",
              "        \n",
              "  <svg xmlns=\"http://www.w3.org/2000/svg\" height=\"24px\"viewBox=\"0 0 24 24\"\n",
              "       width=\"24px\">\n",
              "    <path d=\"M0 0h24v24H0V0z\" fill=\"none\"/>\n",
              "    <path d=\"M18.56 5.44l.94 2.06.94-2.06 2.06-.94-2.06-.94-.94-2.06-.94 2.06-2.06.94zm-11 1L8.5 8.5l.94-2.06 2.06-.94-2.06-.94L8.5 2.5l-.94 2.06-2.06.94zm10 10l.94 2.06.94-2.06 2.06-.94-2.06-.94-.94-2.06-.94 2.06-2.06.94z\"/><path d=\"M17.41 7.96l-1.37-1.37c-.4-.4-.92-.59-1.43-.59-.52 0-1.04.2-1.43.59L10.3 9.45l-7.72 7.72c-.78.78-.78 2.05 0 2.83L4 21.41c.39.39.9.59 1.41.59.51 0 1.02-.2 1.41-.59l7.78-7.78 2.81-2.81c.8-.78.8-2.07 0-2.86zM5.41 20L4 18.59l7.72-7.72 1.47 1.35L5.41 20z\"/>\n",
              "  </svg>\n",
              "      </button>\n",
              "      \n",
              "  <style>\n",
              "    .colab-df-container {\n",
              "      display:flex;\n",
              "      flex-wrap:wrap;\n",
              "      gap: 12px;\n",
              "    }\n",
              "\n",
              "    .colab-df-convert {\n",
              "      background-color: #E8F0FE;\n",
              "      border: none;\n",
              "      border-radius: 50%;\n",
              "      cursor: pointer;\n",
              "      display: none;\n",
              "      fill: #1967D2;\n",
              "      height: 32px;\n",
              "      padding: 0 0 0 0;\n",
              "      width: 32px;\n",
              "    }\n",
              "\n",
              "    .colab-df-convert:hover {\n",
              "      background-color: #E2EBFA;\n",
              "      box-shadow: 0px 1px 2px rgba(60, 64, 67, 0.3), 0px 1px 3px 1px rgba(60, 64, 67, 0.15);\n",
              "      fill: #174EA6;\n",
              "    }\n",
              "\n",
              "    [theme=dark] .colab-df-convert {\n",
              "      background-color: #3B4455;\n",
              "      fill: #D2E3FC;\n",
              "    }\n",
              "\n",
              "    [theme=dark] .colab-df-convert:hover {\n",
              "      background-color: #434B5C;\n",
              "      box-shadow: 0px 1px 3px 1px rgba(0, 0, 0, 0.15);\n",
              "      filter: drop-shadow(0px 1px 2px rgba(0, 0, 0, 0.3));\n",
              "      fill: #FFFFFF;\n",
              "    }\n",
              "  </style>\n",
              "\n",
              "      <script>\n",
              "        const buttonEl =\n",
              "          document.querySelector('#df-aa618615-ad4d-41a3-b89e-ae7713197974 button.colab-df-convert');\n",
              "        buttonEl.style.display =\n",
              "          google.colab.kernel.accessAllowed ? 'block' : 'none';\n",
              "\n",
              "        async function convertToInteractive(key) {\n",
              "          const element = document.querySelector('#df-aa618615-ad4d-41a3-b89e-ae7713197974');\n",
              "          const dataTable =\n",
              "            await google.colab.kernel.invokeFunction('convertToInteractive',\n",
              "                                                     [key], {});\n",
              "          if (!dataTable) return;\n",
              "\n",
              "          const docLinkHtml = 'Like what you see? Visit the ' +\n",
              "            '<a target=\"_blank\" href=https://colab.research.google.com/notebooks/data_table.ipynb>data table notebook</a>'\n",
              "            + ' to learn more about interactive tables.';\n",
              "          element.innerHTML = '';\n",
              "          dataTable['output_type'] = 'display_data';\n",
              "          await google.colab.output.renderOutput(dataTable, element);\n",
              "          const docLink = document.createElement('div');\n",
              "          docLink.innerHTML = docLinkHtml;\n",
              "          element.appendChild(docLink);\n",
              "        }\n",
              "      </script>\n",
              "    </div>\n",
              "  </div>\n",
              "  "
            ]
          },
          "metadata": {},
          "execution_count": 49
        }
      ]
    },
    {
      "cell_type": "code",
      "source": [
        "df.to_excel('campeonato_carioca_resultados_2022.xlsx')"
      ],
      "metadata": {
        "id": "6EiHBiUj5ubo"
      },
      "execution_count": null,
      "outputs": []
    },
    {
      "cell_type": "markdown",
      "source": [
        "# Campeonato Cearense - 2022 - Resultados (Jogos que já aconteceram)"
      ],
      "metadata": {
        "id": "R3z8yVQB54Xd"
      }
    },
    {
      "cell_type": "code",
      "source": [
        "# Com o WebDrive a gente consegue a pedir a página (URL)\n",
        "wd_Chrome.get(\"https://www.flashscore.com.br/futebol/brasil/campeonato-cearense/resultados/\")\n",
        "\n",
        "#while True:\n",
        "#  try:\n",
        "#    botao_mais = wd_Chrome.find_element(By.XPATH, '//*[@id=\"live-table\"]/div[1]/div/div/a')\n",
        "#    wd_Chrome.execute_script('arguments[0].click();', botao_mais)\n",
        "#    time.sleep(5)\n",
        "#  except:\n",
        "#    break"
      ],
      "metadata": {
        "id": "XWb7NCwq59SH"
      },
      "execution_count": null,
      "outputs": []
    },
    {
      "cell_type": "code",
      "source": [
        "# Pegando o ID dos Jogos\n",
        "id_jogos = []\n",
        "jogos = wd_Chrome.find_elements(By.CSS_SELECTOR,'div.event__match--static')\n",
        "\n",
        "for i in jogos:\n",
        "    id_jogos.append(i.get_attribute(\"id\"))\n",
        "\n",
        "# Exemplo de ID de um jogo: 'g_1_Gb7buXVt'    \n",
        "id_jogos = [i[4:] for i in id_jogos]\n",
        "\n",
        "jogo = {'Date':[],'Time':[],'Country':[],'League':[],'Home':[],'Away':[]}"
      ],
      "metadata": {
        "id": "Uxl1NwiY6FKf"
      },
      "execution_count": null,
      "outputs": []
    },
    {
      "cell_type": "code",
      "source": [
        "for link in tqdm(id_jogos, total=len(id_jogos)):\n",
        "    wd_Chrome.get(f'https://www.flashscore.com.br/jogo/{link}/#/resumo-de-jogo')\n",
        "    \n",
        "    # Pegando as Informacoes Básicas do Jogo\n",
        "    try:\n",
        "        Date = wd_Chrome.find_element(By.CSS_SELECTOR,'div.duelParticipant__startTime').text.split(' ')[0]\n",
        "        Time = wd_Chrome.find_element(By.CSS_SELECTOR,'div.duelParticipant__startTime').text.split(' ')[1]\n",
        "        Country = wd_Chrome.find_element(By.CSS_SELECTOR,'span.tournamentHeader__country').text.split(':')[0]\n",
        "        League = wd_Chrome.find_element(By.CSS_SELECTOR,'span.tournamentHeader__country')\n",
        "        League = League.find_element(By.CSS_SELECTOR,'a').text\n",
        "        Home = wd_Chrome.find_element(By.CSS_SELECTOR,'div.duelParticipant__home')\n",
        "        Home = Home.find_element(By.CSS_SELECTOR,'div.participant__participantName').text\n",
        "        Away = wd_Chrome.find_element(By.CSS_SELECTOR,'div.duelParticipant__away')\n",
        "        Away = Away.find_element(By.CSS_SELECTOR,'div.participant__participantName').text          \n",
        "\n",
        "    except:\n",
        "        pass\n",
        "\n",
        "    print(Date,Time,Country,League,Home,Away) \n",
        "\n",
        "    jogo['Date'].append(Date)\n",
        "    jogo['Time'].append(Time)\n",
        "    jogo['Country'].append(Country)\n",
        "    jogo['League'].append(League)\n",
        "    jogo['Home'].append(Home)\n",
        "    jogo['Away'].append(Away)"
      ],
      "metadata": {
        "colab": {
          "base_uri": "https://localhost:8080/"
        },
        "id": "o3-V3_Cy6G8p",
        "outputId": "51fec33e-8f2c-4553-fdf2-e41fdea3fe94"
      },
      "execution_count": null,
      "outputs": [
        {
          "output_type": "stream",
          "name": "stderr",
          "text": [
            "  2%|▏         | 1/66 [00:01<01:52,  1.73s/it]"
          ]
        },
        {
          "output_type": "stream",
          "name": "stdout",
          "text": [
            "24.04.2022 21:30 BRASIL CAMPEONATO CEARENSE - PLAYOFFS - FINAL Fortaleza Caucaia\n"
          ]
        },
        {
          "output_type": "stream",
          "name": "stderr",
          "text": [
            "\r  3%|▎         | 2/66 [00:03<01:41,  1.58s/it]"
          ]
        },
        {
          "output_type": "stream",
          "name": "stdout",
          "text": [
            "23.04.2022 00:35 BRASIL CAMPEONATO CEARENSE - PLAYOFFS - FINAL Caucaia Fortaleza\n"
          ]
        },
        {
          "output_type": "stream",
          "name": "stderr",
          "text": [
            "\r  5%|▍         | 3/66 [00:04<01:40,  1.60s/it]"
          ]
        },
        {
          "output_type": "stream",
          "name": "stdout",
          "text": [
            "12.03.2022 20:45 BRASIL CAMPEONATO CEARENSE - PLAYOFFS - SEMIFINAIS Fortaleza Ferroviário\n"
          ]
        },
        {
          "output_type": "stream",
          "name": "stderr",
          "text": [
            "\r  6%|▌         | 4/66 [00:06<01:35,  1.54s/it]"
          ]
        },
        {
          "output_type": "stream",
          "name": "stdout",
          "text": [
            "12.03.2022 19:00 BRASIL CAMPEONATO CEARENSE - PLAYOFFS - SEMIFINAIS Iguatu Caucaia\n"
          ]
        },
        {
          "output_type": "stream",
          "name": "stderr",
          "text": [
            "\r  8%|▊         | 5/66 [00:07<01:33,  1.53s/it]"
          ]
        },
        {
          "output_type": "stream",
          "name": "stdout",
          "text": [
            "09.03.2022 00:30 BRASIL CAMPEONATO CEARENSE - PLAYOFFS - SEMIFINAIS Ferroviário Fortaleza\n"
          ]
        },
        {
          "output_type": "stream",
          "name": "stderr",
          "text": [
            "\r  9%|▉         | 6/66 [00:09<01:31,  1.53s/it]"
          ]
        },
        {
          "output_type": "stream",
          "name": "stdout",
          "text": [
            "06.03.2022 19:00 BRASIL CAMPEONATO CEARENSE - PLAYOFFS - SEMIFINAIS Caucaia Iguatu\n"
          ]
        },
        {
          "output_type": "stream",
          "name": "stderr",
          "text": [
            "\r 11%|█         | 7/66 [00:10<01:32,  1.57s/it]"
          ]
        },
        {
          "output_type": "stream",
          "name": "stdout",
          "text": [
            "02.03.2022 22:30 BRASIL CAMPEONATO CEARENSE - PLAYOFFS - QUARTAS DE FINAL Pacajus Fortaleza\n"
          ]
        },
        {
          "output_type": "stream",
          "name": "stderr",
          "text": [
            "\r 12%|█▏        | 8/66 [00:12<01:30,  1.56s/it]"
          ]
        },
        {
          "output_type": "stream",
          "name": "stdout",
          "text": [
            "26.02.2022 20:45 BRASIL CAMPEONATO CEARENSE - PLAYOFFS - QUARTAS DE FINAL Iguatu Ceará\n"
          ]
        },
        {
          "output_type": "stream",
          "name": "stderr",
          "text": [
            "\r 14%|█▎        | 9/66 [00:14<01:31,  1.60s/it]"
          ]
        },
        {
          "output_type": "stream",
          "name": "stdout",
          "text": [
            "25.02.2022 00:30 BRASIL CAMPEONATO CEARENSE - PLAYOFFS - QUARTAS DE FINAL Fortaleza Pacajus\n"
          ]
        },
        {
          "output_type": "stream",
          "name": "stderr",
          "text": [
            "\r 15%|█▌        | 10/66 [00:15<01:29,  1.59s/it]"
          ]
        },
        {
          "output_type": "stream",
          "name": "stdout",
          "text": [
            "22.02.2022 23:00 BRASIL CAMPEONATO CEARENSE - PLAYOFFS - QUARTAS DE FINAL Ceará Iguatu\n"
          ]
        },
        {
          "output_type": "stream",
          "name": "stderr",
          "text": [
            "\r 17%|█▋        | 11/66 [00:17<01:27,  1.59s/it]"
          ]
        },
        {
          "output_type": "stream",
          "name": "stdout",
          "text": [
            "19.02.2022 19:00 BRASIL CAMPEONATO CEARENSE - RODADA 14 Crato Ferroviário\n"
          ]
        },
        {
          "output_type": "stream",
          "name": "stderr",
          "text": [
            "\r 18%|█▊        | 12/66 [00:19<01:28,  1.63s/it]"
          ]
        },
        {
          "output_type": "stream",
          "name": "stdout",
          "text": [
            "19.02.2022 18:00 BRASIL CAMPEONATO CEARENSE - RODADA 14 Iguatu Icasa-CE\n"
          ]
        },
        {
          "output_type": "stream",
          "name": "stderr",
          "text": [
            "\r 20%|█▉        | 13/66 [00:20<01:25,  1.61s/it]"
          ]
        },
        {
          "output_type": "stream",
          "name": "stdout",
          "text": [
            "19.02.2022 18:00 BRASIL CAMPEONATO CEARENSE - RODADA 14 Maracanã Caucaia\n"
          ]
        },
        {
          "output_type": "stream",
          "name": "stderr",
          "text": [
            "\r 21%|██        | 14/66 [00:22<01:22,  1.58s/it]"
          ]
        },
        {
          "output_type": "stream",
          "name": "stdout",
          "text": [
            "19.02.2022 18:00 BRASIL CAMPEONATO CEARENSE - RODADA 14 Pacajus Atlético-CE\n"
          ]
        },
        {
          "output_type": "stream",
          "name": "stderr",
          "text": [
            "\r 23%|██▎       | 15/66 [00:23<01:22,  1.61s/it]"
          ]
        },
        {
          "output_type": "stream",
          "name": "stdout",
          "text": [
            "16.02.2022 18:00 BRASIL CAMPEONATO CEARENSE - RODADA 13 Atlético-CE Crato\n"
          ]
        },
        {
          "output_type": "stream",
          "name": "stderr",
          "text": [
            "\r 24%|██▍       | 16/66 [00:25<01:22,  1.64s/it]"
          ]
        },
        {
          "output_type": "stream",
          "name": "stdout",
          "text": [
            "16.02.2022 18:00 BRASIL CAMPEONATO CEARENSE - RODADA 13 Caucaia Iguatu\n"
          ]
        },
        {
          "output_type": "stream",
          "name": "stderr",
          "text": [
            "\r 26%|██▌       | 17/66 [00:27<01:17,  1.59s/it]"
          ]
        },
        {
          "output_type": "stream",
          "name": "stdout",
          "text": [
            "16.02.2022 18:00 BRASIL CAMPEONATO CEARENSE - RODADA 13 Ferroviário Pacajus\n"
          ]
        },
        {
          "output_type": "stream",
          "name": "stderr",
          "text": [
            "\r 27%|██▋       | 18/66 [00:28<01:18,  1.63s/it]"
          ]
        },
        {
          "output_type": "stream",
          "name": "stdout",
          "text": [
            "16.02.2022 18:00 BRASIL CAMPEONATO CEARENSE - RODADA 13 Icasa-CE Maracanã\n"
          ]
        },
        {
          "output_type": "stream",
          "name": "stderr",
          "text": [
            "\r 29%|██▉       | 19/66 [00:30<01:15,  1.62s/it]"
          ]
        },
        {
          "output_type": "stream",
          "name": "stdout",
          "text": [
            "12.02.2022 19:00 BRASIL CAMPEONATO CEARENSE - RODADA 12 Caucaia Atlético-CE\n"
          ]
        },
        {
          "output_type": "stream",
          "name": "stderr",
          "text": [
            "\r 30%|███       | 20/66 [00:31<01:13,  1.60s/it]"
          ]
        },
        {
          "output_type": "stream",
          "name": "stdout",
          "text": [
            "12.02.2022 19:00 BRASIL CAMPEONATO CEARENSE - RODADA 12 Icasa-CE Ferroviário\n"
          ]
        },
        {
          "output_type": "stream",
          "name": "stderr",
          "text": [
            "\r 32%|███▏      | 21/66 [00:33<01:13,  1.63s/it]"
          ]
        },
        {
          "output_type": "stream",
          "name": "stdout",
          "text": [
            "12.02.2022 19:00 BRASIL CAMPEONATO CEARENSE - RODADA 12 Iguatu Crato\n"
          ]
        },
        {
          "output_type": "stream",
          "name": "stderr",
          "text": [
            "\r 33%|███▎      | 22/66 [00:35<01:12,  1.64s/it]"
          ]
        },
        {
          "output_type": "stream",
          "name": "stdout",
          "text": [
            "12.02.2022 18:00 BRASIL CAMPEONATO CEARENSE - RODADA 12 Maracanã Pacajus\n"
          ]
        },
        {
          "output_type": "stream",
          "name": "stderr",
          "text": [
            "\r 35%|███▍      | 23/66 [00:36<01:03,  1.48s/it]"
          ]
        },
        {
          "output_type": "stream",
          "name": "stdout",
          "text": [
            "08.02.2022 22:00 BRASIL CAMPEONATO CEARENSE - RODADA 11 Pacajus Icasa-CE\n"
          ]
        },
        {
          "output_type": "stream",
          "name": "stderr",
          "text": [
            "\r 36%|███▋      | 24/66 [00:37<00:58,  1.40s/it]"
          ]
        },
        {
          "output_type": "stream",
          "name": "stdout",
          "text": [
            "08.02.2022 18:30 BRASIL CAMPEONATO CEARENSE - RODADA 11 Crato Caucaia\n"
          ]
        },
        {
          "output_type": "stream",
          "name": "stderr",
          "text": [
            "\r 38%|███▊      | 25/66 [00:39<00:58,  1.43s/it]"
          ]
        },
        {
          "output_type": "stream",
          "name": "stdout",
          "text": [
            "08.02.2022 18:30 BRASIL CAMPEONATO CEARENSE - RODADA 11 Ferroviário Maracanã\n"
          ]
        },
        {
          "output_type": "stream",
          "name": "stderr",
          "text": [
            "\r 39%|███▉      | 26/66 [00:40<00:56,  1.42s/it]"
          ]
        },
        {
          "output_type": "stream",
          "name": "stdout",
          "text": [
            "08.02.2022 18:00 BRASIL CAMPEONATO CEARENSE - RODADA 11 Atlético-CE Iguatu\n"
          ]
        },
        {
          "output_type": "stream",
          "name": "stderr",
          "text": [
            "\r 41%|████      | 27/66 [00:42<00:57,  1.47s/it]"
          ]
        },
        {
          "output_type": "stream",
          "name": "stdout",
          "text": [
            "05.02.2022 19:00 BRASIL CAMPEONATO CEARENSE - RODADA 10 Icasa-CE Caucaia\n"
          ]
        },
        {
          "output_type": "stream",
          "name": "stderr",
          "text": [
            "\r 42%|████▏     | 28/66 [00:43<00:58,  1.55s/it]"
          ]
        },
        {
          "output_type": "stream",
          "name": "stdout",
          "text": [
            "05.02.2022 19:00 BRASIL CAMPEONATO CEARENSE - RODADA 10 Pacajus Crato\n"
          ]
        },
        {
          "output_type": "stream",
          "name": "stderr",
          "text": [
            "\r 44%|████▍     | 29/66 [00:45<00:56,  1.54s/it]"
          ]
        },
        {
          "output_type": "stream",
          "name": "stdout",
          "text": [
            "05.02.2022 18:30 BRASIL CAMPEONATO CEARENSE - RODADA 10 Ferroviário Atlético-CE\n"
          ]
        },
        {
          "output_type": "stream",
          "name": "stderr",
          "text": [
            "\r 45%|████▌     | 30/66 [00:46<00:52,  1.45s/it]"
          ]
        },
        {
          "output_type": "stream",
          "name": "stdout",
          "text": [
            "05.02.2022 18:00 BRASIL CAMPEONATO CEARENSE - RODADA 10 Maracanã Iguatu\n"
          ]
        },
        {
          "output_type": "stream",
          "name": "stderr",
          "text": [
            "\r 47%|████▋     | 31/66 [00:47<00:48,  1.39s/it]"
          ]
        },
        {
          "output_type": "stream",
          "name": "stdout",
          "text": [
            "02.02.2022 19:00 BRASIL CAMPEONATO CEARENSE - RODADA 9 Caucaia Ferroviário\n"
          ]
        },
        {
          "output_type": "stream",
          "name": "stderr",
          "text": [
            "\r 48%|████▊     | 32/66 [00:49<00:48,  1.41s/it]"
          ]
        },
        {
          "output_type": "stream",
          "name": "stdout",
          "text": [
            "02.02.2022 19:00 BRASIL CAMPEONATO CEARENSE - RODADA 9 Icasa-CE Atlético-CE\n"
          ]
        },
        {
          "output_type": "stream",
          "name": "stderr",
          "text": [
            "\r 50%|█████     | 33/66 [00:50<00:49,  1.49s/it]"
          ]
        },
        {
          "output_type": "stream",
          "name": "stdout",
          "text": [
            "02.02.2022 18:30 BRASIL CAMPEONATO CEARENSE - RODADA 9 Iguatu Pacajus\n"
          ]
        },
        {
          "output_type": "stream",
          "name": "stderr",
          "text": [
            "\r 52%|█████▏    | 34/66 [00:52<00:48,  1.52s/it]"
          ]
        },
        {
          "output_type": "stream",
          "name": "stdout",
          "text": [
            "02.02.2022 18:00 BRASIL CAMPEONATO CEARENSE - RODADA 9 Maracanã Crato\n"
          ]
        },
        {
          "output_type": "stream",
          "name": "stderr",
          "text": [
            "\r 53%|█████▎    | 35/66 [00:54<00:47,  1.52s/it]"
          ]
        },
        {
          "output_type": "stream",
          "name": "stdout",
          "text": [
            "30.01.2022 19:00 BRASIL CAMPEONATO CEARENSE - RODADA 8 Pacajus Caucaia\n"
          ]
        },
        {
          "output_type": "stream",
          "name": "stderr",
          "text": [
            "\r 55%|█████▍    | 36/66 [00:55<00:46,  1.55s/it]"
          ]
        },
        {
          "output_type": "stream",
          "name": "stdout",
          "text": [
            "30.01.2022 18:30 BRASIL CAMPEONATO CEARENSE - RODADA 8 Crato Icasa-CE\n"
          ]
        },
        {
          "output_type": "stream",
          "name": "stderr",
          "text": [
            "\r 56%|█████▌    | 37/66 [00:57<00:43,  1.51s/it]"
          ]
        },
        {
          "output_type": "stream",
          "name": "stdout",
          "text": [
            "30.01.2022 18:30 BRASIL CAMPEONATO CEARENSE - RODADA 8 Ferroviário Iguatu\n"
          ]
        },
        {
          "output_type": "stream",
          "name": "stderr",
          "text": [
            "\r 58%|█████▊    | 38/66 [00:58<00:44,  1.58s/it]"
          ]
        },
        {
          "output_type": "stream",
          "name": "stdout",
          "text": [
            "30.01.2022 18:00 BRASIL CAMPEONATO CEARENSE - RODADA 8 Atlético-CE Maracanã\n"
          ]
        },
        {
          "output_type": "stream",
          "name": "stderr",
          "text": [
            "\r 59%|█████▉    | 39/66 [01:00<00:42,  1.57s/it]"
          ]
        },
        {
          "output_type": "stream",
          "name": "stdout",
          "text": [
            "27.01.2022 19:00 BRASIL CAMPEONATO CEARENSE - RODADA 7 Caucaia Maracanã\n"
          ]
        },
        {
          "output_type": "stream",
          "name": "stderr",
          "text": [
            "\r 61%|██████    | 40/66 [01:01<00:40,  1.57s/it]"
          ]
        },
        {
          "output_type": "stream",
          "name": "stdout",
          "text": [
            "27.01.2022 19:00 BRASIL CAMPEONATO CEARENSE - RODADA 7 Icasa-CE Iguatu\n"
          ]
        },
        {
          "output_type": "stream",
          "name": "stderr",
          "text": [
            "\r 62%|██████▏   | 41/66 [01:03<00:38,  1.55s/it]"
          ]
        },
        {
          "output_type": "stream",
          "name": "stdout",
          "text": [
            "27.01.2022 18:30 BRASIL CAMPEONATO CEARENSE - RODADA 7 Ferroviário Crato\n"
          ]
        },
        {
          "output_type": "stream",
          "name": "stderr",
          "text": [
            "\r 64%|██████▎   | 42/66 [01:05<00:38,  1.59s/it]"
          ]
        },
        {
          "output_type": "stream",
          "name": "stdout",
          "text": [
            "27.01.2022 18:00 BRASIL CAMPEONATO CEARENSE - RODADA 7 Atlético-CE Pacajus\n"
          ]
        },
        {
          "output_type": "stream",
          "name": "stderr",
          "text": [
            "\r 65%|██████▌   | 43/66 [01:06<00:36,  1.58s/it]"
          ]
        },
        {
          "output_type": "stream",
          "name": "stdout",
          "text": [
            "24.01.2022 22:00 BRASIL CAMPEONATO CEARENSE - RODADA 6 Iguatu Caucaia\n"
          ]
        },
        {
          "output_type": "stream",
          "name": "stderr",
          "text": [
            "\r 67%|██████▋   | 44/66 [01:08<00:34,  1.57s/it]"
          ]
        },
        {
          "output_type": "stream",
          "name": "stdout",
          "text": [
            "24.01.2022 22:00 BRASIL CAMPEONATO CEARENSE - RODADA 6 Pacajus Ferroviário\n"
          ]
        },
        {
          "output_type": "stream",
          "name": "stderr",
          "text": [
            "\r 68%|██████▊   | 45/66 [01:09<00:32,  1.55s/it]"
          ]
        },
        {
          "output_type": "stream",
          "name": "stdout",
          "text": [
            "24.01.2022 18:30 BRASIL CAMPEONATO CEARENSE - RODADA 6 Crato Atlético-CE\n"
          ]
        },
        {
          "output_type": "stream",
          "name": "stderr",
          "text": [
            "\r 70%|██████▉   | 46/66 [01:11<00:32,  1.61s/it]"
          ]
        },
        {
          "output_type": "stream",
          "name": "stdout",
          "text": [
            "24.01.2022 18:00 BRASIL CAMPEONATO CEARENSE - RODADA 6 Maracanã Icasa-CE\n"
          ]
        },
        {
          "output_type": "stream",
          "name": "stderr",
          "text": [
            "\r 71%|███████   | 47/66 [01:12<00:29,  1.57s/it]"
          ]
        },
        {
          "output_type": "stream",
          "name": "stdout",
          "text": [
            "21.01.2022 19:00 BRASIL CAMPEONATO CEARENSE - RODADA 5 Pacajus Maracanã\n"
          ]
        },
        {
          "output_type": "stream",
          "name": "stderr",
          "text": [
            "\r 73%|███████▎  | 48/66 [01:14<00:28,  1.59s/it]"
          ]
        },
        {
          "output_type": "stream",
          "name": "stdout",
          "text": [
            "21.01.2022 18:00 BRASIL CAMPEONATO CEARENSE - RODADA 5 Atlético-CE Caucaia\n"
          ]
        },
        {
          "output_type": "stream",
          "name": "stderr",
          "text": [
            "\r 74%|███████▍  | 49/66 [01:15<00:26,  1.53s/it]"
          ]
        },
        {
          "output_type": "stream",
          "name": "stdout",
          "text": [
            "21.01.2022 18:00 BRASIL CAMPEONATO CEARENSE - RODADA 5 Crato Iguatu\n"
          ]
        },
        {
          "output_type": "stream",
          "name": "stderr",
          "text": [
            "\r 76%|███████▌  | 50/66 [01:17<00:25,  1.61s/it]"
          ]
        },
        {
          "output_type": "stream",
          "name": "stdout",
          "text": [
            "21.01.2022 18:00 BRASIL CAMPEONATO CEARENSE - RODADA 5 Ferroviário Icasa-CE\n"
          ]
        },
        {
          "output_type": "stream",
          "name": "stderr",
          "text": [
            "\r 77%|███████▋  | 51/66 [01:19<00:24,  1.66s/it]"
          ]
        },
        {
          "output_type": "stream",
          "name": "stdout",
          "text": [
            "18.01.2022 22:00 BRASIL CAMPEONATO CEARENSE - RODADA 4 Iguatu Atlético-CE\n"
          ]
        },
        {
          "output_type": "stream",
          "name": "stderr",
          "text": [
            "\r 79%|███████▉  | 52/66 [01:21<00:22,  1.63s/it]"
          ]
        },
        {
          "output_type": "stream",
          "name": "stdout",
          "text": [
            "18.01.2022 19:00 BRASIL CAMPEONATO CEARENSE - RODADA 4 Caucaia Crato\n"
          ]
        },
        {
          "output_type": "stream",
          "name": "stderr",
          "text": [
            "\r 80%|████████  | 53/66 [01:22<00:20,  1.60s/it]"
          ]
        },
        {
          "output_type": "stream",
          "name": "stdout",
          "text": [
            "18.01.2022 19:00 BRASIL CAMPEONATO CEARENSE - RODADA 4 Icasa-CE Pacajus\n"
          ]
        },
        {
          "output_type": "stream",
          "name": "stderr",
          "text": [
            "\r 82%|████████▏ | 54/66 [01:24<00:19,  1.62s/it]"
          ]
        },
        {
          "output_type": "stream",
          "name": "stdout",
          "text": [
            "18.01.2022 18:00 BRASIL CAMPEONATO CEARENSE - RODADA 4 Maracanã Ferroviário\n"
          ]
        },
        {
          "output_type": "stream",
          "name": "stderr",
          "text": [
            "\r 83%|████████▎ | 55/66 [01:25<00:17,  1.61s/it]"
          ]
        },
        {
          "output_type": "stream",
          "name": "stdout",
          "text": [
            "15.01.2022 19:00 BRASIL CAMPEONATO CEARENSE - RODADA 3 Caucaia Icasa-CE\n"
          ]
        },
        {
          "output_type": "stream",
          "name": "stderr",
          "text": [
            "\r 85%|████████▍ | 56/66 [01:27<00:15,  1.60s/it]"
          ]
        },
        {
          "output_type": "stream",
          "name": "stdout",
          "text": [
            "15.01.2022 19:00 BRASIL CAMPEONATO CEARENSE - RODADA 3 Iguatu Maracanã\n"
          ]
        },
        {
          "output_type": "stream",
          "name": "stderr",
          "text": [
            "\r 86%|████████▋ | 57/66 [01:28<00:13,  1.55s/it]"
          ]
        },
        {
          "output_type": "stream",
          "name": "stdout",
          "text": [
            "15.01.2022 18:00 BRASIL CAMPEONATO CEARENSE - RODADA 3 Atlético-CE Ferroviário\n"
          ]
        },
        {
          "output_type": "stream",
          "name": "stderr",
          "text": [
            "\r 88%|████████▊ | 58/66 [01:30<00:13,  1.63s/it]"
          ]
        },
        {
          "output_type": "stream",
          "name": "stdout",
          "text": [
            "15.01.2022 18:00 BRASIL CAMPEONATO CEARENSE - RODADA 3 Crato Pacajus\n"
          ]
        },
        {
          "output_type": "stream",
          "name": "stderr",
          "text": [
            "\r 89%|████████▉ | 59/66 [01:32<00:11,  1.57s/it]"
          ]
        },
        {
          "output_type": "stream",
          "name": "stdout",
          "text": [
            "12.01.2022 19:00 BRASIL CAMPEONATO CEARENSE - RODADA 2 Crato Maracanã\n"
          ]
        },
        {
          "output_type": "stream",
          "name": "stderr",
          "text": [
            "\r 91%|█████████ | 60/66 [01:33<00:09,  1.57s/it]"
          ]
        },
        {
          "output_type": "stream",
          "name": "stdout",
          "text": [
            "12.01.2022 18:00 BRASIL CAMPEONATO CEARENSE - RODADA 2 Atlético-CE Icasa-CE\n"
          ]
        },
        {
          "output_type": "stream",
          "name": "stderr",
          "text": [
            "\r 92%|█████████▏| 61/66 [01:35<00:07,  1.52s/it]"
          ]
        },
        {
          "output_type": "stream",
          "name": "stdout",
          "text": [
            "11.01.2022 19:00 BRASIL CAMPEONATO CEARENSE - RODADA 2 Pacajus Iguatu\n"
          ]
        },
        {
          "output_type": "stream",
          "name": "stderr",
          "text": [
            "\r 94%|█████████▍| 62/66 [01:36<00:06,  1.53s/it]"
          ]
        },
        {
          "output_type": "stream",
          "name": "stdout",
          "text": [
            "11.01.2022 18:00 BRASIL CAMPEONATO CEARENSE - RODADA 2 Ferroviário Caucaia\n"
          ]
        },
        {
          "output_type": "stream",
          "name": "stderr",
          "text": [
            "\r 95%|█████████▌| 63/66 [01:38<00:04,  1.55s/it]"
          ]
        },
        {
          "output_type": "stream",
          "name": "stdout",
          "text": [
            "09.01.2022 19:00 BRASIL CAMPEONATO CEARENSE - RODADA 1 Icasa-CE Crato\n"
          ]
        },
        {
          "output_type": "stream",
          "name": "stderr",
          "text": [
            "\r 97%|█████████▋| 64/66 [01:39<00:03,  1.57s/it]"
          ]
        },
        {
          "output_type": "stream",
          "name": "stdout",
          "text": [
            "09.01.2022 18:00 BRASIL CAMPEONATO CEARENSE - RODADA 1 Maracanã Atlético-CE\n"
          ]
        },
        {
          "output_type": "stream",
          "name": "stderr",
          "text": [
            "\r 98%|█████████▊| 65/66 [01:41<00:01,  1.57s/it]"
          ]
        },
        {
          "output_type": "stream",
          "name": "stdout",
          "text": [
            "08.01.2022 19:00 BRASIL CAMPEONATO CEARENSE - RODADA 1 Iguatu Ferroviário\n"
          ]
        },
        {
          "output_type": "stream",
          "name": "stderr",
          "text": [
            "100%|██████████| 66/66 [01:42<00:00,  1.56s/it]"
          ]
        },
        {
          "output_type": "stream",
          "name": "stdout",
          "text": [
            "08.01.2022 18:00 BRASIL CAMPEONATO CEARENSE - RODADA 1 Caucaia Pacajus\n"
          ]
        },
        {
          "output_type": "stream",
          "name": "stderr",
          "text": [
            "\n"
          ]
        }
      ]
    },
    {
      "cell_type": "code",
      "source": [
        "df = pd.DataFrame(jogo)\n",
        "df"
      ],
      "metadata": {
        "colab": {
          "base_uri": "https://localhost:8080/",
          "height": 424
        },
        "id": "4g_mZZpX6Izw",
        "outputId": "a7916078-2887-46cb-8056-ba36a2146bac"
      },
      "execution_count": null,
      "outputs": [
        {
          "output_type": "execute_result",
          "data": {
            "text/plain": [
              "          Date   Time Country                                       League  \\\n",
              "0   24.04.2022  21:30  BRASIL       CAMPEONATO CEARENSE - PLAYOFFS - FINAL   \n",
              "1   23.04.2022  00:35  BRASIL       CAMPEONATO CEARENSE - PLAYOFFS - FINAL   \n",
              "2   12.03.2022  20:45  BRASIL  CAMPEONATO CEARENSE - PLAYOFFS - SEMIFINAIS   \n",
              "3   12.03.2022  19:00  BRASIL  CAMPEONATO CEARENSE - PLAYOFFS - SEMIFINAIS   \n",
              "4   09.03.2022  00:30  BRASIL  CAMPEONATO CEARENSE - PLAYOFFS - SEMIFINAIS   \n",
              "..         ...    ...     ...                                          ...   \n",
              "61  11.01.2022  18:00  BRASIL               CAMPEONATO CEARENSE - RODADA 2   \n",
              "62  09.01.2022  19:00  BRASIL               CAMPEONATO CEARENSE - RODADA 1   \n",
              "63  09.01.2022  18:00  BRASIL               CAMPEONATO CEARENSE - RODADA 1   \n",
              "64  08.01.2022  19:00  BRASIL               CAMPEONATO CEARENSE - RODADA 1   \n",
              "65  08.01.2022  18:00  BRASIL               CAMPEONATO CEARENSE - RODADA 1   \n",
              "\n",
              "           Home         Away  \n",
              "0     Fortaleza      Caucaia  \n",
              "1       Caucaia    Fortaleza  \n",
              "2     Fortaleza  Ferroviário  \n",
              "3        Iguatu      Caucaia  \n",
              "4   Ferroviário    Fortaleza  \n",
              "..          ...          ...  \n",
              "61  Ferroviário      Caucaia  \n",
              "62     Icasa-CE        Crato  \n",
              "63     Maracanã  Atlético-CE  \n",
              "64       Iguatu  Ferroviário  \n",
              "65      Caucaia      Pacajus  \n",
              "\n",
              "[66 rows x 6 columns]"
            ],
            "text/html": [
              "\n",
              "  <div id=\"df-b31966c8-07a3-47fb-a384-587aeda61d11\">\n",
              "    <div class=\"colab-df-container\">\n",
              "      <div>\n",
              "<style scoped>\n",
              "    .dataframe tbody tr th:only-of-type {\n",
              "        vertical-align: middle;\n",
              "    }\n",
              "\n",
              "    .dataframe tbody tr th {\n",
              "        vertical-align: top;\n",
              "    }\n",
              "\n",
              "    .dataframe thead th {\n",
              "        text-align: right;\n",
              "    }\n",
              "</style>\n",
              "<table border=\"1\" class=\"dataframe\">\n",
              "  <thead>\n",
              "    <tr style=\"text-align: right;\">\n",
              "      <th></th>\n",
              "      <th>Date</th>\n",
              "      <th>Time</th>\n",
              "      <th>Country</th>\n",
              "      <th>League</th>\n",
              "      <th>Home</th>\n",
              "      <th>Away</th>\n",
              "    </tr>\n",
              "  </thead>\n",
              "  <tbody>\n",
              "    <tr>\n",
              "      <th>0</th>\n",
              "      <td>24.04.2022</td>\n",
              "      <td>21:30</td>\n",
              "      <td>BRASIL</td>\n",
              "      <td>CAMPEONATO CEARENSE - PLAYOFFS - FINAL</td>\n",
              "      <td>Fortaleza</td>\n",
              "      <td>Caucaia</td>\n",
              "    </tr>\n",
              "    <tr>\n",
              "      <th>1</th>\n",
              "      <td>23.04.2022</td>\n",
              "      <td>00:35</td>\n",
              "      <td>BRASIL</td>\n",
              "      <td>CAMPEONATO CEARENSE - PLAYOFFS - FINAL</td>\n",
              "      <td>Caucaia</td>\n",
              "      <td>Fortaleza</td>\n",
              "    </tr>\n",
              "    <tr>\n",
              "      <th>2</th>\n",
              "      <td>12.03.2022</td>\n",
              "      <td>20:45</td>\n",
              "      <td>BRASIL</td>\n",
              "      <td>CAMPEONATO CEARENSE - PLAYOFFS - SEMIFINAIS</td>\n",
              "      <td>Fortaleza</td>\n",
              "      <td>Ferroviário</td>\n",
              "    </tr>\n",
              "    <tr>\n",
              "      <th>3</th>\n",
              "      <td>12.03.2022</td>\n",
              "      <td>19:00</td>\n",
              "      <td>BRASIL</td>\n",
              "      <td>CAMPEONATO CEARENSE - PLAYOFFS - SEMIFINAIS</td>\n",
              "      <td>Iguatu</td>\n",
              "      <td>Caucaia</td>\n",
              "    </tr>\n",
              "    <tr>\n",
              "      <th>4</th>\n",
              "      <td>09.03.2022</td>\n",
              "      <td>00:30</td>\n",
              "      <td>BRASIL</td>\n",
              "      <td>CAMPEONATO CEARENSE - PLAYOFFS - SEMIFINAIS</td>\n",
              "      <td>Ferroviário</td>\n",
              "      <td>Fortaleza</td>\n",
              "    </tr>\n",
              "    <tr>\n",
              "      <th>...</th>\n",
              "      <td>...</td>\n",
              "      <td>...</td>\n",
              "      <td>...</td>\n",
              "      <td>...</td>\n",
              "      <td>...</td>\n",
              "      <td>...</td>\n",
              "    </tr>\n",
              "    <tr>\n",
              "      <th>61</th>\n",
              "      <td>11.01.2022</td>\n",
              "      <td>18:00</td>\n",
              "      <td>BRASIL</td>\n",
              "      <td>CAMPEONATO CEARENSE - RODADA 2</td>\n",
              "      <td>Ferroviário</td>\n",
              "      <td>Caucaia</td>\n",
              "    </tr>\n",
              "    <tr>\n",
              "      <th>62</th>\n",
              "      <td>09.01.2022</td>\n",
              "      <td>19:00</td>\n",
              "      <td>BRASIL</td>\n",
              "      <td>CAMPEONATO CEARENSE - RODADA 1</td>\n",
              "      <td>Icasa-CE</td>\n",
              "      <td>Crato</td>\n",
              "    </tr>\n",
              "    <tr>\n",
              "      <th>63</th>\n",
              "      <td>09.01.2022</td>\n",
              "      <td>18:00</td>\n",
              "      <td>BRASIL</td>\n",
              "      <td>CAMPEONATO CEARENSE - RODADA 1</td>\n",
              "      <td>Maracanã</td>\n",
              "      <td>Atlético-CE</td>\n",
              "    </tr>\n",
              "    <tr>\n",
              "      <th>64</th>\n",
              "      <td>08.01.2022</td>\n",
              "      <td>19:00</td>\n",
              "      <td>BRASIL</td>\n",
              "      <td>CAMPEONATO CEARENSE - RODADA 1</td>\n",
              "      <td>Iguatu</td>\n",
              "      <td>Ferroviário</td>\n",
              "    </tr>\n",
              "    <tr>\n",
              "      <th>65</th>\n",
              "      <td>08.01.2022</td>\n",
              "      <td>18:00</td>\n",
              "      <td>BRASIL</td>\n",
              "      <td>CAMPEONATO CEARENSE - RODADA 1</td>\n",
              "      <td>Caucaia</td>\n",
              "      <td>Pacajus</td>\n",
              "    </tr>\n",
              "  </tbody>\n",
              "</table>\n",
              "<p>66 rows × 6 columns</p>\n",
              "</div>\n",
              "      <button class=\"colab-df-convert\" onclick=\"convertToInteractive('df-b31966c8-07a3-47fb-a384-587aeda61d11')\"\n",
              "              title=\"Convert this dataframe to an interactive table.\"\n",
              "              style=\"display:none;\">\n",
              "        \n",
              "  <svg xmlns=\"http://www.w3.org/2000/svg\" height=\"24px\"viewBox=\"0 0 24 24\"\n",
              "       width=\"24px\">\n",
              "    <path d=\"M0 0h24v24H0V0z\" fill=\"none\"/>\n",
              "    <path d=\"M18.56 5.44l.94 2.06.94-2.06 2.06-.94-2.06-.94-.94-2.06-.94 2.06-2.06.94zm-11 1L8.5 8.5l.94-2.06 2.06-.94-2.06-.94L8.5 2.5l-.94 2.06-2.06.94zm10 10l.94 2.06.94-2.06 2.06-.94-2.06-.94-.94-2.06-.94 2.06-2.06.94z\"/><path d=\"M17.41 7.96l-1.37-1.37c-.4-.4-.92-.59-1.43-.59-.52 0-1.04.2-1.43.59L10.3 9.45l-7.72 7.72c-.78.78-.78 2.05 0 2.83L4 21.41c.39.39.9.59 1.41.59.51 0 1.02-.2 1.41-.59l7.78-7.78 2.81-2.81c.8-.78.8-2.07 0-2.86zM5.41 20L4 18.59l7.72-7.72 1.47 1.35L5.41 20z\"/>\n",
              "  </svg>\n",
              "      </button>\n",
              "      \n",
              "  <style>\n",
              "    .colab-df-container {\n",
              "      display:flex;\n",
              "      flex-wrap:wrap;\n",
              "      gap: 12px;\n",
              "    }\n",
              "\n",
              "    .colab-df-convert {\n",
              "      background-color: #E8F0FE;\n",
              "      border: none;\n",
              "      border-radius: 50%;\n",
              "      cursor: pointer;\n",
              "      display: none;\n",
              "      fill: #1967D2;\n",
              "      height: 32px;\n",
              "      padding: 0 0 0 0;\n",
              "      width: 32px;\n",
              "    }\n",
              "\n",
              "    .colab-df-convert:hover {\n",
              "      background-color: #E2EBFA;\n",
              "      box-shadow: 0px 1px 2px rgba(60, 64, 67, 0.3), 0px 1px 3px 1px rgba(60, 64, 67, 0.15);\n",
              "      fill: #174EA6;\n",
              "    }\n",
              "\n",
              "    [theme=dark] .colab-df-convert {\n",
              "      background-color: #3B4455;\n",
              "      fill: #D2E3FC;\n",
              "    }\n",
              "\n",
              "    [theme=dark] .colab-df-convert:hover {\n",
              "      background-color: #434B5C;\n",
              "      box-shadow: 0px 1px 3px 1px rgba(0, 0, 0, 0.15);\n",
              "      filter: drop-shadow(0px 1px 2px rgba(0, 0, 0, 0.3));\n",
              "      fill: #FFFFFF;\n",
              "    }\n",
              "  </style>\n",
              "\n",
              "      <script>\n",
              "        const buttonEl =\n",
              "          document.querySelector('#df-b31966c8-07a3-47fb-a384-587aeda61d11 button.colab-df-convert');\n",
              "        buttonEl.style.display =\n",
              "          google.colab.kernel.accessAllowed ? 'block' : 'none';\n",
              "\n",
              "        async function convertToInteractive(key) {\n",
              "          const element = document.querySelector('#df-b31966c8-07a3-47fb-a384-587aeda61d11');\n",
              "          const dataTable =\n",
              "            await google.colab.kernel.invokeFunction('convertToInteractive',\n",
              "                                                     [key], {});\n",
              "          if (!dataTable) return;\n",
              "\n",
              "          const docLinkHtml = 'Like what you see? Visit the ' +\n",
              "            '<a target=\"_blank\" href=https://colab.research.google.com/notebooks/data_table.ipynb>data table notebook</a>'\n",
              "            + ' to learn more about interactive tables.';\n",
              "          element.innerHTML = '';\n",
              "          dataTable['output_type'] = 'display_data';\n",
              "          await google.colab.output.renderOutput(dataTable, element);\n",
              "          const docLink = document.createElement('div');\n",
              "          docLink.innerHTML = docLinkHtml;\n",
              "          element.appendChild(docLink);\n",
              "        }\n",
              "      </script>\n",
              "    </div>\n",
              "  </div>\n",
              "  "
            ]
          },
          "metadata": {},
          "execution_count": 54
        }
      ]
    },
    {
      "cell_type": "code",
      "source": [
        "df.to_excel('campeonato_cearense_resultados_2022.xlsx')"
      ],
      "metadata": {
        "id": "GAE49RpU6KaH"
      },
      "execution_count": null,
      "outputs": []
    },
    {
      "cell_type": "markdown",
      "source": [
        "# Campeonato Baiano - 2022 - Resultados (Jogos que já aconteceram)"
      ],
      "metadata": {
        "id": "QNfxOreq6ZQM"
      }
    },
    {
      "cell_type": "code",
      "source": [
        "# Com o WebDrive a gente consegue a pedir a página (URL)\n",
        "wd_Chrome.get(\"https://www.flashscore.com.br/futebol/brasil/campeonato-baiano/resultados/\")\n",
        "\n",
        "#while True:\n",
        "#  try:\n",
        "#    botao_mais = wd_Chrome.find_element(By.XPATH, '//*[@id=\"live-table\"]/div[1]/div/div/a')\n",
        "#    wd_Chrome.execute_script('arguments[0].click();', botao_mais)\n",
        "#    time.sleep(5)\n",
        "#  except:\n",
        "#    break"
      ],
      "metadata": {
        "id": "0CxZ0Zop6d1W"
      },
      "execution_count": null,
      "outputs": []
    },
    {
      "cell_type": "code",
      "source": [
        "# Pegando o ID dos Jogos\n",
        "id_jogos = []\n",
        "jogos = wd_Chrome.find_elements(By.CSS_SELECTOR,'div.event__match--static')\n",
        "\n",
        "for i in jogos:\n",
        "    id_jogos.append(i.get_attribute(\"id\"))\n",
        "\n",
        "# Exemplo de ID de um jogo: 'g_1_Gb7buXVt'    \n",
        "id_jogos = [i[4:] for i in id_jogos]\n",
        "\n",
        "jogo = {'Date':[],'Time':[],'Country':[],'League':[],'Home':[],'Away':[]}"
      ],
      "metadata": {
        "id": "UA2qS7OQ6h4t"
      },
      "execution_count": null,
      "outputs": []
    },
    {
      "cell_type": "code",
      "source": [
        "for link in tqdm(id_jogos, total=len(id_jogos)):\n",
        "    wd_Chrome.get(f'https://www.flashscore.com.br/jogo/{link}/#/resumo-de-jogo')\n",
        "    \n",
        "    # Pegando as Informacoes Básicas do Jogo\n",
        "    try:\n",
        "        Date = wd_Chrome.find_element(By.CSS_SELECTOR,'div.duelParticipant__startTime').text.split(' ')[0]\n",
        "        Time = wd_Chrome.find_element(By.CSS_SELECTOR,'div.duelParticipant__startTime').text.split(' ')[1]\n",
        "        Country = wd_Chrome.find_element(By.CSS_SELECTOR,'span.tournamentHeader__country').text.split(':')[0]\n",
        "        League = wd_Chrome.find_element(By.CSS_SELECTOR,'span.tournamentHeader__country')\n",
        "        League = League.find_element(By.CSS_SELECTOR,'a').text\n",
        "        Home = wd_Chrome.find_element(By.CSS_SELECTOR,'div.duelParticipant__home')\n",
        "        Home = Home.find_element(By.CSS_SELECTOR,'div.participant__participantName').text\n",
        "        Away = wd_Chrome.find_element(By.CSS_SELECTOR,'div.duelParticipant__away')\n",
        "        Away = Away.find_element(By.CSS_SELECTOR,'div.participant__participantName').text          \n",
        "\n",
        "    except:\n",
        "        pass\n",
        "\n",
        "    print(Date,Time,Country,League,Home,Away) \n",
        "\n",
        "    jogo['Date'].append(Date)\n",
        "    jogo['Time'].append(Time)\n",
        "    jogo['Country'].append(Country)\n",
        "    jogo['League'].append(League)\n",
        "    jogo['Home'].append(Home)\n",
        "    jogo['Away'].append(Away)"
      ],
      "metadata": {
        "colab": {
          "base_uri": "https://localhost:8080/"
        },
        "id": "VCwFKr9n6jdG",
        "outputId": "1f3c1dcc-4e80-4b84-8620-2ce66f3e8c03"
      },
      "execution_count": null,
      "outputs": [
        {
          "output_type": "stream",
          "name": "stderr",
          "text": [
            "  2%|▏         | 1/51 [00:01<01:28,  1.77s/it]"
          ]
        },
        {
          "output_type": "stream",
          "name": "stdout",
          "text": [
            "10.04.2022 19:00 BRASIL CAMPEONATO BAIANO - PLAYOFFS - FINAL Jacuipense Atlético de Alagoinhas\n"
          ]
        },
        {
          "output_type": "stream",
          "name": "stderr",
          "text": [
            "\r  4%|▍         | 2/51 [00:03<01:22,  1.69s/it]"
          ]
        },
        {
          "output_type": "stream",
          "name": "stdout",
          "text": [
            "03.04.2022 19:00 BRASIL CAMPEONATO BAIANO - PLAYOFFS - FINAL Atlético de Alagoinhas Jacuipense\n"
          ]
        },
        {
          "output_type": "stream",
          "name": "stderr",
          "text": [
            "\r  6%|▌         | 3/51 [00:05<01:22,  1.72s/it]"
          ]
        },
        {
          "output_type": "stream",
          "name": "stdout",
          "text": [
            "31.03.2022 00:30 BRASIL CAMPEONATO BAIANO - PLAYOFFS - SEMIFINAIS Jacuipense Barcelona\n"
          ]
        },
        {
          "output_type": "stream",
          "name": "stderr",
          "text": [
            "\r  8%|▊         | 4/51 [00:06<01:18,  1.68s/it]"
          ]
        },
        {
          "output_type": "stream",
          "name": "stdout",
          "text": [
            "30.03.2022 22:15 BRASIL CAMPEONATO BAIANO - PLAYOFFS - SEMIFINAIS Atlético de Alagoinhas Bahia de Feira\n"
          ]
        },
        {
          "output_type": "stream",
          "name": "stderr",
          "text": [
            "\r 10%|▉         | 5/51 [00:07<01:08,  1.49s/it]"
          ]
        },
        {
          "output_type": "stream",
          "name": "stdout",
          "text": [
            "27.03.2022 19:00 BRASIL CAMPEONATO BAIANO - PLAYOFFS - SEMIFINAIS Barcelona Jacuipense\n"
          ]
        },
        {
          "output_type": "stream",
          "name": "stderr",
          "text": [
            "\r 12%|█▏        | 6/51 [00:09<01:11,  1.60s/it]"
          ]
        },
        {
          "output_type": "stream",
          "name": "stdout",
          "text": [
            "26.03.2022 19:00 BRASIL CAMPEONATO BAIANO - PLAYOFFS - SEMIFINAIS Bahia de Feira Atlético de Alagoinhas\n"
          ]
        },
        {
          "output_type": "stream",
          "name": "stderr",
          "text": [
            "\r 14%|█▎        | 7/51 [00:11<01:10,  1.59s/it]"
          ]
        },
        {
          "output_type": "stream",
          "name": "stdout",
          "text": [
            "16.03.2022 22:15 BRASIL CAMPEONATO BAIANO - RODADA 9 Bahia Vitória da Conquista\n"
          ]
        },
        {
          "output_type": "stream",
          "name": "stderr",
          "text": [
            "\r 16%|█▌        | 8/51 [00:12<01:09,  1.61s/it]"
          ]
        },
        {
          "output_type": "stream",
          "name": "stdout",
          "text": [
            "16.03.2022 22:15 BRASIL CAMPEONATO BAIANO - RODADA 9 Doce Mel Barcelona\n"
          ]
        },
        {
          "output_type": "stream",
          "name": "stderr",
          "text": [
            "\r 18%|█▊        | 9/51 [00:14<01:07,  1.62s/it]"
          ]
        },
        {
          "output_type": "stream",
          "name": "stdout",
          "text": [
            "16.03.2022 22:15 BRASIL CAMPEONATO BAIANO - RODADA 9 Jacuipense Atlético de Alagoinhas\n"
          ]
        },
        {
          "output_type": "stream",
          "name": "stderr",
          "text": [
            "\r 20%|█▉        | 10/51 [00:15<01:03,  1.55s/it]"
          ]
        },
        {
          "output_type": "stream",
          "name": "stdout",
          "text": [
            "16.03.2022 22:15 BRASIL CAMPEONATO BAIANO - RODADA 9 Juazeirense Unirb\n"
          ]
        },
        {
          "output_type": "stream",
          "name": "stderr",
          "text": [
            "\r 22%|██▏       | 11/51 [00:17<01:04,  1.62s/it]"
          ]
        },
        {
          "output_type": "stream",
          "name": "stdout",
          "text": [
            "16.03.2022 22:15 BRASIL CAMPEONATO BAIANO - RODADA 9 Vitória Bahia de Feira\n"
          ]
        },
        {
          "output_type": "stream",
          "name": "stderr",
          "text": [
            "\r 24%|██▎       | 12/51 [00:19<01:03,  1.62s/it]"
          ]
        },
        {
          "output_type": "stream",
          "name": "stdout",
          "text": [
            "13.03.2022 21:30 BRASIL CAMPEONATO BAIANO - RODADA 8 Bahia de Feira Doce Mel\n"
          ]
        },
        {
          "output_type": "stream",
          "name": "stderr",
          "text": [
            "\r 25%|██▌       | 13/51 [00:20<01:00,  1.60s/it]"
          ]
        },
        {
          "output_type": "stream",
          "name": "stdout",
          "text": [
            "13.03.2022 19:00 BRASIL CAMPEONATO BAIANO - RODADA 8 Atlético de Alagoinhas Juazeirense\n"
          ]
        },
        {
          "output_type": "stream",
          "name": "stderr",
          "text": [
            "\r 27%|██▋       | 14/51 [00:22<00:57,  1.56s/it]"
          ]
        },
        {
          "output_type": "stream",
          "name": "stdout",
          "text": [
            "12.03.2022 21:30 BRASIL CAMPEONATO BAIANO - RODADA 8 Unirb Vitória\n"
          ]
        },
        {
          "output_type": "stream",
          "name": "stderr",
          "text": [
            "\r 29%|██▉       | 15/51 [00:24<00:59,  1.65s/it]"
          ]
        },
        {
          "output_type": "stream",
          "name": "stdout",
          "text": [
            "12.03.2022 19:00 BRASIL CAMPEONATO BAIANO - RODADA 8 Bahia Jacuipense\n"
          ]
        },
        {
          "output_type": "stream",
          "name": "stderr",
          "text": [
            "\r 31%|███▏      | 16/51 [00:25<00:57,  1.66s/it]"
          ]
        },
        {
          "output_type": "stream",
          "name": "stdout",
          "text": [
            "10.03.2022 22:15 BRASIL CAMPEONATO BAIANO - RODADA 8 Vitória da Conquista Barcelona\n"
          ]
        },
        {
          "output_type": "stream",
          "name": "stderr",
          "text": [
            "\r 33%|███▎      | 17/51 [00:27<00:55,  1.63s/it]"
          ]
        },
        {
          "output_type": "stream",
          "name": "stdout",
          "text": [
            "09.03.2022 22:15 BRASIL CAMPEONATO BAIANO - RODADA 7 Doce Mel Vitória\n"
          ]
        },
        {
          "output_type": "stream",
          "name": "stderr",
          "text": [
            "\r 35%|███▌      | 18/51 [00:28<00:51,  1.57s/it]"
          ]
        },
        {
          "output_type": "stream",
          "name": "stdout",
          "text": [
            "06.03.2022 21:30 BRASIL CAMPEONATO BAIANO - RODADA 7 Bahia de Feira Juazeirense\n"
          ]
        },
        {
          "output_type": "stream",
          "name": "stderr",
          "text": [
            "\r 37%|███▋      | 19/51 [00:30<00:51,  1.61s/it]"
          ]
        },
        {
          "output_type": "stream",
          "name": "stdout",
          "text": [
            "06.03.2022 19:00 BRASIL CAMPEONATO BAIANO - RODADA 7 Vitória da Conquista Unirb\n"
          ]
        },
        {
          "output_type": "stream",
          "name": "stderr",
          "text": [
            "\r 39%|███▉      | 20/51 [00:32<00:49,  1.60s/it]"
          ]
        },
        {
          "output_type": "stream",
          "name": "stdout",
          "text": [
            "05.03.2022 19:00 BRASIL CAMPEONATO BAIANO - RODADA 7 Barcelona Jacuipense\n"
          ]
        },
        {
          "output_type": "stream",
          "name": "stderr",
          "text": [
            "\r 41%|████      | 21/51 [00:33<00:48,  1.62s/it]"
          ]
        },
        {
          "output_type": "stream",
          "name": "stdout",
          "text": [
            "02.03.2022 22:15 BRASIL CAMPEONATO BAIANO - RODADA 7 Atlético de Alagoinhas Bahia\n"
          ]
        },
        {
          "output_type": "stream",
          "name": "stderr",
          "text": [
            "\r 43%|████▎     | 22/51 [00:35<00:47,  1.64s/it]"
          ]
        },
        {
          "output_type": "stream",
          "name": "stdout",
          "text": [
            "27.02.2022 21:00 BRASIL CAMPEONATO BAIANO - RODADA 6 Juazeirense Bahia\n"
          ]
        },
        {
          "output_type": "stream",
          "name": "stderr",
          "text": [
            "\r 45%|████▌     | 23/51 [00:37<00:45,  1.63s/it]"
          ]
        },
        {
          "output_type": "stream",
          "name": "stdout",
          "text": [
            "26.02.2022 19:00 BRASIL CAMPEONATO BAIANO - RODADA 6 Vitória Atlético de Alagoinhas\n"
          ]
        },
        {
          "output_type": "stream",
          "name": "stderr",
          "text": [
            "\r 47%|████▋     | 24/51 [00:38<00:43,  1.63s/it]"
          ]
        },
        {
          "output_type": "stream",
          "name": "stdout",
          "text": [
            "20.02.2022 19:00 BRASIL CAMPEONATO BAIANO - RODADA 6 Barcelona Bahia de Feira\n"
          ]
        },
        {
          "output_type": "stream",
          "name": "stderr",
          "text": [
            "\r 49%|████▉     | 25/51 [00:40<00:42,  1.62s/it]"
          ]
        },
        {
          "output_type": "stream",
          "name": "stdout",
          "text": [
            "19.02.2022 19:00 BRASIL CAMPEONATO BAIANO - RODADA 6 Jacuipense Vitória da Conquista\n"
          ]
        },
        {
          "output_type": "stream",
          "name": "stderr",
          "text": [
            "\r 51%|█████     | 26/51 [00:41<00:38,  1.55s/it]"
          ]
        },
        {
          "output_type": "stream",
          "name": "stdout",
          "text": [
            "17.02.2022 22:15 BRASIL CAMPEONATO BAIANO - RODADA 6 Unirb Doce Mel\n"
          ]
        },
        {
          "output_type": "stream",
          "name": "stderr",
          "text": [
            "\r 53%|█████▎    | 27/51 [00:43<00:36,  1.53s/it]"
          ]
        },
        {
          "output_type": "stream",
          "name": "stdout",
          "text": [
            "16.02.2022 22:15 BRASIL CAMPEONATO BAIANO - RODADA 5 Jacuipense Bahia de Feira\n"
          ]
        },
        {
          "output_type": "stream",
          "name": "stderr",
          "text": [
            "\r 55%|█████▍    | 28/51 [00:44<00:35,  1.55s/it]"
          ]
        },
        {
          "output_type": "stream",
          "name": "stdout",
          "text": [
            "13.02.2022 19:00 BRASIL CAMPEONATO BAIANO - RODADA 5 Vitória da Conquista Vitória\n"
          ]
        },
        {
          "output_type": "stream",
          "name": "stderr",
          "text": [
            "\r 57%|█████▋    | 29/51 [00:46<00:33,  1.52s/it]"
          ]
        },
        {
          "output_type": "stream",
          "name": "stdout",
          "text": [
            "12.02.2022 19:00 BRASIL CAMPEONATO BAIANO - RODADA 5 Juazeirense Doce Mel\n"
          ]
        },
        {
          "output_type": "stream",
          "name": "stderr",
          "text": [
            "\r 59%|█████▉    | 30/51 [00:48<00:33,  1.61s/it]"
          ]
        },
        {
          "output_type": "stream",
          "name": "stdout",
          "text": [
            "10.02.2022 00:30 BRASIL CAMPEONATO BAIANO - RODADA 5 Atlético de Alagoinhas Unirb\n"
          ]
        },
        {
          "output_type": "stream",
          "name": "stderr",
          "text": [
            "\r 61%|██████    | 31/51 [00:49<00:31,  1.60s/it]"
          ]
        },
        {
          "output_type": "stream",
          "name": "stdout",
          "text": [
            "09.02.2022 22:15 BRASIL CAMPEONATO BAIANO - RODADA 5 Bahia Barcelona\n"
          ]
        },
        {
          "output_type": "stream",
          "name": "stderr",
          "text": [
            "\r 63%|██████▎   | 32/51 [00:51<00:30,  1.60s/it]"
          ]
        },
        {
          "output_type": "stream",
          "name": "stdout",
          "text": [
            "06.02.2022 21:30 BRASIL CAMPEONATO BAIANO - RODADA 4 Doce Mel Vitória da Conquista\n"
          ]
        },
        {
          "output_type": "stream",
          "name": "stderr",
          "text": [
            "\r 65%|██████▍   | 33/51 [00:52<00:28,  1.58s/it]"
          ]
        },
        {
          "output_type": "stream",
          "name": "stdout",
          "text": [
            "06.02.2022 19:00 BRASIL CAMPEONATO BAIANO - RODADA 4 Unirb Jacuipense\n"
          ]
        },
        {
          "output_type": "stream",
          "name": "stderr",
          "text": [
            "\r 67%|██████▋   | 34/51 [00:54<00:26,  1.55s/it]"
          ]
        },
        {
          "output_type": "stream",
          "name": "stdout",
          "text": [
            "05.02.2022 21:00 BRASIL CAMPEONATO BAIANO - RODADA 4 Barcelona Juazeirense\n"
          ]
        },
        {
          "output_type": "stream",
          "name": "stderr",
          "text": [
            "\r 69%|██████▊   | 35/51 [00:55<00:24,  1.54s/it]"
          ]
        },
        {
          "output_type": "stream",
          "name": "stdout",
          "text": [
            "03.02.2022 00:30 BRASIL CAMPEONATO BAIANO - RODADA 3 Bahia de Feira Unirb\n"
          ]
        },
        {
          "output_type": "stream",
          "name": "stderr",
          "text": [
            "\r 71%|███████   | 36/51 [00:57<00:23,  1.57s/it]"
          ]
        },
        {
          "output_type": "stream",
          "name": "stdout",
          "text": [
            "02.02.2022 22:15 BRASIL CAMPEONATO BAIANO - RODADA 4 Vitória Bahia\n"
          ]
        },
        {
          "output_type": "stream",
          "name": "stderr",
          "text": [
            "\r 73%|███████▎  | 37/51 [00:59<00:22,  1.60s/it]"
          ]
        },
        {
          "output_type": "stream",
          "name": "stdout",
          "text": [
            "30.01.2022 21:30 BRASIL CAMPEONATO BAIANO - RODADA 3 Juazeirense Vitória da Conquista\n"
          ]
        },
        {
          "output_type": "stream",
          "name": "stderr",
          "text": [
            "\r 75%|███████▍  | 38/51 [01:00<00:20,  1.59s/it]"
          ]
        },
        {
          "output_type": "stream",
          "name": "stdout",
          "text": [
            "30.01.2022 19:00 BRASIL CAMPEONATO BAIANO - RODADA 4 Bahia de Feira Atlético de Alagoinhas\n"
          ]
        },
        {
          "output_type": "stream",
          "name": "stderr",
          "text": [
            "\r 76%|███████▋  | 39/51 [01:02<00:19,  1.65s/it]"
          ]
        },
        {
          "output_type": "stream",
          "name": "stdout",
          "text": [
            "29.01.2022 19:00 BRASIL CAMPEONATO BAIANO - RODADA 3 Jacuipense Vitória\n"
          ]
        },
        {
          "output_type": "stream",
          "name": "stderr",
          "text": [
            "\r 78%|███████▊  | 40/51 [01:04<00:18,  1.66s/it]"
          ]
        },
        {
          "output_type": "stream",
          "name": "stdout",
          "text": [
            "27.01.2022 22:15 BRASIL CAMPEONATO BAIANO - RODADA 3 Atlético de Alagoinhas Barcelona\n"
          ]
        },
        {
          "output_type": "stream",
          "name": "stderr",
          "text": [
            "\r 80%|████████  | 41/51 [01:05<00:16,  1.63s/it]"
          ]
        },
        {
          "output_type": "stream",
          "name": "stdout",
          "text": [
            "26.01.2022 22:15 BRASIL CAMPEONATO BAIANO - RODADA 3 Bahia Doce Mel\n"
          ]
        },
        {
          "output_type": "stream",
          "name": "stderr",
          "text": [
            "\r 82%|████████▏ | 42/51 [01:07<00:15,  1.68s/it]"
          ]
        },
        {
          "output_type": "stream",
          "name": "stdout",
          "text": [
            "23.01.2022 19:00 BRASIL CAMPEONATO BAIANO - RODADA 2 Barcelona Vitória\n"
          ]
        },
        {
          "output_type": "stream",
          "name": "stderr",
          "text": [
            "\r 84%|████████▍ | 43/51 [01:09<00:13,  1.64s/it]"
          ]
        },
        {
          "output_type": "stream",
          "name": "stdout",
          "text": [
            "23.01.2022 19:00 BRASIL CAMPEONATO BAIANO - RODADA 2 Juazeirense Jacuipense\n"
          ]
        },
        {
          "output_type": "stream",
          "name": "stderr",
          "text": [
            "\r 86%|████████▋ | 44/51 [01:10<00:11,  1.63s/it]"
          ]
        },
        {
          "output_type": "stream",
          "name": "stdout",
          "text": [
            "22.01.2022 19:00 BRASIL CAMPEONATO BAIANO - RODADA 2 Vitória da Conquista Bahia de Feira\n"
          ]
        },
        {
          "output_type": "stream",
          "name": "stderr",
          "text": [
            "\r 88%|████████▊ | 45/51 [01:12<00:09,  1.66s/it]"
          ]
        },
        {
          "output_type": "stream",
          "name": "stdout",
          "text": [
            "20.01.2022 00:30 BRASIL CAMPEONATO BAIANO - RODADA 2 Doce Mel Atlético de Alagoinhas\n"
          ]
        },
        {
          "output_type": "stream",
          "name": "stderr",
          "text": [
            "\r 90%|█████████ | 46/51 [01:14<00:08,  1.68s/it]"
          ]
        },
        {
          "output_type": "stream",
          "name": "stdout",
          "text": [
            "19.01.2022 22:15 BRASIL CAMPEONATO BAIANO - RODADA 2 Bahia Unirb\n"
          ]
        },
        {
          "output_type": "stream",
          "name": "stderr",
          "text": [
            "\r 92%|█████████▏| 47/51 [01:15<00:06,  1.63s/it]"
          ]
        },
        {
          "output_type": "stream",
          "name": "stdout",
          "text": [
            "16.01.2022 21:30 BRASIL CAMPEONATO BAIANO - RODADA 1 Unirb Barcelona\n"
          ]
        },
        {
          "output_type": "stream",
          "name": "stderr",
          "text": [
            "\r 94%|█████████▍| 48/51 [01:17<00:04,  1.54s/it]"
          ]
        },
        {
          "output_type": "stream",
          "name": "stdout",
          "text": [
            "16.01.2022 19:00 BRASIL CAMPEONATO BAIANO - RODADA 1 Vitória Juazeirense\n"
          ]
        },
        {
          "output_type": "stream",
          "name": "stderr",
          "text": [
            "\r 96%|█████████▌| 49/51 [01:18<00:03,  1.63s/it]"
          ]
        },
        {
          "output_type": "stream",
          "name": "stdout",
          "text": [
            "15.01.2022 21:30 BRASIL CAMPEONATO BAIANO - RODADA 1 Atlético de Alagoinhas Vitória da Conquista\n"
          ]
        },
        {
          "output_type": "stream",
          "name": "stderr",
          "text": [
            "\r 98%|█████████▊| 50/51 [01:20<00:01,  1.62s/it]"
          ]
        },
        {
          "output_type": "stream",
          "name": "stdout",
          "text": [
            "15.01.2022 19:00 BRASIL CAMPEONATO BAIANO - RODADA 1 Bahia de Feira Bahia\n"
          ]
        },
        {
          "output_type": "stream",
          "name": "stderr",
          "text": [
            "100%|██████████| 51/51 [01:21<00:00,  1.61s/it]"
          ]
        },
        {
          "output_type": "stream",
          "name": "stdout",
          "text": [
            "15.01.2022 19:00 BRASIL CAMPEONATO BAIANO - RODADA 1 Jacuipense Doce Mel\n"
          ]
        },
        {
          "output_type": "stream",
          "name": "stderr",
          "text": [
            "\n"
          ]
        }
      ]
    },
    {
      "cell_type": "code",
      "source": [
        "df = pd.DataFrame(jogo)\n",
        "df"
      ],
      "metadata": {
        "colab": {
          "base_uri": "https://localhost:8080/",
          "height": 1000
        },
        "id": "Ny1wq26o6llH",
        "outputId": "993a10c7-c2ef-4850-9509-b817468a6281"
      },
      "execution_count": null,
      "outputs": [
        {
          "output_type": "execute_result",
          "data": {
            "text/plain": [
              "          Date   Time Country                                     League  \\\n",
              "0   10.04.2022  19:00  BRASIL       CAMPEONATO BAIANO - PLAYOFFS - FINAL   \n",
              "1   03.04.2022  19:00  BRASIL       CAMPEONATO BAIANO - PLAYOFFS - FINAL   \n",
              "2   31.03.2022  00:30  BRASIL  CAMPEONATO BAIANO - PLAYOFFS - SEMIFINAIS   \n",
              "3   30.03.2022  22:15  BRASIL  CAMPEONATO BAIANO - PLAYOFFS - SEMIFINAIS   \n",
              "4   27.03.2022  19:00  BRASIL  CAMPEONATO BAIANO - PLAYOFFS - SEMIFINAIS   \n",
              "5   26.03.2022  19:00  BRASIL  CAMPEONATO BAIANO - PLAYOFFS - SEMIFINAIS   \n",
              "6   16.03.2022  22:15  BRASIL               CAMPEONATO BAIANO - RODADA 9   \n",
              "7   16.03.2022  22:15  BRASIL               CAMPEONATO BAIANO - RODADA 9   \n",
              "8   16.03.2022  22:15  BRASIL               CAMPEONATO BAIANO - RODADA 9   \n",
              "9   16.03.2022  22:15  BRASIL               CAMPEONATO BAIANO - RODADA 9   \n",
              "10  16.03.2022  22:15  BRASIL               CAMPEONATO BAIANO - RODADA 9   \n",
              "11  13.03.2022  21:30  BRASIL               CAMPEONATO BAIANO - RODADA 8   \n",
              "12  13.03.2022  19:00  BRASIL               CAMPEONATO BAIANO - RODADA 8   \n",
              "13  12.03.2022  21:30  BRASIL               CAMPEONATO BAIANO - RODADA 8   \n",
              "14  12.03.2022  19:00  BRASIL               CAMPEONATO BAIANO - RODADA 8   \n",
              "15  10.03.2022  22:15  BRASIL               CAMPEONATO BAIANO - RODADA 8   \n",
              "16  09.03.2022  22:15  BRASIL               CAMPEONATO BAIANO - RODADA 7   \n",
              "17  06.03.2022  21:30  BRASIL               CAMPEONATO BAIANO - RODADA 7   \n",
              "18  06.03.2022  19:00  BRASIL               CAMPEONATO BAIANO - RODADA 7   \n",
              "19  05.03.2022  19:00  BRASIL               CAMPEONATO BAIANO - RODADA 7   \n",
              "20  02.03.2022  22:15  BRASIL               CAMPEONATO BAIANO - RODADA 7   \n",
              "21  27.02.2022  21:00  BRASIL               CAMPEONATO BAIANO - RODADA 6   \n",
              "22  26.02.2022  19:00  BRASIL               CAMPEONATO BAIANO - RODADA 6   \n",
              "23  20.02.2022  19:00  BRASIL               CAMPEONATO BAIANO - RODADA 6   \n",
              "24  19.02.2022  19:00  BRASIL               CAMPEONATO BAIANO - RODADA 6   \n",
              "25  17.02.2022  22:15  BRASIL               CAMPEONATO BAIANO - RODADA 6   \n",
              "26  16.02.2022  22:15  BRASIL               CAMPEONATO BAIANO - RODADA 5   \n",
              "27  13.02.2022  19:00  BRASIL               CAMPEONATO BAIANO - RODADA 5   \n",
              "28  12.02.2022  19:00  BRASIL               CAMPEONATO BAIANO - RODADA 5   \n",
              "29  10.02.2022  00:30  BRASIL               CAMPEONATO BAIANO - RODADA 5   \n",
              "30  09.02.2022  22:15  BRASIL               CAMPEONATO BAIANO - RODADA 5   \n",
              "31  06.02.2022  21:30  BRASIL               CAMPEONATO BAIANO - RODADA 4   \n",
              "32  06.02.2022  19:00  BRASIL               CAMPEONATO BAIANO - RODADA 4   \n",
              "33  05.02.2022  21:00  BRASIL               CAMPEONATO BAIANO - RODADA 4   \n",
              "34  03.02.2022  00:30  BRASIL               CAMPEONATO BAIANO - RODADA 3   \n",
              "35  02.02.2022  22:15  BRASIL               CAMPEONATO BAIANO - RODADA 4   \n",
              "36  30.01.2022  21:30  BRASIL               CAMPEONATO BAIANO - RODADA 3   \n",
              "37  30.01.2022  19:00  BRASIL               CAMPEONATO BAIANO - RODADA 4   \n",
              "38  29.01.2022  19:00  BRASIL               CAMPEONATO BAIANO - RODADA 3   \n",
              "39  27.01.2022  22:15  BRASIL               CAMPEONATO BAIANO - RODADA 3   \n",
              "40  26.01.2022  22:15  BRASIL               CAMPEONATO BAIANO - RODADA 3   \n",
              "41  23.01.2022  19:00  BRASIL               CAMPEONATO BAIANO - RODADA 2   \n",
              "42  23.01.2022  19:00  BRASIL               CAMPEONATO BAIANO - RODADA 2   \n",
              "43  22.01.2022  19:00  BRASIL               CAMPEONATO BAIANO - RODADA 2   \n",
              "44  20.01.2022  00:30  BRASIL               CAMPEONATO BAIANO - RODADA 2   \n",
              "45  19.01.2022  22:15  BRASIL               CAMPEONATO BAIANO - RODADA 2   \n",
              "46  16.01.2022  21:30  BRASIL               CAMPEONATO BAIANO - RODADA 1   \n",
              "47  16.01.2022  19:00  BRASIL               CAMPEONATO BAIANO - RODADA 1   \n",
              "48  15.01.2022  21:30  BRASIL               CAMPEONATO BAIANO - RODADA 1   \n",
              "49  15.01.2022  19:00  BRASIL               CAMPEONATO BAIANO - RODADA 1   \n",
              "50  15.01.2022  19:00  BRASIL               CAMPEONATO BAIANO - RODADA 1   \n",
              "\n",
              "                      Home                    Away  \n",
              "0               Jacuipense  Atlético de Alagoinhas  \n",
              "1   Atlético de Alagoinhas              Jacuipense  \n",
              "2               Jacuipense               Barcelona  \n",
              "3   Atlético de Alagoinhas          Bahia de Feira  \n",
              "4                Barcelona              Jacuipense  \n",
              "5           Bahia de Feira  Atlético de Alagoinhas  \n",
              "6                    Bahia    Vitória da Conquista  \n",
              "7                 Doce Mel               Barcelona  \n",
              "8               Jacuipense  Atlético de Alagoinhas  \n",
              "9              Juazeirense                   Unirb  \n",
              "10                 Vitória          Bahia de Feira  \n",
              "11          Bahia de Feira                Doce Mel  \n",
              "12  Atlético de Alagoinhas             Juazeirense  \n",
              "13                   Unirb                 Vitória  \n",
              "14                   Bahia              Jacuipense  \n",
              "15    Vitória da Conquista               Barcelona  \n",
              "16                Doce Mel                 Vitória  \n",
              "17          Bahia de Feira             Juazeirense  \n",
              "18    Vitória da Conquista                   Unirb  \n",
              "19               Barcelona              Jacuipense  \n",
              "20  Atlético de Alagoinhas                   Bahia  \n",
              "21             Juazeirense                   Bahia  \n",
              "22                 Vitória  Atlético de Alagoinhas  \n",
              "23               Barcelona          Bahia de Feira  \n",
              "24              Jacuipense    Vitória da Conquista  \n",
              "25                   Unirb                Doce Mel  \n",
              "26              Jacuipense          Bahia de Feira  \n",
              "27    Vitória da Conquista                 Vitória  \n",
              "28             Juazeirense                Doce Mel  \n",
              "29  Atlético de Alagoinhas                   Unirb  \n",
              "30                   Bahia               Barcelona  \n",
              "31                Doce Mel    Vitória da Conquista  \n",
              "32                   Unirb              Jacuipense  \n",
              "33               Barcelona             Juazeirense  \n",
              "34          Bahia de Feira                   Unirb  \n",
              "35                 Vitória                   Bahia  \n",
              "36             Juazeirense    Vitória da Conquista  \n",
              "37          Bahia de Feira  Atlético de Alagoinhas  \n",
              "38              Jacuipense                 Vitória  \n",
              "39  Atlético de Alagoinhas               Barcelona  \n",
              "40                   Bahia                Doce Mel  \n",
              "41               Barcelona                 Vitória  \n",
              "42             Juazeirense              Jacuipense  \n",
              "43    Vitória da Conquista          Bahia de Feira  \n",
              "44                Doce Mel  Atlético de Alagoinhas  \n",
              "45                   Bahia                   Unirb  \n",
              "46                   Unirb               Barcelona  \n",
              "47                 Vitória             Juazeirense  \n",
              "48  Atlético de Alagoinhas    Vitória da Conquista  \n",
              "49          Bahia de Feira                   Bahia  \n",
              "50              Jacuipense                Doce Mel  "
            ],
            "text/html": [
              "\n",
              "  <div id=\"df-ee07b2f0-a82a-4031-9556-3fe97c38e9a8\">\n",
              "    <div class=\"colab-df-container\">\n",
              "      <div>\n",
              "<style scoped>\n",
              "    .dataframe tbody tr th:only-of-type {\n",
              "        vertical-align: middle;\n",
              "    }\n",
              "\n",
              "    .dataframe tbody tr th {\n",
              "        vertical-align: top;\n",
              "    }\n",
              "\n",
              "    .dataframe thead th {\n",
              "        text-align: right;\n",
              "    }\n",
              "</style>\n",
              "<table border=\"1\" class=\"dataframe\">\n",
              "  <thead>\n",
              "    <tr style=\"text-align: right;\">\n",
              "      <th></th>\n",
              "      <th>Date</th>\n",
              "      <th>Time</th>\n",
              "      <th>Country</th>\n",
              "      <th>League</th>\n",
              "      <th>Home</th>\n",
              "      <th>Away</th>\n",
              "    </tr>\n",
              "  </thead>\n",
              "  <tbody>\n",
              "    <tr>\n",
              "      <th>0</th>\n",
              "      <td>10.04.2022</td>\n",
              "      <td>19:00</td>\n",
              "      <td>BRASIL</td>\n",
              "      <td>CAMPEONATO BAIANO - PLAYOFFS - FINAL</td>\n",
              "      <td>Jacuipense</td>\n",
              "      <td>Atlético de Alagoinhas</td>\n",
              "    </tr>\n",
              "    <tr>\n",
              "      <th>1</th>\n",
              "      <td>03.04.2022</td>\n",
              "      <td>19:00</td>\n",
              "      <td>BRASIL</td>\n",
              "      <td>CAMPEONATO BAIANO - PLAYOFFS - FINAL</td>\n",
              "      <td>Atlético de Alagoinhas</td>\n",
              "      <td>Jacuipense</td>\n",
              "    </tr>\n",
              "    <tr>\n",
              "      <th>2</th>\n",
              "      <td>31.03.2022</td>\n",
              "      <td>00:30</td>\n",
              "      <td>BRASIL</td>\n",
              "      <td>CAMPEONATO BAIANO - PLAYOFFS - SEMIFINAIS</td>\n",
              "      <td>Jacuipense</td>\n",
              "      <td>Barcelona</td>\n",
              "    </tr>\n",
              "    <tr>\n",
              "      <th>3</th>\n",
              "      <td>30.03.2022</td>\n",
              "      <td>22:15</td>\n",
              "      <td>BRASIL</td>\n",
              "      <td>CAMPEONATO BAIANO - PLAYOFFS - SEMIFINAIS</td>\n",
              "      <td>Atlético de Alagoinhas</td>\n",
              "      <td>Bahia de Feira</td>\n",
              "    </tr>\n",
              "    <tr>\n",
              "      <th>4</th>\n",
              "      <td>27.03.2022</td>\n",
              "      <td>19:00</td>\n",
              "      <td>BRASIL</td>\n",
              "      <td>CAMPEONATO BAIANO - PLAYOFFS - SEMIFINAIS</td>\n",
              "      <td>Barcelona</td>\n",
              "      <td>Jacuipense</td>\n",
              "    </tr>\n",
              "    <tr>\n",
              "      <th>5</th>\n",
              "      <td>26.03.2022</td>\n",
              "      <td>19:00</td>\n",
              "      <td>BRASIL</td>\n",
              "      <td>CAMPEONATO BAIANO - PLAYOFFS - SEMIFINAIS</td>\n",
              "      <td>Bahia de Feira</td>\n",
              "      <td>Atlético de Alagoinhas</td>\n",
              "    </tr>\n",
              "    <tr>\n",
              "      <th>6</th>\n",
              "      <td>16.03.2022</td>\n",
              "      <td>22:15</td>\n",
              "      <td>BRASIL</td>\n",
              "      <td>CAMPEONATO BAIANO - RODADA 9</td>\n",
              "      <td>Bahia</td>\n",
              "      <td>Vitória da Conquista</td>\n",
              "    </tr>\n",
              "    <tr>\n",
              "      <th>7</th>\n",
              "      <td>16.03.2022</td>\n",
              "      <td>22:15</td>\n",
              "      <td>BRASIL</td>\n",
              "      <td>CAMPEONATO BAIANO - RODADA 9</td>\n",
              "      <td>Doce Mel</td>\n",
              "      <td>Barcelona</td>\n",
              "    </tr>\n",
              "    <tr>\n",
              "      <th>8</th>\n",
              "      <td>16.03.2022</td>\n",
              "      <td>22:15</td>\n",
              "      <td>BRASIL</td>\n",
              "      <td>CAMPEONATO BAIANO - RODADA 9</td>\n",
              "      <td>Jacuipense</td>\n",
              "      <td>Atlético de Alagoinhas</td>\n",
              "    </tr>\n",
              "    <tr>\n",
              "      <th>9</th>\n",
              "      <td>16.03.2022</td>\n",
              "      <td>22:15</td>\n",
              "      <td>BRASIL</td>\n",
              "      <td>CAMPEONATO BAIANO - RODADA 9</td>\n",
              "      <td>Juazeirense</td>\n",
              "      <td>Unirb</td>\n",
              "    </tr>\n",
              "    <tr>\n",
              "      <th>10</th>\n",
              "      <td>16.03.2022</td>\n",
              "      <td>22:15</td>\n",
              "      <td>BRASIL</td>\n",
              "      <td>CAMPEONATO BAIANO - RODADA 9</td>\n",
              "      <td>Vitória</td>\n",
              "      <td>Bahia de Feira</td>\n",
              "    </tr>\n",
              "    <tr>\n",
              "      <th>11</th>\n",
              "      <td>13.03.2022</td>\n",
              "      <td>21:30</td>\n",
              "      <td>BRASIL</td>\n",
              "      <td>CAMPEONATO BAIANO - RODADA 8</td>\n",
              "      <td>Bahia de Feira</td>\n",
              "      <td>Doce Mel</td>\n",
              "    </tr>\n",
              "    <tr>\n",
              "      <th>12</th>\n",
              "      <td>13.03.2022</td>\n",
              "      <td>19:00</td>\n",
              "      <td>BRASIL</td>\n",
              "      <td>CAMPEONATO BAIANO - RODADA 8</td>\n",
              "      <td>Atlético de Alagoinhas</td>\n",
              "      <td>Juazeirense</td>\n",
              "    </tr>\n",
              "    <tr>\n",
              "      <th>13</th>\n",
              "      <td>12.03.2022</td>\n",
              "      <td>21:30</td>\n",
              "      <td>BRASIL</td>\n",
              "      <td>CAMPEONATO BAIANO - RODADA 8</td>\n",
              "      <td>Unirb</td>\n",
              "      <td>Vitória</td>\n",
              "    </tr>\n",
              "    <tr>\n",
              "      <th>14</th>\n",
              "      <td>12.03.2022</td>\n",
              "      <td>19:00</td>\n",
              "      <td>BRASIL</td>\n",
              "      <td>CAMPEONATO BAIANO - RODADA 8</td>\n",
              "      <td>Bahia</td>\n",
              "      <td>Jacuipense</td>\n",
              "    </tr>\n",
              "    <tr>\n",
              "      <th>15</th>\n",
              "      <td>10.03.2022</td>\n",
              "      <td>22:15</td>\n",
              "      <td>BRASIL</td>\n",
              "      <td>CAMPEONATO BAIANO - RODADA 8</td>\n",
              "      <td>Vitória da Conquista</td>\n",
              "      <td>Barcelona</td>\n",
              "    </tr>\n",
              "    <tr>\n",
              "      <th>16</th>\n",
              "      <td>09.03.2022</td>\n",
              "      <td>22:15</td>\n",
              "      <td>BRASIL</td>\n",
              "      <td>CAMPEONATO BAIANO - RODADA 7</td>\n",
              "      <td>Doce Mel</td>\n",
              "      <td>Vitória</td>\n",
              "    </tr>\n",
              "    <tr>\n",
              "      <th>17</th>\n",
              "      <td>06.03.2022</td>\n",
              "      <td>21:30</td>\n",
              "      <td>BRASIL</td>\n",
              "      <td>CAMPEONATO BAIANO - RODADA 7</td>\n",
              "      <td>Bahia de Feira</td>\n",
              "      <td>Juazeirense</td>\n",
              "    </tr>\n",
              "    <tr>\n",
              "      <th>18</th>\n",
              "      <td>06.03.2022</td>\n",
              "      <td>19:00</td>\n",
              "      <td>BRASIL</td>\n",
              "      <td>CAMPEONATO BAIANO - RODADA 7</td>\n",
              "      <td>Vitória da Conquista</td>\n",
              "      <td>Unirb</td>\n",
              "    </tr>\n",
              "    <tr>\n",
              "      <th>19</th>\n",
              "      <td>05.03.2022</td>\n",
              "      <td>19:00</td>\n",
              "      <td>BRASIL</td>\n",
              "      <td>CAMPEONATO BAIANO - RODADA 7</td>\n",
              "      <td>Barcelona</td>\n",
              "      <td>Jacuipense</td>\n",
              "    </tr>\n",
              "    <tr>\n",
              "      <th>20</th>\n",
              "      <td>02.03.2022</td>\n",
              "      <td>22:15</td>\n",
              "      <td>BRASIL</td>\n",
              "      <td>CAMPEONATO BAIANO - RODADA 7</td>\n",
              "      <td>Atlético de Alagoinhas</td>\n",
              "      <td>Bahia</td>\n",
              "    </tr>\n",
              "    <tr>\n",
              "      <th>21</th>\n",
              "      <td>27.02.2022</td>\n",
              "      <td>21:00</td>\n",
              "      <td>BRASIL</td>\n",
              "      <td>CAMPEONATO BAIANO - RODADA 6</td>\n",
              "      <td>Juazeirense</td>\n",
              "      <td>Bahia</td>\n",
              "    </tr>\n",
              "    <tr>\n",
              "      <th>22</th>\n",
              "      <td>26.02.2022</td>\n",
              "      <td>19:00</td>\n",
              "      <td>BRASIL</td>\n",
              "      <td>CAMPEONATO BAIANO - RODADA 6</td>\n",
              "      <td>Vitória</td>\n",
              "      <td>Atlético de Alagoinhas</td>\n",
              "    </tr>\n",
              "    <tr>\n",
              "      <th>23</th>\n",
              "      <td>20.02.2022</td>\n",
              "      <td>19:00</td>\n",
              "      <td>BRASIL</td>\n",
              "      <td>CAMPEONATO BAIANO - RODADA 6</td>\n",
              "      <td>Barcelona</td>\n",
              "      <td>Bahia de Feira</td>\n",
              "    </tr>\n",
              "    <tr>\n",
              "      <th>24</th>\n",
              "      <td>19.02.2022</td>\n",
              "      <td>19:00</td>\n",
              "      <td>BRASIL</td>\n",
              "      <td>CAMPEONATO BAIANO - RODADA 6</td>\n",
              "      <td>Jacuipense</td>\n",
              "      <td>Vitória da Conquista</td>\n",
              "    </tr>\n",
              "    <tr>\n",
              "      <th>25</th>\n",
              "      <td>17.02.2022</td>\n",
              "      <td>22:15</td>\n",
              "      <td>BRASIL</td>\n",
              "      <td>CAMPEONATO BAIANO - RODADA 6</td>\n",
              "      <td>Unirb</td>\n",
              "      <td>Doce Mel</td>\n",
              "    </tr>\n",
              "    <tr>\n",
              "      <th>26</th>\n",
              "      <td>16.02.2022</td>\n",
              "      <td>22:15</td>\n",
              "      <td>BRASIL</td>\n",
              "      <td>CAMPEONATO BAIANO - RODADA 5</td>\n",
              "      <td>Jacuipense</td>\n",
              "      <td>Bahia de Feira</td>\n",
              "    </tr>\n",
              "    <tr>\n",
              "      <th>27</th>\n",
              "      <td>13.02.2022</td>\n",
              "      <td>19:00</td>\n",
              "      <td>BRASIL</td>\n",
              "      <td>CAMPEONATO BAIANO - RODADA 5</td>\n",
              "      <td>Vitória da Conquista</td>\n",
              "      <td>Vitória</td>\n",
              "    </tr>\n",
              "    <tr>\n",
              "      <th>28</th>\n",
              "      <td>12.02.2022</td>\n",
              "      <td>19:00</td>\n",
              "      <td>BRASIL</td>\n",
              "      <td>CAMPEONATO BAIANO - RODADA 5</td>\n",
              "      <td>Juazeirense</td>\n",
              "      <td>Doce Mel</td>\n",
              "    </tr>\n",
              "    <tr>\n",
              "      <th>29</th>\n",
              "      <td>10.02.2022</td>\n",
              "      <td>00:30</td>\n",
              "      <td>BRASIL</td>\n",
              "      <td>CAMPEONATO BAIANO - RODADA 5</td>\n",
              "      <td>Atlético de Alagoinhas</td>\n",
              "      <td>Unirb</td>\n",
              "    </tr>\n",
              "    <tr>\n",
              "      <th>30</th>\n",
              "      <td>09.02.2022</td>\n",
              "      <td>22:15</td>\n",
              "      <td>BRASIL</td>\n",
              "      <td>CAMPEONATO BAIANO - RODADA 5</td>\n",
              "      <td>Bahia</td>\n",
              "      <td>Barcelona</td>\n",
              "    </tr>\n",
              "    <tr>\n",
              "      <th>31</th>\n",
              "      <td>06.02.2022</td>\n",
              "      <td>21:30</td>\n",
              "      <td>BRASIL</td>\n",
              "      <td>CAMPEONATO BAIANO - RODADA 4</td>\n",
              "      <td>Doce Mel</td>\n",
              "      <td>Vitória da Conquista</td>\n",
              "    </tr>\n",
              "    <tr>\n",
              "      <th>32</th>\n",
              "      <td>06.02.2022</td>\n",
              "      <td>19:00</td>\n",
              "      <td>BRASIL</td>\n",
              "      <td>CAMPEONATO BAIANO - RODADA 4</td>\n",
              "      <td>Unirb</td>\n",
              "      <td>Jacuipense</td>\n",
              "    </tr>\n",
              "    <tr>\n",
              "      <th>33</th>\n",
              "      <td>05.02.2022</td>\n",
              "      <td>21:00</td>\n",
              "      <td>BRASIL</td>\n",
              "      <td>CAMPEONATO BAIANO - RODADA 4</td>\n",
              "      <td>Barcelona</td>\n",
              "      <td>Juazeirense</td>\n",
              "    </tr>\n",
              "    <tr>\n",
              "      <th>34</th>\n",
              "      <td>03.02.2022</td>\n",
              "      <td>00:30</td>\n",
              "      <td>BRASIL</td>\n",
              "      <td>CAMPEONATO BAIANO - RODADA 3</td>\n",
              "      <td>Bahia de Feira</td>\n",
              "      <td>Unirb</td>\n",
              "    </tr>\n",
              "    <tr>\n",
              "      <th>35</th>\n",
              "      <td>02.02.2022</td>\n",
              "      <td>22:15</td>\n",
              "      <td>BRASIL</td>\n",
              "      <td>CAMPEONATO BAIANO - RODADA 4</td>\n",
              "      <td>Vitória</td>\n",
              "      <td>Bahia</td>\n",
              "    </tr>\n",
              "    <tr>\n",
              "      <th>36</th>\n",
              "      <td>30.01.2022</td>\n",
              "      <td>21:30</td>\n",
              "      <td>BRASIL</td>\n",
              "      <td>CAMPEONATO BAIANO - RODADA 3</td>\n",
              "      <td>Juazeirense</td>\n",
              "      <td>Vitória da Conquista</td>\n",
              "    </tr>\n",
              "    <tr>\n",
              "      <th>37</th>\n",
              "      <td>30.01.2022</td>\n",
              "      <td>19:00</td>\n",
              "      <td>BRASIL</td>\n",
              "      <td>CAMPEONATO BAIANO - RODADA 4</td>\n",
              "      <td>Bahia de Feira</td>\n",
              "      <td>Atlético de Alagoinhas</td>\n",
              "    </tr>\n",
              "    <tr>\n",
              "      <th>38</th>\n",
              "      <td>29.01.2022</td>\n",
              "      <td>19:00</td>\n",
              "      <td>BRASIL</td>\n",
              "      <td>CAMPEONATO BAIANO - RODADA 3</td>\n",
              "      <td>Jacuipense</td>\n",
              "      <td>Vitória</td>\n",
              "    </tr>\n",
              "    <tr>\n",
              "      <th>39</th>\n",
              "      <td>27.01.2022</td>\n",
              "      <td>22:15</td>\n",
              "      <td>BRASIL</td>\n",
              "      <td>CAMPEONATO BAIANO - RODADA 3</td>\n",
              "      <td>Atlético de Alagoinhas</td>\n",
              "      <td>Barcelona</td>\n",
              "    </tr>\n",
              "    <tr>\n",
              "      <th>40</th>\n",
              "      <td>26.01.2022</td>\n",
              "      <td>22:15</td>\n",
              "      <td>BRASIL</td>\n",
              "      <td>CAMPEONATO BAIANO - RODADA 3</td>\n",
              "      <td>Bahia</td>\n",
              "      <td>Doce Mel</td>\n",
              "    </tr>\n",
              "    <tr>\n",
              "      <th>41</th>\n",
              "      <td>23.01.2022</td>\n",
              "      <td>19:00</td>\n",
              "      <td>BRASIL</td>\n",
              "      <td>CAMPEONATO BAIANO - RODADA 2</td>\n",
              "      <td>Barcelona</td>\n",
              "      <td>Vitória</td>\n",
              "    </tr>\n",
              "    <tr>\n",
              "      <th>42</th>\n",
              "      <td>23.01.2022</td>\n",
              "      <td>19:00</td>\n",
              "      <td>BRASIL</td>\n",
              "      <td>CAMPEONATO BAIANO - RODADA 2</td>\n",
              "      <td>Juazeirense</td>\n",
              "      <td>Jacuipense</td>\n",
              "    </tr>\n",
              "    <tr>\n",
              "      <th>43</th>\n",
              "      <td>22.01.2022</td>\n",
              "      <td>19:00</td>\n",
              "      <td>BRASIL</td>\n",
              "      <td>CAMPEONATO BAIANO - RODADA 2</td>\n",
              "      <td>Vitória da Conquista</td>\n",
              "      <td>Bahia de Feira</td>\n",
              "    </tr>\n",
              "    <tr>\n",
              "      <th>44</th>\n",
              "      <td>20.01.2022</td>\n",
              "      <td>00:30</td>\n",
              "      <td>BRASIL</td>\n",
              "      <td>CAMPEONATO BAIANO - RODADA 2</td>\n",
              "      <td>Doce Mel</td>\n",
              "      <td>Atlético de Alagoinhas</td>\n",
              "    </tr>\n",
              "    <tr>\n",
              "      <th>45</th>\n",
              "      <td>19.01.2022</td>\n",
              "      <td>22:15</td>\n",
              "      <td>BRASIL</td>\n",
              "      <td>CAMPEONATO BAIANO - RODADA 2</td>\n",
              "      <td>Bahia</td>\n",
              "      <td>Unirb</td>\n",
              "    </tr>\n",
              "    <tr>\n",
              "      <th>46</th>\n",
              "      <td>16.01.2022</td>\n",
              "      <td>21:30</td>\n",
              "      <td>BRASIL</td>\n",
              "      <td>CAMPEONATO BAIANO - RODADA 1</td>\n",
              "      <td>Unirb</td>\n",
              "      <td>Barcelona</td>\n",
              "    </tr>\n",
              "    <tr>\n",
              "      <th>47</th>\n",
              "      <td>16.01.2022</td>\n",
              "      <td>19:00</td>\n",
              "      <td>BRASIL</td>\n",
              "      <td>CAMPEONATO BAIANO - RODADA 1</td>\n",
              "      <td>Vitória</td>\n",
              "      <td>Juazeirense</td>\n",
              "    </tr>\n",
              "    <tr>\n",
              "      <th>48</th>\n",
              "      <td>15.01.2022</td>\n",
              "      <td>21:30</td>\n",
              "      <td>BRASIL</td>\n",
              "      <td>CAMPEONATO BAIANO - RODADA 1</td>\n",
              "      <td>Atlético de Alagoinhas</td>\n",
              "      <td>Vitória da Conquista</td>\n",
              "    </tr>\n",
              "    <tr>\n",
              "      <th>49</th>\n",
              "      <td>15.01.2022</td>\n",
              "      <td>19:00</td>\n",
              "      <td>BRASIL</td>\n",
              "      <td>CAMPEONATO BAIANO - RODADA 1</td>\n",
              "      <td>Bahia de Feira</td>\n",
              "      <td>Bahia</td>\n",
              "    </tr>\n",
              "    <tr>\n",
              "      <th>50</th>\n",
              "      <td>15.01.2022</td>\n",
              "      <td>19:00</td>\n",
              "      <td>BRASIL</td>\n",
              "      <td>CAMPEONATO BAIANO - RODADA 1</td>\n",
              "      <td>Jacuipense</td>\n",
              "      <td>Doce Mel</td>\n",
              "    </tr>\n",
              "  </tbody>\n",
              "</table>\n",
              "</div>\n",
              "      <button class=\"colab-df-convert\" onclick=\"convertToInteractive('df-ee07b2f0-a82a-4031-9556-3fe97c38e9a8')\"\n",
              "              title=\"Convert this dataframe to an interactive table.\"\n",
              "              style=\"display:none;\">\n",
              "        \n",
              "  <svg xmlns=\"http://www.w3.org/2000/svg\" height=\"24px\"viewBox=\"0 0 24 24\"\n",
              "       width=\"24px\">\n",
              "    <path d=\"M0 0h24v24H0V0z\" fill=\"none\"/>\n",
              "    <path d=\"M18.56 5.44l.94 2.06.94-2.06 2.06-.94-2.06-.94-.94-2.06-.94 2.06-2.06.94zm-11 1L8.5 8.5l.94-2.06 2.06-.94-2.06-.94L8.5 2.5l-.94 2.06-2.06.94zm10 10l.94 2.06.94-2.06 2.06-.94-2.06-.94-.94-2.06-.94 2.06-2.06.94z\"/><path d=\"M17.41 7.96l-1.37-1.37c-.4-.4-.92-.59-1.43-.59-.52 0-1.04.2-1.43.59L10.3 9.45l-7.72 7.72c-.78.78-.78 2.05 0 2.83L4 21.41c.39.39.9.59 1.41.59.51 0 1.02-.2 1.41-.59l7.78-7.78 2.81-2.81c.8-.78.8-2.07 0-2.86zM5.41 20L4 18.59l7.72-7.72 1.47 1.35L5.41 20z\"/>\n",
              "  </svg>\n",
              "      </button>\n",
              "      \n",
              "  <style>\n",
              "    .colab-df-container {\n",
              "      display:flex;\n",
              "      flex-wrap:wrap;\n",
              "      gap: 12px;\n",
              "    }\n",
              "\n",
              "    .colab-df-convert {\n",
              "      background-color: #E8F0FE;\n",
              "      border: none;\n",
              "      border-radius: 50%;\n",
              "      cursor: pointer;\n",
              "      display: none;\n",
              "      fill: #1967D2;\n",
              "      height: 32px;\n",
              "      padding: 0 0 0 0;\n",
              "      width: 32px;\n",
              "    }\n",
              "\n",
              "    .colab-df-convert:hover {\n",
              "      background-color: #E2EBFA;\n",
              "      box-shadow: 0px 1px 2px rgba(60, 64, 67, 0.3), 0px 1px 3px 1px rgba(60, 64, 67, 0.15);\n",
              "      fill: #174EA6;\n",
              "    }\n",
              "\n",
              "    [theme=dark] .colab-df-convert {\n",
              "      background-color: #3B4455;\n",
              "      fill: #D2E3FC;\n",
              "    }\n",
              "\n",
              "    [theme=dark] .colab-df-convert:hover {\n",
              "      background-color: #434B5C;\n",
              "      box-shadow: 0px 1px 3px 1px rgba(0, 0, 0, 0.15);\n",
              "      filter: drop-shadow(0px 1px 2px rgba(0, 0, 0, 0.3));\n",
              "      fill: #FFFFFF;\n",
              "    }\n",
              "  </style>\n",
              "\n",
              "      <script>\n",
              "        const buttonEl =\n",
              "          document.querySelector('#df-ee07b2f0-a82a-4031-9556-3fe97c38e9a8 button.colab-df-convert');\n",
              "        buttonEl.style.display =\n",
              "          google.colab.kernel.accessAllowed ? 'block' : 'none';\n",
              "\n",
              "        async function convertToInteractive(key) {\n",
              "          const element = document.querySelector('#df-ee07b2f0-a82a-4031-9556-3fe97c38e9a8');\n",
              "          const dataTable =\n",
              "            await google.colab.kernel.invokeFunction('convertToInteractive',\n",
              "                                                     [key], {});\n",
              "          if (!dataTable) return;\n",
              "\n",
              "          const docLinkHtml = 'Like what you see? Visit the ' +\n",
              "            '<a target=\"_blank\" href=https://colab.research.google.com/notebooks/data_table.ipynb>data table notebook</a>'\n",
              "            + ' to learn more about interactive tables.';\n",
              "          element.innerHTML = '';\n",
              "          dataTable['output_type'] = 'display_data';\n",
              "          await google.colab.output.renderOutput(dataTable, element);\n",
              "          const docLink = document.createElement('div');\n",
              "          docLink.innerHTML = docLinkHtml;\n",
              "          element.appendChild(docLink);\n",
              "        }\n",
              "      </script>\n",
              "    </div>\n",
              "  </div>\n",
              "  "
            ]
          },
          "metadata": {},
          "execution_count": 59
        }
      ]
    },
    {
      "cell_type": "code",
      "source": [
        "df.to_excel('campeonato_baiano_resultados_2022.xlsx')"
      ],
      "metadata": {
        "id": "ucXtr4Wd6nle"
      },
      "execution_count": null,
      "outputs": []
    },
    {
      "cell_type": "markdown",
      "source": [
        "# Campeonato Pernambucano - 2022 - Resultados (Jogos que já aconteceram)"
      ],
      "metadata": {
        "id": "Nmvrf9db60ox"
      }
    },
    {
      "cell_type": "code",
      "source": [
        "# Com o WebDrive a gente consegue a pedir a página (URL)\n",
        "wd_Chrome.get(\"https://www.flashscore.com.br/futebol/brasil/campeonato-pernambucano/resultados/\")\n",
        "\n",
        "#while True:\n",
        "#  try:\n",
        "#    botao_mais = wd_Chrome.find_element(By.XPATH, '//*[@id=\"live-table\"]/div[1]/div/div/a')\n",
        "#    wd_Chrome.execute_script('arguments[0].click();', botao_mais)\n",
        "#    time.sleep(5)\n",
        "#  except:\n",
        "#    break"
      ],
      "metadata": {
        "id": "vkt42dMy6591"
      },
      "execution_count": null,
      "outputs": []
    },
    {
      "cell_type": "code",
      "source": [
        "# Pegando o ID dos Jogos\n",
        "id_jogos = []\n",
        "jogos = wd_Chrome.find_elements(By.CSS_SELECTOR,'div.event__match--static')\n",
        "\n",
        "for i in jogos:\n",
        "    id_jogos.append(i.get_attribute(\"id\"))\n",
        "\n",
        "# Exemplo de ID de um jogo: 'g_1_Gb7buXVt'    \n",
        "id_jogos = [i[4:] for i in id_jogos]\n",
        "\n",
        "jogo = {'Date':[],'Time':[],'Country':[],'League':[],'Home':[],'Away':[]}"
      ],
      "metadata": {
        "id": "DcYdhCZE7H6e"
      },
      "execution_count": null,
      "outputs": []
    },
    {
      "cell_type": "code",
      "source": [
        "for link in tqdm(id_jogos, total=len(id_jogos)):\n",
        "    wd_Chrome.get(f'https://www.flashscore.com.br/jogo/{link}/#/resumo-de-jogo')\n",
        "    \n",
        "    # Pegando as Informacoes Básicas do Jogo\n",
        "    try:\n",
        "        Date = wd_Chrome.find_element(By.CSS_SELECTOR,'div.duelParticipant__startTime').text.split(' ')[0]\n",
        "        Time = wd_Chrome.find_element(By.CSS_SELECTOR,'div.duelParticipant__startTime').text.split(' ')[1]\n",
        "        Country = wd_Chrome.find_element(By.CSS_SELECTOR,'span.tournamentHeader__country').text.split(':')[0]\n",
        "        League = wd_Chrome.find_element(By.CSS_SELECTOR,'span.tournamentHeader__country')\n",
        "        League = League.find_element(By.CSS_SELECTOR,'a').text\n",
        "        Home = wd_Chrome.find_element(By.CSS_SELECTOR,'div.duelParticipant__home')\n",
        "        Home = Home.find_element(By.CSS_SELECTOR,'div.participant__participantName').text\n",
        "        Away = wd_Chrome.find_element(By.CSS_SELECTOR,'div.duelParticipant__away')\n",
        "        Away = Away.find_element(By.CSS_SELECTOR,'div.participant__participantName').text          \n",
        "\n",
        "    except:\n",
        "        pass\n",
        "\n",
        "    print(Date,Time,Country,League,Home,Away) \n",
        "\n",
        "    jogo['Date'].append(Date)\n",
        "    jogo['Time'].append(Time)\n",
        "    jogo['Country'].append(Country)\n",
        "    jogo['League'].append(League)\n",
        "    jogo['Home'].append(Home)\n",
        "    jogo['Away'].append(Away)"
      ],
      "metadata": {
        "colab": {
          "base_uri": "https://localhost:8080/"
        },
        "id": "c6d_hoDW7Jmn",
        "outputId": "7d053034-dbae-40b2-9b03-6f832b03ad43"
      },
      "execution_count": null,
      "outputs": [
        {
          "output_type": "stream",
          "name": "stderr",
          "text": [
            "  2%|▏         | 1/57 [00:01<01:31,  1.63s/it]"
          ]
        },
        {
          "output_type": "stream",
          "name": "stdout",
          "text": [
            "30.04.2022 19:40 BRASIL CAMPEONATO PERNAMBUCANO - PLAYOFFS - FINAL Retrô Náutico\n"
          ]
        },
        {
          "output_type": "stream",
          "name": "stderr",
          "text": [
            "\r  4%|▎         | 2/57 [00:03<01:28,  1.60s/it]"
          ]
        },
        {
          "output_type": "stream",
          "name": "stdout",
          "text": [
            "21.04.2022 19:30 BRASIL CAMPEONATO PERNAMBUCANO - PLAYOFFS - FINAL Náutico Retrô\n"
          ]
        },
        {
          "output_type": "stream",
          "name": "stderr",
          "text": [
            "\r  5%|▌         | 3/57 [00:04<01:30,  1.67s/it]"
          ]
        },
        {
          "output_type": "stream",
          "name": "stdout",
          "text": [
            "14.04.2022 00:30 BRASIL CAMPEONATO PERNAMBUCANO - PLAYOFFS - SEMIFINAIS Retrô Salgueiro\n"
          ]
        },
        {
          "output_type": "stream",
          "name": "stderr",
          "text": [
            "\r  7%|▋         | 4/57 [00:06<01:24,  1.60s/it]"
          ]
        },
        {
          "output_type": "stream",
          "name": "stdout",
          "text": [
            "06.04.2022 23:00 BRASIL CAMPEONATO PERNAMBUCANO - PLAYOFFS - QUARTAS DE FINAL Sport Salgueiro\n"
          ]
        },
        {
          "output_type": "stream",
          "name": "stderr",
          "text": [
            "\r  9%|▉         | 5/57 [00:07<01:14,  1.42s/it]"
          ]
        },
        {
          "output_type": "stream",
          "name": "stdout",
          "text": [
            "02.04.2022 19:30 BRASIL CAMPEONATO PERNAMBUCANO - PLAYOFFS - SEMIFINAIS Náutico Santa Cruz\n"
          ]
        },
        {
          "output_type": "stream",
          "name": "stderr",
          "text": [
            "\r 11%|█         | 6/57 [00:09<01:14,  1.46s/it]"
          ]
        },
        {
          "output_type": "stream",
          "name": "stdout",
          "text": [
            "27.03.2022 18:00 BRASIL CAMPEONATO PERNAMBUCANO - GRUPO DE REBAIXAMENTO - RODADA 3 Afogados da Ingazeira Ibis Sport Club\n"
          ]
        },
        {
          "output_type": "stream",
          "name": "stderr",
          "text": [
            "\r 12%|█▏        | 7/57 [00:10<01:15,  1.51s/it]"
          ]
        },
        {
          "output_type": "stream",
          "name": "stdout",
          "text": [
            "27.03.2022 18:00 BRASIL CAMPEONATO PERNAMBUCANO - GRUPO DE REBAIXAMENTO - RODADA 3 Vera Cruz Sete de Setembro\n"
          ]
        },
        {
          "output_type": "stream",
          "name": "stderr",
          "text": [
            "\r 14%|█▍        | 8/57 [00:12<01:13,  1.49s/it]"
          ]
        },
        {
          "output_type": "stream",
          "name": "stdout",
          "text": [
            "23.03.2022 18:00 BRASIL CAMPEONATO PERNAMBUCANO - GRUPO DE REBAIXAMENTO - RODADA 2 Sete de Setembro Afogados da Ingazeira\n"
          ]
        },
        {
          "output_type": "stream",
          "name": "stderr",
          "text": [
            "\r 16%|█▌        | 9/57 [00:13<01:12,  1.50s/it]"
          ]
        },
        {
          "output_type": "stream",
          "name": "stdout",
          "text": [
            "23.03.2022 18:00 BRASIL CAMPEONATO PERNAMBUCANO - GRUPO DE REBAIXAMENTO - RODADA 2 Vera Cruz Ibis Sport Club\n"
          ]
        },
        {
          "output_type": "stream",
          "name": "stderr",
          "text": [
            "\r 18%|█▊        | 10/57 [00:15<01:09,  1.47s/it]"
          ]
        },
        {
          "output_type": "stream",
          "name": "stdout",
          "text": [
            "20.03.2022 19:00 BRASIL CAMPEONATO PERNAMBUCANO - GRUPO DE REBAIXAMENTO - RODADA 1 Afogados da Ingazeira Vera Cruz\n"
          ]
        },
        {
          "output_type": "stream",
          "name": "stderr",
          "text": [
            "\r 19%|█▉        | 11/57 [00:16<01:11,  1.55s/it]"
          ]
        },
        {
          "output_type": "stream",
          "name": "stdout",
          "text": [
            "20.03.2022 18:00 BRASIL CAMPEONATO PERNAMBUCANO - GRUPO DE REBAIXAMENTO - RODADA 1 Ibis Sport Club Sete de Setembro\n"
          ]
        },
        {
          "output_type": "stream",
          "name": "stderr",
          "text": [
            "\r 21%|██        | 12/57 [00:18<01:07,  1.51s/it]"
          ]
        },
        {
          "output_type": "stream",
          "name": "stdout",
          "text": [
            "19.03.2022 19:30 BRASIL CAMPEONATO PERNAMBUCANO - PLAYOFFS - QUARTAS DE FINAL Santa Cruz Caruaru City\n"
          ]
        },
        {
          "output_type": "stream",
          "name": "stderr",
          "text": [
            "\r 23%|██▎       | 13/57 [00:19<01:06,  1.51s/it]"
          ]
        },
        {
          "output_type": "stream",
          "name": "stdout",
          "text": [
            "17.03.2022 00:00 BRASIL CAMPEONATO PERNAMBUCANO - RODADA 9 Afogados da Ingazeira Sete de Setembro\n"
          ]
        },
        {
          "output_type": "stream",
          "name": "stderr",
          "text": [
            "\r 25%|██▍       | 14/57 [00:21<01:04,  1.50s/it]"
          ]
        },
        {
          "output_type": "stream",
          "name": "stdout",
          "text": [
            "17.03.2022 00:00 BRASIL CAMPEONATO PERNAMBUCANO - RODADA 9 Caruaru City Vera Cruz\n"
          ]
        },
        {
          "output_type": "stream",
          "name": "stderr",
          "text": [
            "\r 26%|██▋       | 15/57 [00:22<01:04,  1.53s/it]"
          ]
        },
        {
          "output_type": "stream",
          "name": "stdout",
          "text": [
            "17.03.2022 00:00 BRASIL CAMPEONATO PERNAMBUCANO - RODADA 9 Ibis Sport Club Sport\n"
          ]
        },
        {
          "output_type": "stream",
          "name": "stderr",
          "text": [
            "\r 28%|██▊       | 16/57 [00:24<01:05,  1.60s/it]"
          ]
        },
        {
          "output_type": "stream",
          "name": "stdout",
          "text": [
            "17.03.2022 00:00 BRASIL CAMPEONATO PERNAMBUCANO - RODADA 9 Salgueiro Retrô\n"
          ]
        },
        {
          "output_type": "stream",
          "name": "stderr",
          "text": [
            "\r 30%|██▉       | 17/57 [00:26<01:05,  1.64s/it]"
          ]
        },
        {
          "output_type": "stream",
          "name": "stdout",
          "text": [
            "17.03.2022 00:00 BRASIL CAMPEONATO PERNAMBUCANO - RODADA 9 Santa Cruz Náutico\n"
          ]
        },
        {
          "output_type": "stream",
          "name": "stderr",
          "text": [
            "\r 32%|███▏      | 18/57 [00:27<00:57,  1.48s/it]"
          ]
        },
        {
          "output_type": "stream",
          "name": "stdout",
          "text": [
            "12.03.2022 19:30 BRASIL CAMPEONATO PERNAMBUCANO - RODADA 5 Náutico Sport\n"
          ]
        },
        {
          "output_type": "stream",
          "name": "stderr",
          "text": [
            "\r 33%|███▎      | 19/57 [00:28<00:55,  1.47s/it]"
          ]
        },
        {
          "output_type": "stream",
          "name": "stdout",
          "text": [
            "12.03.2022 18:00 BRASIL CAMPEONATO PERNAMBUCANO - RODADA 8 Vera Cruz Salgueiro\n"
          ]
        },
        {
          "output_type": "stream",
          "name": "stderr",
          "text": [
            "\r 35%|███▌      | 20/57 [00:30<00:56,  1.53s/it]"
          ]
        },
        {
          "output_type": "stream",
          "name": "stdout",
          "text": [
            "10.03.2022 00:30 BRASIL CAMPEONATO PERNAMBUCANO - RODADA 8 Náutico Caruaru City\n"
          ]
        },
        {
          "output_type": "stream",
          "name": "stderr",
          "text": [
            "\r 37%|███▋      | 21/57 [00:32<00:56,  1.56s/it]"
          ]
        },
        {
          "output_type": "stream",
          "name": "stdout",
          "text": [
            "09.03.2022 18:00 BRASIL CAMPEONATO PERNAMBUCANO - RODADA 8 Retrô Ibis Sport Club\n"
          ]
        },
        {
          "output_type": "stream",
          "name": "stderr",
          "text": [
            "\r 39%|███▊      | 22/57 [00:33<00:55,  1.59s/it]"
          ]
        },
        {
          "output_type": "stream",
          "name": "stdout",
          "text": [
            "08.03.2022 22:30 BRASIL CAMPEONATO PERNAMBUCANO - RODADA 6 Salgueiro Sport\n"
          ]
        },
        {
          "output_type": "stream",
          "name": "stderr",
          "text": [
            "\r 40%|████      | 23/57 [00:35<00:53,  1.57s/it]"
          ]
        },
        {
          "output_type": "stream",
          "name": "stdout",
          "text": [
            "05.03.2022 19:30 BRASIL CAMPEONATO PERNAMBUCANO - RODADA 6 Santa Cruz Vera Cruz\n"
          ]
        },
        {
          "output_type": "stream",
          "name": "stderr",
          "text": [
            "\r 42%|████▏     | 24/57 [00:37<00:53,  1.63s/it]"
          ]
        },
        {
          "output_type": "stream",
          "name": "stdout",
          "text": [
            "03.03.2022 23:00 BRASIL CAMPEONATO PERNAMBUCANO - RODADA 7 Sete de Setembro Caruaru City\n"
          ]
        },
        {
          "output_type": "stream",
          "name": "stderr",
          "text": [
            "\r 44%|████▍     | 25/57 [00:38<00:51,  1.60s/it]"
          ]
        },
        {
          "output_type": "stream",
          "name": "stdout",
          "text": [
            "03.03.2022 18:00 BRASIL CAMPEONATO PERNAMBUCANO - RODADA 7 Retrô Afogados da Ingazeira\n"
          ]
        },
        {
          "output_type": "stream",
          "name": "stderr",
          "text": [
            "\r 46%|████▌     | 26/57 [00:40<00:48,  1.55s/it]"
          ]
        },
        {
          "output_type": "stream",
          "name": "stdout",
          "text": [
            "02.03.2022 23:00 BRASIL CAMPEONATO PERNAMBUCANO - RODADA 7 Vera Cruz Ibis Sport Club\n"
          ]
        },
        {
          "output_type": "stream",
          "name": "stderr",
          "text": [
            "\r 47%|████▋     | 27/57 [00:41<00:46,  1.55s/it]"
          ]
        },
        {
          "output_type": "stream",
          "name": "stdout",
          "text": [
            "02.03.2022 22:00 BRASIL CAMPEONATO PERNAMBUCANO - RODADA 7 Náutico Salgueiro\n"
          ]
        },
        {
          "output_type": "stream",
          "name": "stderr",
          "text": [
            "\r 49%|████▉     | 28/57 [00:43<00:45,  1.58s/it]"
          ]
        },
        {
          "output_type": "stream",
          "name": "stdout",
          "text": [
            "27.02.2022 22:00 BRASIL CAMPEONATO PERNAMBUCANO - RODADA 6 Afogados da Ingazeira Náutico\n"
          ]
        },
        {
          "output_type": "stream",
          "name": "stderr",
          "text": [
            "\r 51%|█████     | 29/57 [00:44<00:43,  1.55s/it]"
          ]
        },
        {
          "output_type": "stream",
          "name": "stdout",
          "text": [
            "27.02.2022 18:00 BRASIL CAMPEONATO PERNAMBUCANO - RODADA 6 Ibis Sport Club Sete de Setembro\n"
          ]
        },
        {
          "output_type": "stream",
          "name": "stderr",
          "text": [
            "\r 53%|█████▎    | 30/57 [00:46<00:41,  1.55s/it]"
          ]
        },
        {
          "output_type": "stream",
          "name": "stdout",
          "text": [
            "26.02.2022 19:30 BRASIL CAMPEONATO PERNAMBUCANO - RODADA 5 Santa Cruz Retrô\n"
          ]
        },
        {
          "output_type": "stream",
          "name": "stderr",
          "text": [
            "\r 54%|█████▍    | 31/57 [00:48<00:43,  1.68s/it]"
          ]
        },
        {
          "output_type": "stream",
          "name": "stdout",
          "text": [
            "23.02.2022 23:00 BRASIL CAMPEONATO PERNAMBUCANO - RODADA 3 Afogados da Ingazeira Caruaru City\n"
          ]
        },
        {
          "output_type": "stream",
          "name": "stderr",
          "text": [
            "\r 56%|█████▌    | 32/57 [00:49<00:40,  1.62s/it]"
          ]
        },
        {
          "output_type": "stream",
          "name": "stdout",
          "text": [
            "22.02.2022 23:00 BRASIL CAMPEONATO PERNAMBUCANO - RODADA 5 Sete de Setembro Vera Cruz\n"
          ]
        },
        {
          "output_type": "stream",
          "name": "stderr",
          "text": [
            "\r 58%|█████▊    | 33/57 [00:51<00:38,  1.60s/it]"
          ]
        },
        {
          "output_type": "stream",
          "name": "stdout",
          "text": [
            "20.02.2022 19:00 BRASIL CAMPEONATO PERNAMBUCANO - RODADA 6 Caruaru City Retrô\n"
          ]
        },
        {
          "output_type": "stream",
          "name": "stderr",
          "text": [
            "\r 60%|█████▉    | 34/57 [00:52<00:33,  1.46s/it]"
          ]
        },
        {
          "output_type": "stream",
          "name": "stdout",
          "text": [
            "19.02.2022 19:30 BRASIL CAMPEONATO PERNAMBUCANO - RODADA 7 Sport Santa Cruz\n"
          ]
        },
        {
          "output_type": "stream",
          "name": "stderr",
          "text": [
            "\r 61%|██████▏   | 35/57 [00:54<00:34,  1.56s/it]"
          ]
        },
        {
          "output_type": "stream",
          "name": "stdout",
          "text": [
            "17.02.2022 22:00 BRASIL CAMPEONATO PERNAMBUCANO - RODADA 5 Afogados da Ingazeira Salgueiro\n"
          ]
        },
        {
          "output_type": "stream",
          "name": "stderr",
          "text": [
            "\r 63%|██████▎   | 36/57 [00:55<00:33,  1.61s/it]"
          ]
        },
        {
          "output_type": "stream",
          "name": "stdout",
          "text": [
            "17.02.2022 22:00 BRASIL CAMPEONATO PERNAMBUCANO - RODADA 4 Vera Cruz Náutico\n"
          ]
        },
        {
          "output_type": "stream",
          "name": "stderr",
          "text": [
            "\r 65%|██████▍   | 37/57 [00:57<00:29,  1.46s/it]"
          ]
        },
        {
          "output_type": "stream",
          "name": "stdout",
          "text": [
            "16.02.2022 23:30 BRASIL CAMPEONATO PERNAMBUCANO - RODADA 5 Caruaru City Ibis Sport Club\n"
          ]
        },
        {
          "output_type": "stream",
          "name": "stderr",
          "text": [
            "\r 67%|██████▋   | 38/57 [00:58<00:28,  1.51s/it]"
          ]
        },
        {
          "output_type": "stream",
          "name": "stdout",
          "text": [
            "16.02.2022 18:00 BRASIL CAMPEONATO PERNAMBUCANO - RODADA 4 Retrô Sete de Setembro\n"
          ]
        },
        {
          "output_type": "stream",
          "name": "stderr",
          "text": [
            "\r 68%|██████▊   | 39/57 [01:00<00:29,  1.61s/it]"
          ]
        },
        {
          "output_type": "stream",
          "name": "stdout",
          "text": [
            "13.02.2022 20:00 BRASIL CAMPEONATO PERNAMBUCANO - RODADA 8 Sport Afogados da Ingazeira\n"
          ]
        },
        {
          "output_type": "stream",
          "name": "stderr",
          "text": [
            "\r 70%|███████   | 40/57 [01:02<00:27,  1.63s/it]"
          ]
        },
        {
          "output_type": "stream",
          "name": "stdout",
          "text": [
            "12.02.2022 19:30 BRASIL CAMPEONATO PERNAMBUCANO - RODADA 8 Sete de Setembro Santa Cruz\n"
          ]
        },
        {
          "output_type": "stream",
          "name": "stderr",
          "text": [
            "\r 72%|███████▏  | 41/57 [01:03<00:25,  1.62s/it]"
          ]
        },
        {
          "output_type": "stream",
          "name": "stdout",
          "text": [
            "11.02.2022 00:30 BRASIL CAMPEONATO PERNAMBUCANO - RODADA 4 Sport Caruaru City\n"
          ]
        },
        {
          "output_type": "stream",
          "name": "stderr",
          "text": [
            "\r 74%|███████▎  | 42/57 [01:05<00:25,  1.72s/it]"
          ]
        },
        {
          "output_type": "stream",
          "name": "stdout",
          "text": [
            "10.02.2022 00:30 BRASIL CAMPEONATO PERNAMBUCANO - RODADA 3 Náutico Retrô\n"
          ]
        },
        {
          "output_type": "stream",
          "name": "stderr",
          "text": [
            " 77%|███████▋  | 44/57 [01:08<00:19,  1.48s/it]"
          ]
        },
        {
          "output_type": "stream",
          "name": "stdout",
          "text": [
            "09.02.2022 18:00 BRASIL CAMPEONATO PERNAMBUCANO - RODADA 4 Ibis Sport Club Afogados da Ingazeira\n"
          ]
        },
        {
          "output_type": "stream",
          "name": "stderr",
          "text": [
            "\r 79%|███████▉  | 45/57 [01:10<00:18,  1.57s/it]"
          ]
        },
        {
          "output_type": "stream",
          "name": "stdout",
          "text": [
            "06.02.2022 19:00 BRASIL CAMPEONATO PERNAMBUCANO - RODADA 3 Salgueiro Sete de Setembro\n"
          ]
        },
        {
          "output_type": "stream",
          "name": "stderr",
          "text": [
            "\r 81%|████████  | 46/57 [01:11<00:17,  1.57s/it]"
          ]
        },
        {
          "output_type": "stream",
          "name": "stdout",
          "text": [
            "06.02.2022 19:00 BRASIL CAMPEONATO PERNAMBUCANO - RODADA 3 Santa Cruz Ibis Sport Club\n"
          ]
        },
        {
          "output_type": "stream",
          "name": "stderr",
          "text": [
            "\r 82%|████████▏ | 47/57 [01:13<00:15,  1.55s/it]"
          ]
        },
        {
          "output_type": "stream",
          "name": "stdout",
          "text": [
            "05.02.2022 19:30 BRASIL CAMPEONATO PERNAMBUCANO - RODADA 3 Sport Vera Cruz\n"
          ]
        },
        {
          "output_type": "stream",
          "name": "stderr",
          "text": [
            "\r 84%|████████▍ | 48/57 [01:15<00:15,  1.76s/it]"
          ]
        },
        {
          "output_type": "stream",
          "name": "stdout",
          "text": [
            "03.02.2022 23:30 BRASIL CAMPEONATO PERNAMBUCANO - RODADA 1 Santa Cruz Afogados da Ingazeira\n"
          ]
        },
        {
          "output_type": "stream",
          "name": "stderr",
          "text": [
            "\r 86%|████████▌ | 49/57 [01:17<00:13,  1.74s/it]"
          ]
        },
        {
          "output_type": "stream",
          "name": "stdout",
          "text": [
            "02.02.2022 23:30 BRASIL CAMPEONATO PERNAMBUCANO - RODADA 2 Retrô Sport\n"
          ]
        },
        {
          "output_type": "stream",
          "name": "stderr",
          "text": [
            "\r 88%|████████▊ | 50/57 [01:18<00:11,  1.66s/it]"
          ]
        },
        {
          "output_type": "stream",
          "name": "stdout",
          "text": [
            "01.02.2022 22:00 BRASIL CAMPEONATO PERNAMBUCANO - RODADA 2 Sete de Setembro Náutico\n"
          ]
        },
        {
          "output_type": "stream",
          "name": "stderr",
          "text": [
            "\r 89%|████████▉ | 51/57 [01:20<00:09,  1.62s/it]"
          ]
        },
        {
          "output_type": "stream",
          "name": "stdout",
          "text": [
            "30.01.2022 18:00 BRASIL CAMPEONATO PERNAMBUCANO - RODADA 2 Ibis Sport Club Salgueiro\n"
          ]
        },
        {
          "output_type": "stream",
          "name": "stderr",
          "text": [
            "\r 91%|█████████ | 52/57 [01:21<00:08,  1.61s/it]"
          ]
        },
        {
          "output_type": "stream",
          "name": "stdout",
          "text": [
            "29.01.2022 20:00 BRASIL CAMPEONATO PERNAMBUCANO - RODADA 2 Afogados da Ingazeira Vera Cruz\n"
          ]
        },
        {
          "output_type": "stream",
          "name": "stderr",
          "text": [
            "\r 93%|█████████▎| 53/57 [01:23<00:06,  1.60s/it]"
          ]
        },
        {
          "output_type": "stream",
          "name": "stdout",
          "text": [
            "29.01.2022 19:30 BRASIL CAMPEONATO PERNAMBUCANO - RODADA 2 Caruaru City Santa Cruz\n"
          ]
        },
        {
          "output_type": "stream",
          "name": "stderr",
          "text": [
            "\r 95%|█████████▍| 54/57 [01:24<00:04,  1.56s/it]"
          ]
        },
        {
          "output_type": "stream",
          "name": "stdout",
          "text": [
            "26.01.2022 23:30 BRASIL CAMPEONATO PERNAMBUCANO - RODADA 1 Sport Sete de Setembro\n"
          ]
        },
        {
          "output_type": "stream",
          "name": "stderr",
          "text": [
            "\r 96%|█████████▋| 55/57 [01:26<00:03,  1.56s/it]"
          ]
        },
        {
          "output_type": "stream",
          "name": "stdout",
          "text": [
            "23.01.2022 19:00 BRASIL CAMPEONATO PERNAMBUCANO - RODADA 1 Salgueiro Caruaru City\n"
          ]
        },
        {
          "output_type": "stream",
          "name": "stderr",
          "text": [
            "\r 98%|█████████▊| 56/57 [01:28<00:01,  1.68s/it]"
          ]
        },
        {
          "output_type": "stream",
          "name": "stdout",
          "text": [
            "23.01.2022 18:00 BRASIL CAMPEONATO PERNAMBUCANO - RODADA 1 Vera Cruz Retrô\n"
          ]
        },
        {
          "output_type": "stream",
          "name": "stderr",
          "text": [
            "100%|██████████| 57/57 [01:30<00:00,  1.59s/it]"
          ]
        },
        {
          "output_type": "stream",
          "name": "stdout",
          "text": [
            "22.01.2022 19:30 BRASIL CAMPEONATO PERNAMBUCANO - RODADA 1 Náutico Ibis Sport Club\n"
          ]
        },
        {
          "output_type": "stream",
          "name": "stderr",
          "text": [
            "\n"
          ]
        }
      ]
    },
    {
      "cell_type": "code",
      "source": [
        "df = pd.DataFrame(jogo)\n",
        "df"
      ],
      "metadata": {
        "colab": {
          "base_uri": "https://localhost:8080/",
          "height": 1000
        },
        "id": "vGkQ1HDc7Ljf",
        "outputId": "ba02bb31-00e2-4c35-9f75-479f927ed7bf"
      },
      "execution_count": null,
      "outputs": [
        {
          "output_type": "execute_result",
          "data": {
            "text/plain": [
              "          Date   Time Country  \\\n",
              "0   30.04.2022  19:40  BRASIL   \n",
              "1   21.04.2022  19:30  BRASIL   \n",
              "2   14.04.2022  00:30  BRASIL   \n",
              "3   06.04.2022  23:00  BRASIL   \n",
              "4   02.04.2022  19:30  BRASIL   \n",
              "5   27.03.2022  18:00  BRASIL   \n",
              "6   27.03.2022  18:00  BRASIL   \n",
              "7   23.03.2022  18:00  BRASIL   \n",
              "8   23.03.2022  18:00  BRASIL   \n",
              "9   20.03.2022  19:00  BRASIL   \n",
              "10  20.03.2022  18:00  BRASIL   \n",
              "11  19.03.2022  19:30  BRASIL   \n",
              "12  17.03.2022  00:00  BRASIL   \n",
              "13  17.03.2022  00:00  BRASIL   \n",
              "14  17.03.2022  00:00  BRASIL   \n",
              "15  17.03.2022  00:00  BRASIL   \n",
              "16  17.03.2022  00:00  BRASIL   \n",
              "17  12.03.2022  19:30  BRASIL   \n",
              "18  12.03.2022  18:00  BRASIL   \n",
              "19  10.03.2022  00:30  BRASIL   \n",
              "20  09.03.2022  18:00  BRASIL   \n",
              "21  08.03.2022  22:30  BRASIL   \n",
              "22  05.03.2022  19:30  BRASIL   \n",
              "23  03.03.2022  23:00  BRASIL   \n",
              "24  03.03.2022  18:00  BRASIL   \n",
              "25  02.03.2022  23:00  BRASIL   \n",
              "26  02.03.2022  22:00  BRASIL   \n",
              "27  27.02.2022  22:00  BRASIL   \n",
              "28  27.02.2022  18:00  BRASIL   \n",
              "29  26.02.2022  19:30  BRASIL   \n",
              "30  23.02.2022  23:00  BRASIL   \n",
              "31  22.02.2022  23:00  BRASIL   \n",
              "32  20.02.2022  19:00  BRASIL   \n",
              "33  19.02.2022  19:30  BRASIL   \n",
              "34  17.02.2022  22:00  BRASIL   \n",
              "35  17.02.2022  22:00  BRASIL   \n",
              "36  16.02.2022  23:30  BRASIL   \n",
              "37  16.02.2022  18:00  BRASIL   \n",
              "38  13.02.2022  20:00  BRASIL   \n",
              "39  12.02.2022  19:30  BRASIL   \n",
              "40  11.02.2022  00:30  BRASIL   \n",
              "41  10.02.2022  00:30  BRASIL   \n",
              "42  09.02.2022  23:30  BRASIL   \n",
              "43  09.02.2022  18:00  BRASIL   \n",
              "44  06.02.2022  19:00  BRASIL   \n",
              "45  06.02.2022  19:00  BRASIL   \n",
              "46  05.02.2022  19:30  BRASIL   \n",
              "47  03.02.2022  23:30  BRASIL   \n",
              "48  02.02.2022  23:30  BRASIL   \n",
              "49  01.02.2022  22:00  BRASIL   \n",
              "50  30.01.2022  18:00  BRASIL   \n",
              "51  29.01.2022  20:00  BRASIL   \n",
              "52  29.01.2022  19:30  BRASIL   \n",
              "53  26.01.2022  23:30  BRASIL   \n",
              "54  23.01.2022  19:00  BRASIL   \n",
              "55  23.01.2022  18:00  BRASIL   \n",
              "56  22.01.2022  19:30  BRASIL   \n",
              "\n",
              "                                               League                   Home  \\\n",
              "0          CAMPEONATO PERNAMBUCANO - PLAYOFFS - FINAL                  Retrô   \n",
              "1          CAMPEONATO PERNAMBUCANO - PLAYOFFS - FINAL                Náutico   \n",
              "2     CAMPEONATO PERNAMBUCANO - PLAYOFFS - SEMIFINAIS                  Retrô   \n",
              "3   CAMPEONATO PERNAMBUCANO - PLAYOFFS - QUARTAS D...                  Sport   \n",
              "4     CAMPEONATO PERNAMBUCANO - PLAYOFFS - SEMIFINAIS                Náutico   \n",
              "5   CAMPEONATO PERNAMBUCANO - GRUPO DE REBAIXAMENT...  Afogados da Ingazeira   \n",
              "6   CAMPEONATO PERNAMBUCANO - GRUPO DE REBAIXAMENT...              Vera Cruz   \n",
              "7   CAMPEONATO PERNAMBUCANO - GRUPO DE REBAIXAMENT...       Sete de Setembro   \n",
              "8   CAMPEONATO PERNAMBUCANO - GRUPO DE REBAIXAMENT...              Vera Cruz   \n",
              "9   CAMPEONATO PERNAMBUCANO - GRUPO DE REBAIXAMENT...  Afogados da Ingazeira   \n",
              "10  CAMPEONATO PERNAMBUCANO - GRUPO DE REBAIXAMENT...        Ibis Sport Club   \n",
              "11  CAMPEONATO PERNAMBUCANO - PLAYOFFS - QUARTAS D...             Santa Cruz   \n",
              "12                 CAMPEONATO PERNAMBUCANO - RODADA 9  Afogados da Ingazeira   \n",
              "13                 CAMPEONATO PERNAMBUCANO - RODADA 9           Caruaru City   \n",
              "14                 CAMPEONATO PERNAMBUCANO - RODADA 9        Ibis Sport Club   \n",
              "15                 CAMPEONATO PERNAMBUCANO - RODADA 9              Salgueiro   \n",
              "16                 CAMPEONATO PERNAMBUCANO - RODADA 9             Santa Cruz   \n",
              "17                 CAMPEONATO PERNAMBUCANO - RODADA 5                Náutico   \n",
              "18                 CAMPEONATO PERNAMBUCANO - RODADA 8              Vera Cruz   \n",
              "19                 CAMPEONATO PERNAMBUCANO - RODADA 8                Náutico   \n",
              "20                 CAMPEONATO PERNAMBUCANO - RODADA 8                  Retrô   \n",
              "21                 CAMPEONATO PERNAMBUCANO - RODADA 6              Salgueiro   \n",
              "22                 CAMPEONATO PERNAMBUCANO - RODADA 6             Santa Cruz   \n",
              "23                 CAMPEONATO PERNAMBUCANO - RODADA 7       Sete de Setembro   \n",
              "24                 CAMPEONATO PERNAMBUCANO - RODADA 7                  Retrô   \n",
              "25                 CAMPEONATO PERNAMBUCANO - RODADA 7              Vera Cruz   \n",
              "26                 CAMPEONATO PERNAMBUCANO - RODADA 7                Náutico   \n",
              "27                 CAMPEONATO PERNAMBUCANO - RODADA 6  Afogados da Ingazeira   \n",
              "28                 CAMPEONATO PERNAMBUCANO - RODADA 6        Ibis Sport Club   \n",
              "29                 CAMPEONATO PERNAMBUCANO - RODADA 5             Santa Cruz   \n",
              "30                 CAMPEONATO PERNAMBUCANO - RODADA 3  Afogados da Ingazeira   \n",
              "31                 CAMPEONATO PERNAMBUCANO - RODADA 5       Sete de Setembro   \n",
              "32                 CAMPEONATO PERNAMBUCANO - RODADA 6           Caruaru City   \n",
              "33                 CAMPEONATO PERNAMBUCANO - RODADA 7                  Sport   \n",
              "34                 CAMPEONATO PERNAMBUCANO - RODADA 5  Afogados da Ingazeira   \n",
              "35                 CAMPEONATO PERNAMBUCANO - RODADA 4              Vera Cruz   \n",
              "36                 CAMPEONATO PERNAMBUCANO - RODADA 5           Caruaru City   \n",
              "37                 CAMPEONATO PERNAMBUCANO - RODADA 4                  Retrô   \n",
              "38                 CAMPEONATO PERNAMBUCANO - RODADA 8                  Sport   \n",
              "39                 CAMPEONATO PERNAMBUCANO - RODADA 8       Sete de Setembro   \n",
              "40                 CAMPEONATO PERNAMBUCANO - RODADA 4                  Sport   \n",
              "41                 CAMPEONATO PERNAMBUCANO - RODADA 3                Náutico   \n",
              "42                 CAMPEONATO PERNAMBUCANO - RODADA 4              Salgueiro   \n",
              "43                 CAMPEONATO PERNAMBUCANO - RODADA 4        Ibis Sport Club   \n",
              "44                 CAMPEONATO PERNAMBUCANO - RODADA 3              Salgueiro   \n",
              "45                 CAMPEONATO PERNAMBUCANO - RODADA 3             Santa Cruz   \n",
              "46                 CAMPEONATO PERNAMBUCANO - RODADA 3                  Sport   \n",
              "47                 CAMPEONATO PERNAMBUCANO - RODADA 1             Santa Cruz   \n",
              "48                 CAMPEONATO PERNAMBUCANO - RODADA 2                  Retrô   \n",
              "49                 CAMPEONATO PERNAMBUCANO - RODADA 2       Sete de Setembro   \n",
              "50                 CAMPEONATO PERNAMBUCANO - RODADA 2        Ibis Sport Club   \n",
              "51                 CAMPEONATO PERNAMBUCANO - RODADA 2  Afogados da Ingazeira   \n",
              "52                 CAMPEONATO PERNAMBUCANO - RODADA 2           Caruaru City   \n",
              "53                 CAMPEONATO PERNAMBUCANO - RODADA 1                  Sport   \n",
              "54                 CAMPEONATO PERNAMBUCANO - RODADA 1              Salgueiro   \n",
              "55                 CAMPEONATO PERNAMBUCANO - RODADA 1              Vera Cruz   \n",
              "56                 CAMPEONATO PERNAMBUCANO - RODADA 1                Náutico   \n",
              "\n",
              "                     Away  \n",
              "0                 Náutico  \n",
              "1                   Retrô  \n",
              "2               Salgueiro  \n",
              "3               Salgueiro  \n",
              "4              Santa Cruz  \n",
              "5         Ibis Sport Club  \n",
              "6        Sete de Setembro  \n",
              "7   Afogados da Ingazeira  \n",
              "8         Ibis Sport Club  \n",
              "9               Vera Cruz  \n",
              "10       Sete de Setembro  \n",
              "11           Caruaru City  \n",
              "12       Sete de Setembro  \n",
              "13              Vera Cruz  \n",
              "14                  Sport  \n",
              "15                  Retrô  \n",
              "16                Náutico  \n",
              "17                  Sport  \n",
              "18              Salgueiro  \n",
              "19           Caruaru City  \n",
              "20        Ibis Sport Club  \n",
              "21                  Sport  \n",
              "22              Vera Cruz  \n",
              "23           Caruaru City  \n",
              "24  Afogados da Ingazeira  \n",
              "25        Ibis Sport Club  \n",
              "26              Salgueiro  \n",
              "27                Náutico  \n",
              "28       Sete de Setembro  \n",
              "29                  Retrô  \n",
              "30           Caruaru City  \n",
              "31              Vera Cruz  \n",
              "32                  Retrô  \n",
              "33             Santa Cruz  \n",
              "34              Salgueiro  \n",
              "35                Náutico  \n",
              "36        Ibis Sport Club  \n",
              "37       Sete de Setembro  \n",
              "38  Afogados da Ingazeira  \n",
              "39             Santa Cruz  \n",
              "40           Caruaru City  \n",
              "41                  Retrô  \n",
              "42             Santa Cruz  \n",
              "43  Afogados da Ingazeira  \n",
              "44       Sete de Setembro  \n",
              "45        Ibis Sport Club  \n",
              "46              Vera Cruz  \n",
              "47  Afogados da Ingazeira  \n",
              "48                  Sport  \n",
              "49                Náutico  \n",
              "50              Salgueiro  \n",
              "51              Vera Cruz  \n",
              "52             Santa Cruz  \n",
              "53       Sete de Setembro  \n",
              "54           Caruaru City  \n",
              "55                  Retrô  \n",
              "56        Ibis Sport Club  "
            ],
            "text/html": [
              "\n",
              "  <div id=\"df-e51c3a73-4c87-461d-9799-0862eec762e6\">\n",
              "    <div class=\"colab-df-container\">\n",
              "      <div>\n",
              "<style scoped>\n",
              "    .dataframe tbody tr th:only-of-type {\n",
              "        vertical-align: middle;\n",
              "    }\n",
              "\n",
              "    .dataframe tbody tr th {\n",
              "        vertical-align: top;\n",
              "    }\n",
              "\n",
              "    .dataframe thead th {\n",
              "        text-align: right;\n",
              "    }\n",
              "</style>\n",
              "<table border=\"1\" class=\"dataframe\">\n",
              "  <thead>\n",
              "    <tr style=\"text-align: right;\">\n",
              "      <th></th>\n",
              "      <th>Date</th>\n",
              "      <th>Time</th>\n",
              "      <th>Country</th>\n",
              "      <th>League</th>\n",
              "      <th>Home</th>\n",
              "      <th>Away</th>\n",
              "    </tr>\n",
              "  </thead>\n",
              "  <tbody>\n",
              "    <tr>\n",
              "      <th>0</th>\n",
              "      <td>30.04.2022</td>\n",
              "      <td>19:40</td>\n",
              "      <td>BRASIL</td>\n",
              "      <td>CAMPEONATO PERNAMBUCANO - PLAYOFFS - FINAL</td>\n",
              "      <td>Retrô</td>\n",
              "      <td>Náutico</td>\n",
              "    </tr>\n",
              "    <tr>\n",
              "      <th>1</th>\n",
              "      <td>21.04.2022</td>\n",
              "      <td>19:30</td>\n",
              "      <td>BRASIL</td>\n",
              "      <td>CAMPEONATO PERNAMBUCANO - PLAYOFFS - FINAL</td>\n",
              "      <td>Náutico</td>\n",
              "      <td>Retrô</td>\n",
              "    </tr>\n",
              "    <tr>\n",
              "      <th>2</th>\n",
              "      <td>14.04.2022</td>\n",
              "      <td>00:30</td>\n",
              "      <td>BRASIL</td>\n",
              "      <td>CAMPEONATO PERNAMBUCANO - PLAYOFFS - SEMIFINAIS</td>\n",
              "      <td>Retrô</td>\n",
              "      <td>Salgueiro</td>\n",
              "    </tr>\n",
              "    <tr>\n",
              "      <th>3</th>\n",
              "      <td>06.04.2022</td>\n",
              "      <td>23:00</td>\n",
              "      <td>BRASIL</td>\n",
              "      <td>CAMPEONATO PERNAMBUCANO - PLAYOFFS - QUARTAS D...</td>\n",
              "      <td>Sport</td>\n",
              "      <td>Salgueiro</td>\n",
              "    </tr>\n",
              "    <tr>\n",
              "      <th>4</th>\n",
              "      <td>02.04.2022</td>\n",
              "      <td>19:30</td>\n",
              "      <td>BRASIL</td>\n",
              "      <td>CAMPEONATO PERNAMBUCANO - PLAYOFFS - SEMIFINAIS</td>\n",
              "      <td>Náutico</td>\n",
              "      <td>Santa Cruz</td>\n",
              "    </tr>\n",
              "    <tr>\n",
              "      <th>5</th>\n",
              "      <td>27.03.2022</td>\n",
              "      <td>18:00</td>\n",
              "      <td>BRASIL</td>\n",
              "      <td>CAMPEONATO PERNAMBUCANO - GRUPO DE REBAIXAMENT...</td>\n",
              "      <td>Afogados da Ingazeira</td>\n",
              "      <td>Ibis Sport Club</td>\n",
              "    </tr>\n",
              "    <tr>\n",
              "      <th>6</th>\n",
              "      <td>27.03.2022</td>\n",
              "      <td>18:00</td>\n",
              "      <td>BRASIL</td>\n",
              "      <td>CAMPEONATO PERNAMBUCANO - GRUPO DE REBAIXAMENT...</td>\n",
              "      <td>Vera Cruz</td>\n",
              "      <td>Sete de Setembro</td>\n",
              "    </tr>\n",
              "    <tr>\n",
              "      <th>7</th>\n",
              "      <td>23.03.2022</td>\n",
              "      <td>18:00</td>\n",
              "      <td>BRASIL</td>\n",
              "      <td>CAMPEONATO PERNAMBUCANO - GRUPO DE REBAIXAMENT...</td>\n",
              "      <td>Sete de Setembro</td>\n",
              "      <td>Afogados da Ingazeira</td>\n",
              "    </tr>\n",
              "    <tr>\n",
              "      <th>8</th>\n",
              "      <td>23.03.2022</td>\n",
              "      <td>18:00</td>\n",
              "      <td>BRASIL</td>\n",
              "      <td>CAMPEONATO PERNAMBUCANO - GRUPO DE REBAIXAMENT...</td>\n",
              "      <td>Vera Cruz</td>\n",
              "      <td>Ibis Sport Club</td>\n",
              "    </tr>\n",
              "    <tr>\n",
              "      <th>9</th>\n",
              "      <td>20.03.2022</td>\n",
              "      <td>19:00</td>\n",
              "      <td>BRASIL</td>\n",
              "      <td>CAMPEONATO PERNAMBUCANO - GRUPO DE REBAIXAMENT...</td>\n",
              "      <td>Afogados da Ingazeira</td>\n",
              "      <td>Vera Cruz</td>\n",
              "    </tr>\n",
              "    <tr>\n",
              "      <th>10</th>\n",
              "      <td>20.03.2022</td>\n",
              "      <td>18:00</td>\n",
              "      <td>BRASIL</td>\n",
              "      <td>CAMPEONATO PERNAMBUCANO - GRUPO DE REBAIXAMENT...</td>\n",
              "      <td>Ibis Sport Club</td>\n",
              "      <td>Sete de Setembro</td>\n",
              "    </tr>\n",
              "    <tr>\n",
              "      <th>11</th>\n",
              "      <td>19.03.2022</td>\n",
              "      <td>19:30</td>\n",
              "      <td>BRASIL</td>\n",
              "      <td>CAMPEONATO PERNAMBUCANO - PLAYOFFS - QUARTAS D...</td>\n",
              "      <td>Santa Cruz</td>\n",
              "      <td>Caruaru City</td>\n",
              "    </tr>\n",
              "    <tr>\n",
              "      <th>12</th>\n",
              "      <td>17.03.2022</td>\n",
              "      <td>00:00</td>\n",
              "      <td>BRASIL</td>\n",
              "      <td>CAMPEONATO PERNAMBUCANO - RODADA 9</td>\n",
              "      <td>Afogados da Ingazeira</td>\n",
              "      <td>Sete de Setembro</td>\n",
              "    </tr>\n",
              "    <tr>\n",
              "      <th>13</th>\n",
              "      <td>17.03.2022</td>\n",
              "      <td>00:00</td>\n",
              "      <td>BRASIL</td>\n",
              "      <td>CAMPEONATO PERNAMBUCANO - RODADA 9</td>\n",
              "      <td>Caruaru City</td>\n",
              "      <td>Vera Cruz</td>\n",
              "    </tr>\n",
              "    <tr>\n",
              "      <th>14</th>\n",
              "      <td>17.03.2022</td>\n",
              "      <td>00:00</td>\n",
              "      <td>BRASIL</td>\n",
              "      <td>CAMPEONATO PERNAMBUCANO - RODADA 9</td>\n",
              "      <td>Ibis Sport Club</td>\n",
              "      <td>Sport</td>\n",
              "    </tr>\n",
              "    <tr>\n",
              "      <th>15</th>\n",
              "      <td>17.03.2022</td>\n",
              "      <td>00:00</td>\n",
              "      <td>BRASIL</td>\n",
              "      <td>CAMPEONATO PERNAMBUCANO - RODADA 9</td>\n",
              "      <td>Salgueiro</td>\n",
              "      <td>Retrô</td>\n",
              "    </tr>\n",
              "    <tr>\n",
              "      <th>16</th>\n",
              "      <td>17.03.2022</td>\n",
              "      <td>00:00</td>\n",
              "      <td>BRASIL</td>\n",
              "      <td>CAMPEONATO PERNAMBUCANO - RODADA 9</td>\n",
              "      <td>Santa Cruz</td>\n",
              "      <td>Náutico</td>\n",
              "    </tr>\n",
              "    <tr>\n",
              "      <th>17</th>\n",
              "      <td>12.03.2022</td>\n",
              "      <td>19:30</td>\n",
              "      <td>BRASIL</td>\n",
              "      <td>CAMPEONATO PERNAMBUCANO - RODADA 5</td>\n",
              "      <td>Náutico</td>\n",
              "      <td>Sport</td>\n",
              "    </tr>\n",
              "    <tr>\n",
              "      <th>18</th>\n",
              "      <td>12.03.2022</td>\n",
              "      <td>18:00</td>\n",
              "      <td>BRASIL</td>\n",
              "      <td>CAMPEONATO PERNAMBUCANO - RODADA 8</td>\n",
              "      <td>Vera Cruz</td>\n",
              "      <td>Salgueiro</td>\n",
              "    </tr>\n",
              "    <tr>\n",
              "      <th>19</th>\n",
              "      <td>10.03.2022</td>\n",
              "      <td>00:30</td>\n",
              "      <td>BRASIL</td>\n",
              "      <td>CAMPEONATO PERNAMBUCANO - RODADA 8</td>\n",
              "      <td>Náutico</td>\n",
              "      <td>Caruaru City</td>\n",
              "    </tr>\n",
              "    <tr>\n",
              "      <th>20</th>\n",
              "      <td>09.03.2022</td>\n",
              "      <td>18:00</td>\n",
              "      <td>BRASIL</td>\n",
              "      <td>CAMPEONATO PERNAMBUCANO - RODADA 8</td>\n",
              "      <td>Retrô</td>\n",
              "      <td>Ibis Sport Club</td>\n",
              "    </tr>\n",
              "    <tr>\n",
              "      <th>21</th>\n",
              "      <td>08.03.2022</td>\n",
              "      <td>22:30</td>\n",
              "      <td>BRASIL</td>\n",
              "      <td>CAMPEONATO PERNAMBUCANO - RODADA 6</td>\n",
              "      <td>Salgueiro</td>\n",
              "      <td>Sport</td>\n",
              "    </tr>\n",
              "    <tr>\n",
              "      <th>22</th>\n",
              "      <td>05.03.2022</td>\n",
              "      <td>19:30</td>\n",
              "      <td>BRASIL</td>\n",
              "      <td>CAMPEONATO PERNAMBUCANO - RODADA 6</td>\n",
              "      <td>Santa Cruz</td>\n",
              "      <td>Vera Cruz</td>\n",
              "    </tr>\n",
              "    <tr>\n",
              "      <th>23</th>\n",
              "      <td>03.03.2022</td>\n",
              "      <td>23:00</td>\n",
              "      <td>BRASIL</td>\n",
              "      <td>CAMPEONATO PERNAMBUCANO - RODADA 7</td>\n",
              "      <td>Sete de Setembro</td>\n",
              "      <td>Caruaru City</td>\n",
              "    </tr>\n",
              "    <tr>\n",
              "      <th>24</th>\n",
              "      <td>03.03.2022</td>\n",
              "      <td>18:00</td>\n",
              "      <td>BRASIL</td>\n",
              "      <td>CAMPEONATO PERNAMBUCANO - RODADA 7</td>\n",
              "      <td>Retrô</td>\n",
              "      <td>Afogados da Ingazeira</td>\n",
              "    </tr>\n",
              "    <tr>\n",
              "      <th>25</th>\n",
              "      <td>02.03.2022</td>\n",
              "      <td>23:00</td>\n",
              "      <td>BRASIL</td>\n",
              "      <td>CAMPEONATO PERNAMBUCANO - RODADA 7</td>\n",
              "      <td>Vera Cruz</td>\n",
              "      <td>Ibis Sport Club</td>\n",
              "    </tr>\n",
              "    <tr>\n",
              "      <th>26</th>\n",
              "      <td>02.03.2022</td>\n",
              "      <td>22:00</td>\n",
              "      <td>BRASIL</td>\n",
              "      <td>CAMPEONATO PERNAMBUCANO - RODADA 7</td>\n",
              "      <td>Náutico</td>\n",
              "      <td>Salgueiro</td>\n",
              "    </tr>\n",
              "    <tr>\n",
              "      <th>27</th>\n",
              "      <td>27.02.2022</td>\n",
              "      <td>22:00</td>\n",
              "      <td>BRASIL</td>\n",
              "      <td>CAMPEONATO PERNAMBUCANO - RODADA 6</td>\n",
              "      <td>Afogados da Ingazeira</td>\n",
              "      <td>Náutico</td>\n",
              "    </tr>\n",
              "    <tr>\n",
              "      <th>28</th>\n",
              "      <td>27.02.2022</td>\n",
              "      <td>18:00</td>\n",
              "      <td>BRASIL</td>\n",
              "      <td>CAMPEONATO PERNAMBUCANO - RODADA 6</td>\n",
              "      <td>Ibis Sport Club</td>\n",
              "      <td>Sete de Setembro</td>\n",
              "    </tr>\n",
              "    <tr>\n",
              "      <th>29</th>\n",
              "      <td>26.02.2022</td>\n",
              "      <td>19:30</td>\n",
              "      <td>BRASIL</td>\n",
              "      <td>CAMPEONATO PERNAMBUCANO - RODADA 5</td>\n",
              "      <td>Santa Cruz</td>\n",
              "      <td>Retrô</td>\n",
              "    </tr>\n",
              "    <tr>\n",
              "      <th>30</th>\n",
              "      <td>23.02.2022</td>\n",
              "      <td>23:00</td>\n",
              "      <td>BRASIL</td>\n",
              "      <td>CAMPEONATO PERNAMBUCANO - RODADA 3</td>\n",
              "      <td>Afogados da Ingazeira</td>\n",
              "      <td>Caruaru City</td>\n",
              "    </tr>\n",
              "    <tr>\n",
              "      <th>31</th>\n",
              "      <td>22.02.2022</td>\n",
              "      <td>23:00</td>\n",
              "      <td>BRASIL</td>\n",
              "      <td>CAMPEONATO PERNAMBUCANO - RODADA 5</td>\n",
              "      <td>Sete de Setembro</td>\n",
              "      <td>Vera Cruz</td>\n",
              "    </tr>\n",
              "    <tr>\n",
              "      <th>32</th>\n",
              "      <td>20.02.2022</td>\n",
              "      <td>19:00</td>\n",
              "      <td>BRASIL</td>\n",
              "      <td>CAMPEONATO PERNAMBUCANO - RODADA 6</td>\n",
              "      <td>Caruaru City</td>\n",
              "      <td>Retrô</td>\n",
              "    </tr>\n",
              "    <tr>\n",
              "      <th>33</th>\n",
              "      <td>19.02.2022</td>\n",
              "      <td>19:30</td>\n",
              "      <td>BRASIL</td>\n",
              "      <td>CAMPEONATO PERNAMBUCANO - RODADA 7</td>\n",
              "      <td>Sport</td>\n",
              "      <td>Santa Cruz</td>\n",
              "    </tr>\n",
              "    <tr>\n",
              "      <th>34</th>\n",
              "      <td>17.02.2022</td>\n",
              "      <td>22:00</td>\n",
              "      <td>BRASIL</td>\n",
              "      <td>CAMPEONATO PERNAMBUCANO - RODADA 5</td>\n",
              "      <td>Afogados da Ingazeira</td>\n",
              "      <td>Salgueiro</td>\n",
              "    </tr>\n",
              "    <tr>\n",
              "      <th>35</th>\n",
              "      <td>17.02.2022</td>\n",
              "      <td>22:00</td>\n",
              "      <td>BRASIL</td>\n",
              "      <td>CAMPEONATO PERNAMBUCANO - RODADA 4</td>\n",
              "      <td>Vera Cruz</td>\n",
              "      <td>Náutico</td>\n",
              "    </tr>\n",
              "    <tr>\n",
              "      <th>36</th>\n",
              "      <td>16.02.2022</td>\n",
              "      <td>23:30</td>\n",
              "      <td>BRASIL</td>\n",
              "      <td>CAMPEONATO PERNAMBUCANO - RODADA 5</td>\n",
              "      <td>Caruaru City</td>\n",
              "      <td>Ibis Sport Club</td>\n",
              "    </tr>\n",
              "    <tr>\n",
              "      <th>37</th>\n",
              "      <td>16.02.2022</td>\n",
              "      <td>18:00</td>\n",
              "      <td>BRASIL</td>\n",
              "      <td>CAMPEONATO PERNAMBUCANO - RODADA 4</td>\n",
              "      <td>Retrô</td>\n",
              "      <td>Sete de Setembro</td>\n",
              "    </tr>\n",
              "    <tr>\n",
              "      <th>38</th>\n",
              "      <td>13.02.2022</td>\n",
              "      <td>20:00</td>\n",
              "      <td>BRASIL</td>\n",
              "      <td>CAMPEONATO PERNAMBUCANO - RODADA 8</td>\n",
              "      <td>Sport</td>\n",
              "      <td>Afogados da Ingazeira</td>\n",
              "    </tr>\n",
              "    <tr>\n",
              "      <th>39</th>\n",
              "      <td>12.02.2022</td>\n",
              "      <td>19:30</td>\n",
              "      <td>BRASIL</td>\n",
              "      <td>CAMPEONATO PERNAMBUCANO - RODADA 8</td>\n",
              "      <td>Sete de Setembro</td>\n",
              "      <td>Santa Cruz</td>\n",
              "    </tr>\n",
              "    <tr>\n",
              "      <th>40</th>\n",
              "      <td>11.02.2022</td>\n",
              "      <td>00:30</td>\n",
              "      <td>BRASIL</td>\n",
              "      <td>CAMPEONATO PERNAMBUCANO - RODADA 4</td>\n",
              "      <td>Sport</td>\n",
              "      <td>Caruaru City</td>\n",
              "    </tr>\n",
              "    <tr>\n",
              "      <th>41</th>\n",
              "      <td>10.02.2022</td>\n",
              "      <td>00:30</td>\n",
              "      <td>BRASIL</td>\n",
              "      <td>CAMPEONATO PERNAMBUCANO - RODADA 3</td>\n",
              "      <td>Náutico</td>\n",
              "      <td>Retrô</td>\n",
              "    </tr>\n",
              "    <tr>\n",
              "      <th>42</th>\n",
              "      <td>09.02.2022</td>\n",
              "      <td>23:30</td>\n",
              "      <td>BRASIL</td>\n",
              "      <td>CAMPEONATO PERNAMBUCANO - RODADA 4</td>\n",
              "      <td>Salgueiro</td>\n",
              "      <td>Santa Cruz</td>\n",
              "    </tr>\n",
              "    <tr>\n",
              "      <th>43</th>\n",
              "      <td>09.02.2022</td>\n",
              "      <td>18:00</td>\n",
              "      <td>BRASIL</td>\n",
              "      <td>CAMPEONATO PERNAMBUCANO - RODADA 4</td>\n",
              "      <td>Ibis Sport Club</td>\n",
              "      <td>Afogados da Ingazeira</td>\n",
              "    </tr>\n",
              "    <tr>\n",
              "      <th>44</th>\n",
              "      <td>06.02.2022</td>\n",
              "      <td>19:00</td>\n",
              "      <td>BRASIL</td>\n",
              "      <td>CAMPEONATO PERNAMBUCANO - RODADA 3</td>\n",
              "      <td>Salgueiro</td>\n",
              "      <td>Sete de Setembro</td>\n",
              "    </tr>\n",
              "    <tr>\n",
              "      <th>45</th>\n",
              "      <td>06.02.2022</td>\n",
              "      <td>19:00</td>\n",
              "      <td>BRASIL</td>\n",
              "      <td>CAMPEONATO PERNAMBUCANO - RODADA 3</td>\n",
              "      <td>Santa Cruz</td>\n",
              "      <td>Ibis Sport Club</td>\n",
              "    </tr>\n",
              "    <tr>\n",
              "      <th>46</th>\n",
              "      <td>05.02.2022</td>\n",
              "      <td>19:30</td>\n",
              "      <td>BRASIL</td>\n",
              "      <td>CAMPEONATO PERNAMBUCANO - RODADA 3</td>\n",
              "      <td>Sport</td>\n",
              "      <td>Vera Cruz</td>\n",
              "    </tr>\n",
              "    <tr>\n",
              "      <th>47</th>\n",
              "      <td>03.02.2022</td>\n",
              "      <td>23:30</td>\n",
              "      <td>BRASIL</td>\n",
              "      <td>CAMPEONATO PERNAMBUCANO - RODADA 1</td>\n",
              "      <td>Santa Cruz</td>\n",
              "      <td>Afogados da Ingazeira</td>\n",
              "    </tr>\n",
              "    <tr>\n",
              "      <th>48</th>\n",
              "      <td>02.02.2022</td>\n",
              "      <td>23:30</td>\n",
              "      <td>BRASIL</td>\n",
              "      <td>CAMPEONATO PERNAMBUCANO - RODADA 2</td>\n",
              "      <td>Retrô</td>\n",
              "      <td>Sport</td>\n",
              "    </tr>\n",
              "    <tr>\n",
              "      <th>49</th>\n",
              "      <td>01.02.2022</td>\n",
              "      <td>22:00</td>\n",
              "      <td>BRASIL</td>\n",
              "      <td>CAMPEONATO PERNAMBUCANO - RODADA 2</td>\n",
              "      <td>Sete de Setembro</td>\n",
              "      <td>Náutico</td>\n",
              "    </tr>\n",
              "    <tr>\n",
              "      <th>50</th>\n",
              "      <td>30.01.2022</td>\n",
              "      <td>18:00</td>\n",
              "      <td>BRASIL</td>\n",
              "      <td>CAMPEONATO PERNAMBUCANO - RODADA 2</td>\n",
              "      <td>Ibis Sport Club</td>\n",
              "      <td>Salgueiro</td>\n",
              "    </tr>\n",
              "    <tr>\n",
              "      <th>51</th>\n",
              "      <td>29.01.2022</td>\n",
              "      <td>20:00</td>\n",
              "      <td>BRASIL</td>\n",
              "      <td>CAMPEONATO PERNAMBUCANO - RODADA 2</td>\n",
              "      <td>Afogados da Ingazeira</td>\n",
              "      <td>Vera Cruz</td>\n",
              "    </tr>\n",
              "    <tr>\n",
              "      <th>52</th>\n",
              "      <td>29.01.2022</td>\n",
              "      <td>19:30</td>\n",
              "      <td>BRASIL</td>\n",
              "      <td>CAMPEONATO PERNAMBUCANO - RODADA 2</td>\n",
              "      <td>Caruaru City</td>\n",
              "      <td>Santa Cruz</td>\n",
              "    </tr>\n",
              "    <tr>\n",
              "      <th>53</th>\n",
              "      <td>26.01.2022</td>\n",
              "      <td>23:30</td>\n",
              "      <td>BRASIL</td>\n",
              "      <td>CAMPEONATO PERNAMBUCANO - RODADA 1</td>\n",
              "      <td>Sport</td>\n",
              "      <td>Sete de Setembro</td>\n",
              "    </tr>\n",
              "    <tr>\n",
              "      <th>54</th>\n",
              "      <td>23.01.2022</td>\n",
              "      <td>19:00</td>\n",
              "      <td>BRASIL</td>\n",
              "      <td>CAMPEONATO PERNAMBUCANO - RODADA 1</td>\n",
              "      <td>Salgueiro</td>\n",
              "      <td>Caruaru City</td>\n",
              "    </tr>\n",
              "    <tr>\n",
              "      <th>55</th>\n",
              "      <td>23.01.2022</td>\n",
              "      <td>18:00</td>\n",
              "      <td>BRASIL</td>\n",
              "      <td>CAMPEONATO PERNAMBUCANO - RODADA 1</td>\n",
              "      <td>Vera Cruz</td>\n",
              "      <td>Retrô</td>\n",
              "    </tr>\n",
              "    <tr>\n",
              "      <th>56</th>\n",
              "      <td>22.01.2022</td>\n",
              "      <td>19:30</td>\n",
              "      <td>BRASIL</td>\n",
              "      <td>CAMPEONATO PERNAMBUCANO - RODADA 1</td>\n",
              "      <td>Náutico</td>\n",
              "      <td>Ibis Sport Club</td>\n",
              "    </tr>\n",
              "  </tbody>\n",
              "</table>\n",
              "</div>\n",
              "      <button class=\"colab-df-convert\" onclick=\"convertToInteractive('df-e51c3a73-4c87-461d-9799-0862eec762e6')\"\n",
              "              title=\"Convert this dataframe to an interactive table.\"\n",
              "              style=\"display:none;\">\n",
              "        \n",
              "  <svg xmlns=\"http://www.w3.org/2000/svg\" height=\"24px\"viewBox=\"0 0 24 24\"\n",
              "       width=\"24px\">\n",
              "    <path d=\"M0 0h24v24H0V0z\" fill=\"none\"/>\n",
              "    <path d=\"M18.56 5.44l.94 2.06.94-2.06 2.06-.94-2.06-.94-.94-2.06-.94 2.06-2.06.94zm-11 1L8.5 8.5l.94-2.06 2.06-.94-2.06-.94L8.5 2.5l-.94 2.06-2.06.94zm10 10l.94 2.06.94-2.06 2.06-.94-2.06-.94-.94-2.06-.94 2.06-2.06.94z\"/><path d=\"M17.41 7.96l-1.37-1.37c-.4-.4-.92-.59-1.43-.59-.52 0-1.04.2-1.43.59L10.3 9.45l-7.72 7.72c-.78.78-.78 2.05 0 2.83L4 21.41c.39.39.9.59 1.41.59.51 0 1.02-.2 1.41-.59l7.78-7.78 2.81-2.81c.8-.78.8-2.07 0-2.86zM5.41 20L4 18.59l7.72-7.72 1.47 1.35L5.41 20z\"/>\n",
              "  </svg>\n",
              "      </button>\n",
              "      \n",
              "  <style>\n",
              "    .colab-df-container {\n",
              "      display:flex;\n",
              "      flex-wrap:wrap;\n",
              "      gap: 12px;\n",
              "    }\n",
              "\n",
              "    .colab-df-convert {\n",
              "      background-color: #E8F0FE;\n",
              "      border: none;\n",
              "      border-radius: 50%;\n",
              "      cursor: pointer;\n",
              "      display: none;\n",
              "      fill: #1967D2;\n",
              "      height: 32px;\n",
              "      padding: 0 0 0 0;\n",
              "      width: 32px;\n",
              "    }\n",
              "\n",
              "    .colab-df-convert:hover {\n",
              "      background-color: #E2EBFA;\n",
              "      box-shadow: 0px 1px 2px rgba(60, 64, 67, 0.3), 0px 1px 3px 1px rgba(60, 64, 67, 0.15);\n",
              "      fill: #174EA6;\n",
              "    }\n",
              "\n",
              "    [theme=dark] .colab-df-convert {\n",
              "      background-color: #3B4455;\n",
              "      fill: #D2E3FC;\n",
              "    }\n",
              "\n",
              "    [theme=dark] .colab-df-convert:hover {\n",
              "      background-color: #434B5C;\n",
              "      box-shadow: 0px 1px 3px 1px rgba(0, 0, 0, 0.15);\n",
              "      filter: drop-shadow(0px 1px 2px rgba(0, 0, 0, 0.3));\n",
              "      fill: #FFFFFF;\n",
              "    }\n",
              "  </style>\n",
              "\n",
              "      <script>\n",
              "        const buttonEl =\n",
              "          document.querySelector('#df-e51c3a73-4c87-461d-9799-0862eec762e6 button.colab-df-convert');\n",
              "        buttonEl.style.display =\n",
              "          google.colab.kernel.accessAllowed ? 'block' : 'none';\n",
              "\n",
              "        async function convertToInteractive(key) {\n",
              "          const element = document.querySelector('#df-e51c3a73-4c87-461d-9799-0862eec762e6');\n",
              "          const dataTable =\n",
              "            await google.colab.kernel.invokeFunction('convertToInteractive',\n",
              "                                                     [key], {});\n",
              "          if (!dataTable) return;\n",
              "\n",
              "          const docLinkHtml = 'Like what you see? Visit the ' +\n",
              "            '<a target=\"_blank\" href=https://colab.research.google.com/notebooks/data_table.ipynb>data table notebook</a>'\n",
              "            + ' to learn more about interactive tables.';\n",
              "          element.innerHTML = '';\n",
              "          dataTable['output_type'] = 'display_data';\n",
              "          await google.colab.output.renderOutput(dataTable, element);\n",
              "          const docLink = document.createElement('div');\n",
              "          docLink.innerHTML = docLinkHtml;\n",
              "          element.appendChild(docLink);\n",
              "        }\n",
              "      </script>\n",
              "    </div>\n",
              "  </div>\n",
              "  "
            ]
          },
          "metadata": {},
          "execution_count": 64
        }
      ]
    },
    {
      "cell_type": "code",
      "source": [
        "df.to_excel('campeonato_pernambucano_resultados_2022.xlsx')"
      ],
      "metadata": {
        "id": "QVQoGNCI7NMO"
      },
      "execution_count": null,
      "outputs": []
    },
    {
      "cell_type": "markdown",
      "source": [
        "# Campeonato Paranaense - 2022 - Resultados (Jogos que já aconteceram)"
      ],
      "metadata": {
        "id": "8Y5p-W3L7lAH"
      }
    },
    {
      "cell_type": "code",
      "source": [
        "# Com o WebDrive a gente consegue a pedir a página (URL)\n",
        "wd_Chrome.get(\"https://www.flashscore.com.br/futebol/brasil/campeonato-paranaense/resultados/\")\n",
        "\n",
        "#while True:\n",
        "#  try:\n",
        "#    botao_mais = wd_Chrome.find_element(By.XPATH, '//*[@id=\"live-table\"]/div[1]/div/div/a')\n",
        "#    wd_Chrome.execute_script('arguments[0].click();', botao_mais)\n",
        "#    time.sleep(5)\n",
        "#  except:\n",
        "#    break"
      ],
      "metadata": {
        "id": "RdgPiZ7a7p9f"
      },
      "execution_count": null,
      "outputs": []
    },
    {
      "cell_type": "code",
      "source": [
        "# Pegando o ID dos Jogos\n",
        "id_jogos = []\n",
        "jogos = wd_Chrome.find_elements(By.CSS_SELECTOR,'div.event__match--static')\n",
        "\n",
        "for i in jogos:\n",
        "    id_jogos.append(i.get_attribute(\"id\"))\n",
        "\n",
        "# Exemplo de ID de um jogo: 'g_1_Gb7buXVt'    \n",
        "id_jogos = [i[4:] for i in id_jogos]\n",
        "\n",
        "jogo = {'Date':[],'Time':[],'Country':[],'League':[],'Home':[],'Away':[]}"
      ],
      "metadata": {
        "id": "fXHtEDz87t4V"
      },
      "execution_count": null,
      "outputs": []
    },
    {
      "cell_type": "code",
      "source": [
        "for link in tqdm(id_jogos, total=len(id_jogos)):\n",
        "    wd_Chrome.get(f'https://www.flashscore.com.br/jogo/{link}/#/resumo-de-jogo')\n",
        "    \n",
        "    # Pegando as Informacoes Básicas do Jogo\n",
        "    try:\n",
        "        Date = wd_Chrome.find_element(By.CSS_SELECTOR,'div.duelParticipant__startTime').text.split(' ')[0]\n",
        "        Time = wd_Chrome.find_element(By.CSS_SELECTOR,'div.duelParticipant__startTime').text.split(' ')[1]\n",
        "        Country = wd_Chrome.find_element(By.CSS_SELECTOR,'span.tournamentHeader__country').text.split(':')[0]\n",
        "        League = wd_Chrome.find_element(By.CSS_SELECTOR,'span.tournamentHeader__country')\n",
        "        League = League.find_element(By.CSS_SELECTOR,'a').text\n",
        "        Home = wd_Chrome.find_element(By.CSS_SELECTOR,'div.duelParticipant__home')\n",
        "        Home = Home.find_element(By.CSS_SELECTOR,'div.participant__participantName').text\n",
        "        Away = wd_Chrome.find_element(By.CSS_SELECTOR,'div.duelParticipant__away')\n",
        "        Away = Away.find_element(By.CSS_SELECTOR,'div.participant__participantName').text          \n",
        "\n",
        "    except:\n",
        "        pass\n",
        "\n",
        "    print(Date,Time,Country,League,Home,Away) \n",
        "\n",
        "    jogo['Date'].append(Date)\n",
        "    jogo['Time'].append(Time)\n",
        "    jogo['Country'].append(Country)\n",
        "    jogo['League'].append(League)\n",
        "    jogo['Home'].append(Home)\n",
        "    jogo['Away'].append(Away)"
      ],
      "metadata": {
        "colab": {
          "base_uri": "https://localhost:8080/"
        },
        "id": "c3Nd6KDg7vmt",
        "outputId": "3a59834b-1478-4c75-9a75-5903a84b717f"
      },
      "execution_count": null,
      "outputs": [
        {
          "output_type": "stream",
          "name": "stderr",
          "text": [
            "  1%|▏         | 1/80 [00:01<02:24,  1.83s/it]"
          ]
        },
        {
          "output_type": "stream",
          "name": "stdout",
          "text": [
            "03.04.2022 19:00 BRASIL CAMPEONATO PARANAENSE - PLAYOFFS - FINAL Coritiba Maringá\n"
          ]
        },
        {
          "output_type": "stream",
          "name": "stderr",
          "text": [
            "\r  2%|▎         | 2/80 [00:02<01:50,  1.42s/it]"
          ]
        },
        {
          "output_type": "stream",
          "name": "stdout",
          "text": [
            "30.03.2022 23:00 BRASIL CAMPEONATO PARANAENSE - PLAYOFFS - FINAL Maringá Coritiba\n"
          ]
        },
        {
          "output_type": "stream",
          "name": "stderr",
          "text": [
            "\r  4%|▍         | 3/80 [00:05<02:34,  2.00s/it]"
          ]
        },
        {
          "output_type": "stream",
          "name": "stdout",
          "text": [
            "27.03.2022 21:00 BRASIL CAMPEONATO PARANAENSE - PLAYOFFS - SEMIFINAIS Maringá Operário\n"
          ]
        },
        {
          "output_type": "stream",
          "name": "stderr",
          "text": [
            "\r  5%|▌         | 4/80 [00:08<02:53,  2.28s/it]"
          ]
        },
        {
          "output_type": "stream",
          "name": "stdout",
          "text": [
            "27.03.2022 19:00 BRASIL CAMPEONATO PARANAENSE - PLAYOFFS - SEMIFINAIS Coritiba Athletico-PR\n"
          ]
        },
        {
          "output_type": "stream",
          "name": "stderr",
          "text": [
            "\r  6%|▋         | 5/80 [00:09<02:31,  2.02s/it]"
          ]
        },
        {
          "output_type": "stream",
          "name": "stdout",
          "text": [
            "24.03.2022 23:00 BRASIL CAMPEONATO PARANAENSE - PLAYOFFS - SEMIFINAIS Operário Maringá\n"
          ]
        },
        {
          "output_type": "stream",
          "name": "stderr",
          "text": [
            "\r  8%|▊         | 6/80 [00:11<02:16,  1.85s/it]"
          ]
        },
        {
          "output_type": "stream",
          "name": "stdout",
          "text": [
            "23.03.2022 23:00 BRASIL CAMPEONATO PARANAENSE - PLAYOFFS - SEMIFINAIS Athletico-PR Coritiba\n"
          ]
        },
        {
          "output_type": "stream",
          "name": "stderr",
          "text": [
            "\r  9%|▉         | 7/80 [00:13<02:15,  1.86s/it]"
          ]
        },
        {
          "output_type": "stream",
          "name": "stdout",
          "text": [
            "20.03.2022 21:30 BRASIL CAMPEONATO PARANAENSE - PLAYOFFS - QUARTAS DE FINAL Maringá Cascavel\n"
          ]
        },
        {
          "output_type": "stream",
          "name": "stderr",
          "text": [
            "\r 10%|█         | 8/80 [00:14<02:06,  1.75s/it]"
          ]
        },
        {
          "output_type": "stream",
          "name": "stdout",
          "text": [
            "20.03.2022 19:00 BRASIL CAMPEONATO PARANAENSE - PLAYOFFS - QUARTAS DE FINAL Athletico-PR Londrina\n"
          ]
        },
        {
          "output_type": "stream",
          "name": "stderr",
          "text": [
            "\r 11%|█▏        | 9/80 [00:16<01:58,  1.67s/it]"
          ]
        },
        {
          "output_type": "stream",
          "name": "stdout",
          "text": [
            "19.03.2022 21:30 BRASIL CAMPEONATO PARANAENSE - PLAYOFFS - QUARTAS DE FINAL Operário Sao Joseense\n"
          ]
        },
        {
          "output_type": "stream",
          "name": "stderr",
          "text": [
            "\r 12%|█▎        | 10/80 [00:17<01:53,  1.62s/it]"
          ]
        },
        {
          "output_type": "stream",
          "name": "stdout",
          "text": [
            "19.03.2022 19:00 BRASIL CAMPEONATO PARANAENSE - PLAYOFFS - QUARTAS DE FINAL Coritiba Cianorte\n"
          ]
        },
        {
          "output_type": "stream",
          "name": "stderr",
          "text": [
            "\r 14%|█▍        | 11/80 [00:19<01:51,  1.61s/it]"
          ]
        },
        {
          "output_type": "stream",
          "name": "stdout",
          "text": [
            "13.03.2022 21:30 BRASIL CAMPEONATO PARANAENSE - PLAYOFFS - QUARTAS DE FINAL Cianorte Coritiba\n"
          ]
        },
        {
          "output_type": "stream",
          "name": "stderr",
          "text": [
            "\r 15%|█▌        | 12/80 [00:21<01:51,  1.64s/it]"
          ]
        },
        {
          "output_type": "stream",
          "name": "stdout",
          "text": [
            "13.03.2022 18:30 BRASIL CAMPEONATO PARANAENSE - PLAYOFFS - QUARTAS DE FINAL Sao Joseense Operário\n"
          ]
        },
        {
          "output_type": "stream",
          "name": "stderr",
          "text": [
            "\r 16%|█▋        | 13/80 [00:22<01:47,  1.60s/it]"
          ]
        },
        {
          "output_type": "stream",
          "name": "stdout",
          "text": [
            "13.03.2022 14:00 BRASIL CAMPEONATO PARANAENSE - PLAYOFFS - QUARTAS DE FINAL Londrina Athletico-PR\n"
          ]
        },
        {
          "output_type": "stream",
          "name": "stderr",
          "text": [
            "\r 18%|█▊        | 14/80 [00:23<01:38,  1.49s/it]"
          ]
        },
        {
          "output_type": "stream",
          "name": "stdout",
          "text": [
            "12.03.2022 21:30 BRASIL CAMPEONATO PARANAENSE - PLAYOFFS - QUARTAS DE FINAL Cascavel Maringá\n"
          ]
        },
        {
          "output_type": "stream",
          "name": "stderr",
          "text": [
            "\r 19%|█▉        | 15/80 [00:25<01:36,  1.48s/it]"
          ]
        },
        {
          "output_type": "stream",
          "name": "stdout",
          "text": [
            "06.03.2022 19:00 BRASIL CAMPEONATO PARANAENSE - RODADA 11 Cascavel Athletico-PR\n"
          ]
        },
        {
          "output_type": "stream",
          "name": "stderr",
          "text": [
            "\r 20%|██        | 16/80 [00:27<01:39,  1.55s/it]"
          ]
        },
        {
          "output_type": "stream",
          "name": "stdout",
          "text": [
            "06.03.2022 19:00 BRASIL CAMPEONATO PARANAENSE - RODADA 11 Coritiba Maringá\n"
          ]
        },
        {
          "output_type": "stream",
          "name": "stderr",
          "text": [
            "\r 21%|██▏       | 17/80 [00:28<01:37,  1.54s/it]"
          ]
        },
        {
          "output_type": "stream",
          "name": "stdout",
          "text": [
            "06.03.2022 19:00 BRASIL CAMPEONATO PARANAENSE - RODADA 11 Londrina Cianorte\n"
          ]
        },
        {
          "output_type": "stream",
          "name": "stderr",
          "text": [
            "\r 22%|██▎       | 18/80 [00:30<01:35,  1.54s/it]"
          ]
        },
        {
          "output_type": "stream",
          "name": "stdout",
          "text": [
            "06.03.2022 19:00 BRASIL CAMPEONATO PARANAENSE - RODADA 11 Operário Azuriz\n"
          ]
        },
        {
          "output_type": "stream",
          "name": "stderr",
          "text": [
            "\r 24%|██▍       | 19/80 [00:31<01:32,  1.51s/it]"
          ]
        },
        {
          "output_type": "stream",
          "name": "stdout",
          "text": [
            "06.03.2022 19:00 BRASIL CAMPEONATO PARANAENSE - RODADA 11 Rio Branco-PR Paraná\n"
          ]
        },
        {
          "output_type": "stream",
          "name": "stderr",
          "text": [
            "\r 25%|██▌       | 20/80 [00:32<01:28,  1.48s/it]"
          ]
        },
        {
          "output_type": "stream",
          "name": "stdout",
          "text": [
            "06.03.2022 19:00 BRASIL CAMPEONATO PARANAENSE - RODADA 11 Uniao PR Sao Joseense\n"
          ]
        },
        {
          "output_type": "stream",
          "name": "stderr",
          "text": [
            "\r 26%|██▋       | 21/80 [00:34<01:28,  1.50s/it]"
          ]
        },
        {
          "output_type": "stream",
          "name": "stdout",
          "text": [
            "01.03.2022 22:00 BRASIL CAMPEONATO PARANAENSE - RODADA 10 Azuriz Coritiba\n"
          ]
        },
        {
          "output_type": "stream",
          "name": "stderr",
          "text": [
            "\r 28%|██▊       | 22/80 [00:36<01:27,  1.51s/it]"
          ]
        },
        {
          "output_type": "stream",
          "name": "stdout",
          "text": [
            "27.02.2022 19:00 BRASIL CAMPEONATO PARANAENSE - RODADA 10 Athletico-PR Operário\n"
          ]
        },
        {
          "output_type": "stream",
          "name": "stderr",
          "text": [
            "\r 29%|██▉       | 23/80 [00:37<01:26,  1.52s/it]"
          ]
        },
        {
          "output_type": "stream",
          "name": "stdout",
          "text": [
            "27.02.2022 19:00 BRASIL CAMPEONATO PARANAENSE - RODADA 10 Cianorte Sao Joseense\n"
          ]
        },
        {
          "output_type": "stream",
          "name": "stderr",
          "text": [
            "\r 30%|███       | 24/80 [00:39<01:30,  1.61s/it]"
          ]
        },
        {
          "output_type": "stream",
          "name": "stdout",
          "text": [
            "26.02.2022 22:00 BRASIL CAMPEONATO PARANAENSE - RODADA 10 Maringá Cascavel\n"
          ]
        },
        {
          "output_type": "stream",
          "name": "stderr",
          "text": [
            "\r 31%|███▏      | 25/80 [00:40<01:26,  1.58s/it]"
          ]
        },
        {
          "output_type": "stream",
          "name": "stdout",
          "text": [
            "26.02.2022 19:00 BRASIL CAMPEONATO PARANAENSE - RODADA 10 Paraná Uniao PR\n"
          ]
        },
        {
          "output_type": "stream",
          "name": "stderr",
          "text": [
            "\r 32%|███▎      | 26/80 [00:42<01:24,  1.56s/it]"
          ]
        },
        {
          "output_type": "stream",
          "name": "stdout",
          "text": [
            "26.02.2022 19:00 BRASIL CAMPEONATO PARANAENSE - RODADA 10 Rio Branco-PR Londrina\n"
          ]
        },
        {
          "output_type": "stream",
          "name": "stderr",
          "text": [
            "\r 34%|███▍      | 27/80 [00:45<01:39,  1.88s/it]"
          ]
        },
        {
          "output_type": "stream",
          "name": "stdout",
          "text": [
            "20.02.2022 22:00 BRASIL CAMPEONATO PARANAENSE - RODADA 9 Operário Londrina\n"
          ]
        },
        {
          "output_type": "stream",
          "name": "stderr",
          "text": [
            "\r 35%|███▌      | 28/80 [00:46<01:31,  1.76s/it]"
          ]
        },
        {
          "output_type": "stream",
          "name": "stdout",
          "text": [
            "20.02.2022 22:00 BRASIL CAMPEONATO PARANAENSE - RODADA 9 Uniao PR Maringá\n"
          ]
        },
        {
          "output_type": "stream",
          "name": "stderr",
          "text": [
            "\r 36%|███▋      | 29/80 [00:48<01:28,  1.74s/it]"
          ]
        },
        {
          "output_type": "stream",
          "name": "stdout",
          "text": [
            "20.02.2022 19:00 BRASIL CAMPEONATO PARANAENSE - RODADA 9 Paraná Coritiba\n"
          ]
        },
        {
          "output_type": "stream",
          "name": "stderr",
          "text": [
            "\r 38%|███▊      | 30/80 [00:49<01:24,  1.70s/it]"
          ]
        },
        {
          "output_type": "stream",
          "name": "stdout",
          "text": [
            "20.02.2022 18:30 BRASIL CAMPEONATO PARANAENSE - RODADA 9 Sao Joseense Rio Branco-PR\n"
          ]
        },
        {
          "output_type": "stream",
          "name": "stderr",
          "text": [
            "\r 39%|███▉      | 31/80 [00:51<01:20,  1.64s/it]"
          ]
        },
        {
          "output_type": "stream",
          "name": "stdout",
          "text": [
            "19.02.2022 22:00 BRASIL CAMPEONATO PARANAENSE - RODADA 9 Athletico-PR Cianorte\n"
          ]
        },
        {
          "output_type": "stream",
          "name": "stderr",
          "text": [
            "\r 40%|████      | 32/80 [00:52<01:16,  1.58s/it]"
          ]
        },
        {
          "output_type": "stream",
          "name": "stdout",
          "text": [
            "19.02.2022 22:00 BRASIL CAMPEONATO PARANAENSE - RODADA 9 Azuriz Cascavel\n"
          ]
        },
        {
          "output_type": "stream",
          "name": "stderr",
          "text": [
            "\r 41%|████▏     | 33/80 [00:54<01:13,  1.55s/it]"
          ]
        },
        {
          "output_type": "stream",
          "name": "stdout",
          "text": [
            "17.02.2022 23:00 BRASIL CAMPEONATO PARANAENSE - RODADA 8 Londrina Uniao PR\n"
          ]
        },
        {
          "output_type": "stream",
          "name": "stderr",
          "text": [
            "\r 42%|████▎     | 34/80 [00:55<01:12,  1.58s/it]"
          ]
        },
        {
          "output_type": "stream",
          "name": "stdout",
          "text": [
            "17.02.2022 00:30 BRASIL CAMPEONATO PARANAENSE - RODADA 8 Cascavel Sao Joseense\n"
          ]
        },
        {
          "output_type": "stream",
          "name": "stderr",
          "text": [
            "\r 44%|████▍     | 35/80 [00:57<01:11,  1.58s/it]"
          ]
        },
        {
          "output_type": "stream",
          "name": "stdout",
          "text": [
            "16.02.2022 23:30 BRASIL CAMPEONATO PARANAENSE - RODADA 8 Coritiba Athletico-PR\n"
          ]
        },
        {
          "output_type": "stream",
          "name": "stderr",
          "text": [
            "\r 45%|████▌     | 36/80 [00:58<01:08,  1.56s/it]"
          ]
        },
        {
          "output_type": "stream",
          "name": "stdout",
          "text": [
            "16.02.2022 23:30 BRASIL CAMPEONATO PARANAENSE - RODADA 8 Maringá Operário\n"
          ]
        },
        {
          "output_type": "stream",
          "name": "stderr",
          "text": [
            "\r 46%|████▋     | 37/80 [01:00<01:08,  1.60s/it]"
          ]
        },
        {
          "output_type": "stream",
          "name": "stdout",
          "text": [
            "16.02.2022 22:00 BRASIL CAMPEONATO PARANAENSE - RODADA 8 Cianorte Paraná\n"
          ]
        },
        {
          "output_type": "stream",
          "name": "stderr",
          "text": [
            "\r 48%|████▊     | 38/80 [01:02<01:07,  1.60s/it]"
          ]
        },
        {
          "output_type": "stream",
          "name": "stdout",
          "text": [
            "16.02.2022 21:00 BRASIL CAMPEONATO PARANAENSE - RODADA 8 Rio Branco-PR Azuriz\n"
          ]
        },
        {
          "output_type": "stream",
          "name": "stderr",
          "text": [
            "\r 49%|████▉     | 39/80 [01:03<01:06,  1.63s/it]"
          ]
        },
        {
          "output_type": "stream",
          "name": "stdout",
          "text": [
            "13.02.2022 23:00 BRASIL CAMPEONATO PARANAENSE - RODADA 7 Azuriz Athletico-PR\n"
          ]
        },
        {
          "output_type": "stream",
          "name": "stderr",
          "text": [
            "\r 50%|█████     | 40/80 [01:05<01:05,  1.64s/it]"
          ]
        },
        {
          "output_type": "stream",
          "name": "stdout",
          "text": [
            "13.02.2022 22:00 BRASIL CAMPEONATO PARANAENSE - RODADA 7 Uniao PR Rio Branco-PR\n"
          ]
        },
        {
          "output_type": "stream",
          "name": "stderr",
          "text": [
            "\r 51%|█████▏    | 41/80 [01:07<01:04,  1.65s/it]"
          ]
        },
        {
          "output_type": "stream",
          "name": "stdout",
          "text": [
            "13.02.2022 21:30 BRASIL CAMPEONATO PARANAENSE - RODADA 7 Coritiba Cascavel\n"
          ]
        },
        {
          "output_type": "stream",
          "name": "stderr",
          "text": [
            "\r 52%|█████▎    | 42/80 [01:08<01:01,  1.61s/it]"
          ]
        },
        {
          "output_type": "stream",
          "name": "stdout",
          "text": [
            "13.02.2022 19:00 BRASIL CAMPEONATO PARANAENSE - RODADA 7 Cianorte Operário\n"
          ]
        },
        {
          "output_type": "stream",
          "name": "stderr",
          "text": [
            "\r 54%|█████▍    | 43/80 [01:10<00:55,  1.51s/it]"
          ]
        },
        {
          "output_type": "stream",
          "name": "stdout",
          "text": [
            "13.02.2022 18:30 BRASIL CAMPEONATO PARANAENSE - RODADA 7 Sao Joseense Maringá\n"
          ]
        },
        {
          "output_type": "stream",
          "name": "stderr",
          "text": [
            "\r 55%|█████▌    | 44/80 [01:11<00:57,  1.59s/it]"
          ]
        },
        {
          "output_type": "stream",
          "name": "stdout",
          "text": [
            "12.02.2022 22:00 BRASIL CAMPEONATO PARANAENSE - RODADA 7 Paraná Londrina\n"
          ]
        },
        {
          "output_type": "stream",
          "name": "stderr",
          "text": [
            "\r 56%|█████▋    | 45/80 [01:13<00:55,  1.59s/it]"
          ]
        },
        {
          "output_type": "stream",
          "name": "stdout",
          "text": [
            "11.02.2022 00:30 BRASIL CAMPEONATO PARANAENSE - RODADA 6 Athletico-PR Rio Branco-PR\n"
          ]
        },
        {
          "output_type": "stream",
          "name": "stderr",
          "text": [
            "\r 57%|█████▊    | 46/80 [01:14<00:52,  1.56s/it]"
          ]
        },
        {
          "output_type": "stream",
          "name": "stdout",
          "text": [
            "10.02.2022 22:00 BRASIL CAMPEONATO PARANAENSE - RODADA 6 Operário Sao Joseense\n"
          ]
        },
        {
          "output_type": "stream",
          "name": "stderr",
          "text": [
            "\r 59%|█████▉    | 47/80 [01:16<00:51,  1.57s/it]"
          ]
        },
        {
          "output_type": "stream",
          "name": "stdout",
          "text": [
            "10.02.2022 21:30 BRASIL CAMPEONATO PARANAENSE - RODADA 6 Azuriz Uniao PR\n"
          ]
        },
        {
          "output_type": "stream",
          "name": "stderr",
          "text": [
            "\r 60%|██████    | 48/80 [01:18<00:52,  1.63s/it]"
          ]
        },
        {
          "output_type": "stream",
          "name": "stdout",
          "text": [
            "10.02.2022 00:30 BRASIL CAMPEONATO PARANAENSE - RODADA 6 Cascavel Paraná\n"
          ]
        },
        {
          "output_type": "stream",
          "name": "stderr",
          "text": [
            "\r 61%|██████▏   | 49/80 [01:19<00:49,  1.58s/it]"
          ]
        },
        {
          "output_type": "stream",
          "name": "stdout",
          "text": [
            "09.02.2022 22:00 BRASIL CAMPEONATO PARANAENSE - RODADA 6 Londrina Coritiba\n"
          ]
        },
        {
          "output_type": "stream",
          "name": "stderr",
          "text": [
            "\r 62%|██████▎   | 50/80 [01:21<00:49,  1.64s/it]"
          ]
        },
        {
          "output_type": "stream",
          "name": "stdout",
          "text": [
            "09.02.2022 22:00 BRASIL CAMPEONATO PARANAENSE - RODADA 6 Maringá Cianorte\n"
          ]
        },
        {
          "output_type": "stream",
          "name": "stderr",
          "text": [
            "\r 64%|██████▍   | 51/80 [01:23<00:46,  1.59s/it]"
          ]
        },
        {
          "output_type": "stream",
          "name": "stdout",
          "text": [
            "06.02.2022 22:00 BRASIL CAMPEONATO PARANAENSE - RODADA 5 Athletico-PR Uniao PR\n"
          ]
        },
        {
          "output_type": "stream",
          "name": "stderr",
          "text": [
            "\r 65%|██████▌   | 52/80 [01:24<00:45,  1.62s/it]"
          ]
        },
        {
          "output_type": "stream",
          "name": "stdout",
          "text": [
            "06.02.2022 22:00 BRASIL CAMPEONATO PARANAENSE - RODADA 5 Cascavel Londrina\n"
          ]
        },
        {
          "output_type": "stream",
          "name": "stderr",
          "text": [
            "\r 66%|██████▋   | 53/80 [01:26<00:43,  1.60s/it]"
          ]
        },
        {
          "output_type": "stream",
          "name": "stdout",
          "text": [
            "06.02.2022 19:00 BRASIL CAMPEONATO PARANAENSE - RODADA 5 Cianorte Azuriz\n"
          ]
        },
        {
          "output_type": "stream",
          "name": "stderr",
          "text": [
            "\r 68%|██████▊   | 54/80 [01:29<00:53,  2.05s/it]"
          ]
        },
        {
          "output_type": "stream",
          "name": "stdout",
          "text": [
            "06.02.2022 19:00 BRASIL CAMPEONATO PARANAENSE - RODADA 5 Rio Branco-PR Maringá\n"
          ]
        },
        {
          "output_type": "stream",
          "name": "stderr",
          "text": [
            "\r 69%|██████▉   | 55/80 [01:31<00:49,  1.96s/it]"
          ]
        },
        {
          "output_type": "stream",
          "name": "stdout",
          "text": [
            "05.02.2022 22:00 BRASIL CAMPEONATO PARANAENSE - RODADA 5 Paraná Operário\n"
          ]
        },
        {
          "output_type": "stream",
          "name": "stderr",
          "text": [
            "\r 70%|███████   | 56/80 [01:32<00:43,  1.82s/it]"
          ]
        },
        {
          "output_type": "stream",
          "name": "stdout",
          "text": [
            "05.02.2022 19:00 BRASIL CAMPEONATO PARANAENSE - RODADA 5 Sao Joseense Coritiba\n"
          ]
        },
        {
          "output_type": "stream",
          "name": "stderr",
          "text": [
            "\r 71%|███████▏  | 57/80 [01:34<00:40,  1.75s/it]"
          ]
        },
        {
          "output_type": "stream",
          "name": "stdout",
          "text": [
            "04.02.2022 00:30 BRASIL CAMPEONATO PARANAENSE - RODADA 4 Londrina Athletico-PR\n"
          ]
        },
        {
          "output_type": "stream",
          "name": "stderr",
          "text": [
            "\r 72%|███████▎  | 58/80 [01:35<00:38,  1.74s/it]"
          ]
        },
        {
          "output_type": "stream",
          "name": "stdout",
          "text": [
            "03.02.2022 22:00 BRASIL CAMPEONATO PARANAENSE - RODADA 4 Uniao PR Cianorte\n"
          ]
        },
        {
          "output_type": "stream",
          "name": "stderr",
          "text": [
            "\r 74%|███████▍  | 59/80 [01:37<00:35,  1.69s/it]"
          ]
        },
        {
          "output_type": "stream",
          "name": "stdout",
          "text": [
            "03.02.2022 21:30 BRASIL CAMPEONATO PARANAENSE - RODADA 4 Azuriz Maringá\n"
          ]
        },
        {
          "output_type": "stream",
          "name": "stderr",
          "text": [
            "\r 75%|███████▌  | 60/80 [01:39<00:33,  1.69s/it]"
          ]
        },
        {
          "output_type": "stream",
          "name": "stdout",
          "text": [
            "02.02.2022 22:30 BRASIL CAMPEONATO PARANAENSE - RODADA 4 Coritiba Rio Branco-PR\n"
          ]
        },
        {
          "output_type": "stream",
          "name": "stderr",
          "text": [
            "\r 76%|███████▋  | 61/80 [01:40<00:31,  1.63s/it]"
          ]
        },
        {
          "output_type": "stream",
          "name": "stdout",
          "text": [
            "02.02.2022 22:00 BRASIL CAMPEONATO PARANAENSE - RODADA 4 Operário Cascavel\n"
          ]
        },
        {
          "output_type": "stream",
          "name": "stderr",
          "text": [
            "\r 78%|███████▊  | 62/80 [01:42<00:28,  1.58s/it]"
          ]
        },
        {
          "output_type": "stream",
          "name": "stdout",
          "text": [
            "02.02.2022 18:30 BRASIL CAMPEONATO PARANAENSE - RODADA 4 Sao Joseense Paraná\n"
          ]
        },
        {
          "output_type": "stream",
          "name": "stderr",
          "text": [
            "\r 79%|███████▉  | 63/80 [01:43<00:26,  1.57s/it]"
          ]
        },
        {
          "output_type": "stream",
          "name": "stdout",
          "text": [
            "30.01.2022 23:00 BRASIL CAMPEONATO PARANAENSE - RODADA 3 Rio Branco-PR Operário\n"
          ]
        },
        {
          "output_type": "stream",
          "name": "stderr",
          "text": [
            "\r 80%|████████  | 64/80 [01:45<00:26,  1.67s/it]"
          ]
        },
        {
          "output_type": "stream",
          "name": "stdout",
          "text": [
            "30.01.2022 23:00 BRASIL CAMPEONATO PARANAENSE - RODADA 3 Uniao PR Coritiba\n"
          ]
        },
        {
          "output_type": "stream",
          "name": "stderr",
          "text": [
            "\r 81%|████████▏ | 65/80 [01:47<00:24,  1.64s/it]"
          ]
        },
        {
          "output_type": "stream",
          "name": "stdout",
          "text": [
            "30.01.2022 22:00 BRASIL CAMPEONATO PARANAENSE - RODADA 3 Cianorte Cascavel\n"
          ]
        },
        {
          "output_type": "stream",
          "name": "stderr",
          "text": [
            "\r 82%|████████▎ | 66/80 [01:48<00:22,  1.62s/it]"
          ]
        },
        {
          "output_type": "stream",
          "name": "stdout",
          "text": [
            "29.01.2022 23:00 BRASIL CAMPEONATO PARANAENSE - RODADA 3 Athletico-PR Sao Joseense\n"
          ]
        },
        {
          "output_type": "stream",
          "name": "stderr",
          "text": [
            "\r 84%|████████▍ | 67/80 [01:50<00:20,  1.58s/it]"
          ]
        },
        {
          "output_type": "stream",
          "name": "stdout",
          "text": [
            "29.01.2022 23:00 BRASIL CAMPEONATO PARANAENSE - RODADA 3 Azuriz Londrina\n"
          ]
        },
        {
          "output_type": "stream",
          "name": "stderr",
          "text": [
            "\r 85%|████████▌ | 68/80 [01:51<00:18,  1.56s/it]"
          ]
        },
        {
          "output_type": "stream",
          "name": "stdout",
          "text": [
            "29.01.2022 22:00 BRASIL CAMPEONATO PARANAENSE - RODADA 3 Maringá Paraná\n"
          ]
        },
        {
          "output_type": "stream",
          "name": "stderr",
          "text": [
            "\r 86%|████████▋ | 69/80 [01:53<00:18,  1.64s/it]"
          ]
        },
        {
          "output_type": "stream",
          "name": "stdout",
          "text": [
            "28.01.2022 00:30 BRASIL CAMPEONATO PARANAENSE - RODADA 2 Operário Coritiba\n"
          ]
        },
        {
          "output_type": "stream",
          "name": "stderr",
          "text": [
            "\r 88%|████████▊ | 70/80 [01:55<00:16,  1.63s/it]"
          ]
        },
        {
          "output_type": "stream",
          "name": "stdout",
          "text": [
            "27.01.2022 22:00 BRASIL CAMPEONATO PARANAENSE - RODADA 2 Cianorte Rio Branco-PR\n"
          ]
        },
        {
          "output_type": "stream",
          "name": "stderr",
          "text": [
            "\r 89%|████████▉ | 71/80 [01:56<00:14,  1.61s/it]"
          ]
        },
        {
          "output_type": "stream",
          "name": "stdout",
          "text": [
            "27.01.2022 00:30 BRASIL CAMPEONATO PARANAENSE - RODADA 2 Londrina Sao Joseense\n"
          ]
        },
        {
          "output_type": "stream",
          "name": "stderr",
          "text": [
            "\r 90%|█████████ | 72/80 [01:58<00:12,  1.59s/it]"
          ]
        },
        {
          "output_type": "stream",
          "name": "stdout",
          "text": [
            "27.01.2022 00:30 BRASIL CAMPEONATO PARANAENSE - RODADA 2 Maringá Athletico-PR\n"
          ]
        },
        {
          "output_type": "stream",
          "name": "stderr",
          "text": [
            "\r 91%|█████████▏| 73/80 [02:00<00:11,  1.63s/it]"
          ]
        },
        {
          "output_type": "stream",
          "name": "stdout",
          "text": [
            "26.01.2022 22:00 BRASIL CAMPEONATO PARANAENSE - RODADA 2 Cascavel Uniao PR\n"
          ]
        },
        {
          "output_type": "stream",
          "name": "stderr",
          "text": [
            "\r 92%|█████████▎| 74/80 [02:01<00:09,  1.63s/it]"
          ]
        },
        {
          "output_type": "stream",
          "name": "stdout",
          "text": [
            "26.01.2022 22:00 BRASIL CAMPEONATO PARANAENSE - RODADA 2 Paraná Azuriz\n"
          ]
        },
        {
          "output_type": "stream",
          "name": "stderr",
          "text": [
            "\r 94%|█████████▍| 75/80 [02:03<00:08,  1.63s/it]"
          ]
        },
        {
          "output_type": "stream",
          "name": "stdout",
          "text": [
            "23.01.2022 22:00 BRASIL CAMPEONATO PARANAENSE - RODADA 1 Operário Uniao PR\n"
          ]
        },
        {
          "output_type": "stream",
          "name": "stderr",
          "text": [
            "\r 95%|█████████▌| 76/80 [02:04<00:06,  1.64s/it]"
          ]
        },
        {
          "output_type": "stream",
          "name": "stdout",
          "text": [
            "23.01.2022 19:00 BRASIL CAMPEONATO PARANAENSE - RODADA 1 Athletico-PR Paraná\n"
          ]
        },
        {
          "output_type": "stream",
          "name": "stderr",
          "text": [
            "\r 96%|█████████▋| 77/80 [02:06<00:04,  1.65s/it]"
          ]
        },
        {
          "output_type": "stream",
          "name": "stdout",
          "text": [
            "23.01.2022 19:00 BRASIL CAMPEONATO PARANAENSE - RODADA 1 Londrina Maringá\n"
          ]
        },
        {
          "output_type": "stream",
          "name": "stderr",
          "text": [
            "\r 98%|█████████▊| 78/80 [02:08<00:03,  1.60s/it]"
          ]
        },
        {
          "output_type": "stream",
          "name": "stdout",
          "text": [
            "23.01.2022 14:00 BRASIL CAMPEONATO PARANAENSE - RODADA 1 Sao Joseense Azuriz\n"
          ]
        },
        {
          "output_type": "stream",
          "name": "stderr",
          "text": [
            "\r 99%|█████████▉| 79/80 [02:09<00:01,  1.61s/it]"
          ]
        },
        {
          "output_type": "stream",
          "name": "stdout",
          "text": [
            "22.01.2022 22:00 BRASIL CAMPEONATO PARANAENSE - RODADA 1 Cascavel Rio Branco-PR\n"
          ]
        },
        {
          "output_type": "stream",
          "name": "stderr",
          "text": [
            "100%|██████████| 80/80 [02:11<00:00,  1.64s/it]"
          ]
        },
        {
          "output_type": "stream",
          "name": "stdout",
          "text": [
            "22.01.2022 19:00 BRASIL CAMPEONATO PARANAENSE - RODADA 1 Coritiba Cianorte\n"
          ]
        },
        {
          "output_type": "stream",
          "name": "stderr",
          "text": [
            "\n"
          ]
        }
      ]
    },
    {
      "cell_type": "code",
      "source": [
        "df = pd.DataFrame(jogo)\n",
        "df"
      ],
      "metadata": {
        "colab": {
          "base_uri": "https://localhost:8080/",
          "height": 424
        },
        "id": "bVHCCyox7xgW",
        "outputId": "58c4e161-d280-4077-e455-7b8fa89aa72b"
      },
      "execution_count": null,
      "outputs": [
        {
          "output_type": "execute_result",
          "data": {
            "text/plain": [
              "          Date   Time Country                                         League  \\\n",
              "0   03.04.2022  19:00  BRASIL       CAMPEONATO PARANAENSE - PLAYOFFS - FINAL   \n",
              "1   30.03.2022  23:00  BRASIL       CAMPEONATO PARANAENSE - PLAYOFFS - FINAL   \n",
              "2   27.03.2022  21:00  BRASIL  CAMPEONATO PARANAENSE - PLAYOFFS - SEMIFINAIS   \n",
              "3   27.03.2022  19:00  BRASIL  CAMPEONATO PARANAENSE - PLAYOFFS - SEMIFINAIS   \n",
              "4   24.03.2022  23:00  BRASIL  CAMPEONATO PARANAENSE - PLAYOFFS - SEMIFINAIS   \n",
              "..         ...    ...     ...                                            ...   \n",
              "75  23.01.2022  19:00  BRASIL               CAMPEONATO PARANAENSE - RODADA 1   \n",
              "76  23.01.2022  19:00  BRASIL               CAMPEONATO PARANAENSE - RODADA 1   \n",
              "77  23.01.2022  14:00  BRASIL               CAMPEONATO PARANAENSE - RODADA 1   \n",
              "78  22.01.2022  22:00  BRASIL               CAMPEONATO PARANAENSE - RODADA 1   \n",
              "79  22.01.2022  19:00  BRASIL               CAMPEONATO PARANAENSE - RODADA 1   \n",
              "\n",
              "            Home           Away  \n",
              "0       Coritiba        Maringá  \n",
              "1        Maringá       Coritiba  \n",
              "2        Maringá       Operário  \n",
              "3       Coritiba   Athletico-PR  \n",
              "4       Operário        Maringá  \n",
              "..           ...            ...  \n",
              "75  Athletico-PR         Paraná  \n",
              "76      Londrina        Maringá  \n",
              "77  Sao Joseense         Azuriz  \n",
              "78      Cascavel  Rio Branco-PR  \n",
              "79      Coritiba       Cianorte  \n",
              "\n",
              "[80 rows x 6 columns]"
            ],
            "text/html": [
              "\n",
              "  <div id=\"df-1b2c4a2e-4355-40bc-a217-61c01cda1b52\">\n",
              "    <div class=\"colab-df-container\">\n",
              "      <div>\n",
              "<style scoped>\n",
              "    .dataframe tbody tr th:only-of-type {\n",
              "        vertical-align: middle;\n",
              "    }\n",
              "\n",
              "    .dataframe tbody tr th {\n",
              "        vertical-align: top;\n",
              "    }\n",
              "\n",
              "    .dataframe thead th {\n",
              "        text-align: right;\n",
              "    }\n",
              "</style>\n",
              "<table border=\"1\" class=\"dataframe\">\n",
              "  <thead>\n",
              "    <tr style=\"text-align: right;\">\n",
              "      <th></th>\n",
              "      <th>Date</th>\n",
              "      <th>Time</th>\n",
              "      <th>Country</th>\n",
              "      <th>League</th>\n",
              "      <th>Home</th>\n",
              "      <th>Away</th>\n",
              "    </tr>\n",
              "  </thead>\n",
              "  <tbody>\n",
              "    <tr>\n",
              "      <th>0</th>\n",
              "      <td>03.04.2022</td>\n",
              "      <td>19:00</td>\n",
              "      <td>BRASIL</td>\n",
              "      <td>CAMPEONATO PARANAENSE - PLAYOFFS - FINAL</td>\n",
              "      <td>Coritiba</td>\n",
              "      <td>Maringá</td>\n",
              "    </tr>\n",
              "    <tr>\n",
              "      <th>1</th>\n",
              "      <td>30.03.2022</td>\n",
              "      <td>23:00</td>\n",
              "      <td>BRASIL</td>\n",
              "      <td>CAMPEONATO PARANAENSE - PLAYOFFS - FINAL</td>\n",
              "      <td>Maringá</td>\n",
              "      <td>Coritiba</td>\n",
              "    </tr>\n",
              "    <tr>\n",
              "      <th>2</th>\n",
              "      <td>27.03.2022</td>\n",
              "      <td>21:00</td>\n",
              "      <td>BRASIL</td>\n",
              "      <td>CAMPEONATO PARANAENSE - PLAYOFFS - SEMIFINAIS</td>\n",
              "      <td>Maringá</td>\n",
              "      <td>Operário</td>\n",
              "    </tr>\n",
              "    <tr>\n",
              "      <th>3</th>\n",
              "      <td>27.03.2022</td>\n",
              "      <td>19:00</td>\n",
              "      <td>BRASIL</td>\n",
              "      <td>CAMPEONATO PARANAENSE - PLAYOFFS - SEMIFINAIS</td>\n",
              "      <td>Coritiba</td>\n",
              "      <td>Athletico-PR</td>\n",
              "    </tr>\n",
              "    <tr>\n",
              "      <th>4</th>\n",
              "      <td>24.03.2022</td>\n",
              "      <td>23:00</td>\n",
              "      <td>BRASIL</td>\n",
              "      <td>CAMPEONATO PARANAENSE - PLAYOFFS - SEMIFINAIS</td>\n",
              "      <td>Operário</td>\n",
              "      <td>Maringá</td>\n",
              "    </tr>\n",
              "    <tr>\n",
              "      <th>...</th>\n",
              "      <td>...</td>\n",
              "      <td>...</td>\n",
              "      <td>...</td>\n",
              "      <td>...</td>\n",
              "      <td>...</td>\n",
              "      <td>...</td>\n",
              "    </tr>\n",
              "    <tr>\n",
              "      <th>75</th>\n",
              "      <td>23.01.2022</td>\n",
              "      <td>19:00</td>\n",
              "      <td>BRASIL</td>\n",
              "      <td>CAMPEONATO PARANAENSE - RODADA 1</td>\n",
              "      <td>Athletico-PR</td>\n",
              "      <td>Paraná</td>\n",
              "    </tr>\n",
              "    <tr>\n",
              "      <th>76</th>\n",
              "      <td>23.01.2022</td>\n",
              "      <td>19:00</td>\n",
              "      <td>BRASIL</td>\n",
              "      <td>CAMPEONATO PARANAENSE - RODADA 1</td>\n",
              "      <td>Londrina</td>\n",
              "      <td>Maringá</td>\n",
              "    </tr>\n",
              "    <tr>\n",
              "      <th>77</th>\n",
              "      <td>23.01.2022</td>\n",
              "      <td>14:00</td>\n",
              "      <td>BRASIL</td>\n",
              "      <td>CAMPEONATO PARANAENSE - RODADA 1</td>\n",
              "      <td>Sao Joseense</td>\n",
              "      <td>Azuriz</td>\n",
              "    </tr>\n",
              "    <tr>\n",
              "      <th>78</th>\n",
              "      <td>22.01.2022</td>\n",
              "      <td>22:00</td>\n",
              "      <td>BRASIL</td>\n",
              "      <td>CAMPEONATO PARANAENSE - RODADA 1</td>\n",
              "      <td>Cascavel</td>\n",
              "      <td>Rio Branco-PR</td>\n",
              "    </tr>\n",
              "    <tr>\n",
              "      <th>79</th>\n",
              "      <td>22.01.2022</td>\n",
              "      <td>19:00</td>\n",
              "      <td>BRASIL</td>\n",
              "      <td>CAMPEONATO PARANAENSE - RODADA 1</td>\n",
              "      <td>Coritiba</td>\n",
              "      <td>Cianorte</td>\n",
              "    </tr>\n",
              "  </tbody>\n",
              "</table>\n",
              "<p>80 rows × 6 columns</p>\n",
              "</div>\n",
              "      <button class=\"colab-df-convert\" onclick=\"convertToInteractive('df-1b2c4a2e-4355-40bc-a217-61c01cda1b52')\"\n",
              "              title=\"Convert this dataframe to an interactive table.\"\n",
              "              style=\"display:none;\">\n",
              "        \n",
              "  <svg xmlns=\"http://www.w3.org/2000/svg\" height=\"24px\"viewBox=\"0 0 24 24\"\n",
              "       width=\"24px\">\n",
              "    <path d=\"M0 0h24v24H0V0z\" fill=\"none\"/>\n",
              "    <path d=\"M18.56 5.44l.94 2.06.94-2.06 2.06-.94-2.06-.94-.94-2.06-.94 2.06-2.06.94zm-11 1L8.5 8.5l.94-2.06 2.06-.94-2.06-.94L8.5 2.5l-.94 2.06-2.06.94zm10 10l.94 2.06.94-2.06 2.06-.94-2.06-.94-.94-2.06-.94 2.06-2.06.94z\"/><path d=\"M17.41 7.96l-1.37-1.37c-.4-.4-.92-.59-1.43-.59-.52 0-1.04.2-1.43.59L10.3 9.45l-7.72 7.72c-.78.78-.78 2.05 0 2.83L4 21.41c.39.39.9.59 1.41.59.51 0 1.02-.2 1.41-.59l7.78-7.78 2.81-2.81c.8-.78.8-2.07 0-2.86zM5.41 20L4 18.59l7.72-7.72 1.47 1.35L5.41 20z\"/>\n",
              "  </svg>\n",
              "      </button>\n",
              "      \n",
              "  <style>\n",
              "    .colab-df-container {\n",
              "      display:flex;\n",
              "      flex-wrap:wrap;\n",
              "      gap: 12px;\n",
              "    }\n",
              "\n",
              "    .colab-df-convert {\n",
              "      background-color: #E8F0FE;\n",
              "      border: none;\n",
              "      border-radius: 50%;\n",
              "      cursor: pointer;\n",
              "      display: none;\n",
              "      fill: #1967D2;\n",
              "      height: 32px;\n",
              "      padding: 0 0 0 0;\n",
              "      width: 32px;\n",
              "    }\n",
              "\n",
              "    .colab-df-convert:hover {\n",
              "      background-color: #E2EBFA;\n",
              "      box-shadow: 0px 1px 2px rgba(60, 64, 67, 0.3), 0px 1px 3px 1px rgba(60, 64, 67, 0.15);\n",
              "      fill: #174EA6;\n",
              "    }\n",
              "\n",
              "    [theme=dark] .colab-df-convert {\n",
              "      background-color: #3B4455;\n",
              "      fill: #D2E3FC;\n",
              "    }\n",
              "\n",
              "    [theme=dark] .colab-df-convert:hover {\n",
              "      background-color: #434B5C;\n",
              "      box-shadow: 0px 1px 3px 1px rgba(0, 0, 0, 0.15);\n",
              "      filter: drop-shadow(0px 1px 2px rgba(0, 0, 0, 0.3));\n",
              "      fill: #FFFFFF;\n",
              "    }\n",
              "  </style>\n",
              "\n",
              "      <script>\n",
              "        const buttonEl =\n",
              "          document.querySelector('#df-1b2c4a2e-4355-40bc-a217-61c01cda1b52 button.colab-df-convert');\n",
              "        buttonEl.style.display =\n",
              "          google.colab.kernel.accessAllowed ? 'block' : 'none';\n",
              "\n",
              "        async function convertToInteractive(key) {\n",
              "          const element = document.querySelector('#df-1b2c4a2e-4355-40bc-a217-61c01cda1b52');\n",
              "          const dataTable =\n",
              "            await google.colab.kernel.invokeFunction('convertToInteractive',\n",
              "                                                     [key], {});\n",
              "          if (!dataTable) return;\n",
              "\n",
              "          const docLinkHtml = 'Like what you see? Visit the ' +\n",
              "            '<a target=\"_blank\" href=https://colab.research.google.com/notebooks/data_table.ipynb>data table notebook</a>'\n",
              "            + ' to learn more about interactive tables.';\n",
              "          element.innerHTML = '';\n",
              "          dataTable['output_type'] = 'display_data';\n",
              "          await google.colab.output.renderOutput(dataTable, element);\n",
              "          const docLink = document.createElement('div');\n",
              "          docLink.innerHTML = docLinkHtml;\n",
              "          element.appendChild(docLink);\n",
              "        }\n",
              "      </script>\n",
              "    </div>\n",
              "  </div>\n",
              "  "
            ]
          },
          "metadata": {},
          "execution_count": 69
        }
      ]
    },
    {
      "cell_type": "code",
      "source": [
        "df.to_excel('campeonato_paranaense_resultados_2022.xlsx')"
      ],
      "metadata": {
        "id": "q6O7qA4J7zDF"
      },
      "execution_count": null,
      "outputs": []
    },
    {
      "cell_type": "markdown",
      "source": [
        "# Consolidação dos dados em uma única planilha"
      ],
      "metadata": {
        "id": "8uMcVD_MoVd6"
      }
    },
    {
      "cell_type": "code",
      "source": [
        "# Lendo todas as tabelas geradas como DataFrames\n",
        "\n",
        "tabela_1 = pd.read_excel('campeonato_brasileiro_serie_a_2022.xlsx')\n",
        "tabela_2 = pd.read_excel('campeonato_brasileiro_serie_a_calendario_2022.xlsx')\n",
        "tabela_3 = pd.read_excel('copa_do_brasil_resultados_2022.xlsx')\n",
        "tabela_4 = pd.read_excel('copa_libertadores_resultados_2022.xlsx')\n",
        "tabela_5 = pd.read_excel('copa_Sulamericana_resultados_2022.xlsx')\n",
        "tabela_6 = pd.read_excel('campeonato_mineiro_resultados_2022.xlsx')\n",
        "tabela_7 = pd.read_excel('campeonato_gaucho_resultados_2022.xlsx')\n",
        "tabela_8 = pd.read_excel('campeonato_paulista_resultados_2022.xlsx')\n",
        "tabela_9 = pd.read_excel('campeonato_carioca_resultados_2022.xlsx')\n",
        "tabela_10 = pd.read_excel('campeonato_baiano_resultados_2022.xlsx')\n",
        "tabela_11 = pd.read_excel('campeonato_pernambucano_resultados_2022.xlsx')\n",
        "tabela_12 = pd.read_excel('campeonato_paranaense_resultados_2022.xlsx')"
      ],
      "metadata": {
        "id": "SuVAYGxz-ntH"
      },
      "execution_count": null,
      "outputs": []
    },
    {
      "cell_type": "code",
      "source": [
        "# Concatenando todas as tabelas em uma única tabela final\n",
        "\n",
        "tabela_final = pd.concat([tabela_1, tabela_2, tabela_3, tabela_4, tabela_5, tabela_6, tabela_7, tabela_8, tabela_9, tabela_10, tabela_11, tabela_12])\n",
        "tabela_final"
      ],
      "metadata": {
        "colab": {
          "base_uri": "https://localhost:8080/",
          "height": 424
        },
        "id": "wO4x2mLw-wAU",
        "outputId": "b50672ec-c04e-4394-c9b8-4e049c406bae"
      },
      "execution_count": null,
      "outputs": [
        {
          "output_type": "execute_result",
          "data": {
            "text/plain": [
              "    Unnamed: 0        Date   Time Country                            League  \\\n",
              "0            0  03.11.2022  00:30  BRASIL               SÉRIE A - RODADA 35   \n",
              "1            1  03.11.2022  00:30  BRASIL               SÉRIE A - RODADA 35   \n",
              "2            2  02.11.2022  22:00  BRASIL               SÉRIE A - RODADA 35   \n",
              "3            3  02.11.2022  22:00  BRASIL               SÉRIE A - RODADA 35   \n",
              "4            4  02.11.2022  22:00  BRASIL               SÉRIE A - RODADA 35   \n",
              "..         ...         ...    ...     ...                               ...   \n",
              "75          75  23.01.2022  19:00  BRASIL  CAMPEONATO PARANAENSE - RODADA 1   \n",
              "76          76  23.01.2022  19:00  BRASIL  CAMPEONATO PARANAENSE - RODADA 1   \n",
              "77          77  23.01.2022  14:00  BRASIL  CAMPEONATO PARANAENSE - RODADA 1   \n",
              "78          78  22.01.2022  22:00  BRASIL  CAMPEONATO PARANAENSE - RODADA 1   \n",
              "79          79  22.01.2022  19:00  BRASIL  CAMPEONATO PARANAENSE - RODADA 1   \n",
              "\n",
              "            Home                 Away  \n",
              "0       Flamengo          Corinthians  \n",
              "1      Palmeiras            Fortaleza  \n",
              "2    Atlético-GO               Santos  \n",
              "3           Avaí  Red Bull Bragantino  \n",
              "4      Juventude             Coritiba  \n",
              "..           ...                  ...  \n",
              "75  Athletico-PR               Paraná  \n",
              "76      Londrina              Maringá  \n",
              "77  Sao Joseense               Azuriz  \n",
              "78      Cascavel        Rio Branco-PR  \n",
              "79      Coritiba             Cianorte  \n",
              "\n",
              "[1339 rows x 7 columns]"
            ],
            "text/html": [
              "\n",
              "  <div id=\"df-e50a8ece-4755-4629-8052-97530571867d\">\n",
              "    <div class=\"colab-df-container\">\n",
              "      <div>\n",
              "<style scoped>\n",
              "    .dataframe tbody tr th:only-of-type {\n",
              "        vertical-align: middle;\n",
              "    }\n",
              "\n",
              "    .dataframe tbody tr th {\n",
              "        vertical-align: top;\n",
              "    }\n",
              "\n",
              "    .dataframe thead th {\n",
              "        text-align: right;\n",
              "    }\n",
              "</style>\n",
              "<table border=\"1\" class=\"dataframe\">\n",
              "  <thead>\n",
              "    <tr style=\"text-align: right;\">\n",
              "      <th></th>\n",
              "      <th>Unnamed: 0</th>\n",
              "      <th>Date</th>\n",
              "      <th>Time</th>\n",
              "      <th>Country</th>\n",
              "      <th>League</th>\n",
              "      <th>Home</th>\n",
              "      <th>Away</th>\n",
              "    </tr>\n",
              "  </thead>\n",
              "  <tbody>\n",
              "    <tr>\n",
              "      <th>0</th>\n",
              "      <td>0</td>\n",
              "      <td>03.11.2022</td>\n",
              "      <td>00:30</td>\n",
              "      <td>BRASIL</td>\n",
              "      <td>SÉRIE A - RODADA 35</td>\n",
              "      <td>Flamengo</td>\n",
              "      <td>Corinthians</td>\n",
              "    </tr>\n",
              "    <tr>\n",
              "      <th>1</th>\n",
              "      <td>1</td>\n",
              "      <td>03.11.2022</td>\n",
              "      <td>00:30</td>\n",
              "      <td>BRASIL</td>\n",
              "      <td>SÉRIE A - RODADA 35</td>\n",
              "      <td>Palmeiras</td>\n",
              "      <td>Fortaleza</td>\n",
              "    </tr>\n",
              "    <tr>\n",
              "      <th>2</th>\n",
              "      <td>2</td>\n",
              "      <td>02.11.2022</td>\n",
              "      <td>22:00</td>\n",
              "      <td>BRASIL</td>\n",
              "      <td>SÉRIE A - RODADA 35</td>\n",
              "      <td>Atlético-GO</td>\n",
              "      <td>Santos</td>\n",
              "    </tr>\n",
              "    <tr>\n",
              "      <th>3</th>\n",
              "      <td>3</td>\n",
              "      <td>02.11.2022</td>\n",
              "      <td>22:00</td>\n",
              "      <td>BRASIL</td>\n",
              "      <td>SÉRIE A - RODADA 35</td>\n",
              "      <td>Avaí</td>\n",
              "      <td>Red Bull Bragantino</td>\n",
              "    </tr>\n",
              "    <tr>\n",
              "      <th>4</th>\n",
              "      <td>4</td>\n",
              "      <td>02.11.2022</td>\n",
              "      <td>22:00</td>\n",
              "      <td>BRASIL</td>\n",
              "      <td>SÉRIE A - RODADA 35</td>\n",
              "      <td>Juventude</td>\n",
              "      <td>Coritiba</td>\n",
              "    </tr>\n",
              "    <tr>\n",
              "      <th>...</th>\n",
              "      <td>...</td>\n",
              "      <td>...</td>\n",
              "      <td>...</td>\n",
              "      <td>...</td>\n",
              "      <td>...</td>\n",
              "      <td>...</td>\n",
              "      <td>...</td>\n",
              "    </tr>\n",
              "    <tr>\n",
              "      <th>75</th>\n",
              "      <td>75</td>\n",
              "      <td>23.01.2022</td>\n",
              "      <td>19:00</td>\n",
              "      <td>BRASIL</td>\n",
              "      <td>CAMPEONATO PARANAENSE - RODADA 1</td>\n",
              "      <td>Athletico-PR</td>\n",
              "      <td>Paraná</td>\n",
              "    </tr>\n",
              "    <tr>\n",
              "      <th>76</th>\n",
              "      <td>76</td>\n",
              "      <td>23.01.2022</td>\n",
              "      <td>19:00</td>\n",
              "      <td>BRASIL</td>\n",
              "      <td>CAMPEONATO PARANAENSE - RODADA 1</td>\n",
              "      <td>Londrina</td>\n",
              "      <td>Maringá</td>\n",
              "    </tr>\n",
              "    <tr>\n",
              "      <th>77</th>\n",
              "      <td>77</td>\n",
              "      <td>23.01.2022</td>\n",
              "      <td>14:00</td>\n",
              "      <td>BRASIL</td>\n",
              "      <td>CAMPEONATO PARANAENSE - RODADA 1</td>\n",
              "      <td>Sao Joseense</td>\n",
              "      <td>Azuriz</td>\n",
              "    </tr>\n",
              "    <tr>\n",
              "      <th>78</th>\n",
              "      <td>78</td>\n",
              "      <td>22.01.2022</td>\n",
              "      <td>22:00</td>\n",
              "      <td>BRASIL</td>\n",
              "      <td>CAMPEONATO PARANAENSE - RODADA 1</td>\n",
              "      <td>Cascavel</td>\n",
              "      <td>Rio Branco-PR</td>\n",
              "    </tr>\n",
              "    <tr>\n",
              "      <th>79</th>\n",
              "      <td>79</td>\n",
              "      <td>22.01.2022</td>\n",
              "      <td>19:00</td>\n",
              "      <td>BRASIL</td>\n",
              "      <td>CAMPEONATO PARANAENSE - RODADA 1</td>\n",
              "      <td>Coritiba</td>\n",
              "      <td>Cianorte</td>\n",
              "    </tr>\n",
              "  </tbody>\n",
              "</table>\n",
              "<p>1339 rows × 7 columns</p>\n",
              "</div>\n",
              "      <button class=\"colab-df-convert\" onclick=\"convertToInteractive('df-e50a8ece-4755-4629-8052-97530571867d')\"\n",
              "              title=\"Convert this dataframe to an interactive table.\"\n",
              "              style=\"display:none;\">\n",
              "        \n",
              "  <svg xmlns=\"http://www.w3.org/2000/svg\" height=\"24px\"viewBox=\"0 0 24 24\"\n",
              "       width=\"24px\">\n",
              "    <path d=\"M0 0h24v24H0V0z\" fill=\"none\"/>\n",
              "    <path d=\"M18.56 5.44l.94 2.06.94-2.06 2.06-.94-2.06-.94-.94-2.06-.94 2.06-2.06.94zm-11 1L8.5 8.5l.94-2.06 2.06-.94-2.06-.94L8.5 2.5l-.94 2.06-2.06.94zm10 10l.94 2.06.94-2.06 2.06-.94-2.06-.94-.94-2.06-.94 2.06-2.06.94z\"/><path d=\"M17.41 7.96l-1.37-1.37c-.4-.4-.92-.59-1.43-.59-.52 0-1.04.2-1.43.59L10.3 9.45l-7.72 7.72c-.78.78-.78 2.05 0 2.83L4 21.41c.39.39.9.59 1.41.59.51 0 1.02-.2 1.41-.59l7.78-7.78 2.81-2.81c.8-.78.8-2.07 0-2.86zM5.41 20L4 18.59l7.72-7.72 1.47 1.35L5.41 20z\"/>\n",
              "  </svg>\n",
              "      </button>\n",
              "      \n",
              "  <style>\n",
              "    .colab-df-container {\n",
              "      display:flex;\n",
              "      flex-wrap:wrap;\n",
              "      gap: 12px;\n",
              "    }\n",
              "\n",
              "    .colab-df-convert {\n",
              "      background-color: #E8F0FE;\n",
              "      border: none;\n",
              "      border-radius: 50%;\n",
              "      cursor: pointer;\n",
              "      display: none;\n",
              "      fill: #1967D2;\n",
              "      height: 32px;\n",
              "      padding: 0 0 0 0;\n",
              "      width: 32px;\n",
              "    }\n",
              "\n",
              "    .colab-df-convert:hover {\n",
              "      background-color: #E2EBFA;\n",
              "      box-shadow: 0px 1px 2px rgba(60, 64, 67, 0.3), 0px 1px 3px 1px rgba(60, 64, 67, 0.15);\n",
              "      fill: #174EA6;\n",
              "    }\n",
              "\n",
              "    [theme=dark] .colab-df-convert {\n",
              "      background-color: #3B4455;\n",
              "      fill: #D2E3FC;\n",
              "    }\n",
              "\n",
              "    [theme=dark] .colab-df-convert:hover {\n",
              "      background-color: #434B5C;\n",
              "      box-shadow: 0px 1px 3px 1px rgba(0, 0, 0, 0.15);\n",
              "      filter: drop-shadow(0px 1px 2px rgba(0, 0, 0, 0.3));\n",
              "      fill: #FFFFFF;\n",
              "    }\n",
              "  </style>\n",
              "\n",
              "      <script>\n",
              "        const buttonEl =\n",
              "          document.querySelector('#df-e50a8ece-4755-4629-8052-97530571867d button.colab-df-convert');\n",
              "        buttonEl.style.display =\n",
              "          google.colab.kernel.accessAllowed ? 'block' : 'none';\n",
              "\n",
              "        async function convertToInteractive(key) {\n",
              "          const element = document.querySelector('#df-e50a8ece-4755-4629-8052-97530571867d');\n",
              "          const dataTable =\n",
              "            await google.colab.kernel.invokeFunction('convertToInteractive',\n",
              "                                                     [key], {});\n",
              "          if (!dataTable) return;\n",
              "\n",
              "          const docLinkHtml = 'Like what you see? Visit the ' +\n",
              "            '<a target=\"_blank\" href=https://colab.research.google.com/notebooks/data_table.ipynb>data table notebook</a>'\n",
              "            + ' to learn more about interactive tables.';\n",
              "          element.innerHTML = '';\n",
              "          dataTable['output_type'] = 'display_data';\n",
              "          await google.colab.output.renderOutput(dataTable, element);\n",
              "          const docLink = document.createElement('div');\n",
              "          docLink.innerHTML = docLinkHtml;\n",
              "          element.appendChild(docLink);\n",
              "        }\n",
              "      </script>\n",
              "    </div>\n",
              "  </div>\n",
              "  "
            ]
          },
          "metadata": {},
          "execution_count": 74
        }
      ]
    },
    {
      "cell_type": "code",
      "source": [
        "# Transformando a tabela final (DataFrame) em um arquivo Excel\n",
        "\n",
        "tabela_final.to_excel('calendario_jogos_Brasil.xlsx')"
      ],
      "metadata": {
        "id": "q9vByMpxElxp"
      },
      "execution_count": null,
      "outputs": []
    }
  ],
  "metadata": {
    "colab": {
      "provenance": [],
      "include_colab_link": true
    },
    "kernelspec": {
      "display_name": "Python 3",
      "name": "python3"
    },
    "language_info": {
      "name": "python"
    }
  },
  "nbformat": 4,
  "nbformat_minor": 0
}