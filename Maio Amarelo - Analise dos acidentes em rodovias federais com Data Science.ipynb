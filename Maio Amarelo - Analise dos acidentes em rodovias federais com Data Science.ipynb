{
 "cells": [
  {
   "cell_type": "markdown",
   "metadata": {},
   "source": [
    "# Maio Amarelo: Análise dos acidentes em rodovias federais com Data Science"
   ]
  },
  {
   "cell_type": "markdown",
   "metadata": {},
   "source": [
    "No ano de 2018, conforme dados do Observatório Nacional de Segurança Viária (ONSV) - https://bit.ly/2KW0n05, ocorreram mais de 32 mil mortes decorrentes de acidentes de trânsito no território brasileiro. Número este bem expressivo e que nos leva a perceber a necessidade de ações voltadas para a conscientização e acima de tudo educação no trânsito.\n",
    "\n",
    "Tendo isso em mente, foi criado o **Maio Amarelo**."
   ]
  },
  {
      "cell_type": "markdown",
      "metadata": {
        "id": "DqDynj5dZwG9"
      },
      "source": [
        "<p align=center>\r\n",
        "  <img src=\"https://www.isocertificateonline.in/wp-content/uploads/2018/10/ISO-e1538996534469.png\" height=\"100px\">\r\n",
        "</p>"
   ]
  },
  {
   "cell_type": "markdown",
   "metadata": {},
   "source": [
    "É um movimento internacional de conscientização para redução de acidentes de trânsito.\n",
    "\n",
    "Em 11 de maio de 2011, a ONU decretou a Década de Ação para Segurança no Trânsito. Com isso, o mês de maio se tornou referência mundial para balanço das ações que o mundo inteiro realiza.\n",
    "\n",
    "O que trago neste artigo é muito mais que apenas um artigo de Ciência de Dados. É uma pequena contribuição que visa ajudar a entender a extensão desse problema no Brasil, além de incentivar o Maio Amarelo dentro da comunidade Python e Data Science."
   ]
  },
  {
   "cell_type": "markdown",
   "metadata": {},
   "source": [
    "## Descrição dos dados"
   ]
  },
  {
   "cell_type": "markdown",
   "metadata": {},
   "source": [
    "Nesta análise vamos trabalhar com os dados referentes a acidentes em rodovias federais ocorridos no ano de 2018. \n",
    "\n",
    "Na página do Kaggle (https://bit.ly/3n9GO1w), estão disponibilizados os dados de acidentes em rodovias federais do período de Jan/2007 a Jul/2019, dados estes abertos ao público e retirados do portal da Polícia Rodoviária Federal."
   ]
  },
  {
   "cell_type": "code",
   "execution_count": 26,
   "metadata": {},
   "outputs": [],
   "source": [
    "# Importando os pacotes necessários\n",
    "import pandas as pd\n",
    "import seaborn as sns\n",
    "import matplotlib.pyplot as plt"
   ]
  },
  {
   "cell_type": "code",
   "execution_count": 27,
   "metadata": {},
   "outputs": [],
   "source": [
    "# Importando a base de dados para um DataFrame\n",
    "df = pd.read_excel('datatran2018.xlsx')"
   ]
  },
  {
   "cell_type": "code",
   "execution_count": 39,
   "metadata": {},
   "outputs": [
    {
     "data": {
      "text/html": [
       "<div>\n",
       "<style scoped>\n",
       "    .dataframe tbody tr th:only-of-type {\n",
       "        vertical-align: middle;\n",
       "    }\n",
       "\n",
       "    .dataframe tbody tr th {\n",
       "        vertical-align: top;\n",
       "    }\n",
       "\n",
       "    .dataframe thead th {\n",
       "        text-align: right;\n",
       "    }\n",
       "</style>\n",
       "<table border=\"1\" class=\"dataframe\">\n",
       "  <thead>\n",
       "    <tr style=\"text-align: right;\">\n",
       "      <th></th>\n",
       "      <th>id</th>\n",
       "      <th>data_inversa</th>\n",
       "      <th>dia_semana</th>\n",
       "      <th>horario</th>\n",
       "      <th>uf</th>\n",
       "      <th>br</th>\n",
       "      <th>km</th>\n",
       "      <th>municipio</th>\n",
       "      <th>causa_acidente</th>\n",
       "      <th>tipo_acidente</th>\n",
       "      <th>...</th>\n",
       "      <th>feridos_graves</th>\n",
       "      <th>ilesos</th>\n",
       "      <th>ignorados</th>\n",
       "      <th>feridos</th>\n",
       "      <th>veiculos</th>\n",
       "      <th>latitude</th>\n",
       "      <th>longitude</th>\n",
       "      <th>regional</th>\n",
       "      <th>delegacia</th>\n",
       "      <th>uop</th>\n",
       "    </tr>\n",
       "  </thead>\n",
       "  <tbody>\n",
       "    <tr>\n",
       "      <th>0</th>\n",
       "      <td>99973</td>\n",
       "      <td>2018-01-01</td>\n",
       "      <td>segunda-feira</td>\n",
       "      <td>00:20:00</td>\n",
       "      <td>RJ</td>\n",
       "      <td>116.0</td>\n",
       "      <td>303.5</td>\n",
       "      <td>RESENDE</td>\n",
       "      <td>Condutor Dormindo</td>\n",
       "      <td>Saída de leito carroçável</td>\n",
       "      <td>...</td>\n",
       "      <td>4</td>\n",
       "      <td>1</td>\n",
       "      <td>0</td>\n",
       "      <td>4</td>\n",
       "      <td>1</td>\n",
       "      <td>-2.246937e+06</td>\n",
       "      <td>-4.444705e+06</td>\n",
       "      <td>SR-RJ</td>\n",
       "      <td>DEL5/7</td>\n",
       "      <td>UOP03/RJ</td>\n",
       "    </tr>\n",
       "    <tr>\n",
       "      <th>1</th>\n",
       "      <td>99976</td>\n",
       "      <td>2018-01-01</td>\n",
       "      <td>segunda-feira</td>\n",
       "      <td>00:40:00</td>\n",
       "      <td>SC</td>\n",
       "      <td>282.0</td>\n",
       "      <td>0.4</td>\n",
       "      <td>FLORIANOPOLIS</td>\n",
       "      <td>Não guardar distância de segurança</td>\n",
       "      <td>Colisão traseira</td>\n",
       "      <td>...</td>\n",
       "      <td>2</td>\n",
       "      <td>1</td>\n",
       "      <td>0</td>\n",
       "      <td>2</td>\n",
       "      <td>2</td>\n",
       "      <td>-2.759972e+09</td>\n",
       "      <td>-4.857566e+09</td>\n",
       "      <td>SR-SC</td>\n",
       "      <td>DEL8/1</td>\n",
       "      <td>UOP01/SC</td>\n",
       "    </tr>\n",
       "    <tr>\n",
       "      <th>2</th>\n",
       "      <td>99977</td>\n",
       "      <td>2018-01-01</td>\n",
       "      <td>segunda-feira</td>\n",
       "      <td>00:30:00</td>\n",
       "      <td>RJ</td>\n",
       "      <td>493.0</td>\n",
       "      <td>1.0</td>\n",
       "      <td>ITABORAI</td>\n",
       "      <td>Ultrapassagem Indevida</td>\n",
       "      <td>Colisão frontal</td>\n",
       "      <td>...</td>\n",
       "      <td>0</td>\n",
       "      <td>3</td>\n",
       "      <td>1</td>\n",
       "      <td>1</td>\n",
       "      <td>3</td>\n",
       "      <td>-2.276390e+07</td>\n",
       "      <td>-4.292753e+07</td>\n",
       "      <td>SR-RJ</td>\n",
       "      <td>DEL5/4</td>\n",
       "      <td>UOP02/RJ</td>\n",
       "    </tr>\n",
       "    <tr>\n",
       "      <th>3</th>\n",
       "      <td>99981</td>\n",
       "      <td>2018-01-01</td>\n",
       "      <td>segunda-feira</td>\n",
       "      <td>01:15:00</td>\n",
       "      <td>RS</td>\n",
       "      <td>386.0</td>\n",
       "      <td>134.0</td>\n",
       "      <td>SARANDI</td>\n",
       "      <td>Ingestão de Álcool</td>\n",
       "      <td>Colisão transversal</td>\n",
       "      <td>...</td>\n",
       "      <td>0</td>\n",
       "      <td>2</td>\n",
       "      <td>0</td>\n",
       "      <td>0</td>\n",
       "      <td>2</td>\n",
       "      <td>-2.795364e+07</td>\n",
       "      <td>-5.291637e+07</td>\n",
       "      <td>SR-RS</td>\n",
       "      <td>DEL9/14</td>\n",
       "      <td>UOP01/RS</td>\n",
       "    </tr>\n",
       "    <tr>\n",
       "      <th>4</th>\n",
       "      <td>99982</td>\n",
       "      <td>2018-01-01</td>\n",
       "      <td>segunda-feira</td>\n",
       "      <td>00:20:00</td>\n",
       "      <td>RS</td>\n",
       "      <td>293.0</td>\n",
       "      <td>151.7</td>\n",
       "      <td>CANDIOTA</td>\n",
       "      <td>Falta de Atenção à Condução</td>\n",
       "      <td>Saída de leito carroçável</td>\n",
       "      <td>...</td>\n",
       "      <td>1</td>\n",
       "      <td>0</td>\n",
       "      <td>0</td>\n",
       "      <td>1</td>\n",
       "      <td>1</td>\n",
       "      <td>-3.139521e+07</td>\n",
       "      <td>-5.378391e+09</td>\n",
       "      <td>SR-RS</td>\n",
       "      <td>DEL9/11</td>\n",
       "      <td>UOP03/RS</td>\n",
       "    </tr>\n",
       "  </tbody>\n",
       "</table>\n",
       "<p>5 rows × 30 columns</p>\n",
       "</div>"
      ],
      "text/plain": [
       "      id data_inversa     dia_semana   horario  uf     br     km  \\\n",
       "0  99973   2018-01-01  segunda-feira  00:20:00  RJ  116.0  303.5   \n",
       "1  99976   2018-01-01  segunda-feira  00:40:00  SC  282.0    0.4   \n",
       "2  99977   2018-01-01  segunda-feira  00:30:00  RJ  493.0    1.0   \n",
       "3  99981   2018-01-01  segunda-feira  01:15:00  RS  386.0  134.0   \n",
       "4  99982   2018-01-01  segunda-feira  00:20:00  RS  293.0  151.7   \n",
       "\n",
       "       municipio                      causa_acidente  \\\n",
       "0        RESENDE                   Condutor Dormindo   \n",
       "1  FLORIANOPOLIS  Não guardar distância de segurança   \n",
       "2       ITABORAI              Ultrapassagem Indevida   \n",
       "3        SARANDI                  Ingestão de Álcool   \n",
       "4       CANDIOTA         Falta de Atenção à Condução   \n",
       "\n",
       "               tipo_acidente  ... feridos_graves ilesos ignorados feridos  \\\n",
       "0  Saída de leito carroçável  ...              4      1         0       4   \n",
       "1           Colisão traseira  ...              2      1         0       2   \n",
       "2            Colisão frontal  ...              0      3         1       1   \n",
       "3        Colisão transversal  ...              0      2         0       0   \n",
       "4  Saída de leito carroçável  ...              1      0         0       1   \n",
       "\n",
       "  veiculos      latitude     longitude  regional  delegacia       uop  \n",
       "0        1 -2.246937e+06 -4.444705e+06     SR-RJ     DEL5/7  UOP03/RJ  \n",
       "1        2 -2.759972e+09 -4.857566e+09     SR-SC     DEL8/1  UOP01/SC  \n",
       "2        3 -2.276390e+07 -4.292753e+07     SR-RJ     DEL5/4  UOP02/RJ  \n",
       "3        2 -2.795364e+07 -5.291637e+07     SR-RS    DEL9/14  UOP01/RS  \n",
       "4        1 -3.139521e+07 -5.378391e+09     SR-RS    DEL9/11  UOP03/RS  \n",
       "\n",
       "[5 rows x 30 columns]"
      ]
     },
     "execution_count": 39,
     "metadata": {},
     "output_type": "execute_result"
    }
   ],
   "source": [
    "# Visualizando as primeiras 5 linhas do DataFrame\n",
    "df.head(5)"
   ]
  },
  {
   "cell_type": "code",
   "execution_count": 29,
   "metadata": {},
   "outputs": [
    {
     "data": {
      "text/plain": [
       "Index(['id', 'data_inversa', 'dia_semana', 'horario', 'uf', 'br', 'km',\n",
       "       'municipio', 'causa_acidente', 'tipo_acidente',\n",
       "       'classificacao_acidente', 'fase_dia', 'sentido_via',\n",
       "       'condicao_metereologica', 'tipo_pista', 'tracado_via', 'uso_solo',\n",
       "       'pessoas', 'mortos', 'feridos_leves', 'feridos_graves', 'ilesos',\n",
       "       'ignorados', 'feridos', 'veiculos', 'latitude', 'longitude', 'regional',\n",
       "       'delegacia', 'uop'],\n",
       "      dtype='object')"
      ]
     },
     "execution_count": 29,
     "metadata": {},
     "output_type": "execute_result"
    }
   ],
   "source": [
    "# Verificando as variáveis (Colunas) presentes no DataFrame\n",
    "df.columns"
   ]
  },
  {
   "cell_type": "code",
   "execution_count": 30,
   "metadata": {},
   "outputs": [
    {
     "data": {
      "text/plain": [
       "(69206, 30)"
      ]
     },
     "execution_count": 30,
     "metadata": {},
     "output_type": "execute_result"
    }
   ],
   "source": [
    "# Verificando o tamanho (Linhas e colunas) do DataFrame\n",
    "df.shape"
   ]
  },
  {
   "cell_type": "markdown",
   "metadata": {},
   "source": [
    "## Dicionário de Variáveis\n",
    "\n",
    "Esse arquivo .xlsx possui 30 colunas (variáveis), sendo elas:\n",
    "\n",
    "* **id:** Número da ocorrência.\n",
    "\n",
    "\n",
    "* **data_inversa:** Data da ocorrência (ano-mês-dia).\n",
    "\n",
    "\n",
    "* **dia_semana:** Dia da semana da ocorrência.\n",
    "\n",
    "\n",
    "* **horario:** Horário da ocorrência.\n",
    "\n",
    "\n",
    "* **uf:** Estado (Unidade da Federação) da ocorrência.\n",
    "\n",
    "\n",
    "* **br:** Rodovia da ocorrência.\n",
    "\n",
    "\n",
    "* **km:** Altura da rodovia onde foi a ocorrência.\n",
    "\n",
    "\n",
    "* **municipio:** Município da ocorrência.\n",
    "\n",
    "\n",
    "* **causa_acidente:** Causa da ocorrência.\n",
    "\n",
    "\n",
    "* **tipo_acidente:** Tipo da ocorrência.\n",
    "\n",
    "\n",
    "* **classificacao_acidente:** Classificação da ocorrência (Com ou sem vítimas).\n",
    "\n",
    "\n",
    "* **fase_dia:** Fase do dia na qual se deu a ocorrência (Pleno dia, Plena noite, Amanhecer, Anoitecer).\n",
    "\n",
    "\n",
    "* **sentido_via:** Sentido da via no qual se deu a ocorrência (Decrescente, crescente).\n",
    "\n",
    "\n",
    "* **condicao_metereologica:** Condição meteorológica no momento da ocorrência.\n",
    "\n",
    "\n",
    "* **tipo_pista:** Tipo de pista na qual se deu a ocorrência (Simples, Dupla, Múltipla)."
   ]
  },
  {
   "cell_type": "code",
   "execution_count": null,
   "metadata": {},
   "outputs": [],
   "source": []
  }
 ],
 "metadata": {
  "kernelspec": {
   "display_name": "Python 3",
   "language": "python",
   "name": "python3"
  },
  "language_info": {
   "codemirror_mode": {
    "name": "ipython",
    "version": 3
   },
   "file_extension": ".py",
   "mimetype": "text/x-python",
   "name": "python",
   "nbconvert_exporter": "python",
   "pygments_lexer": "ipython3",
   "version": "3.8.5"
  }
 },
 "nbformat": 4,
 "nbformat_minor": 4
}
